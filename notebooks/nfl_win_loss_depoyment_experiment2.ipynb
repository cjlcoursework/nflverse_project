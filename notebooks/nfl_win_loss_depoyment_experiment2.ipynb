{
 "cells": [
  {
   "cell_type": "markdown",
   "source": [
    "<div style=\"background-color: teal; padding: 10px;\">\n",
    "    <h3 style=\"color: white;\">Experiment Two - Win/Loss Deployment</h3>\n",
    "</div>"
   ],
   "metadata": {
    "collapsed": false
   }
  },
  {
   "cell_type": "markdown",
   "source": [
    "This is the **start** of deployment for a win/loss service.  The difference between this and the previous experiment is that we are building the functionality to predict the outcome of a game between two teams that have not played each other before.\n",
    "\n",
    "This is a work in progress\n",
    "\n",
    "<br>\n",
    "\n",
    "#### Goal\n",
    "\n",
    "To tackle the first part of a deployment of the experiment 2 win/loss model.\n",
    "\n",
    "We'll just work on the mechanics of getting a request for two teams, stitching the team's stats together, and returning a prediction.\n",
    "\n",
    "<br>\n",
    "\n",
    "#### Background\n",
    "\n",
    "In real-life we woud be querying a match between two teams.\n",
    "\n",
    "We would not have a record specifically for those teams facing off against each other, so we would have to create one.\n",
    "\n",
    "So we take the offense and defense stats of each team and stitch them together into a 'new' X_Test record.\n",
    "\n",
    "We have already used ll of the 2022 season to validate the train the model, but we can still re-use it to buid the deployment.  The results are not as critical as the basic functionality.\n",
    "\n",
    "So we'll:\n",
    "\n",
    "- feed the 2022 season one at a time - just providing the two team names\n",
    "\n",
    "\n",
    "- the deployment will already have stats for each team from the ETL we've already created,\n",
    "\n",
    "\n",
    "- so we'll stitch them together into a single record\n",
    "\n",
    "\n",
    "#### Scope\n",
    "\n",
    "- We'll just work on the mechanics of stitching two teams's stats together into a proper input record and submitting it to the model, and validating what we already know - who really won or lost\n",
    "\n",
    "- This is still a 'toy' model.  We are staring on the deployment as a learning process.\n",
    "\n",
    "- A major todo is that we need to be able to handle the cases in early weeks when our data might not be as good\n",
    "\n",
    "- For this run we'll just get the mechanics of stitching the teams together into a proper input record and submitting it to the model, and validating what we already know - who really won or lost\n",
    "\n",
    "\n",
    "#### Input\n",
    "We can't use the same data we used to train or test the model, because those game were already played and we are trying to build the mechanics to predict a game that has not yet occurred.  So we start with the data we used to build the train set.\n",
    "\n",
    "- tmp_defense_week_features.parquet\n",
    "- tmp_offense_week_features.parquet\n",
    "- pbp_actions.parquet\n",
    "\n",
    "- team_week_model.keras\n",
    "- team_week_scaler.pkl\n",
    "-\n",
    "\n",
    "#### Steps:\n",
    "\n",
    "- use the 2022 to feed in game requests one-at-at-time to the pre-trained model\n",
    "- predict each game and compare to the actual result\n",
    "\n",
    "\n",
    "#### Output\n",
    "\n",
    "- personal satisfaction\n",
    "\n",
    "#### Next Steps\n",
    "\n",
    "- hide any future data from the model, providing only previous weeks, and re-tune the model\n",
    "\n",
    "- handle the cases in early weeks when our data might not be as good\n",
    "\n",
    "- feed the 2022 season one at a time - only providing weeks less than the week we are requesting\n",
    "\n",
    "- complete the ETL to pick up data weekly from the NFL site - so we always have the latest data\n",
    "\n",
    "- depending on timeliness it could be necessary to scrape the data from the source raher than relying on nflverse\n",
    "\n"
   ],
   "metadata": {
    "collapsed": false
   }
  },
  {
   "cell_type": "markdown",
   "source": [
    "<div style=\"background-color: teal; padding: 10px;\">\n",
    "    <h3 style=\"color: white;\">imports</h3>\n",
    "</div>\n",
    "\n",
    "We'll take care of some housekeeping here - importing libraries, setting up the environment, etc."
   ],
   "metadata": {
    "collapsed": false
   }
  },
  {
   "cell_type": "code",
   "execution_count": 9,
   "outputs": [],
   "source": [
    "import os\n",
    "import sys\n",
    "\n",
    "sys.path.append(os.path.abspath(\"../src\"))"
   ],
   "metadata": {
    "collapsed": false,
    "ExecuteTime": {
     "end_time": "2023-07-27T19:09:49.676673Z",
     "start_time": "2023-07-27T19:09:49.661825Z"
    }
   }
  },
  {
   "cell_type": "code",
   "execution_count": 10,
   "outputs": [],
   "source": [
    "\n",
    "\n",
    "from src.nfl_04_merge_game_features import load_file\n",
    "import warnings\n",
    "\n",
    "warnings.filterwarnings('ignore')\n"
   ],
   "metadata": {
    "collapsed": false,
    "ExecuteTime": {
     "end_time": "2023-07-27T19:09:49.693408Z",
     "start_time": "2023-07-27T19:09:49.683671Z"
    }
   }
  },
  {
   "cell_type": "code",
   "execution_count": 11,
   "outputs": [],
   "source": [
    "from src import *"
   ],
   "metadata": {
    "collapsed": false,
    "ExecuteTime": {
     "end_time": "2023-07-27T19:09:49.703590Z",
     "start_time": "2023-07-27T19:09:49.696527Z"
    }
   }
  },
  {
   "cell_type": "markdown",
   "source": [
    "<div style=\"background-color: teal; padding: 10px;\">\n",
    "    <h3 style=\"color: white;\">Feed the 2022 games</h3>\n",
    "</div>\n",
    "\n",
    "- feed the 2022 season one at a time - just providing the two team names, then\n",
    "\n",
    "- the deployment will already have stats for each team from the ETL we've already created,\n",
    "    so we'll stitch them together into a single record\n",
    "\n"
   ],
   "metadata": {
    "collapsed": false
   }
  },
  {
   "cell_type": "markdown",
   "source": [
    "#### helper functions to feed the data in"
   ],
   "metadata": {
    "collapsed": false
   }
  },
  {
   "cell_type": "code",
   "execution_count": 12,
   "outputs": [],
   "source": [
    "def request_generator(season, week=5):\n",
    "    pbp_actions_df = load_file(get_config('data_directory'), get_config('action_week_prep'))\n",
    "    pbp_actions_df = pbp_actions_df.loc[(pbp_actions_df['season'] == season) & (pbp_actions_df['week'] == week)] \\\n",
    "        .sort_values(by=['week'])[['season', 'week', 'game_id', 'home_team', 'away_team', 'home_final_score', 'away_final_score']] \\\n",
    "        .drop_duplicates()\n",
    "\n",
    "    print(f\"Will generate {pbp_actions_df.shape[0]} requests\")\n",
    "\n",
    "    for index, row in pbp_actions_df.iterrows():\n",
    "        game = row[['season', 'week', 'game_id', 'home_team', 'away_team', 'home_final_score', 'away_final_score']].to_dict()\n",
    "        game['win_lose'] = 1 if game['home_final_score'] >= game['away_final_score'] else 0\n",
    "        yield game\n"
   ],
   "metadata": {
    "collapsed": false,
    "ExecuteTime": {
     "end_time": "2023-07-27T19:09:49.712990Z",
     "start_time": "2023-07-27T19:09:49.703983Z"
    }
   }
  },
  {
   "cell_type": "markdown",
   "source": [
    "#### instantiate the deployment class\n",
    "This class loads the model, the scaler, and the stats for each team\n",
    "It handles requests for creating a 'match' between two teams\n",
    "It performs the stitching of the two teams into a single record"
   ],
   "metadata": {
    "collapsed": false
   }
  },
  {
   "cell_type": "code",
   "execution_count": 13,
   "outputs": [
    {
     "name": "stdout",
     "output_type": "stream",
     "text": [
      "Model: \"sequential\"\n",
      "_________________________________________________________________\n",
      " Layer (type)                Output Shape              Param #   \n",
      "=================================================================\n",
      " dense (Dense)               (None, 246)               8610      \n",
      "                                                                 \n",
      " dense_1 (Dense)             (None, 164)               40508     \n",
      "                                                                 \n",
      " dense_2 (Dense)             (None, 100)               16500     \n",
      "                                                                 \n",
      " dense_3 (Dense)             (None, 100)               10100     \n",
      "                                                                 \n",
      " dense_4 (Dense)             (None, 64)                6464      \n",
      "                                                                 \n",
      " dense_5 (Dense)             (None, 32)                2080      \n",
      "                                                                 \n",
      " dense_6 (Dense)             (None, 1)                 33        \n",
      "                                                                 \n",
      "=================================================================\n",
      "Total params: 84295 (329.28 KB)\n",
      "Trainable params: 84295 (329.28 KB)\n",
      "Non-trainable params: 0 (0.00 Byte)\n",
      "_________________________________________________________________\n"
     ]
    }
   ],
   "source": [
    "from src.serve.serve_model import NFLWinLossDeployment\n",
    "\n",
    "deployment = NFLWinLossDeployment(season=2022, week=1)\n"
   ],
   "metadata": {
    "collapsed": false,
    "ExecuteTime": {
     "end_time": "2023-07-27T19:09:49.943896Z",
     "start_time": "2023-07-27T19:09:49.714312Z"
    }
   }
  },
  {
   "cell_type": "markdown",
   "source": [
    "#### create the request generator for week 1 of 2022"
   ],
   "metadata": {
    "collapsed": false
   }
  },
  {
   "cell_type": "code",
   "execution_count": 14,
   "outputs": [],
   "source": [
    "requests = request_generator(season=2022, week=1)"
   ],
   "metadata": {
    "collapsed": false,
    "ExecuteTime": {
     "end_time": "2023-07-27T19:09:49.946453Z",
     "start_time": "2023-07-27T19:09:49.944733Z"
    }
   }
  },
  {
   "cell_type": "markdown",
   "source": [
    "#### feed requests into the deployment one at a time"
   ],
   "metadata": {
    "collapsed": false
   }
  },
  {
   "cell_type": "code",
   "execution_count": 15,
   "outputs": [
    {
     "name": "stderr",
     "output_type": "stream",
     "text": [
      "2023-07-27 12:09:49,947 - INFO - Reading from tmp_weekly_play_actions\n"
     ]
    },
    {
     "name": "stdout",
     "output_type": "stream",
     "text": [
      "Will generate 16 requests\n",
      "Request a prediction for ARI vs KC\t\tresults: prediction: 0, actual: 0  \tcorrect \n",
      "Request a prediction for SEA vs DEN\t\tresults: prediction: 1, actual: 1  \tcorrect \n",
      "Request a prediction for DAL vs TB\t\tresults: prediction: 0, actual: 0  \tcorrect \n",
      "Request a prediction for DET vs PHI\t\tresults: prediction: 0, actual: 0  \tcorrect \n",
      "Request a prediction for HOU vs IND\t\tresults: prediction: 0, actual: 1  \t \n"
     ]
    },
    {
     "name": "stderr",
     "output_type": "stream",
     "text": [
      "2023-07-27 12:09:50.175038: I tensorflow/core/grappler/optimizers/custom_graph_optimizer_registry.cc:114] Plugin optimizer for device_type GPU is enabled.\n"
     ]
    },
    {
     "name": "stdout",
     "output_type": "stream",
     "text": [
      "Request a prediction for LA vs BUF\t\tresults: prediction: 0, actual: 0  \tcorrect \n",
      "Request a prediction for CAR vs CLE\t\tresults: prediction: 0, actual: 0  \tcorrect \n",
      "Request a prediction for CHI vs SF\t\tresults: prediction: 1, actual: 1  \tcorrect \n",
      "Request a prediction for MIA vs NE\t\tresults: prediction: 1, actual: 1  \tcorrect \n",
      "Request a prediction for CIN vs PIT\t\tresults: prediction: 0, actual: 0  \tcorrect \n",
      "Request a prediction for NYJ vs BAL\t\tresults: prediction: 0, actual: 0  \tcorrect \n",
      "Request a prediction for WAS vs JAX\t\tresults: prediction: 1, actual: 1  \tcorrect \n",
      "Request a prediction for MIN vs GB\t\tresults: prediction: 1, actual: 1  \tcorrect \n",
      "Request a prediction for TEN vs NYG\t\tresults: prediction: 0, actual: 0  \tcorrect \n",
      "Request a prediction for ATL vs NO\t\tresults: prediction: 1, actual: 0  \t \n",
      "Request a prediction for LAC vs LV\t\tresults: prediction: 1, actual: 1  \tcorrect \n"
     ]
    }
   ],
   "source": [
    "\n",
    "# Iterate through the 2022 request generator and print each row\n",
    "stats = []\n",
    "total = 0\n",
    "corrects = 0\n",
    "for row in requests:\n",
    "    total += 1\n",
    "\n",
    "    # save the actual result\n",
    "    y_actual = row['win_lose']\n",
    "\n",
    "    # create a match between the two teams - stitching thier stats into one input record\n",
    "    match_df = deployment.create_match(row['home_team'], row['away_team'])\n",
    "\n",
    "    # perform the prediction\n",
    "    y_pred = deployment.predict(match_df[configs.ml_win_lose_features])\n",
    "\n",
    "    # keep track of how we did\n",
    "    stats.append(dict(home=row['home_team'], away=row['away_team'], y_actual=y_actual, y_pred=y_pred))\n",
    "    if y_actual == y_pred:\n",
    "        corrects += 1\n",
    "    print(f\"Request a prediction for {row['home_team']} vs {row['away_team']}\\t\\tresults: prediction: {y_pred}, actual: {y_actual}  \\t{'correct' if y_actual == y_pred else ''} \")\n",
    "    if total > 20:\n",
    "        break\n",
    "\n"
   ],
   "metadata": {
    "collapsed": false,
    "ExecuteTime": {
     "end_time": "2023-07-27T19:09:50.633987Z",
     "start_time": "2023-07-27T19:09:49.949116Z"
    }
   }
  },
  {
   "cell_type": "markdown",
   "source": [
    "#### print the results"
   ],
   "metadata": {
    "collapsed": false
   }
  },
  {
   "cell_type": "code",
   "execution_count": 16,
   "outputs": [
    {
     "name": "stdout",
     "output_type": "stream",
     "text": [
      "total requests: 16,  correct predictions: 14,  accuracy: 0.875\n"
     ]
    }
   ],
   "source": [
    "print(f\"total requests: {total},  correct predictions: {corrects},  accuracy: {corrects / total}\")\n"
   ],
   "metadata": {
    "collapsed": false,
    "ExecuteTime": {
     "end_time": "2023-07-27T19:09:50.637127Z",
     "start_time": "2023-07-27T19:09:50.634341Z"
    }
   }
  }
 ],
 "metadata": {
  "kernelspec": {
   "display_name": "Python 3",
   "language": "python",
   "name": "python3"
  },
  "language_info": {
   "codemirror_mode": {
    "name": "ipython",
    "version": 2
   },
   "file_extension": ".py",
   "mimetype": "text/x-python",
   "name": "python",
   "nbconvert_exporter": "python",
   "pygments_lexer": "ipython2",
   "version": "2.7.6"
  }
 },
 "nbformat": 4,
 "nbformat_minor": 0
}
