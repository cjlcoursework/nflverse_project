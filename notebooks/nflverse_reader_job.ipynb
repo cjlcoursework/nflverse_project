{
 "cells": [
  {
   "cell_type": "markdown",
   "source": [],
   "metadata": {
    "collapsed": false
   }
  },
  {
   "cell_type": "markdown",
   "source": [
    "# <font color=teal>imports</font>\n",
    "Most processing is performed in python code, and there's a python module to do everything here without manual"
   ],
   "metadata": {
    "collapsed": false
   }
  },
  {
   "cell_type": "code",
   "execution_count": 1,
   "outputs": [],
   "source": [
    "import logging\n",
    "\n",
    "from src import configs\n",
    "import os\n",
    "import sys\n",
    "sys.path.append(os.path.abspath(\"../src\"))\n",
    "\n"
   ],
   "metadata": {
    "collapsed": false,
    "ExecuteTime": {
     "end_time": "2023-07-07T01:11:05.980568Z",
     "start_time": "2023-07-07T01:11:05.539266Z"
    }
   }
  },
  {
   "cell_type": "code",
   "execution_count": 2,
   "metadata": {
    "collapsed": true,
    "ExecuteTime": {
     "end_time": "2023-07-07T01:11:37.417556Z",
     "start_time": "2023-07-07T01:11:37.296401Z"
    }
   },
   "outputs": [],
   "source": [
    "from src.nflverse_transform_job import load_files\n",
    "from src.pbp_fact import transform_pbp\n",
    "from src.nflverse_reader_job import URLReader\n",
    "from src.pbp_participation import transform_pbp_participation\n",
    "from src.player_stats import transform_player_stats, merge_injuries\n",
    "from src.player_injuries import prep_player_injuries\n",
    "from src.player_stats import transform_players\n",
    "from src.db_utils import load_dims_to_db\n"
   ]
  },
  {
   "cell_type": "markdown",
   "source": [
    "# <font color=teal>housekeeping</font>"
   ],
   "metadata": {
    "collapsed": false
   }
  },
  {
   "cell_type": "code",
   "execution_count": 3,
   "outputs": [],
   "source": [
    "LOAD_TO_DB = True\n",
    "database_schema = 'controls'\n",
    "\n",
    "# Get the logger\n",
    "logger = configs.configure_logging(\"pbp_logger\")\n",
    "logger.setLevel(logging.INFO)"
   ],
   "metadata": {
    "collapsed": false,
    "ExecuteTime": {
     "end_time": "2023-07-07T01:11:39.440472Z",
     "start_time": "2023-07-07T01:11:39.435722Z"
    }
   }
  },
  {
   "cell_type": "markdown",
   "source": [
    "# <font color=teal>read data from nflverse<font/>\n",
    "Step 1.  Read data and store immediately as raw without transformation or change"
   ],
   "metadata": {
    "collapsed": false
   }
  },
  {
   "cell_type": "code",
   "execution_count": 4,
   "outputs": [
    {
     "name": "stderr",
     "output_type": "stream",
     "text": [
      "2023-07-06 18:11:42,038 - INFO - Success: https://github.com/nflverse/nflverse-data/releases/download/nextgen_stats/ngs_2016_receiving.csv.gz\n",
      "2023-07-06 18:11:42,099 - INFO - Success: https://github.com/nflverse/nflverse-data/releases/download/nextgen_stats/ngs_2016_rushing.csv.gz\n",
      "2023-07-06 18:11:42,372 - INFO - Success: https://github.com/nflverse/nflverse-data/releases/download/nextgen_stats/ngs_2016_passing.csv.gz\n",
      "2023-07-06 18:11:42,623 - INFO - Success: https://github.com/nflverse/nflverse-data/releases/download/injuries/injuries_2016.csv\n",
      "2023-07-06 18:11:42,856 - INFO - Success: https://github.com/nflverse/nflverse-data/releases/download/players/players.csv\n",
      "2023-07-06 18:11:43,013 - INFO - Success: https://github.com/nflverse/nflverse-data/releases/download/nextgen_stats/ngs_2017_rushing.csv.gz\n",
      "2023-07-06 18:11:43,151 - INFO - Success: https://github.com/nflverse/nflverse-data/releases/download/injuries/injuries_2017.csv\n",
      "2023-07-06 18:11:43,234 - INFO - Success: https://github.com/nflverse/nflverse-data/releases/download/nextgen_stats/ngs_2017_passing.csv.gz\n",
      "2023-07-06 18:11:43,946 - INFO - Success: https://github.com/nflverse/nflverse-data/releases/download/nextgen_stats/ngs_2017_receiving.csv.gz\n",
      "2023-07-06 18:11:44,189 - INFO - Success: https://github.com/nflverse/nflverse-data/releases/download/nextgen_stats/ngs_2018_passing.csv.gz\n",
      "2023-07-06 18:11:44,422 - INFO - Success: https://github.com/nflverse/nflverse-data/releases/download/pbp_participation/pbp_participation_2016.csv\n",
      "2023-07-06 18:11:44,519 - INFO - Success: https://github.com/nflverse/nflverse-data/releases/download/player_stats/player_stats.csv\n",
      "2023-07-06 18:11:44,605 - INFO - Success: https://github.com/nflverse/nflverse-data/releases/download/injuries/injuries_2018.csv\n",
      "2023-07-06 18:11:44,844 - INFO - Success: https://github.com/nflverse/nflverse-data/releases/download/nextgen_stats/ngs_2018_rushing.csv.gz\n",
      "2023-07-06 18:11:45,007 - INFO - Success: https://github.com/nflverse/nflverse-data/releases/download/pbp_participation/pbp_participation_2017.csv\n",
      "2023-07-06 18:11:45,105 - INFO - Success: https://github.com/nflverse/nflverse-data/releases/download/nextgen_stats/ngs_2018_receiving.csv.gz\n",
      "2023-07-06 18:11:45,607 - INFO - Success: https://github.com/nflverse/nflverse-data/releases/download/pbp_participation/pbp_participation_2018.csv\n",
      "2023-07-06 18:11:45,625 - INFO - Success: https://github.com/nflverse/nflverse-data/releases/download/injuries/injuries_2019.csv\n",
      "2023-07-06 18:11:45,971 - INFO - Success: https://github.com/nflverse/nflverse-data/releases/download/nextgen_stats/ngs_2019_receiving.csv.gz\n",
      "2023-07-06 18:11:46,003 - INFO - Success: https://github.com/nflverse/nflverse-data/releases/download/nextgen_stats/ngs_2019_rushing.csv.gz\n",
      "2023-07-06 18:11:46,045 - INFO - Success: https://github.com/nflverse/nflverse-data/releases/download/nextgen_stats/ngs_2019_passing.csv.gz\n",
      "2023-07-06 18:11:47,091 - INFO - Success: https://github.com/nflverse/nflverse-data/releases/download/nextgen_stats/ngs_2020_passing.csv.gz\n",
      "2023-07-06 18:11:47,309 - INFO - Success: https://github.com/nflverse/nflverse-data/releases/download/injuries/injuries_2020.csv\n",
      "2023-07-06 18:11:47,446 - INFO - Success: https://github.com/nflverse/nflverse-data/releases/download/nextgen_stats/ngs_2020_rushing.csv.gz\n",
      "2023-07-06 18:11:48,506 - INFO - Success: https://github.com/nflverse/nflverse-data/releases/download/pbp_participation/pbp_participation_2019.csv\n",
      "2023-07-06 18:11:48,516 - INFO - Success: https://github.com/nflverse/nflverse-data/releases/download/nextgen_stats/ngs_2020_receiving.csv.gz\n",
      "2023-07-06 18:11:49,250 - INFO - Success: https://github.com/nflverse/nflverse-data/releases/download/pbp_participation/pbp_participation_2020.csv\n",
      "2023-07-06 18:11:49,498 - INFO - Success: https://github.com/nflverse/nflverse-data/releases/download/nextgen_stats/ngs_2021_passing.csv.gz\n",
      "2023-07-06 18:11:49,815 - INFO - Success: https://github.com/nflverse/nflverse-data/releases/download/injuries/injuries_2021.csv\n",
      "2023-07-06 18:11:50,003 - INFO - Success: https://github.com/nflverse/nflverse-data/releases/download/pbp/play_by_play_2016.csv\n",
      "2023-07-06 18:11:50,646 - INFO - Success: https://github.com/nflverse/nflverse-data/releases/download/nextgen_stats/ngs_2021_rushing.csv.gz\n",
      "2023-07-06 18:11:50,674 - INFO - Success: https://github.com/nflverse/nflverse-data/releases/download/nextgen_stats/ngs_2021_receiving.csv.gz\n",
      "2023-07-06 18:11:51,658 - INFO - Success: https://github.com/nflverse/nflverse-data/releases/download/nextgen_stats/ngs_2022_passing.csv.gz\n",
      "2023-07-06 18:11:51,811 - INFO - Success: https://github.com/nflverse/nflverse-data/releases/download/pbp/play_by_play_2019.csv\n",
      "2023-07-06 18:11:52,257 - INFO - Success: https://github.com/nflverse/nflverse-data/releases/download/pbp/play_by_play_2018.csv\n",
      "2023-07-06 18:11:52,313 - INFO - Success: https://github.com/nflverse/nflverse-data/releases/download/injuries/injuries_2022.csv\n",
      "2023-07-06 18:11:52,832 - INFO - Success: https://github.com/nflverse/nflverse-data/releases/download/nextgen_stats/ngs_2022_receiving.csv.gz\n",
      "2023-07-06 18:11:52,976 - INFO - Success: https://github.com/nflverse/nflverse-data/releases/download/nextgen_stats/ngs_2022_rushing.csv.gz\n",
      "2023-07-06 18:11:53,241 - INFO - Success: https://github.com/nflverse/nflverse-data/releases/download/pbp_participation/pbp_participation_2021.csv\n",
      "2023-07-06 18:11:53,265 - INFO - Success: https://github.com/nflverse/nflverse-data/releases/download/pbp_participation/pbp_participation_2022.csv\n",
      "2023-07-06 18:11:53,578 - INFO - Success: https://github.com/nflverse/nflverse-data/releases/download/pfr_advstats/advstats_season_pass.csv\n",
      "2023-07-06 18:11:53,792 - INFO - Success: https://github.com/nflverse/nflverse-data/releases/download/pfr_advstats/advstats_season_def.csv\n",
      "2023-07-06 18:11:53,804 - INFO - Success: https://github.com/nflverse/nflverse-data/releases/download/pfr_advstats/advstats_season_rush.csv\n",
      "2023-07-06 18:11:54,189 - INFO - Success: https://github.com/nflverse/nflverse-data/releases/download/pfr_advstats/advstats_season_rec.csv\n",
      "2023-07-06 18:11:55,430 - INFO - Success: https://github.com/nflverse/nflverse-data/releases/download/pbp/play_by_play_2021.csv\n",
      "2023-07-06 18:11:58,144 - INFO - Success: https://github.com/nflverse/nflverse-data/releases/download/pbp/play_by_play_2022.csv\n",
      "2023-07-06 18:11:59,692 - INFO - Success: https://github.com/nflverse/nflverse-data/releases/download/pbp/play_by_play_2020.csv\n",
      "2023-07-06 18:11:59,958 - INFO - Success: https://github.com/nflverse/nflverse-data/releases/download/pbp/play_by_play_2017.csv\n"
     ]
    },
    {
     "name": "stdout",
     "output_type": "stream",
     "text": [
      "CPU times: user 2.32 s, sys: 1.96 s, total: 4.27 s\n",
      "Wall time: 18.9 s\n"
     ]
    }
   ],
   "source": [
    "%%time\n",
    "\n",
    "reader = URLReader(start_year=2016, last_year=2022, file_type='csv')\n",
    "urls = reader.download()"
   ],
   "metadata": {
    "collapsed": false,
    "ExecuteTime": {
     "end_time": "2023-07-07T01:11:59.965743Z",
     "start_time": "2023-07-07T01:11:41.089974Z"
    }
   }
  },
  {
   "cell_type": "markdown",
   "source": [],
   "metadata": {
    "collapsed": false
   }
  },
  {
   "cell_type": "markdown",
   "source": [
    "---\n",
    "\n",
    "# <font color=teal>load and transform play by play datasets</font>"
   ],
   "metadata": {
    "collapsed": false
   }
  },
  {
   "cell_type": "markdown",
   "source": [
    "### <font color=\"#9370DB\">load</font>"
   ],
   "metadata": {
    "collapsed": false
   }
  },
  {
   "cell_type": "code",
   "execution_count": 5,
   "outputs": [
    {
     "name": "stderr",
     "output_type": "stream",
     "text": [
      "2023-07-06 18:12:06,526 - INFO - Reading all files from pbp\n",
      "2023-07-06 18:12:06,527 - INFO -   + Reading pbp_2022.csv\n",
      "2023-07-06 18:12:07,595 - INFO -   + Reading pbp_2020.csv\n",
      "2023-07-06 18:12:08,596 - INFO -   + Reading pbp_2021.csv\n",
      "2023-07-06 18:12:09,672 - INFO -   + Reading pbp_2019.csv\n",
      "2023-07-06 18:12:10,645 - INFO -   + Reading pbp_2018.csv\n",
      "2023-07-06 18:12:11,648 - INFO -   + Reading pbp_2016.csv\n",
      "2023-07-06 18:12:12,652 - INFO -   + Reading pbp_2017.csv\n"
     ]
    },
    {
     "name": "stdout",
     "output_type": "stream",
     "text": [
      "CPU times: user 6.49 s, sys: 1.38 s, total: 7.88 s\n",
      "Wall time: 8.34 s\n"
     ]
    }
   ],
   "source": [
    "\n",
    "%%time\n",
    "pbp = load_files(data_subdir='pbp')\n"
   ],
   "metadata": {
    "collapsed": false,
    "ExecuteTime": {
     "end_time": "2023-07-07T01:12:14.868843Z",
     "start_time": "2023-07-07T01:12:06.527652Z"
    }
   }
  },
  {
   "cell_type": "markdown",
   "source": [
    "### <font color=\"#9370DB\">transform</font>"
   ],
   "metadata": {
    "collapsed": false
   }
  },
  {
   "cell_type": "code",
   "execution_count": 6,
   "outputs": [
    {
     "name": "stderr",
     "output_type": "stream",
     "text": [
      "2023-07-06 18:12:18,552 - INFO - Impute columns to 0\n",
      "2023-07-06 18:12:18,745 - INFO - impute non binary pbp columns ...\n",
      "2023-07-06 18:12:19,218 - INFO - Impute columns to 0\n",
      "2023-07-06 18:12:19,753 - INFO - Impute columns to 0:00\n",
      "2023-07-06 18:12:20,847 - INFO - Impute columns to NA\n",
      "2023-07-06 18:12:25,972 - INFO - moving play_id to play_counter, and creating a joinable play_id key\n",
      "2023-07-06 18:12:26,499 - INFO - Conform key actions like pass, rush, kickoff, etc. and add a single category field called actions... \n",
      "2023-07-06 18:12:31,304 - INFO - Validate actions dimension ...\n",
      "2023-07-06 18:12:31,476 - INFO - Creating new drive dimension...\n",
      "2023-07-06 18:12:31,528 - INFO - Validate drive_df dimension ...\n",
      "2023-07-06 18:12:31,757 - INFO - Creating new situations dimension...\n",
      "2023-07-06 18:12:31,805 - INFO - Validate situation_df dimension ...\n",
      "2023-07-06 18:12:31,999 - INFO - Creating new metrics dimension...\n",
      "2023-07-06 18:12:32,038 - INFO - Validate play_metrics_df dimension ...\n",
      "2023-07-06 18:12:32,129 - INFO - Creating new game dimension...\n",
      "2023-07-06 18:12:32,411 - INFO - Validate games dimension ...\n",
      "2023-07-06 18:12:32,414 - INFO - Create stats for pbp player involvement by play ...\n",
      "2023-07-06 18:12:36,878 - INFO - Creating new analytics dimension...\n"
     ]
    },
    {
     "name": "stdout",
     "output_type": "stream",
     "text": [
      "CPU times: user 15 s, sys: 4.34 s, total: 19.3 s\n",
      "Wall time: 20 s\n"
     ]
    }
   ],
   "source": [
    "\n",
    "%%time\n",
    "datasets = transform_pbp(pbp)"
   ],
   "metadata": {
    "collapsed": false,
    "ExecuteTime": {
     "end_time": "2023-07-07T01:12:36.953162Z",
     "start_time": "2023-07-07T01:12:16.995310Z"
    }
   }
  },
  {
   "cell_type": "markdown",
   "source": [],
   "metadata": {
    "collapsed": false
   }
  },
  {
   "cell_type": "markdown",
   "source": [
    "---\n",
    "\n",
    "# <font color=teal>load and transform play by play participation datasets</font>"
   ],
   "metadata": {
    "collapsed": false
   }
  },
  {
   "cell_type": "markdown",
   "source": [
    "### <font color=\"#9370DB\">load</font>"
   ],
   "metadata": {
    "collapsed": false
   }
  },
  {
   "cell_type": "code",
   "execution_count": 7,
   "outputs": [
    {
     "name": "stderr",
     "output_type": "stream",
     "text": [
      "2023-07-06 18:12:36,953 - INFO - Reading all files from pbp-participation\n",
      "2023-07-06 18:12:36,954 - INFO -   + Reading pbp-participation_2018.csv\n",
      "2023-07-06 18:12:37,104 - INFO -   + Reading pbp-participation_2019.csv\n",
      "2023-07-06 18:12:37,249 - INFO -   + Reading pbp-participation_2021.csv\n",
      "2023-07-06 18:12:37,406 - INFO -   + Reading pbp-participation_2020.csv\n",
      "2023-07-06 18:12:37,551 - INFO -   + Reading pbp-participation_2022.csv\n",
      "2023-07-06 18:12:37,697 - INFO -   + Reading pbp-participation_2017.csv\n",
      "2023-07-06 18:12:37,851 - INFO -   + Reading pbp-participation_2016.csv\n"
     ]
    },
    {
     "name": "stdout",
     "output_type": "stream",
     "text": [
      "CPU times: user 1.11 s, sys: 111 ms, total: 1.22 s\n",
      "Wall time: 1.22 s\n"
     ]
    }
   ],
   "source": [
    "%%time\n",
    "pbp_participation_df = load_files('pbp-participation')\n"
   ],
   "metadata": {
    "collapsed": false,
    "ExecuteTime": {
     "end_time": "2023-07-07T01:12:38.180666Z",
     "start_time": "2023-07-07T01:12:36.954675Z"
    }
   }
  },
  {
   "cell_type": "markdown",
   "source": [
    "### <font color=\"#9370DB\">transform</font>"
   ],
   "metadata": {
    "collapsed": false
   }
  },
  {
   "cell_type": "code",
   "execution_count": 8,
   "outputs": [
    {
     "name": "stderr",
     "output_type": "stream",
     "text": [
      "2023-07-06 18:12:38,179 - INFO - pbp_participation:  move play_id to a play_count column and create a unique play_id that can be used in joins...\n",
      "2023-07-06 18:12:38,398 - INFO - Calculating defense and offense team names by player and play...\n",
      "2023-07-06 18:12:40,584 - INFO - Exploding offensive players to their own dataset...\n",
      "2023-07-06 18:12:41,981 - INFO - Exploding defense_players to their own dataset...\n",
      "2023-07-06 18:12:49,642 - WARNING - combining offense and defense players - counts are incorrect 6903461 != 6837089\n"
     ]
    }
   ],
   "source": [
    "\n",
    "player_df, player_events_df = transform_pbp_participation(\n",
    "    participation_df=pbp_participation_df,\n",
    "    player_events=datasets['player_events'])\n",
    "\n",
    "datasets.update({\n",
    "    'player_participation': player_df,\n",
    "    'player_events': player_events_df,\n",
    "})"
   ],
   "metadata": {
    "collapsed": false,
    "ExecuteTime": {
     "end_time": "2023-07-07T01:12:53.452489Z",
     "start_time": "2023-07-07T01:12:38.180948Z"
    }
   }
  },
  {
   "cell_type": "markdown",
   "source": [],
   "metadata": {
    "collapsed": false
   }
  },
  {
   "cell_type": "markdown",
   "source": [
    "---\n",
    "\n",
    "# <font color=teal>transform player injuries<</font>"
   ],
   "metadata": {
    "collapsed": false
   }
  },
  {
   "cell_type": "markdown",
   "source": [
    "### <font color=\"#9370DB\">load</font>"
   ],
   "metadata": {
    "collapsed": false
   }
  },
  {
   "cell_type": "code",
   "execution_count": 9,
   "outputs": [
    {
     "name": "stderr",
     "output_type": "stream",
     "text": [
      "2023-07-06 18:12:56,795 - INFO - Reading all files from injuries\n",
      "2023-07-06 18:12:56,796 - INFO -   + Reading injuries_2016.csv\n",
      "2023-07-06 18:12:56,807 - INFO -   + Reading injuries_2017.csv\n",
      "2023-07-06 18:12:56,820 - INFO -   + Reading injuries_2020.csv\n",
      "2023-07-06 18:12:56,829 - INFO -   + Reading injuries_2021.csv\n",
      "2023-07-06 18:12:56,839 - INFO -   + Reading injuries_2022.csv\n",
      "2023-07-06 18:12:56,852 - INFO -   + Reading injuries_2019.csv\n",
      "2023-07-06 18:12:56,862 - INFO -   + Reading injuries_2018.csv\n"
     ]
    },
    {
     "name": "stdout",
     "output_type": "stream",
     "text": [
      "CPU times: user 71.4 ms, sys: 12.9 ms, total: 84.2 ms\n",
      "Wall time: 85.2 ms\n"
     ]
    }
   ],
   "source": [
    "%%time\n",
    "injuries_df = load_files('injuries')"
   ],
   "metadata": {
    "collapsed": false,
    "ExecuteTime": {
     "end_time": "2023-07-07T01:12:56.884231Z",
     "start_time": "2023-07-07T01:12:56.796623Z"
    }
   }
  },
  {
   "cell_type": "markdown",
   "source": [
    "### <font color=\"#9370DB\">transform</font>"
   ],
   "metadata": {
    "collapsed": false
   }
  },
  {
   "cell_type": "code",
   "execution_count": 10,
   "outputs": [
    {
     "name": "stderr",
     "output_type": "stream",
     "text": [
      "2023-07-06 18:12:59,952 - INFO - Prep injury data...\n",
      "2023-07-06 18:12:59,952 - INFO - Conforming names (e.g. gsis_id -> player_id)\n",
      "2023-07-06 18:12:59,962 - INFO - Merge sparse injury columns\n",
      "2023-07-06 18:12:59,966 - INFO - Get best values for null report_statuses...\n",
      "2023-07-06 18:13:00,033 - INFO - check that all positions are correct...\n"
     ]
    },
    {
     "name": "stdout",
     "output_type": "stream",
     "text": [
      "CPU times: user 81.6 ms, sys: 4.86 ms, total: 86.5 ms\n",
      "Wall time: 88.5 ms\n"
     ]
    }
   ],
   "source": [
    "%%time\n",
    "injuries_df = prep_player_injuries(injuries_df)"
   ],
   "metadata": {
    "collapsed": false,
    "ExecuteTime": {
     "end_time": "2023-07-07T01:13:00.043736Z",
     "start_time": "2023-07-07T01:12:59.953916Z"
    }
   }
  },
  {
   "cell_type": "markdown",
   "source": [],
   "metadata": {
    "collapsed": false
   }
  },
  {
   "cell_type": "markdown",
   "source": [
    "---\n",
    "\n",
    "# <font color=teal>transform player stats</font>"
   ],
   "metadata": {
    "collapsed": false
   }
  },
  {
   "cell_type": "code",
   "execution_count": 11,
   "outputs": [
    {
     "name": "stderr",
     "output_type": "stream",
     "text": [
      "2023-07-06 18:13:02,184 - INFO - Reading all files from player-stats\n",
      "2023-07-06 18:13:02,185 - INFO -   + Reading player-stats.csv\n",
      "2023-07-06 18:13:02,471 - INFO - fix specific player_stats: <function player_stats_fixes at 0x137615b80>..\n",
      "2023-07-06 18:13:02,544 - INFO - replace empty position_groups with position info...\n",
      "2023-07-06 18:13:02,554 - INFO - replace empty player_name with player_display_name info...\n",
      "2023-07-06 18:13:02,565 - INFO - replace empty headshot_url with 'none'...\n",
      "2023-07-06 18:13:02,574 - INFO - fillna(0) for all binary columns...\n",
      "2023-07-06 18:13:02,574 - INFO - Impute columns to 0\n",
      "2023-07-06 18:13:02,745 - WARNING - After merge player_stats count changed - went from 124081 to 124083\n"
     ]
    },
    {
     "name": "stdout",
     "output_type": "stream",
     "text": [
      "CPU times: user 485 ms, sys: 84.8 ms, total: 570 ms\n",
      "Wall time: 566 ms\n"
     ]
    }
   ],
   "source": [
    "%%time\n",
    "stats_df = load_files('player-stats')\n",
    "stats_df = transform_player_stats(stats_df)\n",
    "stats_df = merge_injuries(player_stats=stats_df, player_injuries=injuries_df)"
   ],
   "metadata": {
    "collapsed": false,
    "ExecuteTime": {
     "end_time": "2023-07-07T01:13:02.753616Z",
     "start_time": "2023-07-07T01:13:02.185950Z"
    }
   }
  },
  {
   "cell_type": "markdown",
   "source": [],
   "metadata": {
    "collapsed": false
   }
  },
  {
   "cell_type": "markdown",
   "source": [
    "---\n",
    "\n",
    "# <font color=teal>direct loads </font>"
   ],
   "metadata": {
    "collapsed": false
   }
  },
  {
   "cell_type": "markdown",
   "source": [
    "### <font color=\"#9370DB\">adv stats</font>"
   ],
   "metadata": {
    "collapsed": false
   }
  },
  {
   "cell_type": "code",
   "execution_count": 12,
   "outputs": [
    {
     "name": "stderr",
     "output_type": "stream",
     "text": [
      "2023-07-06 18:13:05,648 - INFO - Reading all files from advstats-season-def\n",
      "2023-07-06 18:13:05,649 - INFO -   + Reading advstats-season-def.csv\n",
      "2023-07-06 18:13:05,657 - INFO - Reading all files from advstats-season-pass\n",
      "2023-07-06 18:13:05,658 - INFO -   + Reading advstats-season-pass.csv\n",
      "2023-07-06 18:13:05,663 - INFO - Reading all files from advstats-season-rec\n",
      "2023-07-06 18:13:05,664 - INFO -   + Reading advstats-season-rec.csv\n",
      "2023-07-06 18:13:05,671 - INFO - Reading all files from advstats-season-rush\n",
      "2023-07-06 18:13:05,672 - INFO -   + Reading advstats-season-rush.csv\n"
     ]
    },
    {
     "name": "stdout",
     "output_type": "stream",
     "text": [
      "CPU times: user 22.4 ms, sys: 5.98 ms, total: 28.4 ms\n",
      "Wall time: 28.2 ms\n"
     ]
    }
   ],
   "source": [
    "%%time\n",
    "\n",
    "advstats_def_df = load_files('advstats-season-def')\n",
    "advstats_pass_df = load_files('advstats-season-pass')\n",
    "advstats_rec_df = load_files('advstats-season-rec')\n",
    "advstats_rush_df = load_files('advstats-season-rush')\n"
   ],
   "metadata": {
    "collapsed": false,
    "ExecuteTime": {
     "end_time": "2023-07-07T01:13:05.689457Z",
     "start_time": "2023-07-07T01:13:05.649693Z"
    }
   }
  },
  {
   "cell_type": "markdown",
   "source": [
    "### <font color=\"#9370DB\">nextgen stats</font>"
   ],
   "metadata": {
    "collapsed": false
   }
  },
  {
   "cell_type": "code",
   "execution_count": 13,
   "outputs": [
    {
     "name": "stderr",
     "output_type": "stream",
     "text": [
      "2023-07-06 18:13:07,423 - INFO - Reading all files from nextgen-passing\n",
      "2023-07-06 18:13:07,425 - INFO -   + Reading nextgen-passing_2017.csv.gz\n",
      "2023-07-06 18:13:07,431 - INFO -   + Reading nextgen-passing_2021.csv.gz\n",
      "2023-07-06 18:13:07,436 - INFO -   + Reading nextgen-passing_2019.csv.gz\n",
      "2023-07-06 18:13:07,441 - INFO -   + Reading nextgen-passing_2020.csv.gz\n",
      "2023-07-06 18:13:07,446 - INFO -   + Reading nextgen-passing_2016.csv.gz\n",
      "2023-07-06 18:13:07,453 - INFO -   + Reading nextgen-passing_2022.csv.gz\n",
      "2023-07-06 18:13:07,458 - INFO -   + Reading nextgen-passing_2018.csv.gz\n"
     ]
    },
    {
     "name": "stdout",
     "output_type": "stream",
     "text": [
      "CPU times: user 34 ms, sys: 6.79 ms, total: 40.8 ms\n",
      "Wall time: 42.3 ms\n"
     ]
    }
   ],
   "source": [
    "%%time\n",
    "next_pass_df = load_files('nextgen-passing')\n"
   ],
   "metadata": {
    "collapsed": false,
    "ExecuteTime": {
     "end_time": "2023-07-07T01:13:07.468953Z",
     "start_time": "2023-07-07T01:13:07.425042Z"
    }
   }
  },
  {
   "cell_type": "code",
   "execution_count": 14,
   "outputs": [
    {
     "name": "stderr",
     "output_type": "stream",
     "text": [
      "2023-07-06 18:13:08,059 - INFO - Reading all files from nextgen-receiving\n",
      "2023-07-06 18:13:08,061 - INFO -   + Reading nextgen-receiving_2021.csv.gz\n",
      "2023-07-06 18:13:08,068 - INFO -   + Reading nextgen-receiving_2017.csv.gz\n",
      "2023-07-06 18:13:08,074 - INFO -   + Reading nextgen-receiving_2019.csv.gz\n",
      "2023-07-06 18:13:08,082 - INFO -   + Reading nextgen-receiving_2016.csv.gz\n",
      "2023-07-06 18:13:08,090 - INFO -   + Reading nextgen-receiving_2020.csv.gz\n",
      "2023-07-06 18:13:08,096 - INFO -   + Reading nextgen-receiving_2018.csv.gz\n",
      "2023-07-06 18:13:08,103 - INFO -   + Reading nextgen-receiving_2022.csv.gz\n"
     ]
    },
    {
     "name": "stdout",
     "output_type": "stream",
     "text": [
      "CPU times: user 43.2 ms, sys: 8.46 ms, total: 51.7 ms\n",
      "Wall time: 53.1 ms\n"
     ]
    }
   ],
   "source": [
    "%%time\n",
    "next_rec_df = load_files('nextgen-receiving')\n"
   ],
   "metadata": {
    "collapsed": false,
    "ExecuteTime": {
     "end_time": "2023-07-07T01:13:08.122782Z",
     "start_time": "2023-07-07T01:13:08.061318Z"
    }
   }
  },
  {
   "cell_type": "code",
   "execution_count": 15,
   "outputs": [
    {
     "name": "stderr",
     "output_type": "stream",
     "text": [
      "2023-07-06 18:13:08,736 - INFO - Reading all files from nextgen-rushing\n",
      "2023-07-06 18:13:08,737 - INFO -   + Reading nextgen-rushing_2018.csv.gz\n",
      "2023-07-06 18:13:08,741 - INFO -   + Reading nextgen-rushing_2022.csv.gz\n",
      "2023-07-06 18:13:08,745 - INFO -   + Reading nextgen-rushing_2016.csv.gz\n",
      "2023-07-06 18:13:08,749 - INFO -   + Reading nextgen-rushing_2020.csv.gz\n",
      "2023-07-06 18:13:08,753 - INFO -   + Reading nextgen-rushing_2019.csv.gz\n",
      "2023-07-06 18:13:08,757 - INFO -   + Reading nextgen-rushing_2021.csv.gz\n",
      "2023-07-06 18:13:08,762 - INFO -   + Reading nextgen-rushing_2017.csv.gz\n"
     ]
    },
    {
     "name": "stdout",
     "output_type": "stream",
     "text": [
      "CPU times: user 25.6 ms, sys: 7.05 ms, total: 32.7 ms\n",
      "Wall time: 32.6 ms\n"
     ]
    }
   ],
   "source": [
    "%%time\n",
    "next_rush_df = load_files('nextgen-rushing')"
   ],
   "metadata": {
    "collapsed": false,
    "ExecuteTime": {
     "end_time": "2023-07-07T01:13:08.784488Z",
     "start_time": "2023-07-07T01:13:08.737789Z"
    }
   }
  },
  {
   "cell_type": "markdown",
   "source": [
    "### <font color=\"#9370DB\">players</font>"
   ],
   "metadata": {
    "collapsed": false
   }
  },
  {
   "cell_type": "code",
   "execution_count": 16,
   "outputs": [
    {
     "name": "stderr",
     "output_type": "stream",
     "text": [
      "2023-07-06 18:13:09,903 - INFO - Reading all files from players\n",
      "2023-07-06 18:13:09,904 - INFO -   + Reading players.csv\n",
      "2023-07-06 18:13:09,967 - INFO - Process players dataset...\n",
      "2023-07-06 18:13:09,968 - INFO - drop players without gsis_ids - they won't link to player_stats\n",
      "2023-07-06 18:13:09,981 - INFO - fill empty players status to 'NONE'\n",
      "2023-07-06 18:13:09,985 - INFO - rename gsis_id to player_id...\n"
     ]
    },
    {
     "name": "stdout",
     "output_type": "stream",
     "text": [
      "CPU times: user 77.9 ms, sys: 7.05 ms, total: 84.9 ms\n",
      "Wall time: 84.5 ms\n"
     ]
    }
   ],
   "source": [
    "%%time\n",
    "players_df = load_files('players')\n",
    "players_df = transform_players(players_df)"
   ],
   "metadata": {
    "collapsed": false,
    "ExecuteTime": {
     "end_time": "2023-07-07T01:13:09.990654Z",
     "start_time": "2023-07-07T01:13:09.904107Z"
    }
   }
  },
  {
   "cell_type": "markdown",
   "source": [
    "---\n",
    "\n",
    "# <font color=teal>store to database so we can perform some SQL operations</font>"
   ],
   "metadata": {
    "collapsed": false
   }
  },
  {
   "cell_type": "code",
   "execution_count": 17,
   "outputs": [],
   "source": [
    "def load_all_datasets_to_db(data: dict):\n",
    "    data['schema'] = database_schema\n",
    "    load_dims_to_db(data)\n"
   ],
   "metadata": {
    "collapsed": false,
    "ExecuteTime": {
     "end_time": "2023-07-07T01:13:11.077356Z",
     "start_time": "2023-07-07T01:13:11.072316Z"
    }
   }
  },
  {
   "cell_type": "code",
   "execution_count": 18,
   "outputs": [
    {
     "name": "stderr",
     "output_type": "stream",
     "text": [
      "2023-07-06 18:13:11,980 - INFO - create table play_actions in schema controls\n",
      "2023-07-06 18:13:40,380 - INFO - create table game_drive in schema controls\n",
      "2023-07-06 18:13:59,912 - INFO - create table play_analytics in schema controls\n",
      "2023-07-06 18:15:12,896 - INFO - create table play_situations in schema controls\n",
      "2023-07-06 18:15:41,620 - INFO - create table play_metrics in schema controls\n",
      "2023-07-06 18:16:04,161 - INFO - create table player_events in schema controls\n",
      "2023-07-06 18:16:13,347 - INFO - create table game_info in schema controls\n",
      "2023-07-06 18:16:13,529 - INFO - create table player_participation in schema controls\n",
      "2023-07-06 18:20:38,436 - INFO - create table players in schema controls\n",
      "2023-07-06 18:20:39,942 - INFO - create table player_stats in schema controls\n",
      "2023-07-06 18:20:56,542 - INFO - create table adv_stats_def in schema controls\n",
      "2023-07-06 18:20:56,895 - INFO - create table adv_stats_pass in schema controls\n",
      "2023-07-06 18:20:56,954 - INFO - create table adv_stats_rec in schema controls\n",
      "2023-07-06 18:21:00,319 - INFO - create table adv_stats_rush in schema controls\n",
      "2023-07-06 18:21:00,481 - INFO - create table nextgen_pass in schema controls\n",
      "2023-07-06 18:21:00,848 - INFO - create table nextgen_rec in schema controls\n",
      "2023-07-06 18:21:01,568 - INFO - create table nextgen_rush in schema controls\n"
     ]
    },
    {
     "name": "stdout",
     "output_type": "stream",
     "text": [
      "CPU times: user 3min 41s, sys: 57.7 s, total: 4min 38s\n",
      "Wall time: 7min 49s\n"
     ]
    }
   ],
   "source": [
    "%%time\n",
    "if LOAD_TO_DB:\n",
    "    datasets.update({\n",
    "        'players': players_df,\n",
    "        'player_stats': stats_df,\n",
    "        'adv_stats_def': advstats_def_df,\n",
    "        'adv_stats_pass': advstats_pass_df,\n",
    "        'adv_stats_rec': advstats_rec_df,\n",
    "        'adv_stats_rush': advstats_rush_df,\n",
    "        'nextgen_pass': next_pass_df,\n",
    "        'nextgen_rec': next_rec_df,\n",
    "        'nextgen_rush': next_rush_df\n",
    "    })\n",
    "    load_all_datasets_to_db(datasets)"
   ],
   "metadata": {
    "collapsed": false,
    "ExecuteTime": {
     "end_time": "2023-07-07T01:21:01.855529Z",
     "start_time": "2023-07-07T01:13:11.982150Z"
    }
   }
  },
  {
   "cell_type": "code",
   "execution_count": 18,
   "outputs": [],
   "source": [],
   "metadata": {
    "collapsed": false,
    "ExecuteTime": {
     "end_time": "2023-07-06T00:12:35.752412Z",
     "start_time": "2023-07-06T00:12:35.748794Z"
    }
   }
  }
 ],
 "metadata": {
  "kernelspec": {
   "display_name": "Python 3",
   "language": "python",
   "name": "python3"
  },
  "language_info": {
   "codemirror_mode": {
    "name": "ipython",
    "version": 2
   },
   "file_extension": ".py",
   "mimetype": "text/x-python",
   "name": "python",
   "nbconvert_exporter": "python",
   "pygments_lexer": "ipython2",
   "version": "2.7.6"
  }
 },
 "nbformat": 4,
 "nbformat_minor": 0
}
