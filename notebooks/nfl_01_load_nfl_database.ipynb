{
 "cells": [
  {
   "cell_type": "markdown",
   "source": [
    "\n",
    "<font color=teal>\n",
    "_______________________________________\n",
    "</font>\n",
    "\n",
    "\n",
    "### <font color=teal>Goal:</font>\n",
    "\n",
    "- Build a dimensional version of the nflverse data, separating data with different cardinalities\n",
    "\n",
    "### <font color=teal>Input:</font>\n",
    "\n",
    "- output directory where we downloaded nflverse files\n",
    "\n",
    "\n",
    "### <font color=teal>Steps:</font>\n",
    "- Split data into smaller dimensions .e.g game info vs play info vs play analytics, etc.\n",
    "- Insert data into DB tables\n",
    "- store to a database for further experimentation\n",
    "\n",
    "### <font color=teal>Output:</font>\n",
    "\n",
    "- DB tables\n",
    "\n",
    "\n",
    "![nflverse database](../images/database.png)\n",
    "\n",
    "\n",
    "\n",
    "<font color=teal>\n",
    "_______________________________________\n",
    "</font>\n"
   ],
   "metadata": {
    "collapsed": false
   }
  },
  {
   "cell_type": "markdown",
   "source": [
    "# <font color=teal>imports</font>\n",
    "Most processing is performed in python code, and there's a python module to do everything here without manual"
   ],
   "metadata": {
    "collapsed": false
   }
  },
  {
   "cell_type": "code",
   "execution_count": 1,
   "outputs": [
    {
     "name": "stderr",
     "output_type": "stream",
     "text": [
      "Using `tqdm.autonotebook.tqdm` in notebook mode. Use `tqdm.tqdm` instead to force console mode (e.g. in jupyter console)\n"
     ]
    }
   ],
   "source": [
    "import logging\n",
    "import os\n",
    "import sys\n",
    "\n",
    "from src import configs\n",
    "\n",
    "sys.path.append(os.path.abspath(\"../src\"))\n",
    "\n"
   ],
   "metadata": {
    "collapsed": false,
    "ExecuteTime": {
     "end_time": "2023-07-18T14:43:13.800176Z",
     "start_time": "2023-07-18T14:43:09.139358Z"
    }
   }
  },
  {
   "cell_type": "code",
   "execution_count": 2,
   "metadata": {
    "collapsed": true,
    "ExecuteTime": {
     "end_time": "2023-07-18T14:43:16.066493Z",
     "start_time": "2023-07-18T14:43:16.012739Z"
    }
   },
   "outputs": [],
   "source": [
    "from src.nflverse_transform_job import load_files\n",
    "from src.pbp_fact import transform_pbp\n",
    "from src.pbp_participation import transform_pbp_participation\n",
    "from src.player_stats import transform_player_stats, merge_injuries\n",
    "from src.player_injuries import prep_player_injuries\n",
    "from src.player_stats import transform_players\n",
    "from src.db_utils import load_dims_to_db\n"
   ]
  },
  {
   "cell_type": "markdown",
   "source": [
    "# <font color=teal>housekeeping</font>"
   ],
   "metadata": {
    "collapsed": false
   }
  },
  {
   "cell_type": "code",
   "execution_count": 3,
   "outputs": [],
   "source": [
    "LOAD_TO_DB = True\n",
    "database_schema = 'controls'\n",
    "\n",
    "# Get the logger\n",
    "logger = configs.configure_logging(\"pbp_logger\")\n",
    "logger.setLevel(logging.INFO)"
   ],
   "metadata": {
    "collapsed": false,
    "ExecuteTime": {
     "end_time": "2023-07-18T14:43:17.472695Z",
     "start_time": "2023-07-18T14:43:17.467223Z"
    }
   }
  },
  {
   "cell_type": "markdown",
   "source": [],
   "metadata": {
    "collapsed": false
   }
  },
  {
   "cell_type": "markdown",
   "source": [
    "---\n",
    "\n",
    "# <font color=teal>load and transform play by play datasets</font>"
   ],
   "metadata": {
    "collapsed": false
   }
  },
  {
   "cell_type": "markdown",
   "source": [
    "### <font color=\"#9370DB\">load</font>"
   ],
   "metadata": {
    "collapsed": false
   }
  },
  {
   "cell_type": "code",
   "execution_count": 4,
   "outputs": [
    {
     "name": "stderr",
     "output_type": "stream",
     "text": [
      "2023-07-18 07:43:21,208 - INFO - Reading all files from pbp\n",
      "2023-07-18 07:43:21,209 - INFO -   + Reading pbp_2019.parquet\n",
      "2023-07-18 07:43:21,381 - INFO -   + Reading pbp_2018.parquet\n",
      "2023-07-18 07:43:21,510 - INFO -   + Reading pbp_2022.parquet\n",
      "2023-07-18 07:43:21,636 - INFO -   + Reading pbp_2021.parquet\n",
      "2023-07-18 07:43:21,756 - INFO -   + Reading pbp_2017.parquet\n",
      "2023-07-18 07:43:21,860 - INFO -   + Reading pbp_2016.parquet\n",
      "2023-07-18 07:43:21,974 - INFO -   + Reading pbp_2020.parquet\n"
     ]
    },
    {
     "name": "stdout",
     "output_type": "stream",
     "text": [
      "CPU times: user 2.64 s, sys: 571 ms, total: 3.21 s\n",
      "Wall time: 2.21 s\n"
     ]
    }
   ],
   "source": [
    "\n",
    "%%time\n",
    "pbp = load_files(data_subdir='pbp')\n"
   ],
   "metadata": {
    "collapsed": false,
    "ExecuteTime": {
     "end_time": "2023-07-18T14:43:23.417837Z",
     "start_time": "2023-07-18T14:43:21.209556Z"
    }
   }
  },
  {
   "cell_type": "markdown",
   "source": [
    "### <font color=\"#9370DB\">transform</font>"
   ],
   "metadata": {
    "collapsed": false
   }
  },
  {
   "cell_type": "code",
   "execution_count": 5,
   "outputs": [
    {
     "name": "stderr",
     "output_type": "stream",
     "text": [
      "2023-07-18 07:43:25,967 - INFO - Impute columns to 0\n",
      "2023-07-18 07:43:26,141 - INFO - impute non binary pbp columns ...\n",
      "2023-07-18 07:43:26,811 - INFO - Impute columns to 0\n",
      "2023-07-18 07:43:27,400 - INFO - Impute columns to 0:00\n",
      "2023-07-18 07:43:28,900 - INFO - Impute columns to NA\n",
      "2023-07-18 07:43:35,290 - INFO - moving play_id to play_counter, and creating a joinable play_id key\n",
      "2023-07-18 07:43:36,124 - INFO - Conform key actions like pass, rush, kickoff, etc. and add a single category field called actions... \n",
      "2023-07-18 07:43:47,972 - INFO - Validate actions dimension ...\n",
      "2023-07-18 07:43:48,299 - INFO - Creating new drive dimension...\n",
      "2023-07-18 07:43:48,371 - INFO - Validate drive_df dimension ...\n",
      "2023-07-18 07:43:48,627 - INFO - Creating new situations dimension...\n",
      "2023-07-18 07:43:48,697 - INFO - Validate situation_df dimension ...\n",
      "2023-07-18 07:43:48,935 - INFO - Creating new metrics dimension...\n",
      "2023-07-18 07:43:48,982 - INFO - Validate play_metrics_df dimension ...\n",
      "2023-07-18 07:43:49,081 - INFO - Creating new game dimension...\n",
      "2023-07-18 07:43:49,792 - INFO - Validate games dimension ...\n",
      "2023-07-18 07:43:49,795 - INFO - Create stats for pbp player involvement by play ...\n",
      "2023-07-18 07:43:56,852 - INFO - Creating new analytics dimension...\n"
     ]
    },
    {
     "name": "stdout",
     "output_type": "stream",
     "text": [
      "CPU times: user 26.2 s, sys: 5.63 s, total: 31.8 s\n",
      "Wall time: 32.6 s\n"
     ]
    }
   ],
   "source": [
    "\n",
    "%%time\n",
    "datasets = transform_pbp(pbp)"
   ],
   "metadata": {
    "collapsed": false,
    "ExecuteTime": {
     "end_time": "2023-07-18T14:43:56.958527Z",
     "start_time": "2023-07-18T14:43:24.404456Z"
    }
   }
  },
  {
   "cell_type": "markdown",
   "source": [],
   "metadata": {
    "collapsed": false
   }
  },
  {
   "cell_type": "markdown",
   "source": [
    "---\n",
    "\n",
    "# <font color=teal>load and transform play by play participation datasets</font>"
   ],
   "metadata": {
    "collapsed": false
   }
  },
  {
   "cell_type": "markdown",
   "source": [
    "\n"
   ],
   "metadata": {
    "collapsed": false
   }
  },
  {
   "cell_type": "code",
   "execution_count": 6,
   "outputs": [
    {
     "name": "stderr",
     "output_type": "stream",
     "text": [
      "2023-07-18 06:27:27,412 - INFO - Reading all files from pbp-participation\n",
      "2023-07-18 06:27:27,413 - INFO -   + Reading pbp-participation_2019.parquet\n",
      "2023-07-18 06:27:27,443 - INFO -   + Reading pbp-participation_2018.parquet\n",
      "2023-07-18 06:27:27,469 - INFO -   + Reading pbp-participation_2017.parquet\n",
      "2023-07-18 06:27:27,493 - INFO -   + Reading pbp-participation_2021.parquet\n",
      "2023-07-18 06:27:27,517 - INFO -   + Reading pbp-participation_2020.parquet\n",
      "2023-07-18 06:27:27,540 - INFO -   + Reading pbp-participation_2016.parquet\n",
      "2023-07-18 06:27:27,562 - INFO -   + Reading pbp-participation_2022.parquet\n"
     ]
    },
    {
     "name": "stdout",
     "output_type": "stream",
     "text": [
      "CPU times: user 280 ms, sys: 96.3 ms, total: 376 ms\n",
      "Wall time: 269 ms\n"
     ]
    }
   ],
   "source": [
    "%%time\n",
    "pbp_participation_df = load_files('pbp-participation')\n"
   ],
   "metadata": {
    "collapsed": false,
    "ExecuteTime": {
     "end_time": "2023-07-18T13:27:27.684560Z",
     "start_time": "2023-07-18T13:27:27.413987Z"
    }
   }
  },
  {
   "cell_type": "markdown",
   "source": [
    "### <font color=\"#9370DB\">transform</font>"
   ],
   "metadata": {
    "collapsed": false
   }
  },
  {
   "cell_type": "code",
   "execution_count": 7,
   "outputs": [
    {
     "name": "stderr",
     "output_type": "stream",
     "text": [
      "2023-07-18 06:27:27,684 - INFO - pbp_participation:  move play_id to a play_count column and create a unique play_id that can be used in joins...\n",
      "2023-07-18 06:27:27,938 - INFO - Calculating defense and offense team names by player and play...\n",
      "2023-07-18 06:27:30,745 - INFO - Exploding offensive players to their own dataset...\n",
      "2023-07-18 06:27:32,282 - INFO - Exploding defense_players to their own dataset...\n",
      "2023-07-18 06:27:41,159 - WARNING - combining offense and defense players - counts are incorrect 6903461 != 6902991\n"
     ]
    },
    {
     "name": "stdout",
     "output_type": "stream",
     "text": [
      "CPU times: user 16.3 s, sys: 1.46 s, total: 17.7 s\n",
      "Wall time: 17.8 s\n"
     ]
    }
   ],
   "source": [
    "%%time\n",
    "player_df, player_events_df = transform_pbp_participation(\n",
    "    participation_df=pbp_participation_df,\n",
    "    player_events=datasets['player_events'])\n",
    "\n",
    "datasets.update({\n",
    "    'player_participation': player_df,\n",
    "    'player_events': player_events_df,\n",
    "})"
   ],
   "metadata": {
    "collapsed": false,
    "ExecuteTime": {
     "end_time": "2023-07-18T13:27:45.499653Z",
     "start_time": "2023-07-18T13:27:27.685651Z"
    }
   }
  },
  {
   "cell_type": "markdown",
   "source": [],
   "metadata": {
    "collapsed": false
   }
  },
  {
   "cell_type": "markdown",
   "source": [
    "---\n",
    "\n",
    "# <font color=teal>transform player injuries</font>"
   ],
   "metadata": {
    "collapsed": false
   }
  },
  {
   "cell_type": "markdown",
   "source": [
    "### <font color=\"#9370DB\">load</font>"
   ],
   "metadata": {
    "collapsed": false
   }
  },
  {
   "cell_type": "code",
   "execution_count": 8,
   "outputs": [
    {
     "name": "stderr",
     "output_type": "stream",
     "text": [
      "2023-07-18 06:27:45,499 - INFO - Reading all files from injuries\n",
      "2023-07-18 06:27:45,500 - INFO -   + Reading injuries_2017.parquet\n",
      "2023-07-18 06:27:45,506 - INFO -   + Reading injuries_2021.parquet\n",
      "2023-07-18 06:27:45,511 - INFO -   + Reading injuries_2020.parquet\n",
      "2023-07-18 06:27:45,515 - INFO -   + Reading injuries_2016.parquet\n",
      "2023-07-18 06:27:45,520 - INFO -   + Reading injuries_2022.parquet\n",
      "2023-07-18 06:27:45,524 - INFO -   + Reading injuries_2019.parquet\n",
      "2023-07-18 06:27:45,529 - INFO -   + Reading injuries_2018.parquet\n"
     ]
    },
    {
     "name": "stdout",
     "output_type": "stream",
     "text": [
      "CPU times: user 47.9 ms, sys: 8.66 ms, total: 56.5 ms\n",
      "Wall time: 44.9 ms\n"
     ]
    }
   ],
   "source": [
    "%%time\n",
    "injuries_df = load_files('injuries')"
   ],
   "metadata": {
    "collapsed": false,
    "ExecuteTime": {
     "end_time": "2023-07-18T13:27:45.549600Z",
     "start_time": "2023-07-18T13:27:45.500250Z"
    }
   }
  },
  {
   "cell_type": "markdown",
   "source": [
    "### <font color=\"#9370DB\">transform</font>"
   ],
   "metadata": {
    "collapsed": false
   }
  },
  {
   "cell_type": "code",
   "execution_count": 9,
   "outputs": [
    {
     "name": "stderr",
     "output_type": "stream",
     "text": [
      "2023-07-18 06:27:45,547 - INFO - Prep injury data...\n",
      "2023-07-18 06:27:45,547 - INFO - Conforming names (e.g. gsis_id -> player_id)\n",
      "2023-07-18 06:27:45,557 - INFO - Merge sparse injury columns\n",
      "2023-07-18 06:27:45,560 - INFO - Get best values for null report_statuses...\n",
      "2023-07-18 06:27:45,633 - INFO - check that all positions are correct...\n"
     ]
    },
    {
     "name": "stdout",
     "output_type": "stream",
     "text": [
      "CPU times: user 88.6 ms, sys: 3.84 ms, total: 92.5 ms\n",
      "Wall time: 94.3 ms\n"
     ]
    }
   ],
   "source": [
    "%%time\n",
    "injuries_df = prep_player_injuries(injuries_df)"
   ],
   "metadata": {
    "collapsed": false,
    "ExecuteTime": {
     "end_time": "2023-07-18T13:27:45.644493Z",
     "start_time": "2023-07-18T13:27:45.548737Z"
    }
   }
  },
  {
   "cell_type": "markdown",
   "source": [],
   "metadata": {
    "collapsed": false
   }
  },
  {
   "cell_type": "markdown",
   "source": [
    "---\n",
    "\n",
    "# <font color=teal>transform player stats</font>"
   ],
   "metadata": {
    "collapsed": false
   }
  },
  {
   "cell_type": "code",
   "execution_count": 10,
   "outputs": [
    {
     "name": "stderr",
     "output_type": "stream",
     "text": [
      "2023-07-18 06:27:45,644 - INFO - Reading all files from player-stats\n",
      "2023-07-18 06:27:45,648 - INFO -   + Reading player-stats.parquet\n",
      "2023-07-18 06:27:45,690 - INFO - fix specific player_stats: <function player_stats_fixes at 0x2acdc4280>..\n",
      "2023-07-18 06:27:45,772 - INFO - replace empty position_groups with position info...\n",
      "2023-07-18 06:27:45,788 - INFO - replace empty player_name with player_display_name info...\n",
      "2023-07-18 06:27:45,801 - INFO - replace empty headshot_url with 'none'...\n",
      "2023-07-18 06:27:45,812 - INFO - fillna(0) for all binary columns...\n",
      "2023-07-18 06:27:45,813 - INFO - Impute columns to 0\n",
      "2023-07-18 06:27:46,014 - WARNING - After merge player_stats count changed - went from 124081 to 124083\n"
     ]
    },
    {
     "name": "stdout",
     "output_type": "stream",
     "text": [
      "CPU times: user 374 ms, sys: 52.5 ms, total: 427 ms\n",
      "Wall time: 375 ms\n"
     ]
    }
   ],
   "source": [
    "%%time\n",
    "stats_df = load_files('player-stats')\n",
    "stats_df = transform_player_stats(stats_df)\n",
    "stats_df = merge_injuries(player_stats=stats_df, player_injuries=injuries_df)"
   ],
   "metadata": {
    "collapsed": false,
    "ExecuteTime": {
     "end_time": "2023-07-18T13:27:46.022387Z",
     "start_time": "2023-07-18T13:27:45.645179Z"
    }
   }
  },
  {
   "cell_type": "markdown",
   "source": [],
   "metadata": {
    "collapsed": false
   }
  },
  {
   "cell_type": "markdown",
   "source": [
    "---\n",
    "\n",
    "# <font color=teal>direct loads </font>"
   ],
   "metadata": {
    "collapsed": false
   }
  },
  {
   "cell_type": "markdown",
   "source": [
    "### <font color=\"#9370DB\">adv stats</font>"
   ],
   "metadata": {
    "collapsed": false
   }
  },
  {
   "cell_type": "code",
   "execution_count": 11,
   "outputs": [
    {
     "name": "stderr",
     "output_type": "stream",
     "text": [
      "2023-07-18 06:27:46,022 - INFO - Reading all files from advstats-season-def\n",
      "2023-07-18 06:27:46,024 - INFO -   + Reading advstats-season-def.parquet\n",
      "2023-07-18 06:27:46,029 - INFO - Reading all files from advstats-season-pass\n",
      "2023-07-18 06:27:46,030 - INFO -   + Reading advstats-season-pass.parquet\n",
      "2023-07-18 06:27:46,032 - INFO - Reading all files from advstats-season-rec\n",
      "2023-07-18 06:27:46,033 - INFO -   + Reading advstats-season-rec.parquet\n",
      "2023-07-18 06:27:46,037 - INFO - Reading all files from advstats-season-rush\n",
      "2023-07-18 06:27:46,037 - INFO -   + Reading advstats-season-rush.parquet\n"
     ]
    },
    {
     "name": "stdout",
     "output_type": "stream",
     "text": [
      "CPU times: user 19.1 ms, sys: 6.67 ms, total: 25.8 ms\n",
      "Wall time: 18.4 ms\n"
     ]
    }
   ],
   "source": [
    "%%time\n",
    "\n",
    "advstats_def_df = load_files('advstats-season-def')\n",
    "advstats_pass_df = load_files('advstats-season-pass')\n",
    "advstats_rec_df = load_files('advstats-season-rec')\n",
    "advstats_rush_df = load_files('advstats-season-rush')\n"
   ],
   "metadata": {
    "collapsed": false,
    "ExecuteTime": {
     "end_time": "2023-07-18T13:27:46.055298Z",
     "start_time": "2023-07-18T13:27:46.023533Z"
    }
   }
  },
  {
   "cell_type": "markdown",
   "source": [
    "### <font color=\"#9370DB\">nextgen stats</font>"
   ],
   "metadata": {
    "collapsed": false
   }
  },
  {
   "cell_type": "code",
   "execution_count": 12,
   "outputs": [
    {
     "name": "stderr",
     "output_type": "stream",
     "text": [
      "2023-07-18 06:27:46,046 - INFO - Reading all files from nextgen-passing\n",
      "2023-07-18 06:27:46,047 - INFO -   + Reading nextgen-passing_2017.csv.gz\n",
      "2023-07-18 06:27:46,052 - INFO -   + Reading nextgen-passing_2021.csv.gz\n",
      "2023-07-18 06:27:46,056 - INFO -   + Reading nextgen-passing_2019.csv.gz\n",
      "2023-07-18 06:27:46,061 - INFO -   + Reading nextgen-passing_2020.csv.gz\n",
      "2023-07-18 06:27:46,065 - INFO -   + Reading nextgen-passing_2016.csv.gz\n",
      "2023-07-18 06:27:46,070 - INFO -   + Reading nextgen-passing_2022.csv.gz\n",
      "2023-07-18 06:27:46,075 - INFO -   + Reading nextgen-passing_2018.csv.gz\n"
     ]
    },
    {
     "name": "stdout",
     "output_type": "stream",
     "text": [
      "CPU times: user 29.9 ms, sys: 5.15 ms, total: 35.1 ms\n",
      "Wall time: 36.7 ms\n"
     ]
    }
   ],
   "source": [
    "%%time\n",
    "next_pass_df = load_files('nextgen-passing')\n"
   ],
   "metadata": {
    "collapsed": false,
    "ExecuteTime": {
     "end_time": "2023-07-18T13:27:46.103428Z",
     "start_time": "2023-07-18T13:27:46.047254Z"
    }
   }
  },
  {
   "cell_type": "code",
   "execution_count": 13,
   "outputs": [
    {
     "name": "stderr",
     "output_type": "stream",
     "text": [
      "2023-07-18 06:27:46,085 - INFO - Reading all files from nextgen-receiving\n",
      "2023-07-18 06:27:46,087 - INFO -   + Reading nextgen-receiving_2021.csv.gz\n",
      "2023-07-18 06:27:46,093 - INFO -   + Reading nextgen-receiving_2017.csv.gz\n",
      "2023-07-18 06:27:46,099 - INFO -   + Reading nextgen-receiving_2019.csv.gz\n",
      "2023-07-18 06:27:46,106 - INFO -   + Reading nextgen-receiving_2016.csv.gz\n",
      "2023-07-18 06:27:46,113 - INFO -   + Reading nextgen-receiving_2020.csv.gz\n",
      "2023-07-18 06:27:46,120 - INFO -   + Reading nextgen-receiving_2018.csv.gz\n",
      "2023-07-18 06:27:46,127 - INFO -   + Reading nextgen-receiving_2022.csv.gz\n"
     ]
    },
    {
     "name": "stdout",
     "output_type": "stream",
     "text": [
      "CPU times: user 42.6 ms, sys: 7.87 ms, total: 50.5 ms\n",
      "Wall time: 51.1 ms\n"
     ]
    }
   ],
   "source": [
    "%%time\n",
    "next_rec_df = load_files('nextgen-receiving')\n"
   ],
   "metadata": {
    "collapsed": false,
    "ExecuteTime": {
     "end_time": "2023-07-18T13:27:46.142746Z",
     "start_time": "2023-07-18T13:27:46.086955Z"
    }
   }
  },
  {
   "cell_type": "code",
   "execution_count": 14,
   "outputs": [
    {
     "name": "stderr",
     "output_type": "stream",
     "text": [
      "2023-07-18 06:27:46,139 - INFO - Reading all files from nextgen-rushing\n",
      "2023-07-18 06:27:46,141 - INFO -   + Reading nextgen-rushing_2018.csv.gz\n",
      "2023-07-18 06:27:46,145 - INFO -   + Reading nextgen-rushing_2022.csv.gz\n",
      "2023-07-18 06:27:46,150 - INFO -   + Reading nextgen-rushing_2016.csv.gz\n",
      "2023-07-18 06:27:46,153 - INFO -   + Reading nextgen-rushing_2020.csv.gz\n",
      "2023-07-18 06:27:46,156 - INFO -   + Reading nextgen-rushing_2019.csv.gz\n",
      "2023-07-18 06:27:46,159 - INFO -   + Reading nextgen-rushing_2021.csv.gz\n",
      "2023-07-18 06:27:46,164 - INFO -   + Reading nextgen-rushing_2017.csv.gz\n"
     ]
    },
    {
     "name": "stdout",
     "output_type": "stream",
     "text": [
      "CPU times: user 23.8 ms, sys: 5.32 ms, total: 29.2 ms\n",
      "Wall time: 29.4 ms\n"
     ]
    }
   ],
   "source": [
    "%%time\n",
    "next_rush_df = load_files('nextgen-rushing')"
   ],
   "metadata": {
    "collapsed": false,
    "ExecuteTime": {
     "end_time": "2023-07-18T13:27:46.187403Z",
     "start_time": "2023-07-18T13:27:46.140576Z"
    }
   }
  },
  {
   "cell_type": "markdown",
   "source": [
    "### <font color=\"#9370DB\">players</font>"
   ],
   "metadata": {
    "collapsed": false
   }
  },
  {
   "cell_type": "code",
   "execution_count": 15,
   "outputs": [
    {
     "name": "stderr",
     "output_type": "stream",
     "text": [
      "2023-07-18 06:27:46,172 - INFO - Reading all files from players\n",
      "2023-07-18 06:27:46,174 - INFO -   + Reading players.parquet\n",
      "2023-07-18 06:27:46,203 - INFO - Process players dataset...\n",
      "2023-07-18 06:27:46,203 - INFO - drop players without gsis_ids - they won't link to player_stats\n",
      "2023-07-18 06:27:46,221 - INFO - fill empty players status to 'NONE'\n",
      "2023-07-18 06:27:46,228 - INFO - rename gsis_id to player_id...\n"
     ]
    },
    {
     "name": "stdout",
     "output_type": "stream",
     "text": [
      "CPU times: user 63.5 ms, sys: 6.42 ms, total: 69.9 ms\n",
      "Wall time: 58.2 ms\n"
     ]
    }
   ],
   "source": [
    "%%time\n",
    "players_df = load_files('players')\n",
    "players_df = transform_players(players_df)"
   ],
   "metadata": {
    "collapsed": false,
    "ExecuteTime": {
     "end_time": "2023-07-18T13:27:46.233522Z",
     "start_time": "2023-07-18T13:27:46.173920Z"
    }
   }
  },
  {
   "cell_type": "markdown",
   "source": [
    "---\n",
    "\n",
    "# <font color=teal>store to database so we can perform some SQL operations</font>"
   ],
   "metadata": {
    "collapsed": false
   }
  },
  {
   "cell_type": "code",
   "execution_count": 16,
   "outputs": [],
   "source": [
    "def load_all_datasets_to_db(data: dict):\n",
    "    data['schema'] = database_schema\n",
    "    load_dims_to_db(data)\n"
   ],
   "metadata": {
    "collapsed": false,
    "ExecuteTime": {
     "end_time": "2023-07-18T13:27:46.243192Z",
     "start_time": "2023-07-18T13:27:46.234414Z"
    }
   }
  },
  {
   "cell_type": "code",
   "execution_count": 17,
   "outputs": [
    {
     "name": "stderr",
     "output_type": "stream",
     "text": [
      "2023-07-18 06:27:46,236 - INFO - create table play_actions in schema controls\n",
      "2023-07-18 06:28:34,283 - INFO - create table game_drive in schema controls\n",
      "2023-07-18 06:29:00,262 - INFO - create table play_analytics in schema controls\n",
      "2023-07-18 06:30:25,748 - INFO - create table play_situations in schema controls\n",
      "2023-07-18 06:30:57,303 - INFO - create table play_metrics in schema controls\n",
      "2023-07-18 06:31:22,067 - INFO - create table player_events in schema controls\n",
      "2023-07-18 06:31:33,618 - INFO - create table game_info in schema controls\n",
      "2023-07-18 06:31:33,890 - INFO - create table player_participation in schema controls\n",
      "2023-07-18 06:35:58,738 - INFO - create table players in schema controls\n",
      "2023-07-18 06:36:00,617 - INFO - create table player_stats in schema controls\n",
      "2023-07-18 06:36:19,564 - INFO - create table adv_stats_def in schema controls\n",
      "2023-07-18 06:36:20,041 - INFO - create table adv_stats_pass in schema controls\n",
      "2023-07-18 06:36:20,108 - INFO - create table adv_stats_rec in schema controls\n",
      "2023-07-18 06:36:20,359 - INFO - create table adv_stats_rush in schema controls\n",
      "2023-07-18 06:36:20,504 - INFO - create table nextgen_pass in schema controls\n",
      "2023-07-18 06:36:24,420 - INFO - create table nextgen_rec in schema controls\n",
      "2023-07-18 06:36:25,272 - INFO - create table nextgen_rush in schema controls\n"
     ]
    },
    {
     "name": "stdout",
     "output_type": "stream",
     "text": [
      "CPU times: user 4min 28s, sys: 43.9 s, total: 5min 12s\n",
      "Wall time: 8min 39s\n"
     ]
    }
   ],
   "source": [
    "%%time\n",
    "if LOAD_TO_DB:\n",
    "    datasets.update({\n",
    "        'players': players_df,\n",
    "        'player_stats': stats_df,\n",
    "        'adv_stats_def': advstats_def_df,\n",
    "        'adv_stats_pass': advstats_pass_df,\n",
    "        'adv_stats_rec': advstats_rec_df,\n",
    "        'adv_stats_rush': advstats_rush_df,\n",
    "        'nextgen_pass': next_pass_df,\n",
    "        'nextgen_rec': next_rec_df,\n",
    "        'nextgen_rush': next_rush_df\n",
    "    })\n",
    "    load_all_datasets_to_db(datasets)"
   ],
   "metadata": {
    "collapsed": false,
    "ExecuteTime": {
     "end_time": "2023-07-18T13:36:25.604194Z",
     "start_time": "2023-07-18T13:27:46.237663Z"
    }
   }
  },
  {
   "cell_type": "code",
   "execution_count": 17,
   "outputs": [],
   "source": [],
   "metadata": {
    "collapsed": false,
    "ExecuteTime": {
     "end_time": "2023-07-18T13:36:25.607790Z",
     "start_time": "2023-07-18T13:36:25.606547Z"
    }
   }
  }
 ],
 "metadata": {
  "kernelspec": {
   "display_name": "Python 3",
   "language": "python",
   "name": "python3"
  },
  "language_info": {
   "codemirror_mode": {
    "name": "ipython",
    "version": 2
   },
   "file_extension": ".py",
   "mimetype": "text/x-python",
   "name": "python",
   "nbconvert_exporter": "python",
   "pygments_lexer": "ipython2",
   "version": "2.7.6"
  }
 },
 "nbformat": 4,
 "nbformat_minor": 0
}
