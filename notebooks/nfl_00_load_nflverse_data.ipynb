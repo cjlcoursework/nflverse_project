{
 "cells": [
  {
   "cell_type": "markdown",
   "source": [
    "\n"
   ],
   "metadata": {
    "collapsed": false
   }
  },
  {
   "cell_type": "markdown",
   "source": [
    "## <font color=teal>imports</font>"
   ],
   "metadata": {
    "collapsed": false
   }
  },
  {
   "cell_type": "code",
   "execution_count": 2,
   "outputs": [],
   "source": [
    "import logging\n",
    "import os\n",
    "import sys\n",
    "\n",
    "from src import configs\n",
    "\n",
    "sys.path.append(os.path.abspath(\"../src\"))\n"
   ],
   "metadata": {
    "collapsed": false,
    "ExecuteTime": {
     "end_time": "2023-07-20T16:37:23.550924Z",
     "start_time": "2023-07-20T16:37:22.964407Z"
    }
   }
  },
  {
   "cell_type": "code",
   "execution_count": 3,
   "metadata": {
    "collapsed": true,
    "ExecuteTime": {
     "end_time": "2023-07-20T16:37:25.211896Z",
     "start_time": "2023-07-20T16:37:24.329580Z"
    }
   },
   "outputs": [],
   "source": [
    "\n",
    "from src.nfl_00_load_nflverse_data import read_nflverse_datasets\n",
    "from src.nfl_01_load_nfl_database import create_nfl_database\n",
    "from src.nfl_02_prepare_weekly_stats import prepare_team_week_dataset\n",
    "from src.nfl_03_perform_feature_selection import perform_team_week_feature_selection\n",
    "from src.nfl_04_merge_game_feature_selection import merge_team_week_features"
   ]
  },
  {
   "cell_type": "markdown",
   "source": [
    "## <font color=teal>housekeeping</font>"
   ],
   "metadata": {
    "collapsed": false
   }
  },
  {
   "cell_type": "code",
   "execution_count": 4,
   "outputs": [],
   "source": [
    "# Get the logger\n",
    "logger = configs.configure_logging(\"pbp_logger\")\n",
    "logger.setLevel(logging.INFO)"
   ],
   "metadata": {
    "collapsed": false,
    "ExecuteTime": {
     "end_time": "2023-07-20T16:37:26.565233Z",
     "start_time": "2023-07-20T16:37:26.559198Z"
    }
   }
  },
  {
   "cell_type": "markdown",
   "source": [
    "## <font color=teal>ingest data from NFLVerse into local storage, then transform to database dimensions<font/>\n",
    "\n",
    "our goal in this step is to get the information downloaded with as few risk as possible\n",
    "\n",
    "this protects us from any unexpected changes in the nflverse datasets or issues wihtout own transformations\n",
    "\n",
    "once we have the data safely in our system we can dimension and store the data in a database with as many validations and retries as necessary\n",
    "\n",
    "normally we will run this from a python job 'src.nfl_main_job.py' but for demo purposes we'll run these here\n",
    "\n"
   ],
   "metadata": {
    "collapsed": false
   }
  },
  {
   "cell_type": "markdown",
   "source": [
    "### <font color=\"#9370DB\">read nflverse data to output folders</font>\n",
    "\n",
    "<font color=purple>\n",
    "\n",
    "- our goal is to get the data stored without risk of failures - we store directly to local or s3\n",
    "- The files we want are configures in the configs.py code\n",
    "- using a synchronous http client\n",
    "- and a fixed size executor thread pool\n",
    "<font/>"
   ],
   "metadata": {
    "collapsed": false
   }
  },
  {
   "cell_type": "code",
   "execution_count": 5,
   "outputs": [
    {
     "name": "stderr",
     "output_type": "stream",
     "text": [
      "2023-07-20 09:37:31,478 - INFO - Success: https://github.com/nflverse/nflverse-data/releases/download/nextgen_stats/ngs_2016_rushing.csv.gz\n",
      "2023-07-20 09:37:31,542 - INFO - Success: https://github.com/nflverse/nflverse-data/releases/download/nextgen_stats/ngs_2016_passing.csv.gz\n",
      "2023-07-20 09:37:31,600 - INFO - Success: https://github.com/nflverse/nflverse-data/releases/download/nextgen_stats/ngs_2016_receiving.csv.gz\n",
      "2023-07-20 09:37:31,626 - INFO - Success: https://github.com/nflverse/nflverse-data/releases/download/injuries/injuries_2016.parquet\n",
      "2023-07-20 09:37:31,714 - INFO - Success: https://github.com/nflverse/nflverse-data/releases/download/pbp/play_by_play_2016.parquet\n",
      "2023-07-20 09:37:31,930 - INFO - Success: https://github.com/nflverse/nflverse-data/releases/download/players/players.parquet\n",
      "2023-07-20 09:37:32,305 - INFO - Success: https://github.com/nflverse/nflverse-data/releases/download/player_stats/player_stats.parquet\n",
      "2023-07-20 09:37:32,483 - INFO - Success: https://github.com/nflverse/nflverse-data/releases/download/pbp_participation/pbp_participation_2016.parquet\n",
      "2023-07-20 09:37:32,535 - INFO - Success: https://github.com/nflverse/nflverse-data/releases/download/injuries/injuries_2017.parquet\n",
      "2023-07-20 09:37:32,593 - INFO - Success: https://github.com/nflverse/nflverse-data/releases/download/nextgen_stats/ngs_2017_passing.csv.gz\n",
      "2023-07-20 09:37:32,634 - INFO - Success: https://github.com/nflverse/nflverse-data/releases/download/nextgen_stats/ngs_2017_rushing.csv.gz\n",
      "2023-07-20 09:37:32,678 - INFO - Success: https://github.com/nflverse/nflverse-data/releases/download/nextgen_stats/ngs_2017_receiving.csv.gz\n",
      "2023-07-20 09:37:32,704 - INFO - Success: https://github.com/nflverse/nflverse-data/releases/download/pbp_participation/pbp_participation_2017.parquet\n",
      "2023-07-20 09:37:33,096 - INFO - Success: https://github.com/nflverse/nflverse-data/releases/download/pbp/play_by_play_2017.parquet\n",
      "2023-07-20 09:37:33,346 - INFO - Success: https://github.com/nflverse/nflverse-data/releases/download/injuries/injuries_2018.parquet\n",
      "2023-07-20 09:37:33,490 - INFO - Success: https://github.com/nflverse/nflverse-data/releases/download/nextgen_stats/ngs_2018_rushing.csv.gz\n",
      "2023-07-20 09:37:33,497 - INFO - Success: https://github.com/nflverse/nflverse-data/releases/download/nextgen_stats/ngs_2018_passing.csv.gz\n",
      "2023-07-20 09:37:33,643 - INFO - Success: https://github.com/nflverse/nflverse-data/releases/download/nextgen_stats/ngs_2018_receiving.csv.gz\n",
      "2023-07-20 09:37:33,790 - INFO - Success: https://github.com/nflverse/nflverse-data/releases/download/pbp_participation/pbp_participation_2018.parquet\n",
      "2023-07-20 09:37:33,928 - INFO - Success: https://github.com/nflverse/nflverse-data/releases/download/injuries/injuries_2019.parquet\n",
      "2023-07-20 09:37:33,998 - INFO - Success: https://github.com/nflverse/nflverse-data/releases/download/pbp/play_by_play_2018.parquet\n",
      "2023-07-20 09:37:34,170 - INFO - Success: https://github.com/nflverse/nflverse-data/releases/download/pbp_participation/pbp_participation_2019.parquet\n",
      "2023-07-20 09:37:34,216 - INFO - Success: https://github.com/nflverse/nflverse-data/releases/download/nextgen_stats/ngs_2019_passing.csv.gz\n",
      "2023-07-20 09:37:34,408 - INFO - Success: https://github.com/nflverse/nflverse-data/releases/download/nextgen_stats/ngs_2019_rushing.csv.gz\n",
      "2023-07-20 09:37:34,614 - INFO - Success: https://github.com/nflverse/nflverse-data/releases/download/nextgen_stats/ngs_2019_receiving.csv.gz\n",
      "2023-07-20 09:37:34,806 - INFO - Success: https://github.com/nflverse/nflverse-data/releases/download/injuries/injuries_2020.parquet\n",
      "2023-07-20 09:37:34,965 - INFO - Success: https://github.com/nflverse/nflverse-data/releases/download/nextgen_stats/ngs_2020_passing.csv.gz\n",
      "2023-07-20 09:37:35,064 - INFO - Success: https://github.com/nflverse/nflverse-data/releases/download/pbp_participation/pbp_participation_2020.parquet\n",
      "2023-07-20 09:37:35,280 - INFO - Success: https://github.com/nflverse/nflverse-data/releases/download/nextgen_stats/ngs_2020_receiving.csv.gz\n",
      "2023-07-20 09:37:35,306 - INFO - Success: https://github.com/nflverse/nflverse-data/releases/download/nextgen_stats/ngs_2020_rushing.csv.gz\n",
      "2023-07-20 09:37:35,654 - INFO - Success: https://github.com/nflverse/nflverse-data/releases/download/injuries/injuries_2021.parquet\n",
      "2023-07-20 09:37:35,918 - INFO - Success: https://github.com/nflverse/nflverse-data/releases/download/pbp/play_by_play_2020.parquet\n",
      "2023-07-20 09:37:35,956 - INFO - Success: https://github.com/nflverse/nflverse-data/releases/download/nextgen_stats/ngs_2021_passing.csv.gz\n",
      "2023-07-20 09:37:36,062 - INFO - Success: https://github.com/nflverse/nflverse-data/releases/download/nextgen_stats/ngs_2021_rushing.csv.gz\n",
      "2023-07-20 09:37:36,190 - INFO - Success: https://github.com/nflverse/nflverse-data/releases/download/pbp/play_by_play_2019.parquet\n",
      "2023-07-20 09:37:36,202 - INFO - Success: https://github.com/nflverse/nflverse-data/releases/download/nextgen_stats/ngs_2021_receiving.csv.gz\n",
      "2023-07-20 09:37:36,409 - INFO - Success: https://github.com/nflverse/nflverse-data/releases/download/pbp/play_by_play_2021.parquet\n",
      "2023-07-20 09:37:36,643 - INFO - Success: https://github.com/nflverse/nflverse-data/releases/download/pbp_participation/pbp_participation_2021.parquet\n",
      "2023-07-20 09:37:36,757 - INFO - Success: https://github.com/nflverse/nflverse-data/releases/download/injuries/injuries_2022.parquet\n",
      "2023-07-20 09:37:36,967 - INFO - Success: https://github.com/nflverse/nflverse-data/releases/download/pbp_participation/pbp_participation_2022.parquet\n",
      "2023-07-20 09:37:36,973 - INFO - Success: https://github.com/nflverse/nflverse-data/releases/download/nextgen_stats/ngs_2022_passing.csv.gz\n",
      "2023-07-20 09:37:36,980 - INFO - Success: https://github.com/nflverse/nflverse-data/releases/download/nextgen_stats/ngs_2022_rushing.csv.gz\n",
      "2023-07-20 09:37:37,153 - INFO - Success: https://github.com/nflverse/nflverse-data/releases/download/nextgen_stats/ngs_2022_receiving.csv.gz\n",
      "2023-07-20 09:37:37,367 - INFO - Success: https://github.com/nflverse/nflverse-data/releases/download/pfr_advstats/advstats_season_def.parquet\n",
      "2023-07-20 09:37:37,396 - INFO - Success: https://github.com/nflverse/nflverse-data/releases/download/pfr_advstats/advstats_season_rush.parquet\n",
      "2023-07-20 09:37:37,441 - INFO - Success: https://github.com/nflverse/nflverse-data/releases/download/pfr_advstats/advstats_season_pass.parquet\n",
      "2023-07-20 09:37:37,675 - INFO - Success: https://github.com/nflverse/nflverse-data/releases/download/pfr_advstats/advstats_season_rec.parquet\n",
      "2023-07-20 09:37:37,689 - INFO - Success: https://github.com/nflverse/nflverse-data/releases/download/pbp/play_by_play_2022.parquet\n"
     ]
    }
   ],
   "source": [
    "read_nflverse_datasets()"
   ],
   "metadata": {
    "collapsed": false,
    "ExecuteTime": {
     "end_time": "2023-07-20T16:37:37.694299Z",
     "start_time": "2023-07-20T16:37:28.782118Z"
    }
   }
  },
  {
   "cell_type": "markdown",
   "source": [
    "### <font color=\"#9370DB\">load to database</font>\n",
    "\n",
    "<font color=purple>\n",
    "\n",
    "In this step we read from the output directory\n",
    "\n",
    "we then split the data into several dimensions based on cardinality\n",
    "\n",
    "<br>\n",
    "\n",
    "for example we,\n",
    "\n",
    "<br>\n",
    "\n",
    "* explode the player participation array columns into thier own datasets, and\n",
    "* create a play_actions dataset that contains key play by play info\n",
    "* pull out all the player events in the play-by-play data, cross-reference them to the team they are playing for in that week\n",
    "* pull out game data e.g. game date, final scores, home and away teams, et.\n",
    "\n",
    "<br>\n",
    "\n",
    "we load all dimensions to an relational database for availability to other experiments\n",
    "\n",
    "\n",
    "todo:  the load process should be using a bulk/copy instead of inserts\n",
    "<font/>"
   ],
   "metadata": {
    "collapsed": false
   }
  },
  {
   "cell_type": "code",
   "execution_count": 6,
   "outputs": [
    {
     "name": "stderr",
     "output_type": "stream",
     "text": [
      "2023-07-20 09:37:40,213 - INFO - Reading all files from pbp\n",
      "2023-07-20 09:37:40,214 - INFO -   + Reading pbp_2019.parquet\n",
      "2023-07-20 09:37:40,371 - INFO -   + Reading pbp_2018.parquet\n",
      "2023-07-20 09:37:40,469 - INFO -   + Reading pbp_2022.parquet\n",
      "2023-07-20 09:37:40,569 - INFO -   + Reading pbp_2021.parquet\n",
      "2023-07-20 09:37:40,665 - INFO -   + Reading pbp_2017.parquet\n",
      "2023-07-20 09:37:40,765 - INFO -   + Reading pbp_2016.parquet\n",
      "2023-07-20 09:37:40,864 - INFO -   + Reading pbp_2020.parquet\n",
      "2023-07-20 09:37:43,921 - INFO - Impute columns to 0\n",
      "2023-07-20 09:37:44,091 - INFO - impute non binary pbp columns ...\n",
      "2023-07-20 09:37:44,641 - INFO - Impute columns to 0\n",
      "2023-07-20 09:37:45,290 - INFO - Impute columns to 0:00\n",
      "2023-07-20 09:37:46,596 - INFO - Impute columns to NA\n",
      "2023-07-20 09:37:52,080 - INFO - moving play_id to play_counter, and creating a joinable play_id key\n",
      "2023-07-20 09:37:52,817 - INFO - Conform key actions like pass, rush, kickoff, etc. and add a single category field called actions... \n",
      "2023-07-20 09:38:04,001 - INFO - Validate actions dimension ...\n",
      "2023-07-20 09:38:04,275 - INFO - Validating game 2016_01_BUF_BAL values at location: checking play_action counts...\n",
      "2023-07-20 09:38:04,287 - INFO - Creating new drive dimension...\n",
      "2023-07-20 09:38:04,358 - INFO - Validate drive_df dimension ...\n",
      "2023-07-20 09:38:04,582 - INFO - Creating new situations dimension...\n",
      "2023-07-20 09:38:04,649 - INFO - Validate situation_df dimension ...\n",
      "2023-07-20 09:38:04,860 - INFO - Creating new metrics dimension...\n",
      "2023-07-20 09:38:04,907 - INFO - Validate play_metrics_df dimension ...\n",
      "2023-07-20 09:38:04,995 - INFO - Creating new game dimension...\n",
      "2023-07-20 09:38:05,691 - INFO - Validate games dimension ...\n",
      "2023-07-20 09:38:05,694 - INFO - Create stats for pbp player involvement by play ...\n",
      "2023-07-20 09:38:11,766 - INFO - Creating new analytics dimension...\n",
      "2023-07-20 09:38:12,042 - INFO - Reading all files from pbp-participation\n",
      "2023-07-20 09:38:12,043 - INFO -   + Reading pbp-participation_2019.parquet\n",
      "2023-07-20 09:38:12,071 - INFO -   + Reading pbp-participation_2018.parquet\n",
      "2023-07-20 09:38:12,094 - INFO -   + Reading pbp-participation_2017.parquet\n",
      "2023-07-20 09:38:12,116 - INFO -   + Reading pbp-participation_2021.parquet\n",
      "2023-07-20 09:38:12,138 - INFO -   + Reading pbp-participation_2020.parquet\n",
      "2023-07-20 09:38:12,159 - INFO -   + Reading pbp-participation_2016.parquet\n",
      "2023-07-20 09:38:12,181 - INFO -   + Reading pbp-participation_2022.parquet\n",
      "2023-07-20 09:38:12,299 - INFO - pbp_participation:  move play_id to a play_count column and create a unique play_id that can be used in joins...\n",
      "2023-07-20 09:38:12,524 - INFO - Calculating defense and offense team names by player and play...\n",
      "2023-07-20 09:38:14,976 - INFO - Exploding offensive players to their own dataset...\n",
      "2023-07-20 09:38:16,361 - INFO - Exploding defense_players to their own dataset...\n",
      "2023-07-20 09:38:24,460 - WARNING - combining offense and defense players - counts are incorrect 6903461 != 6902991\n",
      "2023-07-20 09:38:28,216 - INFO - Reading all files from injuries\n",
      "2023-07-20 09:38:28,217 - INFO -   + Reading injuries_2017.parquet\n",
      "2023-07-20 09:38:28,222 - INFO -   + Reading injuries_2021.parquet\n",
      "2023-07-20 09:38:28,226 - INFO -   + Reading injuries_2020.parquet\n",
      "2023-07-20 09:38:28,231 - INFO -   + Reading injuries_2016.parquet\n",
      "2023-07-20 09:38:28,235 - INFO -   + Reading injuries_2022.parquet\n",
      "2023-07-20 09:38:28,239 - INFO -   + Reading injuries_2019.parquet\n",
      "2023-07-20 09:38:28,243 - INFO -   + Reading injuries_2018.parquet\n",
      "2023-07-20 09:38:28,256 - INFO - Prep injury data...\n",
      "2023-07-20 09:38:28,257 - INFO - Conforming names (e.g. gsis_id -> player_id)\n",
      "2023-07-20 09:38:28,267 - INFO - Merge sparse injury columns\n",
      "2023-07-20 09:38:28,269 - INFO - Get best values for null report_statuses...\n",
      "2023-07-20 09:38:28,331 - INFO - check that all positions are correct...\n",
      "2023-07-20 09:38:28,338 - INFO - Reading all files from player-stats\n",
      "2023-07-20 09:38:28,339 - INFO -   + Reading player-stats.parquet\n",
      "2023-07-20 09:38:28,375 - INFO - fix specific player_stats: <function player_stats_fixes at 0x17a1bc940>..\n",
      "2023-07-20 09:38:28,449 - INFO - replace empty position_groups with position info...\n",
      "2023-07-20 09:38:28,461 - INFO - replace empty player_name with player_display_name info...\n",
      "2023-07-20 09:38:28,473 - INFO - replace empty headshot_url with 'none'...\n",
      "2023-07-20 09:38:28,484 - INFO - fillna(0) for all binary columns...\n",
      "2023-07-20 09:38:28,484 - INFO - Impute columns to 0\n",
      "2023-07-20 09:38:28,672 - WARNING - After merge player_stats count changed - went from 124081 to 124083\n",
      "2023-07-20 09:38:28,676 - INFO - Reading all files from players\n",
      "2023-07-20 09:38:28,677 - INFO -   + Reading players.parquet\n",
      "2023-07-20 09:38:28,701 - INFO - Process players dataset...\n",
      "2023-07-20 09:38:28,702 - INFO - drop players without gsis_ids - they won't link to player_stats\n",
      "2023-07-20 09:38:28,719 - INFO - fill empty players status to 'NONE'\n",
      "2023-07-20 09:38:28,726 - INFO - rename gsis_id to player_id...\n",
      "2023-07-20 09:38:28,727 - INFO - Reading all files from advstats-season-def\n",
      "2023-07-20 09:38:28,728 - INFO -   + Reading advstats-season-def.parquet\n",
      "2023-07-20 09:38:28,733 - INFO - Reading all files from advstats-season-pass\n",
      "2023-07-20 09:38:28,734 - INFO -   + Reading advstats-season-pass.parquet\n",
      "2023-07-20 09:38:28,737 - INFO - Reading all files from advstats-season-rec\n",
      "2023-07-20 09:38:28,738 - INFO -   + Reading advstats-season-rec.parquet\n",
      "2023-07-20 09:38:28,741 - INFO - Reading all files from advstats-season-rush\n",
      "2023-07-20 09:38:28,741 - INFO -   + Reading advstats-season-rush.parquet\n",
      "2023-07-20 09:38:28,744 - INFO - Reading all files from nextgen-passing\n",
      "2023-07-20 09:38:28,745 - INFO -   + Reading nextgen-passing_2017.csv.gz\n",
      "2023-07-20 09:38:28,749 - INFO -   + Reading nextgen-passing_2021.csv.gz\n",
      "2023-07-20 09:38:28,753 - INFO -   + Reading nextgen-passing_2019.csv.gz\n",
      "2023-07-20 09:38:28,756 - INFO -   + Reading nextgen-passing_2020.csv.gz\n",
      "2023-07-20 09:38:28,760 - INFO -   + Reading nextgen-passing_2016.csv.gz\n",
      "2023-07-20 09:38:28,764 - INFO -   + Reading nextgen-passing_2022.csv.gz\n",
      "2023-07-20 09:38:28,769 - INFO -   + Reading nextgen-passing_2018.csv.gz\n",
      "2023-07-20 09:38:28,775 - INFO - Reading all files from nextgen-receiving\n",
      "2023-07-20 09:38:28,775 - INFO -   + Reading nextgen-receiving_2021.csv.gz\n",
      "2023-07-20 09:38:28,782 - INFO -   + Reading nextgen-receiving_2017.csv.gz\n",
      "2023-07-20 09:38:28,788 - INFO -   + Reading nextgen-receiving_2019.csv.gz\n",
      "2023-07-20 09:38:28,793 - INFO -   + Reading nextgen-receiving_2016.csv.gz\n",
      "2023-07-20 09:38:28,799 - INFO -   + Reading nextgen-receiving_2020.csv.gz\n",
      "2023-07-20 09:38:28,806 - INFO -   + Reading nextgen-receiving_2018.csv.gz\n",
      "2023-07-20 09:38:28,811 - INFO -   + Reading nextgen-receiving_2022.csv.gz\n",
      "2023-07-20 09:38:28,819 - INFO - Reading all files from nextgen-rushing\n",
      "2023-07-20 09:38:28,819 - INFO -   + Reading nextgen-rushing_2018.csv.gz\n",
      "2023-07-20 09:38:28,822 - INFO -   + Reading nextgen-rushing_2022.csv.gz\n",
      "2023-07-20 09:38:28,825 - INFO -   + Reading nextgen-rushing_2016.csv.gz\n",
      "2023-07-20 09:38:28,828 - INFO -   + Reading nextgen-rushing_2020.csv.gz\n",
      "2023-07-20 09:38:28,831 - INFO -   + Reading nextgen-rushing_2019.csv.gz\n",
      "2023-07-20 09:38:28,835 - INFO -   + Reading nextgen-rushing_2021.csv.gz\n",
      "2023-07-20 09:38:28,839 - INFO -   + Reading nextgen-rushing_2017.csv.gz\n",
      "2023-07-20 09:38:28,843 - INFO - create table play_actions in schema controls\n",
      "2023-07-20 09:39:08,286 - INFO - create table game_drive in schema controls\n",
      "2023-07-20 09:39:27,848 - INFO - create table play_analytics in schema controls\n",
      "2023-07-20 09:40:39,754 - INFO - create table play_situations in schema controls\n",
      "2023-07-20 09:41:07,843 - INFO - create table play_metrics in schema controls\n",
      "2023-07-20 09:41:30,063 - INFO - create table player_events in schema controls\n",
      "2023-07-20 09:41:39,724 - INFO - create table game_info in schema controls\n",
      "2023-07-20 09:41:39,878 - INFO - create table player_participation in schema controls\n",
      "2023-07-20 09:45:49,286 - INFO - create table injuries in schema controls\n",
      "2023-07-20 09:45:51,021 - INFO - create table players in schema controls\n",
      "2023-07-20 09:45:52,456 - INFO - create table player_stats in schema controls\n",
      "2023-07-20 09:46:09,537 - INFO - create table adv_stats_def in schema controls\n",
      "2023-07-20 09:46:09,924 - INFO - create table adv_stats_pass in schema controls\n",
      "2023-07-20 09:46:09,981 - INFO - create table adv_stats_rec in schema controls\n",
      "2023-07-20 09:46:10,180 - INFO - create table adv_stats_rush in schema controls\n",
      "2023-07-20 09:46:10,285 - INFO - create table nextgen_pass in schema controls\n",
      "2023-07-20 09:46:10,639 - INFO - create table nextgen_rec in schema controls\n",
      "2023-07-20 09:46:11,323 - INFO - create table nextgen_rush in schema controls\n"
     ]
    }
   ],
   "source": [
    "create_nfl_database()"
   ],
   "metadata": {
    "collapsed": false,
    "ExecuteTime": {
     "end_time": "2023-07-20T16:46:12.033605Z",
     "start_time": "2023-07-20T16:37:40.214735Z"
    }
   }
  },
  {
   "cell_type": "markdown",
   "source": [
    "## <font color=teal>prepare data for team/week win/loss experiment<font/>\n",
    "\n",
    "Our goal is to use the nfl dimensions we have created to prepare data for our a team/week experiment\n",
    "\n",
    "The team_week experiment aims to select the best features in the nflverse data to predict win/loss\n",
    "\n",
    "The expectations is not that we can really predict win/loss any better than current statistical approaches, but to experiment with potentials for ML\n",
    "\n",
    "Normally we will run this from a python job 'src.nfl_main_job.py' but for demo purposes we'll run these here\n"
   ],
   "metadata": {
    "collapsed": false
   }
  },
  {
   "cell_type": "markdown",
   "source": [
    "### <font color=\"#9370DB\">load to database</font>\n",
    "\n",
    "<font color=purple>\n",
    "\n",
    "In this step we use SQL queries to pull play actions, events and statistics from the nfl database\n",
    "\n",
    "We are lagging and leading to fill incomplete data in the original dataset\n",
    "\n",
    "We are merging all statistics into defense and offense datasets so they can be attributed to specific teams\n",
    "\n",
    "for example, for the Ravens (BAL) vs Jets (NYJ) in week 1 of 2022 we want separate sets for BAL and NYJ - so each team has its own stats\n",
    "\n",
    "We are aggregating up to the Season, Week, Team level for this application\n",
    "\n",
    "We can concatenate available statistics, which are also at the Season, Week, Team level\n",
    "\n",
    "finally, we create play_action, offense and defense datasets in our data directory and optionally back to the database\n",
    "\n",
    "<font/>\n"
   ],
   "metadata": {
    "collapsed": false
   }
  },
  {
   "cell_type": "code",
   "execution_count": 7,
   "outputs": [
    {
     "name": "stderr",
     "output_type": "stream",
     "text": [
      "2023-07-20 09:46:12,034 - INFO - Build a 'control' dataset with all seasons and weeks...\n",
      "2023-07-20 09:46:12,641 - INFO - query and modify play actions data ...\n",
      "2023-07-20 09:46:16,236 - INFO - Validating game 2016_01_BUF_BAL values at location: double checking play actions before save...\n",
      "2023-07-20 09:46:16,257 - INFO - query and modify game info data ...\n",
      "2023-07-20 09:46:16,284 - INFO - query and modify next gen passing data ...\n",
      "2023-07-20 09:46:16,321 - INFO - query and modify next gen rushing data ...\n",
      "2023-07-20 09:46:16,338 - INFO - query and modify play-by-play player events ...\n",
      "2023-07-20 09:46:20,983 - INFO - query defense player_stats data ...\n",
      "2023-07-20 09:46:21,110 - INFO - query offense player_stats data ...\n",
      "2023-07-20 09:46:21,267 - INFO - back and forward fill ngs_air_power metrics by week ...\n",
      "2023-07-20 09:46:21,285 - INFO - back and forward fill ngs_ground_power metrics by week ...\n",
      "2023-07-20 09:46:21,294 - INFO - back and forward fill pbp_events metrics by week ...\n",
      "2023-07-20 09:46:21,303 - INFO - back and forward fill defense_stats metrics by week ...\n",
      "2023-07-20 09:46:21,316 - INFO - back and forward fill possession_stats metrics by week ...\n",
      "2023-07-20 09:46:21,337 - INFO - back and forward fill ngs_air_power metrics by week ...\n",
      "2023-07-20 09:46:21,355 - INFO - merge offense events info into a single offense stats dataset...\n",
      "2023-07-20 09:46:21,359 - INFO - possession_stats before: (3961, 28), after: (3961, 54)\n",
      "2023-07-20 09:46:21,363 - INFO - possession_stats before: (3961, 28), after game_info: (3812, 62) -ok - these look like garbage rows and it's only 149 \n",
      "2023-07-20 09:46:21,365 - INFO - merge defense events info into a single defense stats dataset...\n",
      "2023-07-20 09:46:21,367 - INFO - possession_stats before: (3961, 13), after: (3961, 19)\n",
      "2023-07-20 09:46:21,370 - INFO - defense_stats before: (3961, 13), after game_info: (3812, 27) -ok - these look like garbage rows, not needed for this application \n",
      "2023-07-20 09:46:21,374 - INFO - save play action and merged offense and defense stats ...\n",
      "2023-07-20 09:46:21,375 - INFO - writing file tmp_weekly_offense  to /Users/christopherlomeli/Source/courses/datascience/Springboard/capstone/NFL/NFLVersReader/data/nfl/tmp_weekly_offense.parquet\n",
      "2023-07-20 09:46:21,513 - INFO - writing file tmp_weekly_defense  to /Users/christopherlomeli/Source/courses/datascience/Springboard/capstone/NFL/NFLVersReader/data/nfl/tmp_weekly_defense.parquet\n",
      "2023-07-20 09:46:21,526 - INFO - writing file tmp_weekly_play_actions  to /Users/christopherlomeli/Source/courses/datascience/Springboard/capstone/NFL/NFLVersReader/data/nfl/tmp_weekly_play_actions.parquet\n"
     ]
    },
    {
     "name": "stdout",
     "output_type": "stream",
     "text": [
      "Shape of ngs_air_power                 :  (3961, 21),\t Contains 7 seasons, starting with 2016 and ending in 2022 min week: 1, max week : 22\n",
      "Shape of ngs_ground_power              :  (3961, 11),\t Contains 7 seasons, starting with 2016 and ending in 2022 min week: 1, max week : 22\n",
      "Shape of pbp_events                    :  (3961, 9),\t Contains 7 seasons, starting with 2016 and ending in 2022 min week: 1, max week : 22\n",
      "Shape of defense_stats                 :  (3961, 13),\t Contains 7 seasons, starting with 2016 and ending in 2022 min week: 1, max week : 22\n",
      "Shape of possession_stats              :  (3961, 28),\t Contains 7 seasons, starting with 2016 and ending in 2022 min week: 1, max week : 22\n",
      "Shape of game info                     :  (3812, 11),\t Contains 7 seasons, starting with 2016 and ending in 2022 min week: 1, max week : 22\n",
      "ok\n",
      "ok\n"
     ]
    }
   ],
   "source": [
    "prepare_team_week_dataset(store_to_db=False)"
   ],
   "metadata": {
    "collapsed": false,
    "ExecuteTime": {
     "end_time": "2023-07-20T16:46:22.105488Z",
     "start_time": "2023-07-20T16:46:12.036557Z"
    }
   }
  },
  {
   "cell_type": "markdown",
   "source": [
    "### <font color=\"#9370DB\">feature selection</font>\n",
    "\n",
    "<font color=purple>\n",
    "\n",
    "In this step we use the weekly datasets we've created to find the best feature to predict game win/loss\n",
    "\n",
    "We perform some data prep, including scaling, categorical encoding\n",
    "\n",
    "We perform sklearn correlations, generally and specifically for the target win/loss column\n",
    "\n",
    "After some automl experiments, we use xgboost to determine the best features for predicting win/loss\n",
    "\n",
    "We separate the top features for defense and offense and calculate a weighted average of all to get a single defense_power and offense_power score\n",
    "\n",
    "We perform a sanity check to validate that the power score columns learn as well as the individual stats, and has the ability to learn\n",
    "\n",
    "<font/>\n"
   ],
   "metadata": {
    "collapsed": false
   }
  },
  {
   "cell_type": "code",
   "execution_count": 8,
   "outputs": [
    {
     "name": "stderr",
     "output_type": "stream",
     "text": [
      "2023-07-20 09:46:28,362 - INFO - SelectNFLFeatures\n",
      "2023-07-20 09:46:28,363 - INFO - load tmp_weekly_offense\n",
      "2023-07-20 09:46:28,371 - INFO - prepare a features dataset\n",
      "2023-07-20 09:46:28,371 - INFO - encode the target win/loss column\n",
      "2023-07-20 09:46:28,373 - INFO - create a features dataframe for feature selection ...\n",
      "2023-07-20 09:46:28,373 - INFO - scale all features  ...\n",
      "2023-07-20 09:46:29,998 - INFO - get percentage contribution of offensive and defensive features\n",
      "2023-07-20 09:46:30,012 - INFO - calculate weighted average of offensive and defensive features\n",
      "2023-07-20 09:46:30,029 - INFO - Writing to tmp_offense_week_features\n",
      "2023-07-20 09:46:30,052 - INFO - SelectNFLFeatures\n",
      "2023-07-20 09:46:30,052 - INFO - load tmp_weekly_defense\n",
      "2023-07-20 09:46:30,067 - INFO - prepare a features dataset\n",
      "2023-07-20 09:46:30,067 - INFO - encode the target win/loss column\n",
      "2023-07-20 09:46:30,068 - INFO - create a features dataframe for feature selection ...\n",
      "2023-07-20 09:46:30,069 - INFO - scale all features  ...\n",
      "2023-07-20 09:46:30,896 - INFO - get percentage contribution of offensive and defensive features\n",
      "2023-07-20 09:46:30,898 - INFO - calculate weighted average of offensive and defensive features\n",
      "2023-07-20 09:46:30,903 - INFO - Writing to tmp_defense_week_features\n"
     ]
    }
   ],
   "source": [
    "perform_team_week_feature_selection()"
   ],
   "metadata": {
    "collapsed": false,
    "ExecuteTime": {
     "end_time": "2023-07-20T16:46:30.918701Z",
     "start_time": "2023-07-20T16:46:28.363837Z"
    }
   }
  },
  {
   "cell_type": "markdown",
   "source": [
    "### <font color=\"#9370DB\">merge play action and performance features into play action</font>\n",
    "\n",
    "<font color=purple>\n",
    "\n",
    "In this step we merge defense and offense data back into play_action data\n",
    "\n",
    "<br>\n",
    "\n",
    "For example:\n",
    "\n",
    "\n",
    "Taking the Ravens (BAL) vs Jets (NYJ) game in in week 1 of 2022\n",
    "\n",
    "for each drive the offense and defense changes:  BAL is offense in drive 1, then defense in drive 2\n",
    "\n",
    "we create two different slices for that single game - one focused on BAL and the other on NYJ\n",
    "\n",
    "we then fold in the offense and defense stats for each drive from our defense and offense datasets\n",
    "\n",
    "<br>\n",
    "\n",
    "* for drive 1 where BAL is playing offense:\n",
    "\n",
    "    - the offense's offense_power (offense_op) will come from BAL's offense stats\n",
    "    - the offense's defense_power (offense_dp) will come from BAL's defense stats\n",
    "    - the defense's offense_power (defense_op) will come from NYJ's offense stats\n",
    "    - the defense's defense_power (defense_dp) will come from NYJ's defense stats\n",
    "\n",
    "\n",
    "<font/>"
   ],
   "metadata": {
    "collapsed": false
   }
  },
  {
   "cell_type": "code",
   "execution_count": 9,
   "outputs": [
    {
     "name": "stderr",
     "output_type": "stream",
     "text": [
      "2023-07-20 09:46:30,918 - INFO - loading weekly features into a single game dataset...\n",
      "2023-07-20 09:46:30,919 - INFO - Reading from tmp_weekly_play_actions\n",
      "2023-07-20 09:46:31,029 - INFO - Reading from tmp_offense_week_features\n",
      "2023-07-20 09:46:31,033 - INFO - Reading from tmp_defense_week_features\n",
      "2023-07-20 09:46:31,037 - INFO - merge stats into play_actions...\n",
      "2023-07-20 09:46:31,874 - INFO - Validating game 2016_01_BUF_BAL values at location: merging offense_OP...\n",
      "2023-07-20 09:46:32,894 - INFO - Validating game 2016_01_BUF_BAL values at location: merging offense_DP...\n",
      "2023-07-20 09:46:34,008 - INFO - Validating game 2016_01_BUF_BAL values at location: merging defense_OP...\n",
      "2023-07-20 09:46:34,700 - INFO - Validating game 2016_01_BUF_BAL values at location: merging defense_DP...\n",
      "2023-07-20 09:46:34,728 - INFO - aggregate game dataset weekly stats by season, week, team...\n",
      "2023-07-20 09:46:34,980 - INFO - writing file weekly_game_stats  to /Users/christopherlomeli/Source/courses/datascience/Springboard/capstone/NFL/NFLVersReader/data/nfl/weekly_game_stats.parquet\n"
     ]
    }
   ],
   "source": [
    "merge_team_week_features()"
   ],
   "metadata": {
    "collapsed": false,
    "ExecuteTime": {
     "end_time": "2023-07-20T16:46:35.009425Z",
     "start_time": "2023-07-20T16:46:30.919524Z"
    }
   }
  },
  {
   "cell_type": "markdown",
   "source": [],
   "metadata": {
    "collapsed": false
   }
  }
 ],
 "metadata": {
  "kernelspec": {
   "display_name": "Python 3",
   "language": "python",
   "name": "python3"
  },
  "language_info": {
   "codemirror_mode": {
    "name": "ipython",
    "version": 2
   },
   "file_extension": ".py",
   "mimetype": "text/x-python",
   "name": "python",
   "nbconvert_exporter": "python",
   "pygments_lexer": "ipython2",
   "version": "2.7.6"
  }
 },
 "nbformat": 4,
 "nbformat_minor": 0
}
