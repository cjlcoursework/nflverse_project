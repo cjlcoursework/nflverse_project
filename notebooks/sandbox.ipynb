{
 "cells": [
  {
   "cell_type": "code",
   "execution_count": 3,
   "outputs": [],
   "source": [
    "import logging\n",
    "\n",
    "from src import configs\n",
    "import os\n",
    "import sys\n",
    "sys.path.append(os.path.abspath(\"../src\"))\n",
    "\n",
    "from src import *"
   ],
   "metadata": {
    "collapsed": false,
    "ExecuteTime": {
     "end_time": "2023-07-13T01:07:01.359443Z",
     "start_time": "2023-07-13T01:07:01.350324Z"
    }
   }
  },
  {
   "cell_type": "code",
   "execution_count": 4,
   "outputs": [],
   "source": [
    "from src.nflverse_transform_job import load_files\n"
   ],
   "metadata": {
    "collapsed": false,
    "ExecuteTime": {
     "end_time": "2023-07-13T01:07:01.368058Z",
     "start_time": "2023-07-13T01:07:01.353132Z"
    }
   }
  },
  {
   "cell_type": "code",
   "execution_count": 5,
   "outputs": [],
   "source": [
    "pbp = load_files(data_subdir='pbp')"
   ],
   "metadata": {
    "collapsed": false,
    "ExecuteTime": {
     "end_time": "2023-07-13T01:07:10.397831Z",
     "start_time": "2023-07-13T01:07:01.366816Z"
    }
   }
  },
  {
   "cell_type": "code",
   "execution_count": 6,
   "outputs": [
    {
     "data": {
      "text/plain": "        play_id          game_id  old_game_id home_team away_team season_type  \\\n0             1  2022_01_BAL_NYJ   2022091107       NYJ       BAL         REG   \n1            43  2022_01_BAL_NYJ   2022091107       NYJ       BAL         REG   \n2            68  2022_01_BAL_NYJ   2022091107       NYJ       BAL         REG   \n3            89  2022_01_BAL_NYJ   2022091107       NYJ       BAL         REG   \n4           115  2022_01_BAL_NYJ   2022091107       NYJ       BAL         REG   \n...         ...              ...          ...       ...       ...         ...   \n341692     4356   2017_21_PHI_NE   2018020400        NE       PHI        POST   \n341693     4380   2017_21_PHI_NE   2018020400        NE       PHI        POST   \n341694     4397   2017_21_PHI_NE   2018020400        NE       PHI        POST   \n341695     4419   2017_21_PHI_NE   2018020400        NE       PHI        POST   \n341696     4441   2017_21_PHI_NE   2018020400        NE       PHI        POST   \n\n        week posteam posteam_type defteam  ... home_opening_kickoff    qb_epa  \\\n0          1     NaN          NaN     NaN  ...                    1  0.000000   \n1          1     NYJ         home     BAL  ...                    1 -0.443521   \n2          1     NYJ         home     BAL  ...                    1  1.468819   \n3          1     NYJ         home     BAL  ...                    1 -0.492192   \n4          1     NYJ         home     BAL  ...                    1 -0.325931   \n...      ...     ...          ...     ...  ...                  ...       ...   \n341692    21      NE         home     PHI  ...                    0  0.143116   \n341693    21     NaN          NaN     NaN  ...                    0  0.000000   \n341694    21      NE         home     PHI  ...                    0 -0.122166   \n341695    21      NE         home     PHI  ...                    0 -0.301370   \n341696    21     NaN          NaN     NaN  ...                    0       NaN   \n\n        xyac_epa  xyac_mean_yardage  xyac_median_yardage  xyac_success  \\\n0            NaN                NaN                  NaN           NaN   \n1            NaN                NaN                  NaN           NaN   \n2            NaN                NaN                  NaN           NaN   \n3       0.727261           6.988125                  6.0      0.606930   \n4            NaN                NaN                  NaN           NaN   \n...          ...                ...                  ...           ...   \n341692  0.174881           5.562644                  4.0      0.520516   \n341693       NaN                NaN                  NaN           NaN   \n341694  0.271166           3.140363                  1.0      1.000000   \n341695       NaN                NaN                  NaN           NaN   \n341696       NaN                NaN                  NaN           NaN   \n\n         xyac_fd     xpass    pass_oe  \\\n0            NaN       NaN        NaN   \n1            NaN       NaN        NaN   \n2            NaN  0.440373 -44.037291   \n3       0.227598  0.389904  61.009598   \n4            NaN  0.443575 -44.357494   \n...          ...       ...        ...   \n341692  0.240957  0.995264   0.473595   \n341693       NaN       NaN        NaN   \n341694  0.994029  0.998187   0.181276   \n341695       NaN  0.997744   0.225604   \n341696       NaN       NaN        NaN   \n\n                                                op_source  \n0       /Users/christopherlomeli/Source/courses/datasc...  \n1       /Users/christopherlomeli/Source/courses/datasc...  \n2       /Users/christopherlomeli/Source/courses/datasc...  \n3       /Users/christopherlomeli/Source/courses/datasc...  \n4       /Users/christopherlomeli/Source/courses/datasc...  \n...                                                   ...  \n341692  /Users/christopherlomeli/Source/courses/datasc...  \n341693  /Users/christopherlomeli/Source/courses/datasc...  \n341694  /Users/christopherlomeli/Source/courses/datasc...  \n341695  /Users/christopherlomeli/Source/courses/datasc...  \n341696  /Users/christopherlomeli/Source/courses/datasc...  \n\n[341697 rows x 373 columns]",
      "text/html": "<div>\n<style scoped>\n    .dataframe tbody tr th:only-of-type {\n        vertical-align: middle;\n    }\n\n    .dataframe tbody tr th {\n        vertical-align: top;\n    }\n\n    .dataframe thead th {\n        text-align: right;\n    }\n</style>\n<table border=\"1\" class=\"dataframe\">\n  <thead>\n    <tr style=\"text-align: right;\">\n      <th></th>\n      <th>play_id</th>\n      <th>game_id</th>\n      <th>old_game_id</th>\n      <th>home_team</th>\n      <th>away_team</th>\n      <th>season_type</th>\n      <th>week</th>\n      <th>posteam</th>\n      <th>posteam_type</th>\n      <th>defteam</th>\n      <th>...</th>\n      <th>home_opening_kickoff</th>\n      <th>qb_epa</th>\n      <th>xyac_epa</th>\n      <th>xyac_mean_yardage</th>\n      <th>xyac_median_yardage</th>\n      <th>xyac_success</th>\n      <th>xyac_fd</th>\n      <th>xpass</th>\n      <th>pass_oe</th>\n      <th>op_source</th>\n    </tr>\n  </thead>\n  <tbody>\n    <tr>\n      <th>0</th>\n      <td>1</td>\n      <td>2022_01_BAL_NYJ</td>\n      <td>2022091107</td>\n      <td>NYJ</td>\n      <td>BAL</td>\n      <td>REG</td>\n      <td>1</td>\n      <td>NaN</td>\n      <td>NaN</td>\n      <td>NaN</td>\n      <td>...</td>\n      <td>1</td>\n      <td>0.000000</td>\n      <td>NaN</td>\n      <td>NaN</td>\n      <td>NaN</td>\n      <td>NaN</td>\n      <td>NaN</td>\n      <td>NaN</td>\n      <td>NaN</td>\n      <td>/Users/christopherlomeli/Source/courses/datasc...</td>\n    </tr>\n    <tr>\n      <th>1</th>\n      <td>43</td>\n      <td>2022_01_BAL_NYJ</td>\n      <td>2022091107</td>\n      <td>NYJ</td>\n      <td>BAL</td>\n      <td>REG</td>\n      <td>1</td>\n      <td>NYJ</td>\n      <td>home</td>\n      <td>BAL</td>\n      <td>...</td>\n      <td>1</td>\n      <td>-0.443521</td>\n      <td>NaN</td>\n      <td>NaN</td>\n      <td>NaN</td>\n      <td>NaN</td>\n      <td>NaN</td>\n      <td>NaN</td>\n      <td>NaN</td>\n      <td>/Users/christopherlomeli/Source/courses/datasc...</td>\n    </tr>\n    <tr>\n      <th>2</th>\n      <td>68</td>\n      <td>2022_01_BAL_NYJ</td>\n      <td>2022091107</td>\n      <td>NYJ</td>\n      <td>BAL</td>\n      <td>REG</td>\n      <td>1</td>\n      <td>NYJ</td>\n      <td>home</td>\n      <td>BAL</td>\n      <td>...</td>\n      <td>1</td>\n      <td>1.468819</td>\n      <td>NaN</td>\n      <td>NaN</td>\n      <td>NaN</td>\n      <td>NaN</td>\n      <td>NaN</td>\n      <td>0.440373</td>\n      <td>-44.037291</td>\n      <td>/Users/christopherlomeli/Source/courses/datasc...</td>\n    </tr>\n    <tr>\n      <th>3</th>\n      <td>89</td>\n      <td>2022_01_BAL_NYJ</td>\n      <td>2022091107</td>\n      <td>NYJ</td>\n      <td>BAL</td>\n      <td>REG</td>\n      <td>1</td>\n      <td>NYJ</td>\n      <td>home</td>\n      <td>BAL</td>\n      <td>...</td>\n      <td>1</td>\n      <td>-0.492192</td>\n      <td>0.727261</td>\n      <td>6.988125</td>\n      <td>6.0</td>\n      <td>0.606930</td>\n      <td>0.227598</td>\n      <td>0.389904</td>\n      <td>61.009598</td>\n      <td>/Users/christopherlomeli/Source/courses/datasc...</td>\n    </tr>\n    <tr>\n      <th>4</th>\n      <td>115</td>\n      <td>2022_01_BAL_NYJ</td>\n      <td>2022091107</td>\n      <td>NYJ</td>\n      <td>BAL</td>\n      <td>REG</td>\n      <td>1</td>\n      <td>NYJ</td>\n      <td>home</td>\n      <td>BAL</td>\n      <td>...</td>\n      <td>1</td>\n      <td>-0.325931</td>\n      <td>NaN</td>\n      <td>NaN</td>\n      <td>NaN</td>\n      <td>NaN</td>\n      <td>NaN</td>\n      <td>0.443575</td>\n      <td>-44.357494</td>\n      <td>/Users/christopherlomeli/Source/courses/datasc...</td>\n    </tr>\n    <tr>\n      <th>...</th>\n      <td>...</td>\n      <td>...</td>\n      <td>...</td>\n      <td>...</td>\n      <td>...</td>\n      <td>...</td>\n      <td>...</td>\n      <td>...</td>\n      <td>...</td>\n      <td>...</td>\n      <td>...</td>\n      <td>...</td>\n      <td>...</td>\n      <td>...</td>\n      <td>...</td>\n      <td>...</td>\n      <td>...</td>\n      <td>...</td>\n      <td>...</td>\n      <td>...</td>\n      <td>...</td>\n    </tr>\n    <tr>\n      <th>341692</th>\n      <td>4356</td>\n      <td>2017_21_PHI_NE</td>\n      <td>2018020400</td>\n      <td>NE</td>\n      <td>PHI</td>\n      <td>POST</td>\n      <td>21</td>\n      <td>NE</td>\n      <td>home</td>\n      <td>PHI</td>\n      <td>...</td>\n      <td>0</td>\n      <td>0.143116</td>\n      <td>0.174881</td>\n      <td>5.562644</td>\n      <td>4.0</td>\n      <td>0.520516</td>\n      <td>0.240957</td>\n      <td>0.995264</td>\n      <td>0.473595</td>\n      <td>/Users/christopherlomeli/Source/courses/datasc...</td>\n    </tr>\n    <tr>\n      <th>341693</th>\n      <td>4380</td>\n      <td>2017_21_PHI_NE</td>\n      <td>2018020400</td>\n      <td>NE</td>\n      <td>PHI</td>\n      <td>POST</td>\n      <td>21</td>\n      <td>NaN</td>\n      <td>NaN</td>\n      <td>NaN</td>\n      <td>...</td>\n      <td>0</td>\n      <td>0.000000</td>\n      <td>NaN</td>\n      <td>NaN</td>\n      <td>NaN</td>\n      <td>NaN</td>\n      <td>NaN</td>\n      <td>NaN</td>\n      <td>NaN</td>\n      <td>/Users/christopherlomeli/Source/courses/datasc...</td>\n    </tr>\n    <tr>\n      <th>341694</th>\n      <td>4397</td>\n      <td>2017_21_PHI_NE</td>\n      <td>2018020400</td>\n      <td>NE</td>\n      <td>PHI</td>\n      <td>POST</td>\n      <td>21</td>\n      <td>NE</td>\n      <td>home</td>\n      <td>PHI</td>\n      <td>...</td>\n      <td>0</td>\n      <td>-0.122166</td>\n      <td>0.271166</td>\n      <td>3.140363</td>\n      <td>1.0</td>\n      <td>1.000000</td>\n      <td>0.994029</td>\n      <td>0.998187</td>\n      <td>0.181276</td>\n      <td>/Users/christopherlomeli/Source/courses/datasc...</td>\n    </tr>\n    <tr>\n      <th>341695</th>\n      <td>4419</td>\n      <td>2017_21_PHI_NE</td>\n      <td>2018020400</td>\n      <td>NE</td>\n      <td>PHI</td>\n      <td>POST</td>\n      <td>21</td>\n      <td>NE</td>\n      <td>home</td>\n      <td>PHI</td>\n      <td>...</td>\n      <td>0</td>\n      <td>-0.301370</td>\n      <td>NaN</td>\n      <td>NaN</td>\n      <td>NaN</td>\n      <td>NaN</td>\n      <td>NaN</td>\n      <td>0.997744</td>\n      <td>0.225604</td>\n      <td>/Users/christopherlomeli/Source/courses/datasc...</td>\n    </tr>\n    <tr>\n      <th>341696</th>\n      <td>4441</td>\n      <td>2017_21_PHI_NE</td>\n      <td>2018020400</td>\n      <td>NE</td>\n      <td>PHI</td>\n      <td>POST</td>\n      <td>21</td>\n      <td>NaN</td>\n      <td>NaN</td>\n      <td>NaN</td>\n      <td>...</td>\n      <td>0</td>\n      <td>NaN</td>\n      <td>NaN</td>\n      <td>NaN</td>\n      <td>NaN</td>\n      <td>NaN</td>\n      <td>NaN</td>\n      <td>NaN</td>\n      <td>NaN</td>\n      <td>/Users/christopherlomeli/Source/courses/datasc...</td>\n    </tr>\n  </tbody>\n</table>\n<p>341697 rows × 373 columns</p>\n</div>"
     },
     "execution_count": 6,
     "metadata": {},
     "output_type": "execute_result"
    }
   ],
   "source": [
    "pbp"
   ],
   "metadata": {
    "collapsed": false,
    "ExecuteTime": {
     "end_time": "2023-07-13T01:07:26.330870Z",
     "start_time": "2023-07-13T01:07:26.197075Z"
    }
   }
  },
  {
   "cell_type": "markdown",
   "source": [
    "select * from nfl_weekly_stats where team='ARI' and season = 2020 and week =15 order by team, season,week;"
   ],
   "metadata": {
    "collapsed": false
   }
  },
  {
   "cell_type": "code",
   "execution_count": 10,
   "outputs": [
    {
     "data": {
      "text/plain": "       play_id          game_id  old_game_id home_team away_team season_type  \\\n89667        1  2020_15_PHI_ARI   2020122011       ARI       PHI         REG   \n89668       40  2020_15_PHI_ARI   2020122011       ARI       PHI         REG   \n89669       55  2020_15_PHI_ARI   2020122011       ARI       PHI         REG   \n89670       79  2020_15_PHI_ARI   2020122011       ARI       PHI         REG   \n89671      100  2020_15_PHI_ARI   2020122011       ARI       PHI         REG   \n...        ...              ...          ...       ...       ...         ...   \n89879     5046  2020_15_PHI_ARI   2020122011       ARI       PHI         REG   \n89880     5080  2020_15_PHI_ARI   2020122011       ARI       PHI         REG   \n89881     5103  2020_15_PHI_ARI   2020122011       ARI       PHI         REG   \n89882     5125  2020_15_PHI_ARI   2020122011       ARI       PHI         REG   \n89883     5147  2020_15_PHI_ARI   2020122011       ARI       PHI         REG   \n\n       week posteam posteam_type defteam  ... home_opening_kickoff    qb_epa  \\\n89667    15     NaN          NaN     NaN  ...                    1  0.000000   \n89668    15     ARI         home     PHI  ...                    1  0.000000   \n89669    15     ARI         home     PHI  ...                    1  0.881376   \n89670    15     ARI         home     PHI  ...                    1 -0.418099   \n89671    15     ARI         home     PHI  ...                    1  1.684188   \n...     ...     ...          ...     ...  ...                  ...       ...   \n89879    15     PHI         away     ARI  ...                    1  1.278694   \n89880    15     PHI         away     ARI  ...                    1 -0.226190   \n89881    15     PHI         away     ARI  ...                    1 -0.168429   \n89882    15     PHI         away     ARI  ...                    1 -1.912879   \n89883    15     NaN          NaN     NaN  ...                    1       NaN   \n\n       xyac_epa  xyac_mean_yardage  xyac_median_yardage  xyac_success  \\\n89667       NaN                NaN                  NaN           NaN   \n89668       NaN                NaN                  NaN           NaN   \n89669  0.277871           4.860088                  2.0           1.0   \n89670       NaN                NaN                  NaN           NaN   \n89671  0.180597           3.261223                  1.0           1.0   \n...         ...                ...                  ...           ...   \n89879  0.304456           4.005877                  2.0           1.0   \n89880       NaN                NaN                  NaN           NaN   \n89881       NaN                NaN                  NaN           NaN   \n89882       NaN                NaN                  NaN           NaN   \n89883       NaN                NaN                  NaN           NaN   \n\n        xyac_fd     xpass    pass_oe  \\\n89667       NaN       NaN        NaN   \n89668       NaN       NaN        NaN   \n89669  1.000000  0.523400  47.660041   \n89670       NaN  0.450823 -45.082253   \n89671  0.999292  0.705398  29.460168   \n...         ...       ...        ...   \n89879  1.000000  0.995162   0.483841   \n89880       NaN  0.989398   1.060200   \n89881       NaN  0.985426   1.457441   \n89882       NaN  0.984986   1.501375   \n89883       NaN       NaN        NaN   \n\n                                               op_source  \n89667  /Users/christopherlomeli/Source/courses/datasc...  \n89668  /Users/christopherlomeli/Source/courses/datasc...  \n89669  /Users/christopherlomeli/Source/courses/datasc...  \n89670  /Users/christopherlomeli/Source/courses/datasc...  \n89671  /Users/christopherlomeli/Source/courses/datasc...  \n...                                                  ...  \n89879  /Users/christopherlomeli/Source/courses/datasc...  \n89880  /Users/christopherlomeli/Source/courses/datasc...  \n89881  /Users/christopherlomeli/Source/courses/datasc...  \n89882  /Users/christopherlomeli/Source/courses/datasc...  \n89883  /Users/christopherlomeli/Source/courses/datasc...  \n\n[217 rows x 373 columns]",
      "text/html": "<div>\n<style scoped>\n    .dataframe tbody tr th:only-of-type {\n        vertical-align: middle;\n    }\n\n    .dataframe tbody tr th {\n        vertical-align: top;\n    }\n\n    .dataframe thead th {\n        text-align: right;\n    }\n</style>\n<table border=\"1\" class=\"dataframe\">\n  <thead>\n    <tr style=\"text-align: right;\">\n      <th></th>\n      <th>play_id</th>\n      <th>game_id</th>\n      <th>old_game_id</th>\n      <th>home_team</th>\n      <th>away_team</th>\n      <th>season_type</th>\n      <th>week</th>\n      <th>posteam</th>\n      <th>posteam_type</th>\n      <th>defteam</th>\n      <th>...</th>\n      <th>home_opening_kickoff</th>\n      <th>qb_epa</th>\n      <th>xyac_epa</th>\n      <th>xyac_mean_yardage</th>\n      <th>xyac_median_yardage</th>\n      <th>xyac_success</th>\n      <th>xyac_fd</th>\n      <th>xpass</th>\n      <th>pass_oe</th>\n      <th>op_source</th>\n    </tr>\n  </thead>\n  <tbody>\n    <tr>\n      <th>89667</th>\n      <td>1</td>\n      <td>2020_15_PHI_ARI</td>\n      <td>2020122011</td>\n      <td>ARI</td>\n      <td>PHI</td>\n      <td>REG</td>\n      <td>15</td>\n      <td>NaN</td>\n      <td>NaN</td>\n      <td>NaN</td>\n      <td>...</td>\n      <td>1</td>\n      <td>0.000000</td>\n      <td>NaN</td>\n      <td>NaN</td>\n      <td>NaN</td>\n      <td>NaN</td>\n      <td>NaN</td>\n      <td>NaN</td>\n      <td>NaN</td>\n      <td>/Users/christopherlomeli/Source/courses/datasc...</td>\n    </tr>\n    <tr>\n      <th>89668</th>\n      <td>40</td>\n      <td>2020_15_PHI_ARI</td>\n      <td>2020122011</td>\n      <td>ARI</td>\n      <td>PHI</td>\n      <td>REG</td>\n      <td>15</td>\n      <td>ARI</td>\n      <td>home</td>\n      <td>PHI</td>\n      <td>...</td>\n      <td>1</td>\n      <td>0.000000</td>\n      <td>NaN</td>\n      <td>NaN</td>\n      <td>NaN</td>\n      <td>NaN</td>\n      <td>NaN</td>\n      <td>NaN</td>\n      <td>NaN</td>\n      <td>/Users/christopherlomeli/Source/courses/datasc...</td>\n    </tr>\n    <tr>\n      <th>89669</th>\n      <td>55</td>\n      <td>2020_15_PHI_ARI</td>\n      <td>2020122011</td>\n      <td>ARI</td>\n      <td>PHI</td>\n      <td>REG</td>\n      <td>15</td>\n      <td>ARI</td>\n      <td>home</td>\n      <td>PHI</td>\n      <td>...</td>\n      <td>1</td>\n      <td>0.881376</td>\n      <td>0.277871</td>\n      <td>4.860088</td>\n      <td>2.0</td>\n      <td>1.0</td>\n      <td>1.000000</td>\n      <td>0.523400</td>\n      <td>47.660041</td>\n      <td>/Users/christopherlomeli/Source/courses/datasc...</td>\n    </tr>\n    <tr>\n      <th>89670</th>\n      <td>79</td>\n      <td>2020_15_PHI_ARI</td>\n      <td>2020122011</td>\n      <td>ARI</td>\n      <td>PHI</td>\n      <td>REG</td>\n      <td>15</td>\n      <td>ARI</td>\n      <td>home</td>\n      <td>PHI</td>\n      <td>...</td>\n      <td>1</td>\n      <td>-0.418099</td>\n      <td>NaN</td>\n      <td>NaN</td>\n      <td>NaN</td>\n      <td>NaN</td>\n      <td>NaN</td>\n      <td>0.450823</td>\n      <td>-45.082253</td>\n      <td>/Users/christopherlomeli/Source/courses/datasc...</td>\n    </tr>\n    <tr>\n      <th>89671</th>\n      <td>100</td>\n      <td>2020_15_PHI_ARI</td>\n      <td>2020122011</td>\n      <td>ARI</td>\n      <td>PHI</td>\n      <td>REG</td>\n      <td>15</td>\n      <td>ARI</td>\n      <td>home</td>\n      <td>PHI</td>\n      <td>...</td>\n      <td>1</td>\n      <td>1.684188</td>\n      <td>0.180597</td>\n      <td>3.261223</td>\n      <td>1.0</td>\n      <td>1.0</td>\n      <td>0.999292</td>\n      <td>0.705398</td>\n      <td>29.460168</td>\n      <td>/Users/christopherlomeli/Source/courses/datasc...</td>\n    </tr>\n    <tr>\n      <th>...</th>\n      <td>...</td>\n      <td>...</td>\n      <td>...</td>\n      <td>...</td>\n      <td>...</td>\n      <td>...</td>\n      <td>...</td>\n      <td>...</td>\n      <td>...</td>\n      <td>...</td>\n      <td>...</td>\n      <td>...</td>\n      <td>...</td>\n      <td>...</td>\n      <td>...</td>\n      <td>...</td>\n      <td>...</td>\n      <td>...</td>\n      <td>...</td>\n      <td>...</td>\n      <td>...</td>\n    </tr>\n    <tr>\n      <th>89879</th>\n      <td>5046</td>\n      <td>2020_15_PHI_ARI</td>\n      <td>2020122011</td>\n      <td>ARI</td>\n      <td>PHI</td>\n      <td>REG</td>\n      <td>15</td>\n      <td>PHI</td>\n      <td>away</td>\n      <td>ARI</td>\n      <td>...</td>\n      <td>1</td>\n      <td>1.278694</td>\n      <td>0.304456</td>\n      <td>4.005877</td>\n      <td>2.0</td>\n      <td>1.0</td>\n      <td>1.000000</td>\n      <td>0.995162</td>\n      <td>0.483841</td>\n      <td>/Users/christopherlomeli/Source/courses/datasc...</td>\n    </tr>\n    <tr>\n      <th>89880</th>\n      <td>5080</td>\n      <td>2020_15_PHI_ARI</td>\n      <td>2020122011</td>\n      <td>ARI</td>\n      <td>PHI</td>\n      <td>REG</td>\n      <td>15</td>\n      <td>PHI</td>\n      <td>away</td>\n      <td>ARI</td>\n      <td>...</td>\n      <td>1</td>\n      <td>-0.226190</td>\n      <td>NaN</td>\n      <td>NaN</td>\n      <td>NaN</td>\n      <td>NaN</td>\n      <td>NaN</td>\n      <td>0.989398</td>\n      <td>1.060200</td>\n      <td>/Users/christopherlomeli/Source/courses/datasc...</td>\n    </tr>\n    <tr>\n      <th>89881</th>\n      <td>5103</td>\n      <td>2020_15_PHI_ARI</td>\n      <td>2020122011</td>\n      <td>ARI</td>\n      <td>PHI</td>\n      <td>REG</td>\n      <td>15</td>\n      <td>PHI</td>\n      <td>away</td>\n      <td>ARI</td>\n      <td>...</td>\n      <td>1</td>\n      <td>-0.168429</td>\n      <td>NaN</td>\n      <td>NaN</td>\n      <td>NaN</td>\n      <td>NaN</td>\n      <td>NaN</td>\n      <td>0.985426</td>\n      <td>1.457441</td>\n      <td>/Users/christopherlomeli/Source/courses/datasc...</td>\n    </tr>\n    <tr>\n      <th>89882</th>\n      <td>5125</td>\n      <td>2020_15_PHI_ARI</td>\n      <td>2020122011</td>\n      <td>ARI</td>\n      <td>PHI</td>\n      <td>REG</td>\n      <td>15</td>\n      <td>PHI</td>\n      <td>away</td>\n      <td>ARI</td>\n      <td>...</td>\n      <td>1</td>\n      <td>-1.912879</td>\n      <td>NaN</td>\n      <td>NaN</td>\n      <td>NaN</td>\n      <td>NaN</td>\n      <td>NaN</td>\n      <td>0.984986</td>\n      <td>1.501375</td>\n      <td>/Users/christopherlomeli/Source/courses/datasc...</td>\n    </tr>\n    <tr>\n      <th>89883</th>\n      <td>5147</td>\n      <td>2020_15_PHI_ARI</td>\n      <td>2020122011</td>\n      <td>ARI</td>\n      <td>PHI</td>\n      <td>REG</td>\n      <td>15</td>\n      <td>NaN</td>\n      <td>NaN</td>\n      <td>NaN</td>\n      <td>...</td>\n      <td>1</td>\n      <td>NaN</td>\n      <td>NaN</td>\n      <td>NaN</td>\n      <td>NaN</td>\n      <td>NaN</td>\n      <td>NaN</td>\n      <td>NaN</td>\n      <td>NaN</td>\n      <td>/Users/christopherlomeli/Source/courses/datasc...</td>\n    </tr>\n  </tbody>\n</table>\n<p>217 rows × 373 columns</p>\n</div>"
     },
     "execution_count": 10,
     "metadata": {},
     "output_type": "execute_result"
    }
   ],
   "source": [
    "pbp.loc[(pbp['season']==2020) & (pbp['week'] == 15) & (pbp['home_team']=='ARI')]"
   ],
   "metadata": {
    "collapsed": false,
    "ExecuteTime": {
     "end_time": "2023-07-13T01:10:16.486670Z",
     "start_time": "2023-07-13T01:10:16.457178Z"
    }
   }
  },
  {
   "cell_type": "code",
   "execution_count": null,
   "outputs": [],
   "source": [],
   "metadata": {
    "collapsed": false
   }
  }
 ],
 "metadata": {
  "kernelspec": {
   "display_name": "Python 3",
   "language": "python",
   "name": "python3"
  },
  "language_info": {
   "codemirror_mode": {
    "name": "ipython",
    "version": 2
   },
   "file_extension": ".py",
   "mimetype": "text/x-python",
   "name": "python",
   "nbconvert_exporter": "python",
   "pygments_lexer": "ipython2",
   "version": "2.7.6"
  }
 },
 "nbformat": 4,
 "nbformat_minor": 0
}
