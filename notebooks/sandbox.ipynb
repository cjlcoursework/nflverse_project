{
 "cells": [
  {
   "cell_type": "code",
   "execution_count": null,
   "outputs": [],
   "source": [
    "import pandas as pd\n",
    "from pandasql import sqldf\n",
    "from sqlalchemy import create_engine, text\n",
    "\n",
    "import numpy as np\n",
    "from numpy import dtype\n"
   ],
   "metadata": {
    "collapsed": false,
    "is_executing": true
   }
  },
  {
   "cell_type": "code",
   "execution_count": 4,
   "outputs": [],
   "source": [
    "import os\n",
    "import sys\n",
    "sys.path.append(os.path.abspath(\"../src\"))"
   ],
   "metadata": {
    "collapsed": false,
    "ExecuteTime": {
     "end_time": "2023-07-07T02:07:57.555278Z",
     "start_time": "2023-07-07T02:07:57.550530Z"
    }
   }
  },
  {
   "cell_type": "code",
   "execution_count": 5,
   "outputs": [],
   "source": [
    "from  src import *"
   ],
   "metadata": {
    "collapsed": false,
    "ExecuteTime": {
     "end_time": "2023-07-07T02:07:58.834390Z",
     "start_time": "2023-07-07T02:07:58.716704Z"
    }
   }
  },
  {
   "cell_type": "code",
   "execution_count": 6,
   "outputs": [],
   "source": [
    "db = database_loader.DatabaseLoader(get_config('connection_string'))\n",
    "DEBUG=False\n",
    "SCHEMA='controls'"
   ],
   "metadata": {
    "collapsed": false,
    "ExecuteTime": {
     "end_time": "2023-07-07T02:07:59.974075Z",
     "start_time": "2023-07-07T02:07:59.969703Z"
    }
   }
  },
  {
   "cell_type": "code",
   "execution_count": 7,
   "outputs": [
    {
     "data": {
      "text/plain": "   season  week team  rush_yards  efficiency  \\\n0    2022     1  ARI          26    5.930769   \n1    2022     3  ARI          39    5.421026   \n2    2022     4  ARI          55    3.860545   \n3    2022     6  ARI          37    5.610541   \n4    2022     7  ARI          92    2.619457   \n\n   percent_attempts_gte_eight_defenders  avg_time_to_los  rush_attempts  \\\n0                             10.000000         2.445889             10   \n1                              7.692308         2.580545             13   \n2                             40.000000         2.565267             15   \n3                              6.666667         2.708000             15   \n4                              8.333333         2.810818             12   \n\n   avg_rush_yards  rush_touchdowns  ... receiving_2pt_conversions  \\\n0        2.600000                1  ...                         1   \n1        3.000000                0  ...                         0   \n2        3.666667                0  ...                         0   \n3        2.466667                0  ...                         0   \n4        7.666667                1  ...                         1   \n\n  special_teams_tds opponent  team_score       team_coach  opposing_team  \\\n0                 0       KC          21  Kliff Kingsbury             KC   \n1                 0       LA          12  Kliff Kingsbury             LA   \n2                 0      CAR          26  Kliff Kingsbury            CAR   \n3                 0      SEA           9  Kliff Kingsbury            SEA   \n4                 0       NO          42  Kliff Kingsbury             NO   \n\n   opposing_score  opposing_coach  spread         ops_load_timestamp  \n0              44       Andy Reid     -23 2023-07-06 18:24:44.399127  \n1              20      Sean McVay      -8 2023-07-06 18:24:44.399127  \n2              16      Matt Rhule      10 2023-07-06 18:24:44.399127  \n3              19    Pete Carroll     -10 2023-07-06 18:24:44.399127  \n4              34    Dennis Allen       8 2023-07-06 18:24:44.399127  \n\n[5 rows x 74 columns]",
      "text/html": "<div>\n<style scoped>\n    .dataframe tbody tr th:only-of-type {\n        vertical-align: middle;\n    }\n\n    .dataframe tbody tr th {\n        vertical-align: top;\n    }\n\n    .dataframe thead th {\n        text-align: right;\n    }\n</style>\n<table border=\"1\" class=\"dataframe\">\n  <thead>\n    <tr style=\"text-align: right;\">\n      <th></th>\n      <th>season</th>\n      <th>week</th>\n      <th>team</th>\n      <th>rush_yards</th>\n      <th>efficiency</th>\n      <th>percent_attempts_gte_eight_defenders</th>\n      <th>avg_time_to_los</th>\n      <th>rush_attempts</th>\n      <th>avg_rush_yards</th>\n      <th>rush_touchdowns</th>\n      <th>...</th>\n      <th>receiving_2pt_conversions</th>\n      <th>special_teams_tds</th>\n      <th>opponent</th>\n      <th>team_score</th>\n      <th>team_coach</th>\n      <th>opposing_team</th>\n      <th>opposing_score</th>\n      <th>opposing_coach</th>\n      <th>spread</th>\n      <th>ops_load_timestamp</th>\n    </tr>\n  </thead>\n  <tbody>\n    <tr>\n      <th>0</th>\n      <td>2022</td>\n      <td>1</td>\n      <td>ARI</td>\n      <td>26</td>\n      <td>5.930769</td>\n      <td>10.000000</td>\n      <td>2.445889</td>\n      <td>10</td>\n      <td>2.600000</td>\n      <td>1</td>\n      <td>...</td>\n      <td>1</td>\n      <td>0</td>\n      <td>KC</td>\n      <td>21</td>\n      <td>Kliff Kingsbury</td>\n      <td>KC</td>\n      <td>44</td>\n      <td>Andy Reid</td>\n      <td>-23</td>\n      <td>2023-07-06 18:24:44.399127</td>\n    </tr>\n    <tr>\n      <th>1</th>\n      <td>2022</td>\n      <td>3</td>\n      <td>ARI</td>\n      <td>39</td>\n      <td>5.421026</td>\n      <td>7.692308</td>\n      <td>2.580545</td>\n      <td>13</td>\n      <td>3.000000</td>\n      <td>0</td>\n      <td>...</td>\n      <td>0</td>\n      <td>0</td>\n      <td>LA</td>\n      <td>12</td>\n      <td>Kliff Kingsbury</td>\n      <td>LA</td>\n      <td>20</td>\n      <td>Sean McVay</td>\n      <td>-8</td>\n      <td>2023-07-06 18:24:44.399127</td>\n    </tr>\n    <tr>\n      <th>2</th>\n      <td>2022</td>\n      <td>4</td>\n      <td>ARI</td>\n      <td>55</td>\n      <td>3.860545</td>\n      <td>40.000000</td>\n      <td>2.565267</td>\n      <td>15</td>\n      <td>3.666667</td>\n      <td>0</td>\n      <td>...</td>\n      <td>0</td>\n      <td>0</td>\n      <td>CAR</td>\n      <td>26</td>\n      <td>Kliff Kingsbury</td>\n      <td>CAR</td>\n      <td>16</td>\n      <td>Matt Rhule</td>\n      <td>10</td>\n      <td>2023-07-06 18:24:44.399127</td>\n    </tr>\n    <tr>\n      <th>3</th>\n      <td>2022</td>\n      <td>6</td>\n      <td>ARI</td>\n      <td>37</td>\n      <td>5.610541</td>\n      <td>6.666667</td>\n      <td>2.708000</td>\n      <td>15</td>\n      <td>2.466667</td>\n      <td>0</td>\n      <td>...</td>\n      <td>0</td>\n      <td>0</td>\n      <td>SEA</td>\n      <td>9</td>\n      <td>Kliff Kingsbury</td>\n      <td>SEA</td>\n      <td>19</td>\n      <td>Pete Carroll</td>\n      <td>-10</td>\n      <td>2023-07-06 18:24:44.399127</td>\n    </tr>\n    <tr>\n      <th>4</th>\n      <td>2022</td>\n      <td>7</td>\n      <td>ARI</td>\n      <td>92</td>\n      <td>2.619457</td>\n      <td>8.333333</td>\n      <td>2.810818</td>\n      <td>12</td>\n      <td>7.666667</td>\n      <td>1</td>\n      <td>...</td>\n      <td>1</td>\n      <td>0</td>\n      <td>NO</td>\n      <td>42</td>\n      <td>Kliff Kingsbury</td>\n      <td>NO</td>\n      <td>34</td>\n      <td>Dennis Allen</td>\n      <td>8</td>\n      <td>2023-07-06 18:24:44.399127</td>\n    </tr>\n  </tbody>\n</table>\n<p>5 rows × 74 columns</p>\n</div>"
     },
     "execution_count": 7,
     "metadata": {},
     "output_type": "execute_result"
    }
   ],
   "source": [
    "stats_df = db.read_table(table_name=\"team_weekly_stats\", schema=\"controls\")\n",
    "stats_df.head()"
   ],
   "metadata": {
    "collapsed": false,
    "ExecuteTime": {
     "end_time": "2023-07-07T02:08:01.240138Z",
     "start_time": "2023-07-07T02:08:01.056513Z"
    }
   }
  },
  {
   "cell_type": "code",
   "execution_count": 21,
   "outputs": [],
   "source": [
    "stats_df.drop(columns=['ops_load_timestamp'], inplace=True)"
   ],
   "metadata": {
    "collapsed": false,
    "ExecuteTime": {
     "end_time": "2023-07-07T02:38:26.149055Z",
     "start_time": "2023-07-07T02:38:26.145590Z"
    }
   }
  },
  {
   "cell_type": "code",
   "execution_count": 25,
   "outputs": [
    {
     "name": "stdout",
     "output_type": "stream",
     "text": [
      "---\n",
      "int64 columns : ['season', 'week', 'rush_touchdowns', 'pass_touchdowns', 'interceptions', 'fumble', 'own_kickoff_recovery', 'safety', 'qb_hit', 'touchdown']\n",
      "---\n",
      "object columns : ['passing_tds', 'ps_interceptions', 'sacks', 'sack_fumbles', 'sack_fumbles_lost', 'passing_2pt_conversions', 'rushing_tds', 'rushing_fumbles', 'rushing_fumbles_lost', 'rushing_first_downs', 'rushing_2pt_conversions', 'receiving_tds', 'receiving_fumbles', 'receiving_fumbles_lost', 'receiving_2pt_conversions', 'special_teams_tds']\n"
     ]
    }
   ],
   "source": [
    "from collections import defaultdict\n",
    "\n",
    "categories = defaultdict(lambda: [])\n",
    "\n",
    "for column in stats_df.columns:\n",
    "    n = len(stats_df[column].value_counts())\n",
    "    if n < 25:\n",
    "        categories[stats_df[column].dtype.name].append(column)\n",
    "\n",
    "for k, v in categories.items():\n",
    "    print(\"---\")\n",
    "    print(f\"{k} columns : {v}\")\n"
   ],
   "metadata": {
    "collapsed": false,
    "ExecuteTime": {
     "end_time": "2023-07-07T03:56:15.934074Z",
     "start_time": "2023-07-07T03:56:15.916115Z"
    }
   }
  },
  {
   "cell_type": "code",
   "execution_count": 27,
   "outputs": [
    {
     "data": {
      "text/plain": "Index(['rush_yards', 'efficiency', 'percent_attempts_gte_eight_defenders',\n       'avg_time_to_los', 'rush_attempts', 'avg_rush_yards',\n       'player_jersey_number', 'avg_time_to_throw', 'avg_completed_air_yards',\n       'avg_intended_air_yards', 'avg_air_yards_differential',\n       'aggressiveness', 'avg_air_yards_to_sticks', 'attempts', 'pass_yards',\n       'passer_rating', 'completions', 'completion_percentage', 'tackle',\n       'avg_dakota'],\n      dtype='object')"
     },
     "execution_count": 27,
     "metadata": {},
     "output_type": "execute_result"
    }
   ],
   "source": [
    "numeric_columns_to_hide={'season','week', 'opposing_score', 'team_score', 'spread', 'interceptions'}\n",
    "\n",
    "# all numeric columns and their values\n",
    "numeric_columns = stats_df.select_dtypes(include='number').drop(columns=list( numeric_columns_to_hide) + categories['int64']) ## review whats left over\n",
    "numeric_columns.columns"
   ],
   "metadata": {
    "collapsed": false,
    "ExecuteTime": {
     "end_time": "2023-07-07T03:57:46.263550Z",
     "start_time": "2023-07-07T03:57:46.259111Z"
    }
   }
  },
  {
   "cell_type": "code",
   "execution_count": null,
   "outputs": [],
   "source": [],
   "metadata": {
    "collapsed": false
   }
  },
  {
   "cell_type": "code",
   "execution_count": null,
   "outputs": [],
   "source": [
    "from sklearn.model_selection import train_test_split\n",
    "\n",
    "# X_train, X_test, y_train, y_test = train_test_split(X, y, test_size=0.2, random_state=42)\n"
   ],
   "metadata": {
    "collapsed": false,
    "is_executing": true
   }
  }
 ],
 "metadata": {
  "kernelspec": {
   "display_name": "Python 3",
   "language": "python",
   "name": "python3"
  },
  "language_info": {
   "codemirror_mode": {
    "name": "ipython",
    "version": 2
   },
   "file_extension": ".py",
   "mimetype": "text/x-python",
   "name": "python",
   "nbconvert_exporter": "python",
   "pygments_lexer": "ipython2",
   "version": "2.7.6"
  }
 },
 "nbformat": 4,
 "nbformat_minor": 0
}
