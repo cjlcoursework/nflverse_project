{
 "cells": [
  {
   "cell_type": "markdown",
   "source": [],
   "metadata": {
    "collapsed": false
   }
  },
  {
   "cell_type": "markdown",
   "source": [
    "<link rel=\"stylesheet\" type=\"text/css\" href=\"custom.css\">"
   ],
   "metadata": {
    "collapsed": false
   }
  },
  {
   "cell_type": "markdown",
   "source": [
    "# <font color=teal>imports</font>"
   ],
   "metadata": {
    "collapsed": false
   }
  },
  {
   "cell_type": "code",
   "execution_count": 2,
   "outputs": [],
   "source": [
    "import os\n",
    "import sys\n",
    "sys.path.append(os.path.abspath(\"../src\"))"
   ],
   "metadata": {
    "collapsed": false,
    "ExecuteTime": {
     "end_time": "2023-07-06T03:14:35.824532Z",
     "start_time": "2023-07-06T03:14:35.755315Z"
    }
   }
  },
  {
   "cell_type": "code",
   "execution_count": 3,
   "outputs": [],
   "source": [
    "from src import *\n"
   ],
   "metadata": {
    "collapsed": false,
    "ExecuteTime": {
     "end_time": "2023-07-06T03:14:36.349315Z",
     "start_time": "2023-07-06T03:14:35.827725Z"
    }
   }
  },
  {
   "cell_type": "markdown",
   "source": [
    "# <font color=teal>housekeeping</font>"
   ],
   "metadata": {
    "collapsed": false
   }
  },
  {
   "cell_type": "code",
   "execution_count": 4,
   "outputs": [],
   "source": [
    "db = database_loader.DatabaseLoader(get_config('connection_string'))\n",
    "DEBUG=False\n",
    "COMMIT_TO_DATABASE=True\n",
    "SCHEMA='controls'"
   ],
   "metadata": {
    "collapsed": false,
    "ExecuteTime": {
     "end_time": "2023-07-06T03:14:36.352383Z",
     "start_time": "2023-07-06T03:14:36.350399Z"
    }
   }
  },
  {
   "cell_type": "markdown",
   "source": [
    "# <font color=teal>game info data</font>\n",
    "Aggregated up from the play-by-play dataset.\n",
    "\n",
    "We want each team to have a record for each season and week.\n",
    "\n",
    "So for any given game there will be two records, one for the home team having its stats, and another for the away team - having thier stats"
   ],
   "metadata": {
    "collapsed": false
   }
  },
  {
   "cell_type": "code",
   "execution_count": 5,
   "outputs": [
    {
     "data": {
      "text/plain": "   season  week team  team_score      team_coach opposing_team  \\\n0    2022     4   LV          32  Josh McDaniels           DEN   \n1    2017    16  WAS          27      Jay Gruden           DEN   \n2    2017     6  HOU          33    Bill O'Brien           CLE   \n3    2019     5  TEN           7     Mike Vrabel           BUF   \n4    2021     4   GB          27    Matt LaFleur           PIT   \n\n   opposing_score     opposing_coach  spread  count  \n0              23  Nathaniel Hackett       9      1  \n1              11       Vance Joseph      16      1  \n2              17        Hue Jackson      16      1  \n3              14     Sean McDermott      -7      1  \n4              17        Mike Tomlin      10      1  ",
      "text/html": "<div>\n<style scoped>\n    .dataframe tbody tr th:only-of-type {\n        vertical-align: middle;\n    }\n\n    .dataframe tbody tr th {\n        vertical-align: top;\n    }\n\n    .dataframe thead th {\n        text-align: right;\n    }\n</style>\n<table border=\"1\" class=\"dataframe\">\n  <thead>\n    <tr style=\"text-align: right;\">\n      <th></th>\n      <th>season</th>\n      <th>week</th>\n      <th>team</th>\n      <th>team_score</th>\n      <th>team_coach</th>\n      <th>opposing_team</th>\n      <th>opposing_score</th>\n      <th>opposing_coach</th>\n      <th>spread</th>\n      <th>count</th>\n    </tr>\n  </thead>\n  <tbody>\n    <tr>\n      <th>0</th>\n      <td>2022</td>\n      <td>4</td>\n      <td>LV</td>\n      <td>32</td>\n      <td>Josh McDaniels</td>\n      <td>DEN</td>\n      <td>23</td>\n      <td>Nathaniel Hackett</td>\n      <td>9</td>\n      <td>1</td>\n    </tr>\n    <tr>\n      <th>1</th>\n      <td>2017</td>\n      <td>16</td>\n      <td>WAS</td>\n      <td>27</td>\n      <td>Jay Gruden</td>\n      <td>DEN</td>\n      <td>11</td>\n      <td>Vance Joseph</td>\n      <td>16</td>\n      <td>1</td>\n    </tr>\n    <tr>\n      <th>2</th>\n      <td>2017</td>\n      <td>6</td>\n      <td>HOU</td>\n      <td>33</td>\n      <td>Bill O'Brien</td>\n      <td>CLE</td>\n      <td>17</td>\n      <td>Hue Jackson</td>\n      <td>16</td>\n      <td>1</td>\n    </tr>\n    <tr>\n      <th>3</th>\n      <td>2019</td>\n      <td>5</td>\n      <td>TEN</td>\n      <td>7</td>\n      <td>Mike Vrabel</td>\n      <td>BUF</td>\n      <td>14</td>\n      <td>Sean McDermott</td>\n      <td>-7</td>\n      <td>1</td>\n    </tr>\n    <tr>\n      <th>4</th>\n      <td>2021</td>\n      <td>4</td>\n      <td>GB</td>\n      <td>27</td>\n      <td>Matt LaFleur</td>\n      <td>PIT</td>\n      <td>17</td>\n      <td>Mike Tomlin</td>\n      <td>10</td>\n      <td>1</td>\n    </tr>\n  </tbody>\n</table>\n</div>"
     },
     "execution_count": 5,
     "metadata": {},
     "output_type": "execute_result"
    }
   ],
   "source": [
    "# We want each team to have a record for each season and week.\n",
    "\n",
    "game_df = db.query_to_df(\"\"\"\n",
    "    select season,\n",
    "           week,\n",
    "           home_team                 as team,\n",
    "           home_score                as team_score,\n",
    "           home_coach                as team_coach,\n",
    "           away_team                 as opposing_team,\n",
    "           away_score                as opposing_score,\n",
    "           away_coach                as opposing_coach,\n",
    "           (home_score - away_score) as spread,\n",
    "           count(*)\n",
    "\n",
    "    from controls.game_info G\n",
    "    group by season, week, home_team, home_score, away_score, away_team, home_coach, away_coach\n",
    "    UNION ALL\n",
    "    --away team\n",
    "    select season,\n",
    "           week,\n",
    "           away_team                 as team,\n",
    "           away_score                as team_score,\n",
    "           away_coach                as team_coach,\n",
    "           home_team                 as opposing_team,\n",
    "           home_score                as opposing_score,\n",
    "           home_coach                as opposing_coach,\n",
    "           (away_score - home_score) as spread,\n",
    "           count(*)\n",
    "\n",
    "    from controls.game_info G\n",
    "    group by season, week, home_team, home_score, away_score, away_team, home_coach, away_coach\n",
    "\"\"\")\n",
    "\n",
    "game_df.head()"
   ],
   "metadata": {
    "collapsed": false,
    "ExecuteTime": {
     "end_time": "2023-07-06T03:14:36.470277Z",
     "start_time": "2023-07-06T03:14:36.354571Z"
    }
   }
  },
  {
   "cell_type": "markdown",
   "source": [
    "### <font color=\"#9370DB\">A single game should have two 'opposite' records</font>\n",
    "let's check that out"
   ],
   "metadata": {
    "collapsed": false
   }
  },
  {
   "cell_type": "code",
   "execution_count": 6,
   "outputs": [
    {
     "data": {
      "text/plain": "      season  week team  team_score    team_coach opposing_team  \\\n923     2017     6  DEN          10  Vance Joseph           NYG   \n2829    2017     6  NYG          23    Ben McAdoo           DEN   \n\n      opposing_score opposing_coach  spread  count  \n923               23     Ben McAdoo     -13      1  \n2829              10   Vance Joseph      13      1  ",
      "text/html": "<div>\n<style scoped>\n    .dataframe tbody tr th:only-of-type {\n        vertical-align: middle;\n    }\n\n    .dataframe tbody tr th {\n        vertical-align: top;\n    }\n\n    .dataframe thead th {\n        text-align: right;\n    }\n</style>\n<table border=\"1\" class=\"dataframe\">\n  <thead>\n    <tr style=\"text-align: right;\">\n      <th></th>\n      <th>season</th>\n      <th>week</th>\n      <th>team</th>\n      <th>team_score</th>\n      <th>team_coach</th>\n      <th>opposing_team</th>\n      <th>opposing_score</th>\n      <th>opposing_coach</th>\n      <th>spread</th>\n      <th>count</th>\n    </tr>\n  </thead>\n  <tbody>\n    <tr>\n      <th>923</th>\n      <td>2017</td>\n      <td>6</td>\n      <td>DEN</td>\n      <td>10</td>\n      <td>Vance Joseph</td>\n      <td>NYG</td>\n      <td>23</td>\n      <td>Ben McAdoo</td>\n      <td>-13</td>\n      <td>1</td>\n    </tr>\n    <tr>\n      <th>2829</th>\n      <td>2017</td>\n      <td>6</td>\n      <td>NYG</td>\n      <td>23</td>\n      <td>Ben McAdoo</td>\n      <td>DEN</td>\n      <td>10</td>\n      <td>Vance Joseph</td>\n      <td>13</td>\n      <td>1</td>\n    </tr>\n  </tbody>\n</table>\n</div>"
     },
     "execution_count": 6,
     "metadata": {},
     "output_type": "execute_result"
    }
   ],
   "source": [
    "game_df.loc[(game_df.season==2017) & (game_df.week==6) & (game_df.team.isin(['DEN', 'NYG']))]"
   ],
   "metadata": {
    "collapsed": false,
    "ExecuteTime": {
     "end_time": "2023-07-06T03:14:36.479066Z",
     "start_time": "2023-07-06T03:14:36.471238Z"
    }
   }
  },
  {
   "cell_type": "markdown",
   "source": [
    "### <font color=\"#9370DB\">There should be no team with two records for any give week</font>\n",
    "let's validate that"
   ],
   "metadata": {
    "collapsed": false
   }
  },
  {
   "cell_type": "code",
   "execution_count": 7,
   "outputs": [],
   "source": [
    "double_counts = game_df.loc[(game_df['count'].astype(int) > 1)].shape[0]\n",
    "assert double_counts == 0"
   ],
   "metadata": {
    "collapsed": false,
    "ExecuteTime": {
     "end_time": "2023-07-06T03:14:36.479275Z",
     "start_time": "2023-07-06T03:14:36.476379Z"
    }
   }
  },
  {
   "cell_type": "markdown",
   "source": [
    "# <font color=teal>next gen stats passing<font/>\n",
    "group by <font color=red>season, week, team</font> ( and top-passing-player_position )"
   ],
   "metadata": {
    "collapsed": false
   }
  },
  {
   "cell_type": "code",
   "execution_count": 8,
   "outputs": [
    {
     "name": "stdout",
     "output_type": "stream",
     "text": [
      "CPU times: user 18.4 ms, sys: 2.99 ms, total: 21.4 ms\n",
      "Wall time: 48.8 ms\n"
     ]
    },
    {
     "data": {
      "text/plain": "   season  week team  pass_touchdowns  avg_time_to_throw  \\\n0    2022     1  ARI                2           2.803059   \n1    2022     2  ARI                1           2.631918   \n2    2022     3  ARI                0           2.432569   \n3    2022     4  ARI                2           2.733469   \n4    2022     5  ARI                1           2.681950   \n\n   avg_completed_air_yards  avg_intended_air_yards  \\\n0                 3.766818                7.508125   \n1                 3.560323                5.360213   \n2                 3.848108                5.682364   \n3                 4.967391                5.964839   \n4                 3.378571                6.814474   \n\n   avg_air_yards_differential  aggressiveness  max_completed_air_distance  \\\n0                   -3.741307       14.705882                   38.423006   \n1                   -1.799890       16.326531                   38.988774   \n2                   -1.834256        8.620690                   37.932599   \n3                   -0.997447        3.125000                   38.072149   \n4                   -3.435902       11.904762                   28.255430   \n\n   ...  pass_touchdowns  interceptions  passer_rating  completions  \\\n0  ...                2              0      99.264706           22   \n1  ...                1              1      76.658163           31   \n2  ...                0              0      77.801724           37   \n3  ...                2              1      96.744792           23   \n4  ...                1              1      80.456349           28   \n\n   completion_percentage  expected_completion_percentage  \\\n0              64.705882                       63.872274   \n1              63.265306                       67.953796   \n2              63.793103                       72.002558   \n3              71.875000                       67.395659   \n4              66.666667                       63.948053   \n\n   completion_percentage_above_expectation  avg_air_distance  \\\n0                                 0.833608         20.780448   \n1                                -4.688490         17.729007   \n2                                -8.209454         18.993060   \n3                                 4.479341         20.337519   \n4                                 2.718614         20.096993   \n\n   max_air_distance  rn  \n0         55.361811   1  \n1         39.697620   1  \n2         51.283168   1  \n3         44.226310   1  \n4         47.951656   1  \n\n[5 rows x 23 columns]",
      "text/html": "<div>\n<style scoped>\n    .dataframe tbody tr th:only-of-type {\n        vertical-align: middle;\n    }\n\n    .dataframe tbody tr th {\n        vertical-align: top;\n    }\n\n    .dataframe thead th {\n        text-align: right;\n    }\n</style>\n<table border=\"1\" class=\"dataframe\">\n  <thead>\n    <tr style=\"text-align: right;\">\n      <th></th>\n      <th>season</th>\n      <th>week</th>\n      <th>team</th>\n      <th>pass_touchdowns</th>\n      <th>avg_time_to_throw</th>\n      <th>avg_completed_air_yards</th>\n      <th>avg_intended_air_yards</th>\n      <th>avg_air_yards_differential</th>\n      <th>aggressiveness</th>\n      <th>max_completed_air_distance</th>\n      <th>...</th>\n      <th>pass_touchdowns</th>\n      <th>interceptions</th>\n      <th>passer_rating</th>\n      <th>completions</th>\n      <th>completion_percentage</th>\n      <th>expected_completion_percentage</th>\n      <th>completion_percentage_above_expectation</th>\n      <th>avg_air_distance</th>\n      <th>max_air_distance</th>\n      <th>rn</th>\n    </tr>\n  </thead>\n  <tbody>\n    <tr>\n      <th>0</th>\n      <td>2022</td>\n      <td>1</td>\n      <td>ARI</td>\n      <td>2</td>\n      <td>2.803059</td>\n      <td>3.766818</td>\n      <td>7.508125</td>\n      <td>-3.741307</td>\n      <td>14.705882</td>\n      <td>38.423006</td>\n      <td>...</td>\n      <td>2</td>\n      <td>0</td>\n      <td>99.264706</td>\n      <td>22</td>\n      <td>64.705882</td>\n      <td>63.872274</td>\n      <td>0.833608</td>\n      <td>20.780448</td>\n      <td>55.361811</td>\n      <td>1</td>\n    </tr>\n    <tr>\n      <th>1</th>\n      <td>2022</td>\n      <td>2</td>\n      <td>ARI</td>\n      <td>1</td>\n      <td>2.631918</td>\n      <td>3.560323</td>\n      <td>5.360213</td>\n      <td>-1.799890</td>\n      <td>16.326531</td>\n      <td>38.988774</td>\n      <td>...</td>\n      <td>1</td>\n      <td>1</td>\n      <td>76.658163</td>\n      <td>31</td>\n      <td>63.265306</td>\n      <td>67.953796</td>\n      <td>-4.688490</td>\n      <td>17.729007</td>\n      <td>39.697620</td>\n      <td>1</td>\n    </tr>\n    <tr>\n      <th>2</th>\n      <td>2022</td>\n      <td>3</td>\n      <td>ARI</td>\n      <td>0</td>\n      <td>2.432569</td>\n      <td>3.848108</td>\n      <td>5.682364</td>\n      <td>-1.834256</td>\n      <td>8.620690</td>\n      <td>37.932599</td>\n      <td>...</td>\n      <td>0</td>\n      <td>0</td>\n      <td>77.801724</td>\n      <td>37</td>\n      <td>63.793103</td>\n      <td>72.002558</td>\n      <td>-8.209454</td>\n      <td>18.993060</td>\n      <td>51.283168</td>\n      <td>1</td>\n    </tr>\n    <tr>\n      <th>3</th>\n      <td>2022</td>\n      <td>4</td>\n      <td>ARI</td>\n      <td>2</td>\n      <td>2.733469</td>\n      <td>4.967391</td>\n      <td>5.964839</td>\n      <td>-0.997447</td>\n      <td>3.125000</td>\n      <td>38.072149</td>\n      <td>...</td>\n      <td>2</td>\n      <td>1</td>\n      <td>96.744792</td>\n      <td>23</td>\n      <td>71.875000</td>\n      <td>67.395659</td>\n      <td>4.479341</td>\n      <td>20.337519</td>\n      <td>44.226310</td>\n      <td>1</td>\n    </tr>\n    <tr>\n      <th>4</th>\n      <td>2022</td>\n      <td>5</td>\n      <td>ARI</td>\n      <td>1</td>\n      <td>2.681950</td>\n      <td>3.378571</td>\n      <td>6.814474</td>\n      <td>-3.435902</td>\n      <td>11.904762</td>\n      <td>28.255430</td>\n      <td>...</td>\n      <td>1</td>\n      <td>1</td>\n      <td>80.456349</td>\n      <td>28</td>\n      <td>66.666667</td>\n      <td>63.948053</td>\n      <td>2.718614</td>\n      <td>20.096993</td>\n      <td>47.951656</td>\n      <td>1</td>\n    </tr>\n  </tbody>\n</table>\n<p>5 rows × 23 columns</p>\n</div>"
     },
     "execution_count": 8,
     "metadata": {},
     "output_type": "execute_result"
    }
   ],
   "source": [
    "%%time\n",
    "ngs_air_power = db.query_to_df(\"\"\"\n",
    "    with base as (\n",
    "    select season, week, team_abbr as team,\n",
    "           pass_touchdowns,\n",
    "           avg_time_to_throw,\n",
    "           avg_completed_air_yards,\n",
    "           avg_intended_air_yards,\n",
    "           avg_air_yards_differential,\n",
    "           aggressiveness,\n",
    "           max_completed_air_distance,\n",
    "           avg_air_yards_to_sticks,\n",
    "           attempts,\n",
    "           pass_yards,\n",
    "           pass_touchdowns,\n",
    "           interceptions,\n",
    "           passer_rating,\n",
    "           completions,\n",
    "           completion_percentage,\n",
    "           expected_completion_percentage,\n",
    "           completion_percentage_above_expectation,\n",
    "           avg_air_distance,\n",
    "           max_air_distance,\n",
    "        row_number() over (partition by season, week, team_abbr, player_position order by pass_yards desc) as rn\n",
    "    from controls.nextgen_pass\n",
    "--    where season=2016 and week=1 and team_abbr = 'CHI'\n",
    "    order by team_abbr, player_position, season desc, week )\n",
    "    select * from base where rn = 1 and week > 0\n",
    "\"\"\")\n",
    "\n",
    "ngs_air_power.head()\n"
   ],
   "metadata": {
    "collapsed": false,
    "ExecuteTime": {
     "end_time": "2023-07-06T03:14:36.647493Z",
     "start_time": "2023-07-06T03:14:36.480191Z"
    }
   }
  },
  {
   "cell_type": "markdown",
   "source": [
    "## <font color=teal>next gen stats rushing<font/>\n",
    "group by <font color=red>season, week, team</font>"
   ],
   "metadata": {
    "collapsed": false
   }
  },
  {
   "cell_type": "code",
   "execution_count": 9,
   "outputs": [
    {
     "name": "stdout",
     "output_type": "stream",
     "text": [
      "CPU times: user 13.5 ms, sys: 1.88 ms, total: 15.4 ms\n",
      "Wall time: 31.8 ms\n"
     ]
    },
    {
     "data": {
      "text/plain": "   season  week team  rush_yards  efficiency  \\\n0    2022     1  ARI          26    5.930769   \n1    2022     3  ARI          39    5.421026   \n2    2022     4  ARI          55    3.860545   \n3    2022     6  ARI          37    5.610541   \n4    2022     7  ARI          92    2.619457   \n\n   percent_attempts_gte_eight_defenders  avg_time_to_los  rush_attempts  \\\n0                             10.000000         2.445889             10   \n1                              7.692308         2.580545             13   \n2                             40.000000         2.565267             15   \n3                              6.666667         2.708000             15   \n4                              8.333333         2.810818             12   \n\n   rush_yards  expected_rush_yards  ...  avg_rush_yards  \\\n0          26            35.285705  ...        2.600000   \n1          39            56.352659  ...        3.000000   \n2          55            44.522278  ...        3.666667   \n3          37            53.014218  ...        2.466667   \n4          92            44.221202  ...        7.666667   \n\n   rush_yards_over_expected_per_att  rush_pct_over_expected  rush_touchdowns  \\\n0                         -0.928570                0.400000                1   \n1                         -1.334820                0.230769                0   \n2                          0.534123                0.642857                0   \n3                         -1.215301                0.285714                0   \n4                          3.525345                0.545455                1   \n\n   player_gsis_id player_first_name player_last_name player_jersey_number  \\\n0      00-0033553             James           Conner                    6   \n1      00-0033553             James           Conner                    6   \n2      00-0033553             James           Conner                    6   \n3      00-0036383               Eno         Benjamin                   26   \n4      00-0036383               Eno         Benjamin                   26   \n\n   player_short_name rn  \n0           J.Conner  1  \n1           J.Conner  1  \n2           J.Conner  1  \n3         E.Benjamin  1  \n4         E.Benjamin  1  \n\n[5 rows x 21 columns]",
      "text/html": "<div>\n<style scoped>\n    .dataframe tbody tr th:only-of-type {\n        vertical-align: middle;\n    }\n\n    .dataframe tbody tr th {\n        vertical-align: top;\n    }\n\n    .dataframe thead th {\n        text-align: right;\n    }\n</style>\n<table border=\"1\" class=\"dataframe\">\n  <thead>\n    <tr style=\"text-align: right;\">\n      <th></th>\n      <th>season</th>\n      <th>week</th>\n      <th>team</th>\n      <th>rush_yards</th>\n      <th>efficiency</th>\n      <th>percent_attempts_gte_eight_defenders</th>\n      <th>avg_time_to_los</th>\n      <th>rush_attempts</th>\n      <th>rush_yards</th>\n      <th>expected_rush_yards</th>\n      <th>...</th>\n      <th>avg_rush_yards</th>\n      <th>rush_yards_over_expected_per_att</th>\n      <th>rush_pct_over_expected</th>\n      <th>rush_touchdowns</th>\n      <th>player_gsis_id</th>\n      <th>player_first_name</th>\n      <th>player_last_name</th>\n      <th>player_jersey_number</th>\n      <th>player_short_name</th>\n      <th>rn</th>\n    </tr>\n  </thead>\n  <tbody>\n    <tr>\n      <th>0</th>\n      <td>2022</td>\n      <td>1</td>\n      <td>ARI</td>\n      <td>26</td>\n      <td>5.930769</td>\n      <td>10.000000</td>\n      <td>2.445889</td>\n      <td>10</td>\n      <td>26</td>\n      <td>35.285705</td>\n      <td>...</td>\n      <td>2.600000</td>\n      <td>-0.928570</td>\n      <td>0.400000</td>\n      <td>1</td>\n      <td>00-0033553</td>\n      <td>James</td>\n      <td>Conner</td>\n      <td>6</td>\n      <td>J.Conner</td>\n      <td>1</td>\n    </tr>\n    <tr>\n      <th>1</th>\n      <td>2022</td>\n      <td>3</td>\n      <td>ARI</td>\n      <td>39</td>\n      <td>5.421026</td>\n      <td>7.692308</td>\n      <td>2.580545</td>\n      <td>13</td>\n      <td>39</td>\n      <td>56.352659</td>\n      <td>...</td>\n      <td>3.000000</td>\n      <td>-1.334820</td>\n      <td>0.230769</td>\n      <td>0</td>\n      <td>00-0033553</td>\n      <td>James</td>\n      <td>Conner</td>\n      <td>6</td>\n      <td>J.Conner</td>\n      <td>1</td>\n    </tr>\n    <tr>\n      <th>2</th>\n      <td>2022</td>\n      <td>4</td>\n      <td>ARI</td>\n      <td>55</td>\n      <td>3.860545</td>\n      <td>40.000000</td>\n      <td>2.565267</td>\n      <td>15</td>\n      <td>55</td>\n      <td>44.522278</td>\n      <td>...</td>\n      <td>3.666667</td>\n      <td>0.534123</td>\n      <td>0.642857</td>\n      <td>0</td>\n      <td>00-0033553</td>\n      <td>James</td>\n      <td>Conner</td>\n      <td>6</td>\n      <td>J.Conner</td>\n      <td>1</td>\n    </tr>\n    <tr>\n      <th>3</th>\n      <td>2022</td>\n      <td>6</td>\n      <td>ARI</td>\n      <td>37</td>\n      <td>5.610541</td>\n      <td>6.666667</td>\n      <td>2.708000</td>\n      <td>15</td>\n      <td>37</td>\n      <td>53.014218</td>\n      <td>...</td>\n      <td>2.466667</td>\n      <td>-1.215301</td>\n      <td>0.285714</td>\n      <td>0</td>\n      <td>00-0036383</td>\n      <td>Eno</td>\n      <td>Benjamin</td>\n      <td>26</td>\n      <td>E.Benjamin</td>\n      <td>1</td>\n    </tr>\n    <tr>\n      <th>4</th>\n      <td>2022</td>\n      <td>7</td>\n      <td>ARI</td>\n      <td>92</td>\n      <td>2.619457</td>\n      <td>8.333333</td>\n      <td>2.810818</td>\n      <td>12</td>\n      <td>92</td>\n      <td>44.221202</td>\n      <td>...</td>\n      <td>7.666667</td>\n      <td>3.525345</td>\n      <td>0.545455</td>\n      <td>1</td>\n      <td>00-0036383</td>\n      <td>Eno</td>\n      <td>Benjamin</td>\n      <td>26</td>\n      <td>E.Benjamin</td>\n      <td>1</td>\n    </tr>\n  </tbody>\n</table>\n<p>5 rows × 21 columns</p>\n</div>"
     },
     "execution_count": 9,
     "metadata": {},
     "output_type": "execute_result"
    }
   ],
   "source": [
    "%%time\n",
    "ngs_ground_power = db.query_to_df(\"\"\"\n",
    "with base as (\n",
    "    select season, week, team_abbr as team, rush_yards,\n",
    "           efficiency,\n",
    "           percent_attempts_gte_eight_defenders,\n",
    "           avg_time_to_los,\n",
    "           rush_attempts,\n",
    "           rush_yards,\n",
    "           expected_rush_yards,\n",
    "           rush_yards_over_expected,\n",
    "           avg_rush_yards,\n",
    "           rush_yards_over_expected_per_att,\n",
    "           rush_pct_over_expected,\n",
    "           rush_touchdowns,\n",
    "           player_gsis_id,\n",
    "           player_first_name,\n",
    "           player_last_name,\n",
    "           player_jersey_number,\n",
    "           player_short_name,\n",
    "           row_number() over (partition by season, week, team_abbr order by rush_yards desc) as rn\n",
    "    from controls.nextgen_rush\n",
    "    order by  team_abbr, season desc, week)\n",
    "select * from base where week > 0\n",
    "\"\"\" )\n",
    "\n",
    "ngs_ground_power.head()"
   ],
   "metadata": {
    "collapsed": false,
    "ExecuteTime": {
     "end_time": "2023-07-06T03:14:36.647992Z",
     "start_time": "2023-07-06T03:14:36.537059Z"
    }
   }
  },
  {
   "cell_type": "markdown",
   "source": [
    "# <font color=teal>play-by-play events<font/>\n",
    "players are called out for certain events like fumbles, touchdowns, etc. in play-by-play\n",
    "we already picked these out during the transform step,\n",
    "  and expanded so that each team has its own records irrespective of the opposing team played.\n",
    "Now we pivot and sum all events by  <font color=red>season, week, team</font>"
   ],
   "metadata": {
    "collapsed": false
   }
  },
  {
   "cell_type": "code",
   "execution_count": 10,
   "outputs": [
    {
     "name": "stdout",
     "output_type": "stream",
     "text": [
      "CPU times: user 7.3 ms, sys: 1.3 ms, total: 8.59 ms\n",
      "Wall time: 150 ms\n"
     ]
    },
    {
     "data": {
      "text/plain": "   season  week team  fumble  own_kickoff_recovery  safety  tackle  qb_hit  \\\n0    2022     1  ARI       6                     0       0      75       6   \n1    2022     2  ARI       2                     0       0      61       5   \n2    2022     3  ARI       2                     0       0      54       5   \n3    2022     4  ARI       3                     0       0      57       3   \n4    2022     5  ARI       0                     0       0      86       6   \n\n   touchdown  interception  sack  \n0          3             0     0  \n1          4             0     1  \n2          0             0     1  \n3          3             2     2  \n4          2             0     3  ",
      "text/html": "<div>\n<style scoped>\n    .dataframe tbody tr th:only-of-type {\n        vertical-align: middle;\n    }\n\n    .dataframe tbody tr th {\n        vertical-align: top;\n    }\n\n    .dataframe thead th {\n        text-align: right;\n    }\n</style>\n<table border=\"1\" class=\"dataframe\">\n  <thead>\n    <tr style=\"text-align: right;\">\n      <th></th>\n      <th>season</th>\n      <th>week</th>\n      <th>team</th>\n      <th>fumble</th>\n      <th>own_kickoff_recovery</th>\n      <th>safety</th>\n      <th>tackle</th>\n      <th>qb_hit</th>\n      <th>touchdown</th>\n      <th>interception</th>\n      <th>sack</th>\n    </tr>\n  </thead>\n  <tbody>\n    <tr>\n      <th>0</th>\n      <td>2022</td>\n      <td>1</td>\n      <td>ARI</td>\n      <td>6</td>\n      <td>0</td>\n      <td>0</td>\n      <td>75</td>\n      <td>6</td>\n      <td>3</td>\n      <td>0</td>\n      <td>0</td>\n    </tr>\n    <tr>\n      <th>1</th>\n      <td>2022</td>\n      <td>2</td>\n      <td>ARI</td>\n      <td>2</td>\n      <td>0</td>\n      <td>0</td>\n      <td>61</td>\n      <td>5</td>\n      <td>4</td>\n      <td>0</td>\n      <td>1</td>\n    </tr>\n    <tr>\n      <th>2</th>\n      <td>2022</td>\n      <td>3</td>\n      <td>ARI</td>\n      <td>2</td>\n      <td>0</td>\n      <td>0</td>\n      <td>54</td>\n      <td>5</td>\n      <td>0</td>\n      <td>0</td>\n      <td>1</td>\n    </tr>\n    <tr>\n      <th>3</th>\n      <td>2022</td>\n      <td>4</td>\n      <td>ARI</td>\n      <td>3</td>\n      <td>0</td>\n      <td>0</td>\n      <td>57</td>\n      <td>3</td>\n      <td>3</td>\n      <td>2</td>\n      <td>2</td>\n    </tr>\n    <tr>\n      <th>4</th>\n      <td>2022</td>\n      <td>5</td>\n      <td>ARI</td>\n      <td>0</td>\n      <td>0</td>\n      <td>0</td>\n      <td>86</td>\n      <td>6</td>\n      <td>2</td>\n      <td>0</td>\n      <td>3</td>\n    </tr>\n  </tbody>\n</table>\n</div>"
     },
     "execution_count": 10,
     "metadata": {},
     "output_type": "execute_result"
    }
   ],
   "source": [
    "%%time\n",
    "pbp_events = db.query_to_df(\"\"\"\n",
    "SELECT\n",
    "    season, week, team,\n",
    "    SUM(CASE WHEN event = 'fumble' THEN 1 else 0 END) AS fumble,\n",
    "    SUM(CASE WHEN event = 'own_kickoff_recovery' THEN 1 else 0 END) AS own_kickoff_recovery,\n",
    "    SUM(CASE WHEN event = 'safety' THEN 1 else 0 END) AS safety,\n",
    "    SUM(CASE WHEN event = 'tackle' THEN 1 else 0 END) AS tackle,\n",
    "    SUM(CASE WHEN event = 'qb_hit' THEN 1 else 0  END) AS qb_hit,\n",
    "    SUM(CASE WHEN event = 'touchdown' THEN 1  else 0 END) AS touchdown,\n",
    "    SUM(CASE WHEN event = 'interception' THEN 1 else 0 END) AS interception,\n",
    "    SUM(CASE WHEN event = 'sack' THEN 1 else 0 END) AS sack\n",
    "FROM controls.player_events where week > 0\n",
    "group by season, week, team\n",
    "order by season desc, team, week\n",
    "\"\"\")\n",
    "\n",
    "pbp_events.head()"
   ],
   "metadata": {
    "collapsed": false,
    "ExecuteTime": {
     "end_time": "2023-07-06T03:14:36.771677Z",
     "start_time": "2023-07-06T03:14:36.578300Z"
    }
   }
  },
  {
   "cell_type": "markdown",
   "source": [
    "# <font color=teal>player stats<font/>\n",
    "Each player's stats by are collected by game and play\n",
    "For this dimension reduction exercise we roll up to <font color=red>season, week, team</font>"
   ],
   "metadata": {
    "collapsed": false
   }
  },
  {
   "cell_type": "code",
   "execution_count": 11,
   "outputs": [
    {
     "name": "stdout",
     "output_type": "stream",
     "text": [
      "CPU times: user 107 ms, sys: 18.9 ms, total: 126 ms\n",
      "Wall time: 401 ms\n"
     ]
    },
    {
     "data": {
      "text/plain": "   season  week team ps_completions ps_attempts passing_yards passing_tds  \\\n0    2022     1  ARI             24          38           205           2   \n1    2022     2  ARI             31          49           277           1   \n2    2022     3  ARI             37          58           314           0   \n3    2022     4  ARI             23          32           207           2   \n4    2022     5  ARI             28          42           250           1   \n\n  ps_interceptions sacks sack_yards  ... receiving_air_yards  \\\n0                0     3         26  ...                 266   \n1                1     1          7  ...                 239   \n2                0     2         19  ...                 332   \n3                1     1          1  ...                 182   \n4                1     1         11  ...                 293   \n\n  receiving_yards_after_catch receiving_first_downs avg_receiving_epa  \\\n0                         115                    12          0.680728   \n1                         162                    13         -0.302323   \n2                         166                    15          0.120710   \n3                          87                    10          0.059163   \n4                         144                    16          1.347603   \n\n  receiving_2pt_conversions       racr target_share  air_yards_share  wopr  \\\n0                         1  23.363950          1.0              1.0   2.2   \n1                         1   4.044793          1.0              1.0   2.2   \n2                         0 -14.124653          1.0              1.0   2.2   \n3                         0   1.130505          1.0              1.0   2.2   \n4                         0 -14.683343          1.0              1.0   2.2   \n\n  special_teams_tds  \n0                 0  \n1                 0  \n2                 0  \n3                 0  \n4                 0  \n\n[5 rows x 43 columns]",
      "text/html": "<div>\n<style scoped>\n    .dataframe tbody tr th:only-of-type {\n        vertical-align: middle;\n    }\n\n    .dataframe tbody tr th {\n        vertical-align: top;\n    }\n\n    .dataframe thead th {\n        text-align: right;\n    }\n</style>\n<table border=\"1\" class=\"dataframe\">\n  <thead>\n    <tr style=\"text-align: right;\">\n      <th></th>\n      <th>season</th>\n      <th>week</th>\n      <th>team</th>\n      <th>ps_completions</th>\n      <th>ps_attempts</th>\n      <th>passing_yards</th>\n      <th>passing_tds</th>\n      <th>ps_interceptions</th>\n      <th>sacks</th>\n      <th>sack_yards</th>\n      <th>...</th>\n      <th>receiving_air_yards</th>\n      <th>receiving_yards_after_catch</th>\n      <th>receiving_first_downs</th>\n      <th>avg_receiving_epa</th>\n      <th>receiving_2pt_conversions</th>\n      <th>racr</th>\n      <th>target_share</th>\n      <th>air_yards_share</th>\n      <th>wopr</th>\n      <th>special_teams_tds</th>\n    </tr>\n  </thead>\n  <tbody>\n    <tr>\n      <th>0</th>\n      <td>2022</td>\n      <td>1</td>\n      <td>ARI</td>\n      <td>24</td>\n      <td>38</td>\n      <td>205</td>\n      <td>2</td>\n      <td>0</td>\n      <td>3</td>\n      <td>26</td>\n      <td>...</td>\n      <td>266</td>\n      <td>115</td>\n      <td>12</td>\n      <td>0.680728</td>\n      <td>1</td>\n      <td>23.363950</td>\n      <td>1.0</td>\n      <td>1.0</td>\n      <td>2.2</td>\n      <td>0</td>\n    </tr>\n    <tr>\n      <th>1</th>\n      <td>2022</td>\n      <td>2</td>\n      <td>ARI</td>\n      <td>31</td>\n      <td>49</td>\n      <td>277</td>\n      <td>1</td>\n      <td>1</td>\n      <td>1</td>\n      <td>7</td>\n      <td>...</td>\n      <td>239</td>\n      <td>162</td>\n      <td>13</td>\n      <td>-0.302323</td>\n      <td>1</td>\n      <td>4.044793</td>\n      <td>1.0</td>\n      <td>1.0</td>\n      <td>2.2</td>\n      <td>0</td>\n    </tr>\n    <tr>\n      <th>2</th>\n      <td>2022</td>\n      <td>3</td>\n      <td>ARI</td>\n      <td>37</td>\n      <td>58</td>\n      <td>314</td>\n      <td>0</td>\n      <td>0</td>\n      <td>2</td>\n      <td>19</td>\n      <td>...</td>\n      <td>332</td>\n      <td>166</td>\n      <td>15</td>\n      <td>0.120710</td>\n      <td>0</td>\n      <td>-14.124653</td>\n      <td>1.0</td>\n      <td>1.0</td>\n      <td>2.2</td>\n      <td>0</td>\n    </tr>\n    <tr>\n      <th>3</th>\n      <td>2022</td>\n      <td>4</td>\n      <td>ARI</td>\n      <td>23</td>\n      <td>32</td>\n      <td>207</td>\n      <td>2</td>\n      <td>1</td>\n      <td>1</td>\n      <td>1</td>\n      <td>...</td>\n      <td>182</td>\n      <td>87</td>\n      <td>10</td>\n      <td>0.059163</td>\n      <td>0</td>\n      <td>1.130505</td>\n      <td>1.0</td>\n      <td>1.0</td>\n      <td>2.2</td>\n      <td>0</td>\n    </tr>\n    <tr>\n      <th>4</th>\n      <td>2022</td>\n      <td>5</td>\n      <td>ARI</td>\n      <td>28</td>\n      <td>42</td>\n      <td>250</td>\n      <td>1</td>\n      <td>1</td>\n      <td>1</td>\n      <td>11</td>\n      <td>...</td>\n      <td>293</td>\n      <td>144</td>\n      <td>16</td>\n      <td>1.347603</td>\n      <td>0</td>\n      <td>-14.683343</td>\n      <td>1.0</td>\n      <td>1.0</td>\n      <td>2.2</td>\n      <td>0</td>\n    </tr>\n  </tbody>\n</table>\n<p>5 rows × 43 columns</p>\n</div>"
     },
     "execution_count": 11,
     "metadata": {},
     "output_type": "execute_result"
    }
   ],
   "source": [
    "%%time\n",
    "player_stats = db.query_to_df(\"\"\"\n",
    "select\n",
    "    season,\n",
    "    week,\n",
    "    team,\n",
    "    sum(completions) as ps_completions,\n",
    "    sum(attempts) as ps_attempts,\n",
    "    sum(passing_yards) as passing_yards,\n",
    "    sum(passing_tds) as passing_tds,\n",
    "    sum(interceptions) as ps_interceptions,\n",
    "    sum(sacks) as sacks,\n",
    "    sum(sack_yards) as sack_yards,\n",
    "    sum(sack_fumbles) as sack_fumbles,\n",
    "    sum(sack_fumbles_lost) as sack_fumbles_lost,\n",
    "    sum(passing_air_yards) as passing_air_yards,\n",
    "    sum(passing_yards_after_catch) as passing_yards_after_catch,\n",
    "    sum(passing_first_downs) as passing_first_downs,\n",
    "    avg(passing_epa) as passing_epa,\n",
    "    sum(passing_2pt_conversions) as passing_2pt_conversions,\n",
    "    avg(pacr) as avg_pacr,\n",
    "    avg(dakota) as avg_dakota,\n",
    "    sum(carries) as carries,\n",
    "    sum(rushing_yards) as rushing_yards,\n",
    "    sum(rushing_tds) as rushing_tds,\n",
    "    sum(rushing_fumbles) as rushing_fumbles,\n",
    "    sum(rushing_fumbles_lost) as rushing_fumbles_lost,\n",
    "    sum(rushing_first_downs) as rushing_first_downs,\n",
    "    avg(rushing_epa) as avg_rushing_epa,\n",
    "    sum(rushing_2pt_conversions) as rushing_2pt_conversions,\n",
    "    sum(receptions) as receptions,\n",
    "    sum(targets) as targets,\n",
    "    sum(receiving_yards) as receiving_yards,\n",
    "    sum(receiving_tds) as receiving_tds,\n",
    "    sum(receiving_fumbles) as receiving_fumbles,\n",
    "    sum(receiving_fumbles_lost) as receiving_fumbles_lost,\n",
    "    sum(receiving_air_yards) as receiving_air_yards,\n",
    "    sum(receiving_yards_after_catch) as receiving_yards_after_catch,\n",
    "    sum(receiving_first_downs) as receiving_first_downs,\n",
    "    avg(receiving_epa) as avg_receiving_epa,\n",
    "    sum(receiving_2pt_conversions) as receiving_2pt_conversions,\n",
    "    sum(racr) as racr,\n",
    "    sum(target_share) as target_share,\n",
    "    sum(air_yards_share) as air_yards_share,\n",
    "    sum(wopr) as wopr,\n",
    "    sum(special_teams_tds) as special_teams_tds\n",
    "from controls.player_stats\n",
    "group by season,\n",
    "week,\n",
    "team\n",
    "order by season desc, team,  week\n",
    "\"\"\")\n",
    "\n",
    "player_stats.head()"
   ],
   "metadata": {
    "collapsed": false,
    "ExecuteTime": {
     "end_time": "2023-07-06T03:14:37.155784Z",
     "start_time": "2023-07-06T03:14:36.733785Z"
    }
   }
  },
  {
   "cell_type": "code",
   "execution_count": 11,
   "outputs": [],
   "source": [],
   "metadata": {
    "collapsed": false,
    "ExecuteTime": {
     "end_time": "2023-07-06T03:14:37.155968Z",
     "start_time": "2023-07-06T03:14:37.143046Z"
    }
   }
  },
  {
   "cell_type": "markdown",
   "source": [
    "# <font color=teal>play by play analytics</font>\n",
    "Analytics are part of the play-by-play dataset - they are collected for each play in each game.\n",
    "\n",
    "For this dimensionality reduction step we roll them up to the player stats level.\n",
    "\n",
    "The stats we get are for each play, and those probabilities\n",
    "  and play level incrementals like WPA and EPA don't make sense in a rollup like this (I think)\n",
    "  so for this rollup we'll use just EP and WP and well take the first and last metric form each season, week, team groping\n",
    "\n",
    "We'll also separate home and away teams into their own set, so that for each game there will be two separate sets of analytics, one for the home team and one fr the away team."
   ],
   "metadata": {
    "collapsed": false
   }
  },
  {
   "cell_type": "markdown",
   "source": [
    "### <font color=\"#9370DB\">helper functions</font>"
   ],
   "metadata": {
    "collapsed": false
   }
  },
  {
   "cell_type": "code",
   "execution_count": 12,
   "outputs": [],
   "source": [
    "from typing import List, NamedTuple\n",
    "\n",
    "class Col(NamedTuple):\n",
    "    name: str\n",
    "    alias: str\n",
    "\n",
    "def build_pivot_sql(team_col: str,  pivot_cols: List[Col], additional_cols: List[Col]):\n",
    "    db_table = 'controls.play_analytics'\n",
    "\n",
    "    base_cols = ['season',\n",
    "                 'week']\n",
    "    metrics = []\n",
    "    for col in pivot_cols:\n",
    "        metrics.append(\n",
    "            f\"\"\"\n",
    "            MAX(CASE WHEN RN = 1 THEN {col.alias} END) AS start_{col.alias},\n",
    "            MAX(CASE WHEN RN = (total_rows/2) THEN {col.alias} END) AS half_{col.alias}\"\"\")\n",
    "\n",
    "    inner_cols = base_cols +  [f\"{team_col} as team \"] + [f\"{p.name} as {p.alias}\" for p in pivot_cols] + [f\"{p.name} as {p.alias}\" for p in additional_cols]\n",
    "    inner_select = \",\".join(inner_cols)\n",
    "\n",
    "    outer_cols = base_cols + [\"team\"] +  [f\"{p.alias}\" for p in additional_cols] + metrics\n",
    "    outer_select = \",\".join(outer_cols)\n",
    "    outer_group = \",\".join(base_cols + [\"team\"] +  [f\"{p.alias}\" for p in additional_cols])\n",
    "\n",
    "    station_cols = base_cols + [team_col]\n",
    "    stations = \",\".join(station_cols)\n",
    "\n",
    "    sql = f\"\"\"\n",
    "    WITH ranked_rows AS (\n",
    "        SELECT {inner_select},\n",
    "             ROW_NUMBER() OVER (PARTITION BY\n",
    "                {stations} ORDER BY play_counter) AS RN,\n",
    "             COUNT(*) OVER (PARTITION BY\n",
    "                {stations}) AS total_rows\n",
    "        FROM {db_table}\n",
    "    )\n",
    "    SELECT\n",
    "        {outer_select}\n",
    "    FROM ranked_rows\n",
    "    GROUP BY {outer_group}\n",
    "    order by season desc, team, week\n",
    "    \"\"\"\n",
    "\n",
    "    if DEBUG:\n",
    "        print(sql)\n",
    "    return sql\n",
    "\n",
    "def build_pivot(team_col: str,  pivot_cols: List[Col],  additional_cols: List[Col]):\n",
    "    sql = build_pivot_sql(team_col, pivot_cols, additional_cols)\n",
    "    df = db.query_to_df( sql )\n",
    "    return df\n"
   ],
   "metadata": {
    "collapsed": false,
    "ExecuteTime": {
     "end_time": "2023-07-06T03:14:37.156031Z",
     "start_time": "2023-07-06T03:14:37.147084Z"
    }
   }
  },
  {
   "cell_type": "markdown",
   "source": [
    "### <font color=\"#9370DB\">home team statistics</font>"
   ],
   "metadata": {
    "collapsed": false
   }
  },
  {
   "cell_type": "code",
   "execution_count": 13,
   "outputs": [
    {
     "name": "stdout",
     "output_type": "stream",
     "text": [
      "CPU times: user 3.46 ms, sys: 1.25 ms, total: 4.71 ms\n",
      "Wall time: 845 ms\n"
     ]
    },
    {
     "data": {
      "text/plain": "   season  week team opponent  start_team_wp  half_team_wp  start_opponent_wp  \\\n0    2022     1  ARI       KC       0.566792      0.108674           0.433208   \n1    2022     3  ARI       LA       0.546262      0.237108           0.453738   \n2    2022     5  ARI      PHI       0.546262      0.350160           0.453738   \n3    2022     7  ARI       NO       0.566792      0.835941           0.433208   \n4    2022     9  ARI      SEA       0.566792      0.436939           0.433208   \n\n   half_opponent_wp  \n0          0.891326  \n1          0.762892  \n2          0.649840  \n3          0.164059  \n4          0.563061  ",
      "text/html": "<div>\n<style scoped>\n    .dataframe tbody tr th:only-of-type {\n        vertical-align: middle;\n    }\n\n    .dataframe tbody tr th {\n        vertical-align: top;\n    }\n\n    .dataframe thead th {\n        text-align: right;\n    }\n</style>\n<table border=\"1\" class=\"dataframe\">\n  <thead>\n    <tr style=\"text-align: right;\">\n      <th></th>\n      <th>season</th>\n      <th>week</th>\n      <th>team</th>\n      <th>opponent</th>\n      <th>start_team_wp</th>\n      <th>half_team_wp</th>\n      <th>start_opponent_wp</th>\n      <th>half_opponent_wp</th>\n    </tr>\n  </thead>\n  <tbody>\n    <tr>\n      <th>0</th>\n      <td>2022</td>\n      <td>1</td>\n      <td>ARI</td>\n      <td>KC</td>\n      <td>0.566792</td>\n      <td>0.108674</td>\n      <td>0.433208</td>\n      <td>0.891326</td>\n    </tr>\n    <tr>\n      <th>1</th>\n      <td>2022</td>\n      <td>3</td>\n      <td>ARI</td>\n      <td>LA</td>\n      <td>0.546262</td>\n      <td>0.237108</td>\n      <td>0.453738</td>\n      <td>0.762892</td>\n    </tr>\n    <tr>\n      <th>2</th>\n      <td>2022</td>\n      <td>5</td>\n      <td>ARI</td>\n      <td>PHI</td>\n      <td>0.546262</td>\n      <td>0.350160</td>\n      <td>0.453738</td>\n      <td>0.649840</td>\n    </tr>\n    <tr>\n      <th>3</th>\n      <td>2022</td>\n      <td>7</td>\n      <td>ARI</td>\n      <td>NO</td>\n      <td>0.566792</td>\n      <td>0.835941</td>\n      <td>0.433208</td>\n      <td>0.164059</td>\n    </tr>\n    <tr>\n      <th>4</th>\n      <td>2022</td>\n      <td>9</td>\n      <td>ARI</td>\n      <td>SEA</td>\n      <td>0.566792</td>\n      <td>0.436939</td>\n      <td>0.433208</td>\n      <td>0.563061</td>\n    </tr>\n  </tbody>\n</table>\n</div>"
     },
     "execution_count": 13,
     "metadata": {},
     "output_type": "execute_result"
    }
   ],
   "source": [
    "%%time\n",
    "pivot_cols = [\n",
    "    Col('home_wp', \"team_wp\"),\n",
    "    Col('away_wp', \"opponent_wp\"),\n",
    "]\n",
    "\n",
    "home_analytics_df = build_pivot(team_col=\"home_team\", pivot_cols=pivot_cols, additional_cols=[Col(\"away_team\", \"opponent\")])\n",
    "home_analytics_df.head()"
   ],
   "metadata": {
    "collapsed": false,
    "ExecuteTime": {
     "end_time": "2023-07-06T03:14:38.000077Z",
     "start_time": "2023-07-06T03:14:37.150450Z"
    }
   }
  },
  {
   "cell_type": "markdown",
   "source": [
    "### <font color=\"#9370DB\">away team statistics</font>"
   ],
   "metadata": {
    "collapsed": false
   }
  },
  {
   "cell_type": "code",
   "execution_count": 14,
   "outputs": [
    {
     "name": "stdout",
     "output_type": "stream",
     "text": [
      "CPU times: user 26.6 ms, sys: 2.37 ms, total: 28.9 ms\n",
      "Wall time: 666 ms\n"
     ]
    },
    {
     "data": {
      "text/plain": "   season  week team opponent  start_team_wp  half_team_wp  start_opponent_wp  \\\n0    2022     2  ARI       LV       0.453738      0.034517           0.546262   \n1    2022     4  ARI      CAR       0.433208      0.213143           0.566792   \n2    2022     6  ARI      SEA       0.433208      0.298779           0.566792   \n3    2022     8  ARI      MIN       0.453738      0.305759           0.546262   \n4    2022    10  ARI       LA       0.453738      0.895184           0.546262   \n\n   half_opponent_wp  \n0          0.965483  \n1          0.786857  \n2          0.701221  \n3          0.694241  \n4          0.104816  ",
      "text/html": "<div>\n<style scoped>\n    .dataframe tbody tr th:only-of-type {\n        vertical-align: middle;\n    }\n\n    .dataframe tbody tr th {\n        vertical-align: top;\n    }\n\n    .dataframe thead th {\n        text-align: right;\n    }\n</style>\n<table border=\"1\" class=\"dataframe\">\n  <thead>\n    <tr style=\"text-align: right;\">\n      <th></th>\n      <th>season</th>\n      <th>week</th>\n      <th>team</th>\n      <th>opponent</th>\n      <th>start_team_wp</th>\n      <th>half_team_wp</th>\n      <th>start_opponent_wp</th>\n      <th>half_opponent_wp</th>\n    </tr>\n  </thead>\n  <tbody>\n    <tr>\n      <th>0</th>\n      <td>2022</td>\n      <td>2</td>\n      <td>ARI</td>\n      <td>LV</td>\n      <td>0.453738</td>\n      <td>0.034517</td>\n      <td>0.546262</td>\n      <td>0.965483</td>\n    </tr>\n    <tr>\n      <th>1</th>\n      <td>2022</td>\n      <td>4</td>\n      <td>ARI</td>\n      <td>CAR</td>\n      <td>0.433208</td>\n      <td>0.213143</td>\n      <td>0.566792</td>\n      <td>0.786857</td>\n    </tr>\n    <tr>\n      <th>2</th>\n      <td>2022</td>\n      <td>6</td>\n      <td>ARI</td>\n      <td>SEA</td>\n      <td>0.433208</td>\n      <td>0.298779</td>\n      <td>0.566792</td>\n      <td>0.701221</td>\n    </tr>\n    <tr>\n      <th>3</th>\n      <td>2022</td>\n      <td>8</td>\n      <td>ARI</td>\n      <td>MIN</td>\n      <td>0.453738</td>\n      <td>0.305759</td>\n      <td>0.546262</td>\n      <td>0.694241</td>\n    </tr>\n    <tr>\n      <th>4</th>\n      <td>2022</td>\n      <td>10</td>\n      <td>ARI</td>\n      <td>LA</td>\n      <td>0.453738</td>\n      <td>0.895184</td>\n      <td>0.546262</td>\n      <td>0.104816</td>\n    </tr>\n  </tbody>\n</table>\n</div>"
     },
     "execution_count": 14,
     "metadata": {},
     "output_type": "execute_result"
    }
   ],
   "source": [
    "%%time\n",
    "pivot_cols = [\n",
    "    Col('away_wp', \"team_wp\"),\n",
    "    Col('home_wp', \"opponent_wp\")\n",
    "]\n",
    "\n",
    "away_analytics_df = build_pivot(team_col=\"away_team\", pivot_cols=pivot_cols, additional_cols=[Col(\"home_team\", \"opponent\")])\n",
    "away_analytics_df.head()\n"
   ],
   "metadata": {
    "collapsed": false,
    "ExecuteTime": {
     "end_time": "2023-07-06T03:14:38.671463Z",
     "start_time": "2023-07-06T03:14:38.001126Z"
    }
   }
  },
  {
   "cell_type": "markdown",
   "source": [
    "### <font color=\"#9370DB\">home and away team statistics appended together</font>"
   ],
   "metadata": {
    "collapsed": false
   }
  },
  {
   "cell_type": "code",
   "execution_count": 15,
   "outputs": [
    {
     "data": {
      "text/plain": "   season  week team opponent  start_team_wp  half_team_wp  start_opponent_wp  \\\n0    2022     1  ARI       KC       0.566792      0.108674           0.433208   \n1    2022     3  ARI       LA       0.546262      0.237108           0.453738   \n2    2022     5  ARI      PHI       0.546262      0.350160           0.453738   \n3    2022     7  ARI       NO       0.566792      0.835941           0.433208   \n4    2022     9  ARI      SEA       0.566792      0.436939           0.433208   \n\n   half_opponent_wp  \n0          0.891326  \n1          0.762892  \n2          0.649840  \n3          0.164059  \n4          0.563061  ",
      "text/html": "<div>\n<style scoped>\n    .dataframe tbody tr th:only-of-type {\n        vertical-align: middle;\n    }\n\n    .dataframe tbody tr th {\n        vertical-align: top;\n    }\n\n    .dataframe thead th {\n        text-align: right;\n    }\n</style>\n<table border=\"1\" class=\"dataframe\">\n  <thead>\n    <tr style=\"text-align: right;\">\n      <th></th>\n      <th>season</th>\n      <th>week</th>\n      <th>team</th>\n      <th>opponent</th>\n      <th>start_team_wp</th>\n      <th>half_team_wp</th>\n      <th>start_opponent_wp</th>\n      <th>half_opponent_wp</th>\n    </tr>\n  </thead>\n  <tbody>\n    <tr>\n      <th>0</th>\n      <td>2022</td>\n      <td>1</td>\n      <td>ARI</td>\n      <td>KC</td>\n      <td>0.566792</td>\n      <td>0.108674</td>\n      <td>0.433208</td>\n      <td>0.891326</td>\n    </tr>\n    <tr>\n      <th>1</th>\n      <td>2022</td>\n      <td>3</td>\n      <td>ARI</td>\n      <td>LA</td>\n      <td>0.546262</td>\n      <td>0.237108</td>\n      <td>0.453738</td>\n      <td>0.762892</td>\n    </tr>\n    <tr>\n      <th>2</th>\n      <td>2022</td>\n      <td>5</td>\n      <td>ARI</td>\n      <td>PHI</td>\n      <td>0.546262</td>\n      <td>0.350160</td>\n      <td>0.453738</td>\n      <td>0.649840</td>\n    </tr>\n    <tr>\n      <th>3</th>\n      <td>2022</td>\n      <td>7</td>\n      <td>ARI</td>\n      <td>NO</td>\n      <td>0.566792</td>\n      <td>0.835941</td>\n      <td>0.433208</td>\n      <td>0.164059</td>\n    </tr>\n    <tr>\n      <th>4</th>\n      <td>2022</td>\n      <td>9</td>\n      <td>ARI</td>\n      <td>SEA</td>\n      <td>0.566792</td>\n      <td>0.436939</td>\n      <td>0.433208</td>\n      <td>0.563061</td>\n    </tr>\n  </tbody>\n</table>\n</div>"
     },
     "execution_count": 15,
     "metadata": {},
     "output_type": "execute_result"
    }
   ],
   "source": [
    "team_analytics = pd.concat([home_analytics_df, away_analytics_df])\n",
    "team_analytics.head()"
   ],
   "metadata": {
    "collapsed": false,
    "ExecuteTime": {
     "end_time": "2023-07-06T03:14:38.676881Z",
     "start_time": "2023-07-06T03:14:38.672612Z"
    }
   }
  },
  {
   "cell_type": "markdown",
   "source": [
    "# <font color=teal>validate that all of these datasets will merge horizontally</font>\n",
    "We want one record for each season, week and team.\n",
    "\n",
    "The metrics themselves pivot horizontally\n",
    "We expect that with each merge the **number of columns grows but the row count stays the same**\n",
    "\n",
    "\n",
    "Since we are using this data for dimensionality reduction it's ok if we loose a few rows on the join,\n",
    "at least for this step."
   ],
   "metadata": {
    "collapsed": false
   }
  },
  {
   "cell_type": "markdown",
   "source": [
    "### <font color=\"#9370DB\">helper functions</font>"
   ],
   "metadata": {
    "collapsed": false
   }
  },
  {
   "cell_type": "code",
   "execution_count": 16,
   "outputs": [],
   "source": [
    "from pandas import DataFrame\n",
    "\n",
    "def calc_coverage(title: str, df: DataFrame):\n",
    "    first = df.season.min()\n",
    "    last = df.season.max()\n",
    "    first_wk = df.week.min()\n",
    "    last_wk = df.week.max()\n",
    "    seasons = df.season.nunique()\n",
    "    print(f\"Shape of {title:30}:  {df.shape},\\t Contains {seasons} seasons, starting with {first} and ending in {last} min week: {first_wk}, max week : {last_wk}\")\n",
    "\n",
    "def print_columns(title, df):\n",
    "    print(f\"\\n---------\\n{title.strip()} colums\")\n",
    "    for col in df.columns:\n",
    "        print(col)"
   ],
   "metadata": {
    "collapsed": false,
    "ExecuteTime": {
     "end_time": "2023-07-06T03:14:38.679462Z",
     "start_time": "2023-07-06T03:14:38.678551Z"
    }
   }
  },
  {
   "cell_type": "markdown",
   "source": [
    "### <font color=\"#9370DB\">get shapes before merge</font>"
   ],
   "metadata": {
    "collapsed": false
   }
  },
  {
   "cell_type": "code",
   "execution_count": 17,
   "outputs": [
    {
     "name": "stdout",
     "output_type": "stream",
     "text": [
      "Shape of Team analytics                :  (3812, 8),\t Contains 7 seasons, starting with 2016 and ending in 2022 min week: 1, max week : 22\n",
      "Shape of ngs_air_power                 :  (3778, 23),\t Contains 7 seasons, starting with 2016 and ending in 2022 min week: 1, max week : 23\n",
      "Shape of ngs_ground_power              :  (3825, 21),\t Contains 7 seasons, starting with 2016 and ending in 2022 min week: 1, max week : 23\n",
      "Shape of pbp_events                    :  (3834, 11),\t Contains 7 seasons, starting with 2016 and ending in 2022 min week: 1, max week : 22\n",
      "Shape of player_stats                  :  (12836, 43),\t Contains 24 seasons, starting with 1999 and ending in 2022 min week: 1, max week : 22\n",
      "Shape of game info                     :  (3812, 10),\t Contains 7 seasons, starting with 2016 and ending in 2022 min week: 1, max week : 22\n"
     ]
    }
   ],
   "source": [
    "calc_coverage(\"Team analytics \", team_analytics)\n",
    "calc_coverage(\"ngs_air_power  \", ngs_air_power)\n",
    "calc_coverage(\"ngs_ground_power \", ngs_ground_power)\n",
    "calc_coverage(\"pbp_events  \", pbp_events)\n",
    "calc_coverage(\"player_stats  \", player_stats)\n",
    "calc_coverage(\"game info  \", game_df)"
   ],
   "metadata": {
    "collapsed": false,
    "ExecuteTime": {
     "end_time": "2023-07-06T03:14:38.685442Z",
     "start_time": "2023-07-06T03:14:38.680719Z"
    }
   }
  },
  {
   "cell_type": "code",
   "execution_count": 18,
   "outputs": [],
   "source": [
    "ngs_air_power.drop(columns=['rn'], inplace=True)\n",
    "ngs_ground_power.drop(columns=['rn'], inplace=True)"
   ],
   "metadata": {
    "collapsed": false,
    "ExecuteTime": {
     "end_time": "2023-07-06T03:14:38.712819Z",
     "start_time": "2023-07-06T03:14:38.686432Z"
    }
   }
  },
  {
   "cell_type": "code",
   "execution_count": 19,
   "outputs": [],
   "source": [
    "if DEBUG:\n",
    "    print_columns(\"Team analytics \", team_analytics)\n",
    "    print_columns(\"ngs_air_power  \", ngs_air_power)\n",
    "    print_columns(\"ngs_ground_power \", ngs_ground_power)\n",
    "    print_columns(\"pbp_events  \", pbp_events)\n",
    "    print_columns(\"player_stats  \", player_stats)\n",
    "    print_columns(\"game Info     \", game_df)"
   ],
   "metadata": {
    "collapsed": false,
    "ExecuteTime": {
     "end_time": "2023-07-06T03:14:38.742841Z",
     "start_time": "2023-07-06T03:14:38.689765Z"
    }
   }
  },
  {
   "cell_type": "markdown",
   "source": [
    "### <font color=\"#9370DB\">get shapes after each  merge</font>"
   ],
   "metadata": {
    "collapsed": false
   }
  },
  {
   "cell_type": "code",
   "execution_count": 20,
   "outputs": [
    {
     "name": "stdout",
     "output_type": "stream",
     "text": [
      "shape after merging ngs_ground_power + ngs_air_power  (3788, 39)\n",
      "shape after merging merged + pbp_events               (3569, 47)\n",
      "shape after merging merged + player_stats             (3569, 87)\n",
      "shape after merging merged + team_analytics           (3569, 92)\n",
      "shape after merging merged + game_df                  (3569, 99)\n",
      "CPU times: user 31.6 ms, sys: 5.73 ms, total: 37.4 ms\n",
      "Wall time: 37.1 ms\n"
     ]
    },
    {
     "data": {
      "text/plain": "(3569, 99)"
     },
     "execution_count": 20,
     "metadata": {},
     "output_type": "execute_result"
    }
   ],
   "source": [
    "%%time\n",
    "merged = pd.merge(ngs_ground_power, ngs_air_power, on=['season', 'week', 'team'])\n",
    "print(\"shape after merging ngs_ground_power + ngs_air_power \", merged.shape)\n",
    "merged = pd.merge(merged, pbp_events, on=['season', 'week', 'team'])\n",
    "print(\"shape after merging merged + pbp_events              \", merged.shape)\n",
    "merged = pd.merge(merged, player_stats, on=['season', 'week', 'team'])\n",
    "print(\"shape after merging merged + player_stats            \", merged.shape)\n",
    "merged = pd.merge(merged, team_analytics, on=['season', 'week', 'team'])\n",
    "print(\"shape after merging merged + team_analytics          \", merged.shape)\n",
    "merged = pd.merge(merged, game_df, on=['season', 'week', 'team'])\n",
    "print(\"shape after merging merged + game_df                 \", merged.shape)\n",
    "\n",
    "merged.shape"
   ],
   "metadata": {
    "collapsed": false,
    "ExecuteTime": {
     "end_time": "2023-07-06T03:14:38.832549Z",
     "start_time": "2023-07-06T03:14:38.691326Z"
    }
   }
  },
  {
   "cell_type": "code",
   "execution_count": 21,
   "outputs": [
    {
     "name": "stdout",
     "output_type": "stream",
     "text": [
      "CPU times: user 44 µs, sys: 1e+03 ns, total: 45 µs\n",
      "Wall time: 45.1 µs\n"
     ]
    }
   ],
   "source": [
    "%%time\n",
    "overlaps = 0\n",
    "for col in merged.columns:\n",
    "    if str(col).endswith(\"_y\") or str(col).endswith(\"_x\") or str(col) == \"rn\":\n",
    "        print(col)\n",
    "        overlaps += 1\n",
    "\n",
    "assert overlaps == 0\n"
   ],
   "metadata": {
    "collapsed": false,
    "ExecuteTime": {
     "end_time": "2023-07-06T03:14:38.832894Z",
     "start_time": "2023-07-06T03:14:38.734658Z"
    }
   }
  },
  {
   "cell_type": "code",
   "execution_count": 22,
   "outputs": [
    {
     "ename": "DuplicateColumnError",
     "evalue": "A column with name 'rush_yards' is already present in table 'weekly_analytics'.",
     "output_type": "error",
     "traceback": [
      "\u001B[0;31m---------------------------------------------------------------------------\u001B[0m",
      "\u001B[0;31mDuplicateColumnError\u001B[0m                      Traceback (most recent call last)",
      "Cell \u001B[0;32mIn[22], line 2\u001B[0m\n\u001B[1;32m      1\u001B[0m \u001B[38;5;28;01mif\u001B[39;00m COMMIT_TO_DATABASE:\n\u001B[0;32m----> 2\u001B[0m     \u001B[43mdb\u001B[49m\u001B[38;5;241;43m.\u001B[39;49m\u001B[43mload_table\u001B[49m\u001B[43m(\u001B[49m\u001B[43mmerged\u001B[49m\u001B[43m,\u001B[49m\u001B[43m \u001B[49m\u001B[43mtable_name\u001B[49m\u001B[38;5;241;43m=\u001B[39;49m\u001B[38;5;124;43m\"\u001B[39;49m\u001B[38;5;124;43mweekly_analytics\u001B[39;49m\u001B[38;5;124;43m\"\u001B[39;49m\u001B[43m,\u001B[49m\u001B[43m \u001B[49m\u001B[43mschema\u001B[49m\u001B[38;5;241;43m=\u001B[39;49m\u001B[43mSCHEMA\u001B[49m\u001B[43m,\u001B[49m\u001B[43m \u001B[49m\u001B[43mhandle_exists\u001B[49m\u001B[38;5;241;43m=\u001B[39;49m\u001B[38;5;124;43m\"\u001B[39;49m\u001B[38;5;124;43mreplace\u001B[39;49m\u001B[38;5;124;43m\"\u001B[39;49m\u001B[43m)\u001B[49m\n",
      "File \u001B[0;32m~/Source/courses/datascience/Springboard/capstone/NFL/NFLVersReader/src/database_loader.py:72\u001B[0m, in \u001B[0;36mDatabaseLoader.load_table\u001B[0;34m(self, df, table_name, schema, handle_exists, source)\u001B[0m\n\u001B[1;32m     69\u001B[0m df[\u001B[38;5;124m'\u001B[39m\u001B[38;5;124mops_load_timestamp\u001B[39m\u001B[38;5;124m'\u001B[39m] \u001B[38;5;241m=\u001B[39m datetime\u001B[38;5;241m.\u001B[39mnow()\n\u001B[1;32m     71\u001B[0m \u001B[38;5;28mself\u001B[39m\u001B[38;5;241m.\u001B[39mconnect_sql()\n\u001B[0;32m---> 72\u001B[0m \u001B[43mdf\u001B[49m\u001B[38;5;241;43m.\u001B[39;49m\u001B[43mto_sql\u001B[49m\u001B[43m(\u001B[49m\n\u001B[1;32m     73\u001B[0m \u001B[43m    \u001B[49m\u001B[43mtable_name\u001B[49m\u001B[43m,\u001B[49m\n\u001B[1;32m     74\u001B[0m \u001B[43m    \u001B[49m\u001B[38;5;28;43mself\u001B[39;49m\u001B[38;5;241;43m.\u001B[39;49m\u001B[43mengine\u001B[49m\u001B[43m,\u001B[49m\n\u001B[1;32m     75\u001B[0m \u001B[43m    \u001B[49m\u001B[43mschema\u001B[49m\u001B[38;5;241;43m=\u001B[39;49m\u001B[43mschema\u001B[49m\u001B[43m,\u001B[49m\n\u001B[1;32m     76\u001B[0m \u001B[43m    \u001B[49m\u001B[43mif_exists\u001B[49m\u001B[38;5;241;43m=\u001B[39;49m\u001B[43mhandle_exists\u001B[49m\u001B[43m,\u001B[49m\u001B[43m \u001B[49m\u001B[43mindex\u001B[49m\u001B[38;5;241;43m=\u001B[39;49m\u001B[38;5;28;43;01mFalse\u001B[39;49;00m\u001B[43m)\u001B[49m\n\u001B[1;32m     78\u001B[0m n \u001B[38;5;241m=\u001B[39m \u001B[38;5;28mself\u001B[39m\u001B[38;5;241m.\u001B[39mquery(\u001B[38;5;124mf\u001B[39m\u001B[38;5;124m\"\"\"\u001B[39m\u001B[38;5;124mselect count(*) from \u001B[39m\u001B[38;5;132;01m{\u001B[39;00mschema\u001B[38;5;132;01m}\u001B[39;00m\u001B[38;5;124m.\u001B[39m\u001B[38;5;132;01m{\u001B[39;00mtable_name\u001B[38;5;132;01m}\u001B[39;00m\u001B[38;5;124m\"\"\"\u001B[39m)\n\u001B[1;32m     79\u001B[0m \u001B[38;5;28mself\u001B[39m\u001B[38;5;241m.\u001B[39mload_stats\u001B[38;5;241m.\u001B[39mappend(\n\u001B[1;32m     80\u001B[0m     \u001B[38;5;28mdict\u001B[39m(load_date\u001B[38;5;241m=\u001B[39mdatetime\u001B[38;5;241m.\u001B[39mnow(), table\u001B[38;5;241m=\u001B[39mtable_name, records\u001B[38;5;241m=\u001B[39m\u001B[38;5;28mlen\u001B[39m(df), source\u001B[38;5;241m=\u001B[39msource, table_count\u001B[38;5;241m=\u001B[39mn[\u001B[38;5;241m0\u001B[39m][\u001B[38;5;241m0\u001B[39m]))\n",
      "File \u001B[0;32m~/anaconda3/envs/eda_projects/lib/python3.9/site-packages/pandas/core/generic.py:2987\u001B[0m, in \u001B[0;36mNDFrame.to_sql\u001B[0;34m(self, name, con, schema, if_exists, index, index_label, chunksize, dtype, method)\u001B[0m\n\u001B[1;32m   2830\u001B[0m \u001B[38;5;250m\u001B[39m\u001B[38;5;124;03m\"\"\"\u001B[39;00m\n\u001B[1;32m   2831\u001B[0m \u001B[38;5;124;03mWrite records stored in a DataFrame to a SQL database.\u001B[39;00m\n\u001B[1;32m   2832\u001B[0m \n\u001B[0;32m   (...)\u001B[0m\n\u001B[1;32m   2983\u001B[0m \u001B[38;5;124;03m[(1,), (None,), (2,)]\u001B[39;00m\n\u001B[1;32m   2984\u001B[0m \u001B[38;5;124;03m\"\"\"\u001B[39;00m  \u001B[38;5;66;03m# noqa:E501\u001B[39;00m\n\u001B[1;32m   2985\u001B[0m \u001B[38;5;28;01mfrom\u001B[39;00m \u001B[38;5;21;01mpandas\u001B[39;00m\u001B[38;5;21;01m.\u001B[39;00m\u001B[38;5;21;01mio\u001B[39;00m \u001B[38;5;28;01mimport\u001B[39;00m sql\n\u001B[0;32m-> 2987\u001B[0m \u001B[38;5;28;01mreturn\u001B[39;00m \u001B[43msql\u001B[49m\u001B[38;5;241;43m.\u001B[39;49m\u001B[43mto_sql\u001B[49m\u001B[43m(\u001B[49m\n\u001B[1;32m   2988\u001B[0m \u001B[43m    \u001B[49m\u001B[38;5;28;43mself\u001B[39;49m\u001B[43m,\u001B[49m\n\u001B[1;32m   2989\u001B[0m \u001B[43m    \u001B[49m\u001B[43mname\u001B[49m\u001B[43m,\u001B[49m\n\u001B[1;32m   2990\u001B[0m \u001B[43m    \u001B[49m\u001B[43mcon\u001B[49m\u001B[43m,\u001B[49m\n\u001B[1;32m   2991\u001B[0m \u001B[43m    \u001B[49m\u001B[43mschema\u001B[49m\u001B[38;5;241;43m=\u001B[39;49m\u001B[43mschema\u001B[49m\u001B[43m,\u001B[49m\n\u001B[1;32m   2992\u001B[0m \u001B[43m    \u001B[49m\u001B[43mif_exists\u001B[49m\u001B[38;5;241;43m=\u001B[39;49m\u001B[43mif_exists\u001B[49m\u001B[43m,\u001B[49m\n\u001B[1;32m   2993\u001B[0m \u001B[43m    \u001B[49m\u001B[43mindex\u001B[49m\u001B[38;5;241;43m=\u001B[39;49m\u001B[43mindex\u001B[49m\u001B[43m,\u001B[49m\n\u001B[1;32m   2994\u001B[0m \u001B[43m    \u001B[49m\u001B[43mindex_label\u001B[49m\u001B[38;5;241;43m=\u001B[39;49m\u001B[43mindex_label\u001B[49m\u001B[43m,\u001B[49m\n\u001B[1;32m   2995\u001B[0m \u001B[43m    \u001B[49m\u001B[43mchunksize\u001B[49m\u001B[38;5;241;43m=\u001B[39;49m\u001B[43mchunksize\u001B[49m\u001B[43m,\u001B[49m\n\u001B[1;32m   2996\u001B[0m \u001B[43m    \u001B[49m\u001B[43mdtype\u001B[49m\u001B[38;5;241;43m=\u001B[39;49m\u001B[43mdtype\u001B[49m\u001B[43m,\u001B[49m\n\u001B[1;32m   2997\u001B[0m \u001B[43m    \u001B[49m\u001B[43mmethod\u001B[49m\u001B[38;5;241;43m=\u001B[39;49m\u001B[43mmethod\u001B[49m\u001B[43m,\u001B[49m\n\u001B[1;32m   2998\u001B[0m \u001B[43m\u001B[49m\u001B[43m)\u001B[49m\n",
      "File \u001B[0;32m~/anaconda3/envs/eda_projects/lib/python3.9/site-packages/pandas/io/sql.py:695\u001B[0m, in \u001B[0;36mto_sql\u001B[0;34m(frame, name, con, schema, if_exists, index, index_label, chunksize, dtype, method, engine, **engine_kwargs)\u001B[0m\n\u001B[1;32m    690\u001B[0m \u001B[38;5;28;01melif\u001B[39;00m \u001B[38;5;129;01mnot\u001B[39;00m \u001B[38;5;28misinstance\u001B[39m(frame, DataFrame):\n\u001B[1;32m    691\u001B[0m     \u001B[38;5;28;01mraise\u001B[39;00m \u001B[38;5;167;01mNotImplementedError\u001B[39;00m(\n\u001B[1;32m    692\u001B[0m         \u001B[38;5;124m\"\u001B[39m\u001B[38;5;124m'\u001B[39m\u001B[38;5;124mframe\u001B[39m\u001B[38;5;124m'\u001B[39m\u001B[38;5;124m argument should be either a Series or a DataFrame\u001B[39m\u001B[38;5;124m\"\u001B[39m\n\u001B[1;32m    693\u001B[0m     )\n\u001B[0;32m--> 695\u001B[0m \u001B[38;5;28;01mreturn\u001B[39;00m \u001B[43mpandas_sql\u001B[49m\u001B[38;5;241;43m.\u001B[39;49m\u001B[43mto_sql\u001B[49m\u001B[43m(\u001B[49m\n\u001B[1;32m    696\u001B[0m \u001B[43m    \u001B[49m\u001B[43mframe\u001B[49m\u001B[43m,\u001B[49m\n\u001B[1;32m    697\u001B[0m \u001B[43m    \u001B[49m\u001B[43mname\u001B[49m\u001B[43m,\u001B[49m\n\u001B[1;32m    698\u001B[0m \u001B[43m    \u001B[49m\u001B[43mif_exists\u001B[49m\u001B[38;5;241;43m=\u001B[39;49m\u001B[43mif_exists\u001B[49m\u001B[43m,\u001B[49m\n\u001B[1;32m    699\u001B[0m \u001B[43m    \u001B[49m\u001B[43mindex\u001B[49m\u001B[38;5;241;43m=\u001B[39;49m\u001B[43mindex\u001B[49m\u001B[43m,\u001B[49m\n\u001B[1;32m    700\u001B[0m \u001B[43m    \u001B[49m\u001B[43mindex_label\u001B[49m\u001B[38;5;241;43m=\u001B[39;49m\u001B[43mindex_label\u001B[49m\u001B[43m,\u001B[49m\n\u001B[1;32m    701\u001B[0m \u001B[43m    \u001B[49m\u001B[43mschema\u001B[49m\u001B[38;5;241;43m=\u001B[39;49m\u001B[43mschema\u001B[49m\u001B[43m,\u001B[49m\n\u001B[1;32m    702\u001B[0m \u001B[43m    \u001B[49m\u001B[43mchunksize\u001B[49m\u001B[38;5;241;43m=\u001B[39;49m\u001B[43mchunksize\u001B[49m\u001B[43m,\u001B[49m\n\u001B[1;32m    703\u001B[0m \u001B[43m    \u001B[49m\u001B[43mdtype\u001B[49m\u001B[38;5;241;43m=\u001B[39;49m\u001B[43mdtype\u001B[49m\u001B[43m,\u001B[49m\n\u001B[1;32m    704\u001B[0m \u001B[43m    \u001B[49m\u001B[43mmethod\u001B[49m\u001B[38;5;241;43m=\u001B[39;49m\u001B[43mmethod\u001B[49m\u001B[43m,\u001B[49m\n\u001B[1;32m    705\u001B[0m \u001B[43m    \u001B[49m\u001B[43mengine\u001B[49m\u001B[38;5;241;43m=\u001B[39;49m\u001B[43mengine\u001B[49m\u001B[43m,\u001B[49m\n\u001B[1;32m    706\u001B[0m \u001B[43m    \u001B[49m\u001B[38;5;241;43m*\u001B[39;49m\u001B[38;5;241;43m*\u001B[39;49m\u001B[43mengine_kwargs\u001B[49m\u001B[43m,\u001B[49m\n\u001B[1;32m    707\u001B[0m \u001B[43m\u001B[49m\u001B[43m)\u001B[49m\n",
      "File \u001B[0;32m~/anaconda3/envs/eda_projects/lib/python3.9/site-packages/pandas/io/sql.py:1728\u001B[0m, in \u001B[0;36mSQLDatabase.to_sql\u001B[0;34m(self, frame, name, if_exists, index, index_label, schema, chunksize, dtype, method, engine, **engine_kwargs)\u001B[0m\n\u001B[1;32m   1678\u001B[0m \u001B[38;5;250m\u001B[39m\u001B[38;5;124;03m\"\"\"\u001B[39;00m\n\u001B[1;32m   1679\u001B[0m \u001B[38;5;124;03mWrite records stored in a DataFrame to a SQL database.\u001B[39;00m\n\u001B[1;32m   1680\u001B[0m \n\u001B[0;32m   (...)\u001B[0m\n\u001B[1;32m   1724\u001B[0m \u001B[38;5;124;03m    Any additional kwargs are passed to the engine.\u001B[39;00m\n\u001B[1;32m   1725\u001B[0m \u001B[38;5;124;03m\"\"\"\u001B[39;00m\n\u001B[1;32m   1726\u001B[0m sql_engine \u001B[38;5;241m=\u001B[39m get_engine(engine)\n\u001B[0;32m-> 1728\u001B[0m table \u001B[38;5;241m=\u001B[39m \u001B[38;5;28;43mself\u001B[39;49m\u001B[38;5;241;43m.\u001B[39;49m\u001B[43mprep_table\u001B[49m\u001B[43m(\u001B[49m\n\u001B[1;32m   1729\u001B[0m \u001B[43m    \u001B[49m\u001B[43mframe\u001B[49m\u001B[38;5;241;43m=\u001B[39;49m\u001B[43mframe\u001B[49m\u001B[43m,\u001B[49m\n\u001B[1;32m   1730\u001B[0m \u001B[43m    \u001B[49m\u001B[43mname\u001B[49m\u001B[38;5;241;43m=\u001B[39;49m\u001B[43mname\u001B[49m\u001B[43m,\u001B[49m\n\u001B[1;32m   1731\u001B[0m \u001B[43m    \u001B[49m\u001B[43mif_exists\u001B[49m\u001B[38;5;241;43m=\u001B[39;49m\u001B[43mif_exists\u001B[49m\u001B[43m,\u001B[49m\n\u001B[1;32m   1732\u001B[0m \u001B[43m    \u001B[49m\u001B[43mindex\u001B[49m\u001B[38;5;241;43m=\u001B[39;49m\u001B[43mindex\u001B[49m\u001B[43m,\u001B[49m\n\u001B[1;32m   1733\u001B[0m \u001B[43m    \u001B[49m\u001B[43mindex_label\u001B[49m\u001B[38;5;241;43m=\u001B[39;49m\u001B[43mindex_label\u001B[49m\u001B[43m,\u001B[49m\n\u001B[1;32m   1734\u001B[0m \u001B[43m    \u001B[49m\u001B[43mschema\u001B[49m\u001B[38;5;241;43m=\u001B[39;49m\u001B[43mschema\u001B[49m\u001B[43m,\u001B[49m\n\u001B[1;32m   1735\u001B[0m \u001B[43m    \u001B[49m\u001B[43mdtype\u001B[49m\u001B[38;5;241;43m=\u001B[39;49m\u001B[43mdtype\u001B[49m\u001B[43m,\u001B[49m\n\u001B[1;32m   1736\u001B[0m \u001B[43m\u001B[49m\u001B[43m)\u001B[49m\n\u001B[1;32m   1738\u001B[0m total_inserted \u001B[38;5;241m=\u001B[39m sql_engine\u001B[38;5;241m.\u001B[39minsert_records(\n\u001B[1;32m   1739\u001B[0m     table\u001B[38;5;241m=\u001B[39mtable,\n\u001B[1;32m   1740\u001B[0m     con\u001B[38;5;241m=\u001B[39m\u001B[38;5;28mself\u001B[39m\u001B[38;5;241m.\u001B[39mconnectable,\n\u001B[0;32m   (...)\u001B[0m\n\u001B[1;32m   1747\u001B[0m     \u001B[38;5;241m*\u001B[39m\u001B[38;5;241m*\u001B[39mengine_kwargs,\n\u001B[1;32m   1748\u001B[0m )\n\u001B[1;32m   1750\u001B[0m \u001B[38;5;28mself\u001B[39m\u001B[38;5;241m.\u001B[39mcheck_case_sensitive(name\u001B[38;5;241m=\u001B[39mname, schema\u001B[38;5;241m=\u001B[39mschema)\n",
      "File \u001B[0;32m~/anaconda3/envs/eda_projects/lib/python3.9/site-packages/pandas/io/sql.py:1621\u001B[0m, in \u001B[0;36mSQLDatabase.prep_table\u001B[0;34m(self, frame, name, if_exists, index, index_label, schema, dtype)\u001B[0m\n\u001B[1;32m   1618\u001B[0m         \u001B[38;5;28;01mif\u001B[39;00m \u001B[38;5;129;01mnot\u001B[39;00m \u001B[38;5;28misinstance\u001B[39m(to_instance(my_type), TypeEngine):\n\u001B[1;32m   1619\u001B[0m             \u001B[38;5;28;01mraise\u001B[39;00m \u001B[38;5;167;01mValueError\u001B[39;00m(\u001B[38;5;124mf\u001B[39m\u001B[38;5;124m\"\u001B[39m\u001B[38;5;124mThe type of \u001B[39m\u001B[38;5;132;01m{\u001B[39;00mcol\u001B[38;5;132;01m}\u001B[39;00m\u001B[38;5;124m is not a SQLAlchemy type\u001B[39m\u001B[38;5;124m\"\u001B[39m)\n\u001B[0;32m-> 1621\u001B[0m table \u001B[38;5;241m=\u001B[39m \u001B[43mSQLTable\u001B[49m\u001B[43m(\u001B[49m\n\u001B[1;32m   1622\u001B[0m \u001B[43m    \u001B[49m\u001B[43mname\u001B[49m\u001B[43m,\u001B[49m\n\u001B[1;32m   1623\u001B[0m \u001B[43m    \u001B[49m\u001B[38;5;28;43mself\u001B[39;49m\u001B[43m,\u001B[49m\n\u001B[1;32m   1624\u001B[0m \u001B[43m    \u001B[49m\u001B[43mframe\u001B[49m\u001B[38;5;241;43m=\u001B[39;49m\u001B[43mframe\u001B[49m\u001B[43m,\u001B[49m\n\u001B[1;32m   1625\u001B[0m \u001B[43m    \u001B[49m\u001B[43mindex\u001B[49m\u001B[38;5;241;43m=\u001B[39;49m\u001B[43mindex\u001B[49m\u001B[43m,\u001B[49m\n\u001B[1;32m   1626\u001B[0m \u001B[43m    \u001B[49m\u001B[43mif_exists\u001B[49m\u001B[38;5;241;43m=\u001B[39;49m\u001B[43mif_exists\u001B[49m\u001B[43m,\u001B[49m\n\u001B[1;32m   1627\u001B[0m \u001B[43m    \u001B[49m\u001B[43mindex_label\u001B[49m\u001B[38;5;241;43m=\u001B[39;49m\u001B[43mindex_label\u001B[49m\u001B[43m,\u001B[49m\n\u001B[1;32m   1628\u001B[0m \u001B[43m    \u001B[49m\u001B[43mschema\u001B[49m\u001B[38;5;241;43m=\u001B[39;49m\u001B[43mschema\u001B[49m\u001B[43m,\u001B[49m\n\u001B[1;32m   1629\u001B[0m \u001B[43m    \u001B[49m\u001B[43mdtype\u001B[49m\u001B[38;5;241;43m=\u001B[39;49m\u001B[43mdtype\u001B[49m\u001B[43m,\u001B[49m\n\u001B[1;32m   1630\u001B[0m \u001B[43m\u001B[49m\u001B[43m)\u001B[49m\n\u001B[1;32m   1631\u001B[0m table\u001B[38;5;241m.\u001B[39mcreate()\n\u001B[1;32m   1632\u001B[0m \u001B[38;5;28;01mreturn\u001B[39;00m table\n",
      "File \u001B[0;32m~/anaconda3/envs/eda_projects/lib/python3.9/site-packages/pandas/io/sql.py:805\u001B[0m, in \u001B[0;36mSQLTable.__init__\u001B[0;34m(self, name, pandas_sql_engine, frame, index, if_exists, prefix, index_label, schema, keys, dtype)\u001B[0m\n\u001B[1;32m    801\u001B[0m \u001B[38;5;28mself\u001B[39m\u001B[38;5;241m.\u001B[39mdtype \u001B[38;5;241m=\u001B[39m dtype\n\u001B[1;32m    803\u001B[0m \u001B[38;5;28;01mif\u001B[39;00m frame \u001B[38;5;129;01mis\u001B[39;00m \u001B[38;5;129;01mnot\u001B[39;00m \u001B[38;5;28;01mNone\u001B[39;00m:\n\u001B[1;32m    804\u001B[0m     \u001B[38;5;66;03m# We want to initialize based on a dataframe\u001B[39;00m\n\u001B[0;32m--> 805\u001B[0m     \u001B[38;5;28mself\u001B[39m\u001B[38;5;241m.\u001B[39mtable \u001B[38;5;241m=\u001B[39m \u001B[38;5;28;43mself\u001B[39;49m\u001B[38;5;241;43m.\u001B[39;49m\u001B[43m_create_table_setup\u001B[49m\u001B[43m(\u001B[49m\u001B[43m)\u001B[49m\n\u001B[1;32m    806\u001B[0m \u001B[38;5;28;01melse\u001B[39;00m:\n\u001B[1;32m    807\u001B[0m     \u001B[38;5;66;03m# no data provided, read-only mode\u001B[39;00m\n\u001B[1;32m    808\u001B[0m     \u001B[38;5;28mself\u001B[39m\u001B[38;5;241m.\u001B[39mtable \u001B[38;5;241m=\u001B[39m \u001B[38;5;28mself\u001B[39m\u001B[38;5;241m.\u001B[39mpd_sql\u001B[38;5;241m.\u001B[39mget_table(\u001B[38;5;28mself\u001B[39m\u001B[38;5;241m.\u001B[39mname, \u001B[38;5;28mself\u001B[39m\u001B[38;5;241m.\u001B[39mschema)\n",
      "File \u001B[0;32m~/anaconda3/envs/eda_projects/lib/python3.9/site-packages/pandas/io/sql.py:1102\u001B[0m, in \u001B[0;36mSQLTable._create_table_setup\u001B[0;34m(self)\u001B[0m\n\u001B[1;32m   1099\u001B[0m \u001B[38;5;66;03m# At this point, attach to new metadata, only attach to self.meta\u001B[39;00m\n\u001B[1;32m   1100\u001B[0m \u001B[38;5;66;03m# once table is created.\u001B[39;00m\n\u001B[1;32m   1101\u001B[0m meta \u001B[38;5;241m=\u001B[39m MetaData()\n\u001B[0;32m-> 1102\u001B[0m \u001B[38;5;28;01mreturn\u001B[39;00m \u001B[43mTable\u001B[49m\u001B[43m(\u001B[49m\u001B[38;5;28;43mself\u001B[39;49m\u001B[38;5;241;43m.\u001B[39;49m\u001B[43mname\u001B[49m\u001B[43m,\u001B[49m\u001B[43m \u001B[49m\u001B[43mmeta\u001B[49m\u001B[43m,\u001B[49m\u001B[43m \u001B[49m\u001B[38;5;241;43m*\u001B[39;49m\u001B[43mcolumns\u001B[49m\u001B[43m,\u001B[49m\u001B[43m \u001B[49m\u001B[43mschema\u001B[49m\u001B[38;5;241;43m=\u001B[39;49m\u001B[43mschema\u001B[49m\u001B[43m)\u001B[49m\n",
      "File \u001B[0;32m<string>:2\u001B[0m, in \u001B[0;36m__new__\u001B[0;34m(cls, *args, **kw)\u001B[0m\n",
      "File \u001B[0;32m~/anaconda3/envs/eda_projects/lib/python3.9/site-packages/sqlalchemy/util/deprecations.py:281\u001B[0m, in \u001B[0;36mdeprecated_params.<locals>.decorate.<locals>.warned\u001B[0;34m(fn, *args, **kwargs)\u001B[0m\n\u001B[1;32m    274\u001B[0m     \u001B[38;5;28;01mif\u001B[39;00m m \u001B[38;5;129;01min\u001B[39;00m kwargs:\n\u001B[1;32m    275\u001B[0m         _warn_with_version(\n\u001B[1;32m    276\u001B[0m             messages[m],\n\u001B[1;32m    277\u001B[0m             versions[m],\n\u001B[1;32m    278\u001B[0m             version_warnings[m],\n\u001B[1;32m    279\u001B[0m             stacklevel\u001B[38;5;241m=\u001B[39m\u001B[38;5;241m3\u001B[39m,\n\u001B[1;32m    280\u001B[0m         )\n\u001B[0;32m--> 281\u001B[0m \u001B[38;5;28;01mreturn\u001B[39;00m \u001B[43mfn\u001B[49m\u001B[43m(\u001B[49m\u001B[38;5;241;43m*\u001B[39;49m\u001B[43margs\u001B[49m\u001B[43m,\u001B[49m\u001B[43m \u001B[49m\u001B[38;5;241;43m*\u001B[39;49m\u001B[38;5;241;43m*\u001B[39;49m\u001B[43mkwargs\u001B[49m\u001B[43m)\u001B[49m\n",
      "File \u001B[0;32m~/anaconda3/envs/eda_projects/lib/python3.9/site-packages/sqlalchemy/sql/schema.py:434\u001B[0m, in \u001B[0;36mTable.__new__\u001B[0;34m(cls, *args, **kw)\u001B[0m\n\u001B[1;32m    427\u001B[0m \u001B[38;5;129m@util\u001B[39m\u001B[38;5;241m.\u001B[39mdeprecated_params(\n\u001B[1;32m    428\u001B[0m     mustexist\u001B[38;5;241m=\u001B[39m(\n\u001B[1;32m    429\u001B[0m         \u001B[38;5;124m\"\u001B[39m\u001B[38;5;124m1.4\u001B[39m\u001B[38;5;124m\"\u001B[39m,\n\u001B[0;32m   (...)\u001B[0m\n\u001B[1;32m    432\u001B[0m )\n\u001B[1;32m    433\u001B[0m \u001B[38;5;28;01mdef\u001B[39;00m \u001B[38;5;21m__new__\u001B[39m(\u001B[38;5;28mcls\u001B[39m, \u001B[38;5;241m*\u001B[39margs: Any, \u001B[38;5;241m*\u001B[39m\u001B[38;5;241m*\u001B[39mkw: Any) \u001B[38;5;241m-\u001B[39m\u001B[38;5;241m>\u001B[39m Any:\n\u001B[0;32m--> 434\u001B[0m     \u001B[38;5;28;01mreturn\u001B[39;00m \u001B[38;5;28;43mcls\u001B[39;49m\u001B[38;5;241;43m.\u001B[39;49m\u001B[43m_new\u001B[49m\u001B[43m(\u001B[49m\u001B[38;5;241;43m*\u001B[39;49m\u001B[43margs\u001B[49m\u001B[43m,\u001B[49m\u001B[43m \u001B[49m\u001B[38;5;241;43m*\u001B[39;49m\u001B[38;5;241;43m*\u001B[39;49m\u001B[43mkw\u001B[49m\u001B[43m)\u001B[49m\n",
      "File \u001B[0;32m~/anaconda3/envs/eda_projects/lib/python3.9/site-packages/sqlalchemy/sql/schema.py:489\u001B[0m, in \u001B[0;36mTable._new\u001B[0;34m(cls, *args, **kw)\u001B[0m\n\u001B[1;32m    487\u001B[0m \u001B[38;5;28;01mexcept\u001B[39;00m \u001B[38;5;167;01mException\u001B[39;00m:\n\u001B[1;32m    488\u001B[0m     \u001B[38;5;28;01mwith\u001B[39;00m util\u001B[38;5;241m.\u001B[39msafe_reraise():\n\u001B[0;32m--> 489\u001B[0m         metadata\u001B[38;5;241m.\u001B[39m_remove_table(name, schema)\n",
      "File \u001B[0;32m~/anaconda3/envs/eda_projects/lib/python3.9/site-packages/sqlalchemy/util/langhelpers.py:147\u001B[0m, in \u001B[0;36msafe_reraise.__exit__\u001B[0;34m(self, type_, value, traceback)\u001B[0m\n\u001B[1;32m    145\u001B[0m     \u001B[38;5;28;01massert\u001B[39;00m exc_value \u001B[38;5;129;01mis\u001B[39;00m \u001B[38;5;129;01mnot\u001B[39;00m \u001B[38;5;28;01mNone\u001B[39;00m\n\u001B[1;32m    146\u001B[0m     \u001B[38;5;28mself\u001B[39m\u001B[38;5;241m.\u001B[39m_exc_info \u001B[38;5;241m=\u001B[39m \u001B[38;5;28;01mNone\u001B[39;00m  \u001B[38;5;66;03m# remove potential circular references\u001B[39;00m\n\u001B[0;32m--> 147\u001B[0m     \u001B[38;5;28;01mraise\u001B[39;00m exc_value\u001B[38;5;241m.\u001B[39mwith_traceback(exc_tb)\n\u001B[1;32m    148\u001B[0m \u001B[38;5;28;01melse\u001B[39;00m:\n\u001B[1;32m    149\u001B[0m     \u001B[38;5;28mself\u001B[39m\u001B[38;5;241m.\u001B[39m_exc_info \u001B[38;5;241m=\u001B[39m \u001B[38;5;28;01mNone\u001B[39;00m  \u001B[38;5;66;03m# remove potential circular references\u001B[39;00m\n",
      "File \u001B[0;32m~/anaconda3/envs/eda_projects/lib/python3.9/site-packages/sqlalchemy/sql/schema.py:484\u001B[0m, in \u001B[0;36mTable._new\u001B[0;34m(cls, *args, **kw)\u001B[0m\n\u001B[1;32m    482\u001B[0m metadata\u001B[38;5;241m.\u001B[39m_add_table(name, schema, table)\n\u001B[1;32m    483\u001B[0m \u001B[38;5;28;01mtry\u001B[39;00m:\n\u001B[0;32m--> 484\u001B[0m     \u001B[43mtable\u001B[49m\u001B[38;5;241;43m.\u001B[39;49m\u001B[38;5;21;43m__init__\u001B[39;49m\u001B[43m(\u001B[49m\u001B[43mname\u001B[49m\u001B[43m,\u001B[49m\u001B[43m \u001B[49m\u001B[43mmetadata\u001B[49m\u001B[43m,\u001B[49m\u001B[43m \u001B[49m\u001B[38;5;241;43m*\u001B[39;49m\u001B[43margs\u001B[49m\u001B[43m,\u001B[49m\u001B[43m \u001B[49m\u001B[43m_no_init\u001B[49m\u001B[38;5;241;43m=\u001B[39;49m\u001B[38;5;28;43;01mFalse\u001B[39;49;00m\u001B[43m,\u001B[49m\u001B[43m \u001B[49m\u001B[38;5;241;43m*\u001B[39;49m\u001B[38;5;241;43m*\u001B[39;49m\u001B[43mkw\u001B[49m\u001B[43m)\u001B[49m\n\u001B[1;32m    485\u001B[0m     table\u001B[38;5;241m.\u001B[39mdispatch\u001B[38;5;241m.\u001B[39mafter_parent_attach(table, metadata)\n\u001B[1;32m    486\u001B[0m     \u001B[38;5;28;01mreturn\u001B[39;00m table\n",
      "File \u001B[0;32m~/anaconda3/envs/eda_projects/lib/python3.9/site-packages/sqlalchemy/sql/schema.py:876\u001B[0m, in \u001B[0;36mTable.__init__\u001B[0;34m(self, name, metadata, schema, quote, quote_schema, autoload_with, autoload_replace, keep_existing, extend_existing, resolve_fks, include_columns, implicit_returning, comment, info, listeners, prefixes, _extend_on, _no_init, *args, **kw)\u001B[0m\n\u001B[1;32m    864\u001B[0m     \u001B[38;5;28mself\u001B[39m\u001B[38;5;241m.\u001B[39m_autoload(\n\u001B[1;32m    865\u001B[0m         metadata,\n\u001B[1;32m    866\u001B[0m         autoload_with,\n\u001B[0;32m   (...)\u001B[0m\n\u001B[1;32m    870\u001B[0m         resolve_fks\u001B[38;5;241m=\u001B[39mresolve_fks,\n\u001B[1;32m    871\u001B[0m     )\n\u001B[1;32m    873\u001B[0m \u001B[38;5;66;03m# initialize all the column, etc. objects.  done after reflection to\u001B[39;00m\n\u001B[1;32m    874\u001B[0m \u001B[38;5;66;03m# allow user-overrides\u001B[39;00m\n\u001B[0;32m--> 876\u001B[0m \u001B[38;5;28;43mself\u001B[39;49m\u001B[38;5;241;43m.\u001B[39;49m\u001B[43m_init_items\u001B[49m\u001B[43m(\u001B[49m\n\u001B[1;32m    877\u001B[0m \u001B[43m    \u001B[49m\u001B[38;5;241;43m*\u001B[39;49m\u001B[43margs\u001B[49m\u001B[43m,\u001B[49m\n\u001B[1;32m    878\u001B[0m \u001B[43m    \u001B[49m\u001B[43mallow_replacements\u001B[49m\u001B[38;5;241;43m=\u001B[39;49m\u001B[43mextend_existing\u001B[49m\n\u001B[1;32m    879\u001B[0m \u001B[43m    \u001B[49m\u001B[38;5;129;43;01mor\u001B[39;49;00m\u001B[43m \u001B[49m\u001B[43mkeep_existing\u001B[49m\n\u001B[1;32m    880\u001B[0m \u001B[43m    \u001B[49m\u001B[38;5;129;43;01mor\u001B[39;49;00m\u001B[43m \u001B[49m\u001B[43mautoload_with\u001B[49m\u001B[43m,\u001B[49m\n\u001B[1;32m    881\u001B[0m \u001B[43m    \u001B[49m\u001B[43mall_names\u001B[49m\u001B[38;5;241;43m=\u001B[39;49m\u001B[43m{\u001B[49m\u001B[43m}\u001B[49m\u001B[43m,\u001B[49m\n\u001B[1;32m    882\u001B[0m \u001B[43m\u001B[49m\u001B[43m)\u001B[49m\n",
      "File \u001B[0;32m~/anaconda3/envs/eda_projects/lib/python3.9/site-packages/sqlalchemy/sql/schema.py:229\u001B[0m, in \u001B[0;36mSchemaItem._init_items\u001B[0;34m(self, *args, **kw)\u001B[0m\n\u001B[1;32m    224\u001B[0m     \u001B[38;5;28;01mraise\u001B[39;00m exc\u001B[38;5;241m.\u001B[39mArgumentError(\n\u001B[1;32m    225\u001B[0m         \u001B[38;5;124m\"\u001B[39m\u001B[38;5;124m'\u001B[39m\u001B[38;5;124mSchemaItem\u001B[39m\u001B[38;5;124m'\u001B[39m\u001B[38;5;124m object, such as a \u001B[39m\u001B[38;5;124m'\u001B[39m\u001B[38;5;124mColumn\u001B[39m\u001B[38;5;124m'\u001B[39m\u001B[38;5;124m or a \u001B[39m\u001B[38;5;124m\"\u001B[39m\n\u001B[1;32m    226\u001B[0m         \u001B[38;5;124m\"\u001B[39m\u001B[38;5;124m'\u001B[39m\u001B[38;5;124mConstraint\u001B[39m\u001B[38;5;124m'\u001B[39m\u001B[38;5;124m expected, got \u001B[39m\u001B[38;5;132;01m%r\u001B[39;00m\u001B[38;5;124m\"\u001B[39m \u001B[38;5;241m%\u001B[39m item\n\u001B[1;32m    227\u001B[0m     ) \u001B[38;5;28;01mfrom\u001B[39;00m \u001B[38;5;21;01merr\u001B[39;00m\n\u001B[1;32m    228\u001B[0m \u001B[38;5;28;01melse\u001B[39;00m:\n\u001B[0;32m--> 229\u001B[0m     \u001B[43mspwd\u001B[49m\u001B[43m(\u001B[49m\u001B[38;5;28;43mself\u001B[39;49m\u001B[43m,\u001B[49m\u001B[43m \u001B[49m\u001B[38;5;241;43m*\u001B[39;49m\u001B[38;5;241;43m*\u001B[39;49m\u001B[43mkw\u001B[49m\u001B[43m)\u001B[49m\n",
      "File \u001B[0;32m~/anaconda3/envs/eda_projects/lib/python3.9/site-packages/sqlalchemy/sql/base.py:1327\u001B[0m, in \u001B[0;36mSchemaEventTarget._set_parent_with_dispatch\u001B[0;34m(self, parent, **kw)\u001B[0m\n\u001B[1;32m   1323\u001B[0m \u001B[38;5;28;01mdef\u001B[39;00m \u001B[38;5;21m_set_parent_with_dispatch\u001B[39m(\n\u001B[1;32m   1324\u001B[0m     \u001B[38;5;28mself\u001B[39m, parent: SchemaEventTarget, \u001B[38;5;241m*\u001B[39m\u001B[38;5;241m*\u001B[39mkw: Any\n\u001B[1;32m   1325\u001B[0m ) \u001B[38;5;241m-\u001B[39m\u001B[38;5;241m>\u001B[39m \u001B[38;5;28;01mNone\u001B[39;00m:\n\u001B[1;32m   1326\u001B[0m     \u001B[38;5;28mself\u001B[39m\u001B[38;5;241m.\u001B[39mdispatch\u001B[38;5;241m.\u001B[39mbefore_parent_attach(\u001B[38;5;28mself\u001B[39m, parent)\n\u001B[0;32m-> 1327\u001B[0m     \u001B[38;5;28;43mself\u001B[39;49m\u001B[38;5;241;43m.\u001B[39;49m\u001B[43m_set_parent\u001B[49m\u001B[43m(\u001B[49m\u001B[43mparent\u001B[49m\u001B[43m,\u001B[49m\u001B[43m \u001B[49m\u001B[38;5;241;43m*\u001B[39;49m\u001B[38;5;241;43m*\u001B[39;49m\u001B[43mkw\u001B[49m\u001B[43m)\u001B[49m\n\u001B[1;32m   1328\u001B[0m     \u001B[38;5;28mself\u001B[39m\u001B[38;5;241m.\u001B[39mdispatch\u001B[38;5;241m.\u001B[39mafter_parent_attach(\u001B[38;5;28mself\u001B[39m, parent)\n",
      "File \u001B[0;32m~/anaconda3/envs/eda_projects/lib/python3.9/site-packages/sqlalchemy/sql/schema.py:2338\u001B[0m, in \u001B[0;36mColumn._set_parent\u001B[0;34m(self, parent, all_names, allow_replacements, **kw)\u001B[0m\n\u001B[1;32m   2336\u001B[0m \u001B[38;5;28;01mif\u001B[39;00m existing_col \u001B[38;5;129;01mis\u001B[39;00m \u001B[38;5;129;01mnot\u001B[39;00m \u001B[38;5;28mself\u001B[39m:\n\u001B[1;32m   2337\u001B[0m     \u001B[38;5;28;01mif\u001B[39;00m \u001B[38;5;129;01mnot\u001B[39;00m allow_replacements:\n\u001B[0;32m-> 2338\u001B[0m         \u001B[38;5;28;01mraise\u001B[39;00m exc\u001B[38;5;241m.\u001B[39mDuplicateColumnError(\n\u001B[1;32m   2339\u001B[0m             \u001B[38;5;124mf\u001B[39m\u001B[38;5;124m\"\u001B[39m\u001B[38;5;124mA column with \u001B[39m\u001B[38;5;132;01m{\u001B[39;00mconflicts_on\u001B[38;5;132;01m}\u001B[39;00m\u001B[38;5;124m \u001B[39m\u001B[38;5;124m\"\u001B[39m\n\u001B[1;32m   2340\u001B[0m             \u001B[38;5;124mf\u001B[39m\u001B[38;5;124m\"\"\"\u001B[39m\u001B[38;5;124m'\u001B[39m\u001B[38;5;132;01m{\u001B[39;00m\n\u001B[1;32m   2341\u001B[0m \u001B[38;5;250m                \u001B[39m\u001B[38;5;28mself\u001B[39m\u001B[38;5;241m.\u001B[39mkey\u001B[38;5;250m \u001B[39m\u001B[38;5;28;01mif\u001B[39;00m\u001B[38;5;250m \u001B[39mconflicts_on\u001B[38;5;250m \u001B[39m\u001B[38;5;241m==\u001B[39m\u001B[38;5;250m \u001B[39m\u001B[38;5;124m'\u001B[39m\u001B[38;5;124mkey\u001B[39m\u001B[38;5;124m'\u001B[39m\u001B[38;5;250m \u001B[39m\u001B[38;5;28;01melse\u001B[39;00m\u001B[38;5;250m \u001B[39m\u001B[38;5;28mself\u001B[39m\u001B[38;5;241m.\u001B[39mname\n\u001B[1;32m   2342\u001B[0m \u001B[38;5;250m            \u001B[39m\u001B[38;5;132;01m}\u001B[39;00m\u001B[38;5;124m'\u001B[39m\u001B[38;5;124m \u001B[39m\u001B[38;5;124m\"\"\"\u001B[39m\n\u001B[1;32m   2343\u001B[0m             \u001B[38;5;124mf\u001B[39m\u001B[38;5;124m\"\u001B[39m\u001B[38;5;124mis already present in table \u001B[39m\u001B[38;5;124m'\u001B[39m\u001B[38;5;132;01m{\u001B[39;00mtable\u001B[38;5;241m.\u001B[39mname\u001B[38;5;132;01m}\u001B[39;00m\u001B[38;5;124m'\u001B[39m\u001B[38;5;124m.\u001B[39m\u001B[38;5;124m\"\u001B[39m\n\u001B[1;32m   2344\u001B[0m         )\n\u001B[1;32m   2345\u001B[0m     \u001B[38;5;28;01mfor\u001B[39;00m fk \u001B[38;5;129;01min\u001B[39;00m existing_col\u001B[38;5;241m.\u001B[39mforeign_keys:\n\u001B[1;32m   2346\u001B[0m         table\u001B[38;5;241m.\u001B[39mforeign_keys\u001B[38;5;241m.\u001B[39mremove(fk)\n",
      "\u001B[0;31mDuplicateColumnError\u001B[0m: A column with name 'rush_yards' is already present in table 'weekly_analytics'."
     ]
    }
   ],
   "source": [
    "if COMMIT_TO_DATABASE:\n",
    "    db.load_table(merged, table_name=\"weekly_analytics\", schema=SCHEMA, handle_exists=\"replace\")"
   ],
   "metadata": {
    "collapsed": false,
    "ExecuteTime": {
     "end_time": "2023-07-06T03:14:40.322648Z",
     "start_time": "2023-07-06T03:14:38.743059Z"
    }
   }
  }
 ],
 "metadata": {
  "kernelspec": {
   "display_name": "Python 3",
   "language": "python",
   "name": "python3"
  },
  "language_info": {
   "codemirror_mode": {
    "name": "ipython",
    "version": 2
   },
   "file_extension": ".py",
   "mimetype": "text/x-python",
   "name": "python",
   "nbconvert_exporter": "python",
   "pygments_lexer": "ipython2",
   "version": "2.7.6"
  }
 },
 "nbformat": 4,
 "nbformat_minor": 0
}
