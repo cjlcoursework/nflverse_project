{
 "cells": [
  {
   "cell_type": "markdown",
   "source": [],
   "metadata": {
    "collapsed": false
   }
  },
  {
   "cell_type": "markdown",
   "source": [
    "# <font color=teal>imports</font>\n",
    "Most processing is performed in python code, and there's a python module to do everything here without manual"
   ],
   "metadata": {
    "collapsed": false
   }
  },
  {
   "cell_type": "code",
   "execution_count": 1,
   "outputs": [
    {
     "name": "stderr",
     "output_type": "stream",
     "text": [
      "Using `tqdm.autonotebook.tqdm` in notebook mode. Use `tqdm.tqdm` instead to force console mode (e.g. in jupyter console)\n"
     ]
    }
   ],
   "source": [
    "import logging\n",
    "\n",
    "from src import configs\n",
    "import os\n",
    "import sys\n",
    "sys.path.append(os.path.abspath(\"../src\"))\n",
    "\n"
   ],
   "metadata": {
    "collapsed": false,
    "ExecuteTime": {
     "end_time": "2023-07-13T20:31:33.474502Z",
     "start_time": "2023-07-13T20:31:28.583032Z"
    }
   }
  },
  {
   "cell_type": "code",
   "execution_count": 2,
   "metadata": {
    "collapsed": true,
    "ExecuteTime": {
     "end_time": "2023-07-13T20:31:33.484732Z",
     "start_time": "2023-07-13T20:31:33.475623Z"
    }
   },
   "outputs": [],
   "source": [
    "from src.nflverse_transform_job import load_files\n",
    "from src.pbp_fact import transform_pbp\n",
    "from src.nflverse_reader_job import URLReader\n",
    "from src.pbp_participation import transform_pbp_participation\n",
    "from src.player_stats import transform_player_stats, merge_injuries\n",
    "from src.player_injuries import prep_player_injuries\n",
    "from src.player_stats import transform_players\n",
    "from src.db_utils import load_dims_to_db\n"
   ]
  },
  {
   "cell_type": "markdown",
   "source": [
    "# <font color=teal>housekeeping</font>"
   ],
   "metadata": {
    "collapsed": false
   }
  },
  {
   "cell_type": "code",
   "execution_count": 3,
   "outputs": [],
   "source": [
    "LOAD_TO_DB = True\n",
    "database_schema = 'controls'\n",
    "\n",
    "# Get the logger\n",
    "logger = configs.configure_logging(\"pbp_logger\")\n",
    "logger.setLevel(logging.INFO)"
   ],
   "metadata": {
    "collapsed": false,
    "ExecuteTime": {
     "end_time": "2023-07-13T20:31:33.487151Z",
     "start_time": "2023-07-13T20:31:33.485956Z"
    }
   }
  },
  {
   "cell_type": "markdown",
   "source": [
    "# <font color=teal>read data from nflverse<font/>\n",
    "Step 1.  Read data and store immediately as raw without transformation or change"
   ],
   "metadata": {
    "collapsed": false
   }
  },
  {
   "cell_type": "code",
   "execution_count": 4,
   "outputs": [
    {
     "name": "stderr",
     "output_type": "stream",
     "text": [
      "2023-07-13 13:31:35,355 - INFO - Success: https://github.com/nflverse/nflverse-data/releases/download/nextgen_stats/ngs_2016_passing.csv.gz\n",
      "2023-07-13 13:31:35,435 - INFO - Success: https://github.com/nflverse/nflverse-data/releases/download/pbp_participation/pbp_participation_2017.parquet\n",
      "2023-07-13 13:31:35,509 - INFO - Success: https://github.com/nflverse/nflverse-data/releases/download/nextgen_stats/ngs_2016_receiving.csv.gz\n",
      "2023-07-13 13:31:35,629 - INFO - Success: https://github.com/nflverse/nflverse-data/releases/download/nextgen_stats/ngs_2016_rushing.csv.gz\n",
      "2023-07-13 13:31:35,718 - INFO - Success: https://github.com/nflverse/nflverse-data/releases/download/injuries/injuries_2016.parquet\n",
      "2023-07-13 13:31:36,009 - INFO - Success: https://github.com/nflverse/nflverse-data/releases/download/pbp_participation/pbp_participation_2016.parquet\n",
      "2023-07-13 13:31:36,046 - INFO - Success: https://github.com/nflverse/nflverse-data/releases/download/players/players.parquet\n",
      "2023-07-13 13:31:36,303 - INFO - Success: https://github.com/nflverse/nflverse-data/releases/download/player_stats/player_stats.parquet\n",
      "2023-07-13 13:31:36,368 - INFO - Success: https://github.com/nflverse/nflverse-data/releases/download/nextgen_stats/ngs_2017_passing.csv.gz\n",
      "2023-07-13 13:31:36,408 - INFO - Success: https://github.com/nflverse/nflverse-data/releases/download/injuries/injuries_2017.parquet\n",
      "2023-07-13 13:31:36,551 - INFO - Success: https://github.com/nflverse/nflverse-data/releases/download/nextgen_stats/ngs_2017_rushing.csv.gz\n",
      "2023-07-13 13:31:36,711 - INFO - Success: https://github.com/nflverse/nflverse-data/releases/download/nextgen_stats/ngs_2017_receiving.csv.gz\n",
      "2023-07-13 13:31:37,100 - INFO - Success: https://github.com/nflverse/nflverse-data/releases/download/injuries/injuries_2018.parquet\n",
      "2023-07-13 13:31:37,309 - INFO - Success: https://github.com/nflverse/nflverse-data/releases/download/nextgen_stats/ngs_2018_rushing.csv.gz\n",
      "2023-07-13 13:31:37,426 - INFO - Success: https://github.com/nflverse/nflverse-data/releases/download/nextgen_stats/ngs_2018_passing.csv.gz\n",
      "2023-07-13 13:31:37,431 - INFO - Success: https://github.com/nflverse/nflverse-data/releases/download/pbp_participation/pbp_participation_2018.parquet\n",
      "2023-07-13 13:31:37,483 - INFO - Success: https://github.com/nflverse/nflverse-data/releases/download/nextgen_stats/ngs_2018_receiving.csv.gz\n",
      "2023-07-13 13:31:37,806 - INFO - Success: https://github.com/nflverse/nflverse-data/releases/download/pbp/play_by_play_2016.parquet\n",
      "2023-07-13 13:31:37,984 - INFO - Success: https://github.com/nflverse/nflverse-data/releases/download/injuries/injuries_2019.parquet\n",
      "2023-07-13 13:31:38,332 - INFO - Success: https://github.com/nflverse/nflverse-data/releases/download/pbp/play_by_play_2017.parquet\n",
      "2023-07-13 13:31:38,373 - INFO - Success: https://github.com/nflverse/nflverse-data/releases/download/nextgen_stats/ngs_2019_passing.csv.gz\n",
      "2023-07-13 13:31:38,449 - INFO - Success: https://github.com/nflverse/nflverse-data/releases/download/nextgen_stats/ngs_2019_receiving.csv.gz\n",
      "2023-07-13 13:31:38,492 - INFO - Success: https://github.com/nflverse/nflverse-data/releases/download/pbp/play_by_play_2018.parquet\n",
      "2023-07-13 13:31:38,588 - INFO - Success: https://github.com/nflverse/nflverse-data/releases/download/nextgen_stats/ngs_2019_rushing.csv.gz\n",
      "2023-07-13 13:31:38,786 - INFO - Success: https://github.com/nflverse/nflverse-data/releases/download/pbp_participation/pbp_participation_2019.parquet\n",
      "2023-07-13 13:31:39,157 - INFO - Success: https://github.com/nflverse/nflverse-data/releases/download/injuries/injuries_2020.parquet\n",
      "2023-07-13 13:31:39,318 - INFO - Success: https://github.com/nflverse/nflverse-data/releases/download/nextgen_stats/ngs_2020_receiving.csv.gz\n",
      "2023-07-13 13:31:39,414 - INFO - Success: https://github.com/nflverse/nflverse-data/releases/download/nextgen_stats/ngs_2020_passing.csv.gz\n",
      "2023-07-13 13:31:39,475 - INFO - Success: https://github.com/nflverse/nflverse-data/releases/download/nextgen_stats/ngs_2020_rushing.csv.gz\n",
      "2023-07-13 13:31:39,643 - INFO - Success: https://github.com/nflverse/nflverse-data/releases/download/pbp_participation/pbp_participation_2020.parquet\n",
      "2023-07-13 13:31:39,724 - INFO - Success: https://github.com/nflverse/nflverse-data/releases/download/pbp/play_by_play_2020.parquet\n",
      "2023-07-13 13:31:39,908 - INFO - Success: https://github.com/nflverse/nflverse-data/releases/download/injuries/injuries_2021.parquet\n",
      "2023-07-13 13:31:40,118 - INFO - Success: https://github.com/nflverse/nflverse-data/releases/download/nextgen_stats/ngs_2021_passing.csv.gz\n",
      "2023-07-13 13:31:40,288 - INFO - Success: https://github.com/nflverse/nflverse-data/releases/download/pbp/play_by_play_2019.parquet\n",
      "2023-07-13 13:31:40,298 - INFO - Success: https://github.com/nflverse/nflverse-data/releases/download/pbp_participation/pbp_participation_2021.parquet\n",
      "2023-07-13 13:31:40,394 - INFO - Success: https://github.com/nflverse/nflverse-data/releases/download/nextgen_stats/ngs_2021_rushing.csv.gz\n",
      "2023-07-13 13:31:40,488 - INFO - Success: https://github.com/nflverse/nflverse-data/releases/download/nextgen_stats/ngs_2021_receiving.csv.gz\n",
      "2023-07-13 13:31:40,648 - INFO - Success: https://github.com/nflverse/nflverse-data/releases/download/injuries/injuries_2022.parquet\n",
      "2023-07-13 13:31:40,905 - INFO - Success: https://github.com/nflverse/nflverse-data/releases/download/nextgen_stats/ngs_2022_passing.csv.gz\n",
      "2023-07-13 13:31:40,973 - INFO - Success: https://github.com/nflverse/nflverse-data/releases/download/pbp_participation/pbp_participation_2022.parquet\n",
      "2023-07-13 13:31:41,098 - INFO - Success: https://github.com/nflverse/nflverse-data/releases/download/nextgen_stats/ngs_2022_rushing.csv.gz\n",
      "2023-07-13 13:31:41,362 - INFO - Success: https://github.com/nflverse/nflverse-data/releases/download/nextgen_stats/ngs_2022_receiving.csv.gz\n",
      "2023-07-13 13:31:41,419 - INFO - Success: https://github.com/nflverse/nflverse-data/releases/download/pfr_advstats/advstats_season_def.parquet\n",
      "2023-07-13 13:31:41,527 - INFO - Success: https://github.com/nflverse/nflverse-data/releases/download/pfr_advstats/advstats_season_rush.parquet\n",
      "2023-07-13 13:31:41,568 - INFO - Success: https://github.com/nflverse/nflverse-data/releases/download/pfr_advstats/advstats_season_pass.parquet\n",
      "2023-07-13 13:31:41,623 - INFO - Success: https://github.com/nflverse/nflverse-data/releases/download/pfr_advstats/advstats_season_rec.parquet\n",
      "2023-07-13 13:31:41,741 - INFO - Success: https://github.com/nflverse/nflverse-data/releases/download/pbp/play_by_play_2021.parquet\n",
      "2023-07-13 13:31:45,118 - INFO - Success: https://github.com/nflverse/nflverse-data/releases/download/pbp/play_by_play_2022.parquet\n"
     ]
    },
    {
     "name": "stdout",
     "output_type": "stream",
     "text": [
      "CPU times: user 12.2 s, sys: 542 ms, total: 12.7 s\n",
      "Wall time: 11.6 s\n"
     ]
    }
   ],
   "source": [
    "%%time\n",
    "reader = URLReader(start_year=2017, last_year=2022, file_type='parquet')\n",
    "urls = reader.download()\n"
   ],
   "metadata": {
    "collapsed": false,
    "ExecuteTime": {
     "end_time": "2023-07-13T20:31:45.124745Z",
     "start_time": "2023-07-13T20:31:33.488708Z"
    }
   }
  },
  {
   "cell_type": "markdown",
   "source": [],
   "metadata": {
    "collapsed": false
   }
  },
  {
   "cell_type": "markdown",
   "source": [
    "---\n",
    "\n",
    "# <font color=teal>load and transform play by play datasets</font>"
   ],
   "metadata": {
    "collapsed": false
   }
  },
  {
   "cell_type": "markdown",
   "source": [
    "### <font color=\"#9370DB\">load</font>"
   ],
   "metadata": {
    "collapsed": false
   }
  },
  {
   "cell_type": "code",
   "execution_count": 5,
   "outputs": [
    {
     "name": "stderr",
     "output_type": "stream",
     "text": [
      "2023-07-13 13:31:45,125 - INFO - Reading all files from pbp\n",
      "2023-07-13 13:31:45,126 - INFO -   + Reading pbp_2019.parquet\n",
      "2023-07-13 13:31:45,356 - INFO -   + Reading pbp_2018.parquet\n",
      "2023-07-13 13:31:45,468 - INFO -   + Reading pbp_2022.parquet\n",
      "2023-07-13 13:31:45,581 - INFO -   + Reading pbp_2021.parquet\n",
      "2023-07-13 13:31:45,689 - INFO -   + Reading pbp_2017.parquet\n",
      "2023-07-13 13:31:45,794 - INFO -   + Reading pbp_2016.parquet\n",
      "2023-07-13 13:31:45,898 - INFO -   + Reading pbp_2020.parquet\n"
     ]
    },
    {
     "name": "stdout",
     "output_type": "stream",
     "text": [
      "CPU times: user 2.4 s, sys: 776 ms, total: 3.18 s\n",
      "Wall time: 2.52 s\n"
     ]
    }
   ],
   "source": [
    "\n",
    "%%time\n",
    "pbp = load_files(data_subdir='pbp')\n"
   ],
   "metadata": {
    "collapsed": false,
    "ExecuteTime": {
     "end_time": "2023-07-13T20:31:47.650444Z",
     "start_time": "2023-07-13T20:31:45.126180Z"
    }
   }
  },
  {
   "cell_type": "markdown",
   "source": [
    "### <font color=\"#9370DB\">transform</font>"
   ],
   "metadata": {
    "collapsed": false
   }
  },
  {
   "cell_type": "code",
   "execution_count": 6,
   "outputs": [
    {
     "name": "stderr",
     "output_type": "stream",
     "text": [
      "2023-07-13 13:31:49,955 - INFO - Impute columns to 0\n",
      "2023-07-13 13:31:50,163 - INFO - impute non binary pbp columns ...\n",
      "2023-07-13 13:31:50,897 - INFO - Impute columns to 0\n",
      "2023-07-13 13:31:51,493 - INFO - Impute columns to 0:00\n",
      "2023-07-13 13:31:52,832 - INFO - Impute columns to NA\n",
      "2023-07-13 13:31:58,505 - INFO - moving play_id to play_counter, and creating a joinable play_id key\n",
      "2023-07-13 13:31:59,861 - INFO - Conform key actions like pass, rush, kickoff, etc. and add a single category field called actions... \n",
      "2023-07-13 13:32:06,182 - INFO - Validate actions dimension ...\n",
      "2023-07-13 13:32:06,389 - INFO - Creating new drive dimension...\n",
      "2023-07-13 13:32:06,460 - INFO - Validate drive_df dimension ...\n",
      "2023-07-13 13:32:06,684 - INFO - Creating new situations dimension...\n",
      "2023-07-13 13:32:06,750 - INFO - Validate situation_df dimension ...\n",
      "2023-07-13 13:32:06,958 - INFO - Creating new metrics dimension...\n",
      "2023-07-13 13:32:07,005 - INFO - Validate play_metrics_df dimension ...\n",
      "2023-07-13 13:32:07,092 - INFO - Creating new game dimension...\n",
      "2023-07-13 13:32:07,930 - INFO - Validate games dimension ...\n",
      "2023-07-13 13:32:07,933 - INFO - Create stats for pbp player involvement by play ...\n",
      "2023-07-13 13:32:12,681 - INFO - Creating new analytics dimension...\n"
     ]
    },
    {
     "name": "stdout",
     "output_type": "stream",
     "text": [
      "CPU times: user 17.5 s, sys: 5.65 s, total: 23.2 s\n",
      "Wall time: 25.1 s\n"
     ]
    }
   ],
   "source": [
    "\n",
    "%%time\n",
    "datasets = transform_pbp(pbp)"
   ],
   "metadata": {
    "collapsed": false,
    "ExecuteTime": {
     "end_time": "2023-07-13T20:32:12.785036Z",
     "start_time": "2023-07-13T20:31:47.652076Z"
    }
   }
  },
  {
   "cell_type": "markdown",
   "source": [],
   "metadata": {
    "collapsed": false
   }
  },
  {
   "cell_type": "markdown",
   "source": [
    "---\n",
    "\n",
    "# <font color=teal>load and transform play by play participation datasets</font>"
   ],
   "metadata": {
    "collapsed": false
   }
  },
  {
   "cell_type": "markdown",
   "source": [
    "### <font color=\"#9370DB\">load</font>"
   ],
   "metadata": {
    "collapsed": false
   }
  },
  {
   "cell_type": "code",
   "execution_count": 7,
   "outputs": [
    {
     "name": "stderr",
     "output_type": "stream",
     "text": [
      "2023-07-13 13:32:12,784 - INFO - Reading all files from pbp-participation\n",
      "2023-07-13 13:32:12,786 - INFO -   + Reading pbp-participation_2019.parquet\n",
      "2023-07-13 13:32:12,823 - INFO -   + Reading pbp-participation_2018.parquet\n",
      "2023-07-13 13:32:12,852 - INFO -   + Reading pbp-participation_2017.parquet\n",
      "2023-07-13 13:32:12,876 - INFO -   + Reading pbp-participation_2021.parquet\n",
      "2023-07-13 13:32:12,901 - INFO -   + Reading pbp-participation_2020.parquet\n",
      "2023-07-13 13:32:12,924 - INFO -   + Reading pbp-participation_2016.parquet\n",
      "2023-07-13 13:32:12,946 - INFO -   + Reading pbp-participation_2022.parquet\n"
     ]
    },
    {
     "name": "stdout",
     "output_type": "stream",
     "text": [
      "CPU times: user 260 ms, sys: 123 ms, total: 382 ms\n",
      "Wall time: 301 ms\n"
     ]
    }
   ],
   "source": [
    "%%time\n",
    "pbp_participation_df = load_files('pbp-participation')\n"
   ],
   "metadata": {
    "collapsed": false,
    "ExecuteTime": {
     "end_time": "2023-07-13T20:32:13.089290Z",
     "start_time": "2023-07-13T20:32:12.787287Z"
    }
   }
  },
  {
   "cell_type": "markdown",
   "source": [
    "### <font color=\"#9370DB\">transform</font>"
   ],
   "metadata": {
    "collapsed": false
   }
  },
  {
   "cell_type": "code",
   "execution_count": 8,
   "outputs": [
    {
     "name": "stderr",
     "output_type": "stream",
     "text": [
      "2023-07-13 13:32:13,088 - INFO - pbp_participation:  move play_id to a play_count column and create a unique play_id that can be used in joins...\n",
      "2023-07-13 13:32:13,312 - INFO - Calculating defense and offense team names by player and play...\n",
      "2023-07-13 13:32:15,882 - INFO - Exploding offensive players to their own dataset...\n",
      "2023-07-13 13:32:17,415 - INFO - Exploding defense_players to their own dataset...\n",
      "2023-07-13 13:32:26,121 - WARNING - combining offense and defense players - counts are incorrect 6903461 != 6902991\n"
     ]
    }
   ],
   "source": [
    "%%time\n",
    "player_df, player_events_df = transform_pbp_participation(\n",
    "    participation_df=pbp_participation_df,\n",
    "    player_events=datasets['player_events'])\n",
    "\n",
    "datasets.update({\n",
    "    'player_participation': player_df,\n",
    "    'player_events': player_events_df,\n",
    "})"
   ],
   "metadata": {
    "collapsed": false,
    "ExecuteTime": {
     "end_time": "2023-07-13T20:32:30.353115Z",
     "start_time": "2023-07-13T20:32:13.089890Z"
    }
   }
  },
  {
   "cell_type": "markdown",
   "source": [],
   "metadata": {
    "collapsed": false
   }
  },
  {
   "cell_type": "markdown",
   "source": [
    "---\n",
    "\n",
    "# <font color=teal>transform player injuries</font>"
   ],
   "metadata": {
    "collapsed": false
   }
  },
  {
   "cell_type": "markdown",
   "source": [
    "### <font color=\"#9370DB\">load</font>"
   ],
   "metadata": {
    "collapsed": false
   }
  },
  {
   "cell_type": "code",
   "execution_count": 9,
   "outputs": [
    {
     "name": "stderr",
     "output_type": "stream",
     "text": [
      "2023-07-13 13:32:30,350 - INFO - Reading all files from injuries\n",
      "2023-07-13 13:32:30,351 - INFO -   + Reading injuries_2017.parquet\n",
      "2023-07-13 13:32:30,358 - INFO -   + Reading injuries_2021.parquet\n",
      "2023-07-13 13:32:30,363 - INFO -   + Reading injuries_2020.parquet\n",
      "2023-07-13 13:32:30,370 - INFO -   + Reading injuries_2016.parquet\n",
      "2023-07-13 13:32:30,375 - INFO -   + Reading injuries_2022.parquet\n",
      "2023-07-13 13:32:30,380 - INFO -   + Reading injuries_2019.parquet\n",
      "2023-07-13 13:32:30,385 - INFO -   + Reading injuries_2018.parquet\n"
     ]
    },
    {
     "name": "stdout",
     "output_type": "stream",
     "text": [
      "CPU times: user 46.7 ms, sys: 15.3 ms, total: 61.9 ms\n",
      "Wall time: 50.7 ms\n"
     ]
    }
   ],
   "source": [
    "%%time\n",
    "injuries_df = load_files('injuries')"
   ],
   "metadata": {
    "collapsed": false,
    "ExecuteTime": {
     "end_time": "2023-07-13T20:32:30.418717Z",
     "start_time": "2023-07-13T20:32:30.351974Z"
    }
   }
  },
  {
   "cell_type": "markdown",
   "source": [
    "### <font color=\"#9370DB\">transform</font>"
   ],
   "metadata": {
    "collapsed": false
   }
  },
  {
   "cell_type": "code",
   "execution_count": 10,
   "outputs": [
    {
     "name": "stderr",
     "output_type": "stream",
     "text": [
      "2023-07-13 13:32:30,403 - INFO - Prep injury data...\n",
      "2023-07-13 13:32:30,404 - INFO - Conforming names (e.g. gsis_id -> player_id)\n",
      "2023-07-13 13:32:30,415 - INFO - Merge sparse injury columns\n",
      "2023-07-13 13:32:30,417 - INFO - Get best values for null report_statuses...\n",
      "2023-07-13 13:32:30,488 - INFO - check that all positions are correct...\n"
     ]
    },
    {
     "name": "stdout",
     "output_type": "stream",
     "text": [
      "CPU times: user 83.9 ms, sys: 6.37 ms, total: 90.3 ms\n",
      "Wall time: 93 ms\n"
     ]
    }
   ],
   "source": [
    "%%time\n",
    "injuries_df = prep_player_injuries(injuries_df)"
   ],
   "metadata": {
    "collapsed": false,
    "ExecuteTime": {
     "end_time": "2023-07-13T20:32:30.507542Z",
     "start_time": "2023-07-13T20:32:30.409809Z"
    }
   }
  },
  {
   "cell_type": "markdown",
   "source": [],
   "metadata": {
    "collapsed": false
   }
  },
  {
   "cell_type": "markdown",
   "source": [
    "---\n",
    "\n",
    "# <font color=teal>transform player stats</font>"
   ],
   "metadata": {
    "collapsed": false
   }
  },
  {
   "cell_type": "code",
   "execution_count": 11,
   "outputs": [
    {
     "name": "stderr",
     "output_type": "stream",
     "text": [
      "2023-07-13 13:32:30,499 - INFO - Reading all files from player-stats\n",
      "2023-07-13 13:32:30,500 - INFO -   + Reading player-stats.parquet\n",
      "2023-07-13 13:32:30,552 - INFO - fix specific player_stats: <function player_stats_fixes at 0x2d4755e50>..\n",
      "2023-07-13 13:32:30,632 - INFO - replace empty position_groups with position info...\n",
      "2023-07-13 13:32:30,646 - INFO - replace empty player_name with player_display_name info...\n",
      "2023-07-13 13:32:30,658 - INFO - replace empty headshot_url with 'none'...\n",
      "2023-07-13 13:32:30,669 - INFO - fillna(0) for all binary columns...\n",
      "2023-07-13 13:32:30,669 - INFO - Impute columns to 0\n",
      "2023-07-13 13:32:30,880 - WARNING - After merge player_stats count changed - went from 124081 to 124083\n"
     ]
    },
    {
     "name": "stdout",
     "output_type": "stream",
     "text": [
      "CPU times: user 337 ms, sys: 102 ms, total: 440 ms\n",
      "Wall time: 385 ms\n"
     ]
    }
   ],
   "source": [
    "%%time\n",
    "stats_df = load_files('player-stats')\n",
    "stats_df = transform_player_stats(stats_df)\n",
    "stats_df = merge_injuries(player_stats=stats_df, player_injuries=injuries_df)"
   ],
   "metadata": {
    "collapsed": false,
    "ExecuteTime": {
     "end_time": "2023-07-13T20:32:30.887840Z",
     "start_time": "2023-07-13T20:32:30.506442Z"
    }
   }
  },
  {
   "cell_type": "markdown",
   "source": [],
   "metadata": {
    "collapsed": false
   }
  },
  {
   "cell_type": "markdown",
   "source": [
    "---\n",
    "\n",
    "# <font color=teal>direct loads </font>"
   ],
   "metadata": {
    "collapsed": false
   }
  },
  {
   "cell_type": "markdown",
   "source": [
    "### <font color=\"#9370DB\">adv stats</font>"
   ],
   "metadata": {
    "collapsed": false
   }
  },
  {
   "cell_type": "code",
   "execution_count": 12,
   "outputs": [
    {
     "name": "stderr",
     "output_type": "stream",
     "text": [
      "2023-07-13 13:32:30,887 - INFO - Reading all files from advstats-season-def\n",
      "2023-07-13 13:32:30,888 - INFO -   + Reading advstats-season-def.parquet\n",
      "2023-07-13 13:32:30,893 - INFO - Reading all files from advstats-season-pass\n",
      "2023-07-13 13:32:30,894 - INFO -   + Reading advstats-season-pass.parquet\n",
      "2023-07-13 13:32:30,897 - INFO - Reading all files from advstats-season-rec\n",
      "2023-07-13 13:32:30,897 - INFO -   + Reading advstats-season-rec.parquet\n",
      "2023-07-13 13:32:30,901 - INFO - Reading all files from advstats-season-rush\n",
      "2023-07-13 13:32:30,902 - INFO -   + Reading advstats-season-rush.parquet\n"
     ]
    },
    {
     "name": "stdout",
     "output_type": "stream",
     "text": [
      "CPU times: user 17.7 ms, sys: 6.8 ms, total: 24.5 ms\n",
      "Wall time: 17.9 ms\n"
     ]
    }
   ],
   "source": [
    "%%time\n",
    "\n",
    "advstats_def_df = load_files('advstats-season-def')\n",
    "advstats_pass_df = load_files('advstats-season-pass')\n",
    "advstats_rec_df = load_files('advstats-season-rec')\n",
    "advstats_rush_df = load_files('advstats-season-rush')\n"
   ],
   "metadata": {
    "collapsed": false,
    "ExecuteTime": {
     "end_time": "2023-07-13T20:32:30.947785Z",
     "start_time": "2023-07-13T20:32:30.889345Z"
    }
   }
  },
  {
   "cell_type": "markdown",
   "source": [
    "### <font color=\"#9370DB\">nextgen stats</font>"
   ],
   "metadata": {
    "collapsed": false
   }
  },
  {
   "cell_type": "code",
   "execution_count": 13,
   "outputs": [
    {
     "name": "stderr",
     "output_type": "stream",
     "text": [
      "2023-07-13 13:32:30,910 - INFO - Reading all files from nextgen-passing\n",
      "2023-07-13 13:32:30,911 - INFO -   + Reading nextgen-passing_2017.csv.gz\n",
      "2023-07-13 13:32:30,917 - INFO -   + Reading nextgen-passing_2021.csv.gz\n",
      "2023-07-13 13:32:30,928 - INFO -   + Reading nextgen-passing_2019.csv.gz\n",
      "2023-07-13 13:32:30,932 - INFO -   + Reading nextgen-passing_2020.csv.gz\n",
      "2023-07-13 13:32:30,936 - INFO -   + Reading nextgen-passing_2016.csv.gz\n",
      "2023-07-13 13:32:30,939 - INFO -   + Reading nextgen-passing_2022.csv.gz\n",
      "2023-07-13 13:32:30,943 - INFO -   + Reading nextgen-passing_2018.csv.gz\n"
     ]
    },
    {
     "name": "stdout",
     "output_type": "stream",
     "text": [
      "CPU times: user 26.8 ms, sys: 4.96 ms, total: 31.8 ms\n",
      "Wall time: 38.2 ms\n"
     ]
    }
   ],
   "source": [
    "%%time\n",
    "next_pass_df = load_files('nextgen-passing')\n"
   ],
   "metadata": {
    "collapsed": false,
    "ExecuteTime": {
     "end_time": "2023-07-13T20:32:30.954101Z",
     "start_time": "2023-07-13T20:32:30.912294Z"
    }
   }
  },
  {
   "cell_type": "code",
   "execution_count": 14,
   "outputs": [
    {
     "name": "stderr",
     "output_type": "stream",
     "text": [
      "2023-07-13 13:32:30,954 - INFO - Reading all files from nextgen-receiving\n",
      "2023-07-13 13:32:30,955 - INFO -   + Reading nextgen-receiving_2021.csv.gz\n",
      "2023-07-13 13:32:30,961 - INFO -   + Reading nextgen-receiving_2017.csv.gz\n",
      "2023-07-13 13:32:30,967 - INFO -   + Reading nextgen-receiving_2019.csv.gz\n",
      "2023-07-13 13:32:30,973 - INFO -   + Reading nextgen-receiving_2016.csv.gz\n",
      "2023-07-13 13:32:30,980 - INFO -   + Reading nextgen-receiving_2020.csv.gz\n",
      "2023-07-13 13:32:30,986 - INFO -   + Reading nextgen-receiving_2018.csv.gz\n",
      "2023-07-13 13:32:30,992 - INFO -   + Reading nextgen-receiving_2022.csv.gz\n"
     ]
    },
    {
     "name": "stdout",
     "output_type": "stream",
     "text": [
      "CPU times: user 38.1 ms, sys: 7.61 ms, total: 45.7 ms\n",
      "Wall time: 47.1 ms\n"
     ]
    }
   ],
   "source": [
    "%%time\n",
    "next_rec_df = load_files('nextgen-receiving')\n"
   ],
   "metadata": {
    "collapsed": false,
    "ExecuteTime": {
     "end_time": "2023-07-13T20:32:31.016889Z",
     "start_time": "2023-07-13T20:32:30.955849Z"
    }
   }
  },
  {
   "cell_type": "code",
   "execution_count": 15,
   "outputs": [
    {
     "name": "stderr",
     "output_type": "stream",
     "text": [
      "2023-07-13 13:32:31,004 - INFO - Reading all files from nextgen-rushing\n",
      "2023-07-13 13:32:31,005 - INFO -   + Reading nextgen-rushing_2018.csv.gz\n",
      "2023-07-13 13:32:31,009 - INFO -   + Reading nextgen-rushing_2022.csv.gz\n",
      "2023-07-13 13:32:31,011 - INFO -   + Reading nextgen-rushing_2016.csv.gz\n",
      "2023-07-13 13:32:31,014 - INFO -   + Reading nextgen-rushing_2020.csv.gz\n",
      "2023-07-13 13:32:31,017 - INFO -   + Reading nextgen-rushing_2019.csv.gz\n",
      "2023-07-13 13:32:31,020 - INFO -   + Reading nextgen-rushing_2021.csv.gz\n",
      "2023-07-13 13:32:31,024 - INFO -   + Reading nextgen-rushing_2017.csv.gz\n"
     ]
    },
    {
     "name": "stdout",
     "output_type": "stream",
     "text": [
      "CPU times: user 20.7 ms, sys: 3.6 ms, total: 24.3 ms\n",
      "Wall time: 24.2 ms\n"
     ]
    }
   ],
   "source": [
    "%%time\n",
    "next_rush_df = load_files('nextgen-rushing')"
   ],
   "metadata": {
    "collapsed": false,
    "ExecuteTime": {
     "end_time": "2023-07-13T20:32:31.039143Z",
     "start_time": "2023-07-13T20:32:31.016781Z"
    }
   }
  },
  {
   "cell_type": "markdown",
   "source": [
    "### <font color=\"#9370DB\">players</font>"
   ],
   "metadata": {
    "collapsed": false
   }
  },
  {
   "cell_type": "code",
   "execution_count": 16,
   "outputs": [
    {
     "name": "stderr",
     "output_type": "stream",
     "text": [
      "2023-07-13 13:32:31,031 - INFO - Reading all files from players\n",
      "2023-07-13 13:32:31,032 - INFO -   + Reading players.parquet\n",
      "2023-07-13 13:32:31,065 - INFO - Process players dataset...\n",
      "2023-07-13 13:32:31,065 - INFO - drop players without gsis_ids - they won't link to player_stats\n",
      "2023-07-13 13:32:31,082 - INFO - fill empty players status to 'NONE'\n",
      "2023-07-13 13:32:31,089 - INFO - rename gsis_id to player_id...\n"
     ]
    },
    {
     "name": "stdout",
     "output_type": "stream",
     "text": [
      "CPU times: user 62.4 ms, sys: 8.49 ms, total: 70.9 ms\n",
      "Wall time: 61 ms\n"
     ]
    }
   ],
   "source": [
    "%%time\n",
    "players_df = load_files('players')\n",
    "players_df = transform_players(players_df)"
   ],
   "metadata": {
    "collapsed": false,
    "ExecuteTime": {
     "end_time": "2023-07-13T20:32:31.095096Z",
     "start_time": "2023-07-13T20:32:31.032144Z"
    }
   }
  },
  {
   "cell_type": "markdown",
   "source": [
    "---\n",
    "\n",
    "# <font color=teal>store to database so we can perform some SQL operations</font>"
   ],
   "metadata": {
    "collapsed": false
   }
  },
  {
   "cell_type": "code",
   "execution_count": 17,
   "outputs": [],
   "source": [
    "def load_all_datasets_to_db(data: dict):\n",
    "    data['schema'] = database_schema\n",
    "    load_dims_to_db(data)\n"
   ],
   "metadata": {
    "collapsed": false,
    "ExecuteTime": {
     "end_time": "2023-07-13T20:32:31.097891Z",
     "start_time": "2023-07-13T20:32:31.095867Z"
    }
   }
  },
  {
   "cell_type": "code",
   "execution_count": 18,
   "outputs": [
    {
     "name": "stderr",
     "output_type": "stream",
     "text": [
      "2023-07-13 13:32:31,098 - INFO - create table play_actions in schema controls\n",
      "2023-07-13 13:33:08,596 - INFO - create table game_drive in schema controls\n",
      "2023-07-13 13:33:30,072 - INFO - create table play_analytics in schema controls\n",
      "2023-07-13 13:34:52,270 - INFO - create table play_situations in schema controls\n",
      "2023-07-13 13:35:22,007 - INFO - create table play_metrics in schema controls\n",
      "2023-07-13 13:35:45,309 - INFO - create table player_events in schema controls\n",
      "2023-07-13 13:35:55,187 - INFO - create table game_info in schema controls\n",
      "2023-07-13 13:35:55,358 - INFO - create table player_participation in schema controls\n",
      "2023-07-13 13:41:10,379 - INFO - create table players in schema controls\n",
      "2023-07-13 13:41:12,078 - INFO - create table player_stats in schema controls\n",
      "2023-07-13 13:41:28,973 - INFO - create table adv_stats_def in schema controls\n",
      "2023-07-13 13:41:29,364 - INFO - create table adv_stats_pass in schema controls\n",
      "2023-07-13 13:41:29,419 - INFO - create table adv_stats_rec in schema controls\n",
      "2023-07-13 13:41:29,614 - INFO - create table adv_stats_rush in schema controls\n",
      "2023-07-13 13:41:29,727 - INFO - create table nextgen_pass in schema controls\n",
      "2023-07-13 13:41:30,089 - INFO - create table nextgen_rec in schema controls\n",
      "2023-07-13 13:41:30,802 - INFO - create table nextgen_rush in schema controls\n"
     ]
    },
    {
     "name": "stdout",
     "output_type": "stream",
     "text": [
      "CPU times: user 3min 46s, sys: 1min 3s, total: 4min 50s\n",
      "Wall time: 9min\n"
     ]
    }
   ],
   "source": [
    "%%time\n",
    "if LOAD_TO_DB:\n",
    "    datasets.update({\n",
    "        'players': players_df,\n",
    "        'player_stats': stats_df,\n",
    "        'adv_stats_def': advstats_def_df,\n",
    "        'adv_stats_pass': advstats_pass_df,\n",
    "        'adv_stats_rec': advstats_rec_df,\n",
    "        'adv_stats_rush': advstats_rush_df,\n",
    "        'nextgen_pass': next_pass_df,\n",
    "        'nextgen_rec': next_rec_df,\n",
    "        'nextgen_rush': next_rush_df\n",
    "    })\n",
    "    load_all_datasets_to_db(datasets)"
   ],
   "metadata": {
    "collapsed": false,
    "ExecuteTime": {
     "end_time": "2023-07-13T20:41:31.144885Z",
     "start_time": "2023-07-13T20:32:31.099166Z"
    }
   }
  },
  {
   "cell_type": "code",
   "execution_count": 18,
   "outputs": [],
   "source": [],
   "metadata": {
    "collapsed": false,
    "ExecuteTime": {
     "end_time": "2023-07-13T20:41:31.149041Z",
     "start_time": "2023-07-13T20:41:31.147681Z"
    }
   }
  }
 ],
 "metadata": {
  "kernelspec": {
   "display_name": "Python 3",
   "language": "python",
   "name": "python3"
  },
  "language_info": {
   "codemirror_mode": {
    "name": "ipython",
    "version": 2
   },
   "file_extension": ".py",
   "mimetype": "text/x-python",
   "name": "python",
   "nbconvert_exporter": "python",
   "pygments_lexer": "ipython2",
   "version": "2.7.6"
  }
 },
 "nbformat": 4,
 "nbformat_minor": 0
}
