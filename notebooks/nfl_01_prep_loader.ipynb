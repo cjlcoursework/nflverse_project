{
 "cells": [
  {
   "cell_type": "markdown",
   "source": [],
   "metadata": {
    "collapsed": false
   }
  },
  {
   "cell_type": "markdown",
   "source": [
    "# <font color=teal>imports</font>\n",
    "Most processing is performed in python code, and there's a python module to do everything here without manual"
   ],
   "metadata": {
    "collapsed": false
   }
  },
  {
   "cell_type": "code",
   "execution_count": 1,
   "outputs": [
    {
     "name": "stderr",
     "output_type": "stream",
     "text": [
      "Using `tqdm.autonotebook.tqdm` in notebook mode. Use `tqdm.tqdm` instead to force console mode (e.g. in jupyter console)\n"
     ]
    }
   ],
   "source": [
    "import logging\n",
    "\n",
    "from src import configs\n",
    "import os\n",
    "import sys\n",
    "sys.path.append(os.path.abspath(\"../src\"))\n",
    "\n"
   ],
   "metadata": {
    "collapsed": false,
    "ExecuteTime": {
     "end_time": "2023-07-12T15:59:33.695131Z",
     "start_time": "2023-07-12T15:59:29.429899Z"
    }
   }
  },
  {
   "cell_type": "code",
   "execution_count": 2,
   "metadata": {
    "collapsed": true,
    "ExecuteTime": {
     "end_time": "2023-07-12T15:59:33.705738Z",
     "start_time": "2023-07-12T15:59:33.696400Z"
    }
   },
   "outputs": [],
   "source": [
    "from src.nflverse_transform_job import load_files\n",
    "from src.pbp_fact import transform_pbp\n",
    "from src.nflverse_reader_job import URLReader\n",
    "from src.pbp_participation import transform_pbp_participation\n",
    "from src.player_stats import transform_player_stats, merge_injuries\n",
    "from src.player_injuries import prep_player_injuries\n",
    "from src.player_stats import transform_players\n",
    "from src.db_utils import load_dims_to_db\n"
   ]
  },
  {
   "cell_type": "markdown",
   "source": [
    "# <font color=teal>housekeeping</font>"
   ],
   "metadata": {
    "collapsed": false
   }
  },
  {
   "cell_type": "code",
   "execution_count": 3,
   "outputs": [],
   "source": [
    "LOAD_TO_DB = True\n",
    "database_schema = 'controls'\n",
    "\n",
    "# Get the logger\n",
    "logger = configs.configure_logging(\"pbp_logger\")\n",
    "logger.setLevel(logging.INFO)"
   ],
   "metadata": {
    "collapsed": false,
    "ExecuteTime": {
     "end_time": "2023-07-12T15:59:33.708080Z",
     "start_time": "2023-07-12T15:59:33.706371Z"
    }
   }
  },
  {
   "cell_type": "markdown",
   "source": [
    "# <font color=teal>read data from nflverse<font/>\n",
    "Step 1.  Read data and store immediately as raw without transformation or change"
   ],
   "metadata": {
    "collapsed": false
   }
  },
  {
   "cell_type": "code",
   "execution_count": 4,
   "outputs": [
    {
     "name": "stderr",
     "output_type": "stream",
     "text": [
      "2023-07-12 08:59:35,402 - INFO - Success: https://github.com/nflverse/nflverse-data/releases/download/nextgen_stats/ngs_2016_receiving.csv.gz\n",
      "2023-07-12 08:59:35,509 - INFO - Success: https://github.com/nflverse/nflverse-data/releases/download/nextgen_stats/ngs_2016_rushing.csv.gz\n",
      "2023-07-12 08:59:35,960 - INFO - Success: https://github.com/nflverse/nflverse-data/releases/download/nextgen_stats/ngs_2016_passing.csv.gz\n",
      "2023-07-12 08:59:36,010 - INFO - Success: https://github.com/nflverse/nflverse-data/releases/download/injuries/injuries_2016.csv\n",
      "2023-07-12 08:59:36,650 - INFO - Success: https://github.com/nflverse/nflverse-data/releases/download/players/players.csv\n",
      "2023-07-12 08:59:36,763 - INFO - Success: https://github.com/nflverse/nflverse-data/releases/download/nextgen_stats/ngs_2017_passing.csv.gz\n",
      "2023-07-12 08:59:37,030 - INFO - Success: https://github.com/nflverse/nflverse-data/releases/download/nextgen_stats/ngs_2017_rushing.csv.gz\n",
      "2023-07-12 08:59:37,050 - INFO - Success: https://github.com/nflverse/nflverse-data/releases/download/injuries/injuries_2017.csv\n",
      "2023-07-12 08:59:37,278 - INFO - Success: https://github.com/nflverse/nflverse-data/releases/download/nextgen_stats/ngs_2017_receiving.csv.gz\n",
      "2023-07-12 08:59:38,168 - INFO - Success: https://github.com/nflverse/nflverse-data/releases/download/pbp_participation/pbp_participation_2016.csv\n",
      "2023-07-12 08:59:38,414 - INFO - Success: https://github.com/nflverse/nflverse-data/releases/download/nextgen_stats/ngs_2018_passing.csv.gz\n",
      "2023-07-12 08:59:38,474 - INFO - Success: https://github.com/nflverse/nflverse-data/releases/download/nextgen_stats/ngs_2018_rushing.csv.gz\n",
      "2023-07-12 08:59:38,650 - INFO - Success: https://github.com/nflverse/nflverse-data/releases/download/injuries/injuries_2018.csv\n",
      "2023-07-12 08:59:39,133 - INFO - Success: https://github.com/nflverse/nflverse-data/releases/download/pbp/play_by_play_2016.csv\n",
      "2023-07-12 08:59:39,430 - INFO - Success: https://github.com/nflverse/nflverse-data/releases/download/nextgen_stats/ngs_2018_receiving.csv.gz\n",
      "2023-07-12 08:59:40,278 - INFO - Success: https://github.com/nflverse/nflverse-data/releases/download/injuries/injuries_2019.csv\n",
      "2023-07-12 08:59:40,393 - INFO - Success: https://github.com/nflverse/nflverse-data/releases/download/pbp_participation/pbp_participation_2018.csv\n",
      "2023-07-12 08:59:40,398 - INFO - Success: https://github.com/nflverse/nflverse-data/releases/download/nextgen_stats/ngs_2019_passing.csv.gz\n",
      "2023-07-12 08:59:40,602 - INFO - Success: https://github.com/nflverse/nflverse-data/releases/download/nextgen_stats/ngs_2019_rushing.csv.gz\n",
      "2023-07-12 08:59:41,691 - INFO - Success: https://github.com/nflverse/nflverse-data/releases/download/nextgen_stats/ngs_2019_receiving.csv.gz\n",
      "2023-07-12 08:59:41,763 - INFO - Success: https://github.com/nflverse/nflverse-data/releases/download/pbp_participation/pbp_participation_2019.csv\n",
      "2023-07-12 08:59:42,279 - INFO - Success: https://github.com/nflverse/nflverse-data/releases/download/pbp/play_by_play_2017.csv\n",
      "2023-07-12 08:59:42,301 - INFO - Success: https://github.com/nflverse/nflverse-data/releases/download/injuries/injuries_2020.csv\n",
      "2023-07-12 08:59:42,930 - INFO - Success: https://github.com/nflverse/nflverse-data/releases/download/pbp/play_by_play_2018.csv\n",
      "2023-07-12 08:59:42,958 - INFO - Success: https://github.com/nflverse/nflverse-data/releases/download/nextgen_stats/ngs_2020_rushing.csv.gz\n",
      "2023-07-12 08:59:43,037 - INFO - Success: https://github.com/nflverse/nflverse-data/releases/download/nextgen_stats/ngs_2020_passing.csv.gz\n",
      "2023-07-12 08:59:44,119 - INFO - Success: https://github.com/nflverse/nflverse-data/releases/download/nextgen_stats/ngs_2021_passing.csv.gz\n",
      "2023-07-12 08:59:44,528 - INFO - Success: https://github.com/nflverse/nflverse-data/releases/download/nextgen_stats/ngs_2020_receiving.csv.gz\n",
      "2023-07-12 08:59:44,921 - INFO - Success: https://github.com/nflverse/nflverse-data/releases/download/pbp_participation/pbp_participation_2017.csv\n",
      "2023-07-12 08:59:45,223 - INFO - Success: https://github.com/nflverse/nflverse-data/releases/download/injuries/injuries_2021.csv\n",
      "2023-07-12 08:59:45,371 - INFO - Success: https://github.com/nflverse/nflverse-data/releases/download/nextgen_stats/ngs_2021_rushing.csv.gz\n",
      "2023-07-12 08:59:45,598 - INFO - Success: https://github.com/nflverse/nflverse-data/releases/download/nextgen_stats/ngs_2021_receiving.csv.gz\n",
      "2023-07-12 08:59:45,748 - INFO - Success: https://github.com/nflverse/nflverse-data/releases/download/pbp_participation/pbp_participation_2020.csv\n",
      "2023-07-12 08:59:45,863 - INFO - Success: https://github.com/nflverse/nflverse-data/releases/download/pbp_participation/pbp_participation_2021.csv\n",
      "2023-07-12 08:59:46,600 - INFO - Success: https://github.com/nflverse/nflverse-data/releases/download/nextgen_stats/ngs_2022_passing.csv.gz\n",
      "2023-07-12 08:59:46,944 - INFO - Success: https://github.com/nflverse/nflverse-data/releases/download/injuries/injuries_2022.csv\n",
      "2023-07-12 08:59:46,950 - INFO - Success: https://github.com/nflverse/nflverse-data/releases/download/nextgen_stats/ngs_2022_rushing.csv.gz\n",
      "2023-07-12 08:59:47,093 - INFO - Success: https://github.com/nflverse/nflverse-data/releases/download/nextgen_stats/ngs_2022_receiving.csv.gz\n",
      "2023-07-12 08:59:47,297 - INFO - Success: https://github.com/nflverse/nflverse-data/releases/download/player_stats/player_stats.csv\n",
      "2023-07-12 08:59:47,651 - INFO - Success: https://github.com/nflverse/nflverse-data/releases/download/pbp/play_by_play_2019.csv\n",
      "2023-07-12 08:59:47,749 - INFO - Success: https://github.com/nflverse/nflverse-data/releases/download/pbp/play_by_play_2021.csv\n",
      "2023-07-12 08:59:47,927 - INFO - Success: https://github.com/nflverse/nflverse-data/releases/download/pfr_advstats/advstats_season_def.csv\n",
      "2023-07-12 08:59:48,025 - INFO - Success: https://github.com/nflverse/nflverse-data/releases/download/pfr_advstats/advstats_season_pass.csv\n",
      "2023-07-12 08:59:48,314 - INFO - Success: https://github.com/nflverse/nflverse-data/releases/download/pfr_advstats/advstats_season_rec.csv\n",
      "2023-07-12 08:59:48,334 - INFO - Success: https://github.com/nflverse/nflverse-data/releases/download/pfr_advstats/advstats_season_rush.csv\n",
      "2023-07-12 08:59:49,882 - INFO - Success: https://github.com/nflverse/nflverse-data/releases/download/pbp/play_by_play_2020.csv\n",
      "2023-07-12 08:59:51,270 - INFO - Success: https://github.com/nflverse/nflverse-data/releases/download/pbp_participation/pbp_participation_2022.csv\n",
      "2023-07-12 08:59:51,344 - INFO - Success: https://github.com/nflverse/nflverse-data/releases/download/pbp/play_by_play_2022.csv\n"
     ]
    },
    {
     "name": "stdout",
     "output_type": "stream",
     "text": [
      "CPU times: user 11.2 s, sys: 2.1 s, total: 13.3 s\n",
      "Wall time: 17.6 s\n"
     ]
    }
   ],
   "source": [
    "%%time\n",
    "\n",
    "reader = URLReader(start_year=2016, last_year=2022, file_type='csv')\n",
    "urls = reader.download()"
   ],
   "metadata": {
    "collapsed": false,
    "ExecuteTime": {
     "end_time": "2023-07-12T15:59:51.353287Z",
     "start_time": "2023-07-12T15:59:33.709340Z"
    }
   }
  },
  {
   "cell_type": "markdown",
   "source": [],
   "metadata": {
    "collapsed": false
   }
  },
  {
   "cell_type": "markdown",
   "source": [
    "---\n",
    "\n",
    "# <font color=teal>load and transform play by play datasets</font>"
   ],
   "metadata": {
    "collapsed": false
   }
  },
  {
   "cell_type": "markdown",
   "source": [
    "### <font color=\"#9370DB\">load</font>"
   ],
   "metadata": {
    "collapsed": false
   }
  },
  {
   "cell_type": "code",
   "execution_count": 5,
   "outputs": [
    {
     "name": "stderr",
     "output_type": "stream",
     "text": [
      "2023-07-12 08:59:51,354 - INFO - Reading all files from pbp\n",
      "2023-07-12 08:59:51,355 - INFO -   + Reading pbp_2022.csv\n",
      "2023-07-12 08:59:52,522 - INFO -   + Reading pbp_2020.csv\n",
      "2023-07-12 08:59:53,680 - INFO -   + Reading pbp_2021.csv\n",
      "2023-07-12 08:59:54,944 - INFO -   + Reading pbp_2019.csv\n",
      "2023-07-12 08:59:56,133 - INFO -   + Reading pbp_2018.csv\n",
      "2023-07-12 08:59:57,321 - INFO -   + Reading pbp_2016.csv\n",
      "2023-07-12 08:59:58,551 - INFO -   + Reading pbp_2017.csv\n"
     ]
    },
    {
     "name": "stdout",
     "output_type": "stream",
     "text": [
      "CPU times: user 7.85 s, sys: 1.54 s, total: 9.39 s\n",
      "Wall time: 9.92 s\n"
     ]
    }
   ],
   "source": [
    "\n",
    "%%time\n",
    "pbp = load_files(data_subdir='pbp')\n"
   ],
   "metadata": {
    "collapsed": false,
    "ExecuteTime": {
     "end_time": "2023-07-12T16:00:01.285840Z",
     "start_time": "2023-07-12T15:59:51.355223Z"
    }
   }
  },
  {
   "cell_type": "markdown",
   "source": [
    "### <font color=\"#9370DB\">transform</font>"
   ],
   "metadata": {
    "collapsed": false
   }
  },
  {
   "cell_type": "code",
   "execution_count": 6,
   "outputs": [
    {
     "name": "stderr",
     "output_type": "stream",
     "text": [
      "2023-07-12 09:00:03,885 - INFO - Impute columns to 0\n",
      "2023-07-12 09:00:04,117 - INFO - impute non binary pbp columns ...\n",
      "2023-07-12 09:00:05,146 - INFO - Impute columns to 0\n",
      "2023-07-12 09:00:05,795 - INFO - Impute columns to 0:00\n",
      "2023-07-12 09:00:07,452 - INFO - Impute columns to NA\n",
      "2023-07-12 09:00:14,164 - INFO - moving play_id to play_counter, and creating a joinable play_id key\n",
      "2023-07-12 09:00:15,129 - INFO - Conform key actions like pass, rush, kickoff, etc. and add a single category field called actions... \n",
      "2023-07-12 09:00:21,657 - INFO - Validate actions dimension ...\n",
      "2023-07-12 09:00:21,883 - INFO - Creating new drive dimension...\n",
      "2023-07-12 09:00:21,962 - INFO - Validate drive_df dimension ...\n",
      "2023-07-12 09:00:22,221 - INFO - Creating new situations dimension...\n",
      "2023-07-12 09:00:22,298 - INFO - Validate situation_df dimension ...\n",
      "2023-07-12 09:00:22,518 - INFO - Creating new metrics dimension...\n",
      "2023-07-12 09:00:22,582 - INFO - Validate play_metrics_df dimension ...\n",
      "2023-07-12 09:00:22,682 - INFO - Creating new game dimension...\n",
      "2023-07-12 09:00:23,606 - INFO - Validate games dimension ...\n",
      "2023-07-12 09:00:23,609 - INFO - Create stats for pbp player involvement by play ...\n",
      "2023-07-12 09:00:29,167 - INFO - Creating new analytics dimension...\n"
     ]
    },
    {
     "name": "stdout",
     "output_type": "stream",
     "text": [
      "CPU times: user 19.9 s, sys: 6.45 s, total: 26.3 s\n",
      "Wall time: 28 s\n"
     ]
    }
   ],
   "source": [
    "\n",
    "%%time\n",
    "datasets = transform_pbp(pbp)"
   ],
   "metadata": {
    "collapsed": false,
    "ExecuteTime": {
     "end_time": "2023-07-12T16:00:29.287361Z",
     "start_time": "2023-07-12T16:00:01.288176Z"
    }
   }
  },
  {
   "cell_type": "markdown",
   "source": [],
   "metadata": {
    "collapsed": false
   }
  },
  {
   "cell_type": "markdown",
   "source": [
    "---\n",
    "\n",
    "# <font color=teal>load and transform play by play participation datasets</font>"
   ],
   "metadata": {
    "collapsed": false
   }
  },
  {
   "cell_type": "markdown",
   "source": [
    "### <font color=\"#9370DB\">load</font>"
   ],
   "metadata": {
    "collapsed": false
   }
  },
  {
   "cell_type": "code",
   "execution_count": 7,
   "outputs": [
    {
     "name": "stderr",
     "output_type": "stream",
     "text": [
      "2023-07-12 09:00:29,288 - INFO - Reading all files from pbp-participation\n",
      "2023-07-12 09:00:29,290 - INFO -   + Reading pbp-participation_2018.csv\n",
      "2023-07-12 09:00:29,469 - INFO -   + Reading pbp-participation_2019.csv\n",
      "2023-07-12 09:00:29,645 - INFO -   + Reading pbp-participation_2021.csv\n",
      "2023-07-12 09:00:29,829 - INFO -   + Reading pbp-participation_2020.csv\n",
      "2023-07-12 09:00:30,004 - INFO -   + Reading pbp-participation_2022.csv\n",
      "2023-07-12 09:00:30,178 - INFO -   + Reading pbp-participation_2017.csv\n",
      "2023-07-12 09:00:30,357 - INFO -   + Reading pbp-participation_2016.csv\n"
     ]
    },
    {
     "name": "stdout",
     "output_type": "stream",
     "text": [
      "CPU times: user 1.2 s, sys: 149 ms, total: 1.35 s\n",
      "Wall time: 1.36 s\n"
     ]
    }
   ],
   "source": [
    "%%time\n",
    "pbp_participation_df = load_files('pbp-participation')\n"
   ],
   "metadata": {
    "collapsed": false,
    "ExecuteTime": {
     "end_time": "2023-07-12T16:00:30.649054Z",
     "start_time": "2023-07-12T16:00:29.289814Z"
    }
   }
  },
  {
   "cell_type": "markdown",
   "source": [
    "### <font color=\"#9370DB\">transform</font>"
   ],
   "metadata": {
    "collapsed": false
   }
  },
  {
   "cell_type": "code",
   "execution_count": 8,
   "outputs": [
    {
     "name": "stderr",
     "output_type": "stream",
     "text": [
      "2023-07-12 09:00:30,649 - INFO - pbp_participation:  move play_id to a play_count column and create a unique play_id that can be used in joins...\n",
      "2023-07-12 09:00:30,924 - INFO - Calculating defense and offense team names by player and play...\n",
      "2023-07-12 09:00:33,757 - INFO - Exploding offensive players to their own dataset...\n",
      "2023-07-12 09:00:35,370 - INFO - Exploding defense_players to their own dataset...\n",
      "2023-07-12 09:00:45,000 - WARNING - combining offense and defense players - counts are incorrect 6903461 != 6837089\n"
     ]
    }
   ],
   "source": [
    "\n",
    "player_df, player_events_df = transform_pbp_participation(\n",
    "    participation_df=pbp_participation_df,\n",
    "    player_events=datasets['player_events'])\n",
    "\n",
    "datasets.update({\n",
    "    'player_participation': player_df,\n",
    "    'player_events': player_events_df,\n",
    "})"
   ],
   "metadata": {
    "collapsed": false,
    "ExecuteTime": {
     "end_time": "2023-07-12T16:00:50.003781Z",
     "start_time": "2023-07-12T16:00:30.650198Z"
    }
   }
  },
  {
   "cell_type": "markdown",
   "source": [],
   "metadata": {
    "collapsed": false
   }
  },
  {
   "cell_type": "markdown",
   "source": [
    "---\n",
    "\n",
    "# <font color=teal>transform player injuries</font>"
   ],
   "metadata": {
    "collapsed": false
   }
  },
  {
   "cell_type": "markdown",
   "source": [
    "### <font color=\"#9370DB\">load</font>"
   ],
   "metadata": {
    "collapsed": false
   }
  },
  {
   "cell_type": "code",
   "execution_count": 9,
   "outputs": [
    {
     "name": "stderr",
     "output_type": "stream",
     "text": [
      "2023-07-12 09:00:50,001 - INFO - Reading all files from injuries\n",
      "2023-07-12 09:00:50,003 - INFO -   + Reading injuries_2016.csv\n",
      "2023-07-12 09:00:50,014 - INFO -   + Reading injuries_2017.csv\n",
      "2023-07-12 09:00:50,024 - INFO -   + Reading injuries_2020.csv\n",
      "2023-07-12 09:00:50,036 - INFO -   + Reading injuries_2021.csv\n",
      "2023-07-12 09:00:50,049 - INFO -   + Reading injuries_2022.csv\n",
      "2023-07-12 09:00:50,060 - INFO -   + Reading injuries_2019.csv\n",
      "2023-07-12 09:00:50,071 - INFO -   + Reading injuries_2018.csv\n"
     ]
    },
    {
     "name": "stdout",
     "output_type": "stream",
     "text": [
      "CPU times: user 78 ms, sys: 11.2 ms, total: 89.3 ms\n",
      "Wall time: 102 ms\n"
     ]
    }
   ],
   "source": [
    "%%time\n",
    "injuries_df = load_files('injuries')"
   ],
   "metadata": {
    "collapsed": false,
    "ExecuteTime": {
     "end_time": "2023-07-12T16:00:50.107569Z",
     "start_time": "2023-07-12T16:00:50.004820Z"
    }
   }
  },
  {
   "cell_type": "markdown",
   "source": [
    "### <font color=\"#9370DB\">transform</font>"
   ],
   "metadata": {
    "collapsed": false
   }
  },
  {
   "cell_type": "code",
   "execution_count": 10,
   "outputs": [
    {
     "name": "stderr",
     "output_type": "stream",
     "text": [
      "2023-07-12 09:00:50,107 - INFO - Prep injury data...\n",
      "2023-07-12 09:00:50,107 - INFO - Conforming names (e.g. gsis_id -> player_id)\n",
      "2023-07-12 09:00:50,118 - INFO - Merge sparse injury columns\n",
      "2023-07-12 09:00:50,120 - INFO - Get best values for null report_statuses...\n",
      "2023-07-12 09:00:50,198 - INFO - check that all positions are correct...\n"
     ]
    },
    {
     "name": "stdout",
     "output_type": "stream",
     "text": [
      "CPU times: user 93.9 ms, sys: 4.32 ms, total: 98.2 ms\n",
      "Wall time: 101 ms\n"
     ]
    }
   ],
   "source": [
    "%%time\n",
    "injuries_df = prep_player_injuries(injuries_df)"
   ],
   "metadata": {
    "collapsed": false,
    "ExecuteTime": {
     "end_time": "2023-07-12T16:00:50.210742Z",
     "start_time": "2023-07-12T16:00:50.107800Z"
    }
   }
  },
  {
   "cell_type": "markdown",
   "source": [],
   "metadata": {
    "collapsed": false
   }
  },
  {
   "cell_type": "markdown",
   "source": [
    "---\n",
    "\n",
    "# <font color=teal>transform player stats</font>"
   ],
   "metadata": {
    "collapsed": false
   }
  },
  {
   "cell_type": "code",
   "execution_count": 11,
   "outputs": [
    {
     "name": "stderr",
     "output_type": "stream",
     "text": [
      "2023-07-12 09:00:50,211 - INFO - Reading all files from player-stats\n",
      "2023-07-12 09:00:50,212 - INFO -   + Reading player-stats.csv\n",
      "2023-07-12 09:00:50,578 - INFO - fix specific player_stats: <function player_stats_fixes at 0x2a5ba8310>..\n",
      "2023-07-12 09:00:50,664 - INFO - replace empty position_groups with position info...\n",
      "2023-07-12 09:00:50,679 - INFO - replace empty player_name with player_display_name info...\n",
      "2023-07-12 09:00:50,693 - INFO - replace empty headshot_url with 'none'...\n",
      "2023-07-12 09:00:50,705 - INFO - fillna(0) for all binary columns...\n",
      "2023-07-12 09:00:50,706 - INFO - Impute columns to 0\n",
      "2023-07-12 09:00:50,913 - WARNING - After merge player_stats count changed - went from 124081 to 124083\n"
     ]
    },
    {
     "name": "stdout",
     "output_type": "stream",
     "text": [
      "CPU times: user 591 ms, sys: 97 ms, total: 688 ms\n",
      "Wall time: 707 ms\n"
     ]
    }
   ],
   "source": [
    "%%time\n",
    "stats_df = load_files('player-stats')\n",
    "stats_df = transform_player_stats(stats_df)\n",
    "stats_df = merge_injuries(player_stats=stats_df, player_injuries=injuries_df)"
   ],
   "metadata": {
    "collapsed": false,
    "ExecuteTime": {
     "end_time": "2023-07-12T16:00:50.920833Z",
     "start_time": "2023-07-12T16:00:50.211664Z"
    }
   }
  },
  {
   "cell_type": "markdown",
   "source": [],
   "metadata": {
    "collapsed": false
   }
  },
  {
   "cell_type": "markdown",
   "source": [
    "---\n",
    "\n",
    "# <font color=teal>direct loads </font>"
   ],
   "metadata": {
    "collapsed": false
   }
  },
  {
   "cell_type": "markdown",
   "source": [
    "### <font color=\"#9370DB\">adv stats</font>"
   ],
   "metadata": {
    "collapsed": false
   }
  },
  {
   "cell_type": "code",
   "execution_count": 12,
   "outputs": [
    {
     "name": "stderr",
     "output_type": "stream",
     "text": [
      "2023-07-12 09:00:50,921 - INFO - Reading all files from advstats-season-def\n",
      "2023-07-12 09:00:50,922 - INFO -   + Reading advstats-season-def.csv\n",
      "2023-07-12 09:00:50,931 - INFO - Reading all files from advstats-season-pass\n",
      "2023-07-12 09:00:50,932 - INFO -   + Reading advstats-season-pass.csv\n",
      "2023-07-12 09:00:50,935 - INFO - Reading all files from advstats-season-rec\n",
      "2023-07-12 09:00:50,935 - INFO -   + Reading advstats-season-rec.csv\n",
      "2023-07-12 09:00:50,941 - INFO - Reading all files from advstats-season-rush\n",
      "2023-07-12 09:00:50,941 - INFO -   + Reading advstats-season-rush.csv\n"
     ]
    },
    {
     "name": "stdout",
     "output_type": "stream",
     "text": [
      "CPU times: user 21.1 ms, sys: 4.05 ms, total: 25.1 ms\n",
      "Wall time: 25.5 ms\n"
     ]
    }
   ],
   "source": [
    "%%time\n",
    "\n",
    "advstats_def_df = load_files('advstats-season-def')\n",
    "advstats_pass_df = load_files('advstats-season-pass')\n",
    "advstats_rec_df = load_files('advstats-season-rec')\n",
    "advstats_rush_df = load_files('advstats-season-rush')\n"
   ],
   "metadata": {
    "collapsed": false,
    "ExecuteTime": {
     "end_time": "2023-07-12T16:00:50.977234Z",
     "start_time": "2023-07-12T16:00:50.921830Z"
    }
   }
  },
  {
   "cell_type": "markdown",
   "source": [
    "### <font color=\"#9370DB\">nextgen stats</font>"
   ],
   "metadata": {
    "collapsed": false
   }
  },
  {
   "cell_type": "code",
   "execution_count": 13,
   "outputs": [
    {
     "name": "stderr",
     "output_type": "stream",
     "text": [
      "2023-07-12 09:00:50,949 - INFO - Reading all files from nextgen-passing\n",
      "2023-07-12 09:00:50,950 - INFO -   + Reading nextgen-passing_2017.csv.gz\n",
      "2023-07-12 09:00:50,955 - INFO -   + Reading nextgen-passing_2021.csv.gz\n",
      "2023-07-12 09:00:50,960 - INFO -   + Reading nextgen-passing_2019.csv.gz\n",
      "2023-07-12 09:00:50,964 - INFO -   + Reading nextgen-passing_2020.csv.gz\n",
      "2023-07-12 09:00:50,968 - INFO -   + Reading nextgen-passing_2016.csv.gz\n",
      "2023-07-12 09:00:50,972 - INFO -   + Reading nextgen-passing_2022.csv.gz\n",
      "2023-07-12 09:00:50,977 - INFO -   + Reading nextgen-passing_2018.csv.gz\n"
     ]
    },
    {
     "name": "stdout",
     "output_type": "stream",
     "text": [
      "CPU times: user 29.2 ms, sys: 3.62 ms, total: 32.8 ms\n",
      "Wall time: 34.5 ms\n"
     ]
    }
   ],
   "source": [
    "%%time\n",
    "next_pass_df = load_files('nextgen-passing')\n"
   ],
   "metadata": {
    "collapsed": false,
    "ExecuteTime": {
     "end_time": "2023-07-12T16:00:51.024644Z",
     "start_time": "2023-07-12T16:00:50.950133Z"
    }
   }
  },
  {
   "cell_type": "code",
   "execution_count": 14,
   "outputs": [
    {
     "name": "stderr",
     "output_type": "stream",
     "text": [
      "2023-07-12 09:00:50,990 - INFO - Reading all files from nextgen-receiving\n",
      "2023-07-12 09:00:50,991 - INFO -   + Reading nextgen-receiving_2021.csv.gz\n",
      "2023-07-12 09:00:50,997 - INFO -   + Reading nextgen-receiving_2017.csv.gz\n",
      "2023-07-12 09:00:51,003 - INFO -   + Reading nextgen-receiving_2019.csv.gz\n",
      "2023-07-12 09:00:51,010 - INFO -   + Reading nextgen-receiving_2016.csv.gz\n",
      "2023-07-12 09:00:51,017 - INFO -   + Reading nextgen-receiving_2020.csv.gz\n",
      "2023-07-12 09:00:51,023 - INFO -   + Reading nextgen-receiving_2018.csv.gz\n",
      "2023-07-12 09:00:51,033 - INFO -   + Reading nextgen-receiving_2022.csv.gz\n"
     ]
    },
    {
     "name": "stdout",
     "output_type": "stream",
     "text": [
      "CPU times: user 42.3 ms, sys: 6.2 ms, total: 48.5 ms\n",
      "Wall time: 52.3 ms\n"
     ]
    }
   ],
   "source": [
    "%%time\n",
    "next_rec_df = load_files('nextgen-receiving')\n"
   ],
   "metadata": {
    "collapsed": false,
    "ExecuteTime": {
     "end_time": "2023-07-12T16:00:51.046181Z",
     "start_time": "2023-07-12T16:00:50.999093Z"
    }
   }
  },
  {
   "cell_type": "code",
   "execution_count": 15,
   "outputs": [
    {
     "name": "stderr",
     "output_type": "stream",
     "text": [
      "2023-07-12 09:00:51,045 - INFO - Reading all files from nextgen-rushing\n",
      "2023-07-12 09:00:51,047 - INFO -   + Reading nextgen-rushing_2018.csv.gz\n",
      "2023-07-12 09:00:51,051 - INFO -   + Reading nextgen-rushing_2022.csv.gz\n",
      "2023-07-12 09:00:51,054 - INFO -   + Reading nextgen-rushing_2016.csv.gz\n",
      "2023-07-12 09:00:51,058 - INFO -   + Reading nextgen-rushing_2020.csv.gz\n",
      "2023-07-12 09:00:51,061 - INFO -   + Reading nextgen-rushing_2019.csv.gz\n",
      "2023-07-12 09:00:51,065 - INFO -   + Reading nextgen-rushing_2021.csv.gz\n",
      "2023-07-12 09:00:51,069 - INFO -   + Reading nextgen-rushing_2017.csv.gz\n"
     ]
    },
    {
     "name": "stdout",
     "output_type": "stream",
     "text": [
      "CPU times: user 25 ms, sys: 3.68 ms, total: 28.7 ms\n",
      "Wall time: 28.9 ms\n"
     ]
    }
   ],
   "source": [
    "%%time\n",
    "next_rush_df = load_files('nextgen-rushing')"
   ],
   "metadata": {
    "collapsed": false,
    "ExecuteTime": {
     "end_time": "2023-07-12T16:00:51.078546Z",
     "start_time": "2023-07-12T16:00:51.046504Z"
    }
   }
  },
  {
   "cell_type": "markdown",
   "source": [
    "### <font color=\"#9370DB\">players</font>"
   ],
   "metadata": {
    "collapsed": false
   }
  },
  {
   "cell_type": "code",
   "execution_count": 16,
   "outputs": [
    {
     "name": "stderr",
     "output_type": "stream",
     "text": [
      "2023-07-12 09:00:51,077 - INFO - Reading all files from players\n",
      "2023-07-12 09:00:51,078 - INFO -   + Reading players.csv\n",
      "2023-07-12 09:00:51,157 - INFO - Process players dataset...\n",
      "2023-07-12 09:00:51,158 - INFO - drop players without gsis_ids - they won't link to player_stats\n",
      "2023-07-12 09:00:51,179 - INFO - fill empty players status to 'NONE'\n",
      "2023-07-12 09:00:51,186 - INFO - rename gsis_id to player_id...\n"
     ]
    },
    {
     "name": "stdout",
     "output_type": "stream",
     "text": [
      "CPU times: user 93.2 ms, sys: 11.7 ms, total: 105 ms\n",
      "Wall time: 111 ms\n"
     ]
    }
   ],
   "source": [
    "%%time\n",
    "players_df = load_files('players')\n",
    "players_df = transform_players(players_df)"
   ],
   "metadata": {
    "collapsed": false,
    "ExecuteTime": {
     "end_time": "2023-07-12T16:00:51.195084Z",
     "start_time": "2023-07-12T16:00:51.077861Z"
    }
   }
  },
  {
   "cell_type": "markdown",
   "source": [
    "---\n",
    "\n",
    "# <font color=teal>store to database so we can perform some SQL operations</font>"
   ],
   "metadata": {
    "collapsed": false
   }
  },
  {
   "cell_type": "code",
   "execution_count": 17,
   "outputs": [],
   "source": [
    "def load_all_datasets_to_db(data: dict):\n",
    "    data['schema'] = database_schema\n",
    "    load_dims_to_db(data)\n"
   ],
   "metadata": {
    "collapsed": false,
    "ExecuteTime": {
     "end_time": "2023-07-12T16:00:51.195268Z",
     "start_time": "2023-07-12T16:00:51.192444Z"
    }
   }
  },
  {
   "cell_type": "code",
   "execution_count": 18,
   "outputs": [
    {
     "name": "stderr",
     "output_type": "stream",
     "text": [
      "2023-07-12 09:00:51,195 - INFO - create table play_actions in schema controls\n",
      "2023-07-12 09:01:31,633 - INFO - create table game_drive in schema controls\n",
      "2023-07-12 09:01:55,961 - INFO - create table play_analytics in schema controls\n",
      "2023-07-12 09:03:23,119 - INFO - create table play_situations in schema controls\n",
      "2023-07-12 09:37:27,810 - INFO - create table play_metrics in schema controls\n",
      "2023-07-12 09:37:55,001 - INFO - create table player_events in schema controls\n",
      "2023-07-12 09:38:05,301 - INFO - create table game_info in schema controls\n",
      "2023-07-12 09:38:05,495 - INFO - create table player_participation in schema controls\n",
      "2023-07-12 09:43:02,222 - INFO - create table players in schema controls\n",
      "2023-07-12 09:43:03,966 - INFO - create table player_stats in schema controls\n",
      "2023-07-12 09:43:23,834 - INFO - create table adv_stats_def in schema controls\n",
      "2023-07-12 09:43:24,259 - INFO - create table adv_stats_pass in schema controls\n",
      "2023-07-12 09:43:24,319 - INFO - create table adv_stats_rec in schema controls\n",
      "2023-07-12 09:43:24,528 - INFO - create table adv_stats_rush in schema controls\n",
      "2023-07-12 09:43:24,643 - INFO - create table nextgen_pass in schema controls\n",
      "2023-07-12 09:43:25,050 - INFO - create table nextgen_rec in schema controls\n",
      "2023-07-12 09:43:25,846 - INFO - create table nextgen_rush in schema controls\n"
     ]
    },
    {
     "name": "stdout",
     "output_type": "stream",
     "text": [
      "CPU times: user 4min 16s, sys: 1min 15s, total: 5min 31s\n",
      "Wall time: 42min 34s\n"
     ]
    }
   ],
   "source": [
    "%%time\n",
    "if LOAD_TO_DB:\n",
    "    datasets.update({\n",
    "        'players': players_df,\n",
    "        'player_stats': stats_df,\n",
    "        'adv_stats_def': advstats_def_df,\n",
    "        'adv_stats_pass': advstats_pass_df,\n",
    "        'adv_stats_rec': advstats_rec_df,\n",
    "        'adv_stats_rush': advstats_rush_df,\n",
    "        'nextgen_pass': next_pass_df,\n",
    "        'nextgen_rec': next_rec_df,\n",
    "        'nextgen_rush': next_rush_df\n",
    "    })\n",
    "    load_all_datasets_to_db(datasets)"
   ],
   "metadata": {
    "collapsed": false,
    "ExecuteTime": {
     "end_time": "2023-07-12T16:43:26.151740Z",
     "start_time": "2023-07-12T16:00:51.196255Z"
    }
   }
  },
  {
   "cell_type": "code",
   "execution_count": 18,
   "outputs": [],
   "source": [],
   "metadata": {
    "collapsed": false,
    "ExecuteTime": {
     "end_time": "2023-07-12T16:43:26.155603Z",
     "start_time": "2023-07-12T16:43:26.153879Z"
    }
   }
  }
 ],
 "metadata": {
  "kernelspec": {
   "display_name": "Python 3",
   "language": "python",
   "name": "python3"
  },
  "language_info": {
   "codemirror_mode": {
    "name": "ipython",
    "version": 2
   },
   "file_extension": ".py",
   "mimetype": "text/x-python",
   "name": "python",
   "nbconvert_exporter": "python",
   "pygments_lexer": "ipython2",
   "version": "2.7.6"
  }
 },
 "nbformat": 4,
 "nbformat_minor": 0
}
