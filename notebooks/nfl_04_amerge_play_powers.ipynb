{
 "cells": [
  {
   "cell_type": "markdown",
   "source": [
    "<font color=teal>\n",
    "_______________________________________\n",
    "</font>\n",
    "\n",
    "\n",
    "### <font color=teal>Goal:</font>\n",
    "\n",
    "- Merge play actions and offense/defense power scores into a play by play dataset focused on play-calling\n",
    "\n",
    "### <font color=teal>Input:</font>\n",
    "\n",
    "- pbp_actions.parquet\n",
    "- defense_power.parquet\n",
    "- offense_power.parquet\n",
    "\n",
    "\n",
    "### <font color=teal>Steps:</font>\n",
    "- merge offense and defense scores into each play based on which team offense and defense\n",
    "- save the final play-calling dataset\n",
    "\n",
    "\n",
    "### <font color=teal>Code:</font>\n",
    "- /src module\n",
    "\n",
    "\n",
    "\n",
    "### <font color=teal>Output:</font>\n",
    "\n",
    "- nfl_pbp_play_calls.parquet\n",
    "\n",
    "\n",
    "\n",
    "<font color=teal>\n",
    "_______________________________________\n",
    "</font>\n"
   ],
   "metadata": {
    "collapsed": false
   }
  },
  {
   "cell_type": "markdown",
   "source": [
    "\n",
    "### imports"
   ],
   "metadata": {
    "collapsed": false
   }
  },
  {
   "cell_type": "code",
   "execution_count": 40,
   "outputs": [],
   "source": [
    "import os\n",
    "import sys\n",
    "\n",
    "sys.path.append(os.path.abspath(\"../src\"))"
   ],
   "metadata": {
    "collapsed": false,
    "ExecuteTime": {
     "end_time": "2023-07-18T06:30:31.957097Z",
     "start_time": "2023-07-18T06:30:31.899631Z"
    }
   }
  },
  {
   "cell_type": "code",
   "execution_count": 41,
   "outputs": [],
   "source": [
    "\n",
    "from matplotlib import pyplot as plt\n",
    "import seaborn as sns\n",
    "import warnings\n",
    "from src.utils import assert_and_alert\n",
    "import numpy as np\n",
    "import pandas as pd\n",
    "\n",
    "warnings.filterwarnings('ignore')\n"
   ],
   "metadata": {
    "collapsed": false,
    "ExecuteTime": {
     "end_time": "2023-07-18T06:30:31.992215Z",
     "start_time": "2023-07-18T06:30:31.960916Z"
    }
   }
  },
  {
   "cell_type": "code",
   "execution_count": 42,
   "outputs": [],
   "source": [
    "from  src import *\n",
    "\n"
   ],
   "metadata": {
    "collapsed": false,
    "ExecuteTime": {
     "end_time": "2023-07-18T06:30:32.015877Z",
     "start_time": "2023-07-18T06:30:31.994986Z"
    }
   }
  },
  {
   "cell_type": "markdown",
   "source": [
    "### housekeeping"
   ],
   "metadata": {
    "collapsed": false
   }
  },
  {
   "cell_type": "code",
   "execution_count": 43,
   "outputs": [],
   "source": [
    "warnings.filterwarnings('ignore')\n",
    "\n",
    "logger = configs.configure_logging(\"pbp_logger\")\n",
    "logger.setLevel(logging.INFO)"
   ],
   "metadata": {
    "collapsed": false,
    "ExecuteTime": {
     "end_time": "2023-07-18T06:30:32.030898Z",
     "start_time": "2023-07-18T06:30:32.019385Z"
    }
   }
  },
  {
   "cell_type": "markdown",
   "source": [
    "### set flags"
   ],
   "metadata": {
    "collapsed": false
   }
  },
  {
   "cell_type": "code",
   "execution_count": 44,
   "outputs": [],
   "source": [
    "DEBUG = False\n",
    "SCHEMA = 'controls'\n",
    "\n",
    "data_directory = get_config('data_directory')\n",
    "\n",
    "plt.style.use('seaborn-darkgrid')\n"
   ],
   "metadata": {
    "collapsed": false,
    "ExecuteTime": {
     "end_time": "2023-07-18T06:30:32.039242Z",
     "start_time": "2023-07-18T06:30:32.034421Z"
    }
   }
  },
  {
   "cell_type": "markdown",
   "source": [
    "#### load play_actions\n",
    "We'll have an X, and y set plus the original stats_df datasets, which we'll use going forward"
   ],
   "metadata": {
    "collapsed": false
   }
  },
  {
   "cell_type": "code",
   "execution_count": 45,
   "outputs": [
    {
     "name": "stdout",
     "output_type": "stream",
     "text": [
      "CPU times: user 108 ms, sys: 74.5 ms, total: 182 ms\n",
      "Wall time: 122 ms\n"
     ]
    },
    {
     "data": {
      "text/plain": "   season          game_id  week  drive  down           drive_id posteam  \\\n0    2016  2016_01_MIN_TEN     1    0.0   0.0  2016_01_MIN_TEN_0     MIN   \n1    2016  2016_01_MIN_TEN     1    0.0   0.0  2016_01_MIN_TEN_0     MIN   \n2    2016  2016_01_CLE_PHI     1    1.0   0.0  2016_01_CLE_PHI_1     PHI   \n3    2016  2016_01_DET_IND     1    1.0   1.0  2016_01_DET_IND_1     IND   \n4    2016  2016_01_NYG_DAL     1    1.0   1.0  2016_01_NYG_DAL_1     DAL   \n\n  defteam       action  posteam_score  ...  rush_attempt  kickoff_attempt  \\\n0     TEN  extra_point           21.0  ...           0.0              0.0   \n1     TEN  extra_point           12.0  ...           0.0              0.0   \n2     CLE  extra_point            6.0  ...           0.0              0.0   \n3     DET         pass            0.0  ...           0.0              0.0   \n4     NYG         pass            0.0  ...           0.0              0.0   \n\n   punt_attempt  field_goal_attempt  two_point_attempt  extra_point_attempt  \\\n0           0.0                 0.0                0.0                  1.0   \n1           0.0                 0.0                0.0                  1.0   \n2           0.0                 0.0                0.0                  1.0   \n3           0.0                 0.0                0.0                  0.0   \n4           0.0                 0.0                0.0                  0.0   \n\n   timeout  penalty  qb_spike  \\\n0      0.0      0.0       0.0   \n1      0.0      0.0       0.0   \n2      0.0      0.0       0.0   \n3      0.0      0.0       0.0   \n4      0.0      0.0       0.0   \n\n                                                desc  \n0  3-B.Walsh extra point is GOOD, Center-47-K.McD...  \n1  3-B.Walsh extra point is No Good, Wide Right, ...  \n2  6-C.Sturgis extra point is GOOD, Center-46-J.D...  \n3  (15:00) (Run formation) 12-A.Luck pass short m...  \n4  (9:21) (Shotgun) 4-D.Prescott pass short right...  \n\n[5 rows x 36 columns]",
      "text/html": "<div>\n<style scoped>\n    .dataframe tbody tr th:only-of-type {\n        vertical-align: middle;\n    }\n\n    .dataframe tbody tr th {\n        vertical-align: top;\n    }\n\n    .dataframe thead th {\n        text-align: right;\n    }\n</style>\n<table border=\"1\" class=\"dataframe\">\n  <thead>\n    <tr style=\"text-align: right;\">\n      <th></th>\n      <th>season</th>\n      <th>game_id</th>\n      <th>week</th>\n      <th>drive</th>\n      <th>down</th>\n      <th>drive_id</th>\n      <th>posteam</th>\n      <th>defteam</th>\n      <th>action</th>\n      <th>posteam_score</th>\n      <th>...</th>\n      <th>rush_attempt</th>\n      <th>kickoff_attempt</th>\n      <th>punt_attempt</th>\n      <th>field_goal_attempt</th>\n      <th>two_point_attempt</th>\n      <th>extra_point_attempt</th>\n      <th>timeout</th>\n      <th>penalty</th>\n      <th>qb_spike</th>\n      <th>desc</th>\n    </tr>\n  </thead>\n  <tbody>\n    <tr>\n      <th>0</th>\n      <td>2016</td>\n      <td>2016_01_MIN_TEN</td>\n      <td>1</td>\n      <td>0.0</td>\n      <td>0.0</td>\n      <td>2016_01_MIN_TEN_0</td>\n      <td>MIN</td>\n      <td>TEN</td>\n      <td>extra_point</td>\n      <td>21.0</td>\n      <td>...</td>\n      <td>0.0</td>\n      <td>0.0</td>\n      <td>0.0</td>\n      <td>0.0</td>\n      <td>0.0</td>\n      <td>1.0</td>\n      <td>0.0</td>\n      <td>0.0</td>\n      <td>0.0</td>\n      <td>3-B.Walsh extra point is GOOD, Center-47-K.McD...</td>\n    </tr>\n    <tr>\n      <th>1</th>\n      <td>2016</td>\n      <td>2016_01_MIN_TEN</td>\n      <td>1</td>\n      <td>0.0</td>\n      <td>0.0</td>\n      <td>2016_01_MIN_TEN_0</td>\n      <td>MIN</td>\n      <td>TEN</td>\n      <td>extra_point</td>\n      <td>12.0</td>\n      <td>...</td>\n      <td>0.0</td>\n      <td>0.0</td>\n      <td>0.0</td>\n      <td>0.0</td>\n      <td>0.0</td>\n      <td>1.0</td>\n      <td>0.0</td>\n      <td>0.0</td>\n      <td>0.0</td>\n      <td>3-B.Walsh extra point is No Good, Wide Right, ...</td>\n    </tr>\n    <tr>\n      <th>2</th>\n      <td>2016</td>\n      <td>2016_01_CLE_PHI</td>\n      <td>1</td>\n      <td>1.0</td>\n      <td>0.0</td>\n      <td>2016_01_CLE_PHI_1</td>\n      <td>PHI</td>\n      <td>CLE</td>\n      <td>extra_point</td>\n      <td>6.0</td>\n      <td>...</td>\n      <td>0.0</td>\n      <td>0.0</td>\n      <td>0.0</td>\n      <td>0.0</td>\n      <td>0.0</td>\n      <td>1.0</td>\n      <td>0.0</td>\n      <td>0.0</td>\n      <td>0.0</td>\n      <td>6-C.Sturgis extra point is GOOD, Center-46-J.D...</td>\n    </tr>\n    <tr>\n      <th>3</th>\n      <td>2016</td>\n      <td>2016_01_DET_IND</td>\n      <td>1</td>\n      <td>1.0</td>\n      <td>1.0</td>\n      <td>2016_01_DET_IND_1</td>\n      <td>IND</td>\n      <td>DET</td>\n      <td>pass</td>\n      <td>0.0</td>\n      <td>...</td>\n      <td>0.0</td>\n      <td>0.0</td>\n      <td>0.0</td>\n      <td>0.0</td>\n      <td>0.0</td>\n      <td>0.0</td>\n      <td>0.0</td>\n      <td>0.0</td>\n      <td>0.0</td>\n      <td>(15:00) (Run formation) 12-A.Luck pass short m...</td>\n    </tr>\n    <tr>\n      <th>4</th>\n      <td>2016</td>\n      <td>2016_01_NYG_DAL</td>\n      <td>1</td>\n      <td>1.0</td>\n      <td>1.0</td>\n      <td>2016_01_NYG_DAL_1</td>\n      <td>DAL</td>\n      <td>NYG</td>\n      <td>pass</td>\n      <td>0.0</td>\n      <td>...</td>\n      <td>0.0</td>\n      <td>0.0</td>\n      <td>0.0</td>\n      <td>0.0</td>\n      <td>0.0</td>\n      <td>0.0</td>\n      <td>0.0</td>\n      <td>0.0</td>\n      <td>0.0</td>\n      <td>(9:21) (Shotgun) 4-D.Prescott pass short right...</td>\n    </tr>\n  </tbody>\n</table>\n<p>5 rows × 36 columns</p>\n</div>"
     },
     "execution_count": 45,
     "metadata": {},
     "output_type": "execute_result"
    }
   ],
   "source": [
    "%%time\n",
    "# /Users/christopherlomeli/Source/courses/datascience/Springboard/capstone/NFL/NFLVersReader/data/nfl/nlf_play_actions.parquet\n",
    "full_path = os.path.join(data_directory, \"nfl_play_actions.parquet\")\n",
    "pbp_actions_df = pd.read_parquet(full_path)\n",
    "pbp_actions_df.head()\n"
   ],
   "metadata": {
    "collapsed": false,
    "ExecuteTime": {
     "end_time": "2023-07-18T06:30:32.178445Z",
     "start_time": "2023-07-18T06:30:32.037825Z"
    }
   }
  },
  {
   "cell_type": "markdown",
   "source": [
    "#### load offense stats"
   ],
   "metadata": {
    "collapsed": false
   }
  },
  {
   "cell_type": "code",
   "execution_count": 46,
   "outputs": [
    {
     "name": "stdout",
     "output_type": "stream",
     "text": [
      "CPU times: user 6.62 ms, sys: 2.99 ms, total: 9.61 ms\n",
      "Wall time: 5.46 ms\n"
     ]
    },
    {
     "data": {
      "text/plain": "       season  week team  offense_power\nindex                                  \n0        2016     1  ARI      32.768561\n1        2016     2  ARI      36.522021\n2        2016     3  ARI      35.382326\n3        2016     4  ARI      36.997307\n4        2016     5  ARI      30.315118",
      "text/html": "<div>\n<style scoped>\n    .dataframe tbody tr th:only-of-type {\n        vertical-align: middle;\n    }\n\n    .dataframe tbody tr th {\n        vertical-align: top;\n    }\n\n    .dataframe thead th {\n        text-align: right;\n    }\n</style>\n<table border=\"1\" class=\"dataframe\">\n  <thead>\n    <tr style=\"text-align: right;\">\n      <th></th>\n      <th>season</th>\n      <th>week</th>\n      <th>team</th>\n      <th>offense_power</th>\n    </tr>\n    <tr>\n      <th>index</th>\n      <th></th>\n      <th></th>\n      <th></th>\n      <th></th>\n    </tr>\n  </thead>\n  <tbody>\n    <tr>\n      <th>0</th>\n      <td>2016</td>\n      <td>1</td>\n      <td>ARI</td>\n      <td>32.768561</td>\n    </tr>\n    <tr>\n      <th>1</th>\n      <td>2016</td>\n      <td>2</td>\n      <td>ARI</td>\n      <td>36.522021</td>\n    </tr>\n    <tr>\n      <th>2</th>\n      <td>2016</td>\n      <td>3</td>\n      <td>ARI</td>\n      <td>35.382326</td>\n    </tr>\n    <tr>\n      <th>3</th>\n      <td>2016</td>\n      <td>4</td>\n      <td>ARI</td>\n      <td>36.997307</td>\n    </tr>\n    <tr>\n      <th>4</th>\n      <td>2016</td>\n      <td>5</td>\n      <td>ARI</td>\n      <td>30.315118</td>\n    </tr>\n  </tbody>\n</table>\n</div>"
     },
     "execution_count": 46,
     "metadata": {},
     "output_type": "execute_result"
    }
   ],
   "source": [
    "%%time\n",
    "full_path = os.path.join(data_directory, \"nfl_weekly_offense_ml.parquet\")\n",
    "offense_powers_df = pd.read_parquet(full_path)\n",
    "offense_powers_df = offense_powers_df[['season', 'week', 'team', 'offense_power']]\n",
    "offense_powers_df.head()"
   ],
   "metadata": {
    "collapsed": false,
    "ExecuteTime": {
     "end_time": "2023-07-18T06:30:32.192390Z",
     "start_time": "2023-07-18T06:30:32.170412Z"
    }
   }
  },
  {
   "cell_type": "markdown",
   "source": [
    "#### load defense stats"
   ],
   "metadata": {
    "collapsed": false
   }
  },
  {
   "cell_type": "code",
   "execution_count": 47,
   "outputs": [
    {
     "name": "stdout",
     "output_type": "stream",
     "text": [
      "CPU times: user 4.56 ms, sys: 1.9 ms, total: 6.46 ms\n",
      "Wall time: 4.19 ms\n"
     ]
    },
    {
     "data": {
      "text/plain": "       season  week team  defense_power\nindex                                  \n0        2016     1  ARI       5.655132\n1        2016     2  ARI       5.097479\n2        2016     3  ARI       7.627174\n3        2016     4  ARI       5.552580\n4        2016     5  ARI       7.056463",
      "text/html": "<div>\n<style scoped>\n    .dataframe tbody tr th:only-of-type {\n        vertical-align: middle;\n    }\n\n    .dataframe tbody tr th {\n        vertical-align: top;\n    }\n\n    .dataframe thead th {\n        text-align: right;\n    }\n</style>\n<table border=\"1\" class=\"dataframe\">\n  <thead>\n    <tr style=\"text-align: right;\">\n      <th></th>\n      <th>season</th>\n      <th>week</th>\n      <th>team</th>\n      <th>defense_power</th>\n    </tr>\n    <tr>\n      <th>index</th>\n      <th></th>\n      <th></th>\n      <th></th>\n      <th></th>\n    </tr>\n  </thead>\n  <tbody>\n    <tr>\n      <th>0</th>\n      <td>2016</td>\n      <td>1</td>\n      <td>ARI</td>\n      <td>5.655132</td>\n    </tr>\n    <tr>\n      <th>1</th>\n      <td>2016</td>\n      <td>2</td>\n      <td>ARI</td>\n      <td>5.097479</td>\n    </tr>\n    <tr>\n      <th>2</th>\n      <td>2016</td>\n      <td>3</td>\n      <td>ARI</td>\n      <td>7.627174</td>\n    </tr>\n    <tr>\n      <th>3</th>\n      <td>2016</td>\n      <td>4</td>\n      <td>ARI</td>\n      <td>5.552580</td>\n    </tr>\n    <tr>\n      <th>4</th>\n      <td>2016</td>\n      <td>5</td>\n      <td>ARI</td>\n      <td>7.056463</td>\n    </tr>\n  </tbody>\n</table>\n</div>"
     },
     "execution_count": 47,
     "metadata": {},
     "output_type": "execute_result"
    }
   ],
   "source": [
    "%%time\n",
    "full_path = os.path.join(data_directory, \"nfl_weekly_defense_ml.parquet\")\n",
    "defense_powers_df = pd.read_parquet(full_path)\n",
    "defense_powers_df = defense_powers_df[['season', 'week', 'team', 'defense_power']]\n",
    "defense_powers_df.head()"
   ],
   "metadata": {
    "collapsed": false,
    "ExecuteTime": {
     "end_time": "2023-07-18T06:30:32.192685Z",
     "start_time": "2023-07-18T06:30:32.185049Z"
    }
   }
  },
  {
   "cell_type": "markdown",
   "source": [
    "#### merge power stats into play action"
   ],
   "metadata": {
    "collapsed": false
   }
  },
  {
   "cell_type": "code",
   "execution_count": 48,
   "outputs": [],
   "source": [
    "def drop_extras(df: pd.DataFrame):\n",
    "    drops=['team']\n",
    "    for col in df.columns.values:\n",
    "        if str(col).endswith(\"_y\") or str(col).endswith(\"_x\"):\n",
    "            drops.append(col)\n",
    "    if len(drops) > 0:\n",
    "        df.drop(columns=drops, inplace=True)\n"
   ],
   "metadata": {
    "collapsed": false,
    "ExecuteTime": {
     "end_time": "2023-07-18T06:30:32.196147Z",
     "start_time": "2023-07-18T06:30:32.194855Z"
    }
   }
  },
  {
   "cell_type": "markdown",
   "source": [
    "##### merge into play actions: team in position's offense power and defense power (offense_op, offense_dp)"
   ],
   "metadata": {
    "collapsed": false
   }
  },
  {
   "cell_type": "code",
   "execution_count": 49,
   "outputs": [
    {
     "name": "stdout",
     "output_type": "stream",
     "text": [
      "merge shapes (209872, 36) + (3812, 4) ==> (209872, 38)\n"
     ]
    },
    {
     "data": {
      "text/plain": "True"
     },
     "execution_count": 49,
     "metadata": {},
     "output_type": "execute_result"
    }
   ],
   "source": [
    "\n",
    "from src.utils import assert_and_alert\n",
    "\n",
    "df = pd.merge(pbp_actions_df, offense_powers_df, left_on=['season', 'week', 'posteam'], right_on=['season', 'week', 'team']).drop_duplicates()\n",
    "drop_extras(df)\n",
    "df = pd.merge(df, defense_powers_df, left_on=['season', 'week', 'posteam'], right_on=['season', 'week', 'team']).drop_duplicates()\n",
    "drop_extras(df)\n",
    "df.rename(columns={'offense_power': 'offense_op', 'defense_power': 'offense_dp'}, inplace=True)\n",
    "\n",
    "\n",
    "print(f\"merge shapes {pbp_actions_df.shape} + {offense_powers_df.shape} ==> {df.shape}\")\n",
    "assert_and_alert(pbp_actions_df.shape[0]==df.shape[0], msg=f\"merge of actions to offense power changed the row count {pbp_actions_df.shape} + {offense_powers_df.shape} ==> {df.shape}\")\n"
   ],
   "metadata": {
    "collapsed": false,
    "ExecuteTime": {
     "end_time": "2023-07-18T06:30:32.981391Z",
     "start_time": "2023-07-18T06:30:32.198144Z"
    }
   }
  },
  {
   "cell_type": "markdown",
   "source": [
    "##### merge into play actions: team on defense offense power and defense power (defense_op, defense_dp)"
   ],
   "metadata": {
    "collapsed": false
   }
  },
  {
   "cell_type": "code",
   "execution_count": 50,
   "outputs": [
    {
     "name": "stdout",
     "output_type": "stream",
     "text": [
      "merge shapes (209872, 36) + (3812, 4) ==> (209872, 40)\n"
     ]
    },
    {
     "data": {
      "text/plain": "True"
     },
     "execution_count": 50,
     "metadata": {},
     "output_type": "execute_result"
    }
   ],
   "source": [
    "from src.utils import assert_and_alert\n",
    "\n",
    "df = pd.merge(df, offense_powers_df, left_on=['season', 'week', 'defteam'], right_on=['season', 'week', 'team']).drop_duplicates()\n",
    "drop_extras(df)\n",
    "df = pd.merge(df, defense_powers_df, left_on=['season', 'week', 'defteam'], right_on=['season', 'week', 'team']).drop_duplicates()\n",
    "drop_extras(df)\n",
    "df.rename(columns={'offense_power': 'defense_op', 'defense_power': 'defense_dp'}, inplace=True)\n",
    "\n",
    "\n",
    "print(f\"merge shapes {pbp_actions_df.shape} + {offense_powers_df.shape} ==> {df.shape}\")\n",
    "assert_and_alert(pbp_actions_df.shape[0]==df.shape[0], msg=f\"merge of actions to offense power changed the row count {pbp_actions_df.shape} + {offense_powers_df.shape} ==> {df.shape}\")\n",
    "\n"
   ],
   "metadata": {
    "collapsed": false,
    "ExecuteTime": {
     "end_time": "2023-07-18T06:30:33.635688Z",
     "start_time": "2023-07-18T06:30:32.981069Z"
    }
   }
  },
  {
   "cell_type": "code",
   "execution_count": 51,
   "outputs": [
    {
     "data": {
      "text/plain": "   season  week          game_id  drive posteam defteam       action  \\\n0    2016     1  2016_01_MIN_TEN    0.0     MIN     TEN  extra_point   \n1    2016     1  2016_01_MIN_TEN    0.0     MIN     TEN  extra_point   \n2    2016     1  2016_01_MIN_TEN    2.0     MIN     TEN         rush   \n3    2016     1  2016_01_MIN_TEN    2.0     MIN     TEN         pass   \n4    2016     1  2016_01_MIN_TEN    4.0     MIN     TEN         rush   \n\n   offense_op  offense_dp  defense_op  defense_dp  \n0   29.927266    4.097988   29.507986    5.102293  \n1   29.927266    4.097988   29.507986    5.102293  \n2   29.927266    4.097988   29.507986    5.102293  \n3   29.927266    4.097988   29.507986    5.102293  \n4   29.927266    4.097988   29.507986    5.102293  ",
      "text/html": "<div>\n<style scoped>\n    .dataframe tbody tr th:only-of-type {\n        vertical-align: middle;\n    }\n\n    .dataframe tbody tr th {\n        vertical-align: top;\n    }\n\n    .dataframe thead th {\n        text-align: right;\n    }\n</style>\n<table border=\"1\" class=\"dataframe\">\n  <thead>\n    <tr style=\"text-align: right;\">\n      <th></th>\n      <th>season</th>\n      <th>week</th>\n      <th>game_id</th>\n      <th>drive</th>\n      <th>posteam</th>\n      <th>defteam</th>\n      <th>action</th>\n      <th>offense_op</th>\n      <th>offense_dp</th>\n      <th>defense_op</th>\n      <th>defense_dp</th>\n    </tr>\n  </thead>\n  <tbody>\n    <tr>\n      <th>0</th>\n      <td>2016</td>\n      <td>1</td>\n      <td>2016_01_MIN_TEN</td>\n      <td>0.0</td>\n      <td>MIN</td>\n      <td>TEN</td>\n      <td>extra_point</td>\n      <td>29.927266</td>\n      <td>4.097988</td>\n      <td>29.507986</td>\n      <td>5.102293</td>\n    </tr>\n    <tr>\n      <th>1</th>\n      <td>2016</td>\n      <td>1</td>\n      <td>2016_01_MIN_TEN</td>\n      <td>0.0</td>\n      <td>MIN</td>\n      <td>TEN</td>\n      <td>extra_point</td>\n      <td>29.927266</td>\n      <td>4.097988</td>\n      <td>29.507986</td>\n      <td>5.102293</td>\n    </tr>\n    <tr>\n      <th>2</th>\n      <td>2016</td>\n      <td>1</td>\n      <td>2016_01_MIN_TEN</td>\n      <td>2.0</td>\n      <td>MIN</td>\n      <td>TEN</td>\n      <td>rush</td>\n      <td>29.927266</td>\n      <td>4.097988</td>\n      <td>29.507986</td>\n      <td>5.102293</td>\n    </tr>\n    <tr>\n      <th>3</th>\n      <td>2016</td>\n      <td>1</td>\n      <td>2016_01_MIN_TEN</td>\n      <td>2.0</td>\n      <td>MIN</td>\n      <td>TEN</td>\n      <td>pass</td>\n      <td>29.927266</td>\n      <td>4.097988</td>\n      <td>29.507986</td>\n      <td>5.102293</td>\n    </tr>\n    <tr>\n      <th>4</th>\n      <td>2016</td>\n      <td>1</td>\n      <td>2016_01_MIN_TEN</td>\n      <td>4.0</td>\n      <td>MIN</td>\n      <td>TEN</td>\n      <td>rush</td>\n      <td>29.927266</td>\n      <td>4.097988</td>\n      <td>29.507986</td>\n      <td>5.102293</td>\n    </tr>\n  </tbody>\n</table>\n</div>"
     },
     "execution_count": 51,
     "metadata": {},
     "output_type": "execute_result"
    }
   ],
   "source": [
    "df[['season', 'week', 'game_id', 'drive', 'posteam', 'defteam', 'action', 'offense_op', 'offense_dp', 'defense_op', 'defense_dp']].head()"
   ],
   "metadata": {
    "collapsed": false,
    "ExecuteTime": {
     "end_time": "2023-07-18T06:30:36.445938Z",
     "start_time": "2023-07-18T06:30:36.433493Z"
    }
   }
  },
  {
   "cell_type": "code",
   "execution_count": 36,
   "outputs": [
    {
     "name": "stdout",
     "output_type": "stream",
     "text": [
      "validate expected results from one drive\n",
      "(209872, 40)\n"
     ]
    },
    {
     "data": {
      "text/plain": "     season  week          game_id  drive posteam defteam       action  \\\n511    2016     1  2016_01_BUF_BAL    7.0     BAL     BUF         pass   \n512    2016     1  2016_01_BUF_BAL    7.0     BAL     BUF         rush   \n513    2016     1  2016_01_BUF_BAL    7.0     BAL     BUF         pass   \n514    2016     1  2016_01_BUF_BAL    7.0     BAL     BUF         pass   \n510    2016     1  2016_01_BUF_BAL    7.0     BAL     BUF  extra_point   \n\n     offense_op  offense_dp  defense_op  defense_dp  \n511   28.390376    5.089803   19.877457    5.827629  \n512   28.390376    5.089803   19.877457    5.827629  \n513   28.390376    5.089803   19.877457    5.827629  \n514   28.390376    5.089803   19.877457    5.827629  \n510   28.390376    5.089803   19.877457    5.827629  ",
      "text/html": "<div>\n<style scoped>\n    .dataframe tbody tr th:only-of-type {\n        vertical-align: middle;\n    }\n\n    .dataframe tbody tr th {\n        vertical-align: top;\n    }\n\n    .dataframe thead th {\n        text-align: right;\n    }\n</style>\n<table border=\"1\" class=\"dataframe\">\n  <thead>\n    <tr style=\"text-align: right;\">\n      <th></th>\n      <th>season</th>\n      <th>week</th>\n      <th>game_id</th>\n      <th>drive</th>\n      <th>posteam</th>\n      <th>defteam</th>\n      <th>action</th>\n      <th>offense_op</th>\n      <th>offense_dp</th>\n      <th>defense_op</th>\n      <th>defense_dp</th>\n    </tr>\n  </thead>\n  <tbody>\n    <tr>\n      <th>511</th>\n      <td>2016</td>\n      <td>1</td>\n      <td>2016_01_BUF_BAL</td>\n      <td>7.0</td>\n      <td>BAL</td>\n      <td>BUF</td>\n      <td>pass</td>\n      <td>28.390376</td>\n      <td>5.089803</td>\n      <td>19.877457</td>\n      <td>5.827629</td>\n    </tr>\n    <tr>\n      <th>512</th>\n      <td>2016</td>\n      <td>1</td>\n      <td>2016_01_BUF_BAL</td>\n      <td>7.0</td>\n      <td>BAL</td>\n      <td>BUF</td>\n      <td>rush</td>\n      <td>28.390376</td>\n      <td>5.089803</td>\n      <td>19.877457</td>\n      <td>5.827629</td>\n    </tr>\n    <tr>\n      <th>513</th>\n      <td>2016</td>\n      <td>1</td>\n      <td>2016_01_BUF_BAL</td>\n      <td>7.0</td>\n      <td>BAL</td>\n      <td>BUF</td>\n      <td>pass</td>\n      <td>28.390376</td>\n      <td>5.089803</td>\n      <td>19.877457</td>\n      <td>5.827629</td>\n    </tr>\n    <tr>\n      <th>514</th>\n      <td>2016</td>\n      <td>1</td>\n      <td>2016_01_BUF_BAL</td>\n      <td>7.0</td>\n      <td>BAL</td>\n      <td>BUF</td>\n      <td>pass</td>\n      <td>28.390376</td>\n      <td>5.089803</td>\n      <td>19.877457</td>\n      <td>5.827629</td>\n    </tr>\n    <tr>\n      <th>510</th>\n      <td>2016</td>\n      <td>1</td>\n      <td>2016_01_BUF_BAL</td>\n      <td>7.0</td>\n      <td>BAL</td>\n      <td>BUF</td>\n      <td>extra_point</td>\n      <td>28.390376</td>\n      <td>5.089803</td>\n      <td>19.877457</td>\n      <td>5.827629</td>\n    </tr>\n  </tbody>\n</table>\n</div>"
     },
     "execution_count": 36,
     "metadata": {},
     "output_type": "execute_result"
    }
   ],
   "source": [
    "print(\"validate expected results from one drive\")\n",
    "test_df = df.loc[(df.season==2016) & (df.week==1) & (df.drive==7) & (df.posteam=='BAL')].sort_values(by=['play_counter'])\n",
    "assert 7 == test_df.points_gained.sum()\n",
    "assert len(test_df) == 5\n",
    "assert 80 == test_df.yards_gained.sum()\n",
    "merged_shape = df.shape\n",
    "print(merged_shape)\n",
    "test_df[['season', 'week', 'game_id', 'drive', 'posteam', 'defteam', 'action', 'offense_op', 'offense_dp', 'defense_op', 'defense_dp']]"
   ],
   "metadata": {
    "collapsed": false,
    "ExecuteTime": {
     "end_time": "2023-07-18T06:24:54.653952Z",
     "start_time": "2023-07-18T06:24:54.633023Z"
    }
   }
  },
  {
   "cell_type": "markdown",
   "source": [
    "#### save features dataset"
   ],
   "metadata": {
    "collapsed": false
   }
  },
  {
   "cell_type": "code",
   "execution_count": 37,
   "outputs": [
    {
     "name": "stdout",
     "output_type": "stream",
     "text": [
      "CPU times: user 204 ms, sys: 29.9 ms, total: 234 ms\n",
      "Wall time: 224 ms\n"
     ]
    }
   ],
   "source": [
    "%%time\n",
    "full_path = os.path.join(data_directory, \"nfl_pbp_play_calls.parquet\")\n",
    "df.to_parquet(full_path)"
   ],
   "metadata": {
    "collapsed": false,
    "ExecuteTime": {
     "end_time": "2023-07-18T06:25:08.598044Z",
     "start_time": "2023-07-18T06:25:08.374573Z"
    }
   }
  },
  {
   "cell_type": "markdown",
   "source": [
    "---"
   ],
   "metadata": {
    "collapsed": false
   }
  }
 ],
 "metadata": {
  "kernelspec": {
   "display_name": "Python 3",
   "language": "python",
   "name": "python3"
  },
  "language_info": {
   "codemirror_mode": {
    "name": "ipython",
    "version": 2
   },
   "file_extension": ".py",
   "mimetype": "text/x-python",
   "name": "python",
   "nbconvert_exporter": "python",
   "pygments_lexer": "ipython2",
   "version": "2.7.6"
  }
 },
 "nbformat": 4,
 "nbformat_minor": 0
}
