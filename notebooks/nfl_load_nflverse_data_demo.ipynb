{
 "cells": [
  {
   "cell_type": "markdown",
   "source": [],
   "metadata": {
    "collapsed": false
   }
  },
  {
   "cell_type": "markdown",
   "source": [
    "<div style=\"background-color: teal; padding: 10px;\">\n",
    "    <span style=\"color: white;\">imports</span>\n",
    "</div>"
   ],
   "metadata": {
    "collapsed": false
   }
  },
  {
   "cell_type": "code",
   "execution_count": 1,
   "outputs": [],
   "source": [
    "import logging\n",
    "import os\n",
    "import sys\n",
    "\n",
    "from src import configs\n",
    "\n",
    "sys.path.append(os.path.abspath(\"../src\"))\n"
   ],
   "metadata": {
    "collapsed": false,
    "ExecuteTime": {
     "end_time": "2023-07-20T18:55:45.428737Z",
     "start_time": "2023-07-20T18:55:45.001368Z"
    }
   }
  },
  {
   "cell_type": "code",
   "execution_count": 2,
   "metadata": {
    "collapsed": true,
    "ExecuteTime": {
     "end_time": "2023-07-20T18:55:46.135314Z",
     "start_time": "2023-07-20T18:55:45.429788Z"
    }
   },
   "outputs": [],
   "source": [
    "\n",
    "from src.nfl_00_load_nflverse_data import read_nflverse_datasets\n",
    "from src.nfl_01_load_nfl_database import create_nfl_database\n",
    "from src.nfl_02_prepare_weekly_stats import prepare_team_week_dataset\n",
    "from src.nfl_03_perform_feature_selection import perform_team_week_feature_selection\n",
    "from src.nfl_04_merge_game_feature_selection import merge_team_week_features"
   ]
  },
  {
   "cell_type": "markdown",
   "source": [
    "<div style=\"background-color: teal; padding: 10px;\">\n",
    "    <span style=\"color: white;\">housekeeping</span>\n",
    "</div>\n"
   ],
   "metadata": {
    "collapsed": false
   }
  },
  {
   "cell_type": "code",
   "execution_count": 3,
   "outputs": [],
   "source": [
    "# Get the logger\n",
    "logger = configs.configure_logging(\"pbp_logger\")\n",
    "logger.setLevel(logging.INFO)"
   ],
   "metadata": {
    "collapsed": false,
    "ExecuteTime": {
     "end_time": "2023-07-20T18:55:46.137293Z",
     "start_time": "2023-07-20T18:55:46.135909Z"
    }
   }
  },
  {
   "cell_type": "markdown",
   "source": [
    "\n",
    "<div style=\"background-color: teal; padding: 10px;\">\n",
    "    <span style=\"color: white;\">download nflverse data</span>\n",
    "</div>\n",
    "\n",
    "our goal in this step is to get the information downloaded with as few risk as possible\n",
    "\n",
    "this protects us from any unexpected changes in the nflverse datasets or issues wihtout own transformations\n",
    "\n",
    "once we have the data safely in our system we can dimension and store the data in a database with as many validations and retries as necessary\n",
    "\n",
    "normally we will run this from a python job 'src.nfl_main_job.py' but for demo purposes we'll run these here\n",
    "\n"
   ],
   "metadata": {
    "collapsed": false
   }
  },
  {
   "cell_type": "markdown",
   "source": [
    "### <font color=\"#9370DB\">read nflverse data to output folders</font>\n",
    "\n",
    "<font color=purple>\n",
    "\n",
    "- our goal is to get the data stored without risk of failures - we store directly to local or s3\n",
    "- The files we want are configures in the configs.py code\n",
    "- using a synchronous http client\n",
    "- and a fixed size executor thread pool\n",
    "<font/>"
   ],
   "metadata": {
    "collapsed": false
   }
  },
  {
   "cell_type": "code",
   "execution_count": 4,
   "outputs": [
    {
     "name": "stderr",
     "output_type": "stream",
     "text": [
      "2023-07-20 11:55:47,814 - INFO - Downloaded: ngs_2016_passing.csv.gz\n",
      "2023-07-20 11:55:47,943 - INFO - Downloaded: ngs_2016_rushing.csv.gz\n",
      "2023-07-20 11:55:48,082 - INFO - Downloaded: ngs_2016_receiving.csv.gz\n",
      "2023-07-20 11:55:48,145 - INFO - Downloaded: injuries_2016.parquet\n",
      "2023-07-20 11:55:48,482 - INFO - Downloaded: pbp_participation_2016.parquet\n",
      "2023-07-20 11:55:48,535 - INFO - Downloaded: player_stats.parquet\n",
      "2023-07-20 11:55:48,575 - INFO - Downloaded: pbp_participation_2017.parquet\n",
      "2023-07-20 11:55:48,672 - INFO - Downloaded: players.parquet\n",
      "2023-07-20 11:55:48,897 - INFO - Downloaded: injuries_2017.parquet\n",
      "2023-07-20 11:55:48,986 - INFO - Downloaded: ngs_2017_receiving.csv.gz\n",
      "2023-07-20 11:55:49,095 - INFO - Downloaded: ngs_2017_rushing.csv.gz\n",
      "2023-07-20 11:55:49,226 - INFO - Downloaded: ngs_2017_passing.csv.gz\n",
      "2023-07-20 11:55:49,236 - INFO - Downloaded: play_by_play_2016.parquet\n",
      "2023-07-20 11:55:49,555 - INFO - Downloaded: injuries_2018.parquet\n",
      "2023-07-20 11:55:49,679 - INFO - Downloaded: ngs_2018_passing.csv.gz\n",
      "2023-07-20 11:55:49,742 - INFO - Downloaded: ngs_2018_rushing.csv.gz\n",
      "2023-07-20 11:55:50,071 - INFO - Downloaded: ngs_2018_receiving.csv.gz\n",
      "2023-07-20 11:55:50,103 - INFO - Downloaded: pbp_participation_2018.parquet\n",
      "2023-07-20 11:55:50,319 - INFO - Downloaded: injuries_2019.parquet\n",
      "2023-07-20 11:55:50,499 - INFO - Downloaded: ngs_2019_passing.csv.gz\n",
      "2023-07-20 11:55:50,728 - INFO - Downloaded: ngs_2019_rushing.csv.gz\n",
      "2023-07-20 11:55:50,881 - INFO - Downloaded: ngs_2019_receiving.csv.gz\n",
      "2023-07-20 11:55:50,944 - INFO - Downloaded: play_by_play_2018.parquet\n",
      "2023-07-20 11:55:50,982 - INFO - Downloaded: pbp_participation_2019.parquet\n",
      "2023-07-20 11:55:51,184 - INFO - Downloaded: injuries_2020.parquet\n",
      "2023-07-20 11:55:51,340 - INFO - Downloaded: ngs_2020_passing.csv.gz\n",
      "2023-07-20 11:55:51,372 - INFO - Downloaded: pbp_participation_2020.parquet\n",
      "2023-07-20 11:55:51,725 - INFO - Downloaded: ngs_2020_rushing.csv.gz\n",
      "2023-07-20 11:55:51,747 - INFO - Downloaded: ngs_2020_receiving.csv.gz\n",
      "2023-07-20 11:55:51,798 - INFO - Downloaded: play_by_play_2019.parquet\n",
      "2023-07-20 11:55:52,314 - INFO - Downloaded: pbp_participation_2021.parquet\n",
      "2023-07-20 11:55:52,359 - INFO - Downloaded: injuries_2021.parquet\n",
      "2023-07-20 11:55:52,452 - INFO - Downloaded: play_by_play_2020.parquet\n",
      "2023-07-20 11:55:52,563 - INFO - Downloaded: ngs_2021_passing.csv.gz\n",
      "2023-07-20 11:55:52,607 - INFO - Downloaded: ngs_2021_rushing.csv.gz\n",
      "2023-07-20 11:55:52,684 - INFO - Downloaded: ngs_2021_receiving.csv.gz\n",
      "2023-07-20 11:55:53,314 - INFO - Downloaded: ngs_2022_passing.csv.gz\n",
      "2023-07-20 11:55:53,323 - INFO - Downloaded: injuries_2022.parquet\n",
      "2023-07-20 11:55:53,467 - INFO - Downloaded: advstats_season_def.parquet\n",
      "2023-07-20 11:55:53,559 - INFO - Downloaded: pbp_participation_2022.parquet\n",
      "2023-07-20 11:55:53,593 - INFO - Downloaded: ngs_2022_receiving.csv.gz\n",
      "2023-07-20 11:55:53,646 - INFO - Downloaded: ngs_2022_rushing.csv.gz\n",
      "2023-07-20 11:55:53,823 - INFO - Downloaded: advstats_season_pass.parquet\n",
      "2023-07-20 11:55:53,890 - INFO - Downloaded: play_by_play_2021.parquet\n",
      "2023-07-20 11:55:53,926 - INFO - Downloaded: play_by_play_2022.parquet\n",
      "2023-07-20 11:55:54,296 - INFO - Downloaded: advstats_season_rush.parquet\n",
      "2023-07-20 11:55:54,309 - INFO - Downloaded: advstats_season_rec.parquet\n",
      "2023-07-20 11:55:54,686 - INFO - Downloaded: play_by_play_2017.parquet\n"
     ]
    }
   ],
   "source": [
    "read_nflverse_datasets()"
   ],
   "metadata": {
    "collapsed": false,
    "ExecuteTime": {
     "end_time": "2023-07-20T18:55:54.691625Z",
     "start_time": "2023-07-20T18:55:46.138281Z"
    }
   }
  },
  {
   "cell_type": "markdown",
   "source": [
    "### <font color=\"#9370DB\">load to database</font>\n",
    "\n",
    "<font color=purple>\n",
    "\n",
    "In this step we read from the output directory\n",
    "\n",
    "we then split the data into several dimensions based on cardinality\n",
    "\n",
    "<br>\n",
    "\n",
    "for example we,\n",
    "\n",
    "<br>\n",
    "\n",
    "* explode the player participation array columns into thier own datasets, and\n",
    "* create a play_actions dataset that contains key play by play info\n",
    "* pull out all the player events in the play-by-play data, cross-reference them to the team they are playing for in that week\n",
    "* pull out game data e.g. game date, final scores, home and away teams, et.\n",
    "\n",
    "<br>\n",
    "\n",
    "we load all dimensions to an relational database for availability to other experiments\n",
    "\n",
    "\n",
    "todo:  the load process should be using a bulk/copy instead of inserts\n",
    "<font/>"
   ],
   "metadata": {
    "collapsed": false
   }
  },
  {
   "cell_type": "code",
   "execution_count": 5,
   "outputs": [
    {
     "name": "stderr",
     "output_type": "stream",
     "text": [
      "2023-07-20 11:55:54,692 - INFO - Reading all files from pbp\n",
      "2023-07-20 11:55:54,693 - INFO -   + Reading pbp_2019.parquet\n",
      "2023-07-20 11:55:54,833 - INFO -   + Reading pbp_2018.parquet\n",
      "2023-07-20 11:55:54,931 - INFO -   + Reading pbp_2022.parquet\n",
      "2023-07-20 11:55:55,029 - INFO -   + Reading pbp_2021.parquet\n",
      "2023-07-20 11:55:55,127 - INFO -   + Reading pbp_2017.parquet\n",
      "2023-07-20 11:55:55,219 - INFO -   + Reading pbp_2016.parquet\n",
      "2023-07-20 11:55:55,310 - INFO -   + Reading pbp_2020.parquet\n",
      "2023-07-20 11:55:58,474 - INFO - Impute columns to 0\n",
      "2023-07-20 11:55:58,635 - INFO - impute non binary pbp columns ...\n",
      "2023-07-20 11:55:59,261 - INFO - Impute columns to 0\n",
      "2023-07-20 11:55:59,811 - INFO - Impute columns to 0:00\n",
      "2023-07-20 11:56:01,170 - INFO - Impute columns to NA\n",
      "2023-07-20 11:56:06,731 - INFO - moving play_id to play_counter, and creating a joinable play_id key\n",
      "2023-07-20 11:56:07,585 - INFO - Conform key actions like pass, rush, kickoff, etc.... \n",
      "2023-07-20 11:56:21,014 - INFO - Validate actions dimension ...\n",
      "2023-07-20 11:56:21,284 - INFO - checking play_action counts...\n",
      "2023-07-20 11:56:21,297 - INFO - Creating new drive dimension...\n",
      "2023-07-20 11:56:21,366 - INFO - Validate drive_df dimension ...\n",
      "2023-07-20 11:56:21,590 - INFO - Creating new situations dimension...\n",
      "2023-07-20 11:56:21,654 - INFO - Validate situation_df dimension ...\n",
      "2023-07-20 11:56:21,860 - INFO - Creating new metrics dimension...\n",
      "2023-07-20 11:56:21,907 - INFO - Validate play_metrics_df dimension ...\n",
      "2023-07-20 11:56:21,995 - INFO - Creating new game dimension...\n",
      "2023-07-20 11:56:22,727 - INFO - Validate games dimension ...\n",
      "2023-07-20 11:56:22,730 - INFO - Create stats for pbp player involvement by play ...\n",
      "2023-07-20 11:56:29,136 - INFO - Creating new analytics dimension...\n",
      "2023-07-20 11:56:29,423 - INFO - Reading all files from pbp-participation\n",
      "2023-07-20 11:56:29,425 - INFO -   + Reading pbp-participation_2019.parquet\n",
      "2023-07-20 11:56:29,454 - INFO -   + Reading pbp-participation_2018.parquet\n",
      "2023-07-20 11:56:29,478 - INFO -   + Reading pbp-participation_2017.parquet\n",
      "2023-07-20 11:56:29,501 - INFO -   + Reading pbp-participation_2021.parquet\n",
      "2023-07-20 11:56:29,523 - INFO -   + Reading pbp-participation_2020.parquet\n",
      "2023-07-20 11:56:29,544 - INFO -   + Reading pbp-participation_2016.parquet\n",
      "2023-07-20 11:56:29,566 - INFO -   + Reading pbp-participation_2022.parquet\n",
      "2023-07-20 11:56:29,696 - INFO - pbp_participation:  create a joinable play_id column ...\n",
      "2023-07-20 11:56:29,925 - INFO - Calculating defense and offense team names by player and play...\n",
      "2023-07-20 11:56:32,464 - INFO - Exploding offensive players to their own dataset...\n",
      "2023-07-20 11:56:33,970 - INFO - Exploding defense_players to their own dataset...\n",
      "2023-07-20 11:56:42,147 - WARNING - count after merge: 6903461 != 6902991\n",
      "2023-07-20 11:56:45,966 - INFO - Reading all files from injuries\n",
      "2023-07-20 11:56:45,966 - INFO -   + Reading injuries_2017.parquet\n",
      "2023-07-20 11:56:45,972 - INFO -   + Reading injuries_2021.parquet\n",
      "2023-07-20 11:56:45,977 - INFO -   + Reading injuries_2020.parquet\n",
      "2023-07-20 11:56:45,981 - INFO -   + Reading injuries_2016.parquet\n",
      "2023-07-20 11:56:45,985 - INFO -   + Reading injuries_2022.parquet\n",
      "2023-07-20 11:56:45,989 - INFO -   + Reading injuries_2019.parquet\n",
      "2023-07-20 11:56:45,992 - INFO -   + Reading injuries_2018.parquet\n",
      "2023-07-20 11:56:46,007 - INFO - Prep injury data...\n",
      "2023-07-20 11:56:46,007 - INFO - Conforming names (e.g. gsis_id -> player_id)\n",
      "2023-07-20 11:56:46,018 - INFO - Merge sparse injury columns\n",
      "2023-07-20 11:56:46,020 - INFO - Get best values for null report_statuses...\n",
      "2023-07-20 11:56:46,082 - INFO - check that all positions are correct...\n",
      "2023-07-20 11:56:46,088 - INFO - Reading all files from player-stats\n",
      "2023-07-20 11:56:46,089 - INFO -   + Reading player-stats.parquet\n",
      "2023-07-20 11:56:46,128 - INFO - fix specific player_stats: <function player_stats_fixes at 0x17a292e50>..\n",
      "2023-07-20 11:56:46,204 - INFO - replace empty position_groups with position info...\n",
      "2023-07-20 11:56:46,217 - INFO - replace empty player_name with player_display_name info...\n",
      "2023-07-20 11:56:46,228 - INFO - replace empty headshot_url with 'none'...\n",
      "2023-07-20 11:56:46,239 - INFO - fillna(0) for all binary columns...\n",
      "2023-07-20 11:56:46,240 - INFO - Impute columns to 0\n",
      "2023-07-20 11:56:46,421 - WARNING - After merge player_stats count changed - went from 124081 to 124083\n",
      "2023-07-20 11:56:46,425 - INFO - Reading all files from players\n",
      "2023-07-20 11:56:46,426 - INFO -   + Reading players.parquet\n",
      "2023-07-20 11:56:46,452 - INFO - Process players dataset...\n",
      "2023-07-20 11:56:46,452 - INFO - drop players without gsis_ids - they won't link to player_stats\n",
      "2023-07-20 11:56:46,469 - INFO - fill empty players status to 'NONE'\n",
      "2023-07-20 11:56:46,475 - INFO - rename gsis_id to player_id...\n",
      "2023-07-20 11:56:46,478 - INFO - Reading all files from advstats-season-def\n",
      "2023-07-20 11:56:46,479 - INFO -   + Reading advstats-season-def.parquet\n",
      "2023-07-20 11:56:46,483 - INFO - Reading all files from advstats-season-pass\n",
      "2023-07-20 11:56:46,484 - INFO -   + Reading advstats-season-pass.parquet\n",
      "2023-07-20 11:56:46,486 - INFO - Reading all files from advstats-season-rec\n",
      "2023-07-20 11:56:46,487 - INFO -   + Reading advstats-season-rec.parquet\n",
      "2023-07-20 11:56:46,490 - INFO - Reading all files from advstats-season-rush\n",
      "2023-07-20 11:56:46,491 - INFO -   + Reading advstats-season-rush.parquet\n",
      "2023-07-20 11:56:46,493 - INFO - Reading all files from nextgen-passing\n",
      "2023-07-20 11:56:46,494 - INFO -   + Reading nextgen-passing_2017.csv.gz\n",
      "2023-07-20 11:56:46,498 - INFO -   + Reading nextgen-passing_2021.csv.gz\n",
      "2023-07-20 11:56:46,502 - INFO -   + Reading nextgen-passing_2019.csv.gz\n",
      "2023-07-20 11:56:46,506 - INFO -   + Reading nextgen-passing_2020.csv.gz\n",
      "2023-07-20 11:56:46,510 - INFO -   + Reading nextgen-passing_2016.csv.gz\n",
      "2023-07-20 11:56:46,514 - INFO -   + Reading nextgen-passing_2022.csv.gz\n",
      "2023-07-20 11:56:46,518 - INFO -   + Reading nextgen-passing_2018.csv.gz\n",
      "2023-07-20 11:56:46,523 - INFO - Reading all files from nextgen-receiving\n",
      "2023-07-20 11:56:46,523 - INFO -   + Reading nextgen-receiving_2021.csv.gz\n",
      "2023-07-20 11:56:46,528 - INFO -   + Reading nextgen-receiving_2017.csv.gz\n",
      "2023-07-20 11:56:46,534 - INFO -   + Reading nextgen-receiving_2019.csv.gz\n",
      "2023-07-20 11:56:46,539 - INFO -   + Reading nextgen-receiving_2016.csv.gz\n",
      "2023-07-20 11:56:46,545 - INFO -   + Reading nextgen-receiving_2020.csv.gz\n",
      "2023-07-20 11:56:46,550 - INFO -   + Reading nextgen-receiving_2018.csv.gz\n",
      "2023-07-20 11:56:46,555 - INFO -   + Reading nextgen-receiving_2022.csv.gz\n",
      "2023-07-20 11:56:46,563 - INFO - Reading all files from nextgen-rushing\n",
      "2023-07-20 11:56:46,564 - INFO -   + Reading nextgen-rushing_2018.csv.gz\n",
      "2023-07-20 11:56:46,567 - INFO -   + Reading nextgen-rushing_2022.csv.gz\n",
      "2023-07-20 11:56:46,570 - INFO -   + Reading nextgen-rushing_2016.csv.gz\n",
      "2023-07-20 11:56:46,573 - INFO -   + Reading nextgen-rushing_2020.csv.gz\n",
      "2023-07-20 11:56:46,576 - INFO -   + Reading nextgen-rushing_2019.csv.gz\n",
      "2023-07-20 11:56:46,579 - INFO -   + Reading nextgen-rushing_2021.csv.gz\n",
      "2023-07-20 11:56:46,582 - INFO -   + Reading nextgen-rushing_2017.csv.gz\n",
      "2023-07-20 11:56:46,586 - INFO - create table play_actions in schema controls\n",
      "2023-07-20 11:57:28,546 - INFO - create table game_drive in schema controls\n",
      "2023-07-20 11:57:49,391 - INFO - create table play_analytics in schema controls\n",
      "2023-07-20 11:59:06,653 - INFO - create table play_situations in schema controls\n",
      "2023-07-20 11:59:35,014 - INFO - create table play_metrics in schema controls\n",
      "2023-07-20 11:59:57,690 - INFO - create table player_events in schema controls\n",
      "2023-07-20 12:00:07,242 - INFO - create table game_info in schema controls\n",
      "2023-07-20 12:00:07,385 - INFO - create table player_participation in schema controls\n",
      "2023-07-20 12:04:17,471 - INFO - create table injuries in schema controls\n",
      "2023-07-20 12:04:19,359 - INFO - create table players in schema controls\n",
      "2023-07-20 12:04:20,767 - INFO - create table player_stats in schema controls\n",
      "2023-07-20 12:04:37,464 - INFO - create table adv_stats_def in schema controls\n",
      "2023-07-20 12:04:37,853 - INFO - create table adv_stats_pass in schema controls\n",
      "2023-07-20 12:04:37,912 - INFO - create table adv_stats_rec in schema controls\n",
      "2023-07-20 12:04:38,124 - INFO - create table adv_stats_rush in schema controls\n",
      "2023-07-20 12:04:38,239 - INFO - create table nextgen_pass in schema controls\n",
      "2023-07-20 12:04:38,597 - INFO - create table nextgen_rec in schema controls\n",
      "2023-07-20 12:04:39,307 - INFO - create table nextgen_rush in schema controls\n"
     ]
    }
   ],
   "source": [
    "create_nfl_database()"
   ],
   "metadata": {
    "collapsed": false,
    "ExecuteTime": {
     "end_time": "2023-07-20T19:04:40.071589Z",
     "start_time": "2023-07-20T18:55:54.693192Z"
    }
   }
  },
  {
   "cell_type": "markdown",
   "source": [
    "<div style=\"background-color: teal; padding: 10px;\">\n",
    "    <span style=\"color: white;\">prepare data for team/week win/loss experiment</span>\n",
    "</div>\n",
    "\n",
    "Our goal is to use the nfl dimensions we have created to prepare data for our a team/week experiment\n",
    "\n",
    "The team_week experiment aims to select the best features in the nflverse data to predict win/loss\n",
    "\n",
    "The expectations is not that we can really predict win/loss any better than current statistical approaches, but to experiment with potentials for ML\n",
    "\n",
    "Normally we will run this from a python job 'src.nfl_main_job.py' but for demo purposes we'll run these here\n"
   ],
   "metadata": {
    "collapsed": false
   }
  },
  {
   "cell_type": "markdown",
   "source": [
    "### <font color=\"#9370DB\">load to database</font>\n",
    "\n",
    "<font color=purple>\n",
    "\n",
    "In this step we use SQL queries to pull play actions, events and statistics from the nfl database\n",
    "\n",
    "We are lagging and leading to fill incomplete data in the original dataset\n",
    "\n",
    "We are merging all statistics into defense and offense datasets so they can be attributed to specific teams\n",
    "\n",
    "for example, for the Ravens (BAL) vs Jets (NYJ) in week 1 of 2022 we want separate sets for BAL and NYJ - so each team has its own stats\n",
    "\n",
    "We are aggregating up to the Season, Week, Team level for this application\n",
    "\n",
    "We can concatenate available statistics, which are also at the Season, Week, Team level\n",
    "\n",
    "finally, we create play_action, offense and defense datasets in our data directory and optionally back to the database\n",
    "\n",
    "<font/>\n"
   ],
   "metadata": {
    "collapsed": false
   }
  },
  {
   "cell_type": "code",
   "execution_count": 6,
   "outputs": [
    {
     "name": "stderr",
     "output_type": "stream",
     "text": [
      "2023-07-20 12:04:40,072 - INFO - Build a 'control' dataset with all seasons and weeks...\n",
      "2023-07-20 12:04:40,650 - INFO - query and modify play actions data ...\n",
      "2023-07-20 12:04:44,090 - INFO - double checking play actions before save...\n",
      "2023-07-20 12:04:44,110 - INFO - query and modify game info data ...\n",
      "2023-07-20 12:04:44,140 - INFO - query and modify next gen passing data ...\n",
      "2023-07-20 12:04:44,187 - INFO - query and modify next gen rushing data ...\n",
      "2023-07-20 12:04:44,207 - INFO - query and modify play-by-play player events ...\n",
      "2023-07-20 12:04:47,966 - INFO - query defense player_stats data ...\n",
      "2023-07-20 12:04:48,139 - INFO - query offense player_stats data ...\n",
      "2023-07-20 12:04:48,297 - INFO - back and forward fill ngs_air_power metrics by week ...\n",
      "2023-07-20 12:04:48,314 - INFO - back and forward fill ngs_ground_power metrics by week ...\n",
      "2023-07-20 12:04:48,323 - INFO - back and forward fill pbp_events metrics by week ...\n",
      "2023-07-20 12:04:48,332 - INFO - back and forward fill defense_stats metrics by week ...\n",
      "2023-07-20 12:04:48,346 - INFO - back and forward fill possession_stats metrics by week ...\n",
      "2023-07-20 12:04:48,366 - INFO - back and forward fill ngs_air_power metrics by week ...\n",
      "2023-07-20 12:04:48,384 - INFO - merge offense events info into a single offense stats dataset...\n",
      "2023-07-20 12:04:48,388 - INFO - possession_stats before: (3961, 28), after: (3961, 54)\n",
      "2023-07-20 12:04:48,392 - INFO - offense_shape before: (3961, 28), after : (3812, 62)\n",
      "2023-07-20 12:04:48,395 - INFO - merge defense events info into a single defense stats dataset...\n",
      "2023-07-20 12:04:48,397 - INFO - defense shape before: (3961, 13), after: (3961, 19)\n",
      "2023-07-20 12:04:48,401 - INFO - defense_stats before: (3961, 13), after game_info: (3812, 27) \n",
      "2023-07-20 12:04:48,405 - INFO - save play action and merged offense and defense stats ...\n",
      "2023-07-20 12:04:48,409 - INFO - writing file tmp_weekly_offense\n",
      "2023-07-20 12:04:48,531 - INFO - writing file tmp_weekly_defense\n",
      "2023-07-20 12:04:48,545 - INFO - writing file tmp_weekly_play_actions\n"
     ]
    },
    {
     "name": "stdout",
     "output_type": "stream",
     "text": [
      "Shape of ngs_air_power                 :  (3961, 21),\t Contains 7 seasons, starting with 2016 and ending in 2022 min week: 1, max week : 22\n",
      "Shape of ngs_ground_power              :  (3961, 11),\t Contains 7 seasons, starting with 2016 and ending in 2022 min week: 1, max week : 22\n",
      "Shape of pbp_events                    :  (3961, 9),\t Contains 7 seasons, starting with 2016 and ending in 2022 min week: 1, max week : 22\n",
      "Shape of defense_stats                 :  (3961, 13),\t Contains 7 seasons, starting with 2016 and ending in 2022 min week: 1, max week : 22\n",
      "Shape of possession_stats              :  (3961, 28),\t Contains 7 seasons, starting with 2016 and ending in 2022 min week: 1, max week : 22\n",
      "Shape of game info                     :  (3812, 11),\t Contains 7 seasons, starting with 2016 and ending in 2022 min week: 1, max week : 22\n",
      "ok\n",
      "ok\n"
     ]
    }
   ],
   "source": [
    "prepare_team_week_dataset(store_to_db=False)"
   ],
   "metadata": {
    "collapsed": false,
    "ExecuteTime": {
     "end_time": "2023-07-20T19:04:49.080953Z",
     "start_time": "2023-07-20T19:04:40.073045Z"
    }
   }
  },
  {
   "cell_type": "markdown",
   "source": [
    "### <font color=\"#9370DB\">feature selection</font>\n",
    "\n",
    "<font color=purple>\n",
    "\n",
    "In this step we use the weekly datasets we've created to find the best feature to predict game win/loss\n",
    "\n",
    "We perform some data prep, including scaling, categorical encoding\n",
    "\n",
    "We perform sklearn correlations, generally and specifically for the target win/loss column\n",
    "\n",
    "After some automl experiments, we use xgboost to determine the best features for predicting win/loss\n",
    "\n",
    "We separate the top features for defense and offense and calculate a weighted average of all to get a single defense_power and offense_power score\n",
    "\n",
    "We perform a sanity check to validate that the power score columns learn as well as the individual stats, and has the ability to learn\n",
    "\n",
    "<font/>\n"
   ],
   "metadata": {
    "collapsed": false
   }
  },
  {
   "cell_type": "code",
   "execution_count": 7,
   "outputs": [
    {
     "name": "stderr",
     "output_type": "stream",
     "text": [
      "2023-07-20 12:04:49,080 - INFO - SelectNFLFeatures\n",
      "2023-07-20 12:04:49,081 - INFO - load tmp_weekly_offense\n",
      "2023-07-20 12:04:49,089 - INFO - prepare a features dataset\n",
      "2023-07-20 12:04:49,089 - INFO - encode the target win/loss column\n",
      "2023-07-20 12:04:49,090 - INFO - create a features dataframe for feature selection ...\n",
      "2023-07-20 12:04:49,091 - INFO - scale all features  ...\n",
      "2023-07-20 12:04:49,914 - INFO - get percentage contribution of offensive and defensive features\n",
      "2023-07-20 12:04:49,918 - INFO - calculate weighted average of offensive and defensive features\n",
      "2023-07-20 12:04:49,926 - INFO - Writing to tmp_offense_week_features\n",
      "2023-07-20 12:04:49,950 - INFO - SelectNFLFeatures\n",
      "2023-07-20 12:04:49,950 - INFO - load tmp_weekly_defense\n",
      "2023-07-20 12:04:49,954 - INFO - prepare a features dataset\n",
      "2023-07-20 12:04:49,955 - INFO - encode the target win/loss column\n",
      "2023-07-20 12:04:49,956 - INFO - create a features dataframe for feature selection ...\n",
      "2023-07-20 12:04:49,956 - INFO - scale all features  ...\n",
      "2023-07-20 12:04:50,688 - INFO - get percentage contribution of offensive and defensive features\n",
      "2023-07-20 12:04:50,690 - INFO - calculate weighted average of offensive and defensive features\n",
      "2023-07-20 12:04:50,695 - INFO - Writing to tmp_defense_week_features\n"
     ]
    }
   ],
   "source": [
    "perform_team_week_feature_selection()"
   ],
   "metadata": {
    "collapsed": false,
    "ExecuteTime": {
     "end_time": "2023-07-20T19:04:50.711803Z",
     "start_time": "2023-07-20T19:04:49.081620Z"
    }
   }
  },
  {
   "cell_type": "markdown",
   "source": [
    "### <font color=\"#9370DB\">merge play action and performance features into play action</font>\n",
    "\n",
    "<font color=purple>\n",
    "\n",
    "In this step we merge defense and offense data back into play_action data\n",
    "\n",
    "<br>\n",
    "\n",
    "For example:\n",
    "\n",
    "\n",
    "Taking the Ravens (BAL) vs Jets (NYJ) game in in week 1 of 2022\n",
    "\n",
    "for each drive the offense and defense changes:  BAL is offense in drive 1, then defense in drive 2\n",
    "\n",
    "we create two different slices for that single game - one focused on BAL and the other on NYJ\n",
    "\n",
    "we then fold in the offense and defense stats for each drive from our defense and offense datasets\n",
    "\n",
    "<br>\n",
    "\n",
    "* for drive 1 where BAL is playing offense:\n",
    "\n",
    "    - the offense's offense_power (offense_op) will come from BAL's offense stats\n",
    "    - the offense's defense_power (offense_dp) will come from BAL's defense stats\n",
    "    - the defense's offense_power (defense_op) will come from NYJ's offense stats\n",
    "    - the defense's defense_power (defense_dp) will come from NYJ's defense stats\n",
    "\n",
    "\n",
    "<font/>"
   ],
   "metadata": {
    "collapsed": false
   }
  },
  {
   "cell_type": "code",
   "execution_count": 8,
   "outputs": [
    {
     "name": "stderr",
     "output_type": "stream",
     "text": [
      "2023-07-20 12:04:50,711 - INFO - loading weekly features into a single game dataset...\n",
      "2023-07-20 12:04:50,712 - INFO - Reading from tmp_weekly_play_actions\n",
      "2023-07-20 12:04:50,834 - INFO - Reading from tmp_offense_week_features\n",
      "2023-07-20 12:04:50,838 - INFO - Reading from tmp_defense_week_features\n",
      "2023-07-20 12:04:50,841 - INFO - merge stats into play_actions...\n",
      "2023-07-20 12:04:51,554 - INFO - merging offense_OP...\n",
      "2023-07-20 12:04:52,413 - INFO - merging offense_DP...\n",
      "2023-07-20 12:04:53,505 - INFO - merging defense_OP...\n",
      "2023-07-20 12:04:54,197 - INFO - merging defense_DP...\n",
      "2023-07-20 12:04:54,229 - INFO - aggregate game dataset weekly stats by season, week, team...\n",
      "2023-07-20 12:04:54,510 - INFO - writing file weekly_game_stats\n"
     ]
    }
   ],
   "source": [
    "merge_team_week_features()"
   ],
   "metadata": {
    "collapsed": false,
    "ExecuteTime": {
     "end_time": "2023-07-20T19:04:54.541619Z",
     "start_time": "2023-07-20T19:04:50.712349Z"
    }
   }
  },
  {
   "cell_type": "markdown",
   "source": [],
   "metadata": {
    "collapsed": false
   }
  }
 ],
 "metadata": {
  "kernelspec": {
   "display_name": "Python 3",
   "language": "python",
   "name": "python3"
  },
  "language_info": {
   "codemirror_mode": {
    "name": "ipython",
    "version": 2
   },
   "file_extension": ".py",
   "mimetype": "text/x-python",
   "name": "python",
   "nbconvert_exporter": "python",
   "pygments_lexer": "ipython2",
   "version": "2.7.6"
  }
 },
 "nbformat": 4,
 "nbformat_minor": 0
}
