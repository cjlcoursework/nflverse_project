{
 "cells": [
  {
   "cell_type": "markdown",
   "source": [],
   "metadata": {
    "collapsed": false
   }
  },
  {
   "cell_type": "markdown",
   "source": [
    "## <font color=#0e0654>This notebook is for demonstration of the NFL ingest and load process</font>\n",
    "\n",
    "In the first step we download the NFLVerse files we want to a filesystem.  Our goal is to get the data into our local system so that we can experiment and rerun our load processes without re-downloading.  In addition, this prevents unexpected changes in the nflverse data that might break out subsequent processes\n",
    "\n",
    "We then split the data into semi-normalized dimensions so that we can use it in different ways for different experiments.\n",
    "\n",
    "This job would normally be run from nfl_main_job.py, which executes the individua stes in the same way you see in this notebook.\n",
    "\n",
    "<img src=\"https://github.com/cjlcoursework/nflverse_sdk/blob/ad2d4e24585429cf62059f1cd66f1179a664910c/images/nfl.png\" alt=\"NFLVerse Ingest\">\n"
   ],
   "metadata": {
    "collapsed": false
   }
  },
  {
   "cell_type": "markdown",
   "source": [
    "<div style=\"border: 1px solid rgba(147, 112, 219, 0.1); margin: 1px 0;\"></div>"
   ],
   "metadata": {
    "collapsed": false
   }
  },
  {
   "cell_type": "markdown",
   "source": [
    "<div style=\"background-color: teal; padding: 10px;\">\n",
    "    <span style=\"color: white;\">imports</span>\n",
    "</div>"
   ],
   "metadata": {
    "collapsed": false
   }
  },
  {
   "cell_type": "code",
   "execution_count": 1,
   "outputs": [],
   "source": [
    "import logging\n",
    "import os\n",
    "import sys\n",
    "\n",
    "from src import configs\n",
    "\n",
    "sys.path.append(os.path.abspath(\"../src\"))\n"
   ],
   "metadata": {
    "collapsed": false,
    "ExecuteTime": {
     "end_time": "2023-07-20T19:49:11.834541Z",
     "start_time": "2023-07-20T19:49:11.419198Z"
    }
   }
  },
  {
   "cell_type": "code",
   "execution_count": 2,
   "metadata": {
    "collapsed": true,
    "ExecuteTime": {
     "end_time": "2023-07-20T19:49:12.565651Z",
     "start_time": "2023-07-20T19:49:11.835107Z"
    }
   },
   "outputs": [],
   "source": [
    "\n",
    "from src.nfl_00_load_nflverse_data import read_nflverse_datasets\n",
    "from src.nfl_01_load_nfl_database import create_nfl_database\n",
    "from src.nfl_02_prepare_weekly_stats import prepare_team_week_dataset\n",
    "from src.nfl_03_perform_feature_selection import perform_team_week_feature_selection\n",
    "from src.nfl_04_merge_game_feature_selection import merge_team_week_features"
   ]
  },
  {
   "cell_type": "markdown",
   "source": [],
   "metadata": {
    "collapsed": false
   }
  },
  {
   "cell_type": "markdown",
   "source": [
    "<div style=\"background-color: teal; padding: 10px;\">\n",
    "    <span style=\"color: white;\">housekeeping</span>\n",
    "</div>\n"
   ],
   "metadata": {
    "collapsed": false
   }
  },
  {
   "cell_type": "markdown",
   "source": [],
   "metadata": {
    "collapsed": false
   }
  },
  {
   "cell_type": "code",
   "execution_count": 3,
   "outputs": [],
   "source": [
    "# Get the logger\n",
    "logger = configs.configure_logging(\"pbp_logger\")\n",
    "logger.setLevel(logging.INFO)"
   ],
   "metadata": {
    "collapsed": false,
    "ExecuteTime": {
     "end_time": "2023-07-20T19:49:12.567677Z",
     "start_time": "2023-07-20T19:49:12.566090Z"
    }
   }
  },
  {
   "cell_type": "markdown",
   "source": [],
   "metadata": {
    "collapsed": false
   }
  },
  {
   "cell_type": "markdown",
   "source": [
    "\n",
    "<div style=\"background-color: teal; padding: 10px;\">\n",
    "    <span style=\"color: white;\">download nflverse data</span>\n",
    "</div>"
   ],
   "metadata": {
    "collapsed": false
   }
  },
  {
   "cell_type": "markdown",
   "source": [
    "our goal in this step is to get the information downloaded with as few risk as possible\n",
    "\n",
    "this protects us from any unexpected changes in the nflverse datasets or issues wihtout own transformations\n",
    "\n",
    "once we have the data safely in our system we can dimension and store the data in a database with as many validations and retries as necessary\n",
    "\n",
    "normally we will run this from a python job 'src.nfl_main_job.py' but for demo purposes we'll run these here\n",
    "\n"
   ],
   "metadata": {
    "collapsed": false
   }
  },
  {
   "cell_type": "markdown",
   "source": [],
   "metadata": {
    "collapsed": false
   }
  },
  {
   "cell_type": "markdown",
   "source": [
    "### <font color=\"#9370DB\">read nflverse data to output folders</font>\n",
    "\n",
    "<font color=#9370DB>\n",
    "\n",
    "- our goal is to get the data stored without risk of failures - we store directly to local or s3\n",
    "- The files we want are configures in the configs.py code\n",
    "- using a synchronous http client\n",
    "- and a fixed size executor thread pool\n",
    "<font/>"
   ],
   "metadata": {
    "collapsed": false
   }
  },
  {
   "cell_type": "code",
   "execution_count": 4,
   "outputs": [
    {
     "name": "stderr",
     "output_type": "stream",
     "text": [
      "2023-07-20 12:49:14,217 - INFO - Downloaded: ngs_2016_receiving.csv.gz\n",
      "2023-07-20 12:49:14,428 - INFO - Downloaded: players.parquet\n",
      "2023-07-20 12:49:14,472 - INFO - Downloaded: ngs_2016_rushing.csv.gz\n",
      "2023-07-20 12:49:14,482 - INFO - Downloaded: injuries_2016.parquet\n",
      "2023-07-20 12:49:14,531 - INFO - Downloaded: ngs_2016_passing.csv.gz\n",
      "2023-07-20 12:49:14,901 - INFO - Downloaded: pbp_participation_2017.parquet\n",
      "2023-07-20 12:49:15,262 - INFO - Downloaded: injuries_2017.parquet\n",
      "2023-07-20 12:49:15,349 - INFO - Downloaded: ngs_2017_passing.csv.gz\n",
      "2023-07-20 12:49:15,412 - INFO - Downloaded: ngs_2017_receiving.csv.gz\n",
      "2023-07-20 12:49:15,441 - INFO - Downloaded: ngs_2017_rushing.csv.gz\n",
      "2023-07-20 12:49:16,130 - INFO - Downloaded: play_by_play_2016.parquet\n",
      "2023-07-20 12:49:16,160 - INFO - Downloaded: pbp_participation_2018.parquet\n",
      "2023-07-20 12:49:16,231 - INFO - Downloaded: injuries_2018.parquet\n",
      "2023-07-20 12:49:16,358 - INFO - Downloaded: ngs_2018_rushing.csv.gz\n",
      "2023-07-20 12:49:16,377 - INFO - Downloaded: ngs_2018_passing.csv.gz\n",
      "2023-07-20 12:49:16,423 - INFO - Downloaded: ngs_2018_receiving.csv.gz\n",
      "2023-07-20 12:49:16,615 - INFO - Downloaded: pbp_participation_2016.parquet\n",
      "2023-07-20 12:49:16,679 - INFO - Downloaded: player_stats.parquet\n",
      "2023-07-20 12:49:16,931 - INFO - Downloaded: play_by_play_2018.parquet\n",
      "2023-07-20 12:49:17,135 - INFO - Downloaded: injuries_2019.parquet\n",
      "2023-07-20 12:49:17,320 - INFO - Downloaded: ngs_2019_passing.csv.gz\n",
      "2023-07-20 12:49:17,379 - INFO - Downloaded: ngs_2019_rushing.csv.gz\n",
      "2023-07-20 12:49:17,480 - INFO - Downloaded: ngs_2019_receiving.csv.gz\n",
      "2023-07-20 12:49:18,035 - INFO - Downloaded: ngs_2020_passing.csv.gz\n",
      "2023-07-20 12:49:18,155 - INFO - Downloaded: pbp_participation_2019.parquet\n",
      "2023-07-20 12:49:18,182 - INFO - Downloaded: pbp_participation_2020.parquet\n",
      "2023-07-20 12:49:18,239 - INFO - Downloaded: play_by_play_2019.parquet\n",
      "2023-07-20 12:49:18,411 - INFO - Downloaded: ngs_2020_rushing.csv.gz\n",
      "2023-07-20 12:49:18,439 - INFO - Downloaded: ngs_2020_receiving.csv.gz\n",
      "2023-07-20 12:49:18,623 - INFO - Downloaded: injuries_2020.parquet\n",
      "2023-07-20 12:49:19,138 - INFO - Downloaded: play_by_play_2020.parquet\n",
      "2023-07-20 12:49:19,164 - INFO - Downloaded: ngs_2021_passing.csv.gz\n",
      "2023-07-20 12:49:19,406 - INFO - Downloaded: injuries_2021.parquet\n",
      "2023-07-20 12:49:19,453 - INFO - Downloaded: ngs_2021_rushing.csv.gz\n",
      "2023-07-20 12:49:19,469 - INFO - Downloaded: pbp_participation_2021.parquet\n",
      "2023-07-20 12:49:19,504 - INFO - Downloaded: ngs_2021_receiving.csv.gz\n",
      "2023-07-20 12:49:19,698 - INFO - Downloaded: play_by_play_2017.parquet\n",
      "2023-07-20 12:49:19,833 - INFO - Downloaded: play_by_play_2021.parquet\n",
      "2023-07-20 12:49:20,079 - INFO - Downloaded: pbp_participation_2022.parquet\n",
      "2023-07-20 12:49:20,204 - INFO - Downloaded: ngs_2022_passing.csv.gz\n",
      "2023-07-20 12:49:20,243 - INFO - Downloaded: injuries_2022.parquet\n",
      "2023-07-20 12:49:20,348 - INFO - Downloaded: ngs_2022_rushing.csv.gz\n",
      "2023-07-20 12:49:20,421 - INFO - Downloaded: ngs_2022_receiving.csv.gz\n",
      "2023-07-20 12:49:20,515 - INFO - Downloaded: advstats_season_pass.parquet\n",
      "2023-07-20 12:49:20,545 - INFO - Downloaded: advstats_season_def.parquet\n",
      "2023-07-20 12:49:20,682 - INFO - Downloaded: advstats_season_rush.parquet\n",
      "2023-07-20 12:49:20,797 - INFO - Downloaded: advstats_season_rec.parquet\n",
      "2023-07-20 12:49:21,072 - INFO - Downloaded: play_by_play_2022.parquet\n"
     ]
    }
   ],
   "source": [
    "read_nflverse_datasets()"
   ],
   "metadata": {
    "collapsed": false,
    "ExecuteTime": {
     "end_time": "2023-07-20T19:49:21.079754Z",
     "start_time": "2023-07-20T19:49:12.568041Z"
    }
   }
  },
  {
   "cell_type": "markdown",
   "source": [
    "<div style=\"border: 1px solid rgba(147, 112, 219, 0.4); margin: 1px 0;\"></div>"
   ],
   "metadata": {
    "collapsed": false
   }
  },
  {
   "cell_type": "markdown",
   "source": [
    "### <font color=\"#9370DB\">load to database</font>\n",
    "\n",
    "<font color=#9370DB>\n",
    "\n",
    "In this step we read from the output directory\n",
    "\n",
    "we then split the data into several dimensions based on cardinality\n",
    "\n",
    "<br>\n",
    "\n",
    "for example,\n",
    "\n",
    "<br>\n",
    "\n",
    "* explode the player participation array columns into thier own datasets, and\n",
    "* create a play_actions dataset that contains key play by play info\n",
    "* pull out all the player events in the play-by-play data, cross-reference them to the team they are playing for in that week\n",
    "* pull out game data e.g. game date, final scores, home and away teams, et.\n",
    "\n",
    "<br>\n",
    "\n",
    "we load all dimensions to an relational database for availability to other experiments\n",
    "\n",
    "\n",
    "todo:  the load process should be using a bulk/copy instead of inserts\n",
    "<font/>"
   ],
   "metadata": {
    "collapsed": false
   }
  },
  {
   "cell_type": "code",
   "execution_count": 5,
   "outputs": [
    {
     "name": "stderr",
     "output_type": "stream",
     "text": [
      "2023-07-20 12:49:21,079 - INFO - Reading all files from pbp\n",
      "2023-07-20 12:49:21,081 - INFO -   + Reading pbp_2019.parquet\n",
      "2023-07-20 12:49:21,238 - INFO -   + Reading pbp_2018.parquet\n",
      "2023-07-20 12:49:21,350 - INFO -   + Reading pbp_2022.parquet\n",
      "2023-07-20 12:49:21,452 - INFO -   + Reading pbp_2021.parquet\n",
      "2023-07-20 12:49:21,553 - INFO -   + Reading pbp_2017.parquet\n",
      "2023-07-20 12:49:21,646 - INFO -   + Reading pbp_2016.parquet\n",
      "2023-07-20 12:49:21,736 - INFO -   + Reading pbp_2020.parquet\n",
      "2023-07-20 12:49:24,754 - INFO - Impute columns to 0\n",
      "2023-07-20 12:49:24,923 - INFO - impute non binary pbp columns ...\n",
      "2023-07-20 12:49:25,479 - INFO - Impute columns to 0\n",
      "2023-07-20 12:49:25,966 - INFO - Impute columns to 0:00\n",
      "2023-07-20 12:49:27,287 - INFO - Impute columns to NA\n",
      "2023-07-20 12:49:32,766 - INFO - moving play_id to play_counter, and creating a joinable play_id key\n",
      "2023-07-20 12:49:33,526 - INFO - Conform key actions like pass, rush, kickoff, etc.... \n",
      "2023-07-20 12:49:45,650 - INFO - Validate actions dimension ...\n",
      "2023-07-20 12:49:45,929 - INFO - checking play_action counts...\n",
      "2023-07-20 12:49:45,940 - INFO - Creating new drive dimension...\n",
      "2023-07-20 12:49:46,011 - INFO - Validate drive_df dimension ...\n",
      "2023-07-20 12:49:46,241 - INFO - Creating new situations dimension...\n",
      "2023-07-20 12:49:46,307 - INFO - Validate situation_df dimension ...\n",
      "2023-07-20 12:49:46,517 - INFO - Creating new metrics dimension...\n",
      "2023-07-20 12:49:46,564 - INFO - Validate play_metrics_df dimension ...\n",
      "2023-07-20 12:49:46,652 - INFO - Creating new game dimension...\n",
      "2023-07-20 12:49:47,355 - INFO - Validate games dimension ...\n",
      "2023-07-20 12:49:47,358 - INFO - Create stats for pbp player involvement by play ...\n",
      "2023-07-20 12:49:53,515 - INFO - Creating new analytics dimension...\n",
      "2023-07-20 12:49:53,826 - INFO - Reading all files from pbp-participation\n",
      "2023-07-20 12:49:53,827 - INFO -   + Reading pbp-participation_2019.parquet\n",
      "2023-07-20 12:49:53,858 - INFO -   + Reading pbp-participation_2018.parquet\n",
      "2023-07-20 12:49:53,883 - INFO -   + Reading pbp-participation_2017.parquet\n",
      "2023-07-20 12:49:53,905 - INFO -   + Reading pbp-participation_2021.parquet\n",
      "2023-07-20 12:49:53,929 - INFO -   + Reading pbp-participation_2020.parquet\n",
      "2023-07-20 12:49:53,949 - INFO -   + Reading pbp-participation_2016.parquet\n",
      "2023-07-20 12:49:53,971 - INFO -   + Reading pbp-participation_2022.parquet\n",
      "2023-07-20 12:49:54,112 - INFO - pbp_participation:  create a joinable play_id column ...\n",
      "2023-07-20 12:49:54,340 - INFO - Calculating defense and offense team names by player and play...\n",
      "2023-07-20 12:49:56,857 - INFO - Exploding offensive players to their own dataset...\n",
      "2023-07-20 12:49:58,339 - INFO - Exploding defense_players to their own dataset...\n",
      "2023-07-20 12:50:06,801 - WARNING - count after merge: 6903461 != 6902991\n",
      "2023-07-20 12:50:10,834 - INFO - Reading all files from injuries\n",
      "2023-07-20 12:50:10,835 - INFO -   + Reading injuries_2017.parquet\n",
      "2023-07-20 12:50:10,840 - INFO -   + Reading injuries_2021.parquet\n",
      "2023-07-20 12:50:10,846 - INFO -   + Reading injuries_2020.parquet\n",
      "2023-07-20 12:50:10,850 - INFO -   + Reading injuries_2016.parquet\n",
      "2023-07-20 12:50:10,854 - INFO -   + Reading injuries_2022.parquet\n",
      "2023-07-20 12:50:10,859 - INFO -   + Reading injuries_2019.parquet\n",
      "2023-07-20 12:50:10,864 - INFO -   + Reading injuries_2018.parquet\n",
      "2023-07-20 12:50:10,876 - INFO - Prep injury data...\n",
      "2023-07-20 12:50:10,877 - INFO - Conforming names (e.g. gsis_id -> player_id)\n",
      "2023-07-20 12:50:10,887 - INFO - Merge sparse injury columns\n",
      "2023-07-20 12:50:10,889 - INFO - Get best values for null report_statuses...\n",
      "2023-07-20 12:50:10,947 - INFO - check that all positions are correct...\n",
      "2023-07-20 12:50:10,954 - INFO - Reading all files from player-stats\n",
      "2023-07-20 12:50:10,955 - INFO -   + Reading player-stats.parquet\n",
      "2023-07-20 12:50:10,998 - INFO - fix specific player_stats: <function player_stats_fixes at 0x1408d1d30>..\n",
      "2023-07-20 12:50:11,077 - INFO - replace empty position_groups with position info...\n",
      "2023-07-20 12:50:11,091 - INFO - replace empty player_name with player_display_name info...\n",
      "2023-07-20 12:50:11,103 - INFO - replace empty headshot_url with 'none'...\n",
      "2023-07-20 12:50:11,114 - INFO - fillna(0) for all binary columns...\n",
      "2023-07-20 12:50:11,114 - INFO - Impute columns to 0\n",
      "2023-07-20 12:50:11,326 - WARNING - After merge player_stats count changed - went from 124081 to 124083\n",
      "2023-07-20 12:50:11,331 - INFO - Reading all files from players\n",
      "2023-07-20 12:50:11,331 - INFO -   + Reading players.parquet\n",
      "2023-07-20 12:50:11,358 - INFO - Process players dataset...\n",
      "2023-07-20 12:50:11,358 - INFO - drop players without gsis_ids - they won't link to player_stats\n",
      "2023-07-20 12:50:11,374 - INFO - fill empty players status to 'NONE'\n",
      "2023-07-20 12:50:11,381 - INFO - rename gsis_id to player_id...\n",
      "2023-07-20 12:50:11,384 - INFO - Reading all files from advstats-season-def\n",
      "2023-07-20 12:50:11,385 - INFO -   + Reading advstats-season-def.parquet\n",
      "2023-07-20 12:50:11,389 - INFO - Reading all files from advstats-season-pass\n",
      "2023-07-20 12:50:11,390 - INFO -   + Reading advstats-season-pass.parquet\n",
      "2023-07-20 12:50:11,394 - INFO - Reading all files from advstats-season-rec\n",
      "2023-07-20 12:50:11,394 - INFO -   + Reading advstats-season-rec.parquet\n",
      "2023-07-20 12:50:11,398 - INFO - Reading all files from advstats-season-rush\n",
      "2023-07-20 12:50:11,399 - INFO -   + Reading advstats-season-rush.parquet\n",
      "2023-07-20 12:50:11,402 - INFO - Reading all files from nextgen-passing\n",
      "2023-07-20 12:50:11,402 - INFO -   + Reading nextgen-passing_2017.csv.gz\n",
      "2023-07-20 12:50:11,408 - INFO -   + Reading nextgen-passing_2021.csv.gz\n",
      "2023-07-20 12:50:11,413 - INFO -   + Reading nextgen-passing_2019.csv.gz\n",
      "2023-07-20 12:50:11,418 - INFO -   + Reading nextgen-passing_2020.csv.gz\n",
      "2023-07-20 12:50:11,422 - INFO -   + Reading nextgen-passing_2016.csv.gz\n",
      "2023-07-20 12:50:11,426 - INFO -   + Reading nextgen-passing_2022.csv.gz\n",
      "2023-07-20 12:50:11,431 - INFO -   + Reading nextgen-passing_2018.csv.gz\n",
      "2023-07-20 12:50:11,437 - INFO - Reading all files from nextgen-receiving\n",
      "2023-07-20 12:50:11,438 - INFO -   + Reading nextgen-receiving_2021.csv.gz\n",
      "2023-07-20 12:50:11,444 - INFO -   + Reading nextgen-receiving_2017.csv.gz\n",
      "2023-07-20 12:50:11,449 - INFO -   + Reading nextgen-receiving_2019.csv.gz\n",
      "2023-07-20 12:50:11,454 - INFO -   + Reading nextgen-receiving_2016.csv.gz\n",
      "2023-07-20 12:50:11,461 - INFO -   + Reading nextgen-receiving_2020.csv.gz\n",
      "2023-07-20 12:50:11,469 - INFO -   + Reading nextgen-receiving_2018.csv.gz\n",
      "2023-07-20 12:50:11,474 - INFO -   + Reading nextgen-receiving_2022.csv.gz\n",
      "2023-07-20 12:50:11,483 - INFO - Reading all files from nextgen-rushing\n",
      "2023-07-20 12:50:11,484 - INFO -   + Reading nextgen-rushing_2018.csv.gz\n",
      "2023-07-20 12:50:11,488 - INFO -   + Reading nextgen-rushing_2022.csv.gz\n",
      "2023-07-20 12:50:11,492 - INFO -   + Reading nextgen-rushing_2016.csv.gz\n",
      "2023-07-20 12:50:11,496 - INFO -   + Reading nextgen-rushing_2020.csv.gz\n",
      "2023-07-20 12:50:11,500 - INFO -   + Reading nextgen-rushing_2019.csv.gz\n",
      "2023-07-20 12:50:11,503 - INFO -   + Reading nextgen-rushing_2021.csv.gz\n",
      "2023-07-20 12:50:11,506 - INFO -   + Reading nextgen-rushing_2017.csv.gz\n",
      "2023-07-20 12:50:11,510 - INFO - create table play_actions in schema controls\n",
      "2023-07-20 12:50:53,006 - INFO - create table game_drive in schema controls\n",
      "2023-07-20 12:51:15,417 - INFO - create table play_analytics in schema controls\n",
      "2023-07-20 12:52:33,139 - INFO - create table play_situations in schema controls\n",
      "2023-07-20 12:53:02,640 - INFO - create table play_metrics in schema controls\n",
      "2023-07-20 12:53:25,610 - INFO - create table player_events in schema controls\n",
      "2023-07-20 12:53:35,861 - INFO - create table game_info in schema controls\n",
      "2023-07-20 12:53:35,997 - INFO - create table player_participation in schema controls\n",
      "2023-07-20 12:57:59,636 - INFO - create table injuries in schema controls\n",
      "2023-07-20 12:58:01,453 - INFO - create table players in schema controls\n",
      "2023-07-20 12:58:02,900 - INFO - create table player_stats in schema controls\n",
      "2023-07-20 12:58:20,525 - INFO - create table adv_stats_def in schema controls\n",
      "2023-07-20 12:58:20,930 - INFO - create table adv_stats_pass in schema controls\n",
      "2023-07-20 12:58:20,985 - INFO - create table adv_stats_rec in schema controls\n",
      "2023-07-20 12:58:21,182 - INFO - create table adv_stats_rush in schema controls\n",
      "2023-07-20 12:58:21,291 - INFO - create table nextgen_pass in schema controls\n",
      "2023-07-20 12:58:21,646 - INFO - create table nextgen_rec in schema controls\n",
      "2023-07-20 12:58:22,336 - INFO - create table nextgen_rush in schema controls\n"
     ]
    }
   ],
   "source": [
    "create_nfl_database()"
   ],
   "metadata": {
    "collapsed": false,
    "ExecuteTime": {
     "end_time": "2023-07-20T19:58:23.120484Z",
     "start_time": "2023-07-20T19:49:21.080462Z"
    }
   }
  },
  {
   "cell_type": "markdown",
   "source": [
    "<div style=\"border: 1px solid rgba(147, 112, 219, 0.4); margin: 1px 0;\"></div>"
   ],
   "metadata": {
    "collapsed": false
   }
  },
  {
   "cell_type": "markdown",
   "source": [],
   "metadata": {
    "collapsed": false
   }
  },
  {
   "cell_type": "markdown",
   "source": [
    "<div style=\"background-color: teal; padding: 10px;\">\n",
    "    <span style=\"color: white;\">prepare data for team/week win/loss experiment</span>\n",
    "</div>\n",
    "\n",
    "Our goal is to use the nfl dimensions we have created to prepare data for our a team/week experiment\n",
    "\n",
    "The team_week experiment aims to select the best features in the nflverse data to predict win/loss\n",
    "\n",
    "The expectations is not that we can really predict win/loss any better than current statistical approaches, but to experiment with potentials for ML\n",
    "\n",
    "Normally we will run this from a python job 'src.nfl_main_job.py' but for demo purposes we'll run these here\n"
   ],
   "metadata": {
    "collapsed": false
   }
  },
  {
   "cell_type": "markdown",
   "source": [
    "### <font color=\"#9370DB\">load to database</font>\n",
    "\n",
    "<font color=#9370DB>\n",
    "\n",
    "In this step we use SQL queries to pull play actions, events and statistics from the nfl database\n",
    "\n",
    "We are lagging and leading to fill incomplete data in the original dataset\n",
    "\n",
    "We are merging all statistics into defense and offense datasets so they can be attributed to specific teams\n",
    "\n",
    "for example, for the Ravens (BAL) vs Jets (NYJ) in week 1 of 2022 we want separate sets for BAL and NYJ - so each team has its own stats\n",
    "\n",
    "We are aggregating up to the Season, Week, Team level for this application\n",
    "\n",
    "We can concatenate available statistics, which are also at the Season, Week, Team level\n",
    "\n",
    "finally, we create play_action, offense and defense datasets in our data directory and optionally back to the database\n",
    "\n",
    "<font/>\n"
   ],
   "metadata": {
    "collapsed": false
   }
  },
  {
   "cell_type": "code",
   "execution_count": 6,
   "outputs": [
    {
     "name": "stderr",
     "output_type": "stream",
     "text": [
      "2023-07-20 12:58:23,122 - INFO - Build a 'control' dataset with all seasons and weeks...\n",
      "2023-07-20 12:58:23,727 - INFO - query and modify play actions data ...\n",
      "2023-07-20 12:58:27,145 - INFO - double checking play actions before save...\n",
      "2023-07-20 12:58:27,166 - INFO - query and modify game info data ...\n",
      "2023-07-20 12:58:27,196 - INFO - query and modify next gen passing data ...\n",
      "2023-07-20 12:58:27,233 - INFO - query and modify next gen rushing data ...\n",
      "2023-07-20 12:58:27,253 - INFO - query and modify play-by-play player events ...\n",
      "2023-07-20 12:58:31,676 - INFO - query defense player_stats data ...\n",
      "2023-07-20 12:58:31,822 - INFO - query offense player_stats data ...\n",
      "2023-07-20 12:58:31,986 - INFO - back and forward fill ngs_air_power metrics by week ...\n",
      "2023-07-20 12:58:32,002 - INFO - back and forward fill ngs_ground_power metrics by week ...\n",
      "2023-07-20 12:58:32,012 - INFO - back and forward fill pbp_events metrics by week ...\n",
      "2023-07-20 12:58:32,020 - INFO - back and forward fill defense_stats metrics by week ...\n",
      "2023-07-20 12:58:32,033 - INFO - back and forward fill possession_stats metrics by week ...\n",
      "2023-07-20 12:58:32,056 - INFO - back and forward fill ngs_air_power metrics by week ...\n",
      "2023-07-20 12:58:32,072 - INFO - merge offense events info into a single offense stats dataset...\n",
      "2023-07-20 12:58:32,076 - INFO - possession_stats before: (3961, 28), after: (3961, 54)\n",
      "2023-07-20 12:58:32,080 - INFO - offense_shape before: (3961, 28), after : (3812, 62)\n",
      "2023-07-20 12:58:32,084 - INFO - merge defense events info into a single defense stats dataset...\n",
      "2023-07-20 12:58:32,087 - INFO - defense shape before: (3961, 13), after: (3961, 19)\n",
      "2023-07-20 12:58:32,090 - INFO - defense_stats before: (3961, 13), after game_info: (3812, 27) \n",
      "2023-07-20 12:58:32,094 - INFO - save play action and merged offense and defense stats ...\n",
      "2023-07-20 12:58:32,094 - INFO - writing file tmp_weekly_offense\n",
      "2023-07-20 12:58:32,220 - INFO - writing file tmp_weekly_defense\n",
      "2023-07-20 12:58:32,265 - INFO - writing file tmp_weekly_play_actions\n"
     ]
    },
    {
     "name": "stdout",
     "output_type": "stream",
     "text": [
      "ok\n",
      "ok\n"
     ]
    }
   ],
   "source": [
    "prepare_team_week_dataset(store_to_db=False)"
   ],
   "metadata": {
    "collapsed": false,
    "ExecuteTime": {
     "end_time": "2023-07-20T19:58:32.889049Z",
     "start_time": "2023-07-20T19:58:23.123620Z"
    }
   }
  },
  {
   "cell_type": "markdown",
   "source": [],
   "metadata": {
    "collapsed": false
   }
  },
  {
   "cell_type": "markdown",
   "source": [
    "<div style=\"border: 1px solid rgba(147, 112, 219, 0.4); margin: 1px 0;\"></div>"
   ],
   "metadata": {
    "collapsed": false
   }
  },
  {
   "cell_type": "markdown",
   "source": [
    "### <font color=\"#9370DB\">feature selection</font>\n",
    "\n",
    "<font color=#9370DB>\n",
    "\n",
    "In this step we use the weekly datasets we've created to find the best feature to predict game win/loss\n",
    "\n",
    "We perform some data prep, including scaling, categorical encoding\n",
    "\n",
    "We perform sklearn correlations, generally and specifically for the target win/loss column\n",
    "\n",
    "After some automl experiments, we use xgboost to determine the best features for predicting win/loss\n",
    "\n",
    "We separate the top features for defense and offense and calculate a weighted average of all to get a single defense_power and offense_power score\n",
    "\n",
    "We perform a sanity check to validate that the power score columns learn as well as the individual stats, and has the ability to learn\n",
    "\n",
    "<font/>\n"
   ],
   "metadata": {
    "collapsed": false
   }
  },
  {
   "cell_type": "markdown",
   "source": [],
   "metadata": {
    "collapsed": false
   }
  },
  {
   "cell_type": "code",
   "execution_count": 7,
   "outputs": [
    {
     "name": "stderr",
     "output_type": "stream",
     "text": [
      "2023-07-20 12:58:32,888 - INFO - SelectNFLFeatures\n",
      "2023-07-20 12:58:32,889 - INFO - load tmp_weekly_offense\n",
      "2023-07-20 12:58:32,897 - INFO - prepare a features dataset\n",
      "2023-07-20 12:58:32,897 - INFO - encode the target win/loss column\n",
      "2023-07-20 12:58:32,898 - INFO - create a features dataframe for feature selection ...\n",
      "2023-07-20 12:58:32,899 - INFO - scale all features  ...\n",
      "2023-07-20 12:58:33,726 - INFO - get percentage contribution of offensive and defensive features\n",
      "2023-07-20 12:58:33,729 - INFO - calculate weighted average of offensive and defensive features\n",
      "2023-07-20 12:58:33,737 - INFO - Writing to tmp_offense_week_features\n",
      "2023-07-20 12:58:33,758 - INFO - SelectNFLFeatures\n",
      "2023-07-20 12:58:33,758 - INFO - load tmp_weekly_defense\n",
      "2023-07-20 12:58:33,763 - INFO - prepare a features dataset\n",
      "2023-07-20 12:58:33,763 - INFO - encode the target win/loss column\n",
      "2023-07-20 12:58:33,764 - INFO - create a features dataframe for feature selection ...\n",
      "2023-07-20 12:58:33,764 - INFO - scale all features  ...\n",
      "2023-07-20 12:58:34,495 - INFO - get percentage contribution of offensive and defensive features\n",
      "2023-07-20 12:58:34,497 - INFO - calculate weighted average of offensive and defensive features\n",
      "2023-07-20 12:58:34,502 - INFO - Writing to tmp_defense_week_features\n"
     ]
    }
   ],
   "source": [
    "perform_team_week_feature_selection()"
   ],
   "metadata": {
    "collapsed": false,
    "ExecuteTime": {
     "end_time": "2023-07-20T19:58:34.532904Z",
     "start_time": "2023-07-20T19:58:32.889243Z"
    }
   }
  },
  {
   "cell_type": "markdown",
   "source": [
    "<div style=\"border: 1px solid rgba(147, 112, 219, 0.4); margin: 1px 0;\"></div>"
   ],
   "metadata": {
    "collapsed": false
   }
  },
  {
   "cell_type": "markdown",
   "source": [
    "### <font color=\"#9370DB\">merge play action and performance features into play action</font>\n",
    "\n",
    "<font color=#9370DB>\n",
    "\n",
    "In this step we merge defense and offense data back into play_action data\n",
    "\n",
    "<br>\n",
    "\n",
    "For example:\n",
    "\n",
    "\n",
    "Taking the Ravens (BAL) vs Jets (NYJ) game in in week 1 of 2022\n",
    "\n",
    "for each drive the offense and defense changes:  BAL is offense in drive 1, then defense in drive 2\n",
    "\n",
    "we create two different slices for that single game - one focused on BAL and the other on NYJ\n",
    "\n",
    "we then fold in the offense and defense stats for each drive from our defense and offense datasets\n",
    "\n",
    "<br>\n",
    "\n",
    "* for drive 1 where BAL is playing offense:\n",
    "\n",
    "    - the offense's offense_power (offense_op) will come from BAL's offense stats\n",
    "    - the offense's defense_power (offense_dp) will come from BAL's defense stats\n",
    "    - the defense's offense_power (defense_op) will come from NYJ's offense stats\n",
    "    - the defense's defense_power (defense_dp) will come from NYJ's defense stats\n",
    "\n",
    "\n",
    "<font/>"
   ],
   "metadata": {
    "collapsed": false
   }
  },
  {
   "cell_type": "code",
   "execution_count": 8,
   "outputs": [
    {
     "name": "stderr",
     "output_type": "stream",
     "text": [
      "2023-07-20 12:58:34,529 - INFO - loading weekly features into a single game dataset...\n",
      "2023-07-20 12:58:34,529 - INFO - Reading from tmp_weekly_play_actions\n",
      "2023-07-20 12:58:34,655 - INFO - Reading from tmp_offense_week_features\n",
      "2023-07-20 12:58:34,659 - INFO - Reading from tmp_defense_week_features\n",
      "2023-07-20 12:58:34,662 - INFO - merge stats into play_actions...\n",
      "2023-07-20 12:58:35,515 - INFO - merging offense_OP...\n",
      "2023-07-20 12:58:36,508 - INFO - merging offense_DP...\n",
      "2023-07-20 12:58:37,623 - INFO - merging defense_OP...\n",
      "2023-07-20 12:58:38,359 - INFO - merging defense_DP...\n",
      "2023-07-20 12:58:38,386 - INFO - aggregate game dataset weekly stats by season, week, team...\n",
      "2023-07-20 12:58:38,654 - INFO - writing file weekly_game_stats\n"
     ]
    }
   ],
   "source": [
    "merge_team_week_features()"
   ],
   "metadata": {
    "collapsed": false,
    "ExecuteTime": {
     "end_time": "2023-07-20T19:58:38.683658Z",
     "start_time": "2023-07-20T19:58:34.529900Z"
    }
   }
  },
  {
   "cell_type": "markdown",
   "source": [
    "<div style=\"border: 1px solid rgba(147, 112, 219, 0.4); margin: 1px 0;\"></div>"
   ],
   "metadata": {
    "collapsed": false
   }
  },
  {
   "cell_type": "code",
   "execution_count": 8,
   "outputs": [],
   "source": [],
   "metadata": {
    "collapsed": false,
    "ExecuteTime": {
     "end_time": "2023-07-20T19:58:38.691068Z",
     "start_time": "2023-07-20T19:58:38.684997Z"
    }
   }
  }
 ],
 "metadata": {
  "kernelspec": {
   "display_name": "Python 3",
   "language": "python",
   "name": "python3"
  },
  "language_info": {
   "codemirror_mode": {
    "name": "ipython",
    "version": 2
   },
   "file_extension": ".py",
   "mimetype": "text/x-python",
   "name": "python",
   "nbconvert_exporter": "python",
   "pygments_lexer": "ipython2",
   "version": "2.7.6"
  }
 },
 "nbformat": 4,
 "nbformat_minor": 0
}
