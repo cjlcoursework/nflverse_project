{
 "cells": [
  {
   "cell_type": "markdown",
   "source": [
    "### Goals\n",
    "- Ingest and wrangle nflverse data\n",
    "\n",
    "### Steps\n",
    "- Download fresh data from nflverse and save to disk\n",
    "- Split data into smaller dimensions .e.g game info vs play info vs play analytics, etc.\n",
    "- Store data to SQL for further processing"
   ],
   "metadata": {
    "collapsed": false
   }
  },
  {
   "cell_type": "markdown",
   "source": [
    "# <font color=teal>imports</font>\n",
    "Most processing is performed in python code, and there's a python module to do everything here without manual"
   ],
   "metadata": {
    "collapsed": false
   }
  },
  {
   "cell_type": "code",
   "execution_count": 1,
   "outputs": [
    {
     "name": "stderr",
     "output_type": "stream",
     "text": [
      "Using `tqdm.autonotebook.tqdm` in notebook mode. Use `tqdm.tqdm` instead to force console mode (e.g. in jupyter console)\n"
     ]
    }
   ],
   "source": [
    "import logging\n",
    "\n",
    "from src import configs\n",
    "import os\n",
    "import sys\n",
    "sys.path.append(os.path.abspath(\"../src\"))\n",
    "\n"
   ],
   "metadata": {
    "collapsed": false,
    "ExecuteTime": {
     "end_time": "2023-07-17T00:56:42.730611Z",
     "start_time": "2023-07-17T00:56:38.406343Z"
    }
   }
  },
  {
   "cell_type": "code",
   "execution_count": 2,
   "metadata": {
    "collapsed": true,
    "ExecuteTime": {
     "end_time": "2023-07-17T00:56:42.737183Z",
     "start_time": "2023-07-17T00:56:42.731050Z"
    }
   },
   "outputs": [],
   "source": [
    "from src.nflverse_transform_job import load_files\n",
    "from src.pbp_fact import transform_pbp\n",
    "from src.nflverse_reader_job import URLReader\n",
    "from src.pbp_participation import transform_pbp_participation\n",
    "from src.player_stats import transform_player_stats, merge_injuries\n",
    "from src.player_injuries import prep_player_injuries\n",
    "from src.player_stats import transform_players\n",
    "from src.db_utils import load_dims_to_db\n"
   ]
  },
  {
   "cell_type": "markdown",
   "source": [
    "# <font color=teal>housekeeping</font>"
   ],
   "metadata": {
    "collapsed": false
   }
  },
  {
   "cell_type": "code",
   "execution_count": 3,
   "outputs": [],
   "source": [
    "LOAD_TO_DB = True\n",
    "database_schema = 'controls'\n",
    "\n",
    "# Get the logger\n",
    "logger = configs.configure_logging(\"pbp_logger\")\n",
    "logger.setLevel(logging.INFO)"
   ],
   "metadata": {
    "collapsed": false,
    "ExecuteTime": {
     "end_time": "2023-07-17T00:56:42.739279Z",
     "start_time": "2023-07-17T00:56:42.737870Z"
    }
   }
  },
  {
   "cell_type": "markdown",
   "source": [],
   "metadata": {
    "collapsed": false
   }
  },
  {
   "cell_type": "markdown",
   "source": [
    "---\n",
    "\n",
    "# <font color=teal>load and transform play by play datasets</font>"
   ],
   "metadata": {
    "collapsed": false
   }
  },
  {
   "cell_type": "markdown",
   "source": [
    "### <font color=\"#9370DB\">load</font>"
   ],
   "metadata": {
    "collapsed": false
   }
  },
  {
   "cell_type": "code",
   "execution_count": 4,
   "outputs": [
    {
     "name": "stderr",
     "output_type": "stream",
     "text": [
      "2023-07-16 17:56:42,739 - INFO - Reading all files from pbp\n",
      "2023-07-16 17:56:42,741 - INFO -   + Reading pbp_2019.parquet\n",
      "2023-07-16 17:56:42,884 - INFO -   + Reading pbp_2018.parquet\n",
      "2023-07-16 17:56:42,987 - INFO -   + Reading pbp_2022.parquet\n",
      "2023-07-16 17:56:43,092 - INFO -   + Reading pbp_2021.parquet\n",
      "2023-07-16 17:56:43,197 - INFO -   + Reading pbp_2017.parquet\n",
      "2023-07-16 17:56:43,290 - INFO -   + Reading pbp_2016.parquet\n",
      "2023-07-16 17:56:43,387 - INFO -   + Reading pbp_2020.parquet\n"
     ]
    },
    {
     "name": "stdout",
     "output_type": "stream",
     "text": [
      "CPU times: user 2.34 s, sys: 619 ms, total: 2.96 s\n",
      "Wall time: 2.01 s\n"
     ]
    }
   ],
   "source": [
    "\n",
    "%%time\n",
    "pbp = load_files(data_subdir='pbp')\n"
   ],
   "metadata": {
    "collapsed": false,
    "ExecuteTime": {
     "end_time": "2023-07-17T00:56:44.757641Z",
     "start_time": "2023-07-17T00:56:42.740282Z"
    }
   }
  },
  {
   "cell_type": "markdown",
   "source": [
    "### <font color=\"#9370DB\">transform</font>"
   ],
   "metadata": {
    "collapsed": false
   }
  },
  {
   "cell_type": "code",
   "execution_count": 5,
   "outputs": [
    {
     "name": "stderr",
     "output_type": "stream",
     "text": [
      "2023-07-16 17:56:46,258 - INFO - Impute columns to 0\n",
      "2023-07-16 17:56:46,423 - INFO - impute non binary pbp columns ...\n",
      "2023-07-16 17:56:46,976 - INFO - Impute columns to 0\n",
      "2023-07-16 17:56:47,612 - INFO - Impute columns to 0:00\n",
      "2023-07-16 17:56:48,930 - INFO - Impute columns to NA\n",
      "2023-07-16 17:56:54,356 - INFO - moving play_id to play_counter, and creating a joinable play_id key\n",
      "2023-07-16 17:56:55,104 - INFO - Conform key actions like pass, rush, kickoff, etc. and add a single category field called actions... \n",
      "2023-07-16 17:57:06,734 - INFO - Validate actions dimension ...\n",
      "2023-07-16 17:57:06,996 - INFO - Creating new drive dimension...\n",
      "2023-07-16 17:57:07,063 - INFO - Validate drive_df dimension ...\n",
      "2023-07-16 17:57:07,286 - INFO - Creating new situations dimension...\n",
      "2023-07-16 17:57:07,349 - INFO - Validate situation_df dimension ...\n",
      "2023-07-16 17:57:07,552 - INFO - Creating new metrics dimension...\n",
      "2023-07-16 17:57:07,597 - INFO - Validate play_metrics_df dimension ...\n",
      "2023-07-16 17:57:07,688 - INFO - Creating new game dimension...\n",
      "2023-07-16 17:57:08,370 - INFO - Validate games dimension ...\n",
      "2023-07-16 17:57:08,373 - INFO - Create stats for pbp player involvement by play ...\n",
      "2023-07-16 17:57:14,447 - INFO - Creating new analytics dimension...\n"
     ]
    },
    {
     "name": "stdout",
     "output_type": "stream",
     "text": [
      "CPU times: user 22.4 s, sys: 6.45 s, total: 28.9 s\n",
      "Wall time: 29.8 s\n"
     ]
    }
   ],
   "source": [
    "\n",
    "%%time\n",
    "datasets = transform_pbp(pbp)"
   ],
   "metadata": {
    "collapsed": false,
    "ExecuteTime": {
     "end_time": "2023-07-17T00:57:14.545820Z",
     "start_time": "2023-07-17T00:56:44.757849Z"
    }
   }
  },
  {
   "cell_type": "markdown",
   "source": [],
   "metadata": {
    "collapsed": false
   }
  },
  {
   "cell_type": "markdown",
   "source": [
    "---\n",
    "\n",
    "# <font color=teal>load and transform play by play participation datasets</font>"
   ],
   "metadata": {
    "collapsed": false
   }
  },
  {
   "cell_type": "markdown",
   "source": [
    "### <font color=\"#9370DB\">load</font>"
   ],
   "metadata": {
    "collapsed": false
   }
  },
  {
   "cell_type": "code",
   "execution_count": 6,
   "outputs": [
    {
     "name": "stderr",
     "output_type": "stream",
     "text": [
      "2023-07-16 17:57:14,547 - INFO - Reading all files from pbp-participation\n",
      "2023-07-16 17:57:14,548 - INFO -   + Reading pbp-participation_2019.parquet\n",
      "2023-07-16 17:57:14,577 - INFO -   + Reading pbp-participation_2018.parquet\n",
      "2023-07-16 17:57:14,599 - INFO -   + Reading pbp-participation_2017.parquet\n",
      "2023-07-16 17:57:14,620 - INFO -   + Reading pbp-participation_2021.parquet\n",
      "2023-07-16 17:57:14,643 - INFO -   + Reading pbp-participation_2020.parquet\n",
      "2023-07-16 17:57:14,662 - INFO -   + Reading pbp-participation_2016.parquet\n",
      "2023-07-16 17:57:14,682 - INFO -   + Reading pbp-participation_2022.parquet\n"
     ]
    },
    {
     "name": "stdout",
     "output_type": "stream",
     "text": [
      "CPU times: user 252 ms, sys: 93.6 ms, total: 346 ms\n",
      "Wall time: 248 ms\n"
     ]
    }
   ],
   "source": [
    "%%time\n",
    "pbp_participation_df = load_files('pbp-participation')\n"
   ],
   "metadata": {
    "collapsed": false,
    "ExecuteTime": {
     "end_time": "2023-07-17T00:57:14.798552Z",
     "start_time": "2023-07-17T00:57:14.547057Z"
    }
   }
  },
  {
   "cell_type": "markdown",
   "source": [
    "### <font color=\"#9370DB\">transform</font>"
   ],
   "metadata": {
    "collapsed": false
   }
  },
  {
   "cell_type": "code",
   "execution_count": 7,
   "outputs": [
    {
     "name": "stderr",
     "output_type": "stream",
     "text": [
      "2023-07-16 17:57:14,798 - INFO - pbp_participation:  move play_id to a play_count column and create a unique play_id that can be used in joins...\n",
      "2023-07-16 17:57:15,023 - INFO - Calculating defense and offense team names by player and play...\n",
      "2023-07-16 17:57:17,549 - INFO - Exploding offensive players to their own dataset...\n",
      "2023-07-16 17:57:19,011 - INFO - Exploding defense_players to their own dataset...\n",
      "2023-07-16 17:57:27,167 - WARNING - combining offense and defense players - counts are incorrect 6903461 != 6902991\n"
     ]
    },
    {
     "name": "stdout",
     "output_type": "stream",
     "text": [
      "CPU times: user 14.4 s, sys: 1.71 s, total: 16.1 s\n",
      "Wall time: 16.2 s\n"
     ]
    }
   ],
   "source": [
    "%%time\n",
    "player_df, player_events_df = transform_pbp_participation(\n",
    "    participation_df=pbp_participation_df,\n",
    "    player_events=datasets['player_events'])\n",
    "\n",
    "datasets.update({\n",
    "    'player_participation': player_df,\n",
    "    'player_events': player_events_df,\n",
    "})"
   ],
   "metadata": {
    "collapsed": false,
    "ExecuteTime": {
     "end_time": "2023-07-17T00:57:30.989435Z",
     "start_time": "2023-07-17T00:57:14.799323Z"
    }
   }
  },
  {
   "cell_type": "markdown",
   "source": [],
   "metadata": {
    "collapsed": false
   }
  },
  {
   "cell_type": "markdown",
   "source": [
    "---\n",
    "\n",
    "# <font color=teal>transform player injuries</font>"
   ],
   "metadata": {
    "collapsed": false
   }
  },
  {
   "cell_type": "markdown",
   "source": [
    "### <font color=\"#9370DB\">load</font>"
   ],
   "metadata": {
    "collapsed": false
   }
  },
  {
   "cell_type": "code",
   "execution_count": 8,
   "outputs": [
    {
     "name": "stderr",
     "output_type": "stream",
     "text": [
      "2023-07-16 17:57:30,987 - INFO - Reading all files from injuries\n",
      "2023-07-16 17:57:30,989 - INFO -   + Reading injuries_2017.parquet\n",
      "2023-07-16 17:57:30,993 - INFO -   + Reading injuries_2021.parquet\n",
      "2023-07-16 17:57:30,998 - INFO -   + Reading injuries_2020.parquet\n",
      "2023-07-16 17:57:31,002 - INFO -   + Reading injuries_2016.parquet\n",
      "2023-07-16 17:57:31,006 - INFO -   + Reading injuries_2022.parquet\n",
      "2023-07-16 17:57:31,010 - INFO -   + Reading injuries_2019.parquet\n",
      "2023-07-16 17:57:31,014 - INFO -   + Reading injuries_2018.parquet\n"
     ]
    },
    {
     "name": "stdout",
     "output_type": "stream",
     "text": [
      "CPU times: user 43.8 ms, sys: 8.91 ms, total: 52.7 ms\n",
      "Wall time: 39.7 ms\n"
     ]
    }
   ],
   "source": [
    "%%time\n",
    "injuries_df = load_files('injuries')"
   ],
   "metadata": {
    "collapsed": false,
    "ExecuteTime": {
     "end_time": "2023-07-17T00:57:31.031058Z",
     "start_time": "2023-07-17T00:57:30.988603Z"
    }
   }
  },
  {
   "cell_type": "markdown",
   "source": [
    "### <font color=\"#9370DB\">transform</font>"
   ],
   "metadata": {
    "collapsed": false
   }
  },
  {
   "cell_type": "code",
   "execution_count": 9,
   "outputs": [
    {
     "name": "stderr",
     "output_type": "stream",
     "text": [
      "2023-07-16 17:57:31,030 - INFO - Prep injury data...\n",
      "2023-07-16 17:57:31,030 - INFO - Conforming names (e.g. gsis_id -> player_id)\n",
      "2023-07-16 17:57:31,039 - INFO - Merge sparse injury columns\n",
      "2023-07-16 17:57:31,041 - INFO - Get best values for null report_statuses...\n",
      "2023-07-16 17:57:31,104 - INFO - check that all positions are correct...\n"
     ]
    },
    {
     "name": "stdout",
     "output_type": "stream",
     "text": [
      "CPU times: user 75.6 ms, sys: 3.95 ms, total: 79.6 ms\n",
      "Wall time: 81.6 ms\n"
     ]
    }
   ],
   "source": [
    "%%time\n",
    "injuries_df = prep_player_injuries(injuries_df)"
   ],
   "metadata": {
    "collapsed": false,
    "ExecuteTime": {
     "end_time": "2023-07-17T00:57:31.114163Z",
     "start_time": "2023-07-17T00:57:31.030818Z"
    }
   }
  },
  {
   "cell_type": "markdown",
   "source": [],
   "metadata": {
    "collapsed": false
   }
  },
  {
   "cell_type": "markdown",
   "source": [
    "---\n",
    "\n",
    "# <font color=teal>transform player stats</font>"
   ],
   "metadata": {
    "collapsed": false
   }
  },
  {
   "cell_type": "code",
   "execution_count": 10,
   "outputs": [
    {
     "name": "stderr",
     "output_type": "stream",
     "text": [
      "2023-07-16 17:57:31,114 - INFO - Reading all files from player-stats\n",
      "2023-07-16 17:57:31,115 - INFO -   + Reading player-stats.parquet\n",
      "2023-07-16 17:57:31,152 - INFO - fix specific player_stats: <function player_stats_fixes at 0x2c4601f70>..\n",
      "2023-07-16 17:57:31,223 - INFO - replace empty position_groups with position info...\n",
      "2023-07-16 17:57:31,237 - INFO - replace empty player_name with player_display_name info...\n",
      "2023-07-16 17:57:31,249 - INFO - replace empty headshot_url with 'none'...\n",
      "2023-07-16 17:57:31,259 - INFO - fillna(0) for all binary columns...\n",
      "2023-07-16 17:57:31,259 - INFO - Impute columns to 0\n",
      "2023-07-16 17:57:31,452 - WARNING - After merge player_stats count changed - went from 124081 to 124083\n"
     ]
    },
    {
     "name": "stdout",
     "output_type": "stream",
     "text": [
      "CPU times: user 331 ms, sys: 62.3 ms, total: 394 ms\n",
      "Wall time: 343 ms\n"
     ]
    }
   ],
   "source": [
    "%%time\n",
    "stats_df = load_files('player-stats')\n",
    "stats_df = transform_player_stats(stats_df)\n",
    "stats_df = merge_injuries(player_stats=stats_df, player_injuries=injuries_df)"
   ],
   "metadata": {
    "collapsed": false,
    "ExecuteTime": {
     "end_time": "2023-07-17T00:57:31.460041Z",
     "start_time": "2023-07-17T00:57:31.115017Z"
    }
   }
  },
  {
   "cell_type": "markdown",
   "source": [],
   "metadata": {
    "collapsed": false
   }
  },
  {
   "cell_type": "markdown",
   "source": [
    "---\n",
    "\n",
    "# <font color=teal>direct loads </font>"
   ],
   "metadata": {
    "collapsed": false
   }
  },
  {
   "cell_type": "markdown",
   "source": [
    "### <font color=\"#9370DB\">adv stats</font>"
   ],
   "metadata": {
    "collapsed": false
   }
  },
  {
   "cell_type": "code",
   "execution_count": 11,
   "outputs": [
    {
     "name": "stderr",
     "output_type": "stream",
     "text": [
      "2023-07-16 17:57:31,460 - INFO - Reading all files from advstats-season-def\n",
      "2023-07-16 17:57:31,461 - INFO -   + Reading advstats-season-def.parquet\n",
      "2023-07-16 17:57:31,466 - INFO - Reading all files from advstats-season-pass\n",
      "2023-07-16 17:57:31,467 - INFO -   + Reading advstats-season-pass.parquet\n",
      "2023-07-16 17:57:31,470 - INFO - Reading all files from advstats-season-rec\n",
      "2023-07-16 17:57:31,470 - INFO -   + Reading advstats-season-rec.parquet\n",
      "2023-07-16 17:57:31,474 - INFO - Reading all files from advstats-season-rush\n",
      "2023-07-16 17:57:31,475 - INFO -   + Reading advstats-season-rush.parquet\n"
     ]
    },
    {
     "name": "stdout",
     "output_type": "stream",
     "text": [
      "CPU times: user 17.9 ms, sys: 5.3 ms, total: 23.2 ms\n",
      "Wall time: 16.7 ms\n"
     ]
    }
   ],
   "source": [
    "%%time\n",
    "\n",
    "advstats_def_df = load_files('advstats-season-def')\n",
    "advstats_pass_df = load_files('advstats-season-pass')\n",
    "advstats_rec_df = load_files('advstats-season-rec')\n",
    "advstats_rush_df = load_files('advstats-season-rush')\n"
   ],
   "metadata": {
    "collapsed": false,
    "ExecuteTime": {
     "end_time": "2023-07-17T00:57:31.507388Z",
     "start_time": "2023-07-17T00:57:31.460195Z"
    }
   }
  },
  {
   "cell_type": "markdown",
   "source": [
    "### <font color=\"#9370DB\">nextgen stats</font>"
   ],
   "metadata": {
    "collapsed": false
   }
  },
  {
   "cell_type": "code",
   "execution_count": 12,
   "outputs": [
    {
     "name": "stderr",
     "output_type": "stream",
     "text": [
      "2023-07-16 17:57:31,480 - INFO - Reading all files from nextgen-passing\n",
      "2023-07-16 17:57:31,481 - INFO -   + Reading nextgen-passing_2017.csv.gz\n",
      "2023-07-16 17:57:31,485 - INFO -   + Reading nextgen-passing_2021.csv.gz\n",
      "2023-07-16 17:57:31,491 - INFO -   + Reading nextgen-passing_2019.csv.gz\n",
      "2023-07-16 17:57:31,495 - INFO -   + Reading nextgen-passing_2020.csv.gz\n",
      "2023-07-16 17:57:31,499 - INFO -   + Reading nextgen-passing_2016.csv.gz\n",
      "2023-07-16 17:57:31,503 - INFO -   + Reading nextgen-passing_2022.csv.gz\n",
      "2023-07-16 17:57:31,507 - INFO -   + Reading nextgen-passing_2018.csv.gz\n"
     ]
    },
    {
     "name": "stdout",
     "output_type": "stream",
     "text": [
      "CPU times: user 25.9 ms, sys: 4.4 ms, total: 30.3 ms\n",
      "Wall time: 32.9 ms\n"
     ]
    }
   ],
   "source": [
    "%%time\n",
    "next_pass_df = load_files('nextgen-passing')\n"
   ],
   "metadata": {
    "collapsed": false,
    "ExecuteTime": {
     "end_time": "2023-07-17T00:57:31.515616Z",
     "start_time": "2023-07-17T00:57:31.480720Z"
    }
   }
  },
  {
   "cell_type": "code",
   "execution_count": 13,
   "outputs": [
    {
     "name": "stderr",
     "output_type": "stream",
     "text": [
      "2023-07-16 17:57:31,515 - INFO - Reading all files from nextgen-receiving\n",
      "2023-07-16 17:57:31,516 - INFO -   + Reading nextgen-receiving_2021.csv.gz\n",
      "2023-07-16 17:57:31,522 - INFO -   + Reading nextgen-receiving_2017.csv.gz\n",
      "2023-07-16 17:57:31,529 - INFO -   + Reading nextgen-receiving_2019.csv.gz\n",
      "2023-07-16 17:57:31,535 - INFO -   + Reading nextgen-receiving_2016.csv.gz\n",
      "2023-07-16 17:57:31,541 - INFO -   + Reading nextgen-receiving_2020.csv.gz\n",
      "2023-07-16 17:57:31,548 - INFO -   + Reading nextgen-receiving_2018.csv.gz\n",
      "2023-07-16 17:57:31,554 - INFO -   + Reading nextgen-receiving_2022.csv.gz\n"
     ]
    },
    {
     "name": "stdout",
     "output_type": "stream",
     "text": [
      "CPU times: user 38.1 ms, sys: 7.13 ms, total: 45.3 ms\n",
      "Wall time: 47.6 ms\n"
     ]
    }
   ],
   "source": [
    "%%time\n",
    "next_rec_df = load_files('nextgen-receiving')\n"
   ],
   "metadata": {
    "collapsed": false,
    "ExecuteTime": {
     "end_time": "2023-07-17T00:57:31.568737Z",
     "start_time": "2023-07-17T00:57:31.516251Z"
    }
   }
  },
  {
   "cell_type": "code",
   "execution_count": 14,
   "outputs": [
    {
     "name": "stderr",
     "output_type": "stream",
     "text": [
      "2023-07-16 17:57:31,568 - INFO - Reading all files from nextgen-rushing\n",
      "2023-07-16 17:57:31,569 - INFO -   + Reading nextgen-rushing_2018.csv.gz\n",
      "2023-07-16 17:57:31,573 - INFO -   + Reading nextgen-rushing_2022.csv.gz\n",
      "2023-07-16 17:57:31,576 - INFO -   + Reading nextgen-rushing_2016.csv.gz\n",
      "2023-07-16 17:57:31,579 - INFO -   + Reading nextgen-rushing_2020.csv.gz\n",
      "2023-07-16 17:57:31,582 - INFO -   + Reading nextgen-rushing_2019.csv.gz\n",
      "2023-07-16 17:57:31,585 - INFO -   + Reading nextgen-rushing_2021.csv.gz\n",
      "2023-07-16 17:57:31,588 - INFO -   + Reading nextgen-rushing_2017.csv.gz\n"
     ]
    },
    {
     "name": "stdout",
     "output_type": "stream",
     "text": [
      "CPU times: user 19.9 ms, sys: 3.33 ms, total: 23.2 ms\n",
      "Wall time: 24.1 ms\n"
     ]
    }
   ],
   "source": [
    "%%time\n",
    "next_rush_df = load_files('nextgen-rushing')"
   ],
   "metadata": {
    "collapsed": false,
    "ExecuteTime": {
     "end_time": "2023-07-17T00:57:31.595141Z",
     "start_time": "2023-07-17T00:57:31.569218Z"
    }
   }
  },
  {
   "cell_type": "markdown",
   "source": [
    "### <font color=\"#9370DB\">players</font>"
   ],
   "metadata": {
    "collapsed": false
   }
  },
  {
   "cell_type": "code",
   "execution_count": 15,
   "outputs": [
    {
     "name": "stderr",
     "output_type": "stream",
     "text": [
      "2023-07-16 17:57:31,606 - INFO - Reading all files from players\n",
      "2023-07-16 17:57:31,607 - INFO -   + Reading players.parquet\n",
      "2023-07-16 17:57:31,641 - INFO - Process players dataset...\n",
      "2023-07-16 17:57:31,642 - INFO - drop players without gsis_ids - they won't link to player_stats\n",
      "2023-07-16 17:57:31,657 - INFO - fill empty players status to 'NONE'\n",
      "2023-07-16 17:57:31,663 - INFO - rename gsis_id to player_id...\n"
     ]
    },
    {
     "name": "stdout",
     "output_type": "stream",
     "text": [
      "CPU times: user 56.2 ms, sys: 9.32 ms, total: 65.5 ms\n",
      "Wall time: 59.1 ms\n"
     ]
    }
   ],
   "source": [
    "%%time\n",
    "players_df = load_files('players')\n",
    "players_df = transform_players(players_df)"
   ],
   "metadata": {
    "collapsed": false,
    "ExecuteTime": {
     "end_time": "2023-07-17T00:57:31.668945Z",
     "start_time": "2023-07-17T00:57:31.595531Z"
    }
   }
  },
  {
   "cell_type": "markdown",
   "source": [
    "---\n",
    "\n",
    "# <font color=teal>store to database so we can perform some SQL operations</font>"
   ],
   "metadata": {
    "collapsed": false
   }
  },
  {
   "cell_type": "code",
   "execution_count": 16,
   "outputs": [],
   "source": [
    "def load_all_datasets_to_db(data: dict):\n",
    "    data['schema'] = database_schema\n",
    "    load_dims_to_db(data)\n"
   ],
   "metadata": {
    "collapsed": false,
    "ExecuteTime": {
     "end_time": "2023-07-17T00:57:31.671662Z",
     "start_time": "2023-07-17T00:57:31.669110Z"
    }
   }
  },
  {
   "cell_type": "code",
   "execution_count": 17,
   "outputs": [
    {
     "name": "stderr",
     "output_type": "stream",
     "text": [
      "2023-07-16 18:01:50,745 - INFO - create table play_actions in schema controls\n",
      "2023-07-16 18:02:30,364 - INFO - create table game_drive in schema controls\n",
      "2023-07-16 18:02:50,642 - INFO - create table play_analytics in schema controls\n",
      "2023-07-16 18:04:07,652 - INFO - create table play_situations in schema controls\n",
      "2023-07-16 18:04:35,098 - INFO - create table play_metrics in schema controls\n",
      "2023-07-16 18:04:56,809 - INFO - create table player_events in schema controls\n",
      "2023-07-16 18:05:06,916 - INFO - create table game_info in schema controls\n",
      "2023-07-16 18:05:07,060 - INFO - create table player_participation in schema controls\n",
      "2023-07-16 18:09:05,847 - INFO - create table players in schema controls\n",
      "2023-07-16 18:09:07,370 - INFO - create table player_stats in schema controls\n",
      "2023-07-16 18:09:23,297 - INFO - create table adv_stats_def in schema controls\n",
      "2023-07-16 18:09:23,690 - INFO - create table adv_stats_pass in schema controls\n",
      "2023-07-16 18:09:23,746 - INFO - create table adv_stats_rec in schema controls\n",
      "2023-07-16 18:09:23,938 - INFO - create table adv_stats_rush in schema controls\n",
      "2023-07-16 18:09:24,045 - INFO - create table nextgen_pass in schema controls\n",
      "2023-07-16 18:09:24,411 - INFO - create table nextgen_rec in schema controls\n",
      "2023-07-16 18:09:25,094 - INFO - create table nextgen_rush in schema controls\n"
     ]
    },
    {
     "name": "stdout",
     "output_type": "stream",
     "text": [
      "CPU times: user 3min 46s, sys: 54.3 s, total: 4min 40s\n",
      "Wall time: 7min 34s\n"
     ]
    }
   ],
   "source": [
    "%%time\n",
    "if LOAD_TO_DB:\n",
    "    datasets.update({\n",
    "        'players': players_df,\n",
    "        'player_stats': stats_df,\n",
    "        'adv_stats_def': advstats_def_df,\n",
    "        'adv_stats_pass': advstats_pass_df,\n",
    "        'adv_stats_rec': advstats_rec_df,\n",
    "        'adv_stats_rush': advstats_rush_df,\n",
    "        'nextgen_pass': next_pass_df,\n",
    "        'nextgen_rec': next_rec_df,\n",
    "        'nextgen_rush': next_rush_df\n",
    "    })\n",
    "    load_all_datasets_to_db(datasets)"
   ],
   "metadata": {
    "collapsed": false,
    "ExecuteTime": {
     "end_time": "2023-07-17T01:09:25.375484Z",
     "start_time": "2023-07-17T01:01:50.747179Z"
    }
   }
  },
  {
   "cell_type": "code",
   "execution_count": null,
   "outputs": [],
   "source": [],
   "metadata": {
    "collapsed": false
   }
  }
 ],
 "metadata": {
  "kernelspec": {
   "display_name": "Python 3",
   "language": "python",
   "name": "python3"
  },
  "language_info": {
   "codemirror_mode": {
    "name": "ipython",
    "version": 2
   },
   "file_extension": ".py",
   "mimetype": "text/x-python",
   "name": "python",
   "nbconvert_exporter": "python",
   "pygments_lexer": "ipython2",
   "version": "2.7.6"
  }
 },
 "nbformat": 4,
 "nbformat_minor": 0
}
