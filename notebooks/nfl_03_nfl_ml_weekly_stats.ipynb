{
 "cells": [
  {
   "cell_type": "markdown",
   "source": [
    "### Goal\n",
    "- prepare stats data for machine learning\n",
    "\n",
    "### Steps\n",
    "- : review dtypes,and prepare continuous numeric, discrete numeric, categorical, character and identity columns\n",
    "Input: nfl_weekly_stats.parquet\n",
    "Work:\n",
    "    - separate continuous numeric, discrete numeric, categorical, character and identity columns\n",
    "    - label encode\n",
    "    - merge all back together\n",
    "Output:\n",
    "    - nfl_ml_weekly_stats.parquet - cleaned, labeled data"
   ],
   "metadata": {
    "collapsed": false
   }
  },
  {
   "cell_type": "code",
   "execution_count": 1,
   "outputs": [],
   "source": [
    "import os\n"
   ],
   "metadata": {
    "collapsed": false,
    "ExecuteTime": {
     "end_time": "2023-07-13T15:35:20.357560Z",
     "start_time": "2023-07-13T15:35:20.354349Z"
    }
   }
  },
  {
   "cell_type": "code",
   "execution_count": 2,
   "outputs": [
    {
     "name": "stderr",
     "output_type": "stream",
     "text": [
      "Using `tqdm.autonotebook.tqdm` in notebook mode. Use `tqdm.tqdm` instead to force console mode (e.g. in jupyter console)\n"
     ]
    }
   ],
   "source": [
    "from src import *"
   ],
   "metadata": {
    "collapsed": false,
    "ExecuteTime": {
     "end_time": "2023-07-13T15:35:26.818339Z",
     "start_time": "2023-07-13T15:35:20.358644Z"
    }
   }
  },
  {
   "cell_type": "code",
   "execution_count": 3,
   "outputs": [],
   "source": [
    "\n",
    "db = database_loader.DatabaseLoader(get_config('connection_string'))\n",
    "DEBUG = False\n",
    "SCHEMA = 'controls'\n",
    "\n",
    "file_name = \"nfl_weekly_stats\"\n",
    "data_directory = get_config('data_directory')\n",
    "\n",
    "input_path = os.path.join(data_directory,  f\"{file_name}.parquet\")\n",
    "assert  os.path.exists(input_path)\n"
   ],
   "metadata": {
    "collapsed": false,
    "ExecuteTime": {
     "end_time": "2023-07-13T15:35:26.825102Z",
     "start_time": "2023-07-13T15:35:26.816880Z"
    }
   }
  },
  {
   "cell_type": "code",
   "execution_count": 4,
   "outputs": [
    {
     "data": {
      "text/plain": "       season  week team  rush_yards  efficiency  \\\nindex                                              \n0        2022     1  ARI          26    5.930769   \n1        2022     3  ARI          39    5.421026   \n2        2022     4  ARI          55    3.860545   \n3        2022     6  ARI          37    5.610541   \n4        2022     7  ARI          92    2.619457   \n\n       percent_attempts_gte_eight_defenders  avg_time_to_los  rush_attempts  \\\nindex                                                                         \n0                                 10.000000         2.445889             10   \n1                                  7.692308         2.580545             13   \n2                                 40.000000         2.565267             15   \n3                                  6.666667         2.708000             15   \n4                                  8.333333         2.810818             12   \n\n       avg_rush_yards  rush_touchdowns  ...  receiving_first_downs  \\\nindex                                   ...                          \n0            2.600000                1  ...                     12   \n1            3.000000                0  ...                     15   \n2            3.666667                0  ...                     10   \n3            2.466667                0  ...                     10   \n4            7.666667                1  ...                      9   \n\n       receiving_2pt_conversions  special_teams_tds  opponent  team_score  \\\nindex                                                                       \n0                              1                  0        KC          21   \n1                              0                  0        LA          12   \n2                              0                  0       CAR          26   \n3                              0                  0       SEA           9   \n4                              1                  0        NO          42   \n\n            team_coach  opposing_team  opposing_score  opposing_coach  spread  \nindex                                                                          \n0      Kliff Kingsbury             KC              44       Andy Reid     -23  \n1      Kliff Kingsbury             LA              20      Sean McVay      -8  \n2      Kliff Kingsbury            CAR              16      Matt Rhule      10  \n3      Kliff Kingsbury            SEA              19    Pete Carroll     -10  \n4      Kliff Kingsbury             NO              34    Dennis Allen       8  \n\n[5 rows x 68 columns]",
      "text/html": "<div>\n<style scoped>\n    .dataframe tbody tr th:only-of-type {\n        vertical-align: middle;\n    }\n\n    .dataframe tbody tr th {\n        vertical-align: top;\n    }\n\n    .dataframe thead th {\n        text-align: right;\n    }\n</style>\n<table border=\"1\" class=\"dataframe\">\n  <thead>\n    <tr style=\"text-align: right;\">\n      <th></th>\n      <th>season</th>\n      <th>week</th>\n      <th>team</th>\n      <th>rush_yards</th>\n      <th>efficiency</th>\n      <th>percent_attempts_gte_eight_defenders</th>\n      <th>avg_time_to_los</th>\n      <th>rush_attempts</th>\n      <th>avg_rush_yards</th>\n      <th>rush_touchdowns</th>\n      <th>...</th>\n      <th>receiving_first_downs</th>\n      <th>receiving_2pt_conversions</th>\n      <th>special_teams_tds</th>\n      <th>opponent</th>\n      <th>team_score</th>\n      <th>team_coach</th>\n      <th>opposing_team</th>\n      <th>opposing_score</th>\n      <th>opposing_coach</th>\n      <th>spread</th>\n    </tr>\n    <tr>\n      <th>index</th>\n      <th></th>\n      <th></th>\n      <th></th>\n      <th></th>\n      <th></th>\n      <th></th>\n      <th></th>\n      <th></th>\n      <th></th>\n      <th></th>\n      <th></th>\n      <th></th>\n      <th></th>\n      <th></th>\n      <th></th>\n      <th></th>\n      <th></th>\n      <th></th>\n      <th></th>\n      <th></th>\n      <th></th>\n    </tr>\n  </thead>\n  <tbody>\n    <tr>\n      <th>0</th>\n      <td>2022</td>\n      <td>1</td>\n      <td>ARI</td>\n      <td>26</td>\n      <td>5.930769</td>\n      <td>10.000000</td>\n      <td>2.445889</td>\n      <td>10</td>\n      <td>2.600000</td>\n      <td>1</td>\n      <td>...</td>\n      <td>12</td>\n      <td>1</td>\n      <td>0</td>\n      <td>KC</td>\n      <td>21</td>\n      <td>Kliff Kingsbury</td>\n      <td>KC</td>\n      <td>44</td>\n      <td>Andy Reid</td>\n      <td>-23</td>\n    </tr>\n    <tr>\n      <th>1</th>\n      <td>2022</td>\n      <td>3</td>\n      <td>ARI</td>\n      <td>39</td>\n      <td>5.421026</td>\n      <td>7.692308</td>\n      <td>2.580545</td>\n      <td>13</td>\n      <td>3.000000</td>\n      <td>0</td>\n      <td>...</td>\n      <td>15</td>\n      <td>0</td>\n      <td>0</td>\n      <td>LA</td>\n      <td>12</td>\n      <td>Kliff Kingsbury</td>\n      <td>LA</td>\n      <td>20</td>\n      <td>Sean McVay</td>\n      <td>-8</td>\n    </tr>\n    <tr>\n      <th>2</th>\n      <td>2022</td>\n      <td>4</td>\n      <td>ARI</td>\n      <td>55</td>\n      <td>3.860545</td>\n      <td>40.000000</td>\n      <td>2.565267</td>\n      <td>15</td>\n      <td>3.666667</td>\n      <td>0</td>\n      <td>...</td>\n      <td>10</td>\n      <td>0</td>\n      <td>0</td>\n      <td>CAR</td>\n      <td>26</td>\n      <td>Kliff Kingsbury</td>\n      <td>CAR</td>\n      <td>16</td>\n      <td>Matt Rhule</td>\n      <td>10</td>\n    </tr>\n    <tr>\n      <th>3</th>\n      <td>2022</td>\n      <td>6</td>\n      <td>ARI</td>\n      <td>37</td>\n      <td>5.610541</td>\n      <td>6.666667</td>\n      <td>2.708000</td>\n      <td>15</td>\n      <td>2.466667</td>\n      <td>0</td>\n      <td>...</td>\n      <td>10</td>\n      <td>0</td>\n      <td>0</td>\n      <td>SEA</td>\n      <td>9</td>\n      <td>Kliff Kingsbury</td>\n      <td>SEA</td>\n      <td>19</td>\n      <td>Pete Carroll</td>\n      <td>-10</td>\n    </tr>\n    <tr>\n      <th>4</th>\n      <td>2022</td>\n      <td>7</td>\n      <td>ARI</td>\n      <td>92</td>\n      <td>2.619457</td>\n      <td>8.333333</td>\n      <td>2.810818</td>\n      <td>12</td>\n      <td>7.666667</td>\n      <td>1</td>\n      <td>...</td>\n      <td>9</td>\n      <td>1</td>\n      <td>0</td>\n      <td>NO</td>\n      <td>42</td>\n      <td>Kliff Kingsbury</td>\n      <td>NO</td>\n      <td>34</td>\n      <td>Dennis Allen</td>\n      <td>8</td>\n    </tr>\n  </tbody>\n</table>\n<p>5 rows × 68 columns</p>\n</div>"
     },
     "execution_count": 4,
     "metadata": {},
     "output_type": "execute_result"
    }
   ],
   "source": [
    "stats_df = pd.read_parquet(input_path)\n",
    "stats_df.head()"
   ],
   "metadata": {
    "collapsed": false,
    "ExecuteTime": {
     "end_time": "2023-07-13T15:35:26.916269Z",
     "start_time": "2023-07-13T15:35:26.820945Z"
    }
   }
  },
  {
   "cell_type": "markdown",
   "source": [
    "#### drop columns we dont need"
   ],
   "metadata": {
    "collapsed": false
   }
  },
  {
   "cell_type": "code",
   "execution_count": 5,
   "outputs": [],
   "source": [
    "\n",
    "stats_df.drop(columns=[\n",
    "    'opponent', 'team_coach', 'opposing_coach'\n",
    "], inplace=True)\n"
   ],
   "metadata": {
    "collapsed": false,
    "ExecuteTime": {
     "end_time": "2023-07-13T15:35:26.916509Z",
     "start_time": "2023-07-13T15:35:26.909624Z"
    }
   }
  },
  {
   "cell_type": "markdown",
   "source": [
    "#### dependent_columns_df: split out the potential y dependent columns"
   ],
   "metadata": {
    "collapsed": false
   }
  },
  {
   "cell_type": "code",
   "execution_count": 6,
   "outputs": [
    {
     "name": "stdout",
     "output_type": "stream",
     "text": [
      "stats_df       (3569, 65)\n"
     ]
    }
   ],
   "source": [
    "stats_shape = stats_df.shape\n",
    "print('stats_df      ', stats_shape)"
   ],
   "metadata": {
    "collapsed": false,
    "ExecuteTime": {
     "end_time": "2023-07-13T15:35:26.916558Z",
     "start_time": "2023-07-13T15:35:26.915890Z"
    }
   }
  },
  {
   "cell_type": "code",
   "execution_count": 7,
   "outputs": [
    {
     "name": "stdout",
     "output_type": "stream",
     "text": [
      "ready_columns_df (3569, 6)\n",
      "stats_df         (3569, 59)\n"
     ]
    }
   ],
   "source": [
    "set_ready_cols = {'season', 'week', 'team', 'opposing_score', 'team_score', 'spread'}\n",
    "ready_columns_df = stats_df[list(set_ready_cols)]\n",
    "stats_df = stats_df.drop(columns=set_ready_cols)\n",
    "\n",
    "print('ready_columns_df', ready_columns_df.shape)\n",
    "print('stats_df        ', stats_df.shape)"
   ],
   "metadata": {
    "collapsed": false,
    "ExecuteTime": {
     "end_time": "2023-07-13T15:35:26.920052Z",
     "start_time": "2023-07-13T15:35:26.916458Z"
    }
   }
  },
  {
   "cell_type": "markdown",
   "source": [
    "#### character_columns_df :  split out the character columns"
   ],
   "metadata": {
    "collapsed": false
   }
  },
  {
   "cell_type": "code",
   "execution_count": 8,
   "outputs": [
    {
     "name": "stdout",
     "output_type": "stream",
     "text": [
      "character_columns (3569, 1)\n",
      "stats_df       (3569, 58)\n"
     ]
    }
   ],
   "source": [
    "character_columns_df = stats_df.select_dtypes(include='object')\n",
    "stats_df = stats_df.drop(columns=character_columns_df.columns)\n",
    "set_character_columns = set(character_columns_df.columns)\n",
    "\n",
    "print('character_columns', character_columns_df.shape)\n",
    "print('stats_df      ', stats_df.shape)"
   ],
   "metadata": {
    "collapsed": false,
    "ExecuteTime": {
     "end_time": "2023-07-13T15:35:26.927823Z",
     "start_time": "2023-07-13T15:35:26.923521Z"
    }
   }
  },
  {
   "cell_type": "markdown",
   "source": [
    "#### iterate over categories until we have the right set of categorical columns"
   ],
   "metadata": {
    "collapsed": false
   }
  },
  {
   "cell_type": "code",
   "execution_count": 9,
   "outputs": [
    {
     "name": "stdout",
     "output_type": "stream",
     "text": [
      "---\n",
      "int64 columns : ['rush_attempts', 'rush_touchdowns', 'pass_touchdowns', 'interceptions', 'fumble', 'own_kickoff_recovery', 'safety', 'qb_hit', 'touchdown', 'passing_tds', 'ps_interceptions', 'sacks', 'sack_fumbles', 'sack_fumbles_lost', 'passing_first_downs', 'passing_2pt_conversions', 'rushing_tds', 'rushing_fumbles', 'rushing_fumbles_lost', 'rushing_first_downs', 'rushing_2pt_conversions', 'receiving_tds', 'receiving_fumbles', 'receiving_fumbles_lost', 'receiving_first_downs', 'receiving_2pt_conversions', 'special_teams_tds']\n"
     ]
    }
   ],
   "source": [
    "from collections import defaultdict\n",
    "\n",
    "categories = defaultdict(lambda: [])\n",
    "\n",
    "for column in stats_df.columns:\n",
    "    n = len(stats_df[column].value_counts())\n",
    "    if n < 35:\n",
    "        categories[stats_df[column].dtype.name].append(column)\n",
    "\n",
    "for k, v in categories.items():\n",
    "    print(\"---\")\n",
    "    print(f\"{k} columns : {v}\")\n",
    "\n",
    "assert 'int64' in categories and len(categories) == 1\n"
   ],
   "metadata": {
    "collapsed": false,
    "ExecuteTime": {
     "end_time": "2023-07-13T15:35:27.154731Z",
     "start_time": "2023-07-13T15:35:26.931915Z"
    }
   }
  },
  {
   "cell_type": "markdown",
   "source": [
    "### discrete_columns_df:  split out discrete columns"
   ],
   "metadata": {
    "collapsed": false
   }
  },
  {
   "cell_type": "code",
   "execution_count": 10,
   "outputs": [
    {
     "name": "stdout",
     "output_type": "stream",
     "text": [
      "discrete_columns (3569, 27)\n",
      "stats_df       (3569, 31)\n"
     ]
    }
   ],
   "source": [
    "discrete_columns_df = stats_df[categories['int64']]\n",
    "stats_df = stats_df.drop(columns=discrete_columns_df.columns)\n",
    "set_discrete_numeric = set(discrete_columns_df.columns)\n",
    "\n",
    "print('discrete_columns', discrete_columns_df.shape)\n",
    "print('stats_df      ', stats_df.shape)"
   ],
   "metadata": {
    "collapsed": false,
    "ExecuteTime": {
     "end_time": "2023-07-13T15:35:27.155121Z",
     "start_time": "2023-07-13T15:35:26.947547Z"
    }
   }
  },
  {
   "cell_type": "markdown",
   "source": [
    "### numeric_columns_df: split out numeric columns"
   ],
   "metadata": {
    "collapsed": false
   }
  },
  {
   "cell_type": "code",
   "execution_count": 11,
   "outputs": [
    {
     "name": "stdout",
     "output_type": "stream",
     "text": [
      "numeric_columns_df (3569, 31)\n",
      "stats_df       (3569, 0)\n"
     ]
    }
   ],
   "source": [
    "# all numeric columns and their values\n",
    "numeric_columns_df = stats_df.select_dtypes(include='number')  ## review whats left over\n",
    "\n",
    "# this set should all be floats - find any int64's and convert them\n",
    "dtype_mapping = {col: 'float' for col in numeric_columns_df.select_dtypes(include='int64')}\n",
    "numeric_columns_df = numeric_columns_df.astype(dtype_mapping)\n",
    "\n",
    "stats_df = stats_df.drop(columns=numeric_columns_df.columns)\n",
    "\n",
    "print('numeric_columns_df', numeric_columns_df.shape)\n",
    "print('stats_df      ', stats_df.shape)"
   ],
   "metadata": {
    "collapsed": false,
    "ExecuteTime": {
     "end_time": "2023-07-13T15:35:27.155215Z",
     "start_time": "2023-07-13T15:35:26.950933Z"
    }
   }
  },
  {
   "cell_type": "markdown",
   "source": [
    "### encode discrete columns"
   ],
   "metadata": {
    "collapsed": false
   }
  },
  {
   "cell_type": "code",
   "execution_count": 12,
   "outputs": [],
   "source": [
    "from sklearn.preprocessing import LabelEncoder\n",
    "\n",
    "label_encoders = {}\n",
    "\n",
    "\n",
    "def label_encode(labels_df: pd.DataFrame, labels: dict):\n",
    "    print(\"shape before labels\", labels_df.shape, end=\"; \")\n",
    "\n",
    "    for col in labels_df.columns:\n",
    "        encoder = LabelEncoder()\n",
    "        labels_df[col] = encoder.fit_transform(labels_df[col])\n",
    "        labels[col] = dict(df=labels_df, encoder=encoder)\n",
    "\n",
    "    print(f\"after labels\", labels_df.shape)\n",
    "    return labels_df, labels\n"
   ],
   "metadata": {
    "collapsed": false,
    "ExecuteTime": {
     "end_time": "2023-07-13T15:35:27.155270Z",
     "start_time": "2023-07-13T15:35:26.959306Z"
    }
   }
  },
  {
   "cell_type": "code",
   "execution_count": 13,
   "outputs": [
    {
     "name": "stdout",
     "output_type": "stream",
     "text": [
      "shape before labels (3569, 27); after labels (3569, 27)\n"
     ]
    },
    {
     "data": {
      "text/plain": "27"
     },
     "execution_count": 13,
     "metadata": {},
     "output_type": "execute_result"
    }
   ],
   "source": [
    "discrete_columns_df, label_encoders = label_encode(labels_df=discrete_columns_df, labels=label_encoders)\n",
    "len(label_encoders)"
   ],
   "metadata": {
    "collapsed": false,
    "ExecuteTime": {
     "end_time": "2023-07-13T15:35:27.159395Z",
     "start_time": "2023-07-13T15:35:26.961377Z"
    }
   }
  },
  {
   "cell_type": "markdown",
   "source": [
    "### encode character_columns_df columns"
   ],
   "metadata": {
    "collapsed": false
   }
  },
  {
   "cell_type": "code",
   "execution_count": 14,
   "outputs": [
    {
     "name": "stdout",
     "output_type": "stream",
     "text": [
      "shape before labels (3569, 1); after labels (3569, 1)\n"
     ]
    },
    {
     "data": {
      "text/plain": "28"
     },
     "execution_count": 14,
     "metadata": {},
     "output_type": "execute_result"
    }
   ],
   "source": [
    "character_columns_df, label_encoders = label_encode(labels_df=character_columns_df, labels=label_encoders)\n",
    "len(label_encoders)"
   ],
   "metadata": {
    "collapsed": false,
    "ExecuteTime": {
     "end_time": "2023-07-13T15:35:27.159607Z",
     "start_time": "2023-07-13T15:35:26.972633Z"
    }
   }
  },
  {
   "cell_type": "markdown",
   "source": [
    "### split dependent columns and ready columns that need no prep"
   ],
   "metadata": {
    "collapsed": false
   }
  },
  {
   "cell_type": "code",
   "execution_count": 15,
   "outputs": [],
   "source": [
    "# two ways we can go\n",
    "#    1) multi-column dependency, or\n",
    "#    2) just get the difference between the win and loss column - this is the 'spread' column\n",
    "\n",
    "# because in this step we are only trying to get the important dimensions for further evaluation, we'll use the spread\n",
    "# and we won't use encoding for this set - it is a set of integers both negative and positive where negative is 'lower' than positive\n",
    "\n",
    "dependent_columns_df = ready_columns_df[['spread']]\n",
    "ready_columns_df.drop(columns=['spread', 'team_score', 'opposing_score'], inplace=True)\n",
    "\n",
    "dropped_cols = 2\n"
   ],
   "metadata": {
    "collapsed": false,
    "ExecuteTime": {
     "end_time": "2023-07-13T15:35:27.159655Z",
     "start_time": "2023-07-13T15:35:26.977439Z"
    }
   }
  },
  {
   "cell_type": "markdown",
   "source": [
    "### review dataframes"
   ],
   "metadata": {
    "collapsed": false
   }
  },
  {
   "cell_type": "code",
   "execution_count": 16,
   "outputs": [
    {
     "name": "stdout",
     "output_type": "stream",
     "text": [
      "dependent_columns_df (3569, 1)\n",
      "discrete_columns_df (3569, 27)\n",
      "character_columns_df (3569, 1)\n",
      "numeric_columns_df (3569, 31)\n",
      "ready_columns_df (3569, 3)\n"
     ]
    }
   ],
   "source": [
    "\n",
    "datasets = {\n",
    "    'dependent_columns_df': dependent_columns_df.shape,\n",
    "    'discrete_columns_df': discrete_columns_df.shape,\n",
    "    'character_columns_df': character_columns_df.shape,\n",
    "    'numeric_columns_df': numeric_columns_df.shape,\n",
    "    'ready_columns_df': ready_columns_df.shape\n",
    "}\n",
    "\n",
    "col_count = 0\n",
    "row_count = stats_df.shape[0]\n",
    "for key, shape in datasets.items():\n",
    "    col_count += shape[1]\n",
    "    assert shape[0] == row_count\n",
    "    print(key, shape)\n",
    "\n",
    "assert stats_df.shape[1] == 0\n",
    "assert stats_shape[1] == col_count + dropped_cols\n"
   ],
   "metadata": {
    "collapsed": false,
    "ExecuteTime": {
     "end_time": "2023-07-13T15:35:27.159998Z",
     "start_time": "2023-07-13T15:35:26.981780Z"
    }
   }
  },
  {
   "cell_type": "markdown",
   "source": [
    "### save original column values from labeled columns"
   ],
   "metadata": {
    "collapsed": false
   }
  },
  {
   "cell_type": "code",
   "execution_count": 17,
   "outputs": [],
   "source": [
    "original_column_names = {}\n",
    "\n",
    "for col, labels_dict in label_encoders.items():\n",
    "    df = labels_dict['df']\n",
    "    label_encoder = labels_dict['encoder']\n",
    "    original_labels = label_encoder.inverse_transform(df[col])\n",
    "    original_column_names[col] = original_labels\n"
   ],
   "metadata": {
    "collapsed": false,
    "ExecuteTime": {
     "end_time": "2023-07-13T15:35:27.305521Z",
     "start_time": "2023-07-13T15:35:26.986138Z"
    }
   }
  },
  {
   "cell_type": "code",
   "execution_count": 18,
   "outputs": [
    {
     "data": {
      "text/plain": "(3569, 63)"
     },
     "execution_count": 18,
     "metadata": {},
     "output_type": "execute_result"
    }
   ],
   "source": [
    "dataframes = [\n",
    "    ready_columns_df,\n",
    "    dependent_columns_df,\n",
    "    discrete_columns_df,\n",
    "    character_columns_df,\n",
    "    numeric_columns_df\n",
    "]\n",
    "\n",
    "merge_df = pd.concat(dataframes, axis=1)\n",
    "\n",
    "assert stats_shape[1] == merge_df.shape[1] + dropped_cols\n",
    "assert stats_shape[0] == merge_df.shape[0]\n",
    "\n",
    "merge_df.shape"
   ],
   "metadata": {
    "collapsed": false,
    "ExecuteTime": {
     "end_time": "2023-07-13T15:35:27.306336Z",
     "start_time": "2023-07-13T15:35:26.994131Z"
    }
   }
  },
  {
   "cell_type": "code",
   "execution_count": 19,
   "outputs": [
    {
     "name": "stdout",
     "output_type": "stream",
     "text": [
      "CPU times: user 31.3 ms, sys: 8.38 ms, total: 39.7 ms\n",
      "Wall time: 71.4 ms\n"
     ]
    }
   ],
   "source": [
    "%%time\n",
    "\n",
    "file_name = \"nfl_ml_weekly_stats\"\n",
    "\n",
    "data_directory = get_config('data_directory')\n",
    "if not os.path.exists(data_directory):\n",
    "    os.makedirs(data_directory)\n",
    "\n",
    "output_path = os.path.join(data_directory, f\"{file_name}.parquet\")\n",
    "merge_df.to_parquet(output_path, engine='fastparquet', compression='snappy')"
   ],
   "metadata": {
    "collapsed": false,
    "ExecuteTime": {
     "end_time": "2023-07-13T15:35:27.344527Z",
     "start_time": "2023-07-13T15:35:26.998507Z"
    }
   }
  },
  {
   "cell_type": "code",
   "execution_count": 19,
   "outputs": [],
   "source": [],
   "metadata": {
    "collapsed": false,
    "ExecuteTime": {
     "end_time": "2023-07-13T15:35:27.344660Z",
     "start_time": "2023-07-13T15:35:27.073057Z"
    }
   }
  }
 ],
 "metadata": {
  "kernelspec": {
   "display_name": "Python 3",
   "language": "python",
   "name": "python3"
  },
  "language_info": {
   "codemirror_mode": {
    "name": "ipython",
    "version": 2
   },
   "file_extension": ".py",
   "mimetype": "text/x-python",
   "name": "python",
   "nbconvert_exporter": "python",
   "pygments_lexer": "ipython2",
   "version": "2.7.6"
  }
 },
 "nbformat": 4,
 "nbformat_minor": 0
}
