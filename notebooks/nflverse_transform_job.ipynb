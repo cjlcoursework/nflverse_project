{
 "cells": [
  {
   "cell_type": "markdown",
   "source": [],
   "metadata": {
    "collapsed": false
   }
  },
  {
   "cell_type": "markdown",
   "source": [
    "# <font color=teal>imports</font>\n",
    "Most processing is performed in python code, and there's a python module to do everything here without manual"
   ],
   "metadata": {
    "collapsed": false
   }
  },
  {
   "cell_type": "code",
   "execution_count": 1,
   "outputs": [],
   "source": [
    "import logging\n",
    "\n",
    "from src import configs\n",
    "import os\n",
    "import sys\n",
    "sys.path.append(os.path.abspath(\"../src\"))\n",
    "\n"
   ],
   "metadata": {
    "collapsed": false,
    "ExecuteTime": {
     "end_time": "2023-07-06T00:02:54.581826Z",
     "start_time": "2023-07-06T00:02:54.126839Z"
    }
   }
  },
  {
   "cell_type": "code",
   "execution_count": 2,
   "metadata": {
    "collapsed": true,
    "ExecuteTime": {
     "end_time": "2023-07-06T00:02:54.671845Z",
     "start_time": "2023-07-06T00:02:54.582885Z"
    }
   },
   "outputs": [],
   "source": [
    "from src.nflverse_transform_job import load_files\n",
    "from src.pbp_fact import transform_pbp\n",
    "from src.nflverse_reader_job import URLReader\n",
    "from src.pbp_participation import transform_pbp_participation\n",
    "from src.player_stats import transform_player_stats, merge_injuries\n",
    "from src.player_injuries import prep_player_injuries\n",
    "from src.player_stats import transform_players\n",
    "from src.db_utils import load_dims_to_db\n",
    "\n",
    "\n"
   ]
  },
  {
   "cell_type": "markdown",
   "source": [
    "# <font color=teal>housekeeping</font>"
   ],
   "metadata": {
    "collapsed": false
   }
  },
  {
   "cell_type": "code",
   "execution_count": 3,
   "outputs": [],
   "source": [
    "LOAD_TO_DB = True\n",
    "database_schema = 'controls'\n",
    "\n",
    "# Get the logger\n",
    "logger = configs.configure_logging(\"pbp_logger\")\n",
    "logger.setLevel(logging.INFO)"
   ],
   "metadata": {
    "collapsed": false,
    "ExecuteTime": {
     "end_time": "2023-07-06T00:02:54.674773Z",
     "start_time": "2023-07-06T00:02:54.673049Z"
    }
   }
  },
  {
   "cell_type": "markdown",
   "source": [
    "# <font color=teal>Read data from NFLVerse<font/>\n",
    "Step 1.  Read data and store immediately as raw without transformation or change"
   ],
   "metadata": {
    "collapsed": false
   }
  },
  {
   "cell_type": "code",
   "execution_count": 4,
   "outputs": [
    {
     "name": "stderr",
     "output_type": "stream",
     "text": [
      "2023-07-05 17:02:55,730 - INFO - Success: https://github.com/nflverse/nflverse-data/releases/download/nextgen_stats/ngs_2016_rushing.csv.gz\n",
      "2023-07-05 17:02:55,814 - INFO - Success: https://github.com/nflverse/nflverse-data/releases/download/nextgen_stats/ngs_2016_passing.csv.gz\n",
      "2023-07-05 17:02:55,819 - INFO - Success: https://github.com/nflverse/nflverse-data/releases/download/nextgen_stats/ngs_2016_receiving.csv.gz\n",
      "2023-07-05 17:02:55,872 - INFO - Success: https://github.com/nflverse/nflverse-data/releases/download/injuries/injuries_2016.csv\n",
      "2023-07-05 17:02:56,386 - INFO - Success: https://github.com/nflverse/nflverse-data/releases/download/players/players.csv\n",
      "2023-07-05 17:02:56,626 - INFO - Success: https://github.com/nflverse/nflverse-data/releases/download/nextgen_stats/ngs_2017_passing.csv.gz\n",
      "2023-07-05 17:02:56,968 - INFO - Success: https://github.com/nflverse/nflverse-data/releases/download/nextgen_stats/ngs_2017_receiving.csv.gz\n",
      "2023-07-05 17:02:57,034 - INFO - Success: https://github.com/nflverse/nflverse-data/releases/download/nextgen_stats/ngs_2017_rushing.csv.gz\n",
      "2023-07-05 17:02:57,281 - INFO - Success: https://github.com/nflverse/nflverse-data/releases/download/injuries/injuries_2017.csv\n",
      "2023-07-05 17:02:57,774 - INFO - Success: https://github.com/nflverse/nflverse-data/releases/download/nextgen_stats/ngs_2018_passing.csv.gz\n",
      "2023-07-05 17:02:58,108 - INFO - Success: https://github.com/nflverse/nflverse-data/releases/download/player_stats/player_stats.csv\n",
      "2023-07-05 17:02:58,556 - INFO - Success: https://github.com/nflverse/nflverse-data/releases/download/pbp_participation/pbp_participation_2017.csv\n",
      "2023-07-05 17:02:58,572 - INFO - Success: https://github.com/nflverse/nflverse-data/releases/download/nextgen_stats/ngs_2018_rushing.csv.gz\n",
      "2023-07-05 17:02:58,785 - INFO - Success: https://github.com/nflverse/nflverse-data/releases/download/nextgen_stats/ngs_2018_receiving.csv.gz\n",
      "2023-07-05 17:02:58,836 - INFO - Success: https://github.com/nflverse/nflverse-data/releases/download/injuries/injuries_2018.csv\n",
      "2023-07-05 17:02:59,618 - INFO - Success: https://github.com/nflverse/nflverse-data/releases/download/pbp_participation/pbp_participation_2018.csv\n",
      "2023-07-05 17:02:59,829 - INFO - Success: https://github.com/nflverse/nflverse-data/releases/download/injuries/injuries_2019.csv\n",
      "2023-07-05 17:02:59,952 - INFO - Success: https://github.com/nflverse/nflverse-data/releases/download/nextgen_stats/ngs_2019_passing.csv.gz\n",
      "2023-07-05 17:03:00,141 - INFO - Success: https://github.com/nflverse/nflverse-data/releases/download/nextgen_stats/ngs_2019_rushing.csv.gz\n",
      "2023-07-05 17:03:00,748 - INFO - Success: https://github.com/nflverse/nflverse-data/releases/download/nextgen_stats/ngs_2019_receiving.csv.gz\n",
      "2023-07-05 17:03:01,200 - INFO - Success: https://github.com/nflverse/nflverse-data/releases/download/pbp_participation/pbp_participation_2016.csv\n",
      "2023-07-05 17:03:01,375 - INFO - Success: https://github.com/nflverse/nflverse-data/releases/download/pbp/play_by_play_2016.csv\n",
      "2023-07-05 17:03:01,606 - INFO - Success: https://github.com/nflverse/nflverse-data/releases/download/injuries/injuries_2020.csv\n",
      "2023-07-05 17:03:02,095 - INFO - Success: https://github.com/nflverse/nflverse-data/releases/download/nextgen_stats/ngs_2020_passing.csv.gz\n",
      "2023-07-05 17:03:02,275 - INFO - Success: https://github.com/nflverse/nflverse-data/releases/download/nextgen_stats/ngs_2020_receiving.csv.gz\n",
      "2023-07-05 17:03:02,610 - INFO - Success: https://github.com/nflverse/nflverse-data/releases/download/nextgen_stats/ngs_2020_rushing.csv.gz\n",
      "2023-07-05 17:03:02,657 - INFO - Success: https://github.com/nflverse/nflverse-data/releases/download/pbp_participation/pbp_participation_2019.csv\n",
      "2023-07-05 17:03:03,000 - INFO - Success: https://github.com/nflverse/nflverse-data/releases/download/pbp_participation/pbp_participation_2020.csv\n",
      "2023-07-05 17:03:03,952 - INFO - Success: https://github.com/nflverse/nflverse-data/releases/download/nextgen_stats/ngs_2021_passing.csv.gz\n",
      "2023-07-05 17:03:04,113 - INFO - Success: https://github.com/nflverse/nflverse-data/releases/download/nextgen_stats/ngs_2021_rushing.csv.gz\n",
      "2023-07-05 17:03:04,162 - INFO - Success: https://github.com/nflverse/nflverse-data/releases/download/injuries/injuries_2021.csv\n",
      "2023-07-05 17:03:04,394 - INFO - Success: https://github.com/nflverse/nflverse-data/releases/download/pbp/play_by_play_2017.csv\n",
      "2023-07-05 17:03:04,400 - INFO - Success: https://github.com/nflverse/nflverse-data/releases/download/nextgen_stats/ngs_2021_receiving.csv.gz\n",
      "2023-07-05 17:03:04,527 - INFO - Success: https://github.com/nflverse/nflverse-data/releases/download/pbp/play_by_play_2020.csv\n",
      "2023-07-05 17:03:05,495 - INFO - Success: https://github.com/nflverse/nflverse-data/releases/download/nextgen_stats/ngs_2022_receiving.csv.gz\n",
      "2023-07-05 17:03:05,666 - INFO - Success: https://github.com/nflverse/nflverse-data/releases/download/nextgen_stats/ngs_2022_rushing.csv.gz\n",
      "2023-07-05 17:03:05,892 - INFO - Success: https://github.com/nflverse/nflverse-data/releases/download/nextgen_stats/ngs_2022_passing.csv.gz\n",
      "2023-07-05 17:03:06,002 - INFO - Success: https://github.com/nflverse/nflverse-data/releases/download/pbp_participation/pbp_participation_2021.csv\n",
      "2023-07-05 17:03:06,181 - INFO - Success: https://github.com/nflverse/nflverse-data/releases/download/injuries/injuries_2022.csv\n",
      "2023-07-05 17:03:06,937 - INFO - Success: https://github.com/nflverse/nflverse-data/releases/download/pfr_advstats/advstats_season_pass.csv\n",
      "2023-07-05 17:03:07,023 - INFO - Success: https://github.com/nflverse/nflverse-data/releases/download/pfr_advstats/advstats_season_def.csv\n",
      "2023-07-05 17:03:07,252 - INFO - Success: https://github.com/nflverse/nflverse-data/releases/download/pfr_advstats/advstats_season_rec.csv\n",
      "2023-07-05 17:03:07,348 - INFO - Success: https://github.com/nflverse/nflverse-data/releases/download/pfr_advstats/advstats_season_rush.csv\n",
      "2023-07-05 17:03:07,801 - INFO - Success: https://github.com/nflverse/nflverse-data/releases/download/pbp/play_by_play_2021.csv\n",
      "2023-07-05 17:03:09,589 - INFO - Success: https://github.com/nflverse/nflverse-data/releases/download/pbp/play_by_play_2019.csv\n",
      "2023-07-05 17:03:11,000 - INFO - Success: https://github.com/nflverse/nflverse-data/releases/download/pbp_participation/pbp_participation_2022.csv\n",
      "2023-07-05 17:03:16,587 - INFO - Success: https://github.com/nflverse/nflverse-data/releases/download/pbp/play_by_play_2018.csv\n",
      "2023-07-05 17:03:16,929 - INFO - Success: https://github.com/nflverse/nflverse-data/releases/download/pbp/play_by_play_2022.csv\n"
     ]
    },
    {
     "name": "stdout",
     "output_type": "stream",
     "text": [
      "CPU times: user 3.19 s, sys: 2.23 s, total: 5.42 s\n",
      "Wall time: 22.3 s\n"
     ]
    }
   ],
   "source": [
    "%%time\n",
    "\n",
    "reader = URLReader(start_year=2016, last_year=2022, file_type='csv')\n",
    "urls = reader.download()"
   ],
   "metadata": {
    "collapsed": false,
    "ExecuteTime": {
     "end_time": "2023-07-06T00:03:16.937947Z",
     "start_time": "2023-07-06T00:02:54.676056Z"
    }
   }
  },
  {
   "cell_type": "markdown",
   "source": [],
   "metadata": {
    "collapsed": false
   }
  },
  {
   "cell_type": "markdown",
   "source": [
    "---\n",
    "\n",
    "# <font color=teal>load and transform play by play datasets</font>"
   ],
   "metadata": {
    "collapsed": false
   }
  },
  {
   "cell_type": "markdown",
   "source": [
    "### <font color=\"#9370DB\">load</font>"
   ],
   "metadata": {
    "collapsed": false
   }
  },
  {
   "cell_type": "code",
   "execution_count": 5,
   "outputs": [
    {
     "name": "stderr",
     "output_type": "stream",
     "text": [
      "2023-07-05 17:03:16,938 - INFO - Reading all files from pbp\n",
      "2023-07-05 17:03:16,939 - INFO -   + Reading pbp_2022.csv\n",
      "2023-07-05 17:03:17,982 - INFO -   + Reading pbp_2020.csv\n",
      "2023-07-05 17:03:18,997 - INFO -   + Reading pbp_2021.csv\n",
      "2023-07-05 17:03:19,998 - INFO -   + Reading pbp_2019.csv\n",
      "2023-07-05 17:03:21,000 - INFO -   + Reading pbp_2018.csv\n",
      "2023-07-05 17:03:21,988 - INFO -   + Reading pbp_2016.csv\n",
      "2023-07-05 17:03:23,003 - INFO -   + Reading pbp_2017.csv\n"
     ]
    },
    {
     "name": "stdout",
     "output_type": "stream",
     "text": [
      "CPU times: user 6.53 s, sys: 1.4 s, total: 7.93 s\n",
      "Wall time: 8.36 s\n"
     ]
    }
   ],
   "source": [
    "\n",
    "%%time\n",
    "pbp = load_files(data_subdir='pbp')\n"
   ],
   "metadata": {
    "collapsed": false,
    "ExecuteTime": {
     "end_time": "2023-07-06T00:03:25.298679Z",
     "start_time": "2023-07-06T00:03:16.939090Z"
    }
   }
  },
  {
   "cell_type": "markdown",
   "source": [
    "### <font color=\"#9370DB\">transform</font>"
   ],
   "metadata": {
    "collapsed": false
   }
  },
  {
   "cell_type": "code",
   "execution_count": 6,
   "outputs": [
    {
     "name": "stderr",
     "output_type": "stream",
     "text": [
      "2023-07-05 17:03:27,187 - INFO - Impute columns to 0\n",
      "2023-07-05 17:03:27,376 - INFO - impute non binary pbp columns ...\n",
      "2023-07-05 17:03:27,943 - INFO - Impute columns to 0\n",
      "2023-07-05 17:03:28,593 - INFO - Impute columns to 0:00\n",
      "2023-07-05 17:03:29,783 - INFO - Impute columns to NA\n",
      "2023-07-05 17:03:34,856 - INFO - moving play_id to play_counter, and creating a joinable play_id key\n",
      "2023-07-05 17:03:35,383 - INFO - Conform key actions like pass, rush, kickoff, etc. and add a single category field called actions... \n",
      "2023-07-05 17:03:40,197 - INFO - Validate actions dimension ...\n",
      "2023-07-05 17:03:40,370 - INFO - Creating new drive dimension...\n",
      "2023-07-05 17:03:40,422 - INFO - Validate drive_df dimension ...\n",
      "2023-07-05 17:03:40,651 - INFO - Creating new situations dimension...\n",
      "2023-07-05 17:03:40,703 - INFO - Validate situation_df dimension ...\n",
      "2023-07-05 17:03:40,899 - INFO - Creating new metrics dimension...\n",
      "2023-07-05 17:03:40,942 - INFO - Validate play_metrics_df dimension ...\n",
      "2023-07-05 17:03:41,033 - INFO - Creating new game dimension...\n",
      "2023-07-05 17:03:41,671 - INFO - Validate games dimension ...\n",
      "2023-07-05 17:03:41,675 - INFO - Create stats for pbp player involvement by play ...\n",
      "2023-07-05 17:03:45,707 - INFO - Creating new analytics dimension...\n"
     ]
    },
    {
     "name": "stdout",
     "output_type": "stream",
     "text": [
      "CPU times: user 15 s, sys: 4.78 s, total: 19.8 s\n",
      "Wall time: 20.5 s\n"
     ]
    }
   ],
   "source": [
    "\n",
    "%%time\n",
    "datasets = transform_pbp(pbp)"
   ],
   "metadata": {
    "collapsed": false,
    "ExecuteTime": {
     "end_time": "2023-07-06T00:03:45.790227Z",
     "start_time": "2023-07-06T00:03:25.299938Z"
    }
   }
  },
  {
   "cell_type": "markdown",
   "source": [],
   "metadata": {
    "collapsed": false
   }
  },
  {
   "cell_type": "markdown",
   "source": [
    "---\n",
    "\n",
    "# <font color=teal>load and transform play by play participation datasets</font>"
   ],
   "metadata": {
    "collapsed": false
   }
  },
  {
   "cell_type": "markdown",
   "source": [
    "### <font color=\"#9370DB\">load</font>"
   ],
   "metadata": {
    "collapsed": false
   }
  },
  {
   "cell_type": "code",
   "execution_count": 7,
   "outputs": [
    {
     "name": "stderr",
     "output_type": "stream",
     "text": [
      "2023-07-05 17:03:45,790 - INFO - Reading all files from pbp-participation\n",
      "2023-07-05 17:03:45,791 - INFO -   + Reading pbp-participation_2018.csv\n",
      "2023-07-05 17:03:45,945 - INFO -   + Reading pbp-participation_2019.csv\n",
      "2023-07-05 17:03:46,092 - INFO -   + Reading pbp-participation_2021.csv\n",
      "2023-07-05 17:03:46,250 - INFO -   + Reading pbp-participation_2020.csv\n",
      "2023-07-05 17:03:46,403 - INFO -   + Reading pbp-participation_2022.csv\n",
      "2023-07-05 17:03:46,551 - INFO -   + Reading pbp-participation_2017.csv\n",
      "2023-07-05 17:03:46,700 - INFO -   + Reading pbp-participation_2016.csv\n"
     ]
    },
    {
     "name": "stdout",
     "output_type": "stream",
     "text": [
      "CPU times: user 1.01 s, sys: 117 ms, total: 1.13 s\n",
      "Wall time: 1.13 s\n"
     ]
    }
   ],
   "source": [
    "%%time\n",
    "pbp_participation_df = load_files('pbp-participation')\n"
   ],
   "metadata": {
    "collapsed": false,
    "ExecuteTime": {
     "end_time": "2023-07-06T00:03:46.923852Z",
     "start_time": "2023-07-06T00:03:45.791757Z"
    }
   }
  },
  {
   "cell_type": "markdown",
   "source": [
    "### <font color=\"#9370DB\">transform</font>"
   ],
   "metadata": {
    "collapsed": false
   }
  },
  {
   "cell_type": "code",
   "execution_count": 8,
   "outputs": [
    {
     "name": "stderr",
     "output_type": "stream",
     "text": [
      "2023-07-05 17:03:46,923 - INFO - pbp_participation:  move play_id to a play_count column and create a unique play_id that can be used in joins...\n",
      "2023-07-05 17:03:47,140 - INFO - Calculating defense and offense team names by player and play...\n",
      "2023-07-05 17:03:49,462 - INFO - Exploding offensive players to their own dataset...\n",
      "2023-07-05 17:03:50,911 - INFO - Exploding defense_players to their own dataset...\n",
      "2023-07-05 17:03:58,827 - WARNING - combining offense and defense players - counts are incorrect 6903461 != 6837089\n"
     ]
    }
   ],
   "source": [
    "\n",
    "player_df, player_events_df = transform_pbp_participation(\n",
    "    participation_df=pbp_participation_df,\n",
    "    player_events=datasets['player_events'])\n",
    "\n",
    "datasets.update({\n",
    "    'player_participation': player_df,\n",
    "    'player_events': player_events_df,\n",
    "})"
   ],
   "metadata": {
    "collapsed": false,
    "ExecuteTime": {
     "end_time": "2023-07-06T00:04:02.674502Z",
     "start_time": "2023-07-06T00:03:46.924314Z"
    }
   }
  },
  {
   "cell_type": "markdown",
   "source": [],
   "metadata": {
    "collapsed": false
   }
  },
  {
   "cell_type": "markdown",
   "source": [
    "---\n",
    "\n",
    "# <font color=teal>transform player injuries<</font>"
   ],
   "metadata": {
    "collapsed": false
   }
  },
  {
   "cell_type": "markdown",
   "source": [
    "### <font color=\"#9370DB\">load</font>"
   ],
   "metadata": {
    "collapsed": false
   }
  },
  {
   "cell_type": "code",
   "execution_count": 9,
   "outputs": [
    {
     "name": "stderr",
     "output_type": "stream",
     "text": [
      "2023-07-05 17:04:02,675 - INFO - Reading all files from injuries\n",
      "2023-07-05 17:04:02,676 - INFO -   + Reading injuries_2016.csv\n",
      "2023-07-05 17:04:02,684 - INFO -   + Reading injuries_2017.csv\n",
      "2023-07-05 17:04:02,693 - INFO -   + Reading injuries_2020.csv\n",
      "2023-07-05 17:04:02,703 - INFO -   + Reading injuries_2021.csv\n",
      "2023-07-05 17:04:02,712 - INFO -   + Reading injuries_2022.csv\n",
      "2023-07-05 17:04:02,721 - INFO -   + Reading injuries_2019.csv\n",
      "2023-07-05 17:04:02,730 - INFO -   + Reading injuries_2018.csv\n"
     ]
    },
    {
     "name": "stdout",
     "output_type": "stream",
     "text": [
      "CPU times: user 63.5 ms, sys: 6.48 ms, total: 69.9 ms\n",
      "Wall time: 71.2 ms\n"
     ]
    }
   ],
   "source": [
    "%%time\n",
    "injuries_df = load_files('injuries')"
   ],
   "metadata": {
    "collapsed": false,
    "ExecuteTime": {
     "end_time": "2023-07-06T00:04:02.750446Z",
     "start_time": "2023-07-06T00:04:02.676144Z"
    }
   }
  },
  {
   "cell_type": "markdown",
   "source": [
    "### <font color=\"#9370DB\">transform</font>"
   ],
   "metadata": {
    "collapsed": false
   }
  },
  {
   "cell_type": "code",
   "execution_count": 10,
   "outputs": [
    {
     "name": "stderr",
     "output_type": "stream",
     "text": [
      "2023-07-05 17:04:02,749 - INFO - Prep injury data...\n",
      "2023-07-05 17:04:02,750 - INFO - Conforming names (e.g. gsis_id -> player_id)\n",
      "2023-07-05 17:04:02,758 - INFO - Merge sparse injury columns\n",
      "2023-07-05 17:04:02,760 - INFO - Get best values for null report_statuses...\n",
      "2023-07-05 17:04:02,827 - INFO - check that all positions are correct...\n"
     ]
    },
    {
     "name": "stdout",
     "output_type": "stream",
     "text": [
      "CPU times: user 78.7 ms, sys: 4.03 ms, total: 82.8 ms\n",
      "Wall time: 83.6 ms\n"
     ]
    }
   ],
   "source": [
    "%%time\n",
    "injuries_df = prep_player_injuries(injuries_df)"
   ],
   "metadata": {
    "collapsed": false,
    "ExecuteTime": {
     "end_time": "2023-07-06T00:04:02.837004Z",
     "start_time": "2023-07-06T00:04:02.750778Z"
    }
   }
  },
  {
   "cell_type": "markdown",
   "source": [],
   "metadata": {
    "collapsed": false
   }
  },
  {
   "cell_type": "markdown",
   "source": [
    "---\n",
    "\n",
    "# <font color=teal>transform player stats</font>"
   ],
   "metadata": {
    "collapsed": false
   }
  },
  {
   "cell_type": "code",
   "execution_count": 11,
   "outputs": [
    {
     "name": "stderr",
     "output_type": "stream",
     "text": [
      "2023-07-05 17:04:02,836 - INFO - Reading all files from player-stats\n",
      "2023-07-05 17:04:02,837 - INFO -   + Reading player-stats.csv\n",
      "2023-07-05 17:04:03,118 - INFO - fix specific player_stats: <function player_stats_fixes at 0x13086c700>..\n",
      "2023-07-05 17:04:03,189 - INFO - replace empty position_groups with position info...\n",
      "2023-07-05 17:04:03,200 - INFO - replace empty player_name with player_display_name info...\n",
      "2023-07-05 17:04:03,209 - INFO - replace empty headshot_url with 'none'...\n",
      "2023-07-05 17:04:03,217 - INFO - fillna(0) for all binary columns...\n",
      "2023-07-05 17:04:03,218 - INFO - Impute columns to 0\n",
      "2023-07-05 17:04:03,401 - WARNING - After merge player_stats count changed - went from 124081 to 124083\n"
     ]
    },
    {
     "name": "stdout",
     "output_type": "stream",
     "text": [
      "CPU times: user 472 ms, sys: 99.4 ms, total: 571 ms\n",
      "Wall time: 569 ms\n"
     ]
    }
   ],
   "source": [
    "%%time\n",
    "stats_df = load_files('player-stats')\n",
    "stats_df = transform_player_stats(stats_df)\n",
    "stats_df = merge_injuries(player_stats=stats_df, player_injuries=injuries_df)"
   ],
   "metadata": {
    "collapsed": false,
    "ExecuteTime": {
     "end_time": "2023-07-06T00:04:03.409242Z",
     "start_time": "2023-07-06T00:04:02.837256Z"
    }
   }
  },
  {
   "cell_type": "markdown",
   "source": [],
   "metadata": {
    "collapsed": false
   }
  },
  {
   "cell_type": "markdown",
   "source": [
    "---\n",
    "\n",
    "# <font color=teal>direct loads </font>"
   ],
   "metadata": {
    "collapsed": false
   }
  },
  {
   "cell_type": "markdown",
   "source": [
    "### <font color=\"#9370DB\">adv stats</font>"
   ],
   "metadata": {
    "collapsed": false
   }
  },
  {
   "cell_type": "code",
   "execution_count": 12,
   "outputs": [
    {
     "name": "stderr",
     "output_type": "stream",
     "text": [
      "2023-07-05 17:04:03,408 - INFO - Reading all files from advstats-season-def\n",
      "2023-07-05 17:04:03,409 - INFO -   + Reading advstats-season-def.csv\n",
      "2023-07-05 17:04:03,418 - INFO - Reading all files from advstats-season-pass\n",
      "2023-07-05 17:04:03,418 - INFO -   + Reading advstats-season-pass.csv\n",
      "2023-07-05 17:04:03,421 - INFO - Reading all files from advstats-season-rec\n",
      "2023-07-05 17:04:03,422 - INFO -   + Reading advstats-season-rec.csv\n",
      "2023-07-05 17:04:03,427 - INFO - Reading all files from advstats-season-rush\n",
      "2023-07-05 17:04:03,427 - INFO -   + Reading advstats-season-rush.csv\n"
     ]
    },
    {
     "name": "stdout",
     "output_type": "stream",
     "text": [
      "CPU times: user 18.5 ms, sys: 4.59 ms, total: 23.1 ms\n",
      "Wall time: 22.9 ms\n"
     ]
    }
   ],
   "source": [
    "%%time\n",
    "\n",
    "advstats_def_df = load_files('advstats-season-def')\n",
    "advstats_pass_df = load_files('advstats-season-pass')\n",
    "advstats_rec_df = load_files('advstats-season-rec')\n",
    "advstats_rush_df = load_files('advstats-season-rush')\n"
   ],
   "metadata": {
    "collapsed": false,
    "ExecuteTime": {
     "end_time": "2023-07-06T00:04:03.444935Z",
     "start_time": "2023-07-06T00:04:03.409450Z"
    }
   }
  },
  {
   "cell_type": "markdown",
   "source": [
    "### <font color=\"#9370DB\">nextgen stats</font>"
   ],
   "metadata": {
    "collapsed": false
   }
  },
  {
   "cell_type": "code",
   "execution_count": 13,
   "outputs": [
    {
     "name": "stderr",
     "output_type": "stream",
     "text": [
      "2023-07-05 17:04:03,434 - INFO - Reading all files from nextgen-passing\n",
      "2023-07-05 17:04:03,435 - INFO -   + Reading nextgen-passing_2017.csv.gz\n",
      "2023-07-05 17:04:03,439 - INFO -   + Reading nextgen-passing_2021.csv.gz\n",
      "2023-07-05 17:04:03,443 - INFO -   + Reading nextgen-passing_2019.csv.gz\n",
      "2023-07-05 17:04:03,448 - INFO -   + Reading nextgen-passing_2020.csv.gz\n",
      "2023-07-05 17:04:03,452 - INFO -   + Reading nextgen-passing_2016.csv.gz\n",
      "2023-07-05 17:04:03,457 - INFO -   + Reading nextgen-passing_2022.csv.gz\n",
      "2023-07-05 17:04:03,463 - INFO -   + Reading nextgen-passing_2018.csv.gz\n"
     ]
    },
    {
     "name": "stdout",
     "output_type": "stream",
     "text": [
      "CPU times: user 28.9 ms, sys: 4.96 ms, total: 33.8 ms\n",
      "Wall time: 35.4 ms\n"
     ]
    }
   ],
   "source": [
    "%%time\n",
    "next_pass_df = load_files('nextgen-passing')\n"
   ],
   "metadata": {
    "collapsed": false,
    "ExecuteTime": {
     "end_time": "2023-07-06T00:04:03.501169Z",
     "start_time": "2023-07-06T00:04:03.435178Z"
    }
   }
  },
  {
   "cell_type": "code",
   "execution_count": 14,
   "outputs": [
    {
     "name": "stderr",
     "output_type": "stream",
     "text": [
      "2023-07-05 17:04:03,472 - INFO - Reading all files from nextgen-receiving\n",
      "2023-07-05 17:04:03,473 - INFO -   + Reading nextgen-receiving_2021.csv.gz\n",
      "2023-07-05 17:04:03,479 - INFO -   + Reading nextgen-receiving_2017.csv.gz\n",
      "2023-07-05 17:04:03,485 - INFO -   + Reading nextgen-receiving_2019.csv.gz\n",
      "2023-07-05 17:04:03,490 - INFO -   + Reading nextgen-receiving_2016.csv.gz\n",
      "2023-07-05 17:04:03,496 - INFO -   + Reading nextgen-receiving_2020.csv.gz\n",
      "2023-07-05 17:04:03,503 - INFO -   + Reading nextgen-receiving_2018.csv.gz\n",
      "2023-07-05 17:04:03,509 - INFO -   + Reading nextgen-receiving_2022.csv.gz\n"
     ]
    },
    {
     "name": "stdout",
     "output_type": "stream",
     "text": [
      "CPU times: user 38.2 ms, sys: 5.88 ms, total: 44.1 ms\n",
      "Wall time: 44.8 ms\n"
     ]
    }
   ],
   "source": [
    "%%time\n",
    "next_rec_df = load_files('nextgen-receiving')\n"
   ],
   "metadata": {
    "collapsed": false,
    "ExecuteTime": {
     "end_time": "2023-07-06T00:04:03.551786Z",
     "start_time": "2023-07-06T00:04:03.473586Z"
    }
   }
  },
  {
   "cell_type": "code",
   "execution_count": 15,
   "outputs": [
    {
     "name": "stderr",
     "output_type": "stream",
     "text": [
      "2023-07-05 17:04:03,520 - INFO - Reading all files from nextgen-rushing\n",
      "2023-07-05 17:04:03,520 - INFO -   + Reading nextgen-rushing_2018.csv.gz\n",
      "2023-07-05 17:04:03,524 - INFO -   + Reading nextgen-rushing_2022.csv.gz\n",
      "2023-07-05 17:04:03,529 - INFO -   + Reading nextgen-rushing_2016.csv.gz\n",
      "2023-07-05 17:04:03,532 - INFO -   + Reading nextgen-rushing_2020.csv.gz\n",
      "2023-07-05 17:04:03,535 - INFO -   + Reading nextgen-rushing_2019.csv.gz\n",
      "2023-07-05 17:04:03,538 - INFO -   + Reading nextgen-rushing_2021.csv.gz\n",
      "2023-07-05 17:04:03,541 - INFO -   + Reading nextgen-rushing_2017.csv.gz\n"
     ]
    },
    {
     "name": "stdout",
     "output_type": "stream",
     "text": [
      "CPU times: user 21.1 ms, sys: 3.78 ms, total: 24.9 ms\n",
      "Wall time: 25.3 ms\n"
     ]
    }
   ],
   "source": [
    "%%time\n",
    "next_rush_df = load_files('nextgen-rushing')"
   ],
   "metadata": {
    "collapsed": false,
    "ExecuteTime": {
     "end_time": "2023-07-06T00:04:03.553636Z",
     "start_time": "2023-07-06T00:04:03.521011Z"
    }
   }
  },
  {
   "cell_type": "markdown",
   "source": [
    "### <font color=\"#9370DB\">players</font>"
   ],
   "metadata": {
    "collapsed": false
   }
  },
  {
   "cell_type": "code",
   "execution_count": 16,
   "outputs": [
    {
     "name": "stderr",
     "output_type": "stream",
     "text": [
      "2023-07-05 17:04:03,547 - INFO - Reading all files from players\n",
      "2023-07-05 17:04:03,548 - INFO -   + Reading players.csv\n",
      "2023-07-05 17:04:03,620 - INFO - Process players dataset...\n",
      "2023-07-05 17:04:03,621 - INFO - drop players without gsis_ids - they won't link to player_stats\n",
      "2023-07-05 17:04:03,635 - INFO - fill empty players status to 'NONE'\n",
      "2023-07-05 17:04:03,640 - INFO - rename gsis_id to player_id...\n"
     ]
    },
    {
     "name": "stdout",
     "output_type": "stream",
     "text": [
      "CPU times: user 81.5 ms, sys: 11.6 ms, total: 93.1 ms\n",
      "Wall time: 94.3 ms\n"
     ]
    }
   ],
   "source": [
    "%%time\n",
    "players_df = load_files('players')\n",
    "players_df = transform_players(players_df)"
   ],
   "metadata": {
    "collapsed": false,
    "ExecuteTime": {
     "end_time": "2023-07-06T00:04:03.646622Z",
     "start_time": "2023-07-06T00:04:03.548674Z"
    }
   }
  },
  {
   "cell_type": "markdown",
   "source": [
    "---\n",
    "\n",
    "# <font color=teal>store to database so we can perform some SQL operations</font>"
   ],
   "metadata": {
    "collapsed": false
   }
  },
  {
   "cell_type": "code",
   "execution_count": 17,
   "outputs": [],
   "source": [
    "def load_all_datasets_to_db(data: dict):\n",
    "    data['schema'] = database_schema\n",
    "    load_dims_to_db(data)\n"
   ],
   "metadata": {
    "collapsed": false,
    "ExecuteTime": {
     "end_time": "2023-07-06T00:04:03.655833Z",
     "start_time": "2023-07-06T00:04:03.646512Z"
    }
   }
  },
  {
   "cell_type": "code",
   "execution_count": 19,
   "outputs": [
    {
     "name": "stderr",
     "output_type": "stream",
     "text": [
      "2023-07-05 17:13:52,536 - INFO - create table play_actions in schema controls\n",
      "2023-07-05 17:14:23,070 - INFO - create table game_drive in schema controls\n",
      "2023-07-05 17:14:42,901 - INFO - create table play_analytics in schema controls\n",
      "2023-07-05 17:15:53,202 - INFO - create table play_situations in schema controls\n",
      "2023-07-05 17:16:23,157 - INFO - create table play_metrics in schema controls\n",
      "2023-07-05 17:16:45,654 - INFO - create table player_events in schema controls\n",
      "2023-07-05 17:16:56,528 - INFO - create table game_info in schema controls\n",
      "2023-07-05 17:16:56,713 - INFO - create table player_participation in schema controls\n",
      "2023-07-05 17:21:26,211 - INFO - create table players in schema controls\n",
      "2023-07-05 17:21:27,803 - INFO - create table player_stats in schema controls\n",
      "2023-07-05 17:21:44,563 - INFO - create table adv_stats_def in schema controls\n",
      "2023-07-05 17:21:44,945 - INFO - create table adv_stats_pass in schema controls\n",
      "2023-07-05 17:21:45,003 - INFO - create table adv_stats_rec in schema controls\n",
      "2023-07-05 17:21:45,204 - INFO - create table adv_stats_rush in schema controls\n",
      "2023-07-05 17:21:45,324 - INFO - create table nextgen_pass in schema controls\n",
      "2023-07-05 17:21:45,711 - INFO - create table nextgen_rec in schema controls\n",
      "2023-07-05 17:21:46,432 - INFO - create table nextgen_rush in schema controls\n"
     ]
    },
    {
     "name": "stdout",
     "output_type": "stream",
     "text": [
      "CPU times: user 3min 51s, sys: 54 s, total: 4min 45s\n",
      "Wall time: 7min 54s\n"
     ]
    }
   ],
   "source": [
    "%%time\n",
    "if LOAD_TO_DB:\n",
    "    datasets.update({\n",
    "        'players': players_df,\n",
    "        'player_stats': stats_df,\n",
    "        'adv_stats_def': advstats_def_df,\n",
    "        'adv_stats_pass': advstats_pass_df,\n",
    "        'adv_stats_rec': advstats_rec_df,\n",
    "        'adv_stats_rush': advstats_rush_df,\n",
    "        'nextgen_pass': next_pass_df,\n",
    "        'nextgen_rec': next_rec_df,\n",
    "        'nextgen_rush': next_rush_df\n",
    "    })\n",
    "    load_all_datasets_to_db(datasets)"
   ],
   "metadata": {
    "collapsed": false,
    "ExecuteTime": {
     "end_time": "2023-07-06T00:21:46.727703Z",
     "start_time": "2023-07-06T00:13:52.538689Z"
    }
   }
  },
  {
   "cell_type": "code",
   "execution_count": 18,
   "outputs": [],
   "source": [],
   "metadata": {
    "collapsed": false,
    "ExecuteTime": {
     "end_time": "2023-07-06T00:12:35.752412Z",
     "start_time": "2023-07-06T00:12:35.748794Z"
    }
   }
  }
 ],
 "metadata": {
  "kernelspec": {
   "display_name": "Python 3",
   "language": "python",
   "name": "python3"
  },
  "language_info": {
   "codemirror_mode": {
    "name": "ipython",
    "version": 2
   },
   "file_extension": ".py",
   "mimetype": "text/x-python",
   "name": "python",
   "nbconvert_exporter": "python",
   "pygments_lexer": "ipython2",
   "version": "2.7.6"
  }
 },
 "nbformat": 4,
 "nbformat_minor": 0
}
