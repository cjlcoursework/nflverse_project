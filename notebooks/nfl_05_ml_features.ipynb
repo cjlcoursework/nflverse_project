{
 "cells": [
  {
   "cell_type": "markdown",
   "source": [
    "Goal:  Select features for a play-level model that calculates the potential of each play call (e.g. pass, rush, field goal, etc)  based on the situation and poer scores\n",
    "    - X values are all the features we've gathered at the level of one record per game, where the target y = WIN/LOSS\n",
    "    - Use stats and ML to select the fetures that impact wins and losses\n",
    "    - we'll use these to create an offense-power and defense-power for each play in each  game\n",
    "    - that should allow us to\n",
    "\n",
    "Input: nfl_ml_weekly_stats.parquet\n",
    "\n",
    "Activity:\n",
    "    - Extract performance data\n",
    "    - convert ints to float\n",
    "    - measure correlation against the WIN/LOSS target\n",
    "    - Classify important features from XGBoost\n",
    "    - Classify weights from a shallow neural net\n",
    "    - review that they are all in agreement and pick the best from each analysis\n",
    "    - Use SHAP to get the relative weights (importance) for each feature\n",
    "    - Manually separate stats that are offense-related and those that are defence related - for any given drive the offense and defense flip. and we want to be able to provide the stats for whichever team is on offense vs the stats for the opposing team\n",
    "    - take the weighted average of each feature * its weights from SHAP - sum them all up to get a\n",
    "    - this produces a **power_scores** dataset with single offense_power score and defense_power score for each team, for each season and week\n",
    "    - query a version of the **play_actions** table from the database that we'll use to input for a play calling model\n",
    "    - merge the **power_scores** and **play_actions** datasets, so we have the correct offense and defense 'powers' scored for each play, depending on which team is offense and defense.\n",
    "\n"
   ],
   "metadata": {
    "collapsed": false
   }
  },
  {
   "cell_type": "markdown",
   "source": [
    "# imports"
   ],
   "metadata": {
    "collapsed": false
   }
  },
  {
   "cell_type": "code",
   "execution_count": 1,
   "outputs": [],
   "source": [
    "import os\n",
    "import pandas as pd\n",
    "import sys\n",
    "\n",
    "sys.path.append(os.path.abspath(\"../src\"))"
   ],
   "metadata": {
    "collapsed": false,
    "ExecuteTime": {
     "end_time": "2023-07-14T03:02:36.384969Z",
     "start_time": "2023-07-14T03:02:36.022457Z"
    }
   }
  },
  {
   "cell_type": "code",
   "execution_count": 2,
   "outputs": [],
   "source": [
    "import numpy as np\n",
    "import xgboost as xgb\n",
    "from matplotlib import pyplot as plt\n",
    "from sklearn.metrics import confusion_matrix, ConfusionMatrixDisplay, precision_score, recall_score, f1_score\n",
    "from sklearn.model_selection import train_test_split\n",
    "from tensorflow.keras.layers import Dense\n",
    "from tensorflow.keras.models import Sequential\n",
    "\n",
    "import warnings\n",
    "\n",
    "warnings.filterwarnings('ignore')\n"
   ],
   "metadata": {
    "collapsed": false,
    "ExecuteTime": {
     "end_time": "2023-07-14T03:02:39.746580Z",
     "start_time": "2023-07-14T03:02:36.386687Z"
    }
   }
  },
  {
   "cell_type": "code",
   "execution_count": 3,
   "outputs": [],
   "source": [
    "from src import *"
   ],
   "metadata": {
    "collapsed": false,
    "ExecuteTime": {
     "end_time": "2023-07-14T03:02:40.879837Z",
     "start_time": "2023-07-14T03:02:39.746908Z"
    }
   }
  },
  {
   "cell_type": "markdown",
   "source": [
    "# set flags"
   ],
   "metadata": {
    "collapsed": false
   }
  },
  {
   "cell_type": "code",
   "execution_count": 4,
   "outputs": [],
   "source": [
    "db = database_loader.DatabaseLoader(get_config('connection_string'))\n",
    "DEBUG = False\n",
    "SCHEMA = 'controls'\n",
    "\n",
    "file_name = \"nfl_ml_weekly_stats\"\n",
    "data_directory = get_config('data_directory')\n",
    "\n",
    "\n",
    "plt.style.use('ggplot')\n"
   ],
   "metadata": {
    "collapsed": false,
    "ExecuteTime": {
     "end_time": "2023-07-14T03:02:40.882499Z",
     "start_time": "2023-07-14T03:02:40.880790Z"
    }
   }
  },
  {
   "cell_type": "markdown",
   "source": [
    "# load the NFL stats dataset"
   ],
   "metadata": {
    "collapsed": false
   }
  },
  {
   "cell_type": "markdown",
   "source": [
    "# perform feature selection"
   ],
   "metadata": {
    "collapsed": false
   }
  },
  {
   "cell_type": "markdown",
   "source": [
    "## prepare our data for feature selection\n",
    "We'll have an X, and y set plus the original stats_df datasets, which we'll use going forward"
   ],
   "metadata": {
    "collapsed": false
   }
  },
  {
   "cell_type": "code",
   "execution_count": 5,
   "outputs": [
    {
     "name": "stdout",
     "output_type": "stream",
     "text": [
      "CPU times: user 43 ms, sys: 24.4 ms, total: 67.5 ms\n",
      "Wall time: 41.3 ms\n"
     ]
    },
    {
     "data": {
      "text/plain": "   row_id  season  week          game_id  drive  play_counter posteam  \\\n0       3    2016     1  2016_01_DET_IND    1.0          55.0     IND   \n1       4    2016     1  2016_01_MIN_TEN    1.0          58.0     TEN   \n2       6    2016     1  2016_01_NYG_DAL    1.0          60.0     DAL   \n3       7    2016     1   2016_01_GB_JAX    1.0          62.0     JAX   \n4      10    2016     1  2016_01_MIA_SEA    1.0          75.0     SEA   \n\n   posteam_score  posteam_score_post defteam  ...  defteam_score_post  \\\n0              0                   0     DET  ...                 0.0   \n1              0                   0     MIN  ...                 0.0   \n2              0                   0     NYG  ...                 0.0   \n3              0                   0      GB  ...                 0.0   \n4              0                   0     MIA  ...                 0.0   \n\n   point_differential  next_starting_score  down  ydstogo  yards_to_goal  \\\n0                 0.0                  0.0   1.0     10.0             75   \n1                 0.0                  0.0   1.0     10.0             71   \n2                 0.0                  0.0   1.0     10.0             75   \n3                 0.0                  0.0   1.0     10.0             82   \n4                 0.0                  0.0   2.0      3.0             68   \n\n   game_seconds_remaining  action yards_gained  points_gained  \n0                  3600.0    pass          6.0              0  \n1                  3594.0    rush          6.0              0  \n2                  3600.0    rush          1.0              0  \n3                  3596.0    rush          6.0              0  \n4                  3569.0    pass          6.0              0  \n\n[5 rows x 21 columns]",
      "text/html": "<div>\n<style scoped>\n    .dataframe tbody tr th:only-of-type {\n        vertical-align: middle;\n    }\n\n    .dataframe tbody tr th {\n        vertical-align: top;\n    }\n\n    .dataframe thead th {\n        text-align: right;\n    }\n</style>\n<table border=\"1\" class=\"dataframe\">\n  <thead>\n    <tr style=\"text-align: right;\">\n      <th></th>\n      <th>row_id</th>\n      <th>season</th>\n      <th>week</th>\n      <th>game_id</th>\n      <th>drive</th>\n      <th>play_counter</th>\n      <th>posteam</th>\n      <th>posteam_score</th>\n      <th>posteam_score_post</th>\n      <th>defteam</th>\n      <th>...</th>\n      <th>defteam_score_post</th>\n      <th>point_differential</th>\n      <th>next_starting_score</th>\n      <th>down</th>\n      <th>ydstogo</th>\n      <th>yards_to_goal</th>\n      <th>game_seconds_remaining</th>\n      <th>action</th>\n      <th>yards_gained</th>\n      <th>points_gained</th>\n    </tr>\n  </thead>\n  <tbody>\n    <tr>\n      <th>0</th>\n      <td>3</td>\n      <td>2016</td>\n      <td>1</td>\n      <td>2016_01_DET_IND</td>\n      <td>1.0</td>\n      <td>55.0</td>\n      <td>IND</td>\n      <td>0</td>\n      <td>0</td>\n      <td>DET</td>\n      <td>...</td>\n      <td>0.0</td>\n      <td>0.0</td>\n      <td>0.0</td>\n      <td>1.0</td>\n      <td>10.0</td>\n      <td>75</td>\n      <td>3600.0</td>\n      <td>pass</td>\n      <td>6.0</td>\n      <td>0</td>\n    </tr>\n    <tr>\n      <th>1</th>\n      <td>4</td>\n      <td>2016</td>\n      <td>1</td>\n      <td>2016_01_MIN_TEN</td>\n      <td>1.0</td>\n      <td>58.0</td>\n      <td>TEN</td>\n      <td>0</td>\n      <td>0</td>\n      <td>MIN</td>\n      <td>...</td>\n      <td>0.0</td>\n      <td>0.0</td>\n      <td>0.0</td>\n      <td>1.0</td>\n      <td>10.0</td>\n      <td>71</td>\n      <td>3594.0</td>\n      <td>rush</td>\n      <td>6.0</td>\n      <td>0</td>\n    </tr>\n    <tr>\n      <th>2</th>\n      <td>6</td>\n      <td>2016</td>\n      <td>1</td>\n      <td>2016_01_NYG_DAL</td>\n      <td>1.0</td>\n      <td>60.0</td>\n      <td>DAL</td>\n      <td>0</td>\n      <td>0</td>\n      <td>NYG</td>\n      <td>...</td>\n      <td>0.0</td>\n      <td>0.0</td>\n      <td>0.0</td>\n      <td>1.0</td>\n      <td>10.0</td>\n      <td>75</td>\n      <td>3600.0</td>\n      <td>rush</td>\n      <td>1.0</td>\n      <td>0</td>\n    </tr>\n    <tr>\n      <th>3</th>\n      <td>7</td>\n      <td>2016</td>\n      <td>1</td>\n      <td>2016_01_GB_JAX</td>\n      <td>1.0</td>\n      <td>62.0</td>\n      <td>JAX</td>\n      <td>0</td>\n      <td>0</td>\n      <td>GB</td>\n      <td>...</td>\n      <td>0.0</td>\n      <td>0.0</td>\n      <td>0.0</td>\n      <td>1.0</td>\n      <td>10.0</td>\n      <td>82</td>\n      <td>3596.0</td>\n      <td>rush</td>\n      <td>6.0</td>\n      <td>0</td>\n    </tr>\n    <tr>\n      <th>4</th>\n      <td>10</td>\n      <td>2016</td>\n      <td>1</td>\n      <td>2016_01_MIA_SEA</td>\n      <td>1.0</td>\n      <td>75.0</td>\n      <td>SEA</td>\n      <td>0</td>\n      <td>0</td>\n      <td>MIA</td>\n      <td>...</td>\n      <td>0.0</td>\n      <td>0.0</td>\n      <td>0.0</td>\n      <td>2.0</td>\n      <td>3.0</td>\n      <td>68</td>\n      <td>3569.0</td>\n      <td>pass</td>\n      <td>6.0</td>\n      <td>0</td>\n    </tr>\n  </tbody>\n</table>\n<p>5 rows × 21 columns</p>\n</div>"
     },
     "execution_count": 5,
     "metadata": {},
     "output_type": "execute_result"
    }
   ],
   "source": [
    "%%time\n",
    "full_path = os.path.join(data_directory, \"pbp_actions.parquet\")\n",
    "pbp_actions_df = pd.read_parquet(full_path)\n",
    "pbp_actions_df.head()"
   ],
   "metadata": {
    "collapsed": false,
    "ExecuteTime": {
     "end_time": "2023-07-14T03:02:40.935120Z",
     "start_time": "2023-07-14T03:02:40.884276Z"
    }
   }
  },
  {
   "cell_type": "code",
   "execution_count": 6,
   "outputs": [],
   "source": [
    "# pbp_actions_df = pbp_actions_df.loc[(pbp_actions_df.season> 2016)]\n",
    "pbp_actions_df.loc[(pbp_actions_df['defteam']=='LA'), 'defteam'] = 'LAC'\n"
   ],
   "metadata": {
    "collapsed": false,
    "ExecuteTime": {
     "end_time": "2023-07-14T03:02:40.945638Z",
     "start_time": "2023-07-14T03:02:40.943020Z"
    }
   }
  },
  {
   "cell_type": "code",
   "execution_count": 7,
   "outputs": [
    {
     "name": "stdout",
     "output_type": "stream",
     "text": [
      "CPU times: user 2.26 ms, sys: 1.13 ms, total: 3.39 ms\n",
      "Wall time: 2.39 ms\n"
     ]
    },
    {
     "data": {
      "text/plain": "  team  season  week  offense_power\n0  ARI    2016     1      28.751645\n1  ARI    2016     2      38.010825\n2  ARI    2016     3      18.231250\n3  ARI    2016     4      28.217851\n4  ARI    2016     5      33.784695",
      "text/html": "<div>\n<style scoped>\n    .dataframe tbody tr th:only-of-type {\n        vertical-align: middle;\n    }\n\n    .dataframe tbody tr th {\n        vertical-align: top;\n    }\n\n    .dataframe thead th {\n        text-align: right;\n    }\n</style>\n<table border=\"1\" class=\"dataframe\">\n  <thead>\n    <tr style=\"text-align: right;\">\n      <th></th>\n      <th>team</th>\n      <th>season</th>\n      <th>week</th>\n      <th>offense_power</th>\n    </tr>\n  </thead>\n  <tbody>\n    <tr>\n      <th>0</th>\n      <td>ARI</td>\n      <td>2016</td>\n      <td>1</td>\n      <td>28.751645</td>\n    </tr>\n    <tr>\n      <th>1</th>\n      <td>ARI</td>\n      <td>2016</td>\n      <td>2</td>\n      <td>38.010825</td>\n    </tr>\n    <tr>\n      <th>2</th>\n      <td>ARI</td>\n      <td>2016</td>\n      <td>3</td>\n      <td>18.231250</td>\n    </tr>\n    <tr>\n      <th>3</th>\n      <td>ARI</td>\n      <td>2016</td>\n      <td>4</td>\n      <td>28.217851</td>\n    </tr>\n    <tr>\n      <th>4</th>\n      <td>ARI</td>\n      <td>2016</td>\n      <td>5</td>\n      <td>33.784695</td>\n    </tr>\n  </tbody>\n</table>\n</div>"
     },
     "execution_count": 7,
     "metadata": {},
     "output_type": "execute_result"
    }
   ],
   "source": [
    "%%time\n",
    "full_path = os.path.join(data_directory, \"offense_power.parquet\")\n",
    "offense_powers_df = pd.read_parquet(full_path)\n",
    "offense_powers_df.head()"
   ],
   "metadata": {
    "collapsed": false,
    "ExecuteTime": {
     "end_time": "2023-07-14T03:02:40.952191Z",
     "start_time": "2023-07-14T03:02:40.946741Z"
    }
   }
  },
  {
   "cell_type": "code",
   "execution_count": 8,
   "outputs": [
    {
     "name": "stdout",
     "output_type": "stream",
     "text": [
      "CPU times: user 2.03 ms, sys: 1.18 ms, total: 3.21 ms\n",
      "Wall time: 2.17 ms\n"
     ]
    },
    {
     "data": {
      "text/plain": "  team  season  week  defense_power\n0  ARI    2016     1      16.028442\n1  ARI    2016     2      17.571463\n2  ARI    2016     3      19.256932\n3  ARI    2016     4      12.996981\n4  ARI    2016     5      21.221539",
      "text/html": "<div>\n<style scoped>\n    .dataframe tbody tr th:only-of-type {\n        vertical-align: middle;\n    }\n\n    .dataframe tbody tr th {\n        vertical-align: top;\n    }\n\n    .dataframe thead th {\n        text-align: right;\n    }\n</style>\n<table border=\"1\" class=\"dataframe\">\n  <thead>\n    <tr style=\"text-align: right;\">\n      <th></th>\n      <th>team</th>\n      <th>season</th>\n      <th>week</th>\n      <th>defense_power</th>\n    </tr>\n  </thead>\n  <tbody>\n    <tr>\n      <th>0</th>\n      <td>ARI</td>\n      <td>2016</td>\n      <td>1</td>\n      <td>16.028442</td>\n    </tr>\n    <tr>\n      <th>1</th>\n      <td>ARI</td>\n      <td>2016</td>\n      <td>2</td>\n      <td>17.571463</td>\n    </tr>\n    <tr>\n      <th>2</th>\n      <td>ARI</td>\n      <td>2016</td>\n      <td>3</td>\n      <td>19.256932</td>\n    </tr>\n    <tr>\n      <th>3</th>\n      <td>ARI</td>\n      <td>2016</td>\n      <td>4</td>\n      <td>12.996981</td>\n    </tr>\n    <tr>\n      <th>4</th>\n      <td>ARI</td>\n      <td>2016</td>\n      <td>5</td>\n      <td>21.221539</td>\n    </tr>\n  </tbody>\n</table>\n</div>"
     },
     "execution_count": 8,
     "metadata": {},
     "output_type": "execute_result"
    }
   ],
   "source": [
    "%%time\n",
    "full_path = os.path.join(data_directory, \"defense_power.parquet\")\n",
    "defense_powers_df = pd.read_parquet(full_path)\n",
    "defense_powers_df.head()"
   ],
   "metadata": {
    "collapsed": false,
    "ExecuteTime": {
     "end_time": "2023-07-14T03:02:40.973476Z",
     "start_time": "2023-07-14T03:02:40.953102Z"
    }
   }
  },
  {
   "cell_type": "code",
   "execution_count": 9,
   "outputs": [],
   "source": [
    "def drop_extras(df: pd.DataFrame):\n",
    "    drops=['team']\n",
    "    for col in df.columns.values:\n",
    "        if str(col).endswith(\"_y\") or str(col).endswith(\"_x\"):\n",
    "            drops.append(col)\n",
    "    if len(drops) > 0:\n",
    "        df.drop(columns=drops, inplace=True)\n"
   ],
   "metadata": {
    "collapsed": false,
    "ExecuteTime": {
     "end_time": "2023-07-14T03:02:40.973730Z",
     "start_time": "2023-07-14T03:02:40.959618Z"
    }
   }
  },
  {
   "cell_type": "code",
   "execution_count": 10,
   "outputs": [
    {
     "data": {
      "text/plain": "(202773, 22)"
     },
     "execution_count": 10,
     "metadata": {},
     "output_type": "execute_result"
    }
   ],
   "source": [
    "\n",
    "df = pd.merge(pbp_actions_df, offense_powers_df, left_on=['season', 'week', 'posteam'], right_on=['season', 'week', 'team']).drop_duplicates()\n",
    "drop_extras(df)\n",
    "df.shape"
   ],
   "metadata": {
    "collapsed": false,
    "ExecuteTime": {
     "end_time": "2023-07-14T03:02:41.159804Z",
     "start_time": "2023-07-14T03:02:40.963487Z"
    }
   }
  },
  {
   "cell_type": "code",
   "execution_count": 11,
   "outputs": [
    {
     "data": {
      "text/plain": "(202773, 23)"
     },
     "execution_count": 11,
     "metadata": {},
     "output_type": "execute_result"
    }
   ],
   "source": [
    "df = pd.merge(df, defense_powers_df, left_on=['season', 'week', 'defteam'], right_on=['season', 'week', 'team']).drop_duplicates()\n",
    "drop_extras(df)\n",
    "df.shape"
   ],
   "metadata": {
    "collapsed": false,
    "ExecuteTime": {
     "end_time": "2023-07-14T03:02:41.308894Z",
     "start_time": "2023-07-14T03:02:41.139670Z"
    }
   }
  },
  {
   "cell_type": "code",
   "execution_count": 12,
   "outputs": [
    {
     "data": {
      "text/plain": "   row_id  season  week          game_id  drive  play_counter posteam  \\\n0       3    2016     1  2016_01_DET_IND    1.0          55.0     IND   \n1      36    2016     1  2016_01_DET_IND    1.0         142.0     IND   \n2      80    2016     1  2016_01_DET_IND    1.0         241.0     IND   \n3     199    2016     1  2016_01_DET_IND    3.0         532.0     IND   \n4     219    2016     1  2016_01_DET_IND    3.0         577.0     IND   \n\n   posteam_score  posteam_score_post defteam  ...  next_starting_score  down  \\\n0              0                   0     DET  ...                  0.0   1.0   \n1              0                   0     DET  ...                  0.0   2.0   \n2              0                   0     DET  ...                  NaN   3.0   \n3              0                   0     DET  ...                  0.0   1.0   \n4              0                   0     DET  ...                  NaN   3.0   \n\n   ydstogo  yards_to_goal  game_seconds_remaining  action  yards_gained  \\\n0     10.0             75                  3600.0    pass           6.0   \n1      6.0             61                  3454.0    rush           2.0   \n2     15.0             51                  3295.0    pass           3.0   \n3     10.0             75                  2983.0    pass           0.0   \n4      8.0             73                  2902.0    pass           0.0   \n\n   points_gained offense_power  defense_power  \n0              0     31.511925      16.006158  \n1              0     31.511925      16.006158  \n2              0     31.511925      16.006158  \n3              0     31.511925      16.006158  \n4              0     31.511925      16.006158  \n\n[5 rows x 23 columns]",
      "text/html": "<div>\n<style scoped>\n    .dataframe tbody tr th:only-of-type {\n        vertical-align: middle;\n    }\n\n    .dataframe tbody tr th {\n        vertical-align: top;\n    }\n\n    .dataframe thead th {\n        text-align: right;\n    }\n</style>\n<table border=\"1\" class=\"dataframe\">\n  <thead>\n    <tr style=\"text-align: right;\">\n      <th></th>\n      <th>row_id</th>\n      <th>season</th>\n      <th>week</th>\n      <th>game_id</th>\n      <th>drive</th>\n      <th>play_counter</th>\n      <th>posteam</th>\n      <th>posteam_score</th>\n      <th>posteam_score_post</th>\n      <th>defteam</th>\n      <th>...</th>\n      <th>next_starting_score</th>\n      <th>down</th>\n      <th>ydstogo</th>\n      <th>yards_to_goal</th>\n      <th>game_seconds_remaining</th>\n      <th>action</th>\n      <th>yards_gained</th>\n      <th>points_gained</th>\n      <th>offense_power</th>\n      <th>defense_power</th>\n    </tr>\n  </thead>\n  <tbody>\n    <tr>\n      <th>0</th>\n      <td>3</td>\n      <td>2016</td>\n      <td>1</td>\n      <td>2016_01_DET_IND</td>\n      <td>1.0</td>\n      <td>55.0</td>\n      <td>IND</td>\n      <td>0</td>\n      <td>0</td>\n      <td>DET</td>\n      <td>...</td>\n      <td>0.0</td>\n      <td>1.0</td>\n      <td>10.0</td>\n      <td>75</td>\n      <td>3600.0</td>\n      <td>pass</td>\n      <td>6.0</td>\n      <td>0</td>\n      <td>31.511925</td>\n      <td>16.006158</td>\n    </tr>\n    <tr>\n      <th>1</th>\n      <td>36</td>\n      <td>2016</td>\n      <td>1</td>\n      <td>2016_01_DET_IND</td>\n      <td>1.0</td>\n      <td>142.0</td>\n      <td>IND</td>\n      <td>0</td>\n      <td>0</td>\n      <td>DET</td>\n      <td>...</td>\n      <td>0.0</td>\n      <td>2.0</td>\n      <td>6.0</td>\n      <td>61</td>\n      <td>3454.0</td>\n      <td>rush</td>\n      <td>2.0</td>\n      <td>0</td>\n      <td>31.511925</td>\n      <td>16.006158</td>\n    </tr>\n    <tr>\n      <th>2</th>\n      <td>80</td>\n      <td>2016</td>\n      <td>1</td>\n      <td>2016_01_DET_IND</td>\n      <td>1.0</td>\n      <td>241.0</td>\n      <td>IND</td>\n      <td>0</td>\n      <td>0</td>\n      <td>DET</td>\n      <td>...</td>\n      <td>NaN</td>\n      <td>3.0</td>\n      <td>15.0</td>\n      <td>51</td>\n      <td>3295.0</td>\n      <td>pass</td>\n      <td>3.0</td>\n      <td>0</td>\n      <td>31.511925</td>\n      <td>16.006158</td>\n    </tr>\n    <tr>\n      <th>3</th>\n      <td>199</td>\n      <td>2016</td>\n      <td>1</td>\n      <td>2016_01_DET_IND</td>\n      <td>3.0</td>\n      <td>532.0</td>\n      <td>IND</td>\n      <td>0</td>\n      <td>0</td>\n      <td>DET</td>\n      <td>...</td>\n      <td>0.0</td>\n      <td>1.0</td>\n      <td>10.0</td>\n      <td>75</td>\n      <td>2983.0</td>\n      <td>pass</td>\n      <td>0.0</td>\n      <td>0</td>\n      <td>31.511925</td>\n      <td>16.006158</td>\n    </tr>\n    <tr>\n      <th>4</th>\n      <td>219</td>\n      <td>2016</td>\n      <td>1</td>\n      <td>2016_01_DET_IND</td>\n      <td>3.0</td>\n      <td>577.0</td>\n      <td>IND</td>\n      <td>0</td>\n      <td>0</td>\n      <td>DET</td>\n      <td>...</td>\n      <td>NaN</td>\n      <td>3.0</td>\n      <td>8.0</td>\n      <td>73</td>\n      <td>2902.0</td>\n      <td>pass</td>\n      <td>0.0</td>\n      <td>0</td>\n      <td>31.511925</td>\n      <td>16.006158</td>\n    </tr>\n  </tbody>\n</table>\n<p>5 rows × 23 columns</p>\n</div>"
     },
     "execution_count": 12,
     "metadata": {},
     "output_type": "execute_result"
    }
   ],
   "source": [
    "df.head()"
   ],
   "metadata": {
    "collapsed": false,
    "ExecuteTime": {
     "end_time": "2023-07-14T03:02:41.317192Z",
     "start_time": "2023-07-14T03:02:41.314811Z"
    }
   }
  },
  {
   "cell_type": "code",
   "execution_count": 13,
   "outputs": [
    {
     "data": {
      "text/plain": "   season  week  drive  play_counter posteam defteam  point_differential  \\\n0    2016     1    1.0          55.0     IND     DET                 0.0   \n1    2016     1    1.0         142.0     IND     DET                 0.0   \n2    2016     1    1.0         241.0     IND     DET                 0.0   \n3    2016     1    3.0         532.0     IND     DET                -7.0   \n4    2016     1    3.0         577.0     IND     DET                -7.0   \n\n   down  ydstogo  yards_to_goal  game_seconds_remaining action  yards_gained  \\\n0   1.0     10.0             75                  3600.0   pass           6.0   \n1   2.0      6.0             61                  3454.0   rush           2.0   \n2   3.0     15.0             51                  3295.0   pass           3.0   \n3   1.0     10.0             75                  2983.0   pass           0.0   \n4   3.0      8.0             73                  2902.0   pass           0.0   \n\n   points_gained  defense_power  offense_power  \n0              0      16.006158      31.511925  \n1              0      16.006158      31.511925  \n2              0      16.006158      31.511925  \n3              0      16.006158      31.511925  \n4              0      16.006158      31.511925  ",
      "text/html": "<div>\n<style scoped>\n    .dataframe tbody tr th:only-of-type {\n        vertical-align: middle;\n    }\n\n    .dataframe tbody tr th {\n        vertical-align: top;\n    }\n\n    .dataframe thead th {\n        text-align: right;\n    }\n</style>\n<table border=\"1\" class=\"dataframe\">\n  <thead>\n    <tr style=\"text-align: right;\">\n      <th></th>\n      <th>season</th>\n      <th>week</th>\n      <th>drive</th>\n      <th>play_counter</th>\n      <th>posteam</th>\n      <th>defteam</th>\n      <th>point_differential</th>\n      <th>down</th>\n      <th>ydstogo</th>\n      <th>yards_to_goal</th>\n      <th>game_seconds_remaining</th>\n      <th>action</th>\n      <th>yards_gained</th>\n      <th>points_gained</th>\n      <th>defense_power</th>\n      <th>offense_power</th>\n    </tr>\n  </thead>\n  <tbody>\n    <tr>\n      <th>0</th>\n      <td>2016</td>\n      <td>1</td>\n      <td>1.0</td>\n      <td>55.0</td>\n      <td>IND</td>\n      <td>DET</td>\n      <td>0.0</td>\n      <td>1.0</td>\n      <td>10.0</td>\n      <td>75</td>\n      <td>3600.0</td>\n      <td>pass</td>\n      <td>6.0</td>\n      <td>0</td>\n      <td>16.006158</td>\n      <td>31.511925</td>\n    </tr>\n    <tr>\n      <th>1</th>\n      <td>2016</td>\n      <td>1</td>\n      <td>1.0</td>\n      <td>142.0</td>\n      <td>IND</td>\n      <td>DET</td>\n      <td>0.0</td>\n      <td>2.0</td>\n      <td>6.0</td>\n      <td>61</td>\n      <td>3454.0</td>\n      <td>rush</td>\n      <td>2.0</td>\n      <td>0</td>\n      <td>16.006158</td>\n      <td>31.511925</td>\n    </tr>\n    <tr>\n      <th>2</th>\n      <td>2016</td>\n      <td>1</td>\n      <td>1.0</td>\n      <td>241.0</td>\n      <td>IND</td>\n      <td>DET</td>\n      <td>0.0</td>\n      <td>3.0</td>\n      <td>15.0</td>\n      <td>51</td>\n      <td>3295.0</td>\n      <td>pass</td>\n      <td>3.0</td>\n      <td>0</td>\n      <td>16.006158</td>\n      <td>31.511925</td>\n    </tr>\n    <tr>\n      <th>3</th>\n      <td>2016</td>\n      <td>1</td>\n      <td>3.0</td>\n      <td>532.0</td>\n      <td>IND</td>\n      <td>DET</td>\n      <td>-7.0</td>\n      <td>1.0</td>\n      <td>10.0</td>\n      <td>75</td>\n      <td>2983.0</td>\n      <td>pass</td>\n      <td>0.0</td>\n      <td>0</td>\n      <td>16.006158</td>\n      <td>31.511925</td>\n    </tr>\n    <tr>\n      <th>4</th>\n      <td>2016</td>\n      <td>1</td>\n      <td>3.0</td>\n      <td>577.0</td>\n      <td>IND</td>\n      <td>DET</td>\n      <td>-7.0</td>\n      <td>3.0</td>\n      <td>8.0</td>\n      <td>73</td>\n      <td>2902.0</td>\n      <td>pass</td>\n      <td>0.0</td>\n      <td>0</td>\n      <td>16.006158</td>\n      <td>31.511925</td>\n    </tr>\n  </tbody>\n</table>\n</div>"
     },
     "execution_count": 13,
     "metadata": {},
     "output_type": "execute_result"
    }
   ],
   "source": [
    "pbp_play_calls_df = df[[\n",
    "    'season',\n",
    "    'week',\n",
    "    'drive',\n",
    "    'play_counter',\n",
    "    'posteam',\n",
    "    'defteam',\n",
    "    'point_differential',\n",
    "    'down',\n",
    "    'ydstogo',\n",
    "    'yards_to_goal',\n",
    "    'game_seconds_remaining',\n",
    "    'action',\n",
    "    'yards_gained',\n",
    "    'points_gained',\n",
    "    'defense_power',\n",
    "    'offense_power']]\n",
    "pbp_play_calls_df.head()"
   ],
   "metadata": {
    "collapsed": false,
    "ExecuteTime": {
     "end_time": "2023-07-14T03:02:41.361219Z",
     "start_time": "2023-07-14T03:02:41.321070Z"
    }
   }
  },
  {
   "cell_type": "code",
   "execution_count": 14,
   "outputs": [
    {
     "name": "stdout",
     "output_type": "stream",
     "text": [
      "validate expected results from one drive\n",
      "(202773, 16)\n"
     ]
    },
    {
     "data": {
      "text/plain": "     season  week  drive  play_counter posteam defteam  point_differential  \\\n395    2016     1    7.0        1004.0     BAL     BUF                 3.0   \n368    2016     1    7.0        1108.0     BAL     BUF                 3.0   \n356    2016     1    7.0        1129.0     BAL     BUF                 3.0   \n357    2016     1    7.0        1153.0     BAL     BUF                 3.0   \n369    2016     1    7.0        1173.0     BAL     BUF                 9.0   \n\n     down  ydstogo  yards_to_goal  game_seconds_remaining       action  \\\n395   1.0     10.0             85                  2579.0         pass   \n368   1.0     15.0             80                  2492.0         rush   \n356   2.0      5.0             70                  2457.0         pass   \n357   3.0      1.0             66                  2422.0         pass   \n369   0.0      0.0             15                  2411.0  extra_point   \n\n     yards_gained  points_gained  defense_power  offense_power  \n395           0.0              0      18.977319      31.920248  \n368          10.0              0      18.977319      31.920248  \n356           4.0              0      18.977319      31.920248  \n357          66.0              6      18.977319      31.920248  \n369           0.0              1      18.977319      31.920248  ",
      "text/html": "<div>\n<style scoped>\n    .dataframe tbody tr th:only-of-type {\n        vertical-align: middle;\n    }\n\n    .dataframe tbody tr th {\n        vertical-align: top;\n    }\n\n    .dataframe thead th {\n        text-align: right;\n    }\n</style>\n<table border=\"1\" class=\"dataframe\">\n  <thead>\n    <tr style=\"text-align: right;\">\n      <th></th>\n      <th>season</th>\n      <th>week</th>\n      <th>drive</th>\n      <th>play_counter</th>\n      <th>posteam</th>\n      <th>defteam</th>\n      <th>point_differential</th>\n      <th>down</th>\n      <th>ydstogo</th>\n      <th>yards_to_goal</th>\n      <th>game_seconds_remaining</th>\n      <th>action</th>\n      <th>yards_gained</th>\n      <th>points_gained</th>\n      <th>defense_power</th>\n      <th>offense_power</th>\n    </tr>\n  </thead>\n  <tbody>\n    <tr>\n      <th>395</th>\n      <td>2016</td>\n      <td>1</td>\n      <td>7.0</td>\n      <td>1004.0</td>\n      <td>BAL</td>\n      <td>BUF</td>\n      <td>3.0</td>\n      <td>1.0</td>\n      <td>10.0</td>\n      <td>85</td>\n      <td>2579.0</td>\n      <td>pass</td>\n      <td>0.0</td>\n      <td>0</td>\n      <td>18.977319</td>\n      <td>31.920248</td>\n    </tr>\n    <tr>\n      <th>368</th>\n      <td>2016</td>\n      <td>1</td>\n      <td>7.0</td>\n      <td>1108.0</td>\n      <td>BAL</td>\n      <td>BUF</td>\n      <td>3.0</td>\n      <td>1.0</td>\n      <td>15.0</td>\n      <td>80</td>\n      <td>2492.0</td>\n      <td>rush</td>\n      <td>10.0</td>\n      <td>0</td>\n      <td>18.977319</td>\n      <td>31.920248</td>\n    </tr>\n    <tr>\n      <th>356</th>\n      <td>2016</td>\n      <td>1</td>\n      <td>7.0</td>\n      <td>1129.0</td>\n      <td>BAL</td>\n      <td>BUF</td>\n      <td>3.0</td>\n      <td>2.0</td>\n      <td>5.0</td>\n      <td>70</td>\n      <td>2457.0</td>\n      <td>pass</td>\n      <td>4.0</td>\n      <td>0</td>\n      <td>18.977319</td>\n      <td>31.920248</td>\n    </tr>\n    <tr>\n      <th>357</th>\n      <td>2016</td>\n      <td>1</td>\n      <td>7.0</td>\n      <td>1153.0</td>\n      <td>BAL</td>\n      <td>BUF</td>\n      <td>3.0</td>\n      <td>3.0</td>\n      <td>1.0</td>\n      <td>66</td>\n      <td>2422.0</td>\n      <td>pass</td>\n      <td>66.0</td>\n      <td>6</td>\n      <td>18.977319</td>\n      <td>31.920248</td>\n    </tr>\n    <tr>\n      <th>369</th>\n      <td>2016</td>\n      <td>1</td>\n      <td>7.0</td>\n      <td>1173.0</td>\n      <td>BAL</td>\n      <td>BUF</td>\n      <td>9.0</td>\n      <td>0.0</td>\n      <td>0.0</td>\n      <td>15</td>\n      <td>2411.0</td>\n      <td>extra_point</td>\n      <td>0.0</td>\n      <td>1</td>\n      <td>18.977319</td>\n      <td>31.920248</td>\n    </tr>\n  </tbody>\n</table>\n</div>"
     },
     "execution_count": 14,
     "metadata": {},
     "output_type": "execute_result"
    }
   ],
   "source": [
    "print(\"validate expected results from one drive\")\n",
    "test_df = pbp_play_calls_df.loc[(pbp_play_calls_df.season==2016) & (pbp_play_calls_df.week==1) & (pbp_play_calls_df.drive==7) & (pbp_play_calls_df.posteam=='BAL')].sort_values(by=['play_counter'])\n",
    "assert 7 == test_df.points_gained.sum()\n",
    "assert len(test_df) == 5\n",
    "assert 80 == test_df.yards_gained.sum()\n",
    "merged_shape = pbp_play_calls_df.shape\n",
    "print(merged_shape)\n",
    "test_df"
   ],
   "metadata": {
    "collapsed": false,
    "ExecuteTime": {
     "end_time": "2023-07-14T03:02:41.424159Z",
     "start_time": "2023-07-14T03:02:41.335904Z"
    }
   }
  },
  {
   "cell_type": "markdown",
   "source": [
    "#### save features dataset"
   ],
   "metadata": {
    "collapsed": false
   }
  },
  {
   "cell_type": "code",
   "execution_count": 15,
   "outputs": [
    {
     "name": "stdout",
     "output_type": "stream",
     "text": [
      "CPU times: user 70.2 ms, sys: 9.45 ms, total: 79.6 ms\n",
      "Wall time: 78.6 ms\n"
     ]
    }
   ],
   "source": [
    "%%time\n",
    "full_path = os.path.join(data_directory, \"nfl_pbp_play_calls.parquet\")\n",
    "pbp_play_calls_df.to_parquet(full_path)"
   ],
   "metadata": {
    "collapsed": false,
    "ExecuteTime": {
     "end_time": "2023-07-14T03:02:41.523468Z",
     "start_time": "2023-07-14T03:02:41.355722Z"
    }
   }
  },
  {
   "cell_type": "code",
   "execution_count": 15,
   "outputs": [],
   "source": [],
   "metadata": {
    "collapsed": false,
    "ExecuteTime": {
     "end_time": "2023-07-14T03:02:41.523835Z",
     "start_time": "2023-07-14T03:02:41.433791Z"
    }
   }
  }
 ],
 "metadata": {
  "kernelspec": {
   "display_name": "Python 3",
   "language": "python",
   "name": "python3"
  },
  "language_info": {
   "codemirror_mode": {
    "name": "ipython",
    "version": 2
   },
   "file_extension": ".py",
   "mimetype": "text/x-python",
   "name": "python",
   "nbconvert_exporter": "python",
   "pygments_lexer": "ipython2",
   "version": "2.7.6"
  }
 },
 "nbformat": 4,
 "nbformat_minor": 0
}
