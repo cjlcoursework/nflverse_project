{
 "cells": [
  {
   "cell_type": "markdown",
   "source": [
    "<font color=teal>\n",
    "_______________________________________\n",
    "</font>\n",
    "\n",
    "\n",
    "### <font color=teal>Goal:</font>\n",
    "\n",
    "- Merge play actions and offense/defense power scores into a play by play dataset focused on play-calling\n",
    "\n",
    "### <font color=teal>Input:</font>\n",
    "\n",
    "- pbp_actions.parquet\n",
    "- defense_power.parquet\n",
    "- offense_power.parquet\n",
    "\n",
    "\n",
    "### <font color=teal>Steps:</font>\n",
    "- merge offense and defense scores into each play based on which team offense and defense\n",
    "- save the final play-calling dataset\n",
    "\n",
    "\n",
    "### <font color=teal>Code:</font>\n",
    "- /src module\n",
    "\n",
    "\n",
    "\n",
    "### <font color=teal>Output:</font>\n",
    "\n",
    "- nfl_pbp_play_calls.parquet\n",
    "\n",
    "\n",
    "\n",
    "<font color=teal>\n",
    "_______________________________________\n",
    "</font>"
   ],
   "metadata": {
    "collapsed": false
   }
  },
  {
   "cell_type": "code",
   "execution_count": 1,
   "outputs": [],
   "source": [
    "import os\n",
    "import sys\n",
    "\n",
    "sys.path.append(os.path.abspath(\"../src\"))"
   ],
   "metadata": {
    "collapsed": false,
    "ExecuteTime": {
     "end_time": "2023-07-16T01:46:24.782214Z",
     "start_time": "2023-07-16T01:46:24.773517Z"
    }
   }
  },
  {
   "cell_type": "code",
   "execution_count": 2,
   "outputs": [],
   "source": [
    "from matplotlib import pyplot as plt\n",
    "import seaborn as sns\n",
    "from tensorflow.keras.callbacks import EarlyStopping\n",
    "import tensorflow as tf\n",
    "from tensorflow.keras.layers import Input, Embedding, Dense\n",
    "from tensorflow.keras.models import Model\n",
    "\n",
    "import warnings\n",
    "\n",
    "warnings.filterwarnings('ignore')"
   ],
   "metadata": {
    "collapsed": false,
    "ExecuteTime": {
     "end_time": "2023-07-16T01:46:27.490978Z",
     "start_time": "2023-07-16T01:46:24.785857Z"
    }
   }
  },
  {
   "cell_type": "code",
   "execution_count": 3,
   "outputs": [],
   "source": [
    "from src import *"
   ],
   "metadata": {
    "collapsed": false,
    "ExecuteTime": {
     "end_time": "2023-07-16T01:46:28.622770Z",
     "start_time": "2023-07-16T01:46:27.491582Z"
    }
   }
  },
  {
   "cell_type": "code",
   "execution_count": 3,
   "outputs": [],
   "source": [],
   "metadata": {
    "collapsed": false,
    "ExecuteTime": {
     "end_time": "2023-07-16T01:46:28.624541Z",
     "start_time": "2023-07-16T01:46:28.622985Z"
    }
   }
  },
  {
   "cell_type": "code",
   "execution_count": 4,
   "outputs": [],
   "source": [
    "DEBUG = False\n",
    "\n",
    "data_directory = get_config('data_directory')\n",
    "\n",
    "plt.style.use('seaborn-darkgrid')"
   ],
   "metadata": {
    "collapsed": false,
    "ExecuteTime": {
     "end_time": "2023-07-16T01:46:28.627309Z",
     "start_time": "2023-07-16T01:46:28.626119Z"
    }
   }
  },
  {
   "cell_type": "code",
   "execution_count": 4,
   "outputs": [],
   "source": [],
   "metadata": {
    "collapsed": false,
    "ExecuteTime": {
     "end_time": "2023-07-16T01:46:28.629242Z",
     "start_time": "2023-07-16T01:46:28.627857Z"
    }
   }
  },
  {
   "cell_type": "code",
   "execution_count": 5,
   "outputs": [
    {
     "data": {
      "text/plain": "   row_id  season  week          game_id  drive  play_counter posteam  \\\n0       3    2016     1  2016_01_DET_IND    1.0          55.0     IND   \n1      36    2016     1  2016_01_DET_IND    1.0         142.0     IND   \n2      80    2016     1  2016_01_DET_IND    1.0         241.0     IND   \n3     199    2016     1  2016_01_DET_IND    3.0         532.0     IND   \n4     219    2016     1  2016_01_DET_IND    3.0         577.0     IND   \n\n   posteam_score  posteam_score_post defteam  ...  next_starting_score  down  \\\n0              0                   0     DET  ...                  0.0   1.0   \n1              0                   0     DET  ...                  0.0   2.0   \n2              0                   0     DET  ...                  NaN   3.0   \n3              0                   0     DET  ...                  0.0   1.0   \n4              0                   0     DET  ...                  NaN   3.0   \n\n   ydstogo  yards_to_goal  game_seconds_remaining  action  yards_gained  \\\n0     10.0             75                  3600.0    pass           6.0   \n1      6.0             61                  3454.0    rush           2.0   \n2     15.0             51                  3295.0    pass           3.0   \n3     10.0             75                  2983.0    pass           0.0   \n4      8.0             73                  2902.0    pass           0.0   \n\n   points_gained offense_power  defense_power  \n0              0     36.354117      19.079208  \n1              0     36.354117      19.079208  \n2              0     36.354117      19.079208  \n3              0     36.354117      19.079208  \n4              0     36.354117      19.079208  \n\n[5 rows x 23 columns]",
      "text/html": "<div>\n<style scoped>\n    .dataframe tbody tr th:only-of-type {\n        vertical-align: middle;\n    }\n\n    .dataframe tbody tr th {\n        vertical-align: top;\n    }\n\n    .dataframe thead th {\n        text-align: right;\n    }\n</style>\n<table border=\"1\" class=\"dataframe\">\n  <thead>\n    <tr style=\"text-align: right;\">\n      <th></th>\n      <th>row_id</th>\n      <th>season</th>\n      <th>week</th>\n      <th>game_id</th>\n      <th>drive</th>\n      <th>play_counter</th>\n      <th>posteam</th>\n      <th>posteam_score</th>\n      <th>posteam_score_post</th>\n      <th>defteam</th>\n      <th>...</th>\n      <th>next_starting_score</th>\n      <th>down</th>\n      <th>ydstogo</th>\n      <th>yards_to_goal</th>\n      <th>game_seconds_remaining</th>\n      <th>action</th>\n      <th>yards_gained</th>\n      <th>points_gained</th>\n      <th>offense_power</th>\n      <th>defense_power</th>\n    </tr>\n  </thead>\n  <tbody>\n    <tr>\n      <th>0</th>\n      <td>3</td>\n      <td>2016</td>\n      <td>1</td>\n      <td>2016_01_DET_IND</td>\n      <td>1.0</td>\n      <td>55.0</td>\n      <td>IND</td>\n      <td>0</td>\n      <td>0</td>\n      <td>DET</td>\n      <td>...</td>\n      <td>0.0</td>\n      <td>1.0</td>\n      <td>10.0</td>\n      <td>75</td>\n      <td>3600.0</td>\n      <td>pass</td>\n      <td>6.0</td>\n      <td>0</td>\n      <td>36.354117</td>\n      <td>19.079208</td>\n    </tr>\n    <tr>\n      <th>1</th>\n      <td>36</td>\n      <td>2016</td>\n      <td>1</td>\n      <td>2016_01_DET_IND</td>\n      <td>1.0</td>\n      <td>142.0</td>\n      <td>IND</td>\n      <td>0</td>\n      <td>0</td>\n      <td>DET</td>\n      <td>...</td>\n      <td>0.0</td>\n      <td>2.0</td>\n      <td>6.0</td>\n      <td>61</td>\n      <td>3454.0</td>\n      <td>rush</td>\n      <td>2.0</td>\n      <td>0</td>\n      <td>36.354117</td>\n      <td>19.079208</td>\n    </tr>\n    <tr>\n      <th>2</th>\n      <td>80</td>\n      <td>2016</td>\n      <td>1</td>\n      <td>2016_01_DET_IND</td>\n      <td>1.0</td>\n      <td>241.0</td>\n      <td>IND</td>\n      <td>0</td>\n      <td>0</td>\n      <td>DET</td>\n      <td>...</td>\n      <td>NaN</td>\n      <td>3.0</td>\n      <td>15.0</td>\n      <td>51</td>\n      <td>3295.0</td>\n      <td>pass</td>\n      <td>3.0</td>\n      <td>0</td>\n      <td>36.354117</td>\n      <td>19.079208</td>\n    </tr>\n    <tr>\n      <th>3</th>\n      <td>199</td>\n      <td>2016</td>\n      <td>1</td>\n      <td>2016_01_DET_IND</td>\n      <td>3.0</td>\n      <td>532.0</td>\n      <td>IND</td>\n      <td>0</td>\n      <td>0</td>\n      <td>DET</td>\n      <td>...</td>\n      <td>0.0</td>\n      <td>1.0</td>\n      <td>10.0</td>\n      <td>75</td>\n      <td>2983.0</td>\n      <td>pass</td>\n      <td>0.0</td>\n      <td>0</td>\n      <td>36.354117</td>\n      <td>19.079208</td>\n    </tr>\n    <tr>\n      <th>4</th>\n      <td>219</td>\n      <td>2016</td>\n      <td>1</td>\n      <td>2016_01_DET_IND</td>\n      <td>3.0</td>\n      <td>577.0</td>\n      <td>IND</td>\n      <td>0</td>\n      <td>0</td>\n      <td>DET</td>\n      <td>...</td>\n      <td>NaN</td>\n      <td>3.0</td>\n      <td>8.0</td>\n      <td>73</td>\n      <td>2902.0</td>\n      <td>pass</td>\n      <td>0.0</td>\n      <td>0</td>\n      <td>36.354117</td>\n      <td>19.079208</td>\n    </tr>\n  </tbody>\n</table>\n<p>5 rows × 23 columns</p>\n</div>"
     },
     "execution_count": 5,
     "metadata": {},
     "output_type": "execute_result"
    }
   ],
   "source": [
    "full_path = os.path.join(data_directory, \"nfl_pbp_play_calls.parquet\")\n",
    "pbp_actions_df = pd.read_parquet(full_path)\n",
    "pbp_actions_df.head()"
   ],
   "metadata": {
    "collapsed": false,
    "ExecuteTime": {
     "end_time": "2023-07-16T01:46:28.677991Z",
     "start_time": "2023-07-16T01:46:28.630257Z"
    }
   }
  },
  {
   "cell_type": "code",
   "execution_count": 6,
   "outputs": [
    {
     "data": {
      "text/plain": "  team  season  week  offense_power\n0  ARI    2016     1      32.910841\n1  ARI    2016     2      43.420363\n2  ARI    2016     3      19.541967\n3  ARI    2016     4      31.546562\n4  ARI    2016     5      36.564986",
      "text/html": "<div>\n<style scoped>\n    .dataframe tbody tr th:only-of-type {\n        vertical-align: middle;\n    }\n\n    .dataframe tbody tr th {\n        vertical-align: top;\n    }\n\n    .dataframe thead th {\n        text-align: right;\n    }\n</style>\n<table border=\"1\" class=\"dataframe\">\n  <thead>\n    <tr style=\"text-align: right;\">\n      <th></th>\n      <th>team</th>\n      <th>season</th>\n      <th>week</th>\n      <th>offense_power</th>\n    </tr>\n  </thead>\n  <tbody>\n    <tr>\n      <th>0</th>\n      <td>ARI</td>\n      <td>2016</td>\n      <td>1</td>\n      <td>32.910841</td>\n    </tr>\n    <tr>\n      <th>1</th>\n      <td>ARI</td>\n      <td>2016</td>\n      <td>2</td>\n      <td>43.420363</td>\n    </tr>\n    <tr>\n      <th>2</th>\n      <td>ARI</td>\n      <td>2016</td>\n      <td>3</td>\n      <td>19.541967</td>\n    </tr>\n    <tr>\n      <th>3</th>\n      <td>ARI</td>\n      <td>2016</td>\n      <td>4</td>\n      <td>31.546562</td>\n    </tr>\n    <tr>\n      <th>4</th>\n      <td>ARI</td>\n      <td>2016</td>\n      <td>5</td>\n      <td>36.564986</td>\n    </tr>\n  </tbody>\n</table>\n</div>"
     },
     "execution_count": 6,
     "metadata": {},
     "output_type": "execute_result"
    }
   ],
   "source": [
    "full_path = os.path.join(data_directory, \"offense_power.parquet\")\n",
    "offense_power_df = pd.read_parquet(full_path)\n",
    "offense_power_df.head()"
   ],
   "metadata": {
    "collapsed": false,
    "ExecuteTime": {
     "end_time": "2023-07-16T01:46:28.684016Z",
     "start_time": "2023-07-16T01:46:28.678278Z"
    }
   }
  },
  {
   "cell_type": "code",
   "execution_count": 7,
   "outputs": [
    {
     "data": {
      "text/plain": "  team  season  week  defense_power\n0  ARI    2016     1      19.289876\n1  ARI    2016     2      20.485941\n2  ARI    2016     3      22.691844\n3  ARI    2016     4      15.487278\n4  ARI    2016     5      24.862436",
      "text/html": "<div>\n<style scoped>\n    .dataframe tbody tr th:only-of-type {\n        vertical-align: middle;\n    }\n\n    .dataframe tbody tr th {\n        vertical-align: top;\n    }\n\n    .dataframe thead th {\n        text-align: right;\n    }\n</style>\n<table border=\"1\" class=\"dataframe\">\n  <thead>\n    <tr style=\"text-align: right;\">\n      <th></th>\n      <th>team</th>\n      <th>season</th>\n      <th>week</th>\n      <th>defense_power</th>\n    </tr>\n  </thead>\n  <tbody>\n    <tr>\n      <th>0</th>\n      <td>ARI</td>\n      <td>2016</td>\n      <td>1</td>\n      <td>19.289876</td>\n    </tr>\n    <tr>\n      <th>1</th>\n      <td>ARI</td>\n      <td>2016</td>\n      <td>2</td>\n      <td>20.485941</td>\n    </tr>\n    <tr>\n      <th>2</th>\n      <td>ARI</td>\n      <td>2016</td>\n      <td>3</td>\n      <td>22.691844</td>\n    </tr>\n    <tr>\n      <th>3</th>\n      <td>ARI</td>\n      <td>2016</td>\n      <td>4</td>\n      <td>15.487278</td>\n    </tr>\n    <tr>\n      <th>4</th>\n      <td>ARI</td>\n      <td>2016</td>\n      <td>5</td>\n      <td>24.862436</td>\n    </tr>\n  </tbody>\n</table>\n</div>"
     },
     "execution_count": 7,
     "metadata": {},
     "output_type": "execute_result"
    }
   ],
   "source": [
    "full_path = os.path.join(data_directory, \"defense_power.parquet\")\n",
    "defense_power_df = pd.read_parquet(full_path)\n",
    "defense_power_df.head()"
   ],
   "metadata": {
    "collapsed": false,
    "ExecuteTime": {
     "end_time": "2023-07-16T01:46:28.690533Z",
     "start_time": "2023-07-16T01:46:28.684569Z"
    }
   }
  },
  {
   "cell_type": "code",
   "execution_count": 7,
   "outputs": [],
   "source": [],
   "metadata": {
    "collapsed": false,
    "ExecuteTime": {
     "end_time": "2023-07-16T01:46:28.691856Z",
     "start_time": "2023-07-16T01:46:28.690731Z"
    }
   }
  },
  {
   "cell_type": "code",
   "execution_count": 8,
   "outputs": [],
   "source": [
    "db = database_loader.DatabaseLoader(get_config('connection_string'))\n",
    "db.load_table(df=pbp_actions_df, table_name=\"nfl_pbp_play_calls\", schema='controls')\n",
    "db.load_table(df=offense_power_df, table_name=\"offense_power\", schema='controls')\n",
    "db.load_table(df=defense_power_df, table_name=\"defense_power\", schema='controls')"
   ],
   "metadata": {
    "collapsed": false,
    "ExecuteTime": {
     "end_time": "2023-07-16T01:46:40.919490Z",
     "start_time": "2023-07-16T01:46:28.694372Z"
    }
   }
  },
  {
   "cell_type": "markdown",
   "source": [
    "\n",
    "Many of these are interesting and needed just to understand and validate the information, but they have varying effectiveness for a play call predictor\n",
    "\n",
    "- drop: season, week, play counter, -- unless we can use this to weight more recent seasons\n",
    "- not sure:\n",
    "        - drive - we get a sense of time using seconds remaining, point differential, yards_to_goal, etc.\n",
    "        - posteam - we could label this, but really offense and defense power identifies the team better for this type of application\n",
    "        - defteam - it would just take a lot longer to train - defense power is perhaps just as effective\n",
    "        - down - again, interesting from an understinf=ding of what's going on, but not really for a play call predictor\n",
    "        -\n",
    "        -\n",
    "- Keepers\n",
    "        - point differential - float\n",
    "        - yrdstogo ....float\n",
    "        - yards_to_goal - int64\n",
    "        - game seconds remaining  - float\n",
    "        - action - label\n",
    "        - yards_gained - float\n",
    "        - points gained - int\n",
    "        - defense power - float\n",
    "        - offense power - float\n",
    "        -"
   ],
   "metadata": {
    "collapsed": false
   }
  },
  {
   "cell_type": "code",
   "execution_count": null,
   "outputs": [],
   "source": [
    "pbp_actions_df['power_differential'] = pbp_actions_df['offense_power'] - pbp_actions_df['defense_power']"
   ],
   "metadata": {
    "collapsed": false
   }
  },
  {
   "cell_type": "code",
   "execution_count": null,
   "outputs": [],
   "source": [
    "keepers = [\n",
    "    'action',\n",
    "    'posteam',\n",
    "    'point_differential',\n",
    "    'ydstogo',\n",
    "    'yards_to_goal',\n",
    "    'game_seconds_remaining',\n",
    "    'power_differential',\n",
    "    'yards_gained'\n",
    "]\n",
    "\n",
    "df = pbp_actions_df[keepers]\n",
    "df.head()"
   ],
   "metadata": {
    "collapsed": false
   }
  },
  {
   "cell_type": "code",
   "execution_count": null,
   "outputs": [],
   "source": [
    "df.dropna(axis=0, inplace=True)\n",
    "assert df.isna().sum().sum() == 0"
   ],
   "metadata": {
    "collapsed": false
   }
  },
  {
   "cell_type": "code",
   "execution_count": null,
   "outputs": [],
   "source": [
    "full_dataset = pd.get_dummies(df, columns=['action', 'posteam'], prefix='', prefix_sep='')\n",
    "full_dataset.tail()"
   ],
   "metadata": {
    "collapsed": false
   }
  },
  {
   "cell_type": "code",
   "execution_count": null,
   "outputs": [],
   "source": [
    "dataset = full_dataset.sample(15000)\n",
    "dataset.shape"
   ],
   "metadata": {
    "collapsed": false
   }
  },
  {
   "cell_type": "code",
   "execution_count": null,
   "outputs": [],
   "source": [
    "# sns.pairplot(dataset[['point_differential',\n",
    "#                       'ydstogo',\n",
    "#                       'yards_to_goal',\n",
    "#                       'game_seconds_remaining',\n",
    "#                       'power_differential',\n",
    "#                       'yards_gained']], diag_kind='kde')\n",
    "# plt.show()"
   ],
   "metadata": {
    "collapsed": false
   }
  },
  {
   "cell_type": "code",
   "execution_count": null,
   "outputs": [],
   "source": [
    "train_dataset = dataset.sample(frac=0.8, random_state=0)\n",
    "test_dataset = dataset.drop(train_dataset.index)"
   ],
   "metadata": {
    "collapsed": false
   }
  },
  {
   "cell_type": "code",
   "execution_count": null,
   "outputs": [],
   "source": [
    "train_features = train_dataset.copy()\n",
    "test_features = test_dataset.copy()\n",
    "\n",
    "train_labels = train_features.pop('yards_gained')\n",
    "test_labels = test_features.pop('yards_gained')\n"
   ],
   "metadata": {
    "collapsed": false
   }
  },
  {
   "cell_type": "code",
   "execution_count": null,
   "outputs": [],
   "source": [
    "import numpy as np\n",
    "\n",
    "normalizer = tf.keras.layers.Normalization(axis=-1)\n",
    "normalizer.adapt(np.array(train_features))"
   ],
   "metadata": {
    "collapsed": false
   }
  },
  {
   "cell_type": "code",
   "execution_count": null,
   "outputs": [],
   "source": [
    "from keras.src.layers import Normalization\n",
    "\n",
    "power = np.array(train_features)\n",
    "\n",
    "power_normalizer = Normalization(input_shape=[1,], axis=None)\n",
    "power_normalizer.adapt(power)"
   ],
   "metadata": {
    "collapsed": false
   }
  },
  {
   "cell_type": "code",
   "execution_count": null,
   "outputs": [],
   "source": [
    "power_model = tf.keras.Sequential([\n",
    "    power_normalizer,\n",
    "    Dense(64, activation=\"relu\", name=\"layer1\"),\n",
    "    Dense(32, activation=\"relu\", name=\"layer2\"),\n",
    "    Dense(units=1)\n",
    "])\n",
    "\n",
    "power_model.summary()"
   ],
   "metadata": {
    "collapsed": false
   }
  },
  {
   "cell_type": "code",
   "execution_count": null,
   "outputs": [],
   "source": [
    "power_model.compile(\n",
    "    optimizer=tf.keras.optimizers.legacy.Adam(learning_rate=0.1),\n",
    "    loss='mean_absolute_error',\n",
    "    metrics=['accuracy']\n",
    ")"
   ],
   "metadata": {
    "collapsed": false
   }
  },
  {
   "cell_type": "code",
   "execution_count": null,
   "outputs": [],
   "source": [
    "%%time\n",
    "history = power_model.fit(\n",
    "    train_features['power_differential'],\n",
    "    train_labels,\n",
    "    epochs=100,\n",
    "    # Suppress logging.\n",
    "    # verbose=0,\n",
    "    # Calculate validation results on 20% of the training data.\n",
    "    validation_split = 0.2)"
   ],
   "metadata": {
    "collapsed": false
   }
  },
  {
   "cell_type": "code",
   "execution_count": null,
   "outputs": [],
   "source": [
    "def plot_loss(history):\n",
    "    plt.plot(history.history['loss'], label='loss')\n",
    "    plt.plot(history.history['val_loss'], label='val_loss')\n",
    "    plt.ylim([0, 10])\n",
    "    plt.xlabel('Epoch')\n",
    "    plt.ylabel('Error [MPG]')\n",
    "    plt.legend()\n",
    "    plt.grid(True)"
   ],
   "metadata": {
    "collapsed": false
   }
  },
  {
   "cell_type": "code",
   "execution_count": null,
   "outputs": [],
   "source": [
    "plot_loss(history)"
   ],
   "metadata": {
    "collapsed": false
   }
  },
  {
   "cell_type": "code",
   "execution_count": null,
   "outputs": [],
   "source": [],
   "metadata": {
    "collapsed": false
   }
  }
 ],
 "metadata": {
  "kernelspec": {
   "display_name": "Python 3",
   "language": "python",
   "name": "python3"
  },
  "language_info": {
   "codemirror_mode": {
    "name": "ipython",
    "version": 2
   },
   "file_extension": ".py",
   "mimetype": "text/x-python",
   "name": "python",
   "nbconvert_exporter": "python",
   "pygments_lexer": "ipython2",
   "version": "2.7.6"
  }
 },
 "nbformat": 4,
 "nbformat_minor": 0
}
