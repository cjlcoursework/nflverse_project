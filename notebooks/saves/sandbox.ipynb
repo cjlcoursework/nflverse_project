{
 "cells": [
  {
   "cell_type": "markdown",
   "source": [
    "<font color=teal>\n",
    "_______________________________________\n",
    "</font>\n",
    "\n",
    "\n",
    "### <font color=teal>Goal:</font>\n",
    "\n",
    "- Merge play actions and offense/defense power scores into a play by play dataset focused on play-calling\n",
    "\n",
    "### <font color=teal>Input:</font>\n",
    "\n",
    "- pbp_actions.parquet\n",
    "- defense_power.parquet\n",
    "- offense_power.parquet\n",
    "\n",
    "\n",
    "### <font color=teal>Steps:</font>\n",
    "- merge offense and defense scores into each play based on which team offense and defense\n",
    "- save the final play-calling dataset\n",
    "\n",
    "\n",
    "### <font color=teal>Code:</font>\n",
    "- /src module\n",
    "\n",
    "\n",
    "\n",
    "### <font color=teal>Output:</font>\n",
    "\n",
    "- nfl_pbp_play_calls.parquet\n",
    "\n",
    "\n",
    "\n",
    "<font color=teal>\n",
    "_______________________________________\n",
    "</font>"
   ],
   "metadata": {
    "collapsed": false
   }
  },
  {
   "cell_type": "code",
   "execution_count": 1,
   "outputs": [],
   "source": [
    "import os\n",
    "import sys\n",
    "\n",
    "sys.path.append(os.path.abspath(\"../src\"))"
   ],
   "metadata": {
    "collapsed": false,
    "ExecuteTime": {
     "end_time": "2023-07-18T12:56:49.294749Z",
     "start_time": "2023-07-18T12:56:49.292427Z"
    }
   }
  },
  {
   "cell_type": "code",
   "execution_count": 2,
   "outputs": [],
   "source": [
    "from matplotlib import pyplot as plt\n",
    "import seaborn as sns\n",
    "from tensorflow.keras.callbacks import EarlyStopping\n",
    "import tensorflow as tf\n",
    "from tensorflow.keras.layers import Input, Embedding, Dense\n",
    "from tensorflow.keras.models import Model\n",
    "\n",
    "import warnings\n",
    "\n",
    "warnings.filterwarnings('ignore')"
   ],
   "metadata": {
    "collapsed": false,
    "ExecuteTime": {
     "end_time": "2023-07-18T12:56:53.285224Z",
     "start_time": "2023-07-18T12:56:49.295287Z"
    }
   }
  },
  {
   "cell_type": "code",
   "execution_count": 3,
   "outputs": [],
   "source": [
    "from src import *"
   ],
   "metadata": {
    "collapsed": false,
    "ExecuteTime": {
     "end_time": "2023-07-18T12:56:55.981172Z",
     "start_time": "2023-07-18T12:56:53.898157Z"
    }
   }
  },
  {
   "cell_type": "code",
   "execution_count": 3,
   "outputs": [],
   "source": [],
   "metadata": {
    "collapsed": false,
    "ExecuteTime": {
     "end_time": "2023-07-18T12:56:55.983005Z",
     "start_time": "2023-07-18T12:56:55.981492Z"
    }
   }
  },
  {
   "cell_type": "code",
   "execution_count": 4,
   "outputs": [],
   "source": [
    "DEBUG = False\n",
    "\n",
    "data_directory = get_config('data_directory')\n",
    "\n",
    "plt.style.use('seaborn-darkgrid')"
   ],
   "metadata": {
    "collapsed": false,
    "ExecuteTime": {
     "end_time": "2023-07-18T12:56:55.986068Z",
     "start_time": "2023-07-18T12:56:55.984202Z"
    }
   }
  },
  {
   "cell_type": "code",
   "execution_count": 4,
   "outputs": [],
   "source": [],
   "metadata": {
    "collapsed": false,
    "ExecuteTime": {
     "end_time": "2023-07-18T12:56:57.132935Z",
     "start_time": "2023-07-18T12:56:57.127246Z"
    }
   }
  },
  {
   "cell_type": "code",
   "execution_count": 5,
   "outputs": [
    {
     "data": {
      "text/plain": "   season          game_id  week  drive  down           drive_id posteam  \\\n0    2016  2016_01_MIN_TEN     1    0.0   0.0  2016_01_MIN_TEN_0     MIN   \n1    2016  2016_01_MIN_TEN     1    0.0   0.0  2016_01_MIN_TEN_0     MIN   \n2    2016  2016_01_MIN_TEN     1    2.0   1.0  2016_01_MIN_TEN_2     MIN   \n3    2016  2016_01_MIN_TEN     1    2.0   2.0  2016_01_MIN_TEN_2     MIN   \n4    2016  2016_01_MIN_TEN     1    4.0   1.0  2016_01_MIN_TEN_4     MIN   \n\n  defteam       action  posteam_score  ...  two_point_attempt  \\\n0     TEN  extra_point           21.0  ...                0.0   \n1     TEN  extra_point           12.0  ...                0.0   \n2     TEN         rush            0.0  ...                0.0   \n3     TEN         pass            0.0  ...                0.0   \n4     TEN         rush            0.0  ...                0.0   \n\n   extra_point_attempt  timeout  penalty  qb_spike  \\\n0                  1.0      0.0      0.0       0.0   \n1                  1.0      0.0      0.0       0.0   \n2                  0.0      0.0      0.0       0.0   \n3                  0.0      0.0      0.0       0.0   \n4                  0.0      0.0      0.0       0.0   \n\n                                                desc  offense_op  offense_dp  \\\n0  3-B.Walsh extra point is GOOD, Center-47-K.McD...   29.927266    4.097988   \n1  3-B.Walsh extra point is No Good, Wide Right, ...   29.927266    4.097988   \n2  (10:26) 28-A.Peterson left guard to MIN 21 for...   29.927266    4.097988   \n3  (10:02) (No Huddle) 13-S.Hill pass short left ...   29.927266    4.097988   \n4  (14:14) 28-A.Peterson left tackle to TEN 13 fo...   29.927266    4.097988   \n\n   defense_op  defense_dp  \n0   29.507986    5.102293  \n1   29.507986    5.102293  \n2   29.507986    5.102293  \n3   29.507986    5.102293  \n4   29.507986    5.102293  \n\n[5 rows x 40 columns]",
      "text/html": "<div>\n<style scoped>\n    .dataframe tbody tr th:only-of-type {\n        vertical-align: middle;\n    }\n\n    .dataframe tbody tr th {\n        vertical-align: top;\n    }\n\n    .dataframe thead th {\n        text-align: right;\n    }\n</style>\n<table border=\"1\" class=\"dataframe\">\n  <thead>\n    <tr style=\"text-align: right;\">\n      <th></th>\n      <th>season</th>\n      <th>game_id</th>\n      <th>week</th>\n      <th>drive</th>\n      <th>down</th>\n      <th>drive_id</th>\n      <th>posteam</th>\n      <th>defteam</th>\n      <th>action</th>\n      <th>posteam_score</th>\n      <th>...</th>\n      <th>two_point_attempt</th>\n      <th>extra_point_attempt</th>\n      <th>timeout</th>\n      <th>penalty</th>\n      <th>qb_spike</th>\n      <th>desc</th>\n      <th>offense_op</th>\n      <th>offense_dp</th>\n      <th>defense_op</th>\n      <th>defense_dp</th>\n    </tr>\n  </thead>\n  <tbody>\n    <tr>\n      <th>0</th>\n      <td>2016</td>\n      <td>2016_01_MIN_TEN</td>\n      <td>1</td>\n      <td>0.0</td>\n      <td>0.0</td>\n      <td>2016_01_MIN_TEN_0</td>\n      <td>MIN</td>\n      <td>TEN</td>\n      <td>extra_point</td>\n      <td>21.0</td>\n      <td>...</td>\n      <td>0.0</td>\n      <td>1.0</td>\n      <td>0.0</td>\n      <td>0.0</td>\n      <td>0.0</td>\n      <td>3-B.Walsh extra point is GOOD, Center-47-K.McD...</td>\n      <td>29.927266</td>\n      <td>4.097988</td>\n      <td>29.507986</td>\n      <td>5.102293</td>\n    </tr>\n    <tr>\n      <th>1</th>\n      <td>2016</td>\n      <td>2016_01_MIN_TEN</td>\n      <td>1</td>\n      <td>0.0</td>\n      <td>0.0</td>\n      <td>2016_01_MIN_TEN_0</td>\n      <td>MIN</td>\n      <td>TEN</td>\n      <td>extra_point</td>\n      <td>12.0</td>\n      <td>...</td>\n      <td>0.0</td>\n      <td>1.0</td>\n      <td>0.0</td>\n      <td>0.0</td>\n      <td>0.0</td>\n      <td>3-B.Walsh extra point is No Good, Wide Right, ...</td>\n      <td>29.927266</td>\n      <td>4.097988</td>\n      <td>29.507986</td>\n      <td>5.102293</td>\n    </tr>\n    <tr>\n      <th>2</th>\n      <td>2016</td>\n      <td>2016_01_MIN_TEN</td>\n      <td>1</td>\n      <td>2.0</td>\n      <td>1.0</td>\n      <td>2016_01_MIN_TEN_2</td>\n      <td>MIN</td>\n      <td>TEN</td>\n      <td>rush</td>\n      <td>0.0</td>\n      <td>...</td>\n      <td>0.0</td>\n      <td>0.0</td>\n      <td>0.0</td>\n      <td>0.0</td>\n      <td>0.0</td>\n      <td>(10:26) 28-A.Peterson left guard to MIN 21 for...</td>\n      <td>29.927266</td>\n      <td>4.097988</td>\n      <td>29.507986</td>\n      <td>5.102293</td>\n    </tr>\n    <tr>\n      <th>3</th>\n      <td>2016</td>\n      <td>2016_01_MIN_TEN</td>\n      <td>1</td>\n      <td>2.0</td>\n      <td>2.0</td>\n      <td>2016_01_MIN_TEN_2</td>\n      <td>MIN</td>\n      <td>TEN</td>\n      <td>pass</td>\n      <td>0.0</td>\n      <td>...</td>\n      <td>0.0</td>\n      <td>0.0</td>\n      <td>0.0</td>\n      <td>0.0</td>\n      <td>0.0</td>\n      <td>(10:02) (No Huddle) 13-S.Hill pass short left ...</td>\n      <td>29.927266</td>\n      <td>4.097988</td>\n      <td>29.507986</td>\n      <td>5.102293</td>\n    </tr>\n    <tr>\n      <th>4</th>\n      <td>2016</td>\n      <td>2016_01_MIN_TEN</td>\n      <td>1</td>\n      <td>4.0</td>\n      <td>1.0</td>\n      <td>2016_01_MIN_TEN_4</td>\n      <td>MIN</td>\n      <td>TEN</td>\n      <td>rush</td>\n      <td>0.0</td>\n      <td>...</td>\n      <td>0.0</td>\n      <td>0.0</td>\n      <td>0.0</td>\n      <td>0.0</td>\n      <td>0.0</td>\n      <td>(14:14) 28-A.Peterson left tackle to TEN 13 fo...</td>\n      <td>29.927266</td>\n      <td>4.097988</td>\n      <td>29.507986</td>\n      <td>5.102293</td>\n    </tr>\n  </tbody>\n</table>\n<p>5 rows × 40 columns</p>\n</div>"
     },
     "execution_count": 5,
     "metadata": {},
     "output_type": "execute_result"
    }
   ],
   "source": [
    "full_path = os.path.join(data_directory, \"nfl_pbp_play_calls.parquet\")\n",
    "pbp_actions_df = pd.read_parquet(full_path)\n",
    "pbp_actions_df.head()"
   ],
   "metadata": {
    "collapsed": false,
    "ExecuteTime": {
     "end_time": "2023-07-18T12:56:57.868020Z",
     "start_time": "2023-07-18T12:56:57.648863Z"
    }
   }
  },
  {
   "cell_type": "code",
   "execution_count": 5,
   "outputs": [],
   "source": [],
   "metadata": {
    "collapsed": false,
    "ExecuteTime": {
     "end_time": "2023-07-18T12:56:59.181684Z",
     "start_time": "2023-07-18T12:56:59.173790Z"
    }
   }
  },
  {
   "cell_type": "code",
   "execution_count": 6,
   "outputs": [],
   "source": [
    "db = database_loader.DatabaseLoader(get_config('connection_string'))\n",
    "db.load_table(df=pbp_actions_df, table_name=\"nfl_pbp_play_calls\", schema='controls')\n"
   ],
   "metadata": {
    "collapsed": false,
    "ExecuteTime": {
     "end_time": "2023-07-18T12:57:25.242815Z",
     "start_time": "2023-07-18T12:57:02.049750Z"
    }
   }
  },
  {
   "cell_type": "code",
   "execution_count": null,
   "outputs": [],
   "source": [],
   "metadata": {
    "collapsed": false
   }
  }
 ],
 "metadata": {
  "kernelspec": {
   "display_name": "Python 3",
   "language": "python",
   "name": "python3"
  },
  "language_info": {
   "codemirror_mode": {
    "name": "ipython",
    "version": 2
   },
   "file_extension": ".py",
   "mimetype": "text/x-python",
   "name": "python",
   "nbconvert_exporter": "python",
   "pygments_lexer": "ipython2",
   "version": "2.7.6"
  }
 },
 "nbformat": 4,
 "nbformat_minor": 0
}
