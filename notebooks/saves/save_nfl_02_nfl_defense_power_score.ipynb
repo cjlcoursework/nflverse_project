{
 "cells": [
  {
   "cell_type": "markdown",
   "source": [
    "### Goal\n",
    "- prepare stats data for machine learning\n",
    "\n",
    "### Steps\n",
    "- : review dtypes,and prepare continuous numeric, discrete numeric, categorical, character and identity columns\n",
    "Input: nfl_weekly_stats.parquet\n",
    "Work:\n",
    "    - separate continuous numeric, discrete numeric, categorical, character and identity columns\n",
    "    - label encode\n",
    "    - merge all back together\n",
    "Output:\n",
    "    - nfl_ml_weekly_stats.parquet - cleaned, labeled data"
   ],
   "metadata": {
    "collapsed": false
   }
  },
  {
   "cell_type": "code",
   "execution_count": null,
   "outputs": [],
   "source": [
    "import os\n",
    "import pandas as pd\n",
    "import seaborn as sns\n",
    "import matplotlib.pyplot as plt"
   ],
   "metadata": {
    "collapsed": false
   }
  },
  {
   "cell_type": "code",
   "execution_count": null,
   "outputs": [],
   "source": [
    "from src import *\n"
   ],
   "metadata": {
    "collapsed": false
   }
  },
  {
   "cell_type": "code",
   "execution_count": null,
   "outputs": [],
   "source": [
    "\n",
    "db = database_loader.DatabaseLoader(get_config('connection_string'))\n",
    "DEBUG = False\n",
    "SCHEMA = 'controls'\n",
    "\n"
   ],
   "metadata": {
    "collapsed": false
   }
  },
  {
   "cell_type": "markdown",
   "source": [
    "#### load stats data"
   ],
   "metadata": {
    "collapsed": false
   }
  },
  {
   "cell_type": "code",
   "execution_count": null,
   "outputs": [],
   "source": [
    "import ipywidgets as widgets\n",
    "from IPython.display import display\n",
    "\n",
    "# Display a dropdown widget for file selection\n",
    "file_dropdown = widgets.Dropdown(\n",
    "    options=[\"nfl_weekly_defense\", \"nfl_weekly_offense\"],\n",
    "    description='Select File:',\n",
    ")\n",
    "\n",
    "# # Display a button widget to trigger notebook execution\n",
    "# run_button = widgets.Button(description='Run Notebook')\n",
    "#\n",
    "# def run_notebook(_):\n",
    "#     selected_file = file_dropdown.value\n",
    "#     # Your notebook code for processing the selected file goes here\n",
    "#     print(f\"Processing {selected_file}...\")\n",
    "#     # ...\n",
    "#     # Rest of the notebook code\n",
    "#\n",
    "# # Attach the run_notebook function to the button's on_click event\n",
    "# run_button.on_click(run_notebook)\n",
    "#\n",
    "# Display the widgets\n",
    "display(file_dropdown)\n",
    "#\n",
    "\n",
    "\n"
   ],
   "metadata": {
    "collapsed": false
   }
  },
  {
   "cell_type": "code",
   "execution_count": null,
   "outputs": [],
   "source": [
    "print(\"Selected \", file_dropdown.value)"
   ],
   "metadata": {
    "collapsed": false
   }
  },
  {
   "cell_type": "code",
   "execution_count": null,
   "outputs": [],
   "source": [
    "\n",
    "input_file_name = file_dropdown.value\n",
    "\n",
    "data_directory = get_config('data_directory')\n",
    "input_path = os.path.join(data_directory,  f\"{input_file_name}.parquet\")\n",
    "assert  os.path.exists(input_path)\n",
    "\n",
    "original_stats_df = pd.read_parquet(input_path)\n",
    "original_stats_df.head()"
   ],
   "metadata": {
    "collapsed": false
   }
  },
  {
   "cell_type": "markdown",
   "source": [
    "#### drop columns we don't need"
   ],
   "metadata": {
    "collapsed": false
   }
  },
  {
   "cell_type": "code",
   "execution_count": null,
   "outputs": [],
   "source": [
    "import numpy as np\n",
    "original_stats_df['target'] = np.where(original_stats_df['win'] == 'win', 1,\n",
    "                                     np.where(original_stats_df['win'] == 'loss', 0, 2) )\n",
    "\n",
    "raw_features_df = original_stats_df.drop(columns=['season', 'week','team', 'win', 'spread','team_coach', 'opposing_coach', 'count', 'team_score', 'opposing_team', 'opposing_score' ])\n",
    "raw_features_df.head()"
   ],
   "metadata": {
    "collapsed": false
   }
  },
  {
   "cell_type": "code",
   "execution_count": null,
   "outputs": [],
   "source": [],
   "metadata": {
    "collapsed": false
   }
  },
  {
   "cell_type": "markdown",
   "source": [
    "#### scale numeric data for ml feature selection"
   ],
   "metadata": {
    "collapsed": false
   }
  },
  {
   "cell_type": "code",
   "execution_count": null,
   "outputs": [],
   "source": [
    "from sklearn.preprocessing import MinMaxScaler\n",
    "\n",
    "scaler = MinMaxScaler()\n",
    "\n",
    "features = scaler.fit_transform(raw_features_df.to_numpy())\n",
    "features_df = pd.DataFrame(features, columns=raw_features_df.columns)\n",
    "\n",
    "print(\"Scaled Dataset Using MinMaxScaler\")\n",
    "features_df.head()"
   ],
   "metadata": {
    "collapsed": false
   }
  },
  {
   "cell_type": "markdown",
   "source": [
    "#### review correlations"
   ],
   "metadata": {
    "collapsed": false
   }
  },
  {
   "cell_type": "code",
   "execution_count": null,
   "outputs": [],
   "source": [
    "# Create heatmap using plt.imshow()\n",
    "numeric_df = original_stats_df.select_dtypes(include='number').drop(columns=['season', 'week',  'count'])\n",
    "correlation_matrix = numeric_df.corr()\n",
    "plt.figure(figsize=(10, 8))\n",
    "plt.imshow(correlation_matrix, cmap='coolwarm', interpolation='nearest')\n",
    "plt.colorbar()\n",
    "plt.title('Heatmap')\n",
    "\n",
    "\n",
    "# Set x-axis and y-axis labels\n",
    "plt.xticks(np.arange(len(numeric_df.columns)), numeric_df.columns, rotation=45)\n",
    "plt.yticks(np.arange(len(numeric_df.columns)), numeric_df.columns)\n",
    "\n",
    "\n",
    "plt.show()"
   ],
   "metadata": {
    "collapsed": false
   }
  },
  {
   "cell_type": "markdown",
   "source": [
    "### best correlations to target"
   ],
   "metadata": {
    "collapsed": false
   }
  },
  {
   "cell_type": "code",
   "execution_count": null,
   "outputs": [],
   "source": [
    "from src.utils_eda import correlate_to_target, plot_correlations\n",
    "\n",
    "top_correlations, set_correlations = correlate_to_target(features_df, 'target', 30)\n",
    "plot_correlations(top_correlations['corr'], top_correlations['y'], 'Feature Correlations')\n"
   ],
   "metadata": {
    "collapsed": false
   }
  },
  {
   "cell_type": "markdown",
   "source": [
    "### train xgboost feature model"
   ],
   "metadata": {
    "collapsed": false
   }
  },
  {
   "cell_type": "code",
   "execution_count": null,
   "outputs": [],
   "source": [
    "from src.utils_eda import calc_feature_importance\n",
    "\n",
    "y = features_df.pop('target')\n",
    "\n",
    "top_features, set_features = calc_feature_importance(features_df, y, top_n=30)\n",
    "plot_correlations(top_features['corr'], top_features['y'], \"Feature Importance\")"
   ],
   "metadata": {
    "collapsed": false
   }
  },
  {
   "cell_type": "markdown",
   "source": [
    "### concat a weighted average \"power\" score to the stats dataset"
   ],
   "metadata": {
    "collapsed": false
   }
  },
  {
   "cell_type": "code",
   "execution_count": null,
   "outputs": [],
   "source": [
    "from src.build_power_scores import concat_power_score\n",
    "\n",
    "concat_power_score(df=original_stats_df, summary_data=top_features, threshold=.01, power_column=\"defense_power\")\n",
    "original_stats_df.head()"
   ],
   "metadata": {
    "collapsed": false
   }
  },
  {
   "cell_type": "code",
   "execution_count": null,
   "outputs": [],
   "source": [
    "X = original_stats_df[[ 'defense_power']]\n",
    "y = original_stats_df[[ 'target']]\n"
   ],
   "metadata": {
    "collapsed": false
   }
  },
  {
   "cell_type": "code",
   "execution_count": null,
   "outputs": [],
   "source": [
    "from src.build_power_scores import create_shallow_model\n",
    "\n",
    "model, callbacks = create_shallow_model(X)\n",
    "\n",
    "r = model.fit(X, y, epochs=200, batch_size=64, verbose=0, validation_split=0.2, callbacks=callbacks)"
   ],
   "metadata": {
    "collapsed": false
   }
  },
  {
   "cell_type": "code",
   "execution_count": null,
   "outputs": [],
   "source": [
    "from src.utils_eda import plot_loss\n",
    "\n",
    "plot_loss(r)"
   ],
   "metadata": {
    "collapsed": false
   }
  },
  {
   "cell_type": "code",
   "execution_count": null,
   "outputs": [],
   "source": [
    "from src.utils_eda import plot_accuracy\n",
    "\n",
    "plot_accuracy(r)"
   ],
   "metadata": {
    "collapsed": false
   }
  },
  {
   "cell_type": "code",
   "execution_count": null,
   "outputs": [],
   "source": [],
   "metadata": {
    "collapsed": false
   }
  },
  {
   "cell_type": "markdown",
   "source": [
    "### save the dataset"
   ],
   "metadata": {
    "collapsed": false
   }
  },
  {
   "cell_type": "code",
   "execution_count": null,
   "outputs": [],
   "source": [
    "%%time\n",
    "\n",
    "data_directory = get_config('data_directory')\n",
    "if not os.path.exists(data_directory):\n",
    "    os.makedirs(data_directory)\n",
    "\n",
    "output_path = os.path.join(data_directory, f\"{input_file_name}_ml.parquet\")\n",
    "original_stats_df.to_parquet(output_path, engine='fastparquet', compression='snappy')"
   ],
   "metadata": {
    "collapsed": false
   }
  }
 ],
 "metadata": {
  "kernelspec": {
   "display_name": "Python 3",
   "language": "python",
   "name": "python3"
  },
  "language_info": {
   "codemirror_mode": {
    "name": "ipython",
    "version": 2
   },
   "file_extension": ".py",
   "mimetype": "text/x-python",
   "name": "python",
   "nbconvert_exporter": "python",
   "pygments_lexer": "ipython2",
   "version": "2.7.6"
  }
 },
 "nbformat": 4,
 "nbformat_minor": 0
}
