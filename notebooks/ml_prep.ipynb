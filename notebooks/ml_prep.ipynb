{
 "cells": [
  {
   "cell_type": "code",
   "execution_count": 22,
   "outputs": [],
   "source": [
    "import pandas as pd\n",
    "from pandasql import sqldf\n",
    "from sqlalchemy import create_engine, text\n",
    "\n",
    "import numpy as np\n",
    "from numpy import dtype\n"
   ],
   "metadata": {
    "collapsed": false,
    "ExecuteTime": {
     "end_time": "2023-07-07T18:32:27.417861Z",
     "start_time": "2023-07-07T18:32:27.387690Z"
    }
   }
  },
  {
   "cell_type": "code",
   "execution_count": 23,
   "outputs": [],
   "source": [
    "import os\n",
    "import sys\n",
    "\n",
    "sys.path.append(os.path.abspath(\"../src\"))"
   ],
   "metadata": {
    "collapsed": false,
    "ExecuteTime": {
     "end_time": "2023-07-07T18:32:27.444708Z",
     "start_time": "2023-07-07T18:32:27.421058Z"
    }
   }
  },
  {
   "cell_type": "code",
   "execution_count": 24,
   "outputs": [],
   "source": [
    "from src import *"
   ],
   "metadata": {
    "collapsed": false,
    "ExecuteTime": {
     "end_time": "2023-07-07T18:32:27.456452Z",
     "start_time": "2023-07-07T18:32:27.448158Z"
    }
   }
  },
  {
   "cell_type": "code",
   "execution_count": 25,
   "outputs": [],
   "source": [
    "db = database_loader.DatabaseLoader(get_config('connection_string'))\n",
    "DEBUG = False\n",
    "SCHEMA = 'controls'"
   ],
   "metadata": {
    "collapsed": false,
    "ExecuteTime": {
     "end_time": "2023-07-07T18:32:27.456662Z",
     "start_time": "2023-07-07T18:32:27.450092Z"
    }
   }
  },
  {
   "cell_type": "code",
   "execution_count": 26,
   "outputs": [
    {
     "data": {
      "text/plain": "   season  week team  rush_yards  efficiency  \\\n0    2022     1  ARI          26    5.930769   \n1    2022     3  ARI          39    5.421026   \n2    2022     4  ARI          55    3.860545   \n3    2022     6  ARI          37    5.610541   \n4    2022     7  ARI          92    2.619457   \n\n   percent_attempts_gte_eight_defenders  avg_time_to_los  rush_attempts  \\\n0                             10.000000         2.445889             10   \n1                              7.692308         2.580545             13   \n2                             40.000000         2.565267             15   \n3                              6.666667         2.708000             15   \n4                              8.333333         2.810818             12   \n\n   avg_rush_yards  rush_touchdowns  ...  receiving_2pt_conversions  \\\n0        2.600000                1  ...                          1   \n1        3.000000                0  ...                          0   \n2        3.666667                0  ...                          0   \n3        2.466667                0  ...                          0   \n4        7.666667                1  ...                          1   \n\n   special_teams_tds  opponent  team_score       team_coach  opposing_team  \\\n0                  0        KC          21  Kliff Kingsbury             KC   \n1                  0        LA          12  Kliff Kingsbury             LA   \n2                  0       CAR          26  Kliff Kingsbury            CAR   \n3                  0       SEA           9  Kliff Kingsbury            SEA   \n4                  0        NO          42  Kliff Kingsbury             NO   \n\n   opposing_score  opposing_coach  spread         ops_load_timestamp  \n0              44       Andy Reid     -23 2023-07-07 07:52:13.473767  \n1              20      Sean McVay      -8 2023-07-07 07:52:13.473767  \n2              16      Matt Rhule      10 2023-07-07 07:52:13.473767  \n3              19    Pete Carroll     -10 2023-07-07 07:52:13.473767  \n4              34    Dennis Allen       8 2023-07-07 07:52:13.473767  \n\n[5 rows x 69 columns]",
      "text/html": "<div>\n<style scoped>\n    .dataframe tbody tr th:only-of-type {\n        vertical-align: middle;\n    }\n\n    .dataframe tbody tr th {\n        vertical-align: top;\n    }\n\n    .dataframe thead th {\n        text-align: right;\n    }\n</style>\n<table border=\"1\" class=\"dataframe\">\n  <thead>\n    <tr style=\"text-align: right;\">\n      <th></th>\n      <th>season</th>\n      <th>week</th>\n      <th>team</th>\n      <th>rush_yards</th>\n      <th>efficiency</th>\n      <th>percent_attempts_gte_eight_defenders</th>\n      <th>avg_time_to_los</th>\n      <th>rush_attempts</th>\n      <th>avg_rush_yards</th>\n      <th>rush_touchdowns</th>\n      <th>...</th>\n      <th>receiving_2pt_conversions</th>\n      <th>special_teams_tds</th>\n      <th>opponent</th>\n      <th>team_score</th>\n      <th>team_coach</th>\n      <th>opposing_team</th>\n      <th>opposing_score</th>\n      <th>opposing_coach</th>\n      <th>spread</th>\n      <th>ops_load_timestamp</th>\n    </tr>\n  </thead>\n  <tbody>\n    <tr>\n      <th>0</th>\n      <td>2022</td>\n      <td>1</td>\n      <td>ARI</td>\n      <td>26</td>\n      <td>5.930769</td>\n      <td>10.000000</td>\n      <td>2.445889</td>\n      <td>10</td>\n      <td>2.600000</td>\n      <td>1</td>\n      <td>...</td>\n      <td>1</td>\n      <td>0</td>\n      <td>KC</td>\n      <td>21</td>\n      <td>Kliff Kingsbury</td>\n      <td>KC</td>\n      <td>44</td>\n      <td>Andy Reid</td>\n      <td>-23</td>\n      <td>2023-07-07 07:52:13.473767</td>\n    </tr>\n    <tr>\n      <th>1</th>\n      <td>2022</td>\n      <td>3</td>\n      <td>ARI</td>\n      <td>39</td>\n      <td>5.421026</td>\n      <td>7.692308</td>\n      <td>2.580545</td>\n      <td>13</td>\n      <td>3.000000</td>\n      <td>0</td>\n      <td>...</td>\n      <td>0</td>\n      <td>0</td>\n      <td>LA</td>\n      <td>12</td>\n      <td>Kliff Kingsbury</td>\n      <td>LA</td>\n      <td>20</td>\n      <td>Sean McVay</td>\n      <td>-8</td>\n      <td>2023-07-07 07:52:13.473767</td>\n    </tr>\n    <tr>\n      <th>2</th>\n      <td>2022</td>\n      <td>4</td>\n      <td>ARI</td>\n      <td>55</td>\n      <td>3.860545</td>\n      <td>40.000000</td>\n      <td>2.565267</td>\n      <td>15</td>\n      <td>3.666667</td>\n      <td>0</td>\n      <td>...</td>\n      <td>0</td>\n      <td>0</td>\n      <td>CAR</td>\n      <td>26</td>\n      <td>Kliff Kingsbury</td>\n      <td>CAR</td>\n      <td>16</td>\n      <td>Matt Rhule</td>\n      <td>10</td>\n      <td>2023-07-07 07:52:13.473767</td>\n    </tr>\n    <tr>\n      <th>3</th>\n      <td>2022</td>\n      <td>6</td>\n      <td>ARI</td>\n      <td>37</td>\n      <td>5.610541</td>\n      <td>6.666667</td>\n      <td>2.708000</td>\n      <td>15</td>\n      <td>2.466667</td>\n      <td>0</td>\n      <td>...</td>\n      <td>0</td>\n      <td>0</td>\n      <td>SEA</td>\n      <td>9</td>\n      <td>Kliff Kingsbury</td>\n      <td>SEA</td>\n      <td>19</td>\n      <td>Pete Carroll</td>\n      <td>-10</td>\n      <td>2023-07-07 07:52:13.473767</td>\n    </tr>\n    <tr>\n      <th>4</th>\n      <td>2022</td>\n      <td>7</td>\n      <td>ARI</td>\n      <td>92</td>\n      <td>2.619457</td>\n      <td>8.333333</td>\n      <td>2.810818</td>\n      <td>12</td>\n      <td>7.666667</td>\n      <td>1</td>\n      <td>...</td>\n      <td>1</td>\n      <td>0</td>\n      <td>NO</td>\n      <td>42</td>\n      <td>Kliff Kingsbury</td>\n      <td>NO</td>\n      <td>34</td>\n      <td>Dennis Allen</td>\n      <td>8</td>\n      <td>2023-07-07 07:52:13.473767</td>\n    </tr>\n  </tbody>\n</table>\n<p>5 rows × 69 columns</p>\n</div>"
     },
     "execution_count": 26,
     "metadata": {},
     "output_type": "execute_result"
    }
   ],
   "source": [
    "stats_df = db.read_table(table_name=\"team_weekly_stats\", schema=\"controls\")\n",
    "stats_df.head()"
   ],
   "metadata": {
    "collapsed": false,
    "ExecuteTime": {
     "end_time": "2023-07-07T18:32:27.635464Z",
     "start_time": "2023-07-07T18:32:27.458922Z"
    }
   }
  },
  {
   "cell_type": "markdown",
   "source": [
    "#### drop columns we dont need"
   ],
   "metadata": {
    "collapsed": false
   }
  },
  {
   "cell_type": "code",
   "execution_count": 27,
   "outputs": [],
   "source": [
    "\n",
    "stats_df.drop(columns=[\n",
    "    'ops_load_timestamp', 'opponent', 'team_coach', 'opposing_coach'\n",
    "], inplace=True)\n"
   ],
   "metadata": {
    "collapsed": false,
    "ExecuteTime": {
     "end_time": "2023-07-07T18:32:27.637829Z",
     "start_time": "2023-07-07T18:32:27.636353Z"
    }
   }
  },
  {
   "cell_type": "markdown",
   "source": [
    "#### dependent_columns_df: split out the potential y dependent columns"
   ],
   "metadata": {
    "collapsed": false
   }
  },
  {
   "cell_type": "code",
   "execution_count": 28,
   "outputs": [
    {
     "name": "stdout",
     "output_type": "stream",
     "text": [
      "stats_df       (3569, 65)\n"
     ]
    }
   ],
   "source": [
    "stats_shape = stats_df.shape\n",
    "print('stats_df      ', stats_shape)"
   ],
   "metadata": {
    "collapsed": false,
    "ExecuteTime": {
     "end_time": "2023-07-07T18:32:27.641377Z",
     "start_time": "2023-07-07T18:32:27.638996Z"
    }
   }
  },
  {
   "cell_type": "code",
   "execution_count": 29,
   "outputs": [
    {
     "name": "stdout",
     "output_type": "stream",
     "text": [
      "ready_columns_df (3569, 5)\n",
      "stats_df         (3569, 60)\n"
     ]
    }
   ],
   "source": [
    "set_ready_cols = {'season', 'week', 'opposing_score', 'team_score', 'spread'}\n",
    "ready_columns_df = stats_df[list(set_ready_cols)]\n",
    "stats_df = stats_df.drop(columns=set_ready_cols)\n",
    "\n",
    "print('ready_columns_df', ready_columns_df.shape)\n",
    "print('stats_df        ', stats_df.shape)"
   ],
   "metadata": {
    "collapsed": false,
    "ExecuteTime": {
     "end_time": "2023-07-07T18:32:27.645995Z",
     "start_time": "2023-07-07T18:32:27.642975Z"
    }
   }
  },
  {
   "cell_type": "markdown",
   "source": [
    "#### character_columns_df :  split out the character columns"
   ],
   "metadata": {
    "collapsed": false
   }
  },
  {
   "cell_type": "code",
   "execution_count": 30,
   "outputs": [
    {
     "name": "stdout",
     "output_type": "stream",
     "text": [
      "character_columns (3569, 2)\n",
      "stats_df       (3569, 58)\n"
     ]
    }
   ],
   "source": [
    "character_columns_df = stats_df.select_dtypes(include='object')\n",
    "stats_df = stats_df.drop(columns=character_columns_df.columns)\n",
    "set_character_columns = set(character_columns_df.columns)\n",
    "\n",
    "print('character_columns', character_columns_df.shape)\n",
    "print('stats_df      ', stats_df.shape)"
   ],
   "metadata": {
    "collapsed": false,
    "ExecuteTime": {
     "end_time": "2023-07-07T18:32:27.648343Z",
     "start_time": "2023-07-07T18:32:27.646794Z"
    }
   }
  },
  {
   "cell_type": "markdown",
   "source": [
    "#### Blah Blah"
   ],
   "metadata": {
    "collapsed": false
   }
  },
  {
   "cell_type": "code",
   "execution_count": 31,
   "outputs": [
    {
     "name": "stdout",
     "output_type": "stream",
     "text": [
      "---\n",
      "int64 columns : ['rush_attempts', 'rush_touchdowns', 'pass_touchdowns', 'interceptions', 'fumble', 'own_kickoff_recovery', 'safety', 'qb_hit', 'touchdown', 'passing_tds', 'ps_interceptions', 'sacks', 'sack_fumbles', 'sack_fumbles_lost', 'passing_first_downs', 'passing_2pt_conversions', 'rushing_tds', 'rushing_fumbles', 'rushing_fumbles_lost', 'rushing_first_downs', 'rushing_2pt_conversions', 'receiving_tds', 'receiving_fumbles', 'receiving_fumbles_lost', 'receiving_first_downs', 'receiving_2pt_conversions', 'special_teams_tds']\n"
     ]
    }
   ],
   "source": [
    "from collections import defaultdict\n",
    "\n",
    "categories = defaultdict(lambda: [])\n",
    "\n",
    "for column in stats_df.columns:\n",
    "    n = len(stats_df[column].value_counts())\n",
    "    if n < 35:\n",
    "        categories[stats_df[column].dtype.name].append(column)\n",
    "\n",
    "for k, v in categories.items():\n",
    "    print(\"---\")\n",
    "    print(f\"{k} columns : {v}\")\n",
    "\n",
    "assert 'int64' in categories and len(categories) == 1\n"
   ],
   "metadata": {
    "collapsed": false,
    "ExecuteTime": {
     "end_time": "2023-07-07T18:32:27.686314Z",
     "start_time": "2023-07-07T18:32:27.650592Z"
    }
   }
  },
  {
   "cell_type": "code",
   "execution_count": 32,
   "outputs": [
    {
     "name": "stdout",
     "output_type": "stream",
     "text": [
      "discrete_columns (3569, 27)\n",
      "stats_df       (3569, 31)\n"
     ]
    }
   ],
   "source": [
    "discrete_columns_df = stats_df[categories['int64']]\n",
    "stats_df = stats_df.drop(columns=discrete_columns_df.columns)\n",
    "set_discrete_numeric = set(discrete_columns_df.columns)\n",
    "\n",
    "print('discrete_columns', discrete_columns_df.shape)\n",
    "print('stats_df      ', stats_df.shape)"
   ],
   "metadata": {
    "collapsed": false,
    "ExecuteTime": {
     "end_time": "2023-07-07T18:32:27.746945Z",
     "start_time": "2023-07-07T18:32:27.662617Z"
    }
   }
  },
  {
   "cell_type": "code",
   "execution_count": 33,
   "outputs": [
    {
     "name": "stdout",
     "output_type": "stream",
     "text": [
      "numeric_columns_df (3569, 31)\n",
      "stats_df       (3569, 0)\n"
     ]
    }
   ],
   "source": [
    "# all numeric columns and their values\n",
    "numeric_columns_df = stats_df.select_dtypes(include='number')  ## review whats left over\n",
    "\n",
    "# this set should all be floats - find any int64's and convert them\n",
    "dtype_mapping = {col: 'float' for col in numeric_columns_df.select_dtypes(include='int64')}\n",
    "numeric_columns_df = numeric_columns_df.astype(dtype_mapping)\n",
    "\n",
    "stats_df = stats_df.drop(columns=numeric_columns_df.columns)\n",
    "\n",
    "print('numeric_columns_df', numeric_columns_df.shape)\n",
    "print('stats_df      ', stats_df.shape)"
   ],
   "metadata": {
    "collapsed": false,
    "ExecuteTime": {
     "end_time": "2023-07-07T18:32:27.747671Z",
     "start_time": "2023-07-07T18:32:27.667093Z"
    }
   }
  },
  {
   "cell_type": "markdown",
   "source": [
    "### encode discrete columns"
   ],
   "metadata": {
    "collapsed": false
   }
  },
  {
   "cell_type": "code",
   "execution_count": 34,
   "outputs": [],
   "source": [
    "from sklearn.preprocessing import LabelEncoder\n",
    "\n",
    "label_encoders = {}\n",
    "\n",
    "\n",
    "def label_encode(labels_df: pd.DataFrame, labels: dict):\n",
    "    print(\"shape before labels\", labels_df.shape, end=\"; \")\n",
    "\n",
    "    for col in labels_df.columns:\n",
    "        encoder = LabelEncoder()\n",
    "        labels_df[col] = encoder.fit_transform(labels_df[col])\n",
    "        labels[col] = dict(df=labels_df, encoder=encoder)\n",
    "\n",
    "    print(f\"after labels\", labels_df.shape)\n",
    "    return labels_df, labels\n"
   ],
   "metadata": {
    "collapsed": false,
    "ExecuteTime": {
     "end_time": "2023-07-07T18:32:27.747875Z",
     "start_time": "2023-07-07T18:32:27.674336Z"
    }
   }
  },
  {
   "cell_type": "code",
   "execution_count": 35,
   "outputs": [
    {
     "name": "stdout",
     "output_type": "stream",
     "text": [
      "shape before labels (3569, 27); after labels (3569, 27)\n"
     ]
    },
    {
     "data": {
      "text/plain": "27"
     },
     "execution_count": 35,
     "metadata": {},
     "output_type": "execute_result"
    }
   ],
   "source": [
    "discrete_columns_df, label_encoders = label_encode(labels_df=discrete_columns_df, labels=label_encoders)\n",
    "len(label_encoders)"
   ],
   "metadata": {
    "collapsed": false,
    "ExecuteTime": {
     "end_time": "2023-07-07T18:32:27.748266Z",
     "start_time": "2023-07-07T18:32:27.677131Z"
    }
   }
  },
  {
   "cell_type": "markdown",
   "source": [
    "### encode character_columns_df columns"
   ],
   "metadata": {
    "collapsed": false
   }
  },
  {
   "cell_type": "code",
   "execution_count": 36,
   "outputs": [
    {
     "name": "stdout",
     "output_type": "stream",
     "text": [
      "shape before labels (3569, 2); after labels (3569, 2)\n"
     ]
    },
    {
     "data": {
      "text/plain": "29"
     },
     "execution_count": 36,
     "metadata": {},
     "output_type": "execute_result"
    }
   ],
   "source": [
    "character_columns_df, label_encoders = label_encode(labels_df=character_columns_df, labels=label_encoders)\n",
    "len(label_encoders)"
   ],
   "metadata": {
    "collapsed": false,
    "ExecuteTime": {
     "end_time": "2023-07-07T18:32:27.748831Z",
     "start_time": "2023-07-07T18:32:27.685420Z"
    }
   }
  },
  {
   "cell_type": "markdown",
   "source": [
    "### encode dependent columns"
   ],
   "metadata": {
    "collapsed": false
   }
  },
  {
   "cell_type": "code",
   "execution_count": 37,
   "outputs": [],
   "source": [
    "# two ways we can go\n",
    "#    1) multi-column dependency, or\n",
    "#    2) just get the difference between the win and loss column - this is the 'spread' column\n",
    "\n",
    "# because in this step we are only trying to get the important dimensions for further evaluation, we'll use the spread\n",
    "# and we won't use encoding for this set - it is a set of integers both negative and positive where negative is 'lower' than positive\n",
    "\n",
    "dependent_columns_df = ready_columns_df[['spread']]\n",
    "ready_columns_df.drop(columns=['spread', 'team_score', 'opposing_score'], inplace=True)\n",
    "\n",
    "dropped_cols = 2\n"
   ],
   "metadata": {
    "collapsed": false,
    "ExecuteTime": {
     "end_time": "2023-07-07T18:32:27.759200Z",
     "start_time": "2023-07-07T18:32:27.692503Z"
    }
   }
  },
  {
   "cell_type": "code",
   "execution_count": 41,
   "outputs": [
    {
     "name": "stdout",
     "output_type": "stream",
     "text": [
      "dependent_columns_df (3569, 1)\n",
      "discrete_columns_df (3569, 27)\n",
      "character_columns_df (3569, 2)\n",
      "numeric_columns_df (3569, 31)\n",
      "ready_columns_df (3569, 2)\n"
     ]
    }
   ],
   "source": [
    "\n",
    "datasets = {\n",
    "    'dependent_columns_df': dependent_columns_df.shape,\n",
    "    'discrete_columns_df': discrete_columns_df.shape,\n",
    "    'character_columns_df': character_columns_df.shape,\n",
    "    'numeric_columns_df': numeric_columns_df.shape,\n",
    "    'ready_columns_df': ready_columns_df.shape\n",
    "}\n",
    "\n",
    "col_count = 0\n",
    "row_count = stats_df.shape[0]\n",
    "for key, shape in datasets.items():\n",
    "    col_count += shape[1]\n",
    "    assert shape[0] == row_count\n",
    "    print(key, shape)\n",
    "\n",
    "assert stats_df.shape[1] == 0\n",
    "assert stats_shape[1] == col_count + dropped_cols\n"
   ],
   "metadata": {
    "collapsed": false,
    "ExecuteTime": {
     "end_time": "2023-07-07T18:34:58.368506Z",
     "start_time": "2023-07-07T18:34:58.362259Z"
    }
   }
  },
  {
   "cell_type": "code",
   "execution_count": 39,
   "outputs": [],
   "source": [
    "original_column_names = {}\n",
    "\n",
    "for col, labels_dict in label_encoders.items():\n",
    "    df = labels_dict['df']\n",
    "    label_encoder = labels_dict['encoder']\n",
    "    original_labels = label_encoder.inverse_transform(df[col])\n",
    "    original_column_names[col] = original_labels\n"
   ],
   "metadata": {
    "collapsed": false,
    "ExecuteTime": {
     "end_time": "2023-07-07T18:32:37.881562Z",
     "start_time": "2023-07-07T18:32:37.874800Z"
    }
   }
  },
  {
   "cell_type": "code",
   "execution_count": 43,
   "outputs": [
    {
     "data": {
      "text/plain": "dict_values([(3569, 1), (3569, 27), (3569, 2), (3569, 31), (3569, 2)])"
     },
     "execution_count": 43,
     "metadata": {},
     "output_type": "execute_result"
    }
   ],
   "source": [
    "datasets.values()"
   ],
   "metadata": {
    "collapsed": false,
    "ExecuteTime": {
     "end_time": "2023-07-07T18:56:12.274502Z",
     "start_time": "2023-07-07T18:56:12.272992Z"
    }
   }
  },
  {
   "cell_type": "code",
   "execution_count": 44,
   "outputs": [
    {
     "data": {
      "text/plain": "(3569, 63)"
     },
     "execution_count": 44,
     "metadata": {},
     "output_type": "execute_result"
    }
   ],
   "source": [
    "dataframes = [\n",
    "    ready_columns_df,\n",
    "    dependent_columns_df,\n",
    "    discrete_columns_df,\n",
    "    character_columns_df,\n",
    "    numeric_columns_df\n",
    "]\n",
    "\n",
    "merge_df = pd.concat(dataframes, axis=1)\n",
    "\n",
    "assert stats_shape[1] == merge_df.shape[1] + dropped_cols\n",
    "assert stats_shape[0] == merge_df.shape[0]\n",
    "\n",
    "merge_df.shape"
   ],
   "metadata": {
    "collapsed": false,
    "ExecuteTime": {
     "end_time": "2023-07-07T18:58:19.876628Z",
     "start_time": "2023-07-07T18:58:19.869827Z"
    }
   }
  },
  {
   "cell_type": "code",
   "execution_count": 48,
   "outputs": [
    {
     "data": {
      "text/plain": "      week  season  spread  rush_attempts  rush_touchdowns  pass_touchdowns  \\\n0        1    2022     -23              0                1                2   \n1        3    2022      -8              3                0                0   \n2        4    2022      10              5                0                2   \n3        6    2022     -10              5                0                0   \n4        7    2022       8              2                1                1   \n...    ...     ...     ...            ...              ...              ...   \n3564    12    2016      -5              4                0                3   \n3565    13    2016      -8              4                0                1   \n3566    14    2016       5              6                1                2   \n3567    16    2016      20              9                0                1   \n3568    17    2016      -9              2                0                1   \n\n      interceptions  fumble  own_kickoff_recovery  safety  ...  \\\n0                 0       6                     0       0  ...   \n1                 0       2                     0       0  ...   \n2                 1       3                     0       0  ...   \n3                 1       4                     0       0  ...   \n4                 0       2                     0       0  ...   \n...             ...     ...                   ...     ...  ...   \n3564              0       1                     0       0  ...   \n3565              1       3                     0       0  ...   \n3566              1       2                     0       0  ...   \n3567              0       0                     0       0  ...   \n3568              2       2                     0       0  ...   \n\n      passing_air_yards  passing_yards_after_catch  avg_dakota  carries  \\\n0                 267.0                      115.0    0.007858     22.0   \n1                 356.0                      166.0   -0.000555     21.0   \n2                 180.0                       87.0    0.011065     37.0   \n3                 333.0                      114.0    0.003919     28.0   \n4                 216.0                       94.0    0.013561     29.0   \n...                 ...                        ...         ...      ...   \n3564              393.0                      161.0    0.025579     19.0   \n3565              286.0                      120.0    0.006349     18.0   \n3566              234.0                       59.0    0.029430     23.0   \n3567              349.0                      107.0    0.026037     35.0   \n3568              425.0                       94.0    0.004278     15.0   \n\n      rushing_yards  receptions  targets  receiving_yards  \\\n0             103.0        24.0     36.0            205.0   \n1              70.0        37.0     55.0            314.0   \n2             132.0        23.0     31.0            207.0   \n3             144.0        23.0     36.0            222.0   \n4             137.0        20.0     29.0            204.0   \n...             ...         ...      ...              ...   \n3564           56.0        41.0     53.0            449.0   \n3565           87.0        21.0     34.0            271.0   \n3566          107.0        14.0     21.0            234.0   \n3567          208.0        18.0     26.0            270.0   \n3568           38.0        22.0     34.0            287.0   \n\n      receiving_air_yards  receiving_yards_after_catch  \n0                   266.0                        115.0  \n1                   332.0                        166.0  \n2                   182.0                         87.0  \n3                   340.0                        114.0  \n4                   216.0                         94.0  \n...                   ...                          ...  \n3564                393.0                        161.0  \n3565                251.0                        120.0  \n3566                234.0                         59.0  \n3567                333.0                        107.0  \n3568                421.0                         94.0  \n\n[3569 rows x 63 columns]",
      "text/html": "<div>\n<style scoped>\n    .dataframe tbody tr th:only-of-type {\n        vertical-align: middle;\n    }\n\n    .dataframe tbody tr th {\n        vertical-align: top;\n    }\n\n    .dataframe thead th {\n        text-align: right;\n    }\n</style>\n<table border=\"1\" class=\"dataframe\">\n  <thead>\n    <tr style=\"text-align: right;\">\n      <th></th>\n      <th>week</th>\n      <th>season</th>\n      <th>spread</th>\n      <th>rush_attempts</th>\n      <th>rush_touchdowns</th>\n      <th>pass_touchdowns</th>\n      <th>interceptions</th>\n      <th>fumble</th>\n      <th>own_kickoff_recovery</th>\n      <th>safety</th>\n      <th>...</th>\n      <th>passing_air_yards</th>\n      <th>passing_yards_after_catch</th>\n      <th>avg_dakota</th>\n      <th>carries</th>\n      <th>rushing_yards</th>\n      <th>receptions</th>\n      <th>targets</th>\n      <th>receiving_yards</th>\n      <th>receiving_air_yards</th>\n      <th>receiving_yards_after_catch</th>\n    </tr>\n  </thead>\n  <tbody>\n    <tr>\n      <th>0</th>\n      <td>1</td>\n      <td>2022</td>\n      <td>-23</td>\n      <td>0</td>\n      <td>1</td>\n      <td>2</td>\n      <td>0</td>\n      <td>6</td>\n      <td>0</td>\n      <td>0</td>\n      <td>...</td>\n      <td>267.0</td>\n      <td>115.0</td>\n      <td>0.007858</td>\n      <td>22.0</td>\n      <td>103.0</td>\n      <td>24.0</td>\n      <td>36.0</td>\n      <td>205.0</td>\n      <td>266.0</td>\n      <td>115.0</td>\n    </tr>\n    <tr>\n      <th>1</th>\n      <td>3</td>\n      <td>2022</td>\n      <td>-8</td>\n      <td>3</td>\n      <td>0</td>\n      <td>0</td>\n      <td>0</td>\n      <td>2</td>\n      <td>0</td>\n      <td>0</td>\n      <td>...</td>\n      <td>356.0</td>\n      <td>166.0</td>\n      <td>-0.000555</td>\n      <td>21.0</td>\n      <td>70.0</td>\n      <td>37.0</td>\n      <td>55.0</td>\n      <td>314.0</td>\n      <td>332.0</td>\n      <td>166.0</td>\n    </tr>\n    <tr>\n      <th>2</th>\n      <td>4</td>\n      <td>2022</td>\n      <td>10</td>\n      <td>5</td>\n      <td>0</td>\n      <td>2</td>\n      <td>1</td>\n      <td>3</td>\n      <td>0</td>\n      <td>0</td>\n      <td>...</td>\n      <td>180.0</td>\n      <td>87.0</td>\n      <td>0.011065</td>\n      <td>37.0</td>\n      <td>132.0</td>\n      <td>23.0</td>\n      <td>31.0</td>\n      <td>207.0</td>\n      <td>182.0</td>\n      <td>87.0</td>\n    </tr>\n    <tr>\n      <th>3</th>\n      <td>6</td>\n      <td>2022</td>\n      <td>-10</td>\n      <td>5</td>\n      <td>0</td>\n      <td>0</td>\n      <td>1</td>\n      <td>4</td>\n      <td>0</td>\n      <td>0</td>\n      <td>...</td>\n      <td>333.0</td>\n      <td>114.0</td>\n      <td>0.003919</td>\n      <td>28.0</td>\n      <td>144.0</td>\n      <td>23.0</td>\n      <td>36.0</td>\n      <td>222.0</td>\n      <td>340.0</td>\n      <td>114.0</td>\n    </tr>\n    <tr>\n      <th>4</th>\n      <td>7</td>\n      <td>2022</td>\n      <td>8</td>\n      <td>2</td>\n      <td>1</td>\n      <td>1</td>\n      <td>0</td>\n      <td>2</td>\n      <td>0</td>\n      <td>0</td>\n      <td>...</td>\n      <td>216.0</td>\n      <td>94.0</td>\n      <td>0.013561</td>\n      <td>29.0</td>\n      <td>137.0</td>\n      <td>20.0</td>\n      <td>29.0</td>\n      <td>204.0</td>\n      <td>216.0</td>\n      <td>94.0</td>\n    </tr>\n    <tr>\n      <th>...</th>\n      <td>...</td>\n      <td>...</td>\n      <td>...</td>\n      <td>...</td>\n      <td>...</td>\n      <td>...</td>\n      <td>...</td>\n      <td>...</td>\n      <td>...</td>\n      <td>...</td>\n      <td>...</td>\n      <td>...</td>\n      <td>...</td>\n      <td>...</td>\n      <td>...</td>\n      <td>...</td>\n      <td>...</td>\n      <td>...</td>\n      <td>...</td>\n      <td>...</td>\n      <td>...</td>\n    </tr>\n    <tr>\n      <th>3564</th>\n      <td>12</td>\n      <td>2016</td>\n      <td>-5</td>\n      <td>4</td>\n      <td>0</td>\n      <td>3</td>\n      <td>0</td>\n      <td>1</td>\n      <td>0</td>\n      <td>0</td>\n      <td>...</td>\n      <td>393.0</td>\n      <td>161.0</td>\n      <td>0.025579</td>\n      <td>19.0</td>\n      <td>56.0</td>\n      <td>41.0</td>\n      <td>53.0</td>\n      <td>449.0</td>\n      <td>393.0</td>\n      <td>161.0</td>\n    </tr>\n    <tr>\n      <th>3565</th>\n      <td>13</td>\n      <td>2016</td>\n      <td>-8</td>\n      <td>4</td>\n      <td>0</td>\n      <td>1</td>\n      <td>1</td>\n      <td>3</td>\n      <td>0</td>\n      <td>0</td>\n      <td>...</td>\n      <td>286.0</td>\n      <td>120.0</td>\n      <td>0.006349</td>\n      <td>18.0</td>\n      <td>87.0</td>\n      <td>21.0</td>\n      <td>34.0</td>\n      <td>271.0</td>\n      <td>251.0</td>\n      <td>120.0</td>\n    </tr>\n    <tr>\n      <th>3566</th>\n      <td>14</td>\n      <td>2016</td>\n      <td>5</td>\n      <td>6</td>\n      <td>1</td>\n      <td>2</td>\n      <td>1</td>\n      <td>2</td>\n      <td>0</td>\n      <td>0</td>\n      <td>...</td>\n      <td>234.0</td>\n      <td>59.0</td>\n      <td>0.029430</td>\n      <td>23.0</td>\n      <td>107.0</td>\n      <td>14.0</td>\n      <td>21.0</td>\n      <td>234.0</td>\n      <td>234.0</td>\n      <td>59.0</td>\n    </tr>\n    <tr>\n      <th>3567</th>\n      <td>16</td>\n      <td>2016</td>\n      <td>20</td>\n      <td>9</td>\n      <td>0</td>\n      <td>1</td>\n      <td>0</td>\n      <td>0</td>\n      <td>0</td>\n      <td>0</td>\n      <td>...</td>\n      <td>349.0</td>\n      <td>107.0</td>\n      <td>0.026037</td>\n      <td>35.0</td>\n      <td>208.0</td>\n      <td>18.0</td>\n      <td>26.0</td>\n      <td>270.0</td>\n      <td>333.0</td>\n      <td>107.0</td>\n    </tr>\n    <tr>\n      <th>3568</th>\n      <td>17</td>\n      <td>2016</td>\n      <td>-9</td>\n      <td>2</td>\n      <td>0</td>\n      <td>1</td>\n      <td>2</td>\n      <td>2</td>\n      <td>0</td>\n      <td>0</td>\n      <td>...</td>\n      <td>425.0</td>\n      <td>94.0</td>\n      <td>0.004278</td>\n      <td>15.0</td>\n      <td>38.0</td>\n      <td>22.0</td>\n      <td>34.0</td>\n      <td>287.0</td>\n      <td>421.0</td>\n      <td>94.0</td>\n    </tr>\n  </tbody>\n</table>\n<p>3569 rows × 63 columns</p>\n</div>"
     },
     "execution_count": 48,
     "metadata": {},
     "output_type": "execute_result"
    }
   ],
   "source": [
    "merge_df"
   ],
   "metadata": {
    "collapsed": false,
    "ExecuteTime": {
     "end_time": "2023-07-07T19:00:29.045171Z",
     "start_time": "2023-07-07T19:00:29.032491Z"
    }
   }
  },
  {
   "cell_type": "code",
   "execution_count": 111,
   "outputs": [
    {
     "data": {
      "text/plain": "2"
     },
     "execution_count": 111,
     "metadata": {},
     "output_type": "execute_result"
    }
   ],
   "source": [],
   "metadata": {
    "collapsed": false,
    "ExecuteTime": {
     "end_time": "2023-07-07T18:05:57.331448Z",
     "start_time": "2023-07-07T18:05:57.326443Z"
    }
   }
  },
  {
   "cell_type": "code",
   "execution_count": null,
   "outputs": [],
   "source": [],
   "metadata": {
    "collapsed": false
   }
  }
 ],
 "metadata": {
  "kernelspec": {
   "display_name": "Python 3",
   "language": "python",
   "name": "python3"
  },
  "language_info": {
   "codemirror_mode": {
    "name": "ipython",
    "version": 2
   },
   "file_extension": ".py",
   "mimetype": "text/x-python",
   "name": "python",
   "nbconvert_exporter": "python",
   "pygments_lexer": "ipython2",
   "version": "2.7.6"
  }
 },
 "nbformat": 4,
 "nbformat_minor": 0
}
