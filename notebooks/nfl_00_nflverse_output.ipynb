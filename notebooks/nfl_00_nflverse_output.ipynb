{
 "cells": [
  {
   "cell_type": "markdown",
   "source": [
    "### Goals\n",
    "- Ingest and wrangle nflverse data\n",
    "\n",
    "### Steps\n",
    "- Download fresh data from nflverse and save to disk\n",
    "- Split data into smaller dimensions .e.g game info vs play info vs play analytics, etc.\n",
    "- Store data to SQL for further processing"
   ],
   "metadata": {
    "collapsed": false
   }
  },
  {
   "cell_type": "markdown",
   "source": [
    "# <font color=teal>imports</font>\n",
    "Most processing is performed in python code, and there's a python module to do everything here without manual"
   ],
   "metadata": {
    "collapsed": false
   }
  },
  {
   "cell_type": "code",
   "execution_count": null,
   "outputs": [],
   "source": [
    "import logging\n",
    "\n",
    "from src import configs\n",
    "import os\n",
    "import sys\n",
    "sys.path.append(os.path.abspath(\"../src\"))\n",
    "\n"
   ],
   "metadata": {
    "collapsed": false
   }
  },
  {
   "cell_type": "code",
   "execution_count": null,
   "metadata": {
    "collapsed": true
   },
   "outputs": [],
   "source": [
    "from src.nflverse_transform_job import load_files\n",
    "from src.pbp_fact import transform_pbp\n",
    "from src.nflverse_reader_job import URLReader\n",
    "from src.pbp_participation import transform_pbp_participation\n",
    "from src.player_stats import transform_player_stats, merge_injuries\n",
    "from src.player_injuries import prep_player_injuries\n",
    "from src.player_stats import transform_players\n",
    "from src.db_utils import load_dims_to_db\n"
   ]
  },
  {
   "cell_type": "markdown",
   "source": [
    "# <font color=teal>housekeeping</font>"
   ],
   "metadata": {
    "collapsed": false
   }
  },
  {
   "cell_type": "code",
   "execution_count": null,
   "outputs": [],
   "source": [
    "LOAD_TO_DB = True\n",
    "database_schema = 'controls'\n",
    "\n",
    "# Get the logger\n",
    "logger = configs.configure_logging(\"pbp_logger\")\n",
    "logger.setLevel(logging.INFO)"
   ],
   "metadata": {
    "collapsed": false
   }
  },
  {
   "cell_type": "markdown",
   "source": [
    "# <font color=teal>read data from nflverse<font/>\n",
    "Step 1.  Read data and store immediately as raw without transformation or change"
   ],
   "metadata": {
    "collapsed": false
   }
  },
  {
   "cell_type": "code",
   "execution_count": null,
   "outputs": [],
   "source": [
    "%%time\n",
    "reader = URLReader(start_year=2017, last_year=2022, file_type='parquet')\n",
    "urls = reader.download()\n"
   ],
   "metadata": {
    "collapsed": false
   }
  },
  {
   "cell_type": "markdown",
   "source": [],
   "metadata": {
    "collapsed": false
   }
  }
 ],
 "metadata": {
  "kernelspec": {
   "display_name": "Python 3",
   "language": "python",
   "name": "python3"
  },
  "language_info": {
   "codemirror_mode": {
    "name": "ipython",
    "version": 2
   },
   "file_extension": ".py",
   "mimetype": "text/x-python",
   "name": "python",
   "nbconvert_exporter": "python",
   "pygments_lexer": "ipython2",
   "version": "2.7.6"
  }
 },
 "nbformat": 4,
 "nbformat_minor": 0
}
