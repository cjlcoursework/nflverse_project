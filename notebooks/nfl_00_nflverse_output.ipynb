{
 "cells": [
  {
   "cell_type": "markdown",
   "source": [
    "<font color=teal>\n",
    "_______________________________________\n",
    "</font>\n",
    "\n",
    "\n",
    "### <font color=teal>Goal:</font>\n",
    "\n",
    "- Download data from the wonderful nflverse site\n",
    "\n",
    "### <font color=teal>Input:</font>\n",
    "\n",
    "- nflverse :: [NFLVerse Data](https://github.com/nflverse/nflverse-data/releases)\n",
    "\n",
    "\n",
    "### <font color=teal>Steps:</font>\n",
    "- download for the list of datasets we want\n",
    "- store without any transformation\n",
    "\n",
    "### <font color=teal>Code:</font>\n",
    "- /src\n",
    "\n",
    "\n",
    "### <font color=teal>Output:</font>\n",
    "\n",
    "- files at rest\n",
    "\n",
    "    ![output](../doc/images/output_directory.png)\n",
    "\n",
    "\n",
    "\n",
    "<font color=teal>\n",
    "_______________________________________\n",
    "</font>\n"
   ],
   "metadata": {
    "collapsed": false
   }
  },
  {
   "cell_type": "markdown",
   "source": [
    "### Goals\n",
    "- Ingest and wrangle nflverse data\n",
    "\n",
    "### Steps\n",
    "- Download fresh data from nflverse and save to disk\n",
    "- Split data into smaller dimensions .e.g game info vs play info vs play analytics, etc.\n",
    "- Store data to SQL for further processing"
   ],
   "metadata": {
    "collapsed": false
   }
  },
  {
   "cell_type": "markdown",
   "source": [
    "# <font color=teal>imports</font>\n",
    "Most processing is performed in python code, and there's a python module to do everything here without manual"
   ],
   "metadata": {
    "collapsed": false
   }
  },
  {
   "cell_type": "code",
   "execution_count": null,
   "outputs": [],
   "source": [
    "import logging\n",
    "import os\n",
    "import sys\n",
    "\n",
    "from src import configs\n",
    "\n",
    "sys.path.append(os.path.abspath(\"../src\"))\n",
    "\n"
   ],
   "metadata": {
    "collapsed": false
   }
  },
  {
   "cell_type": "code",
   "execution_count": null,
   "metadata": {
    "collapsed": true
   },
   "outputs": [],
   "source": [
    "\n",
    "from src.nflverse_reader_job import URLReader\n"
   ]
  },
  {
   "cell_type": "markdown",
   "source": [
    "# <font color=teal>housekeeping</font>"
   ],
   "metadata": {
    "collapsed": false
   }
  },
  {
   "cell_type": "code",
   "execution_count": null,
   "outputs": [],
   "source": [
    "LOAD_TO_DB = True\n",
    "database_schema = 'controls'\n",
    "\n",
    "# Get the logger\n",
    "logger = configs.configure_logging(\"pbp_logger\")\n",
    "logger.setLevel(logging.INFO)"
   ],
   "metadata": {
    "collapsed": false
   }
  },
  {
   "cell_type": "markdown",
   "source": [
    "# <font color=teal>read data from nflverse<font/>\n",
    "Step 1.  Read data and store immediately as raw without transformation or change"
   ],
   "metadata": {
    "collapsed": false
   }
  },
  {
   "cell_type": "code",
   "execution_count": null,
   "outputs": [],
   "source": [
    "%%time\n",
    "reader = URLReader(start_year=2017, last_year=2022, file_type='parquet')\n",
    "urls = reader.download()\n"
   ],
   "metadata": {
    "collapsed": false
   }
  },
  {
   "cell_type": "markdown",
   "source": [],
   "metadata": {
    "collapsed": false
   }
  }
 ],
 "metadata": {
  "kernelspec": {
   "display_name": "Python 3",
   "language": "python",
   "name": "python3"
  },
  "language_info": {
   "codemirror_mode": {
    "name": "ipython",
    "version": 2
   },
   "file_extension": ".py",
   "mimetype": "text/x-python",
   "name": "python",
   "nbconvert_exporter": "python",
   "pygments_lexer": "ipython2",
   "version": "2.7.6"
  }
 },
 "nbformat": 4,
 "nbformat_minor": 0
}
