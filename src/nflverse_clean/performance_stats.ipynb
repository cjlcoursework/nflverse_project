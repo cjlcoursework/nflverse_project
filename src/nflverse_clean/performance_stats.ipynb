{
 "cells": [
  {
   "cell_type": "code",
   "execution_count": 157,
   "metadata": {
    "collapsed": true,
    "ExecuteTime": {
     "end_time": "2023-07-03T22:08:43.040309Z",
     "start_time": "2023-07-03T22:08:43.035191Z"
    }
   },
   "outputs": [],
   "source": [
    "import pandas as pd\n",
    "from pandasql import sqldf\n",
    "from sqlalchemy import create_engine, text\n",
    "\n"
   ]
  },
  {
   "cell_type": "code",
   "execution_count": 158,
   "outputs": [],
   "source": [
    "from NFLVersReader.src.nflverse_clean.pbp_job import perform_workflow\n",
    "\n",
    "# results = perform_workflow()"
   ],
   "metadata": {
    "collapsed": false,
    "ExecuteTime": {
     "end_time": "2023-07-03T22:08:43.050584Z",
     "start_time": "2023-07-03T22:08:43.042532Z"
    }
   }
  },
  {
   "cell_type": "code",
   "execution_count": 159,
   "outputs": [],
   "source": [
    "# results.keys()"
   ],
   "metadata": {
    "collapsed": false,
    "ExecuteTime": {
     "end_time": "2023-07-03T22:08:43.050757Z",
     "start_time": "2023-07-03T22:08:43.044513Z"
    }
   }
  },
  {
   "cell_type": "code",
   "execution_count": 160,
   "outputs": [],
   "source": [
    "from NFLVersReader.src.nflverse_clean.configs import get_config\n",
    "from NFLVersReader.src.nflverse_clean.database_loader import DatabaseLoader\n",
    "\n",
    "db = DatabaseLoader(get_config('connection_string'))"
   ],
   "metadata": {
    "collapsed": false,
    "ExecuteTime": {
     "end_time": "2023-07-03T22:08:43.053071Z",
     "start_time": "2023-07-03T22:08:43.050370Z"
    }
   }
  },
  {
   "cell_type": "markdown",
   "source": [
    "# <font color=teal>next gen stats passing<font/>"
   ],
   "metadata": {
    "collapsed": false
   }
  },
  {
   "cell_type": "code",
   "execution_count": 161,
   "outputs": [
    {
     "data": {
      "text/plain": "   season  week team  pass_touchdowns  avg_time_to_throw  \\\n0    2016     1  ARI                2           2.467784   \n1    2016     2  ARI                3           2.742700   \n2    2016     3  ARI                0           2.475840   \n3    2016     4  ARI                1           2.485611   \n4    2016     5  ARI                2           2.924143   \n\n   avg_completed_air_yards  avg_intended_air_yards  \\\n0                 7.406667               11.025946   \n1                11.406471               14.317000   \n2                 7.529615               11.424600   \n3                 8.442609               10.628333   \n4                 7.213636               12.756786   \n\n   avg_air_yards_differential  aggressiveness  max_completed_air_distance  \\\n0                   -3.619279       16.216216                   45.425245   \n1                   -2.910529       16.666667                   48.820791   \n2                   -3.894985       24.000000                   37.763608   \n3                   -2.185725       11.111111                   41.334355   \n4                   -5.543149       32.142857                   47.097164   \n\n   ...  pass_touchdowns  interceptions  passer_rating  completions  \\\n0  ...                2              0     104.673423           24   \n1  ...                3              0     124.861111           17   \n2  ...                0              4      36.000000           26   \n3  ...                1              1      86.342593           23   \n4  ...                2              0      77.083333           11   \n\n   completion_percentage  expected_completion_percentage  \\\n0              64.864865                       60.037599   \n1              56.666667                       47.003623   \n2              52.000000                       60.366606   \n3              63.888889                       59.860299   \n4              39.285714                       50.875469   \n\n   completion_percentage_above_expectation  avg_air_distance  \\\n0                                 4.827266         24.857483   \n1                                 9.663043         28.609856   \n2                                -8.366606         24.475806   \n3                                 4.028590         24.623706   \n4                               -11.589754         26.525082   \n\n   max_air_distance  rn  \n0         45.425245   1  \n1         57.395959   1  \n2         53.821172   1  \n3         54.582351   1  \n4         56.684255   1  \n\n[5 rows x 23 columns]",
      "text/html": "<div>\n<style scoped>\n    .dataframe tbody tr th:only-of-type {\n        vertical-align: middle;\n    }\n\n    .dataframe tbody tr th {\n        vertical-align: top;\n    }\n\n    .dataframe thead th {\n        text-align: right;\n    }\n</style>\n<table border=\"1\" class=\"dataframe\">\n  <thead>\n    <tr style=\"text-align: right;\">\n      <th></th>\n      <th>season</th>\n      <th>week</th>\n      <th>team</th>\n      <th>pass_touchdowns</th>\n      <th>avg_time_to_throw</th>\n      <th>avg_completed_air_yards</th>\n      <th>avg_intended_air_yards</th>\n      <th>avg_air_yards_differential</th>\n      <th>aggressiveness</th>\n      <th>max_completed_air_distance</th>\n      <th>...</th>\n      <th>pass_touchdowns</th>\n      <th>interceptions</th>\n      <th>passer_rating</th>\n      <th>completions</th>\n      <th>completion_percentage</th>\n      <th>expected_completion_percentage</th>\n      <th>completion_percentage_above_expectation</th>\n      <th>avg_air_distance</th>\n      <th>max_air_distance</th>\n      <th>rn</th>\n    </tr>\n  </thead>\n  <tbody>\n    <tr>\n      <th>0</th>\n      <td>2016</td>\n      <td>1</td>\n      <td>ARI</td>\n      <td>2</td>\n      <td>2.467784</td>\n      <td>7.406667</td>\n      <td>11.025946</td>\n      <td>-3.619279</td>\n      <td>16.216216</td>\n      <td>45.425245</td>\n      <td>...</td>\n      <td>2</td>\n      <td>0</td>\n      <td>104.673423</td>\n      <td>24</td>\n      <td>64.864865</td>\n      <td>60.037599</td>\n      <td>4.827266</td>\n      <td>24.857483</td>\n      <td>45.425245</td>\n      <td>1</td>\n    </tr>\n    <tr>\n      <th>1</th>\n      <td>2016</td>\n      <td>2</td>\n      <td>ARI</td>\n      <td>3</td>\n      <td>2.742700</td>\n      <td>11.406471</td>\n      <td>14.317000</td>\n      <td>-2.910529</td>\n      <td>16.666667</td>\n      <td>48.820791</td>\n      <td>...</td>\n      <td>3</td>\n      <td>0</td>\n      <td>124.861111</td>\n      <td>17</td>\n      <td>56.666667</td>\n      <td>47.003623</td>\n      <td>9.663043</td>\n      <td>28.609856</td>\n      <td>57.395959</td>\n      <td>1</td>\n    </tr>\n    <tr>\n      <th>2</th>\n      <td>2016</td>\n      <td>3</td>\n      <td>ARI</td>\n      <td>0</td>\n      <td>2.475840</td>\n      <td>7.529615</td>\n      <td>11.424600</td>\n      <td>-3.894985</td>\n      <td>24.000000</td>\n      <td>37.763608</td>\n      <td>...</td>\n      <td>0</td>\n      <td>4</td>\n      <td>36.000000</td>\n      <td>26</td>\n      <td>52.000000</td>\n      <td>60.366606</td>\n      <td>-8.366606</td>\n      <td>24.475806</td>\n      <td>53.821172</td>\n      <td>1</td>\n    </tr>\n    <tr>\n      <th>3</th>\n      <td>2016</td>\n      <td>4</td>\n      <td>ARI</td>\n      <td>1</td>\n      <td>2.485611</td>\n      <td>8.442609</td>\n      <td>10.628333</td>\n      <td>-2.185725</td>\n      <td>11.111111</td>\n      <td>41.334355</td>\n      <td>...</td>\n      <td>1</td>\n      <td>1</td>\n      <td>86.342593</td>\n      <td>23</td>\n      <td>63.888889</td>\n      <td>59.860299</td>\n      <td>4.028590</td>\n      <td>24.623706</td>\n      <td>54.582351</td>\n      <td>1</td>\n    </tr>\n    <tr>\n      <th>4</th>\n      <td>2016</td>\n      <td>5</td>\n      <td>ARI</td>\n      <td>2</td>\n      <td>2.924143</td>\n      <td>7.213636</td>\n      <td>12.756786</td>\n      <td>-5.543149</td>\n      <td>32.142857</td>\n      <td>47.097164</td>\n      <td>...</td>\n      <td>2</td>\n      <td>0</td>\n      <td>77.083333</td>\n      <td>11</td>\n      <td>39.285714</td>\n      <td>50.875469</td>\n      <td>-11.589754</td>\n      <td>26.525082</td>\n      <td>56.684255</td>\n      <td>1</td>\n    </tr>\n  </tbody>\n</table>\n<p>5 rows × 23 columns</p>\n</div>"
     },
     "execution_count": 161,
     "metadata": {},
     "output_type": "execute_result"
    }
   ],
   "source": [
    "ngs_air_power = db.query_to_df(\"\"\"\n",
    "    with base as (\n",
    "    select season, week, team_abbr as team,\n",
    "           pass_touchdowns,\n",
    "           avg_time_to_throw,\n",
    "           avg_completed_air_yards,\n",
    "           avg_intended_air_yards,\n",
    "           avg_air_yards_differential,\n",
    "           aggressiveness,\n",
    "           max_completed_air_distance,\n",
    "           avg_air_yards_to_sticks,\n",
    "           attempts,\n",
    "           pass_yards,\n",
    "           pass_touchdowns,\n",
    "           interceptions,\n",
    "           passer_rating,\n",
    "           completions,\n",
    "           completion_percentage,\n",
    "           expected_completion_percentage,\n",
    "           completion_percentage_above_expectation,\n",
    "           avg_air_distance,\n",
    "           max_air_distance,\n",
    "        row_number() over (partition by season, week, team_abbr, player_position order by pass_yards desc) as rn\n",
    "    from controls.nextgen_pass\n",
    "--    where season=2016 and week=1 and team_abbr = 'CHI'\n",
    "    order by team_abbr, player_position, season desc, week )\n",
    "    select * from base where rn = 1 and week > 0\n",
    "\"\"\")\n",
    "\n",
    "ngs_air_power.head()\n"
   ],
   "metadata": {
    "collapsed": false,
    "ExecuteTime": {
     "end_time": "2023-07-03T22:08:43.136769Z",
     "start_time": "2023-07-03T22:08:43.054798Z"
    }
   }
  },
  {
   "cell_type": "markdown",
   "source": [
    "## <font color=teal>next gen stats rushing<font/>"
   ],
   "metadata": {
    "collapsed": false
   }
  },
  {
   "cell_type": "code",
   "execution_count": 162,
   "outputs": [
    {
     "data": {
      "text/plain": "   season  week team  rush_yards  efficiency  \\\n0    2016     1  ARI          89    3.107978   \n1    2016     2  ARI          54    4.591296   \n2    2016     2  ARI          45    5.030444   \n3    2016     3  ARI          83    4.171807   \n4    2016     4  ARI          83    3.722651   \n\n   percent_attempts_gte_eight_defenders  avg_time_to_los  rush_attempts  \\\n0                             43.750000         2.616188             16   \n1                             50.000000         2.450687             16   \n2                              8.333333         3.162417             12   \n3                             26.315789         2.619000             19   \n4                             29.411765         2.700235             17   \n\n   rush_yards  expected_rush_yards  ...  avg_rush_yards  \\\n0          89                  NaN  ...        5.562500   \n1          54                  NaN  ...        3.375000   \n2          45                  NaN  ...        3.750000   \n3          83                  NaN  ...        4.368421   \n4          83                  NaN  ...        4.882353   \n\n   rush_yards_over_expected_per_att  rush_pct_over_expected  rush_touchdowns  \\\n0                               NaN                     NaN                1   \n1                               NaN                     NaN                1   \n2                               NaN                     NaN                0   \n3                               NaN                     NaN                2   \n4                               NaN                     NaN                0   \n\n   player_gsis_id player_first_name player_last_name player_jersey_number  \\\n0      00-0032187             David          Johnson                   31   \n1      00-0026164             Chris          Johnson                   23   \n2      00-0032187             David          Johnson                   31   \n3      00-0032187             David          Johnson                   31   \n4      00-0032187             David          Johnson                   31   \n\n   player_short_name rn  \n0          D.Johnson  1  \n1          C.Johnson  1  \n2          D.Johnson  2  \n3          D.Johnson  1  \n4          D.Johnson  1  \n\n[5 rows x 21 columns]",
      "text/html": "<div>\n<style scoped>\n    .dataframe tbody tr th:only-of-type {\n        vertical-align: middle;\n    }\n\n    .dataframe tbody tr th {\n        vertical-align: top;\n    }\n\n    .dataframe thead th {\n        text-align: right;\n    }\n</style>\n<table border=\"1\" class=\"dataframe\">\n  <thead>\n    <tr style=\"text-align: right;\">\n      <th></th>\n      <th>season</th>\n      <th>week</th>\n      <th>team</th>\n      <th>rush_yards</th>\n      <th>efficiency</th>\n      <th>percent_attempts_gte_eight_defenders</th>\n      <th>avg_time_to_los</th>\n      <th>rush_attempts</th>\n      <th>rush_yards</th>\n      <th>expected_rush_yards</th>\n      <th>...</th>\n      <th>avg_rush_yards</th>\n      <th>rush_yards_over_expected_per_att</th>\n      <th>rush_pct_over_expected</th>\n      <th>rush_touchdowns</th>\n      <th>player_gsis_id</th>\n      <th>player_first_name</th>\n      <th>player_last_name</th>\n      <th>player_jersey_number</th>\n      <th>player_short_name</th>\n      <th>rn</th>\n    </tr>\n  </thead>\n  <tbody>\n    <tr>\n      <th>0</th>\n      <td>2016</td>\n      <td>1</td>\n      <td>ARI</td>\n      <td>89</td>\n      <td>3.107978</td>\n      <td>43.750000</td>\n      <td>2.616188</td>\n      <td>16</td>\n      <td>89</td>\n      <td>NaN</td>\n      <td>...</td>\n      <td>5.562500</td>\n      <td>NaN</td>\n      <td>NaN</td>\n      <td>1</td>\n      <td>00-0032187</td>\n      <td>David</td>\n      <td>Johnson</td>\n      <td>31</td>\n      <td>D.Johnson</td>\n      <td>1</td>\n    </tr>\n    <tr>\n      <th>1</th>\n      <td>2016</td>\n      <td>2</td>\n      <td>ARI</td>\n      <td>54</td>\n      <td>4.591296</td>\n      <td>50.000000</td>\n      <td>2.450687</td>\n      <td>16</td>\n      <td>54</td>\n      <td>NaN</td>\n      <td>...</td>\n      <td>3.375000</td>\n      <td>NaN</td>\n      <td>NaN</td>\n      <td>1</td>\n      <td>00-0026164</td>\n      <td>Chris</td>\n      <td>Johnson</td>\n      <td>23</td>\n      <td>C.Johnson</td>\n      <td>1</td>\n    </tr>\n    <tr>\n      <th>2</th>\n      <td>2016</td>\n      <td>2</td>\n      <td>ARI</td>\n      <td>45</td>\n      <td>5.030444</td>\n      <td>8.333333</td>\n      <td>3.162417</td>\n      <td>12</td>\n      <td>45</td>\n      <td>NaN</td>\n      <td>...</td>\n      <td>3.750000</td>\n      <td>NaN</td>\n      <td>NaN</td>\n      <td>0</td>\n      <td>00-0032187</td>\n      <td>David</td>\n      <td>Johnson</td>\n      <td>31</td>\n      <td>D.Johnson</td>\n      <td>2</td>\n    </tr>\n    <tr>\n      <th>3</th>\n      <td>2016</td>\n      <td>3</td>\n      <td>ARI</td>\n      <td>83</td>\n      <td>4.171807</td>\n      <td>26.315789</td>\n      <td>2.619000</td>\n      <td>19</td>\n      <td>83</td>\n      <td>NaN</td>\n      <td>...</td>\n      <td>4.368421</td>\n      <td>NaN</td>\n      <td>NaN</td>\n      <td>2</td>\n      <td>00-0032187</td>\n      <td>David</td>\n      <td>Johnson</td>\n      <td>31</td>\n      <td>D.Johnson</td>\n      <td>1</td>\n    </tr>\n    <tr>\n      <th>4</th>\n      <td>2016</td>\n      <td>4</td>\n      <td>ARI</td>\n      <td>83</td>\n      <td>3.722651</td>\n      <td>29.411765</td>\n      <td>2.700235</td>\n      <td>17</td>\n      <td>83</td>\n      <td>NaN</td>\n      <td>...</td>\n      <td>4.882353</td>\n      <td>NaN</td>\n      <td>NaN</td>\n      <td>0</td>\n      <td>00-0032187</td>\n      <td>David</td>\n      <td>Johnson</td>\n      <td>31</td>\n      <td>D.Johnson</td>\n      <td>1</td>\n    </tr>\n  </tbody>\n</table>\n<p>5 rows × 21 columns</p>\n</div>"
     },
     "execution_count": 162,
     "metadata": {},
     "output_type": "execute_result"
    }
   ],
   "source": [
    "ngs_ground_power = db.query_to_df(\"\"\"\n",
    "with junk as (\n",
    "    select season, week, team_abbr as team, rush_yards,\n",
    "           efficiency,\n",
    "           percent_attempts_gte_eight_defenders,\n",
    "           avg_time_to_los,\n",
    "           rush_attempts,\n",
    "           rush_yards,\n",
    "           expected_rush_yards,\n",
    "           rush_yards_over_expected,\n",
    "           avg_rush_yards,\n",
    "           rush_yards_over_expected_per_att,\n",
    "           rush_pct_over_expected,\n",
    "           rush_touchdowns,\n",
    "           player_gsis_id,\n",
    "           player_first_name,\n",
    "           player_last_name,\n",
    "           player_jersey_number,\n",
    "           player_short_name,\n",
    "               row_number() over (partition by season, week, team_abbr order by rush_yards desc) as rn\n",
    "    from controls.nextgen_rush\n",
    "    order by  team_abbr, season desc, week)\n",
    "select * from junk where week > 0\n",
    "\"\"\" )\n",
    "\n",
    "ngs_ground_power.head()"
   ],
   "metadata": {
    "collapsed": false,
    "ExecuteTime": {
     "end_time": "2023-07-03T22:08:43.153612Z",
     "start_time": "2023-07-03T22:08:43.137242Z"
    }
   }
  },
  {
   "cell_type": "markdown",
   "source": [
    "# <font color=teal>play-by-play offense events<font/>"
   ],
   "metadata": {
    "collapsed": false
   }
  },
  {
   "cell_type": "code",
   "execution_count": 163,
   "outputs": [
    {
     "data": {
      "text/plain": "   season  week team  fumble  own_kickoff_recovery  safety  tackle  qb_hit  \\\n0    2021     1  ARI       3                     0       0      65       9   \n1    2021     2  ARI       3                     0       0      63       4   \n2    2021     3  ARI       4                     0       0      73       7   \n3    2021     4  ARI       2                     0       0      58       5   \n4    2021     5  ARI       4                     0       0      60       8   \n\n   touchdown  interception  sack  \n0          5             1     6  \n1          4             0     1  \n2          4             2     2  \n3          4             1     0  \n4          2             1     3  ",
      "text/html": "<div>\n<style scoped>\n    .dataframe tbody tr th:only-of-type {\n        vertical-align: middle;\n    }\n\n    .dataframe tbody tr th {\n        vertical-align: top;\n    }\n\n    .dataframe thead th {\n        text-align: right;\n    }\n</style>\n<table border=\"1\" class=\"dataframe\">\n  <thead>\n    <tr style=\"text-align: right;\">\n      <th></th>\n      <th>season</th>\n      <th>week</th>\n      <th>team</th>\n      <th>fumble</th>\n      <th>own_kickoff_recovery</th>\n      <th>safety</th>\n      <th>tackle</th>\n      <th>qb_hit</th>\n      <th>touchdown</th>\n      <th>interception</th>\n      <th>sack</th>\n    </tr>\n  </thead>\n  <tbody>\n    <tr>\n      <th>0</th>\n      <td>2021</td>\n      <td>1</td>\n      <td>ARI</td>\n      <td>3</td>\n      <td>0</td>\n      <td>0</td>\n      <td>65</td>\n      <td>9</td>\n      <td>5</td>\n      <td>1</td>\n      <td>6</td>\n    </tr>\n    <tr>\n      <th>1</th>\n      <td>2021</td>\n      <td>2</td>\n      <td>ARI</td>\n      <td>3</td>\n      <td>0</td>\n      <td>0</td>\n      <td>63</td>\n      <td>4</td>\n      <td>4</td>\n      <td>0</td>\n      <td>1</td>\n    </tr>\n    <tr>\n      <th>2</th>\n      <td>2021</td>\n      <td>3</td>\n      <td>ARI</td>\n      <td>4</td>\n      <td>0</td>\n      <td>0</td>\n      <td>73</td>\n      <td>7</td>\n      <td>4</td>\n      <td>2</td>\n      <td>2</td>\n    </tr>\n    <tr>\n      <th>3</th>\n      <td>2021</td>\n      <td>4</td>\n      <td>ARI</td>\n      <td>2</td>\n      <td>0</td>\n      <td>0</td>\n      <td>58</td>\n      <td>5</td>\n      <td>4</td>\n      <td>1</td>\n      <td>0</td>\n    </tr>\n    <tr>\n      <th>4</th>\n      <td>2021</td>\n      <td>5</td>\n      <td>ARI</td>\n      <td>4</td>\n      <td>0</td>\n      <td>0</td>\n      <td>60</td>\n      <td>8</td>\n      <td>2</td>\n      <td>1</td>\n      <td>3</td>\n    </tr>\n  </tbody>\n</table>\n</div>"
     },
     "execution_count": 163,
     "metadata": {},
     "output_type": "execute_result"
    }
   ],
   "source": [
    "pbp_events = db.query_to_df(\"\"\"\n",
    "SELECT\n",
    "    season, week, team,\n",
    "    SUM(CASE WHEN event = 'fumble' THEN 1 else 0 END) AS fumble,\n",
    "    SUM(CASE WHEN event = 'own_kickoff_recovery' THEN 1 else 0 END) AS own_kickoff_recovery,\n",
    "    SUM(CASE WHEN event = 'safety' THEN 1 else 0 END) AS safety,\n",
    "    SUM(CASE WHEN event = 'tackle' THEN 1 else 0 END) AS tackle,\n",
    "    SUM(CASE WHEN event = 'qb_hit' THEN 1 else 0  END) AS qb_hit,\n",
    "    SUM(CASE WHEN event = 'touchdown' THEN 1  else 0 END) AS touchdown,\n",
    "    SUM(CASE WHEN event = 'interception' THEN 1 else 0 END) AS interception,\n",
    "    SUM(CASE WHEN event = 'sack' THEN 1 else 0 END) AS sack\n",
    "FROM controls.player_events where week > 0\n",
    "group by season, week, team\n",
    "order by season desc, team, week\n",
    "\"\"\")\n",
    "\n",
    "pbp_events.head()"
   ],
   "metadata": {
    "collapsed": false,
    "ExecuteTime": {
     "end_time": "2023-07-03T22:08:43.222520Z",
     "start_time": "2023-07-03T22:08:43.153822Z"
    }
   }
  },
  {
   "cell_type": "markdown",
   "source": [
    "# <font color=teal>Player stats<font/>"
   ],
   "metadata": {
    "collapsed": false
   }
  },
  {
   "cell_type": "code",
   "execution_count": 164,
   "outputs": [
    {
     "data": {
      "text/plain": "   season  week team completions attempts passing_yards passing_tds  \\\n0    2022     1  ARI          24       38           205           2   \n1    2022     2  ARI          31       49           277           1   \n2    2022     3  ARI          37       58           314           0   \n3    2022     4  ARI          23       32           207           2   \n4    2022     5  ARI          28       42           250           1   \n\n  interceptions sacks sack_yards  ... receiving_air_yards  \\\n0             0     3         26  ...                 266   \n1             1     1          7  ...                 239   \n2             0     2         19  ...                 332   \n3             1     1          1  ...                 182   \n4             1     1         11  ...                 293   \n\n  receiving_yards_after_catch receiving_first_downs avg_receiving_epa  \\\n0                         115                    12          0.680728   \n1                         162                    13         -0.302323   \n2                         166                    15          0.120710   \n3                          87                    10          0.059163   \n4                         144                    16          1.347603   \n\n  receiving_2pt_conversions       racr target_share  air_yards_share  wopr  \\\n0                         1  23.363950          1.0              1.0   2.2   \n1                         1   4.044793          1.0              1.0   2.2   \n2                         0 -14.124653          1.0              1.0   2.2   \n3                         0   1.130505          1.0              1.0   2.2   \n4                         0 -14.683343          1.0              1.0   2.2   \n\n  special_teams_tds  \n0                 0  \n1                 0  \n2                 0  \n3                 0  \n4                 0  \n\n[5 rows x 43 columns]",
      "text/html": "<div>\n<style scoped>\n    .dataframe tbody tr th:only-of-type {\n        vertical-align: middle;\n    }\n\n    .dataframe tbody tr th {\n        vertical-align: top;\n    }\n\n    .dataframe thead th {\n        text-align: right;\n    }\n</style>\n<table border=\"1\" class=\"dataframe\">\n  <thead>\n    <tr style=\"text-align: right;\">\n      <th></th>\n      <th>season</th>\n      <th>week</th>\n      <th>team</th>\n      <th>completions</th>\n      <th>attempts</th>\n      <th>passing_yards</th>\n      <th>passing_tds</th>\n      <th>interceptions</th>\n      <th>sacks</th>\n      <th>sack_yards</th>\n      <th>...</th>\n      <th>receiving_air_yards</th>\n      <th>receiving_yards_after_catch</th>\n      <th>receiving_first_downs</th>\n      <th>avg_receiving_epa</th>\n      <th>receiving_2pt_conversions</th>\n      <th>racr</th>\n      <th>target_share</th>\n      <th>air_yards_share</th>\n      <th>wopr</th>\n      <th>special_teams_tds</th>\n    </tr>\n  </thead>\n  <tbody>\n    <tr>\n      <th>0</th>\n      <td>2022</td>\n      <td>1</td>\n      <td>ARI</td>\n      <td>24</td>\n      <td>38</td>\n      <td>205</td>\n      <td>2</td>\n      <td>0</td>\n      <td>3</td>\n      <td>26</td>\n      <td>...</td>\n      <td>266</td>\n      <td>115</td>\n      <td>12</td>\n      <td>0.680728</td>\n      <td>1</td>\n      <td>23.363950</td>\n      <td>1.0</td>\n      <td>1.0</td>\n      <td>2.2</td>\n      <td>0</td>\n    </tr>\n    <tr>\n      <th>1</th>\n      <td>2022</td>\n      <td>2</td>\n      <td>ARI</td>\n      <td>31</td>\n      <td>49</td>\n      <td>277</td>\n      <td>1</td>\n      <td>1</td>\n      <td>1</td>\n      <td>7</td>\n      <td>...</td>\n      <td>239</td>\n      <td>162</td>\n      <td>13</td>\n      <td>-0.302323</td>\n      <td>1</td>\n      <td>4.044793</td>\n      <td>1.0</td>\n      <td>1.0</td>\n      <td>2.2</td>\n      <td>0</td>\n    </tr>\n    <tr>\n      <th>2</th>\n      <td>2022</td>\n      <td>3</td>\n      <td>ARI</td>\n      <td>37</td>\n      <td>58</td>\n      <td>314</td>\n      <td>0</td>\n      <td>0</td>\n      <td>2</td>\n      <td>19</td>\n      <td>...</td>\n      <td>332</td>\n      <td>166</td>\n      <td>15</td>\n      <td>0.120710</td>\n      <td>0</td>\n      <td>-14.124653</td>\n      <td>1.0</td>\n      <td>1.0</td>\n      <td>2.2</td>\n      <td>0</td>\n    </tr>\n    <tr>\n      <th>3</th>\n      <td>2022</td>\n      <td>4</td>\n      <td>ARI</td>\n      <td>23</td>\n      <td>32</td>\n      <td>207</td>\n      <td>2</td>\n      <td>1</td>\n      <td>1</td>\n      <td>1</td>\n      <td>...</td>\n      <td>182</td>\n      <td>87</td>\n      <td>10</td>\n      <td>0.059163</td>\n      <td>0</td>\n      <td>1.130505</td>\n      <td>1.0</td>\n      <td>1.0</td>\n      <td>2.2</td>\n      <td>0</td>\n    </tr>\n    <tr>\n      <th>4</th>\n      <td>2022</td>\n      <td>5</td>\n      <td>ARI</td>\n      <td>28</td>\n      <td>42</td>\n      <td>250</td>\n      <td>1</td>\n      <td>1</td>\n      <td>1</td>\n      <td>11</td>\n      <td>...</td>\n      <td>293</td>\n      <td>144</td>\n      <td>16</td>\n      <td>1.347603</td>\n      <td>0</td>\n      <td>-14.683343</td>\n      <td>1.0</td>\n      <td>1.0</td>\n      <td>2.2</td>\n      <td>0</td>\n    </tr>\n  </tbody>\n</table>\n<p>5 rows × 43 columns</p>\n</div>"
     },
     "execution_count": 164,
     "metadata": {},
     "output_type": "execute_result"
    }
   ],
   "source": [
    "player_stats = db.query_to_df(\"\"\"\n",
    "select\n",
    "    season,\n",
    "    week,\n",
    "    team,\n",
    "    sum(completions) as completions,\n",
    "    sum(attempts) as attempts,\n",
    "    sum(passing_yards) as passing_yards,\n",
    "    sum(passing_tds) as passing_tds,\n",
    "    sum(interceptions) as interceptions,\n",
    "    sum(sacks) as sacks,\n",
    "    sum(sack_yards) as sack_yards,\n",
    "    sum(sack_fumbles) as sack_fumbles,\n",
    "    sum(sack_fumbles_lost) as sack_fumbles_lost,\n",
    "    sum(passing_air_yards) as passing_air_yards,\n",
    "    sum(passing_yards_after_catch) as passing_yards_after_catch,\n",
    "    sum(passing_first_downs) as passing_first_downs,\n",
    "    avg(passing_epa) as passing_epa,\n",
    "    sum(passing_2pt_conversions) as passing_2pt_conversions,\n",
    "    avg(pacr) as avg_pacr,\n",
    "    avg(dakota) as avg_dakota,\n",
    "    sum(carries) as carries,\n",
    "    sum(rushing_yards) as rushing_yards,\n",
    "    sum(rushing_tds) as rushing_tds,\n",
    "    sum(rushing_fumbles) as rushing_fumbles,\n",
    "    sum(rushing_fumbles_lost) as rushing_fumbles_lost,\n",
    "    sum(rushing_first_downs) as rushing_first_downs,\n",
    "    avg(rushing_epa) as avg_rushing_epa,\n",
    "    sum(rushing_2pt_conversions) as rushing_2pt_conversions,\n",
    "    sum(receptions) as receptions,\n",
    "    sum(targets) as targets,\n",
    "    sum(receiving_yards) as receiving_yards,\n",
    "    sum(receiving_tds) as receiving_tds,\n",
    "    sum(receiving_fumbles) as receiving_fumbles,\n",
    "    sum(receiving_fumbles_lost) as receiving_fumbles_lost,\n",
    "    sum(receiving_air_yards) as receiving_air_yards,\n",
    "    sum(receiving_yards_after_catch) as receiving_yards_after_catch,\n",
    "    sum(receiving_first_downs) as receiving_first_downs,\n",
    "    avg(receiving_epa) as avg_receiving_epa,\n",
    "    sum(receiving_2pt_conversions) as receiving_2pt_conversions,\n",
    "    sum(racr) as racr,\n",
    "    sum(target_share) as target_share,\n",
    "    sum(air_yards_share) as air_yards_share,\n",
    "    sum(wopr) as wopr,\n",
    "    sum(special_teams_tds) as special_teams_tds\n",
    "from controls.player_stats\n",
    "group by season,\n",
    "week,\n",
    "team\n",
    "order by season desc, team,  week\"\"\")\n",
    "\n",
    "player_stats.head()"
   ],
   "metadata": {
    "collapsed": false,
    "ExecuteTime": {
     "end_time": "2023-07-03T22:08:43.594543Z",
     "start_time": "2023-07-03T22:08:43.194494Z"
    }
   }
  },
  {
   "cell_type": "code",
   "execution_count": 165,
   "outputs": [],
   "source": [
    "from typing import List, NamedTuple\n",
    "\n",
    "class Col(NamedTuple):\n",
    "    name: str\n",
    "    alias: str\n",
    "\n",
    "def build_pivot_sql(team_col: str,  pivot_cols: List[Col], additional_cols: List[Col]):\n",
    "    db_table = 'controls.play_analytics'\n",
    "\n",
    "    base_cols = ['season',\n",
    "                 'week']\n",
    "    metrics = []\n",
    "    for col in pivot_cols:\n",
    "        metrics.append(\n",
    "            f\"\"\"\n",
    "            MAX(CASE WHEN RN = 1 THEN {col.alias} END) AS start_{col.alias},\n",
    "            MAX(CASE WHEN RN = (total_rows/2) THEN {col.alias} END) AS half_{col.alias}\"\"\")\n",
    "\n",
    "    inner_cols = base_cols +  [f\"{team_col} as team \"] + [f\"{p.name} as {p.alias}\" for p in pivot_cols] + [f\"{p.name} as {p.alias}\" for p in additional_cols]\n",
    "    inner_select = \",\".join(inner_cols)\n",
    "\n",
    "    outer_cols = base_cols + [\"team\"] +  [f\"{p.alias}\" for p in additional_cols] + metrics\n",
    "    outer_select = \",\".join(outer_cols)\n",
    "    outer_group = \",\".join(base_cols + [\"team\"] +  [f\"{p.alias}\" for p in additional_cols])\n",
    "\n",
    "    station_cols = base_cols + [team_col]\n",
    "    stations = \",\".join(station_cols)\n",
    "\n",
    "    sql = f\"\"\"\n",
    "    WITH ranked_rows AS (\n",
    "        SELECT {inner_select},\n",
    "             ROW_NUMBER() OVER (PARTITION BY\n",
    "                {stations} ORDER BY play_counter) AS RN,\n",
    "             COUNT(*) OVER (PARTITION BY\n",
    "                {stations}) AS total_rows\n",
    "        FROM {db_table}\n",
    "    )\n",
    "    SELECT\n",
    "        {outer_select}\n",
    "    FROM ranked_rows\n",
    "    GROUP BY {outer_group}\n",
    "    order by season desc, team, week\n",
    "    \"\"\"\n",
    "\n",
    "    # print(sql)\n",
    "    return sql\n",
    "\n",
    "def build_pivot(team_col: str,  pivot_cols: List[Col],  additional_cols: List[Col]):\n",
    "    return db.query_to_df(  build_pivot_sql(team_col, pivot_cols, additional_cols) )\n"
   ],
   "metadata": {
    "collapsed": false,
    "ExecuteTime": {
     "end_time": "2023-07-03T22:08:43.598377Z",
     "start_time": "2023-07-03T22:08:43.597084Z"
    }
   }
  },
  {
   "cell_type": "code",
   "execution_count": 166,
   "outputs": [
    {
     "data": {
      "text/plain": "   season  week team opponent  start_team_wp  half_team_wp  start_opponent_wp  \\\n0    2021     2  ARI      MIN       0.566792      0.541654           0.433208   \n1    2021     5  ARI       SF       0.566792      0.853290           0.433208   \n2    2021     7  ARI      HOU       0.546262      0.870703           0.453738   \n3    2021     8  ARI       GB       0.566792      0.362228           0.433208   \n4    2021    10  ARI      CAR       0.546262      0.045256           0.453738   \n\n   half_opponent_wp  \n0          0.458346  \n1          0.146710  \n2          0.129297  \n3          0.637772  \n4          0.954744  ",
      "text/html": "<div>\n<style scoped>\n    .dataframe tbody tr th:only-of-type {\n        vertical-align: middle;\n    }\n\n    .dataframe tbody tr th {\n        vertical-align: top;\n    }\n\n    .dataframe thead th {\n        text-align: right;\n    }\n</style>\n<table border=\"1\" class=\"dataframe\">\n  <thead>\n    <tr style=\"text-align: right;\">\n      <th></th>\n      <th>season</th>\n      <th>week</th>\n      <th>team</th>\n      <th>opponent</th>\n      <th>start_team_wp</th>\n      <th>half_team_wp</th>\n      <th>start_opponent_wp</th>\n      <th>half_opponent_wp</th>\n    </tr>\n  </thead>\n  <tbody>\n    <tr>\n      <th>0</th>\n      <td>2021</td>\n      <td>2</td>\n      <td>ARI</td>\n      <td>MIN</td>\n      <td>0.566792</td>\n      <td>0.541654</td>\n      <td>0.433208</td>\n      <td>0.458346</td>\n    </tr>\n    <tr>\n      <th>1</th>\n      <td>2021</td>\n      <td>5</td>\n      <td>ARI</td>\n      <td>SF</td>\n      <td>0.566792</td>\n      <td>0.853290</td>\n      <td>0.433208</td>\n      <td>0.146710</td>\n    </tr>\n    <tr>\n      <th>2</th>\n      <td>2021</td>\n      <td>7</td>\n      <td>ARI</td>\n      <td>HOU</td>\n      <td>0.546262</td>\n      <td>0.870703</td>\n      <td>0.453738</td>\n      <td>0.129297</td>\n    </tr>\n    <tr>\n      <th>3</th>\n      <td>2021</td>\n      <td>8</td>\n      <td>ARI</td>\n      <td>GB</td>\n      <td>0.566792</td>\n      <td>0.362228</td>\n      <td>0.433208</td>\n      <td>0.637772</td>\n    </tr>\n    <tr>\n      <th>4</th>\n      <td>2021</td>\n      <td>10</td>\n      <td>ARI</td>\n      <td>CAR</td>\n      <td>0.546262</td>\n      <td>0.045256</td>\n      <td>0.453738</td>\n      <td>0.954744</td>\n    </tr>\n  </tbody>\n</table>\n</div>"
     },
     "execution_count": 166,
     "metadata": {},
     "output_type": "execute_result"
    }
   ],
   "source": [
    "pivot_cols = [\n",
    "    Col('home_wp', \"team_wp\"),\n",
    "    Col('away_wp', \"opponent_wp\"),\n",
    "]\n",
    "\n",
    "home_analytics_df = build_pivot(team_col=\"home_team\", pivot_cols=pivot_cols, additional_cols=[Col(\"away_team\", \"opponent\")])\n",
    "home_analytics_df.head()"
   ],
   "metadata": {
    "collapsed": false,
    "ExecuteTime": {
     "end_time": "2023-07-03T22:08:43.689633Z",
     "start_time": "2023-07-03T22:08:43.599631Z"
    }
   }
  },
  {
   "cell_type": "code",
   "execution_count": 167,
   "outputs": [
    {
     "data": {
      "text/plain": "   season  week team opponent  start_team_wp  half_team_wp  start_opponent_wp  \\\n0    2021     1  ARI      TEN       0.453738      0.875492           0.546262   \n1    2021     3  ARI      JAX       0.453738      0.286349           0.546262   \n2    2021     4  ARI       LA       0.453738      0.846534           0.546262   \n3    2021     6  ARI      CLE       0.453738      0.931544           0.546262   \n4    2021     9  ARI       SF       0.453738      0.804995           0.546262   \n\n   half_opponent_wp  \n0          0.124508  \n1          0.713651  \n2          0.153466  \n3          0.068456  \n4          0.195005  ",
      "text/html": "<div>\n<style scoped>\n    .dataframe tbody tr th:only-of-type {\n        vertical-align: middle;\n    }\n\n    .dataframe tbody tr th {\n        vertical-align: top;\n    }\n\n    .dataframe thead th {\n        text-align: right;\n    }\n</style>\n<table border=\"1\" class=\"dataframe\">\n  <thead>\n    <tr style=\"text-align: right;\">\n      <th></th>\n      <th>season</th>\n      <th>week</th>\n      <th>team</th>\n      <th>opponent</th>\n      <th>start_team_wp</th>\n      <th>half_team_wp</th>\n      <th>start_opponent_wp</th>\n      <th>half_opponent_wp</th>\n    </tr>\n  </thead>\n  <tbody>\n    <tr>\n      <th>0</th>\n      <td>2021</td>\n      <td>1</td>\n      <td>ARI</td>\n      <td>TEN</td>\n      <td>0.453738</td>\n      <td>0.875492</td>\n      <td>0.546262</td>\n      <td>0.124508</td>\n    </tr>\n    <tr>\n      <th>1</th>\n      <td>2021</td>\n      <td>3</td>\n      <td>ARI</td>\n      <td>JAX</td>\n      <td>0.453738</td>\n      <td>0.286349</td>\n      <td>0.546262</td>\n      <td>0.713651</td>\n    </tr>\n    <tr>\n      <th>2</th>\n      <td>2021</td>\n      <td>4</td>\n      <td>ARI</td>\n      <td>LA</td>\n      <td>0.453738</td>\n      <td>0.846534</td>\n      <td>0.546262</td>\n      <td>0.153466</td>\n    </tr>\n    <tr>\n      <th>3</th>\n      <td>2021</td>\n      <td>6</td>\n      <td>ARI</td>\n      <td>CLE</td>\n      <td>0.453738</td>\n      <td>0.931544</td>\n      <td>0.546262</td>\n      <td>0.068456</td>\n    </tr>\n    <tr>\n      <th>4</th>\n      <td>2021</td>\n      <td>9</td>\n      <td>ARI</td>\n      <td>SF</td>\n      <td>0.453738</td>\n      <td>0.804995</td>\n      <td>0.546262</td>\n      <td>0.195005</td>\n    </tr>\n  </tbody>\n</table>\n</div>"
     },
     "execution_count": 167,
     "metadata": {},
     "output_type": "execute_result"
    }
   ],
   "source": [
    "pivot_cols = [\n",
    "    Col('away_wp', \"team_wp\"),\n",
    "    Col('home_wp', \"opponent_wp\")\n",
    "]\n",
    "\n",
    "away_analytics_df = build_pivot(team_col=\"away_team\", pivot_cols=pivot_cols, additional_cols=[Col(\"home_team\", \"opponent\")])\n",
    "away_analytics_df.head()\n"
   ],
   "metadata": {
    "collapsed": false,
    "ExecuteTime": {
     "end_time": "2023-07-03T22:08:43.788655Z",
     "start_time": "2023-07-03T22:08:43.687147Z"
    }
   }
  },
  {
   "cell_type": "code",
   "execution_count": 233,
   "outputs": [
    {
     "data": {
      "text/plain": "   season  week team opponent  start_team_wp  half_team_wp  start_opponent_wp  \\\n0    2021     2  ARI      MIN       0.566792      0.541654           0.433208   \n1    2021     5  ARI       SF       0.566792      0.853290           0.433208   \n2    2021     7  ARI      HOU       0.546262      0.870703           0.453738   \n3    2021     8  ARI       GB       0.566792      0.362228           0.433208   \n4    2021    10  ARI      CAR       0.546262      0.045256           0.453738   \n\n   half_opponent_wp  \n0          0.458346  \n1          0.146710  \n2          0.129297  \n3          0.637772  \n4          0.954744  ",
      "text/html": "<div>\n<style scoped>\n    .dataframe tbody tr th:only-of-type {\n        vertical-align: middle;\n    }\n\n    .dataframe tbody tr th {\n        vertical-align: top;\n    }\n\n    .dataframe thead th {\n        text-align: right;\n    }\n</style>\n<table border=\"1\" class=\"dataframe\">\n  <thead>\n    <tr style=\"text-align: right;\">\n      <th></th>\n      <th>season</th>\n      <th>week</th>\n      <th>team</th>\n      <th>opponent</th>\n      <th>start_team_wp</th>\n      <th>half_team_wp</th>\n      <th>start_opponent_wp</th>\n      <th>half_opponent_wp</th>\n    </tr>\n  </thead>\n  <tbody>\n    <tr>\n      <th>0</th>\n      <td>2021</td>\n      <td>2</td>\n      <td>ARI</td>\n      <td>MIN</td>\n      <td>0.566792</td>\n      <td>0.541654</td>\n      <td>0.433208</td>\n      <td>0.458346</td>\n    </tr>\n    <tr>\n      <th>1</th>\n      <td>2021</td>\n      <td>5</td>\n      <td>ARI</td>\n      <td>SF</td>\n      <td>0.566792</td>\n      <td>0.853290</td>\n      <td>0.433208</td>\n      <td>0.146710</td>\n    </tr>\n    <tr>\n      <th>2</th>\n      <td>2021</td>\n      <td>7</td>\n      <td>ARI</td>\n      <td>HOU</td>\n      <td>0.546262</td>\n      <td>0.870703</td>\n      <td>0.453738</td>\n      <td>0.129297</td>\n    </tr>\n    <tr>\n      <th>3</th>\n      <td>2021</td>\n      <td>8</td>\n      <td>ARI</td>\n      <td>GB</td>\n      <td>0.566792</td>\n      <td>0.362228</td>\n      <td>0.433208</td>\n      <td>0.637772</td>\n    </tr>\n    <tr>\n      <th>4</th>\n      <td>2021</td>\n      <td>10</td>\n      <td>ARI</td>\n      <td>CAR</td>\n      <td>0.546262</td>\n      <td>0.045256</td>\n      <td>0.453738</td>\n      <td>0.954744</td>\n    </tr>\n  </tbody>\n</table>\n</div>"
     },
     "execution_count": 233,
     "metadata": {},
     "output_type": "execute_result"
    }
   ],
   "source": [
    "team_analytics = pd.concat([home_analytics_df, away_analytics_df])\n",
    "team_analytics.head()"
   ],
   "metadata": {
    "collapsed": false,
    "ExecuteTime": {
     "end_time": "2023-07-03T22:45:20.370475Z",
     "start_time": "2023-07-03T22:45:20.367070Z"
    }
   }
  },
  {
   "cell_type": "code",
   "execution_count": 237,
   "outputs": [],
   "source": [
    "from pandas import DataFrame\n",
    "\n",
    "\n",
    "def calc_coverage(title: str, df: DataFrame):\n",
    "    first = df.season.min()\n",
    "    last = df.season.max()\n",
    "    first_wk = df.week.min()\n",
    "    last_wk = df.week.max()\n",
    "    seasons = df.season.nunique()\n",
    "    print(f\"Shape of {title:30}:  {df.shape},\\t Contains {seasons} seasons, starting with {first} and ending in {last} min week: {first_wk}, max week : {last_wk}\")\n",
    "\n"
   ],
   "metadata": {
    "collapsed": false,
    "ExecuteTime": {
     "end_time": "2023-07-03T22:57:40.151014Z",
     "start_time": "2023-07-03T22:57:40.146737Z"
    }
   }
  },
  {
   "cell_type": "code",
   "execution_count": 238,
   "outputs": [
    {
     "name": "stdout",
     "output_type": "stream",
     "text": [
      "Shape of Team analytics                :  (570, 8),\t Contains 1 seasons, starting with 2021 and ending in 2021 min week: 1, max week : 22\n",
      "Shape of ngs_air_power                 :  (531, 23),\t Contains 1 seasons, starting with 2016 and ending in 2016 min week: 1, max week : 22\n",
      "Shape of ngs_ground_power              :  (526, 21),\t Contains 1 seasons, starting with 2016 and ending in 2016 min week: 1, max week : 22\n",
      "Shape of pbp_events                    :  (572, 11),\t Contains 1 seasons, starting with 2021 and ending in 2021 min week: 1, max week : 22\n",
      "Shape of player_stats                  :  (12836, 43),\t Contains 24 seasons, starting with 1999 and ending in 2022 min week: 1, max week : 22\n"
     ]
    }
   ],
   "source": [
    "calc_coverage(\"Team analytics \", team_analytics)\n",
    "calc_coverage(\"ngs_air_power  \", ngs_air_power)\n",
    "calc_coverage(\"ngs_ground_power \", ngs_ground_power)\n",
    "calc_coverage(\"pbp_events  \", pbp_events)\n",
    "calc_coverage(\"player_stats  \", player_stats)\n"
   ],
   "metadata": {
    "collapsed": false,
    "ExecuteTime": {
     "end_time": "2023-07-03T22:57:40.682561Z",
     "start_time": "2023-07-03T22:57:40.678345Z"
    }
   }
  },
  {
   "cell_type": "code",
   "execution_count": null,
   "outputs": [],
   "source": [],
   "metadata": {
    "collapsed": false
   }
  },
  {
   "cell_type": "code",
   "execution_count": 253,
   "outputs": [
    {
     "data": {
      "text/plain": "(0, 49)"
     },
     "execution_count": 253,
     "metadata": {},
     "output_type": "execute_result"
    }
   ],
   "source": [
    "\n",
    "merged = pd.merge(ngs_ground_power, ngs_air_power, on=['season', 'week', 'team'])\n",
    "merged = pd.merge(merged, pbp_events, on=['season', 'week', 'team'])\n",
    "merged.shape\n",
    "\n",
    "# merged = pd.merge(merged, pbp_events, on=['season', 'week', 'team'])\n",
    "# merged.shape\n",
    "\n",
    "# merged = pd.merge(merged, team_analytics, on=['season', 'week', 'team'])\n"
   ],
   "metadata": {
    "collapsed": false,
    "ExecuteTime": {
     "end_time": "2023-07-03T23:16:20.544072Z",
     "start_time": "2023-07-03T23:16:20.536977Z"
    }
   }
  },
  {
   "cell_type": "code",
   "execution_count": 248,
   "outputs": [
    {
     "data": {
      "text/plain": "Empty DataFrame\nColumns: [season, week, team, rush_yards, efficiency, percent_attempts_gte_eight_defenders, avg_time_to_los, rush_attempts, rush_yards, expected_rush_yards, rush_yards_over_expected, avg_rush_yards, rush_yards_over_expected_per_att, rush_pct_over_expected, rush_touchdowns, player_gsis_id, player_first_name, player_last_name, player_jersey_number, player_short_name, rn]\nIndex: []\n\n[0 rows x 21 columns]",
      "text/html": "<div>\n<style scoped>\n    .dataframe tbody tr th:only-of-type {\n        vertical-align: middle;\n    }\n\n    .dataframe tbody tr th {\n        vertical-align: top;\n    }\n\n    .dataframe thead th {\n        text-align: right;\n    }\n</style>\n<table border=\"1\" class=\"dataframe\">\n  <thead>\n    <tr style=\"text-align: right;\">\n      <th></th>\n      <th>season</th>\n      <th>week</th>\n      <th>team</th>\n      <th>rush_yards</th>\n      <th>efficiency</th>\n      <th>percent_attempts_gte_eight_defenders</th>\n      <th>avg_time_to_los</th>\n      <th>rush_attempts</th>\n      <th>rush_yards</th>\n      <th>expected_rush_yards</th>\n      <th>...</th>\n      <th>avg_rush_yards</th>\n      <th>rush_yards_over_expected_per_att</th>\n      <th>rush_pct_over_expected</th>\n      <th>rush_touchdowns</th>\n      <th>player_gsis_id</th>\n      <th>player_first_name</th>\n      <th>player_last_name</th>\n      <th>player_jersey_number</th>\n      <th>player_short_name</th>\n      <th>rn</th>\n    </tr>\n  </thead>\n  <tbody>\n  </tbody>\n</table>\n<p>0 rows × 21 columns</p>\n</div>"
     },
     "execution_count": 248,
     "metadata": {},
     "output_type": "execute_result"
    }
   ],
   "source": [
    "ngs_ground_power.loc[(ngs_ground_power.season==2016) & (ngs_ground_power.week==11) & (ngs_ground_power.team=='BAL')]\n"
   ],
   "metadata": {
    "collapsed": false,
    "ExecuteTime": {
     "end_time": "2023-07-03T23:08:47.359239Z",
     "start_time": "2023-07-03T23:08:47.336592Z"
    }
   }
  },
  {
   "cell_type": "code",
   "execution_count": null,
   "outputs": [],
   "source": [
    "\n",
    "\n"
   ],
   "metadata": {
    "collapsed": false
   }
  }
 ],
 "metadata": {
  "kernelspec": {
   "display_name": "Python 3",
   "language": "python",
   "name": "python3"
  },
  "language_info": {
   "codemirror_mode": {
    "name": "ipython",
    "version": 2
   },
   "file_extension": ".py",
   "mimetype": "text/x-python",
   "name": "python",
   "nbconvert_exporter": "python",
   "pygments_lexer": "ipython2",
   "version": "2.7.6"
  }
 },
 "nbformat": 4,
 "nbformat_minor": 0
}
