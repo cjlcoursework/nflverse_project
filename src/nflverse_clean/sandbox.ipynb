{
 "cells": [
  {
   "cell_type": "code",
   "execution_count": 1,
   "metadata": {
    "collapsed": true,
    "ExecuteTime": {
     "end_time": "2023-06-30T22:47:35.239569Z",
     "start_time": "2023-06-30T22:47:34.883178Z"
    }
   },
   "outputs": [],
   "source": [
    "import pandas as pd\n",
    "\n"
   ]
  },
  {
   "cell_type": "code",
   "execution_count": 2,
   "outputs": [
    {
     "name": "stderr",
     "output_type": "stream",
     "text": [
      "2023-06-30 15:47:37,050 - INFO - Impute columns to 0\n",
      "2023-06-30 15:47:37,100 - INFO - impute non binary pbp columns ...\n",
      "2023-06-30 15:47:37,149 - INFO - Impute columns to 0\n",
      "2023-06-30 15:47:37,219 - INFO - Impute columns to 0:00\n",
      "2023-06-30 15:47:37,360 - INFO - Impute columns to NA\n",
      "2023-06-30 15:47:38,050 - INFO - moving play_id to play_counter, and creating a joinable play_id key\n",
      "2023-06-30 15:47:38,107 - INFO - Conform key actions like pass, rush, kickoff, etc. and add a single category field called actions... \n",
      "2023-06-30 15:47:38,657 - INFO - Validate actions dimension ...\n",
      "2023-06-30 15:47:38,681 - INFO - Creating new drive dimension...\n",
      "2023-06-30 15:47:38,687 - INFO - Validate drive_df dimension ...\n",
      "2023-06-30 15:47:38,717 - INFO - Creating new situations dimension...\n",
      "2023-06-30 15:47:38,725 - INFO - Validate situation_df dimension ...\n",
      "2023-06-30 15:47:38,750 - INFO - Creating new metrics dimension...\n",
      "2023-06-30 15:47:38,756 - INFO - Validate play_metrics_df dimension ...\n",
      "2023-06-30 15:47:38,764 - INFO - Creating new identities dimension...\n",
      "2023-06-30 15:47:38,767 - INFO - Validate play_metrics_df dimension ...\n",
      "2023-06-30 15:47:38,777 - INFO - Creating new game dimension...\n",
      "2023-06-30 15:47:38,853 - INFO - Validate games dimension ...\n",
      "2023-06-30 15:47:38,854 - INFO - Create stats for pbp player involvement by play ...\n",
      "2023-06-30 15:47:39,890 - INFO - pbp_participation:  move play_id to a play_count column and create a unique play_id that can be used in joins...\n",
      "2023-06-30 15:47:39,923 - INFO - Exploding offensive players to their own dataset...\n",
      "2023-06-30 15:47:40,007 - INFO - Exploding defense_players to their own dataset...\n",
      "ERROR:root:combining offense and defense players - counts are incorrect 1018135 != 1009149\n",
      "2023-06-30 15:47:40,690 - INFO - Ensure that pbp and pbp_participation are merge-able...\n",
      "INFO:pbp_logger:Ensure that pbp and pbp_participation are merge-able...\n",
      "2023-06-30 15:47:40,691 - INFO - merge pbp and pbp participants...\n",
      "INFO:pbp_logger:merge pbp and pbp participants...\n",
      "2023-06-30 15:47:40,766 - INFO - not found in pbp 176, not found in participations: 520...\n",
      "INFO:pbp_logger:not found in pbp 176, not found in participations: 520...\n",
      "2023-06-30 15:47:40,768 - INFO - find any that will join on the old game id...\n",
      "INFO:pbp_logger:find any that will join on the old game id...\n",
      "2023-06-30 15:47:41,300 - WARNING - After fix : missing participants:   fixed 176,  not fixed: 344\n",
      "WARNING:pbp_logger:After fix : missing participants:   fixed 176,  not fixed: 344\n",
      "2023-06-30 15:47:41,301 - INFO - Re-create a joinable play_id column ...\n",
      "INFO:pbp_logger:Re-create a joinable play_id column ...\n",
      "2023-06-30 15:47:41,395 - INFO - \n",
      "both          50368\n",
      "left_only       344\n",
      "right_only        0\n",
      "Name: _merge, dtype: int64\n",
      "INFO:pbp_logger:\n",
      "both          50368\n",
      "left_only       344\n",
      "right_only        0\n",
      "Name: _merge, dtype: int64\n",
      "2023-06-30 15:47:41,863 - INFO - fix specific player_stats: <function player_stats_fixes at 0x12785c790>..\n",
      "INFO:pbp_logger:fix specific player_stats: <function player_stats_fixes at 0x12785c790>..\n",
      "2023-06-30 15:47:41,915 - INFO - replace empty position_groups with position info...\n",
      "INFO:pbp_logger:replace empty position_groups with position info...\n",
      "2023-06-30 15:47:41,926 - INFO - replace empty player_name with player_display_name info...\n",
      "INFO:pbp_logger:replace empty player_name with player_display_name info...\n",
      "2023-06-30 15:47:41,936 - INFO - replace empty headshot_url with 'none'...\n",
      "INFO:pbp_logger:replace empty headshot_url with 'none'...\n",
      "2023-06-30 15:47:41,944 - INFO - fillna(0) for all binary columns...\n",
      "INFO:pbp_logger:fillna(0) for all binary columns...\n",
      "2023-06-30 15:47:41,945 - INFO - Impute columns to 0\n",
      "INFO:pbp_logger:Impute columns to 0\n",
      "2023-06-30 15:47:42,101 - INFO - Process players dataset...\n",
      "INFO:pbp_logger:Process players dataset...\n",
      "2023-06-30 15:47:42,101 - INFO - drop players without gsis_ids - they won't link to player_stats\n",
      "INFO:pbp_logger:drop players without gsis_ids - they won't link to player_stats\n",
      "2023-06-30 15:47:42,109 - INFO - fill empty players status to 'NONE'\n",
      "INFO:pbp_logger:fill empty players status to 'NONE'\n",
      "2023-06-30 15:47:42,273 - INFO - Validate the players + player_stats merge...\n",
      "INFO:pbp_logger:Validate the players + player_stats merge...\n",
      "2023-06-30 15:47:42,275 - INFO - The stats dataset has 124081 records\n",
      "INFO:pbp_logger:The stats dataset has 124081 records\n",
      "2023-06-30 15:47:42,275 - INFO - The merged dataset has 139458 records\n",
      "INFO:pbp_logger:The merged dataset has 139458 records\n",
      "2023-06-30 15:47:42,276 - INFO - percent of stats_without_players: 0.0\n",
      "INFO:pbp_logger:percent of stats_without_players: 0.0\n",
      "2023-06-30 15:47:42,276 - INFO - percent of players_without_stats - this is common: 0.11026258801933199\n",
      "INFO:pbp_logger:percent of players_without_stats - this is common: 0.11026258801933199\n",
      "2023-06-30 15:47:42,277 - INFO - percent of matched players and stats : 0.889737411980668\n",
      "INFO:pbp_logger:percent of matched players and stats : 0.889737411980668\n",
      "2023-06-30 15:47:42,277 - INFO - percent of stats that were consumed in the join: 1.0\n",
      "INFO:pbp_logger:percent of stats that were consumed in the join: 1.0\n",
      "2023-06-30 15:47:42,293 - INFO - Prep injury data...\n",
      "INFO:pbp_logger:Prep injury data...\n",
      "2023-06-30 15:47:42,294 - INFO - Conforming names (e.g. gsis_id -> player_id)\n",
      "INFO:pbp_logger:Conforming names (e.g. gsis_id -> player_id)\n",
      "2023-06-30 15:47:42,295 - INFO - Merge sparse injury columns\n",
      "INFO:pbp_logger:Merge sparse injury columns\n",
      "2023-06-30 15:47:42,296 - INFO - Get best values for null report_statuses...\n",
      "INFO:pbp_logger:Get best values for null report_statuses...\n",
      "2023-06-30 15:47:42,307 - INFO - check that all positions are correct...\n",
      "INFO:pbp_logger:check that all positions are correct...\n"
     ]
    }
   ],
   "source": [
    "from NFLVersReader.src.nflverse_clean.pbp_job import perform_workflow\n",
    "\n",
    "results = perform_workflow()"
   ],
   "metadata": {
    "collapsed": false,
    "ExecuteTime": {
     "end_time": "2023-06-30T22:47:42.337277Z",
     "start_time": "2023-06-30T22:47:35.240366Z"
    }
   }
  },
  {
   "cell_type": "code",
   "execution_count": 3,
   "outputs": [
    {
     "data": {
      "text/plain": "dict_keys(['play_actions', 'game_drive', 'play_situations', 'play_metrics', 'play_identities', 'player_events', 'game_info', 'schema', 'player_participation', 'pbp_participation', 'player_stats', 'players', 'player_injuries'])"
     },
     "execution_count": 3,
     "metadata": {},
     "output_type": "execute_result"
    }
   ],
   "source": [
    "results.keys()"
   ],
   "metadata": {
    "collapsed": false,
    "ExecuteTime": {
     "end_time": "2023-06-30T22:47:42.337568Z",
     "start_time": "2023-06-30T22:47:42.334014Z"
    }
   }
  },
  {
   "cell_type": "code",
   "execution_count": 4,
   "outputs": [
    {
     "name": "stderr",
     "output_type": "stream",
     "text": [
      "2023-06-30 15:47:43,890 - INFO - Impute columns to 0\n",
      "INFO:pbp_logger:Impute columns to 0\n",
      "2023-06-30 15:47:43,914 - INFO - impute non binary pbp columns ...\n",
      "INFO:pbp_logger:impute non binary pbp columns ...\n",
      "2023-06-30 15:47:43,956 - INFO - Impute columns to 0\n",
      "INFO:pbp_logger:Impute columns to 0\n",
      "2023-06-30 15:47:44,022 - INFO - Impute columns to 0:00\n",
      "INFO:pbp_logger:Impute columns to 0:00\n",
      "2023-06-30 15:47:44,161 - INFO - Impute columns to NA\n",
      "INFO:pbp_logger:Impute columns to NA\n",
      "2023-06-30 15:47:44,878 - INFO - moving play_id to play_counter, and creating a joinable play_id key\n",
      "INFO:pbp_logger:moving play_id to play_counter, and creating a joinable play_id key\n"
     ]
    }
   ],
   "source": [
    "from NFLVersReader.src.nflverse_clean.pbp_fact import clean_columns\n",
    "\n",
    "pbp_df = pd.read_csv(\"../../output/playbyplay_2021.csv\", low_memory=False)\n",
    "players_df = results['player_participation']\n",
    "clean_columns(pbp_df)"
   ],
   "metadata": {
    "collapsed": false,
    "ExecuteTime": {
     "end_time": "2023-06-30T22:47:44.941246Z",
     "start_time": "2023-06-30T22:47:42.336943Z"
    }
   }
  },
  {
   "cell_type": "code",
   "execution_count": 47,
   "outputs": [
    {
     "data": {
      "text/plain": "(50712, 2)"
     },
     "execution_count": 47,
     "metadata": {},
     "output_type": "execute_result"
    }
   ],
   "source": [
    "offense_teams = pbp_df[['play_id', 'posteam']].drop_duplicates()\n",
    "offense_teams.rename(columns={'posteam': 'team'}, inplace=True)\n",
    "offense_teams.shape"
   ],
   "metadata": {
    "collapsed": false,
    "ExecuteTime": {
     "end_time": "2023-06-30T22:57:57.619596Z",
     "start_time": "2023-06-30T22:57:57.608372Z"
    }
   }
  },
  {
   "cell_type": "code",
   "execution_count": 48,
   "outputs": [
    {
     "data": {
      "text/plain": "               play_id team\n0    2021_01_ARI_TEN_1   NA\n1   2021_01_ARI_TEN_40  TEN\n2   2021_01_ARI_TEN_55  TEN\n3   2021_01_ARI_TEN_76  TEN\n4  2021_01_ARI_TEN_100  TEN",
      "text/html": "<div>\n<style scoped>\n    .dataframe tbody tr th:only-of-type {\n        vertical-align: middle;\n    }\n\n    .dataframe tbody tr th {\n        vertical-align: top;\n    }\n\n    .dataframe thead th {\n        text-align: right;\n    }\n</style>\n<table border=\"1\" class=\"dataframe\">\n  <thead>\n    <tr style=\"text-align: right;\">\n      <th></th>\n      <th>play_id</th>\n      <th>team</th>\n    </tr>\n  </thead>\n  <tbody>\n    <tr>\n      <th>0</th>\n      <td>2021_01_ARI_TEN_1</td>\n      <td>NA</td>\n    </tr>\n    <tr>\n      <th>1</th>\n      <td>2021_01_ARI_TEN_40</td>\n      <td>TEN</td>\n    </tr>\n    <tr>\n      <th>2</th>\n      <td>2021_01_ARI_TEN_55</td>\n      <td>TEN</td>\n    </tr>\n    <tr>\n      <th>3</th>\n      <td>2021_01_ARI_TEN_76</td>\n      <td>TEN</td>\n    </tr>\n    <tr>\n      <th>4</th>\n      <td>2021_01_ARI_TEN_100</td>\n      <td>TEN</td>\n    </tr>\n  </tbody>\n</table>\n</div>"
     },
     "execution_count": 48,
     "metadata": {},
     "output_type": "execute_result"
    }
   ],
   "source": [
    "offense_teams.head()"
   ],
   "metadata": {
    "collapsed": false,
    "ExecuteTime": {
     "end_time": "2023-06-30T22:57:58.124935Z",
     "start_time": "2023-06-30T22:57:58.120392Z"
    }
   }
  },
  {
   "cell_type": "code",
   "execution_count": 40,
   "outputs": [
    {
     "data": {
      "text/plain": "(50712, 2)"
     },
     "execution_count": 40,
     "metadata": {},
     "output_type": "execute_result"
    }
   ],
   "source": [
    "defense_teams = pbp_df[['play_id', 'defteam']].drop_duplicates()\n",
    "defense_teams.rename(columns={'defteam': 'team'}, inplace=True)\n",
    "defense_teams.shape"
   ],
   "metadata": {
    "collapsed": false,
    "ExecuteTime": {
     "end_time": "2023-06-30T22:54:34.976989Z",
     "start_time": "2023-06-30T22:54:34.963455Z"
    }
   }
  },
  {
   "cell_type": "code",
   "execution_count": 41,
   "outputs": [],
   "source": [
    "offense_players = players_df[players_df['lineup'] == 'offense']\n",
    "defense_players = players_df[players_df['lineup'] == 'defense']"
   ],
   "metadata": {
    "collapsed": false,
    "ExecuteTime": {
     "end_time": "2023-06-30T22:54:35.654679Z",
     "start_time": "2023-06-30T22:54:35.591020Z"
    }
   }
  },
  {
   "cell_type": "code",
   "execution_count": 42,
   "outputs": [
    {
     "data": {
      "text/plain": "(504618, 4)"
     },
     "execution_count": 42,
     "metadata": {},
     "output_type": "execute_result"
    }
   ],
   "source": [
    "offense_players.shape"
   ],
   "metadata": {
    "collapsed": false,
    "ExecuteTime": {
     "end_time": "2023-06-30T22:54:36.165320Z",
     "start_time": "2023-06-30T22:54:36.160081Z"
    }
   }
  },
  {
   "cell_type": "code",
   "execution_count": 43,
   "outputs": [
    {
     "data": {
      "text/plain": "(504531, 4)"
     },
     "execution_count": 43,
     "metadata": {},
     "output_type": "execute_result"
    }
   ],
   "source": [
    "defense_players.shape"
   ],
   "metadata": {
    "collapsed": false,
    "ExecuteTime": {
     "end_time": "2023-06-30T22:54:36.720990Z",
     "start_time": "2023-06-30T22:54:36.713333Z"
    }
   }
  },
  {
   "cell_type": "code",
   "execution_count": 44,
   "outputs": [
    {
     "data": {
      "text/plain": "(504618, 5)"
     },
     "execution_count": 44,
     "metadata": {},
     "output_type": "execute_result"
    }
   ],
   "source": [
    "offense_merged_df = pd.merge(offense_players, offense_teams, on='play_id')\n",
    "offense_merged_df.shape"
   ],
   "metadata": {
    "collapsed": false,
    "ExecuteTime": {
     "end_time": "2023-06-30T22:54:37.526939Z",
     "start_time": "2023-06-30T22:54:37.469337Z"
    }
   }
  },
  {
   "cell_type": "code",
   "execution_count": 45,
   "outputs": [
    {
     "data": {
      "text/plain": "(504531, 5)"
     },
     "execution_count": 45,
     "metadata": {},
     "output_type": "execute_result"
    }
   ],
   "source": [
    "defense_merged_df = pd.merge(defense_players, defense_teams, on='play_id')\n",
    "defense_merged_df.shape"
   ],
   "metadata": {
    "collapsed": false,
    "ExecuteTime": {
     "end_time": "2023-06-30T22:54:39.098210Z",
     "start_time": "2023-06-30T22:54:39.028077Z"
    }
   }
  },
  {
   "cell_type": "code",
   "execution_count": 46,
   "outputs": [
    {
     "data": {
      "text/plain": "          game_id            play_id   player_id   lineup team\n0  2021_01_DAL_TB  2021_01_DAL_TB_40  00-0036643  defense  DAL\n1  2021_01_DAL_TB  2021_01_DAL_TB_40  00-0033595  defense  DAL\n2  2021_01_DAL_TB  2021_01_DAL_TB_40  00-0034515  defense  DAL\n3  2021_01_DAL_TB  2021_01_DAL_TB_40  00-0032637  defense  DAL\n4  2021_01_DAL_TB  2021_01_DAL_TB_40  00-0030456  defense  DAL",
      "text/html": "<div>\n<style scoped>\n    .dataframe tbody tr th:only-of-type {\n        vertical-align: middle;\n    }\n\n    .dataframe tbody tr th {\n        vertical-align: top;\n    }\n\n    .dataframe thead th {\n        text-align: right;\n    }\n</style>\n<table border=\"1\" class=\"dataframe\">\n  <thead>\n    <tr style=\"text-align: right;\">\n      <th></th>\n      <th>game_id</th>\n      <th>play_id</th>\n      <th>player_id</th>\n      <th>lineup</th>\n      <th>team</th>\n    </tr>\n  </thead>\n  <tbody>\n    <tr>\n      <th>0</th>\n      <td>2021_01_DAL_TB</td>\n      <td>2021_01_DAL_TB_40</td>\n      <td>00-0036643</td>\n      <td>defense</td>\n      <td>DAL</td>\n    </tr>\n    <tr>\n      <th>1</th>\n      <td>2021_01_DAL_TB</td>\n      <td>2021_01_DAL_TB_40</td>\n      <td>00-0033595</td>\n      <td>defense</td>\n      <td>DAL</td>\n    </tr>\n    <tr>\n      <th>2</th>\n      <td>2021_01_DAL_TB</td>\n      <td>2021_01_DAL_TB_40</td>\n      <td>00-0034515</td>\n      <td>defense</td>\n      <td>DAL</td>\n    </tr>\n    <tr>\n      <th>3</th>\n      <td>2021_01_DAL_TB</td>\n      <td>2021_01_DAL_TB_40</td>\n      <td>00-0032637</td>\n      <td>defense</td>\n      <td>DAL</td>\n    </tr>\n    <tr>\n      <th>4</th>\n      <td>2021_01_DAL_TB</td>\n      <td>2021_01_DAL_TB_40</td>\n      <td>00-0030456</td>\n      <td>defense</td>\n      <td>DAL</td>\n    </tr>\n  </tbody>\n</table>\n</div>"
     },
     "execution_count": 46,
     "metadata": {},
     "output_type": "execute_result"
    }
   ],
   "source": [
    "defense_merged_df.head()"
   ],
   "metadata": {
    "collapsed": false,
    "ExecuteTime": {
     "end_time": "2023-06-30T22:54:40.997232Z",
     "start_time": "2023-06-30T22:54:40.993856Z"
    }
   }
  },
  {
   "cell_type": "code",
   "execution_count": 49,
   "outputs": [],
   "source": [
    "merged_df = pd.concat([offense_merged_df, defense_merged_df])"
   ],
   "metadata": {
    "collapsed": false,
    "ExecuteTime": {
     "end_time": "2023-06-30T22:59:24.994523Z",
     "start_time": "2023-06-30T22:59:24.937921Z"
    }
   }
  },
  {
   "cell_type": "code",
   "execution_count": 51,
   "outputs": [
    {
     "data": {
      "text/plain": "          game_id            play_id   player_id   lineup team\n0  2021_01_DAL_TB  2021_01_DAL_TB_40  00-0033083  offense   TB\n1  2021_01_DAL_TB  2021_01_DAL_TB_40  00-0033512  offense   TB\n2  2021_01_DAL_TB  2021_01_DAL_TB_40  00-0034674  offense   TB\n3  2021_01_DAL_TB  2021_01_DAL_TB_40  00-0036882  offense   TB\n4  2021_01_DAL_TB  2021_01_DAL_TB_40  00-0034373  offense   TB",
      "text/html": "<div>\n<style scoped>\n    .dataframe tbody tr th:only-of-type {\n        vertical-align: middle;\n    }\n\n    .dataframe tbody tr th {\n        vertical-align: top;\n    }\n\n    .dataframe thead th {\n        text-align: right;\n    }\n</style>\n<table border=\"1\" class=\"dataframe\">\n  <thead>\n    <tr style=\"text-align: right;\">\n      <th></th>\n      <th>game_id</th>\n      <th>play_id</th>\n      <th>player_id</th>\n      <th>lineup</th>\n      <th>team</th>\n    </tr>\n  </thead>\n  <tbody>\n    <tr>\n      <th>0</th>\n      <td>2021_01_DAL_TB</td>\n      <td>2021_01_DAL_TB_40</td>\n      <td>00-0033083</td>\n      <td>offense</td>\n      <td>TB</td>\n    </tr>\n    <tr>\n      <th>1</th>\n      <td>2021_01_DAL_TB</td>\n      <td>2021_01_DAL_TB_40</td>\n      <td>00-0033512</td>\n      <td>offense</td>\n      <td>TB</td>\n    </tr>\n    <tr>\n      <th>2</th>\n      <td>2021_01_DAL_TB</td>\n      <td>2021_01_DAL_TB_40</td>\n      <td>00-0034674</td>\n      <td>offense</td>\n      <td>TB</td>\n    </tr>\n    <tr>\n      <th>3</th>\n      <td>2021_01_DAL_TB</td>\n      <td>2021_01_DAL_TB_40</td>\n      <td>00-0036882</td>\n      <td>offense</td>\n      <td>TB</td>\n    </tr>\n    <tr>\n      <th>4</th>\n      <td>2021_01_DAL_TB</td>\n      <td>2021_01_DAL_TB_40</td>\n      <td>00-0034373</td>\n      <td>offense</td>\n      <td>TB</td>\n    </tr>\n  </tbody>\n</table>\n</div>"
     },
     "execution_count": 51,
     "metadata": {},
     "output_type": "execute_result"
    }
   ],
   "source": [
    "merged_df.head()"
   ],
   "metadata": {
    "collapsed": false,
    "ExecuteTime": {
     "end_time": "2023-06-30T22:59:45.827132Z",
     "start_time": "2023-06-30T22:59:45.824017Z"
    }
   }
  },
  {
   "cell_type": "code",
   "execution_count": null,
   "outputs": [],
   "source": [],
   "metadata": {
    "collapsed": false
   }
  }
 ],
 "metadata": {
  "kernelspec": {
   "display_name": "Python 3",
   "language": "python",
   "name": "python3"
  },
  "language_info": {
   "codemirror_mode": {
    "name": "ipython",
    "version": 2
   },
   "file_extension": ".py",
   "mimetype": "text/x-python",
   "name": "python",
   "nbconvert_exporter": "python",
   "pygments_lexer": "ipython2",
   "version": "2.7.6"
  }
 },
 "nbformat": 4,
 "nbformat_minor": 0
}
