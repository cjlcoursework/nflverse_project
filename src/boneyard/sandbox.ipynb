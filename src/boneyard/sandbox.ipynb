{
 "cells": [
  {
   "cell_type": "code",
   "execution_count": 1,
   "metadata": {
    "collapsed": true,
    "ExecuteTime": {
     "end_time": "2023-06-30T01:09:23.515879Z",
     "start_time": "2023-06-30T01:09:23.040061Z"
    }
   },
   "outputs": [],
   "source": [
    "import pandas as pd\n",
    "from NFLVersReader.src.nflverse_clean.utils import assert_not_null, assert_and_alert\n"
   ]
  },
  {
   "cell_type": "code",
   "execution_count": 2,
   "outputs": [],
   "source": [
    "injuries_df = pd.read_csv(\"../../output/injuries_2021.csv\", low_memory=False, parse_dates=['date_modified'])\n"
   ],
   "metadata": {
    "collapsed": false,
    "ExecuteTime": {
     "end_time": "2023-06-30T01:09:23.561981Z",
     "start_time": "2023-06-30T01:09:23.516313Z"
    }
   }
  },
  {
   "cell_type": "code",
   "execution_count": 3,
   "outputs": [
    {
     "data": {
      "text/plain": "season                                     int64\ngame_type                                 object\nteam                                      object\nweek                                       int64\ngsis_id                                   object\nposition                                  object\nfull_name                                 object\nfirst_name                                object\nlast_name                                 object\nreport_primary_injury                     object\nreport_secondary_injury                   object\nreport_status                             object\npractice_primary_injury                   object\npractice_secondary_injury                 object\npractice_status                           object\ndate_modified                datetime64[ns, UTC]\ndtype: object"
     },
     "execution_count": 3,
     "metadata": {},
     "output_type": "execute_result"
    }
   ],
   "source": [
    "injuries_df.dtypes"
   ],
   "metadata": {
    "collapsed": false,
    "ExecuteTime": {
     "end_time": "2023-06-30T01:09:23.566621Z",
     "start_time": "2023-06-30T01:09:23.564218Z"
    }
   }
  },
  {
   "cell_type": "code",
   "execution_count": 4,
   "outputs": [
    {
     "data": {
      "text/plain": "   season game_type team  week     gsis_id position         full_name  \\\n0    2021       REG  ARI     1  00-0033258       TE   Darrell Daniels   \n1    2021       REG  ARI     1  00-0034473       LB    Dennis Gardeck   \n2    2021       REG  ARI     1  00-0035126       WR    Antoine Wesley   \n3    2021       REG  ATL     1  00-0031583       DT     Grady Jarrett   \n4    2021       REG  ATL     1  00-0030010       LB  Brandon Copeland   \n\n  first_name last_name report_primary_injury report_secondary_injury  \\\n0    Darrell   Daniels                   NaN                     NaN   \n1     Dennis   Gardeck                  Knee                    Hand   \n2    Antoine    Wesley               Illness                     NaN   \n3      Grady   Jarrett                   NaN                     NaN   \n4    Brandon  Copeland                   NaN                     NaN   \n\n  report_status               practice_primary_injury  \\\n0           NaN                                   Toe   \n1           Out                                  Knee   \n2           Out                               Illness   \n3           NaN  Not injury related - personal matter   \n4           NaN                             Hamstring   \n\n  practice_secondary_injury                  practice_status  \\\n0                       NaN   Full Participation in Practice   \n1                      Hand  Did Not Participate In Practice   \n2                       NaN  Did Not Participate In Practice   \n3                       NaN  Did Not Participate In Practice   \n4                       NaN   Full Participation in Practice   \n\n              date_modified  \n0 2021-09-10 19:35:39+00:00  \n1 2021-09-10 19:36:51+00:00  \n2 2021-09-10 19:37:05+00:00  \n3 2021-09-10 09:29:27+00:00  \n4 2021-09-10 18:05:56+00:00  ",
      "text/html": "<div>\n<style scoped>\n    .dataframe tbody tr th:only-of-type {\n        vertical-align: middle;\n    }\n\n    .dataframe tbody tr th {\n        vertical-align: top;\n    }\n\n    .dataframe thead th {\n        text-align: right;\n    }\n</style>\n<table border=\"1\" class=\"dataframe\">\n  <thead>\n    <tr style=\"text-align: right;\">\n      <th></th>\n      <th>season</th>\n      <th>game_type</th>\n      <th>team</th>\n      <th>week</th>\n      <th>gsis_id</th>\n      <th>position</th>\n      <th>full_name</th>\n      <th>first_name</th>\n      <th>last_name</th>\n      <th>report_primary_injury</th>\n      <th>report_secondary_injury</th>\n      <th>report_status</th>\n      <th>practice_primary_injury</th>\n      <th>practice_secondary_injury</th>\n      <th>practice_status</th>\n      <th>date_modified</th>\n    </tr>\n  </thead>\n  <tbody>\n    <tr>\n      <th>0</th>\n      <td>2021</td>\n      <td>REG</td>\n      <td>ARI</td>\n      <td>1</td>\n      <td>00-0033258</td>\n      <td>TE</td>\n      <td>Darrell Daniels</td>\n      <td>Darrell</td>\n      <td>Daniels</td>\n      <td>NaN</td>\n      <td>NaN</td>\n      <td>NaN</td>\n      <td>Toe</td>\n      <td>NaN</td>\n      <td>Full Participation in Practice</td>\n      <td>2021-09-10 19:35:39+00:00</td>\n    </tr>\n    <tr>\n      <th>1</th>\n      <td>2021</td>\n      <td>REG</td>\n      <td>ARI</td>\n      <td>1</td>\n      <td>00-0034473</td>\n      <td>LB</td>\n      <td>Dennis Gardeck</td>\n      <td>Dennis</td>\n      <td>Gardeck</td>\n      <td>Knee</td>\n      <td>Hand</td>\n      <td>Out</td>\n      <td>Knee</td>\n      <td>Hand</td>\n      <td>Did Not Participate In Practice</td>\n      <td>2021-09-10 19:36:51+00:00</td>\n    </tr>\n    <tr>\n      <th>2</th>\n      <td>2021</td>\n      <td>REG</td>\n      <td>ARI</td>\n      <td>1</td>\n      <td>00-0035126</td>\n      <td>WR</td>\n      <td>Antoine Wesley</td>\n      <td>Antoine</td>\n      <td>Wesley</td>\n      <td>Illness</td>\n      <td>NaN</td>\n      <td>Out</td>\n      <td>Illness</td>\n      <td>NaN</td>\n      <td>Did Not Participate In Practice</td>\n      <td>2021-09-10 19:37:05+00:00</td>\n    </tr>\n    <tr>\n      <th>3</th>\n      <td>2021</td>\n      <td>REG</td>\n      <td>ATL</td>\n      <td>1</td>\n      <td>00-0031583</td>\n      <td>DT</td>\n      <td>Grady Jarrett</td>\n      <td>Grady</td>\n      <td>Jarrett</td>\n      <td>NaN</td>\n      <td>NaN</td>\n      <td>NaN</td>\n      <td>Not injury related - personal matter</td>\n      <td>NaN</td>\n      <td>Did Not Participate In Practice</td>\n      <td>2021-09-10 09:29:27+00:00</td>\n    </tr>\n    <tr>\n      <th>4</th>\n      <td>2021</td>\n      <td>REG</td>\n      <td>ATL</td>\n      <td>1</td>\n      <td>00-0030010</td>\n      <td>LB</td>\n      <td>Brandon Copeland</td>\n      <td>Brandon</td>\n      <td>Copeland</td>\n      <td>NaN</td>\n      <td>NaN</td>\n      <td>NaN</td>\n      <td>Hamstring</td>\n      <td>NaN</td>\n      <td>Full Participation in Practice</td>\n      <td>2021-09-10 18:05:56+00:00</td>\n    </tr>\n  </tbody>\n</table>\n</div>"
     },
     "execution_count": 4,
     "metadata": {},
     "output_type": "execute_result"
    }
   ],
   "source": [
    "injuries_df.head()"
   ],
   "metadata": {
    "collapsed": false,
    "ExecuteTime": {
     "end_time": "2023-06-30T01:09:23.574439Z",
     "start_time": "2023-06-30T01:09:23.568230Z"
    }
   }
  },
  {
   "cell_type": "code",
   "execution_count": 5,
   "outputs": [],
   "source": [
    "def check_keys(df):\n",
    "    assert_not_null(df, 'season')\n",
    "    assert_not_null(df, 'week')\n",
    "    assert_not_null(df, 'player_id')\n",
    "    assert_not_null(df, 'team')\n",
    "    assert_not_null(df, 'position')\n",
    "    assert_not_null(df, 'report_status')\n"
   ],
   "metadata": {
    "collapsed": false,
    "ExecuteTime": {
     "end_time": "2023-06-30T01:09:23.576895Z",
     "start_time": "2023-06-30T01:09:23.575317Z"
    }
   }
  },
  {
   "cell_type": "code",
   "execution_count": 6,
   "outputs": [],
   "source": [
    "# conform names\n",
    "injuries_df.rename(columns={'gsis_id': 'player_id'}, inplace=True)\n"
   ],
   "metadata": {
    "collapsed": false,
    "ExecuteTime": {
     "end_time": "2023-06-30T01:09:23.579062Z",
     "start_time": "2023-06-30T01:09:23.577736Z"
    }
   }
  },
  {
   "cell_type": "code",
   "execution_count": 7,
   "outputs": [],
   "source": [
    "injuries_df['primary_injury'] = injuries_df['report_primary_injury'].fillna(injuries_df['practice_primary_injury'])"
   ],
   "metadata": {
    "collapsed": false,
    "ExecuteTime": {
     "end_time": "2023-06-30T01:09:23.582296Z",
     "start_time": "2023-06-30T01:09:23.580021Z"
    }
   }
  },
  {
   "cell_type": "code",
   "execution_count": 8,
   "outputs": [
    {
     "data": {
      "text/plain": "NaN             3020\nQuestionable    1513\nOut              888\nDoubtful         166\nName: report_status, dtype: int64"
     },
     "execution_count": 8,
     "metadata": {},
     "output_type": "execute_result"
    }
   ],
   "source": [
    "injuries_df.report_status.value_counts(dropna=False)\n"
   ],
   "metadata": {
    "collapsed": false,
    "ExecuteTime": {
     "end_time": "2023-06-30T01:09:23.587834Z",
     "start_time": "2023-06-30T01:09:23.583368Z"
    }
   }
  },
  {
   "cell_type": "code",
   "execution_count": 9,
   "outputs": [],
   "source": [
    "injuries_df.loc[(injuries_df.report_status.isna()) & (injuries_df.primary_injury.str.lower().str.contains('resting')), 'report_status'] = 'Resting'\n",
    "injuries_df.loc[(injuries_df.report_status.isna()) & (injuries_df.primary_injury.str.lower().str.contains('personal')), 'report_status'] = 'Personal'\n",
    "injuries_df.loc[(injuries_df.report_status.isna()) & (injuries_df.practice_status.str.lower().str.contains('full participation')), 'report_status'] = 'Optimistic'\n",
    "injuries_df.loc[(injuries_df.report_status.isna()) & (injuries_df.practice_status.str.lower().str.contains('did not participate')), 'report_status'] = 'Doubtful'\n",
    "injuries_df.loc[(injuries_df.report_status.isna()) & (injuries_df.practice_status.str.lower().str.contains('limited participation')), 'report_status'] = 'Questionable'\n",
    "injuries_df.loc[(injuries_df.report_status.isna()), 'report_status'] = 'Uncertain'"
   ],
   "metadata": {
    "collapsed": false,
    "ExecuteTime": {
     "end_time": "2023-06-30T01:09:23.606781Z",
     "start_time": "2023-06-30T01:09:23.590329Z"
    }
   }
  },
  {
   "cell_type": "code",
   "execution_count": 10,
   "outputs": [
    {
     "data": {
      "text/plain": "Series([], Name: primary_injury, dtype: object)"
     },
     "execution_count": 10,
     "metadata": {},
     "output_type": "execute_result"
    }
   ],
   "source": [
    "injuries_df.loc[(injuries_df.report_status.isna()), 'primary_injury']"
   ],
   "metadata": {
    "collapsed": false,
    "ExecuteTime": {
     "end_time": "2023-06-30T01:09:23.613019Z",
     "start_time": "2023-06-30T01:09:23.601401Z"
    }
   }
  },
  {
   "cell_type": "code",
   "execution_count": 11,
   "outputs": [],
   "source": [
    "check_keys(injuries_df)"
   ],
   "metadata": {
    "collapsed": false,
    "ExecuteTime": {
     "end_time": "2023-06-30T01:09:23.613271Z",
     "start_time": "2023-06-30T01:09:23.606257Z"
    }
   }
  },
  {
   "cell_type": "code",
   "execution_count": 12,
   "outputs": [
    {
     "data": {
      "text/plain": "Optimistic      1943\nQuestionable    1853\nOut              888\nResting          501\nDoubtful         331\nPersonal          71\nName: report_status, dtype: int64"
     },
     "execution_count": 12,
     "metadata": {},
     "output_type": "execute_result"
    }
   ],
   "source": [
    "injuries_df.report_status.value_counts()"
   ],
   "metadata": {
    "collapsed": false,
    "ExecuteTime": {
     "end_time": "2023-06-30T01:09:23.677304Z",
     "start_time": "2023-06-30T01:09:23.608805Z"
    }
   }
  },
  {
   "cell_type": "code",
   "execution_count": 13,
   "outputs": [
    {
     "data": {
      "text/plain": "Empty DataFrame\nColumns: [season, game_type, team, week, player_id, position, full_name, first_name, last_name, report_primary_injury, report_secondary_injury, report_status, practice_primary_injury, practice_secondary_injury, practice_status, date_modified, primary_injury]\nIndex: []",
      "text/html": "<div>\n<style scoped>\n    .dataframe tbody tr th:only-of-type {\n        vertical-align: middle;\n    }\n\n    .dataframe tbody tr th {\n        vertical-align: top;\n    }\n\n    .dataframe thead th {\n        text-align: right;\n    }\n</style>\n<table border=\"1\" class=\"dataframe\">\n  <thead>\n    <tr style=\"text-align: right;\">\n      <th></th>\n      <th>season</th>\n      <th>game_type</th>\n      <th>team</th>\n      <th>week</th>\n      <th>player_id</th>\n      <th>position</th>\n      <th>full_name</th>\n      <th>first_name</th>\n      <th>last_name</th>\n      <th>report_primary_injury</th>\n      <th>report_secondary_injury</th>\n      <th>report_status</th>\n      <th>practice_primary_injury</th>\n      <th>practice_secondary_injury</th>\n      <th>practice_status</th>\n      <th>date_modified</th>\n      <th>primary_injury</th>\n    </tr>\n  </thead>\n  <tbody>\n  </tbody>\n</table>\n</div>"
     },
     "execution_count": 13,
     "metadata": {},
     "output_type": "execute_result"
    }
   ],
   "source": [
    "injuries_df.loc[(injuries_df.report_status == 'Uncertain'),]"
   ],
   "metadata": {
    "collapsed": false,
    "ExecuteTime": {
     "end_time": "2023-06-30T01:09:23.694782Z",
     "start_time": "2023-06-30T01:09:23.612362Z"
    }
   }
  },
  {
   "cell_type": "code",
   "execution_count": 15,
   "outputs": [
    {
     "data": {
      "text/plain": "{'B',\n 'BB',\n 'C',\n 'CB',\n 'DB',\n 'DE',\n 'DG',\n 'DL',\n 'DT',\n 'E',\n 'FB',\n 'FL',\n 'FS',\n 'G',\n 'HB',\n 'ILB',\n 'K',\n 'KR',\n 'LB',\n 'LCB',\n 'LDE',\n 'LDH',\n 'LDT',\n 'LE',\n 'LG',\n 'LH',\n 'LILB',\n 'LLB',\n 'LOLB',\n 'LOT',\n 'LS',\n 'LT',\n 'MG',\n 'MIKE',\n 'MLB',\n 'NT',\n 'OG',\n 'OL',\n 'OLB',\n 'OT',\n 'P',\n 'PR',\n 'QB',\n 'RB',\n 'RCB',\n 'RDE',\n 'RDH',\n 'RDT',\n 'RE',\n 'RET',\n 'RG',\n 'RH',\n 'RILB',\n 'RLB',\n 'ROLB',\n 'ROT',\n 'RS',\n 'RT',\n 'RUSH',\n 'S',\n 'SAM',\n 'SE',\n 'SLB',\n 'SS',\n 'T',\n 'TB',\n 'TE',\n 'WB',\n 'WILL',\n 'WLB',\n 'WR'}"
     },
     "execution_count": 15,
     "metadata": {},
     "output_type": "execute_result"
    }
   ],
   "source": [
    "positions = pd.read_csv(\"../../../nfl_capstone/data/raw/positions.csv\")\n",
    "index = set(positions.Pos)\n",
    "index"
   ],
   "metadata": {
    "collapsed": false,
    "ExecuteTime": {
     "end_time": "2023-06-30T01:47:09.425377Z",
     "start_time": "2023-06-30T01:47:09.382295Z"
    }
   }
  },
  {
   "cell_type": "code",
   "execution_count": 26,
   "outputs": [
    {
     "data": {
      "text/plain": "True"
     },
     "execution_count": 26,
     "metadata": {},
     "output_type": "execute_result"
    }
   ],
   "source": [
    "\n",
    "positions = pd.read_csv(\"../../../nfl_capstone/data/raw/positions.csv\")\n",
    "index = set(positions.Pos)\n",
    "\n",
    "df = injuries_df\n",
    "column_name ='position'\n",
    "\n",
    "bad_set = set(df.loc[(~df[column_name].isin(index)), column_name].to_list())\n",
    "assert_and_alert(len(bad_set) == 0, msg=f\"Unknown player positions: {bad_set}\")\n"
   ],
   "metadata": {
    "collapsed": false,
    "ExecuteTime": {
     "end_time": "2023-06-30T02:57:14.620298Z",
     "start_time": "2023-06-30T02:57:14.568553Z"
    }
   }
  },
  {
   "cell_type": "code",
   "execution_count": 27,
   "outputs": [
    {
     "data": {
      "text/plain": "  Pos         Meaning\n0   B            Back\n1  BB   Blocking Back\n2   C          Center\n3  CB      Cornerback\n4  DB  Defensive Back",
      "text/html": "<div>\n<style scoped>\n    .dataframe tbody tr th:only-of-type {\n        vertical-align: middle;\n    }\n\n    .dataframe tbody tr th {\n        vertical-align: top;\n    }\n\n    .dataframe thead th {\n        text-align: right;\n    }\n</style>\n<table border=\"1\" class=\"dataframe\">\n  <thead>\n    <tr style=\"text-align: right;\">\n      <th></th>\n      <th>Pos</th>\n      <th>Meaning</th>\n    </tr>\n  </thead>\n  <tbody>\n    <tr>\n      <th>0</th>\n      <td>B</td>\n      <td>Back</td>\n    </tr>\n    <tr>\n      <th>1</th>\n      <td>BB</td>\n      <td>Blocking Back</td>\n    </tr>\n    <tr>\n      <th>2</th>\n      <td>C</td>\n      <td>Center</td>\n    </tr>\n    <tr>\n      <th>3</th>\n      <td>CB</td>\n      <td>Cornerback</td>\n    </tr>\n    <tr>\n      <th>4</th>\n      <td>DB</td>\n      <td>Defensive Back</td>\n    </tr>\n  </tbody>\n</table>\n</div>"
     },
     "execution_count": 27,
     "metadata": {},
     "output_type": "execute_result"
    }
   ],
   "source": [
    "positions.head()"
   ],
   "metadata": {
    "collapsed": false,
    "ExecuteTime": {
     "end_time": "2023-06-30T02:57:27.231665Z",
     "start_time": "2023-06-30T02:57:27.228231Z"
    }
   }
  },
  {
   "cell_type": "code",
   "execution_count": null,
   "outputs": [],
   "source": [],
   "metadata": {
    "collapsed": false
   }
  }
 ],
 "metadata": {
  "kernelspec": {
   "display_name": "Python 3",
   "language": "python",
   "name": "python3"
  },
  "language_info": {
   "codemirror_mode": {
    "name": "ipython",
    "version": 2
   },
   "file_extension": ".py",
   "mimetype": "text/x-python",
   "name": "python",
   "nbconvert_exporter": "python",
   "pygments_lexer": "ipython2",
   "version": "2.7.6"
  }
 },
 "nbformat": 4,
 "nbformat_minor": 0
}
