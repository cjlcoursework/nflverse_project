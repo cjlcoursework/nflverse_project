{
 "cells": [
  {
   "cell_type": "code",
   "execution_count": 1,
   "outputs": [],
   "source": [
    "import pandas as pd\n",
    "\n",
    "from NFLVersReader.src.database_loader import DatabaseLoader\n",
    "from NFLVersReader.src.nflverse_clean.clean_player_stats import impute_player_stats, impute_payers, check_merge\n",
    "from NFLVersReader.src.nflverse_clean.utils import assert_not_null, assert_and_alert\n",
    "from configs import get_config\n"
   ],
   "metadata": {
    "collapsed": false,
    "ExecuteTime": {
     "end_time": "2023-06-26T16:23:56.026801Z",
     "start_time": "2023-06-26T16:23:55.424597Z"
    }
   }
  },
  {
   "cell_type": "markdown",
   "source": [
    "## Player Stats\n",
    "These stats are critical to determining the state of a team"
   ],
   "metadata": {
    "collapsed": false
   }
  },
  {
   "cell_type": "code",
   "execution_count": 2,
   "outputs": [],
   "source": [
    "dbloader = DatabaseLoader(get_config(\"connection_string\"))\n",
    "stats_df = dbloader.read_table(\"player_stats\")"
   ],
   "metadata": {
    "collapsed": false,
    "ExecuteTime": {
     "end_time": "2023-06-26T16:23:57.953676Z",
     "start_time": "2023-06-26T16:23:56.027953Z"
    }
   }
  },
  {
   "cell_type": "code",
   "execution_count": 3,
   "outputs": [],
   "source": [
    "def check_keys(df):\n",
    "    assert_not_null(df, 'season')\n",
    "    assert_not_null(df, 'week')\n",
    "    assert_not_null(df, 'player_id')\n",
    "    assert_not_null(df, 'position')\n",
    "    assert_not_null(df, 'position_group')\n",
    "    assert_not_null(df, 'season_type')"
   ],
   "metadata": {
    "collapsed": false,
    "ExecuteTime": {
     "end_time": "2023-06-26T16:23:57.956919Z",
     "start_time": "2023-06-26T16:23:57.955070Z"
    }
   }
  },
  {
   "cell_type": "code",
   "execution_count": 4,
   "outputs": [],
   "source": [
    "stats_df = impute_player_stats(stats_df)\n",
    "check_keys(stats_df)"
   ],
   "metadata": {
    "collapsed": false,
    "ExecuteTime": {
     "end_time": "2023-06-26T16:23:58.219491Z",
     "start_time": "2023-06-26T16:23:57.974915Z"
    }
   }
  },
  {
   "cell_type": "code",
   "execution_count": 5,
   "outputs": [
    {
     "data": {
      "text/plain": "True"
     },
     "execution_count": 5,
     "metadata": {},
     "output_type": "execute_result"
    }
   ],
   "source": [
    "assert_and_alert(\n",
    "    assertion=(stats_df.isna().sum().sum() == 0),\n",
    "    msg=\"Found unexpected Nulls in player_stats \")"
   ],
   "metadata": {
    "collapsed": false,
    "ExecuteTime": {
     "end_time": "2023-06-26T16:23:58.322458Z",
     "start_time": "2023-06-26T16:23:58.220519Z"
    }
   }
  },
  {
   "cell_type": "markdown",
   "source": [
    "## Players\n",
    "These are not terribly important but let's check anyway"
   ],
   "metadata": {
    "collapsed": false
   }
  },
  {
   "cell_type": "code",
   "execution_count": 6,
   "outputs": [
    {
     "data": {
      "text/plain": "   index status      display_name first_name last_name     esb_id     gsis_id  \\\n0      0    RET     'Omar Ellison      'Omar   Ellison  ELL711319  00-0004866   \n1      1    RES  A'Shawn Robinson    A'Shawn  Robinson  ROB367960  00-0032889   \n2      2    ACT       A.J. Arcuri       A.J.    Arcuri  ARC716900  00-0037845   \n3      3    RES        A.J. Bouye   Arlandus     Bouye  BOU651714  00-0030228   \n4      4    ACT        A.J. Brown     Arthur     Brown  BRO413223  00-0035676   \n\n  suffix  birth_date     college_name  ... status_description_abbr  \\\n0   None        None             None  ...                    None   \n1   None  1995-03-21          Alabama  ...                     R01   \n2   None        None             None  ...                     A01   \n3   None  1991-08-16  Central Florida  ...                     R01   \n4   None  1997-06-30      Mississippi  ...                     A01   \n\n  status_short_description  gsis_it_id  short_name  \\\n0                     None         NaN        None   \n1                R/Injured     43335.0  A.Robinson   \n2                   Active     54726.0    A.Arcuri   \n3                R/Injured     40688.0     A.Bouye   \n4                   Active     47834.0     A.Brown   \n\n                               smart_id  \\\n0  3200454c-4c71-1319-728e-d49d3d236f8f   \n1  3200524f-4236-7960-bf20-bc060ac0f49c   \n2  32004152-4371-6900-5185-8cdd66b2ad11   \n3  3200424f-5565-1714-cb38-07c822111a12   \n4  32004252-4f41-3223-e4c5-1e30dffa87f8   \n\n                                            headshot  draft_number  \\\n0                                               None           NaN   \n1  https://static.www.nfl.com/image/private/f_aut...          46.0   \n2                                               None         261.0   \n3  https://static.www.nfl.com/image/private/f_aut...           NaN   \n4  https://static.www.nfl.com/image/private/f_aut...          51.0   \n\n   uniform_number draft_round  season  \n0            None         NaN     NaN  \n1              94         NaN     NaN  \n2              61         NaN     NaN  \n3              24         NaN     NaN  \n4              11         NaN     NaN  \n\n[5 rows x 33 columns]",
      "text/html": "<div>\n<style scoped>\n    .dataframe tbody tr th:only-of-type {\n        vertical-align: middle;\n    }\n\n    .dataframe tbody tr th {\n        vertical-align: top;\n    }\n\n    .dataframe thead th {\n        text-align: right;\n    }\n</style>\n<table border=\"1\" class=\"dataframe\">\n  <thead>\n    <tr style=\"text-align: right;\">\n      <th></th>\n      <th>index</th>\n      <th>status</th>\n      <th>display_name</th>\n      <th>first_name</th>\n      <th>last_name</th>\n      <th>esb_id</th>\n      <th>gsis_id</th>\n      <th>suffix</th>\n      <th>birth_date</th>\n      <th>college_name</th>\n      <th>...</th>\n      <th>status_description_abbr</th>\n      <th>status_short_description</th>\n      <th>gsis_it_id</th>\n      <th>short_name</th>\n      <th>smart_id</th>\n      <th>headshot</th>\n      <th>draft_number</th>\n      <th>uniform_number</th>\n      <th>draft_round</th>\n      <th>season</th>\n    </tr>\n  </thead>\n  <tbody>\n    <tr>\n      <th>0</th>\n      <td>0</td>\n      <td>RET</td>\n      <td>'Omar Ellison</td>\n      <td>'Omar</td>\n      <td>Ellison</td>\n      <td>ELL711319</td>\n      <td>00-0004866</td>\n      <td>None</td>\n      <td>None</td>\n      <td>None</td>\n      <td>...</td>\n      <td>None</td>\n      <td>None</td>\n      <td>NaN</td>\n      <td>None</td>\n      <td>3200454c-4c71-1319-728e-d49d3d236f8f</td>\n      <td>None</td>\n      <td>NaN</td>\n      <td>None</td>\n      <td>NaN</td>\n      <td>NaN</td>\n    </tr>\n    <tr>\n      <th>1</th>\n      <td>1</td>\n      <td>RES</td>\n      <td>A'Shawn Robinson</td>\n      <td>A'Shawn</td>\n      <td>Robinson</td>\n      <td>ROB367960</td>\n      <td>00-0032889</td>\n      <td>None</td>\n      <td>1995-03-21</td>\n      <td>Alabama</td>\n      <td>...</td>\n      <td>R01</td>\n      <td>R/Injured</td>\n      <td>43335.0</td>\n      <td>A.Robinson</td>\n      <td>3200524f-4236-7960-bf20-bc060ac0f49c</td>\n      <td>https://static.www.nfl.com/image/private/f_aut...</td>\n      <td>46.0</td>\n      <td>94</td>\n      <td>NaN</td>\n      <td>NaN</td>\n    </tr>\n    <tr>\n      <th>2</th>\n      <td>2</td>\n      <td>ACT</td>\n      <td>A.J. Arcuri</td>\n      <td>A.J.</td>\n      <td>Arcuri</td>\n      <td>ARC716900</td>\n      <td>00-0037845</td>\n      <td>None</td>\n      <td>None</td>\n      <td>None</td>\n      <td>...</td>\n      <td>A01</td>\n      <td>Active</td>\n      <td>54726.0</td>\n      <td>A.Arcuri</td>\n      <td>32004152-4371-6900-5185-8cdd66b2ad11</td>\n      <td>None</td>\n      <td>261.0</td>\n      <td>61</td>\n      <td>NaN</td>\n      <td>NaN</td>\n    </tr>\n    <tr>\n      <th>3</th>\n      <td>3</td>\n      <td>RES</td>\n      <td>A.J. Bouye</td>\n      <td>Arlandus</td>\n      <td>Bouye</td>\n      <td>BOU651714</td>\n      <td>00-0030228</td>\n      <td>None</td>\n      <td>1991-08-16</td>\n      <td>Central Florida</td>\n      <td>...</td>\n      <td>R01</td>\n      <td>R/Injured</td>\n      <td>40688.0</td>\n      <td>A.Bouye</td>\n      <td>3200424f-5565-1714-cb38-07c822111a12</td>\n      <td>https://static.www.nfl.com/image/private/f_aut...</td>\n      <td>NaN</td>\n      <td>24</td>\n      <td>NaN</td>\n      <td>NaN</td>\n    </tr>\n    <tr>\n      <th>4</th>\n      <td>4</td>\n      <td>ACT</td>\n      <td>A.J. Brown</td>\n      <td>Arthur</td>\n      <td>Brown</td>\n      <td>BRO413223</td>\n      <td>00-0035676</td>\n      <td>None</td>\n      <td>1997-06-30</td>\n      <td>Mississippi</td>\n      <td>...</td>\n      <td>A01</td>\n      <td>Active</td>\n      <td>47834.0</td>\n      <td>A.Brown</td>\n      <td>32004252-4f41-3223-e4c5-1e30dffa87f8</td>\n      <td>https://static.www.nfl.com/image/private/f_aut...</td>\n      <td>51.0</td>\n      <td>11</td>\n      <td>NaN</td>\n      <td>NaN</td>\n    </tr>\n  </tbody>\n</table>\n<p>5 rows × 33 columns</p>\n</div>"
     },
     "execution_count": 6,
     "metadata": {},
     "output_type": "execute_result"
    }
   ],
   "source": [
    "player_df = dbloader.read_table(\"players\")\n",
    "player_df.head()"
   ],
   "metadata": {
    "collapsed": false,
    "ExecuteTime": {
     "end_time": "2023-06-26T16:23:58.460206Z",
     "start_time": "2023-06-26T16:23:58.322670Z"
    }
   }
  },
  {
   "cell_type": "code",
   "execution_count": 7,
   "outputs": [],
   "source": [
    "player_df = impute_payers(player_df)"
   ],
   "metadata": {
    "collapsed": false,
    "ExecuteTime": {
     "end_time": "2023-06-26T16:23:58.466587Z",
     "start_time": "2023-06-26T16:23:58.458436Z"
    }
   }
  },
  {
   "cell_type": "code",
   "execution_count": 8,
   "outputs": [
    {
     "data": {
      "text/plain": "True"
     },
     "execution_count": 8,
     "metadata": {},
     "output_type": "execute_result"
    }
   ],
   "source": [
    "assert_and_alert(player_df.gsis_id.isna().sum() ==0, msg=\"player_df.gsis_id has unexpected nulls\")"
   ],
   "metadata": {
    "collapsed": false,
    "ExecuteTime": {
     "end_time": "2023-06-26T16:23:58.471756Z",
     "start_time": "2023-06-26T16:23:58.469597Z"
    }
   }
  },
  {
   "cell_type": "markdown",
   "source": [
    "## Player Stats + Players"
   ],
   "metadata": {
    "collapsed": false
   }
  },
  {
   "cell_type": "markdown",
   "source": [
    "<font color=teal>First, check the player_stats index key is unique by looking for duplicates<font/>"
   ],
   "metadata": {
    "collapsed": false
   }
  },
  {
   "cell_type": "code",
   "execution_count": 27,
   "outputs": [
    {
     "data": {
      "text/plain": "True"
     },
     "execution_count": 27,
     "metadata": {},
     "output_type": "execute_result"
    }
   ],
   "source": [
    "from NFLVersReader.src.nflverse_clean.clean_player_stats import get_duplicates_by_key\n",
    "\n",
    "assert_and_alert( len( get_duplicates_by_key(stats_df, 'index')) == 0, msg=\"found unexpected duplicate player_stats index's\")"
   ],
   "metadata": {
    "collapsed": false,
    "ExecuteTime": {
     "end_time": "2023-06-26T16:37:17.656275Z",
     "start_time": "2023-06-26T16:37:17.645301Z"
    }
   }
  },
  {
   "cell_type": "markdown",
   "source": [
    "<font color=teal>Perform the merge<font/>"
   ],
   "metadata": {
    "collapsed": false
   }
  },
  {
   "cell_type": "code",
   "execution_count": 28,
   "outputs": [
    {
     "name": "stdout",
     "output_type": "stream",
     "text": [
      "The stats dataset has 124081 records\n",
      "The merged dataset has 139458 records\n",
      "percent of stats_without_players 0.0\n",
      "percent of players_without_stats - this is common 0.11026258801933199\n",
      "percent of matched players and stats 0.889737411980668\n",
      "percent of stats that were consumed in the join 1.0\n"
     ]
    }
   ],
   "source": [
    "merged_df = pd.merge( stats_df, player_df, left_on='player_id', right_on='gsis_id', how='outer', indicator=True)\n",
    "check_merge(merged_df, stats_df)"
   ],
   "metadata": {
    "collapsed": false,
    "ExecuteTime": {
     "end_time": "2023-06-26T16:37:20.294957Z",
     "start_time": "2023-06-26T16:37:20.054740Z"
    }
   }
  },
  {
   "cell_type": "markdown",
   "source": [
    "<font color=teal>Check for duplicate status index keys<font/>\n",
    "It's ok to have duplicate players keys because one player will have many stats"
   ],
   "metadata": {
    "collapsed": false
   }
  },
  {
   "cell_type": "code",
   "execution_count": 30,
   "outputs": [
    {
     "data": {
      "text/plain": "True"
     },
     "execution_count": 30,
     "metadata": {},
     "output_type": "execute_result"
    }
   ],
   "source": [
    "assert_and_alert( len( get_duplicates_by_key(merged_df, 'index_x')) == 0, msg=\"merging player_stats and players resulted in duplicate player_stats\")"
   ],
   "metadata": {
    "collapsed": false,
    "ExecuteTime": {
     "end_time": "2023-06-26T16:47:59.454351Z",
     "start_time": "2023-06-26T16:47:59.436101Z"
    }
   }
  },
  {
   "cell_type": "markdown",
   "source": [
    "## Boneyard"
   ],
   "metadata": {
    "collapsed": false
   }
  },
  {
   "cell_type": "code",
   "execution_count": 31,
   "outputs": [
    {
     "name": "stdout",
     "output_type": "stream",
     "text": [
      "[[ 1.5         0.83333333]\n",
      " [ 3.5         0.5       ]\n",
      " [ 8.75        0.33333333]\n",
      " [17.5         0.16666667]]\n"
     ]
    },
    {
     "data": {
      "text/plain": "   minimum_yards  probability\n0           1.50     0.833333\n1           3.50     0.500000\n2           8.75     0.333333\n3          17.50     0.166667",
      "text/html": "<div>\n<style scoped>\n    .dataframe tbody tr th:only-of-type {\n        vertical-align: middle;\n    }\n\n    .dataframe tbody tr th {\n        vertical-align: top;\n    }\n\n    .dataframe thead th {\n        text-align: right;\n    }\n</style>\n<table border=\"1\" class=\"dataframe\">\n  <thead>\n    <tr style=\"text-align: right;\">\n      <th></th>\n      <th>minimum_yards</th>\n      <th>probability</th>\n    </tr>\n  </thead>\n  <tbody>\n    <tr>\n      <th>0</th>\n      <td>1.50</td>\n      <td>0.833333</td>\n    </tr>\n    <tr>\n      <th>1</th>\n      <td>3.50</td>\n      <td>0.500000</td>\n    </tr>\n    <tr>\n      <th>2</th>\n      <td>8.75</td>\n      <td>0.333333</td>\n    </tr>\n    <tr>\n      <th>3</th>\n      <td>17.50</td>\n      <td>0.166667</td>\n    </tr>\n  </tbody>\n</table>\n</div>"
     },
     "execution_count": 31,
     "metadata": {},
     "output_type": "execute_result"
    }
   ],
   "source": [
    "import numpy as np\n",
    "\n",
    "# facts\n",
    "yards_per_carry = np.array([5,2,10,20, 1, 2])\n",
    "n = len(yards_per_carry)\n",
    "percentages = np.array([.10, .5, .75, .95])\n",
    "\n",
    "# given a particular player - what are the potentions that they would be able to rush for a give set of yards?\n",
    "quartiles = np.quantile(yards_per_carry, percentages)\n",
    "potentials =  np.array([(q, (np.sum(yards_per_carry > q)/n)) for q in quartiles])\n",
    "\n",
    "print(potentials)\n",
    "\n",
    "pf = pd.DataFrame( {\n",
    "    'minimum_yards': potentials[:, 0],\n",
    "    'probability': potentials[:,1]\n",
    "})\n",
    "pf"
   ],
   "metadata": {
    "collapsed": false,
    "ExecuteTime": {
     "end_time": "2023-06-26T16:48:00.267051Z",
     "start_time": "2023-06-26T16:48:00.259897Z"
    }
   }
  },
  {
   "cell_type": "code",
   "execution_count": 32,
   "outputs": [
    {
     "data": {
      "text/plain": "   min      mean  median  max       std          quartiles\n0    1  6.666667     3.5   20  6.674995  [1.5, 8.75, 17.5]",
      "text/html": "<div>\n<style scoped>\n    .dataframe tbody tr th:only-of-type {\n        vertical-align: middle;\n    }\n\n    .dataframe tbody tr th {\n        vertical-align: top;\n    }\n\n    .dataframe thead th {\n        text-align: right;\n    }\n</style>\n<table border=\"1\" class=\"dataframe\">\n  <thead>\n    <tr style=\"text-align: right;\">\n      <th></th>\n      <th>min</th>\n      <th>mean</th>\n      <th>median</th>\n      <th>max</th>\n      <th>std</th>\n      <th>quartiles</th>\n    </tr>\n  </thead>\n  <tbody>\n    <tr>\n      <th>0</th>\n      <td>1</td>\n      <td>6.666667</td>\n      <td>3.5</td>\n      <td>20</td>\n      <td>6.674995</td>\n      <td>[1.5, 8.75, 17.5]</td>\n    </tr>\n  </tbody>\n</table>\n</div>"
     },
     "execution_count": 32,
     "metadata": {},
     "output_type": "execute_result"
    }
   ],
   "source": [
    "ps = pd.DataFrame( [{\n",
    "    'min': np.min(yards_per_carry),\n",
    "    'mean': np.mean(yards_per_carry),\n",
    "    'median': np.median(yards_per_carry),\n",
    "    'max': np.max(yards_per_carry),\n",
    "    'std': np.std(yards_per_carry),\n",
    "    'quartiles': np.quantile(yards_per_carry, np.array([.10, .75, .95]))\n",
    "}])\n",
    "ps\n"
   ],
   "metadata": {
    "collapsed": false,
    "ExecuteTime": {
     "end_time": "2023-06-26T16:48:01.190101Z",
     "start_time": "2023-06-26T16:48:01.185001Z"
    }
   }
  },
  {
   "cell_type": "code",
   "execution_count": null,
   "outputs": [],
   "source": [],
   "metadata": {
    "collapsed": false
   }
  }
 ],
 "metadata": {
  "kernelspec": {
   "display_name": "Python 3",
   "language": "python",
   "name": "python3"
  },
  "language_info": {
   "codemirror_mode": {
    "name": "ipython",
    "version": 2
   },
   "file_extension": ".py",
   "mimetype": "text/x-python",
   "name": "python",
   "nbconvert_exporter": "python",
   "pygments_lexer": "ipython2",
   "version": "2.7.6"
  }
 },
 "nbformat": 4,
 "nbformat_minor": 0
}
