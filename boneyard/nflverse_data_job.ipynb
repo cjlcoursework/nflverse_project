{
 "cells": [
  {
   "cell_type": "code",
   "execution_count": null,
   "outputs": [],
   "source": [
    "import logging\n",
    "\n",
    "from src import configs\n",
    "import os\n",
    "import sys\n",
    "sys.path.append(os.path.abspath(\"../src\"))\n",
    "\n",
    "logger = configs.configure_logging(\"pbp_logger\")\n",
    "logger.setLevel(logging.INFO)\n"
   ],
   "metadata": {
    "collapsed": false
   }
  },
  {
   "cell_type": "markdown",
   "source": [
    "# <font color=teal>Read data from NFLVerse<font/>\n",
    "Step 1.  Read data and store immediately as raw without transformation or change"
   ],
   "metadata": {
    "collapsed": false
   }
  },
  {
   "cell_type": "code",
   "execution_count": null,
   "metadata": {
    "collapsed": true
   },
   "outputs": [],
   "source": [
    "%%time\n",
    "from src.nflverse_reader_job import URLReader\n",
    "\n",
    "reader = URLReader(start_year=2016, last_year=2022, file_type='csv')\n",
    "urls = reader.download()"
   ]
  },
  {
   "cell_type": "markdown",
   "source": [
    "# <font color=teal>Load data to a data store<font/>\n",
    "Transform and spit data with different cardinality and meaning into datasets.  Not completely normalized, but usable for queries and merges.\n",
    "Load to Postgres, Redshift or Snowflake.  This data is amll enough - we don't need a batch load and will just use pandas with no chunksize"
   ],
   "metadata": {
    "collapsed": false
   }
  },
  {
   "cell_type": "code",
   "execution_count": null,
   "outputs": [],
   "source": [
    "# from src.nflverse_loader_job import convert_all_files_in_path\n",
    "# from src import database_loader\n",
    "# from src.configs import get_config, configure_logging\n",
    "#\n",
    "# connection_string = get_config('connection_string')\n",
    "# files_directory = get_config('output_directory')\n",
    "#\n",
    "# dbloader = database_loader.DatabaseLoader(connection_string)\n",
    "#\n",
    "# convert_all_files_in_path(dbloader, files_directory, schema='controls')\n"
   ],
   "metadata": {
    "collapsed": false
   }
  },
  {
   "cell_type": "markdown",
   "source": [
    "# <font color=teal>Save load statistics<font/>\n",
    "Just print them for this application.  normally would store in a database"
   ],
   "metadata": {
    "collapsed": false
   }
  },
  {
   "cell_type": "code",
   "execution_count": null,
   "outputs": [],
   "source": [
    "# print(\" --- Load stats ---\")\n",
    "# dbloader.get_stats()"
   ],
   "metadata": {
    "collapsed": false
   }
  },
  {
   "cell_type": "code",
   "execution_count": null,
   "outputs": [],
   "source": [],
   "metadata": {
    "collapsed": false
   }
  }
 ],
 "metadata": {
  "kernelspec": {
   "display_name": "Python 3",
   "language": "python",
   "name": "python3"
  },
  "language_info": {
   "codemirror_mode": {
    "name": "ipython",
    "version": 2
   },
   "file_extension": ".py",
   "mimetype": "text/x-python",
   "name": "python",
   "nbconvert_exporter": "python",
   "pygments_lexer": "ipython2",
   "version": "2.7.6"
  }
 },
 "nbformat": 4,
 "nbformat_minor": 0
}
