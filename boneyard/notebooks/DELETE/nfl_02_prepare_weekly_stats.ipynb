{
 "cells": [
  {
   "cell_type": "markdown",
   "source": [
    "\n",
    "<font color=teal>\n",
    "_______________________________________\n",
    "</font>\n",
    "\n",
    "\n",
    "### <font color=teal>Goal:</font>\n",
    "\n",
    "- Build a dimensional version of the nflverse data, separating data with different cardinalities\n",
    "\n",
    "### <font color=teal>Input:</font>\n",
    "\n",
    "-- Merge statistics data from all sources and merge into a single dataset - to be used in feature selection\n",
    "\n",
    "\n",
    "### <font color=teal>Steps:</font>\n",
    "- Split data into smaller dimensions .e.g game info vs play info vs play analytics, etc.\n",
    "- Insert data into DB tables\n",
    "- store to a database for further experimentation\n",
    "\n",
    "### <font color=teal>Output:</font>\n",
    "\n",
    "- DB tables\n",
    "\n",
    "![nflverse database](../images/database.png)\n",
    "\n",
    "\n",
    "\n",
    "<font color=teal>\n",
    "_______________________________________\n",
    "</font>\n"
   ],
   "metadata": {
    "collapsed": false
   }
  },
  {
   "cell_type": "markdown",
   "source": [
    "Goal:\n",
    "- Merge selected stats from all sources into a single dataset - aggregated at the season and week and team level - to be used in feature selection\n",
    "\n",
    "Inputs:\n",
    "    rollup all to season, week, team cardinality, and expand to one record per team\n",
    "        - game_info - expand so there is one record for each team as opposed to one record for each game with home and away teams\n",
    "        - player_stats\n",
    "        - nextgen_pass  -- nextgen_rec is going to be largely redundant to pass for our purposes\n",
    "        - nextgen_rush\n",
    "        - player_events -- events and milestones embedded in the pbp data\n",
    "        - player_stats -\n",
    "        - play_analytics - probabilities and stats embedded in the pbp data - exand to one record per team\n",
    "    merge all together into weekly stats table\n",
    "    iteratively review distributions and keep or drop columns based on our needs\n",
    "    impute\n",
    "    adjust dtypes for columns that should be numeric\n",
    "\n",
    "Output\n",
    "    - nfl_weekly_stats.parquet\n"
   ],
   "metadata": {
    "collapsed": false
   }
  },
  {
   "cell_type": "markdown",
   "metadata": {},
   "source": [
    "# <font color=teal>imports</font>"
   ]
  },
  {
   "cell_type": "code",
   "execution_count": 1,
   "metadata": {
    "ExecuteTime": {
     "end_time": "2023-07-18T17:55:09.427022Z",
     "start_time": "2023-07-18T17:55:09.300454Z"
    }
   },
   "outputs": [],
   "source": [
    "import os\n",
    "import sys\n",
    "sys.path.append(os.path.abspath(\"../src\"))"
   ]
  },
  {
   "cell_type": "code",
   "execution_count": 2,
   "outputs": [
    {
     "name": "stderr",
     "output_type": "stream",
     "text": [
      "Using `tqdm.autonotebook.tqdm` in notebook mode. Use `tqdm.tqdm` instead to force console mode (e.g. in jupyter console)\n"
     ]
    }
   ],
   "source": [
    "from  src import *\n",
    "from src.utils import assert_and_alert\n",
    "import numpy as np\n",
    "import pandas as pd\n",
    "\n",
    "logger = configs.configure_logging(\"pbp_logger\")\n",
    "logger.setLevel(logging.INFO)"
   ],
   "metadata": {
    "collapsed": false,
    "ExecuteTime": {
     "end_time": "2023-07-18T17:55:12.974171Z",
     "start_time": "2023-07-18T17:55:09.303159Z"
    }
   }
  },
  {
   "cell_type": "markdown",
   "metadata": {},
   "source": [
    "# <font color=teal>housekeeping</font>"
   ]
  },
  {
   "cell_type": "code",
   "execution_count": 3,
   "metadata": {
    "ExecuteTime": {
     "end_time": "2023-07-18T17:55:12.976346Z",
     "start_time": "2023-07-18T17:55:12.974431Z"
    }
   },
   "outputs": [],
   "source": [
    "db = database_loader.DatabaseLoader(get_config('connection_string'))\n",
    "DEBUG=False\n",
    "COMMIT_TO_DATABASE=True\n",
    "SCHEMA='controls'"
   ]
  },
  {
   "cell_type": "code",
   "execution_count": 4,
   "outputs": [
    {
     "data": {
      "text/plain": "  team  season  week\n0  ARI    2016     1\n1  ARI    2016     2\n2  ARI    2016     3\n3  ARI    2016     4\n4  ARI    2016     5",
      "text/html": "<div>\n<style scoped>\n    .dataframe tbody tr th:only-of-type {\n        vertical-align: middle;\n    }\n\n    .dataframe tbody tr th {\n        vertical-align: top;\n    }\n\n    .dataframe thead th {\n        text-align: right;\n    }\n</style>\n<table border=\"1\" class=\"dataframe\">\n  <thead>\n    <tr style=\"text-align: right;\">\n      <th></th>\n      <th>team</th>\n      <th>season</th>\n      <th>week</th>\n    </tr>\n  </thead>\n  <tbody>\n    <tr>\n      <th>0</th>\n      <td>ARI</td>\n      <td>2016</td>\n      <td>1</td>\n    </tr>\n    <tr>\n      <th>1</th>\n      <td>ARI</td>\n      <td>2016</td>\n      <td>2</td>\n    </tr>\n    <tr>\n      <th>2</th>\n      <td>ARI</td>\n      <td>2016</td>\n      <td>3</td>\n    </tr>\n    <tr>\n      <th>3</th>\n      <td>ARI</td>\n      <td>2016</td>\n      <td>4</td>\n    </tr>\n    <tr>\n      <th>4</th>\n      <td>ARI</td>\n      <td>2016</td>\n      <td>5</td>\n    </tr>\n  </tbody>\n</table>\n</div>"
     },
     "execution_count": 4,
     "metadata": {},
     "output_type": "execute_result"
    }
   ],
   "source": [
    "# create a 'skeleton' of all the team weeks in all seasons\n",
    "#  we'll use this to backfill any missing stats with the nearest week for a given team\n",
    "all_team_weeks = db.query_to_df(\n",
    "    \"\"\"select posteam as team, season, week from controls.play_actions group by posteam, season, week order by posteam, season, week\"\"\"\n",
    ")\n",
    "\n",
    "all_team_weeks.head()"
   ],
   "metadata": {
    "collapsed": false,
    "ExecuteTime": {
     "end_time": "2023-07-18T17:55:13.136461Z",
     "start_time": "2023-07-18T17:55:12.977399Z"
    }
   }
  },
  {
   "cell_type": "markdown",
   "metadata": {},
   "source": [
    "# <font color=teal>game info data</font>\n",
    "Aggregated up from the play-by-play dataset.\n",
    "\n",
    "We want each team to have its own record for each season and week.\n",
    "\n",
    "So for any given game there will be two records, one for the home team having its stats, and another for the away team - having the opposite stats"
   ]
  },
  {
   "cell_type": "code",
   "execution_count": 5,
   "outputs": [
    {
     "data": {
      "text/plain": "   season          game_id  week  drive  down           drive_id home_team  \\\n0    2016  2016_01_MIN_TEN     1    0.0   0.0  2016_01_MIN_TEN_0       TEN   \n1    2016  2016_01_MIN_TEN     1    0.0   0.0  2016_01_MIN_TEN_0       TEN   \n2    2016  2016_01_CLE_PHI     1    1.0   0.0  2016_01_CLE_PHI_1       PHI   \n3    2016  2016_01_NYG_DAL     1    1.0   1.0  2016_01_NYG_DAL_1       DAL   \n4    2016  2016_01_CAR_DEN     1    1.0   1.0  2016_01_CAR_DEN_1       DEN   \n\n  away_team posteam defteam  ... rush_attempt  kickoff_attempt  punt_attempt  \\\n0       MIN     MIN     TEN  ...          0.0              0.0           0.0   \n1       MIN     MIN     TEN  ...          0.0              0.0           0.0   \n2       CLE     PHI     CLE  ...          0.0              0.0           0.0   \n3       NYG     DAL     NYG  ...          0.0              0.0           0.0   \n4       CAR     DEN     CAR  ...          0.0              0.0           0.0   \n\n   field_goal_attempt  two_point_attempt  extra_point_attempt  timeout  \\\n0                 0.0                0.0                  1.0      0.0   \n1                 0.0                0.0                  1.0      0.0   \n2                 0.0                0.0                  1.0      0.0   \n3                 0.0                0.0                  0.0      0.0   \n4                 0.0                0.0                  0.0      0.0   \n\n   penalty  qb_spike                                               desc  \n0      0.0       0.0  3-B.Walsh extra point is GOOD, Center-47-K.McD...  \n1      0.0       0.0  3-B.Walsh extra point is No Good, Wide Right, ...  \n2      0.0       0.0  6-C.Sturgis extra point is GOOD, Center-46-J.D...  \n3      0.0       0.0  (9:21) (Shotgun) 4-D.Prescott pass short right...  \n4      0.0       0.0  (13:42) 13-T.Siemian pass short right to 10-E....  \n\n[5 rows x 38 columns]",
      "text/html": "<div>\n<style scoped>\n    .dataframe tbody tr th:only-of-type {\n        vertical-align: middle;\n    }\n\n    .dataframe tbody tr th {\n        vertical-align: top;\n    }\n\n    .dataframe thead th {\n        text-align: right;\n    }\n</style>\n<table border=\"1\" class=\"dataframe\">\n  <thead>\n    <tr style=\"text-align: right;\">\n      <th></th>\n      <th>season</th>\n      <th>game_id</th>\n      <th>week</th>\n      <th>drive</th>\n      <th>down</th>\n      <th>drive_id</th>\n      <th>home_team</th>\n      <th>away_team</th>\n      <th>posteam</th>\n      <th>defteam</th>\n      <th>...</th>\n      <th>rush_attempt</th>\n      <th>kickoff_attempt</th>\n      <th>punt_attempt</th>\n      <th>field_goal_attempt</th>\n      <th>two_point_attempt</th>\n      <th>extra_point_attempt</th>\n      <th>timeout</th>\n      <th>penalty</th>\n      <th>qb_spike</th>\n      <th>desc</th>\n    </tr>\n  </thead>\n  <tbody>\n    <tr>\n      <th>0</th>\n      <td>2016</td>\n      <td>2016_01_MIN_TEN</td>\n      <td>1</td>\n      <td>0.0</td>\n      <td>0.0</td>\n      <td>2016_01_MIN_TEN_0</td>\n      <td>TEN</td>\n      <td>MIN</td>\n      <td>MIN</td>\n      <td>TEN</td>\n      <td>...</td>\n      <td>0.0</td>\n      <td>0.0</td>\n      <td>0.0</td>\n      <td>0.0</td>\n      <td>0.0</td>\n      <td>1.0</td>\n      <td>0.0</td>\n      <td>0.0</td>\n      <td>0.0</td>\n      <td>3-B.Walsh extra point is GOOD, Center-47-K.McD...</td>\n    </tr>\n    <tr>\n      <th>1</th>\n      <td>2016</td>\n      <td>2016_01_MIN_TEN</td>\n      <td>1</td>\n      <td>0.0</td>\n      <td>0.0</td>\n      <td>2016_01_MIN_TEN_0</td>\n      <td>TEN</td>\n      <td>MIN</td>\n      <td>MIN</td>\n      <td>TEN</td>\n      <td>...</td>\n      <td>0.0</td>\n      <td>0.0</td>\n      <td>0.0</td>\n      <td>0.0</td>\n      <td>0.0</td>\n      <td>1.0</td>\n      <td>0.0</td>\n      <td>0.0</td>\n      <td>0.0</td>\n      <td>3-B.Walsh extra point is No Good, Wide Right, ...</td>\n    </tr>\n    <tr>\n      <th>2</th>\n      <td>2016</td>\n      <td>2016_01_CLE_PHI</td>\n      <td>1</td>\n      <td>1.0</td>\n      <td>0.0</td>\n      <td>2016_01_CLE_PHI_1</td>\n      <td>PHI</td>\n      <td>CLE</td>\n      <td>PHI</td>\n      <td>CLE</td>\n      <td>...</td>\n      <td>0.0</td>\n      <td>0.0</td>\n      <td>0.0</td>\n      <td>0.0</td>\n      <td>0.0</td>\n      <td>1.0</td>\n      <td>0.0</td>\n      <td>0.0</td>\n      <td>0.0</td>\n      <td>6-C.Sturgis extra point is GOOD, Center-46-J.D...</td>\n    </tr>\n    <tr>\n      <th>3</th>\n      <td>2016</td>\n      <td>2016_01_NYG_DAL</td>\n      <td>1</td>\n      <td>1.0</td>\n      <td>1.0</td>\n      <td>2016_01_NYG_DAL_1</td>\n      <td>DAL</td>\n      <td>NYG</td>\n      <td>DAL</td>\n      <td>NYG</td>\n      <td>...</td>\n      <td>0.0</td>\n      <td>0.0</td>\n      <td>0.0</td>\n      <td>0.0</td>\n      <td>0.0</td>\n      <td>0.0</td>\n      <td>0.0</td>\n      <td>0.0</td>\n      <td>0.0</td>\n      <td>(9:21) (Shotgun) 4-D.Prescott pass short right...</td>\n    </tr>\n    <tr>\n      <th>4</th>\n      <td>2016</td>\n      <td>2016_01_CAR_DEN</td>\n      <td>1</td>\n      <td>1.0</td>\n      <td>1.0</td>\n      <td>2016_01_CAR_DEN_1</td>\n      <td>DEN</td>\n      <td>CAR</td>\n      <td>DEN</td>\n      <td>CAR</td>\n      <td>...</td>\n      <td>0.0</td>\n      <td>0.0</td>\n      <td>0.0</td>\n      <td>0.0</td>\n      <td>0.0</td>\n      <td>0.0</td>\n      <td>0.0</td>\n      <td>0.0</td>\n      <td>0.0</td>\n      <td>(13:42) 13-T.Siemian pass short right to 10-E....</td>\n    </tr>\n  </tbody>\n</table>\n<p>5 rows × 38 columns</p>\n</div>"
     },
     "execution_count": 5,
     "metadata": {},
     "output_type": "execute_result"
    }
   ],
   "source": [
    "play_actions_df = db.query_to_df(\"\"\"\n",
    "WITH play_actions AS (select season,\n",
    "                             game_id,\n",
    "                             week,\n",
    "                             drive,\n",
    "                             down,\n",
    "                             drive_id,\n",
    "                             home_team,\n",
    "                             away_team,\n",
    "                             posteam,\n",
    "                             defteam,\n",
    "                             ydstogo,\n",
    "                             yards_to_goal,\n",
    "                             yards_gained,\n",
    "                             play_counter,\n",
    "                             action,\n",
    "                             game_seconds_remaining,\n",
    "                             posteam_score,\n",
    "                             posteam_score_post,\n",
    "                             defteam_score,\n",
    "                             home_score as home_final_score,\n",
    "                             away_score as away_final_score,\n",
    "                             case when posteam = home_team then home_score else away_score end as posteam_final_score,\n",
    "                             case when defteam = home_team then home_score else away_score end as defteam_final_score,\n",
    "                             score_differential,\n",
    "                             score_differential_post,\n",
    "                             offense_yards_gained,\n",
    "                             defense_yards_gained,\n",
    "                             pass_attempt,\n",
    "                             rush_attempt,\n",
    "                             kickoff_attempt,\n",
    "                             punt_attempt,\n",
    "                             field_goal_attempt,\n",
    "                             two_point_attempt,\n",
    "                             extra_point_attempt,\n",
    "                             timeout,\n",
    "                             penalty,\n",
    "                             qb_spike,\n",
    "                             \"desc\",\n",
    "                             row_number() over (partition by -- make sure we are not creating unwanted records\n",
    "                                 game_id,\n",
    "                                 drive,\n",
    "                                 play_counter) as rn\n",
    "                      from controls.play_actions\n",
    "                      where action in (\n",
    "                                       'extra_point',\n",
    "                                       'field_goal',\n",
    "                                       'pass',\n",
    "                                       'rush')\n",
    "),\n",
    "next_starting_scores AS (\n",
    "         -- intermediate step:\n",
    "         -- get the score from the next down into the current record\n",
    "         -- assign a unique row_id so we can validate it only occurs once in the final dataset\n",
    "         SELECT *,\n",
    "                ROW_NUMBER() OVER (ORDER BY (SELECT NULL))                             AS row_id,\n",
    "                LEAD(posteam_score)\n",
    "                OVER (PARTITION BY season, week, posteam, drive ORDER BY play_counter) AS next_starting_score\n",
    "         FROM play_actions\n",
    "         WHERE rn = 1\n",
    ")\n",
    "select season,\n",
    "       game_id,\n",
    "       week,\n",
    "       drive,\n",
    "       down,\n",
    "       drive_id,\n",
    "       home_team,\n",
    "       away_team,\n",
    "       posteam,\n",
    "       defteam,\n",
    "       action,\n",
    "       posteam_score,\n",
    "       defteam_score,\n",
    "       home_final_score,\n",
    "       away_final_score,\n",
    "       posteam_final_score,\n",
    "       defteam_final_score,\n",
    "       CASE\n",
    "           WHEN next_starting_score is not null THEN next_starting_score - posteam_score\n",
    "           ELSE posteam_score_post - posteam_score END AS points_gained,\n",
    "       score_differential,\n",
    "       score_differential_post,\n",
    "       offense_yards_gained,\n",
    "       defense_yards_gained,\n",
    "       ydstogo,\n",
    "       yards_to_goal,\n",
    "       yards_gained,\n",
    "       play_counter,\n",
    "       game_seconds_remaining,\n",
    "       pass_attempt,\n",
    "       rush_attempt,\n",
    "       kickoff_attempt,\n",
    "       punt_attempt,\n",
    "       field_goal_attempt,\n",
    "       two_point_attempt,\n",
    "       extra_point_attempt,\n",
    "       timeout,\n",
    "       penalty,\n",
    "       qb_spike,\n",
    "       \"desc\"\n",
    "from next_starting_scores\n",
    "order by season, week, drive, down\n",
    "\"\"\")\n",
    "\n",
    "play_actions_df.head()"
   ],
   "metadata": {
    "collapsed": false,
    "ExecuteTime": {
     "end_time": "2023-07-18T17:55:16.999491Z",
     "start_time": "2023-07-18T17:55:13.138332Z"
    }
   }
  },
  {
   "cell_type": "code",
   "execution_count": 6,
   "outputs": [
    {
     "name": "stderr",
     "output_type": "stream",
     "text": [
      "2023-07-18 10:55:16,997 - INFO - Validating game 2016_01_BUF_BAL values at location: checking play_action counts...\n"
     ]
    }
   ],
   "source": [
    "from src.inline_validation import perform_inline_play_action_tests\n",
    "\n",
    "perform_inline_play_action_tests(play_actions_df)"
   ],
   "metadata": {
    "collapsed": false,
    "ExecuteTime": {
     "end_time": "2023-07-18T17:55:17.021718Z",
     "start_time": "2023-07-18T17:55:16.997249Z"
    }
   }
  },
  {
   "cell_type": "code",
   "execution_count": 7,
   "metadata": {
    "ExecuteTime": {
     "end_time": "2023-07-18T17:55:17.109830Z",
     "start_time": "2023-07-18T17:55:17.019345Z"
    }
   },
   "outputs": [
    {
     "data": {
      "text/plain": "   season  week team  team_score      team_coach opposing_team  \\\n0    2022     4   LV          32  Josh McDaniels           DEN   \n1    2017    16  WAS          27      Jay Gruden           DEN   \n2    2017     6  HOU          33    Bill O'Brien           CLE   \n3    2021     4   GB          27    Matt LaFleur           PIT   \n4    2022     6   KC          20       Andy Reid           BUF   \n\n   opposing_score     opposing_coach  spread  count   win  \n0              23  Nathaniel Hackett     9.0      1   win  \n1              11       Vance Joseph    16.0      1   win  \n2              17        Hue Jackson    16.0      1   win  \n3              17        Mike Tomlin    10.0      1   win  \n4              24     Sean McDermott    -4.0      1  loss  ",
      "text/html": "<div>\n<style scoped>\n    .dataframe tbody tr th:only-of-type {\n        vertical-align: middle;\n    }\n\n    .dataframe tbody tr th {\n        vertical-align: top;\n    }\n\n    .dataframe thead th {\n        text-align: right;\n    }\n</style>\n<table border=\"1\" class=\"dataframe\">\n  <thead>\n    <tr style=\"text-align: right;\">\n      <th></th>\n      <th>season</th>\n      <th>week</th>\n      <th>team</th>\n      <th>team_score</th>\n      <th>team_coach</th>\n      <th>opposing_team</th>\n      <th>opposing_score</th>\n      <th>opposing_coach</th>\n      <th>spread</th>\n      <th>count</th>\n      <th>win</th>\n    </tr>\n  </thead>\n  <tbody>\n    <tr>\n      <th>0</th>\n      <td>2022</td>\n      <td>4</td>\n      <td>LV</td>\n      <td>32</td>\n      <td>Josh McDaniels</td>\n      <td>DEN</td>\n      <td>23</td>\n      <td>Nathaniel Hackett</td>\n      <td>9.0</td>\n      <td>1</td>\n      <td>win</td>\n    </tr>\n    <tr>\n      <th>1</th>\n      <td>2017</td>\n      <td>16</td>\n      <td>WAS</td>\n      <td>27</td>\n      <td>Jay Gruden</td>\n      <td>DEN</td>\n      <td>11</td>\n      <td>Vance Joseph</td>\n      <td>16.0</td>\n      <td>1</td>\n      <td>win</td>\n    </tr>\n    <tr>\n      <th>2</th>\n      <td>2017</td>\n      <td>6</td>\n      <td>HOU</td>\n      <td>33</td>\n      <td>Bill O'Brien</td>\n      <td>CLE</td>\n      <td>17</td>\n      <td>Hue Jackson</td>\n      <td>16.0</td>\n      <td>1</td>\n      <td>win</td>\n    </tr>\n    <tr>\n      <th>3</th>\n      <td>2021</td>\n      <td>4</td>\n      <td>GB</td>\n      <td>27</td>\n      <td>Matt LaFleur</td>\n      <td>PIT</td>\n      <td>17</td>\n      <td>Mike Tomlin</td>\n      <td>10.0</td>\n      <td>1</td>\n      <td>win</td>\n    </tr>\n    <tr>\n      <th>4</th>\n      <td>2022</td>\n      <td>6</td>\n      <td>KC</td>\n      <td>20</td>\n      <td>Andy Reid</td>\n      <td>BUF</td>\n      <td>24</td>\n      <td>Sean McDermott</td>\n      <td>-4.0</td>\n      <td>1</td>\n      <td>loss</td>\n    </tr>\n  </tbody>\n</table>\n</div>"
     },
     "execution_count": 7,
     "metadata": {},
     "output_type": "execute_result"
    }
   ],
   "source": [
    "# We want each team to have a record for each season and week.\n",
    "\n",
    "game_df = db.query_to_df(\"\"\"\n",
    "   --home team labels\n",
    "    select season,\n",
    "           week,\n",
    "           home_team                 as team,\n",
    "           home_score                as team_score,\n",
    "           home_coach                as team_coach,\n",
    "           away_team                 as opposing_team,\n",
    "           away_score                as opposing_score,\n",
    "           away_coach                as opposing_coach,\n",
    "           (home_score - away_score) as spread,\n",
    "           count(*)\n",
    "\n",
    "    from controls.game_info G\n",
    "    group by season, week, home_team, home_score, away_score, away_team, home_coach, away_coach\n",
    "    UNION ALL\n",
    "    --away team labels\n",
    "    select season,\n",
    "           week,\n",
    "           away_team                 as team,\n",
    "           away_score                as team_score,\n",
    "           away_coach                as team_coach,\n",
    "           home_team                 as opposing_team,\n",
    "           home_score                as opposing_score,\n",
    "           home_coach                as opposing_coach,\n",
    "           (away_score - home_score) as spread,\n",
    "           count(*)\n",
    "\n",
    "    from controls.game_info G\n",
    "    group by season, week, home_team, home_score, away_score, away_team, home_coach, away_coach\n",
    "\"\"\")\n",
    "\n",
    "game_df.spread = game_df.spread.astype('float')\n",
    "game_df['win'] = np.where(\n",
    "    game_df.spread>0, 'win',\n",
    "    np.where(game_df.spread<0, 'loss', 'tie') )\n",
    "\n",
    "game_df.head()"
   ]
  },
  {
   "cell_type": "markdown",
   "metadata": {},
   "source": [
    "### <font color=\"#9370DB\">A single game should have two 'opposite' records</font>\n",
    "let's check that out for the 2017 match between DEN and NYG"
   ]
  },
  {
   "cell_type": "code",
   "execution_count": 8,
   "metadata": {
    "ExecuteTime": {
     "end_time": "2023-07-18T17:55:17.110754Z",
     "start_time": "2023-07-18T17:55:17.066978Z"
    }
   },
   "outputs": [
    {
     "data": {
      "text/plain": "      season  week team  team_score    team_coach opposing_team  \\\n923     2017     6  DEN          10  Vance Joseph           NYG   \n2829    2017     6  NYG          23    Ben McAdoo           DEN   \n\n      opposing_score opposing_coach  spread  count   win  \n923               23     Ben McAdoo   -13.0      1  loss  \n2829              10   Vance Joseph    13.0      1   win  ",
      "text/html": "<div>\n<style scoped>\n    .dataframe tbody tr th:only-of-type {\n        vertical-align: middle;\n    }\n\n    .dataframe tbody tr th {\n        vertical-align: top;\n    }\n\n    .dataframe thead th {\n        text-align: right;\n    }\n</style>\n<table border=\"1\" class=\"dataframe\">\n  <thead>\n    <tr style=\"text-align: right;\">\n      <th></th>\n      <th>season</th>\n      <th>week</th>\n      <th>team</th>\n      <th>team_score</th>\n      <th>team_coach</th>\n      <th>opposing_team</th>\n      <th>opposing_score</th>\n      <th>opposing_coach</th>\n      <th>spread</th>\n      <th>count</th>\n      <th>win</th>\n    </tr>\n  </thead>\n  <tbody>\n    <tr>\n      <th>923</th>\n      <td>2017</td>\n      <td>6</td>\n      <td>DEN</td>\n      <td>10</td>\n      <td>Vance Joseph</td>\n      <td>NYG</td>\n      <td>23</td>\n      <td>Ben McAdoo</td>\n      <td>-13.0</td>\n      <td>1</td>\n      <td>loss</td>\n    </tr>\n    <tr>\n      <th>2829</th>\n      <td>2017</td>\n      <td>6</td>\n      <td>NYG</td>\n      <td>23</td>\n      <td>Ben McAdoo</td>\n      <td>DEN</td>\n      <td>10</td>\n      <td>Vance Joseph</td>\n      <td>13.0</td>\n      <td>1</td>\n      <td>win</td>\n    </tr>\n  </tbody>\n</table>\n</div>"
     },
     "execution_count": 8,
     "metadata": {},
     "output_type": "execute_result"
    }
   ],
   "source": [
    "game_df.loc[(game_df.season==2017) & (game_df.week==6) & (game_df.team.isin(['DEN', 'NYG']))]"
   ]
  },
  {
   "cell_type": "markdown",
   "metadata": {},
   "source": [
    "### <font color=\"#9370DB\">There should be no team with two records for any give week</font>\n",
    "let's validate that"
   ]
  },
  {
   "cell_type": "code",
   "execution_count": 9,
   "metadata": {
    "ExecuteTime": {
     "end_time": "2023-07-18T17:55:17.110914Z",
     "start_time": "2023-07-18T17:55:17.067306Z"
    }
   },
   "outputs": [],
   "source": [
    "# fail if there are any group counts > 1\n",
    "double_counts = game_df.loc[(game_df['count'].astype(int) > 1)].shape[0]\n",
    "assert double_counts == 0"
   ]
  },
  {
   "cell_type": "markdown",
   "metadata": {},
   "source": [
    "# <font color=teal>next gen stats passing<font/>\n",
    "group by <font color=red>season, week, team</font> ( and top-passing-player_position )"
   ]
  },
  {
   "cell_type": "code",
   "execution_count": 10,
   "metadata": {
    "ExecuteTime": {
     "end_time": "2023-07-18T17:55:17.127947Z",
     "start_time": "2023-07-18T17:55:17.067374Z"
    }
   },
   "outputs": [
    {
     "name": "stdout",
     "output_type": "stream",
     "text": [
      "CPU times: user 18.9 ms, sys: 2.2 ms, total: 21.1 ms\n",
      "Wall time: 48.5 ms\n"
     ]
    },
    {
     "data": {
      "text/plain": "   season  week team  pass_touchdowns  avg_time_to_throw  \\\n0    2022     1  ARI                2           2.803059   \n1    2022     2  ARI                1           2.631918   \n2    2022     3  ARI                0           2.432569   \n3    2022     4  ARI                2           2.733469   \n4    2022     5  ARI                1           2.681950   \n\n   avg_completed_air_yards  avg_intended_air_yards  \\\n0                 3.766818                7.508125   \n1                 3.560323                5.360213   \n2                 3.848108                5.682364   \n3                 4.967391                5.964839   \n4                 3.378571                6.814474   \n\n   avg_air_yards_differential  aggressiveness  max_completed_air_distance  \\\n0                   -3.741307       14.705882                   38.423006   \n1                   -1.799890       16.326531                   38.988774   \n2                   -1.834256        8.620690                   37.932599   \n3                   -0.997447        3.125000                   38.072149   \n4                   -3.435902       11.904762                   28.255430   \n\n   ...  attempts  pass_yards  interceptions  passer_rating  completions  \\\n0  ...        34         193              0      99.264706           22   \n1  ...        49         277              1      76.658163           31   \n2  ...        58         314              0      77.801724           37   \n3  ...        32         207              1      96.744792           23   \n4  ...        42         250              1      80.456349           28   \n\n   completion_percentage  expected_completion_percentage  \\\n0              64.705882                       63.872274   \n1              63.265306                       67.953796   \n2              63.793103                       72.002558   \n3              71.875000                       67.395659   \n4              66.666667                       63.948053   \n\n   completion_percentage_above_expectation  avg_air_distance  max_air_distance  \n0                                 0.833608         20.780448         55.361811  \n1                                -4.688490         17.729007         39.697620  \n2                                -8.209454         18.993060         51.283168  \n3                                 4.479341         20.337519         44.226310  \n4                                 2.718614         20.096993         47.951656  \n\n[5 rows x 21 columns]",
      "text/html": "<div>\n<style scoped>\n    .dataframe tbody tr th:only-of-type {\n        vertical-align: middle;\n    }\n\n    .dataframe tbody tr th {\n        vertical-align: top;\n    }\n\n    .dataframe thead th {\n        text-align: right;\n    }\n</style>\n<table border=\"1\" class=\"dataframe\">\n  <thead>\n    <tr style=\"text-align: right;\">\n      <th></th>\n      <th>season</th>\n      <th>week</th>\n      <th>team</th>\n      <th>pass_touchdowns</th>\n      <th>avg_time_to_throw</th>\n      <th>avg_completed_air_yards</th>\n      <th>avg_intended_air_yards</th>\n      <th>avg_air_yards_differential</th>\n      <th>aggressiveness</th>\n      <th>max_completed_air_distance</th>\n      <th>...</th>\n      <th>attempts</th>\n      <th>pass_yards</th>\n      <th>interceptions</th>\n      <th>passer_rating</th>\n      <th>completions</th>\n      <th>completion_percentage</th>\n      <th>expected_completion_percentage</th>\n      <th>completion_percentage_above_expectation</th>\n      <th>avg_air_distance</th>\n      <th>max_air_distance</th>\n    </tr>\n  </thead>\n  <tbody>\n    <tr>\n      <th>0</th>\n      <td>2022</td>\n      <td>1</td>\n      <td>ARI</td>\n      <td>2</td>\n      <td>2.803059</td>\n      <td>3.766818</td>\n      <td>7.508125</td>\n      <td>-3.741307</td>\n      <td>14.705882</td>\n      <td>38.423006</td>\n      <td>...</td>\n      <td>34</td>\n      <td>193</td>\n      <td>0</td>\n      <td>99.264706</td>\n      <td>22</td>\n      <td>64.705882</td>\n      <td>63.872274</td>\n      <td>0.833608</td>\n      <td>20.780448</td>\n      <td>55.361811</td>\n    </tr>\n    <tr>\n      <th>1</th>\n      <td>2022</td>\n      <td>2</td>\n      <td>ARI</td>\n      <td>1</td>\n      <td>2.631918</td>\n      <td>3.560323</td>\n      <td>5.360213</td>\n      <td>-1.799890</td>\n      <td>16.326531</td>\n      <td>38.988774</td>\n      <td>...</td>\n      <td>49</td>\n      <td>277</td>\n      <td>1</td>\n      <td>76.658163</td>\n      <td>31</td>\n      <td>63.265306</td>\n      <td>67.953796</td>\n      <td>-4.688490</td>\n      <td>17.729007</td>\n      <td>39.697620</td>\n    </tr>\n    <tr>\n      <th>2</th>\n      <td>2022</td>\n      <td>3</td>\n      <td>ARI</td>\n      <td>0</td>\n      <td>2.432569</td>\n      <td>3.848108</td>\n      <td>5.682364</td>\n      <td>-1.834256</td>\n      <td>8.620690</td>\n      <td>37.932599</td>\n      <td>...</td>\n      <td>58</td>\n      <td>314</td>\n      <td>0</td>\n      <td>77.801724</td>\n      <td>37</td>\n      <td>63.793103</td>\n      <td>72.002558</td>\n      <td>-8.209454</td>\n      <td>18.993060</td>\n      <td>51.283168</td>\n    </tr>\n    <tr>\n      <th>3</th>\n      <td>2022</td>\n      <td>4</td>\n      <td>ARI</td>\n      <td>2</td>\n      <td>2.733469</td>\n      <td>4.967391</td>\n      <td>5.964839</td>\n      <td>-0.997447</td>\n      <td>3.125000</td>\n      <td>38.072149</td>\n      <td>...</td>\n      <td>32</td>\n      <td>207</td>\n      <td>1</td>\n      <td>96.744792</td>\n      <td>23</td>\n      <td>71.875000</td>\n      <td>67.395659</td>\n      <td>4.479341</td>\n      <td>20.337519</td>\n      <td>44.226310</td>\n    </tr>\n    <tr>\n      <th>4</th>\n      <td>2022</td>\n      <td>5</td>\n      <td>ARI</td>\n      <td>1</td>\n      <td>2.681950</td>\n      <td>3.378571</td>\n      <td>6.814474</td>\n      <td>-3.435902</td>\n      <td>11.904762</td>\n      <td>28.255430</td>\n      <td>...</td>\n      <td>42</td>\n      <td>250</td>\n      <td>1</td>\n      <td>80.456349</td>\n      <td>28</td>\n      <td>66.666667</td>\n      <td>63.948053</td>\n      <td>2.718614</td>\n      <td>20.096993</td>\n      <td>47.951656</td>\n    </tr>\n  </tbody>\n</table>\n<p>5 rows × 21 columns</p>\n</div>"
     },
     "execution_count": 10,
     "metadata": {},
     "output_type": "execute_result"
    }
   ],
   "source": [
    "#time\n",
    "# team level stats by season and week and player, and position from 2016 to 2022\n",
    "ngs_air_power = db.query_to_df(\"\"\"\n",
    "    with base as (\n",
    "    select season, week, team_abbr as team,\n",
    "           pass_touchdowns,\n",
    "           avg_time_to_throw,\n",
    "           avg_completed_air_yards,\n",
    "           avg_intended_air_yards,\n",
    "           avg_air_yards_differential,\n",
    "           aggressiveness,\n",
    "           max_completed_air_distance,\n",
    "           avg_air_yards_to_sticks,\n",
    "           attempts,\n",
    "           pass_yards,\n",
    "           interceptions,\n",
    "           passer_rating,\n",
    "           completions,\n",
    "           completion_percentage,\n",
    "           expected_completion_percentage,\n",
    "           completion_percentage_above_expectation,\n",
    "           avg_air_distance,\n",
    "           max_air_distance,\n",
    "        row_number() over (partition by season, week, team_abbr, player_position order by pass_yards desc) as rn\n",
    "    from controls.nextgen_pass\n",
    "--    where season=2016 and week=1 and team_abbr = 'CHI'\n",
    "    order by team_abbr, player_position, season desc, week )\n",
    "    select * from base where rn = 1 and week > 0\n",
    "\"\"\")\n",
    "\n",
    "ngs_air_power.drop(columns=['rn'], inplace=True)\n",
    "ngs_air_power.head()\n"
   ]
  },
  {
   "cell_type": "markdown",
   "metadata": {},
   "source": [
    "## <font color=teal>next gen stats rushing<font/>\n",
    "group by <font color=red>season, week, team</font>"
   ]
  },
  {
   "cell_type": "code",
   "execution_count": 11,
   "metadata": {
    "ExecuteTime": {
     "end_time": "2023-07-18T17:55:17.256098Z",
     "start_time": "2023-07-18T17:55:17.124412Z"
    }
   },
   "outputs": [
    {
     "name": "stdout",
     "output_type": "stream",
     "text": [
      "CPU times: user 10.6 ms, sys: 1.59 ms, total: 12.1 ms\n",
      "Wall time: 25.9 ms\n"
     ]
    },
    {
     "data": {
      "text/plain": "   season  week team  rush_yards  efficiency  \\\n0    2022     1  ARI          26    5.930769   \n1    2022     3  ARI          39    5.421026   \n2    2022     4  ARI          55    3.860545   \n3    2022     6  ARI          37    5.610541   \n4    2022     7  ARI          92    2.619457   \n\n   percent_attempts_gte_eight_defenders  avg_time_to_los  rush_attempts  \\\n0                             10.000000         2.445889             10   \n1                              7.692308         2.580545             13   \n2                             40.000000         2.565267             15   \n3                              6.666667         2.708000             15   \n4                              8.333333         2.810818             12   \n\n   avg_rush_yards  rush_touchdowns player_gsis_id player_first_name  \\\n0        2.600000                1     00-0033553             James   \n1        3.000000                0     00-0033553             James   \n2        3.666667                0     00-0033553             James   \n3        2.466667                0     00-0036383               Eno   \n4        7.666667                1     00-0036383               Eno   \n\n  player_last_name  player_jersey_number player_short_name  \n0           Conner                     6          J.Conner  \n1           Conner                     6          J.Conner  \n2           Conner                     6          J.Conner  \n3         Benjamin                    26        E.Benjamin  \n4         Benjamin                    26        E.Benjamin  ",
      "text/html": "<div>\n<style scoped>\n    .dataframe tbody tr th:only-of-type {\n        vertical-align: middle;\n    }\n\n    .dataframe tbody tr th {\n        vertical-align: top;\n    }\n\n    .dataframe thead th {\n        text-align: right;\n    }\n</style>\n<table border=\"1\" class=\"dataframe\">\n  <thead>\n    <tr style=\"text-align: right;\">\n      <th></th>\n      <th>season</th>\n      <th>week</th>\n      <th>team</th>\n      <th>rush_yards</th>\n      <th>efficiency</th>\n      <th>percent_attempts_gte_eight_defenders</th>\n      <th>avg_time_to_los</th>\n      <th>rush_attempts</th>\n      <th>avg_rush_yards</th>\n      <th>rush_touchdowns</th>\n      <th>player_gsis_id</th>\n      <th>player_first_name</th>\n      <th>player_last_name</th>\n      <th>player_jersey_number</th>\n      <th>player_short_name</th>\n    </tr>\n  </thead>\n  <tbody>\n    <tr>\n      <th>0</th>\n      <td>2022</td>\n      <td>1</td>\n      <td>ARI</td>\n      <td>26</td>\n      <td>5.930769</td>\n      <td>10.000000</td>\n      <td>2.445889</td>\n      <td>10</td>\n      <td>2.600000</td>\n      <td>1</td>\n      <td>00-0033553</td>\n      <td>James</td>\n      <td>Conner</td>\n      <td>6</td>\n      <td>J.Conner</td>\n    </tr>\n    <tr>\n      <th>1</th>\n      <td>2022</td>\n      <td>3</td>\n      <td>ARI</td>\n      <td>39</td>\n      <td>5.421026</td>\n      <td>7.692308</td>\n      <td>2.580545</td>\n      <td>13</td>\n      <td>3.000000</td>\n      <td>0</td>\n      <td>00-0033553</td>\n      <td>James</td>\n      <td>Conner</td>\n      <td>6</td>\n      <td>J.Conner</td>\n    </tr>\n    <tr>\n      <th>2</th>\n      <td>2022</td>\n      <td>4</td>\n      <td>ARI</td>\n      <td>55</td>\n      <td>3.860545</td>\n      <td>40.000000</td>\n      <td>2.565267</td>\n      <td>15</td>\n      <td>3.666667</td>\n      <td>0</td>\n      <td>00-0033553</td>\n      <td>James</td>\n      <td>Conner</td>\n      <td>6</td>\n      <td>J.Conner</td>\n    </tr>\n    <tr>\n      <th>3</th>\n      <td>2022</td>\n      <td>6</td>\n      <td>ARI</td>\n      <td>37</td>\n      <td>5.610541</td>\n      <td>6.666667</td>\n      <td>2.708000</td>\n      <td>15</td>\n      <td>2.466667</td>\n      <td>0</td>\n      <td>00-0036383</td>\n      <td>Eno</td>\n      <td>Benjamin</td>\n      <td>26</td>\n      <td>E.Benjamin</td>\n    </tr>\n    <tr>\n      <th>4</th>\n      <td>2022</td>\n      <td>7</td>\n      <td>ARI</td>\n      <td>92</td>\n      <td>2.619457</td>\n      <td>8.333333</td>\n      <td>2.810818</td>\n      <td>12</td>\n      <td>7.666667</td>\n      <td>1</td>\n      <td>00-0036383</td>\n      <td>Eno</td>\n      <td>Benjamin</td>\n      <td>26</td>\n      <td>E.Benjamin</td>\n    </tr>\n  </tbody>\n</table>\n</div>"
     },
     "execution_count": 11,
     "metadata": {},
     "output_type": "execute_result"
    }
   ],
   "source": [
    "#time\n",
    "# team level stats by season and week and player, and position from 2016 to 2022\n",
    "ngs_ground_power = db.query_to_df(\"\"\"\n",
    "with base as (\n",
    "    select season, week, team_abbr as team,\n",
    "           rush_yards,\n",
    "           efficiency,\n",
    "           percent_attempts_gte_eight_defenders,\n",
    "           avg_time_to_los,\n",
    "           rush_attempts,\n",
    "           avg_rush_yards,\n",
    "           rush_touchdowns,\n",
    "           player_gsis_id,\n",
    "           player_first_name,\n",
    "           player_last_name,\n",
    "           player_jersey_number,\n",
    "           player_short_name,\n",
    "           row_number() over (partition by season, week, team_abbr order by rush_yards desc) as rn\n",
    "    from controls.nextgen_rush\n",
    "    order by  team_abbr, season desc, week)\n",
    "select * from base where rn = 1 and week > 0\n",
    "\"\"\" )\n",
    "\n",
    "\n",
    "ngs_ground_power.drop(columns=['rn'], inplace=True)\n",
    "ngs_ground_power.head()"
   ]
  },
  {
   "cell_type": "markdown",
   "metadata": {},
   "source": [
    "# <font color=teal>play-by-play events<font/>\n",
    "players are called out for certain events like fumbles, touchdowns, etc. in play-by-play\n",
    "we already picked these out during the transform step,\n",
    "  and expanded so that each team has its own records irrespective of the opposing team played.\n",
    "Now we pivot and sum all events by  <font color=red>season, week, team</font>"
   ]
  },
  {
   "cell_type": "code",
   "execution_count": 12,
   "metadata": {
    "ExecuteTime": {
     "end_time": "2023-07-18T17:55:21.344270Z",
     "start_time": "2023-07-18T17:55:17.149818Z"
    }
   },
   "outputs": [
    {
     "name": "stdout",
     "output_type": "stream",
     "text": [
      "CPU times: user 18.3 ms, sys: 5.37 ms, total: 23.7 ms\n",
      "Wall time: 4.18 s\n"
     ]
    },
    {
     "data": {
      "text/plain": "   season  week team          game_id  fumble  safety  tackle  qb_hit  \\\n0    2022     1  ARI   2022_01_KC_ARI       6       0      75       6   \n1    2022     2  ARI   2022_02_ARI_LV       2       0      61       5   \n2    2022     3  ARI   2022_03_LA_ARI       2       0      54       5   \n3    2022     4  ARI  2022_04_ARI_CAR       3       0      57       3   \n4    2022     5  ARI  2022_05_PHI_ARI       0       0      86       6   \n\n   interception  sack  \n0             0     0  \n1             0     1  \n2             0     1  \n3             2     2  \n4             0     3  ",
      "text/html": "<div>\n<style scoped>\n    .dataframe tbody tr th:only-of-type {\n        vertical-align: middle;\n    }\n\n    .dataframe tbody tr th {\n        vertical-align: top;\n    }\n\n    .dataframe thead th {\n        text-align: right;\n    }\n</style>\n<table border=\"1\" class=\"dataframe\">\n  <thead>\n    <tr style=\"text-align: right;\">\n      <th></th>\n      <th>season</th>\n      <th>week</th>\n      <th>team</th>\n      <th>game_id</th>\n      <th>fumble</th>\n      <th>safety</th>\n      <th>tackle</th>\n      <th>qb_hit</th>\n      <th>interception</th>\n      <th>sack</th>\n    </tr>\n  </thead>\n  <tbody>\n    <tr>\n      <th>0</th>\n      <td>2022</td>\n      <td>1</td>\n      <td>ARI</td>\n      <td>2022_01_KC_ARI</td>\n      <td>6</td>\n      <td>0</td>\n      <td>75</td>\n      <td>6</td>\n      <td>0</td>\n      <td>0</td>\n    </tr>\n    <tr>\n      <th>1</th>\n      <td>2022</td>\n      <td>2</td>\n      <td>ARI</td>\n      <td>2022_02_ARI_LV</td>\n      <td>2</td>\n      <td>0</td>\n      <td>61</td>\n      <td>5</td>\n      <td>0</td>\n      <td>1</td>\n    </tr>\n    <tr>\n      <th>2</th>\n      <td>2022</td>\n      <td>3</td>\n      <td>ARI</td>\n      <td>2022_03_LA_ARI</td>\n      <td>2</td>\n      <td>0</td>\n      <td>54</td>\n      <td>5</td>\n      <td>0</td>\n      <td>1</td>\n    </tr>\n    <tr>\n      <th>3</th>\n      <td>2022</td>\n      <td>4</td>\n      <td>ARI</td>\n      <td>2022_04_ARI_CAR</td>\n      <td>3</td>\n      <td>0</td>\n      <td>57</td>\n      <td>3</td>\n      <td>2</td>\n      <td>2</td>\n    </tr>\n    <tr>\n      <th>4</th>\n      <td>2022</td>\n      <td>5</td>\n      <td>ARI</td>\n      <td>2022_05_PHI_ARI</td>\n      <td>0</td>\n      <td>0</td>\n      <td>86</td>\n      <td>6</td>\n      <td>0</td>\n      <td>3</td>\n    </tr>\n  </tbody>\n</table>\n</div>"
     },
     "execution_count": 12,
     "metadata": {},
     "output_type": "execute_result"
    }
   ],
   "source": [
    "#time\n",
    "pbp_events = db.query_to_df(\"\"\"\n",
    "-- players: select unique players and their teams from specific games\n",
    "-- defensive_events: merge players teams into events and keep only defensive events\n",
    "-- rollup individual player events to a team sum grouped by season, week, game\n",
    "-- players: select unique players and their teams from specific games\n",
    "-- defensive_events: merge players teams into events and keep only defensive events\n",
    "with players as (\n",
    "    select distinct game_id,  player_id, team from controls.player_participation\n",
    "),\n",
    "defensive_events as (\n",
    "select pe.season, pe.week, pe.game_id, pp.team, pe.player_id, pe.event, pe.lineup from controls.player_events pe\n",
    "         left join players pp on (pp.player_id = pe.player_id and pp.game_id = pe.game_id)\n",
    "order by play_id )\n",
    "SELECT\n",
    "    season, week, team, game_id,\n",
    "    SUM(CASE WHEN event = 'fumble' THEN 1 else 0 END) AS fumble,\n",
    " --   SUM(CASE WHEN event = 'own_kickoff_recovery' THEN 1 else 0 END) AS own_kickoff_recovery,\n",
    "    SUM(CASE WHEN event = 'safety' THEN 1 else 0 END) AS safety,\n",
    "    SUM(CASE WHEN event = 'tackle' THEN 1 else 0 END) AS tackle,\n",
    "    SUM(CASE WHEN event = 'qb_hit' THEN 1 else 0  END) AS qb_hit,\n",
    " --   SUM(CASE WHEN event = 'touchdown' THEN 1  else 0 END) AS touchdown,\n",
    "    SUM(CASE WHEN event = 'interception' THEN 1 else 0 END) AS interception,\n",
    "    SUM(CASE WHEN event = 'sack' THEN 1 else 0 END) AS sack\n",
    "FROM defensive_events where week > 0\n",
    "group by season, week, team, game_id\n",
    "order by season desc, team, week;\n",
    "\"\"\")\n",
    "\n",
    "pbp_events.head()"
   ]
  },
  {
   "cell_type": "markdown",
   "metadata": {},
   "source": [
    "# <font color=teal>player stats<font/>\n",
    "Each player's stats by are collected by game and play\n",
    "For this dimension reduction exercise we roll up to <font color=red>season, week, team</font>"
   ]
  },
  {
   "cell_type": "code",
   "execution_count": 13,
   "metadata": {
    "ExecuteTime": {
     "end_time": "2023-07-18T17:55:21.729945Z",
     "start_time": "2023-07-18T17:55:21.344624Z"
    }
   },
   "outputs": [
    {
     "name": "stdout",
     "output_type": "stream",
     "text": [
      "CPU times: user 59.1 ms, sys: 9.51 ms, total: 68.7 ms\n",
      "Wall time: 377 ms\n"
     ]
    },
    {
     "data": {
      "text/plain": "   season  week team        side  ps_completions  ps_attempts  passing_yards  \\\n0    2022     1  ARI  possession              24           38          205.0   \n1    2022     2  ARI  possession              31           49          277.0   \n2    2022     3  ARI  possession              37           58          314.0   \n3    2022     4  ARI  possession              23           32          207.0   \n4    2022     5  ARI  possession              28           42          250.0   \n\n   passing_tds  passing_air_yards  passing_yards_after_catch  ...  receptions  \\\n0            2              267.0                      115.0  ...          24   \n1            1              243.0                      162.0  ...          31   \n2            0              356.0                      166.0  ...          37   \n3            2              180.0                       87.0  ...          23   \n4            1              293.0                      144.0  ...          28   \n\n   targets  receiving_yards  receiving_tds  receiving_air_yards  \\\n0       36            205.0              2                266.0   \n1       47            277.0              1                239.0   \n2       55            314.0              0                332.0   \n3       31            207.0              2                182.0   \n4       38            250.0              1                293.0   \n\n   receiving_yards_after_catch  receiving_first_downs  avg_receiving_epa  \\\n0                        115.0                   12.0           0.680728   \n1                        162.0                   13.0          -0.302323   \n2                        166.0                   15.0           0.120710   \n3                         87.0                   10.0           0.059163   \n4                        144.0                   16.0           1.347603   \n\n   receiving_2pt_conversions  special_teams_tds  \n0                          1                0.0  \n1                          1                0.0  \n2                          0                0.0  \n3                          0                0.0  \n4                          0                0.0  \n\n[5 rows x 29 columns]",
      "text/html": "<div>\n<style scoped>\n    .dataframe tbody tr th:only-of-type {\n        vertical-align: middle;\n    }\n\n    .dataframe tbody tr th {\n        vertical-align: top;\n    }\n\n    .dataframe thead th {\n        text-align: right;\n    }\n</style>\n<table border=\"1\" class=\"dataframe\">\n  <thead>\n    <tr style=\"text-align: right;\">\n      <th></th>\n      <th>season</th>\n      <th>week</th>\n      <th>team</th>\n      <th>side</th>\n      <th>ps_completions</th>\n      <th>ps_attempts</th>\n      <th>passing_yards</th>\n      <th>passing_tds</th>\n      <th>passing_air_yards</th>\n      <th>passing_yards_after_catch</th>\n      <th>...</th>\n      <th>receptions</th>\n      <th>targets</th>\n      <th>receiving_yards</th>\n      <th>receiving_tds</th>\n      <th>receiving_air_yards</th>\n      <th>receiving_yards_after_catch</th>\n      <th>receiving_first_downs</th>\n      <th>avg_receiving_epa</th>\n      <th>receiving_2pt_conversions</th>\n      <th>special_teams_tds</th>\n    </tr>\n  </thead>\n  <tbody>\n    <tr>\n      <th>0</th>\n      <td>2022</td>\n      <td>1</td>\n      <td>ARI</td>\n      <td>possession</td>\n      <td>24</td>\n      <td>38</td>\n      <td>205.0</td>\n      <td>2</td>\n      <td>267.0</td>\n      <td>115.0</td>\n      <td>...</td>\n      <td>24</td>\n      <td>36</td>\n      <td>205.0</td>\n      <td>2</td>\n      <td>266.0</td>\n      <td>115.0</td>\n      <td>12.0</td>\n      <td>0.680728</td>\n      <td>1</td>\n      <td>0.0</td>\n    </tr>\n    <tr>\n      <th>1</th>\n      <td>2022</td>\n      <td>2</td>\n      <td>ARI</td>\n      <td>possession</td>\n      <td>31</td>\n      <td>49</td>\n      <td>277.0</td>\n      <td>1</td>\n      <td>243.0</td>\n      <td>162.0</td>\n      <td>...</td>\n      <td>31</td>\n      <td>47</td>\n      <td>277.0</td>\n      <td>1</td>\n      <td>239.0</td>\n      <td>162.0</td>\n      <td>13.0</td>\n      <td>-0.302323</td>\n      <td>1</td>\n      <td>0.0</td>\n    </tr>\n    <tr>\n      <th>2</th>\n      <td>2022</td>\n      <td>3</td>\n      <td>ARI</td>\n      <td>possession</td>\n      <td>37</td>\n      <td>58</td>\n      <td>314.0</td>\n      <td>0</td>\n      <td>356.0</td>\n      <td>166.0</td>\n      <td>...</td>\n      <td>37</td>\n      <td>55</td>\n      <td>314.0</td>\n      <td>0</td>\n      <td>332.0</td>\n      <td>166.0</td>\n      <td>15.0</td>\n      <td>0.120710</td>\n      <td>0</td>\n      <td>0.0</td>\n    </tr>\n    <tr>\n      <th>3</th>\n      <td>2022</td>\n      <td>4</td>\n      <td>ARI</td>\n      <td>possession</td>\n      <td>23</td>\n      <td>32</td>\n      <td>207.0</td>\n      <td>2</td>\n      <td>180.0</td>\n      <td>87.0</td>\n      <td>...</td>\n      <td>23</td>\n      <td>31</td>\n      <td>207.0</td>\n      <td>2</td>\n      <td>182.0</td>\n      <td>87.0</td>\n      <td>10.0</td>\n      <td>0.059163</td>\n      <td>0</td>\n      <td>0.0</td>\n    </tr>\n    <tr>\n      <th>4</th>\n      <td>2022</td>\n      <td>5</td>\n      <td>ARI</td>\n      <td>possession</td>\n      <td>28</td>\n      <td>42</td>\n      <td>250.0</td>\n      <td>1</td>\n      <td>293.0</td>\n      <td>144.0</td>\n      <td>...</td>\n      <td>28</td>\n      <td>38</td>\n      <td>250.0</td>\n      <td>1</td>\n      <td>293.0</td>\n      <td>144.0</td>\n      <td>16.0</td>\n      <td>1.347603</td>\n      <td>0</td>\n      <td>0.0</td>\n    </tr>\n  </tbody>\n</table>\n<p>5 rows × 29 columns</p>\n</div>"
     },
     "execution_count": 13,
     "metadata": {},
     "output_type": "execute_result"
    }
   ],
   "source": [
    "#time\n",
    "possession_stats = db.query_to_df(\"\"\"\n",
    "select\n",
    "    season,\n",
    "    week,\n",
    "    team,\n",
    "    'possession' as side,\n",
    "    sum(completions) as ps_completions,\n",
    "    sum(attempts) as ps_attempts,\n",
    "    sum(passing_yards) as passing_yards,\n",
    "    sum(passing_tds) as passing_tds,\n",
    "    sum(passing_air_yards) as passing_air_yards,\n",
    "    sum(passing_yards_after_catch) as passing_yards_after_catch,\n",
    "    sum(passing_first_downs) as passing_first_downs,\n",
    "    avg(passing_epa) as passing_epa,\n",
    "    sum(passing_2pt_conversions) as passing_2pt_conversions,\n",
    "    sum(carries) as carries,\n",
    "    sum(rushing_yards) as rushing_yards,\n",
    "    sum(rushing_tds) as rushing_tds,\n",
    "    sum(rushing_first_downs) as rushing_first_downs,\n",
    "    avg(rushing_epa) as avg_rushing_epa,\n",
    "    sum(rushing_2pt_conversions) as rushing_2pt_conversions,\n",
    "    sum(receptions) as receptions,\n",
    "    sum(targets) as targets,\n",
    "    sum(receiving_yards) as receiving_yards,\n",
    "    sum(receiving_tds) as receiving_tds,\n",
    "    sum(receiving_air_yards) as receiving_air_yards,\n",
    "    sum(receiving_yards_after_catch) as receiving_yards_after_catch,\n",
    "    sum(receiving_first_downs) as receiving_first_downs,\n",
    "    avg(receiving_epa) as avg_receiving_epa,\n",
    "    sum(receiving_2pt_conversions) as receiving_2pt_conversions,\n",
    "    sum(special_teams_tds) as special_teams_tds\n",
    "from controls.player_stats\n",
    "group by season,\n",
    "         week,\n",
    "         team\n",
    "order by season desc, team,  week\n",
    "\"\"\")\n",
    "\n",
    "possession_stats.head()"
   ]
  },
  {
   "cell_type": "code",
   "execution_count": 14,
   "outputs": [
    {
     "data": {
      "text/plain": "   season  week team     side  ps_interceptions  sacks  sack_yards  \\\n0    2022     1  ARI  defense               0.0    3.0        26.0   \n1    2022     2  ARI  defense               1.0    1.0         7.0   \n2    2022     3  ARI  defense               0.0    2.0        19.0   \n3    2022     4  ARI  defense               1.0    1.0         1.0   \n4    2022     5  ARI  defense               1.0    1.0        11.0   \n\n   sack_fumbles  sack_fumbles_lost  rushing_fumbles  rushing_fumbles_lost  \\\n0             0                  0              1.0                   0.0   \n1             0                  0              0.0                   0.0   \n2             1                  0              0.0                   0.0   \n3             0                  0              1.0                   0.0   \n4             0                  0              0.0                   0.0   \n\n   rushing_first_downs  receiving_fumbles  receiving_fumbles_lost  \n0                  6.0                0.0                     0.0  \n1                 11.0                0.0                     0.0  \n2                  8.0                0.0                     0.0  \n3                  8.0                0.0                     0.0  \n4                  7.0                0.0                     0.0  ",
      "text/html": "<div>\n<style scoped>\n    .dataframe tbody tr th:only-of-type {\n        vertical-align: middle;\n    }\n\n    .dataframe tbody tr th {\n        vertical-align: top;\n    }\n\n    .dataframe thead th {\n        text-align: right;\n    }\n</style>\n<table border=\"1\" class=\"dataframe\">\n  <thead>\n    <tr style=\"text-align: right;\">\n      <th></th>\n      <th>season</th>\n      <th>week</th>\n      <th>team</th>\n      <th>side</th>\n      <th>ps_interceptions</th>\n      <th>sacks</th>\n      <th>sack_yards</th>\n      <th>sack_fumbles</th>\n      <th>sack_fumbles_lost</th>\n      <th>rushing_fumbles</th>\n      <th>rushing_fumbles_lost</th>\n      <th>rushing_first_downs</th>\n      <th>receiving_fumbles</th>\n      <th>receiving_fumbles_lost</th>\n    </tr>\n  </thead>\n  <tbody>\n    <tr>\n      <th>0</th>\n      <td>2022</td>\n      <td>1</td>\n      <td>ARI</td>\n      <td>defense</td>\n      <td>0.0</td>\n      <td>3.0</td>\n      <td>26.0</td>\n      <td>0</td>\n      <td>0</td>\n      <td>1.0</td>\n      <td>0.0</td>\n      <td>6.0</td>\n      <td>0.0</td>\n      <td>0.0</td>\n    </tr>\n    <tr>\n      <th>1</th>\n      <td>2022</td>\n      <td>2</td>\n      <td>ARI</td>\n      <td>defense</td>\n      <td>1.0</td>\n      <td>1.0</td>\n      <td>7.0</td>\n      <td>0</td>\n      <td>0</td>\n      <td>0.0</td>\n      <td>0.0</td>\n      <td>11.0</td>\n      <td>0.0</td>\n      <td>0.0</td>\n    </tr>\n    <tr>\n      <th>2</th>\n      <td>2022</td>\n      <td>3</td>\n      <td>ARI</td>\n      <td>defense</td>\n      <td>0.0</td>\n      <td>2.0</td>\n      <td>19.0</td>\n      <td>1</td>\n      <td>0</td>\n      <td>0.0</td>\n      <td>0.0</td>\n      <td>8.0</td>\n      <td>0.0</td>\n      <td>0.0</td>\n    </tr>\n    <tr>\n      <th>3</th>\n      <td>2022</td>\n      <td>4</td>\n      <td>ARI</td>\n      <td>defense</td>\n      <td>1.0</td>\n      <td>1.0</td>\n      <td>1.0</td>\n      <td>0</td>\n      <td>0</td>\n      <td>1.0</td>\n      <td>0.0</td>\n      <td>8.0</td>\n      <td>0.0</td>\n      <td>0.0</td>\n    </tr>\n    <tr>\n      <th>4</th>\n      <td>2022</td>\n      <td>5</td>\n      <td>ARI</td>\n      <td>defense</td>\n      <td>1.0</td>\n      <td>1.0</td>\n      <td>11.0</td>\n      <td>0</td>\n      <td>0</td>\n      <td>0.0</td>\n      <td>0.0</td>\n      <td>7.0</td>\n      <td>0.0</td>\n      <td>0.0</td>\n    </tr>\n  </tbody>\n</table>\n</div>"
     },
     "execution_count": 14,
     "metadata": {},
     "output_type": "execute_result"
    }
   ],
   "source": [
    "defense_stats = db.query_to_df(\"\"\"\n",
    "select\n",
    "    season,\n",
    "    week,\n",
    "    team,\n",
    "    'defense' as side,\n",
    "    sum(interceptions) as ps_interceptions,\n",
    "    sum(sacks) as sacks,\n",
    "    sum(sack_yards) as sack_yards,\n",
    "    sum(sack_fumbles) as sack_fumbles,\n",
    "    sum(sack_fumbles_lost) as sack_fumbles_lost,\n",
    "    sum(rushing_fumbles) as rushing_fumbles,\n",
    "    sum(rushing_fumbles_lost) as rushing_fumbles_lost,\n",
    "    sum(rushing_first_downs) as rushing_first_downs,\n",
    "    sum(receiving_fumbles) as receiving_fumbles,\n",
    "    sum(receiving_fumbles_lost) as receiving_fumbles_lost\n",
    "from controls.player_stats\n",
    "group by season,\n",
    "         week,\n",
    "         team\n",
    "order by season desc, team,  week\n",
    "\"\"\")\n",
    "\n",
    "defense_stats.head()"
   ],
   "metadata": {
    "collapsed": false,
    "ExecuteTime": {
     "end_time": "2023-07-18T17:55:21.839039Z",
     "start_time": "2023-07-18T17:55:21.731170Z"
    }
   }
  },
  {
   "cell_type": "markdown",
   "metadata": {},
   "source": [
    "# <font color=teal>merge stats datasets ...</font>\n",
    "We want one record for each season, week and team.\n",
    "\n",
    "The metrics themselves pivot horizontally as columns - all the metrics we created above become columns in this final dataset\n",
    "so we expect that with each merge the number of columns grows, but the row count stays the same\n",
    "\n",
    "Since we are using this dataset for dimensionality reduction it's ok if we loose a few rows on the join.\n"
   ]
  },
  {
   "cell_type": "markdown",
   "source": [],
   "metadata": {
    "collapsed": false
   }
  },
  {
   "cell_type": "markdown",
   "source": [
    "### <font color=\"#9370DB\">back and forward fills</font>"
   ],
   "metadata": {
    "collapsed": false
   }
  },
  {
   "cell_type": "code",
   "execution_count": 15,
   "outputs": [
    {
     "name": "stderr",
     "output_type": "stream",
     "text": [
      "2023-07-18 10:55:21,839 - INFO - back and forward fill ngs_air_power metrics by week ...\n",
      "2023-07-18 10:55:21,856 - INFO - back and forward fill ngs_ground_power metrics by week ...\n",
      "2023-07-18 10:55:21,867 - INFO - back and forward fill pbp_events metrics by week ...\n",
      "2023-07-18 10:55:21,875 - INFO - back and forward fill defense_stats metrics by week ...\n",
      "2023-07-18 10:55:21,889 - INFO - back and forward fill possession_stats metrics by week ...\n"
     ]
    }
   ],
   "source": [
    "from src.build_power_scores import backfill_missing_metrics\n",
    "\n",
    "ngs_air_power = backfill_missing_metrics(ngs_air_power, all_team_weeks, 'ngs_air_power')\n",
    "ngs_ground_power = backfill_missing_metrics(ngs_ground_power, all_team_weeks, 'ngs_ground_power')\n",
    "pbp_events = backfill_missing_metrics(pbp_events, all_team_weeks, 'pbp_events')\n",
    "defense_stats = backfill_missing_metrics(defense_stats, all_team_weeks, 'defense_stats')\n",
    "possession_stats = backfill_missing_metrics(possession_stats, all_team_weeks, 'possession_stats')\n"
   ],
   "metadata": {
    "collapsed": false,
    "ExecuteTime": {
     "end_time": "2023-07-18T17:55:21.968272Z",
     "start_time": "2023-07-18T17:55:21.839882Z"
    }
   }
  },
  {
   "cell_type": "markdown",
   "source": [
    "### <font color=\"#9370DB\">helper functions</font>"
   ],
   "metadata": {
    "collapsed": false
   }
  },
  {
   "cell_type": "code",
   "execution_count": 16,
   "outputs": [],
   "source": [
    "from pandas import DataFrame\n",
    "\n",
    "def calc_coverage(title: str, df: DataFrame):\n",
    "    first = df.season.min()\n",
    "    last = df.season.max()\n",
    "    first_wk = df.week.min()\n",
    "    last_wk = df.week.max()\n",
    "    seasons = df.season.nunique()\n",
    "    print(f\"Shape of {title:30}:  {df.shape},\\t Contains {seasons} seasons, starting with {first} and ending in {last} min week: {first_wk}, max week : {last_wk}\")\n",
    "\n",
    "def print_columns(title, df):\n",
    "    print(f\"\\n---------\\n{title.strip()} colums\")\n",
    "    for col in df.columns:\n",
    "        print(col)"
   ],
   "metadata": {
    "collapsed": false,
    "ExecuteTime": {
     "end_time": "2023-07-18T17:55:21.968520Z",
     "start_time": "2023-07-18T17:55:21.917547Z"
    }
   }
  },
  {
   "cell_type": "markdown",
   "metadata": {},
   "source": [
    "### <font color=\"#9370DB\">get shapes before merge</font>"
   ]
  },
  {
   "cell_type": "code",
   "execution_count": 17,
   "metadata": {
    "ExecuteTime": {
     "end_time": "2023-07-18T17:55:21.968826Z",
     "start_time": "2023-07-18T17:55:21.919166Z"
    }
   },
   "outputs": [
    {
     "name": "stdout",
     "output_type": "stream",
     "text": [
      "Shape of ngs_air_power                 :  (3961, 21),\t Contains 7 seasons, starting with 2016 and ending in 2022 min week: 1, max week : 22\n",
      "Shape of ngs_ground_power              :  (3961, 11),\t Contains 7 seasons, starting with 2016 and ending in 2022 min week: 1, max week : 22\n",
      "Shape of pbp_events                    :  (3961, 9),\t Contains 7 seasons, starting with 2016 and ending in 2022 min week: 1, max week : 22\n",
      "Shape of defense_stats                 :  (3961, 13),\t Contains 7 seasons, starting with 2016 and ending in 2022 min week: 1, max week : 22\n",
      "Shape of possession_stats              :  (3961, 28),\t Contains 7 seasons, starting with 2016 and ending in 2022 min week: 1, max week : 22\n",
      "Shape of game info                     :  (3812, 11),\t Contains 7 seasons, starting with 2016 and ending in 2022 min week: 1, max week : 22\n"
     ]
    }
   ],
   "source": [
    "# calc_coverage(\"Team analytics \", team_analytics)\n",
    "calc_coverage(\"ngs_air_power  \", ngs_air_power)\n",
    "calc_coverage(\"ngs_ground_power \", ngs_ground_power)\n",
    "calc_coverage(\"pbp_events  \", pbp_events)\n",
    "calc_coverage(\"defense_stats  \", defense_stats)\n",
    "calc_coverage(\"possession_stats  \", possession_stats)\n",
    "calc_coverage(\"game info  \", game_df)"
   ]
  },
  {
   "cell_type": "code",
   "execution_count": 18,
   "metadata": {
    "ExecuteTime": {
     "end_time": "2023-07-18T17:55:21.968929Z",
     "start_time": "2023-07-18T17:55:21.924452Z"
    }
   },
   "outputs": [],
   "source": [
    "if DEBUG:\n",
    "    print_columns(\"ngs_air_power  \", ngs_air_power)\n",
    "    print_columns(\"ngs_ground_power \", ngs_ground_power)\n",
    "    print_columns(\"pbp_events  \", pbp_events)\n",
    "    print_columns(\"defense_stats  \", defense_stats)\n",
    "    print_columns(\"possession_stats  \", possession_stats)\n",
    "    print_columns(\"game info  \", game_df)"
   ]
  },
  {
   "cell_type": "markdown",
   "metadata": {},
   "source": [
    "### <font color=\"#9370DB\">merge offense stats</font>"
   ]
  },
  {
   "cell_type": "code",
   "execution_count": 19,
   "outputs": [
    {
     "name": "stdout",
     "output_type": "stream",
     "text": [
      "merge all offense stats\n",
      "possession_stats before: (3961, 28), after: (3961, 54)\n",
      "possession_stats before: (3961, 28), after game_info: (3812, 62) -ok - these look like garbage rows and it's only 149 \n"
     ]
    },
    {
     "data": {
      "text/plain": "  team  season  week  receiving_tds  special_teams_tds  receiving_first_downs  \\\n0  ARI    2016     1            2.0                0.0                   14.0   \n1  ARI    2016     2            3.0                0.0                   15.0   \n2  ARI    2016     3            0.0                0.0                   17.0   \n3  ARI    2016     4            1.0                0.0                   17.0   \n4  ARI    2016     5            2.0                0.0                    6.0   \n\n   passing_yards  rushing_2pt_conversions  passing_first_downs  ps_attempts  \\\n0          271.0                      0.0                 14.0         37.0   \n1          315.0                      0.0                 15.0         34.0   \n2          287.0                      0.0                 17.0         50.0   \n3          325.0                      0.0                 17.0         47.0   \n4          124.0                      0.0                  6.0         28.0   \n\n   ...  avg_time_to_los  rush_yards  team_score    team_coach  opposing_team  \\\n0  ...         2.616188        89.0          21  Bruce Arians             NE   \n1  ...         2.450687        54.0          40  Bruce Arians             TB   \n2  ...         2.619000        83.0          18  Bruce Arians            BUF   \n3  ...         2.700235        83.0          13  Bruce Arians             LA   \n4  ...         2.667074       157.0          33  Bruce Arians             SF   \n\n   opposing_score  opposing_coach  spread  count   win  \n0              23  Bill Belichick    -2.0      1  loss  \n1               7    Dirk Koetter    33.0      1   win  \n2              33        Rex Ryan   -15.0      1  loss  \n3              17     Jeff Fisher    -4.0      1  loss  \n4              21      Chip Kelly    12.0      1   win  \n\n[5 rows x 62 columns]",
      "text/html": "<div>\n<style scoped>\n    .dataframe tbody tr th:only-of-type {\n        vertical-align: middle;\n    }\n\n    .dataframe tbody tr th {\n        vertical-align: top;\n    }\n\n    .dataframe thead th {\n        text-align: right;\n    }\n</style>\n<table border=\"1\" class=\"dataframe\">\n  <thead>\n    <tr style=\"text-align: right;\">\n      <th></th>\n      <th>team</th>\n      <th>season</th>\n      <th>week</th>\n      <th>receiving_tds</th>\n      <th>special_teams_tds</th>\n      <th>receiving_first_downs</th>\n      <th>passing_yards</th>\n      <th>rushing_2pt_conversions</th>\n      <th>passing_first_downs</th>\n      <th>ps_attempts</th>\n      <th>...</th>\n      <th>avg_time_to_los</th>\n      <th>rush_yards</th>\n      <th>team_score</th>\n      <th>team_coach</th>\n      <th>opposing_team</th>\n      <th>opposing_score</th>\n      <th>opposing_coach</th>\n      <th>spread</th>\n      <th>count</th>\n      <th>win</th>\n    </tr>\n  </thead>\n  <tbody>\n    <tr>\n      <th>0</th>\n      <td>ARI</td>\n      <td>2016</td>\n      <td>1</td>\n      <td>2.0</td>\n      <td>0.0</td>\n      <td>14.0</td>\n      <td>271.0</td>\n      <td>0.0</td>\n      <td>14.0</td>\n      <td>37.0</td>\n      <td>...</td>\n      <td>2.616188</td>\n      <td>89.0</td>\n      <td>21</td>\n      <td>Bruce Arians</td>\n      <td>NE</td>\n      <td>23</td>\n      <td>Bill Belichick</td>\n      <td>-2.0</td>\n      <td>1</td>\n      <td>loss</td>\n    </tr>\n    <tr>\n      <th>1</th>\n      <td>ARI</td>\n      <td>2016</td>\n      <td>2</td>\n      <td>3.0</td>\n      <td>0.0</td>\n      <td>15.0</td>\n      <td>315.0</td>\n      <td>0.0</td>\n      <td>15.0</td>\n      <td>34.0</td>\n      <td>...</td>\n      <td>2.450687</td>\n      <td>54.0</td>\n      <td>40</td>\n      <td>Bruce Arians</td>\n      <td>TB</td>\n      <td>7</td>\n      <td>Dirk Koetter</td>\n      <td>33.0</td>\n      <td>1</td>\n      <td>win</td>\n    </tr>\n    <tr>\n      <th>2</th>\n      <td>ARI</td>\n      <td>2016</td>\n      <td>3</td>\n      <td>0.0</td>\n      <td>0.0</td>\n      <td>17.0</td>\n      <td>287.0</td>\n      <td>0.0</td>\n      <td>17.0</td>\n      <td>50.0</td>\n      <td>...</td>\n      <td>2.619000</td>\n      <td>83.0</td>\n      <td>18</td>\n      <td>Bruce Arians</td>\n      <td>BUF</td>\n      <td>33</td>\n      <td>Rex Ryan</td>\n      <td>-15.0</td>\n      <td>1</td>\n      <td>loss</td>\n    </tr>\n    <tr>\n      <th>3</th>\n      <td>ARI</td>\n      <td>2016</td>\n      <td>4</td>\n      <td>1.0</td>\n      <td>0.0</td>\n      <td>17.0</td>\n      <td>325.0</td>\n      <td>0.0</td>\n      <td>17.0</td>\n      <td>47.0</td>\n      <td>...</td>\n      <td>2.700235</td>\n      <td>83.0</td>\n      <td>13</td>\n      <td>Bruce Arians</td>\n      <td>LA</td>\n      <td>17</td>\n      <td>Jeff Fisher</td>\n      <td>-4.0</td>\n      <td>1</td>\n      <td>loss</td>\n    </tr>\n    <tr>\n      <th>4</th>\n      <td>ARI</td>\n      <td>2016</td>\n      <td>5</td>\n      <td>2.0</td>\n      <td>0.0</td>\n      <td>6.0</td>\n      <td>124.0</td>\n      <td>0.0</td>\n      <td>6.0</td>\n      <td>28.0</td>\n      <td>...</td>\n      <td>2.667074</td>\n      <td>157.0</td>\n      <td>33</td>\n      <td>Bruce Arians</td>\n      <td>SF</td>\n      <td>21</td>\n      <td>Chip Kelly</td>\n      <td>12.0</td>\n      <td>1</td>\n      <td>win</td>\n    </tr>\n  </tbody>\n</table>\n<p>5 rows × 62 columns</p>\n</div>"
     },
     "execution_count": 19,
     "metadata": {},
     "output_type": "execute_result"
    }
   ],
   "source": [
    "# merge possession_stats + ngs_pass, ngs_rush\n",
    "print(\"merge all offense stats\")\n",
    "starting_shape = possession_stats.shape\n",
    "possession_stats = pd.merge(possession_stats, ngs_air_power, on=['season', 'week', 'team'])\n",
    "possession_stats = pd.merge(possession_stats, ngs_ground_power, on=['season', 'week', 'team'])\n",
    "print(f\"possession_stats before: {starting_shape}, after: {possession_stats.shape}\")\n",
    "\n",
    "assert_and_alert(starting_shape[0] == possession_stats.shape[0], msg=f\"possession_stats before: {starting_shape}, after: {possession_stats.shape}\")\n",
    "\n",
    "possession_stats = pd.merge(possession_stats, game_df, on=['season', 'week', 'team'])\n",
    "\n",
    "print(f\"possession_stats before: {starting_shape}, after game_info: {possession_stats.shape} -ok - these look like garbage rows and it's only 149 \")\n",
    "\n",
    "possession_stats.head()\n"
   ],
   "metadata": {
    "collapsed": false,
    "ExecuteTime": {
     "end_time": "2023-07-18T17:55:21.969469Z",
     "start_time": "2023-07-18T17:55:21.927727Z"
    }
   }
  },
  {
   "cell_type": "markdown",
   "source": [
    "### <font color=\"#9370DB\">merge defense stats</font>"
   ],
   "metadata": {
    "collapsed": false
   }
  },
  {
   "cell_type": "code",
   "execution_count": 20,
   "outputs": [
    {
     "name": "stdout",
     "output_type": "stream",
     "text": [
      "merge all defense stats\n",
      "possession_stats before: (3961, 13), after: (3961, 19)\n",
      "defense_stats before: (3961, 13), after game_info: (3812, 27) -ok - these look like garbage rows, not needed for this application \n"
     ]
    },
    {
     "data": {
      "text/plain": "  team  season  week  rushing_fumbles  ps_interceptions  rushing_fumbles_lost  \\\n0  ARI    2016     1              1.0               0.0                   0.0   \n1  ARI    2016     2              0.0               0.0                   0.0   \n2  ARI    2016     3              1.0               4.0                   1.0   \n3  ARI    2016     4              1.0               3.0                   1.0   \n4  ARI    2016     5              1.0               0.0                   0.0   \n\n   sack_fumbles  sack_yards  rushing_first_downs  receiving_fumbles  ...  \\\n0           0.0        19.0                  6.0                0.0  ...   \n1           0.0         4.0                  4.0                0.0  ...   \n2           2.0        27.0                  5.0                0.0  ...   \n3           1.0        23.0                  6.0                0.0  ...   \n4           0.0         8.0                 10.0                0.0  ...   \n\n   safety  interception  team_score    team_coach  opposing_team  \\\n0     0.0           0.0          21  Bruce Arians             NE   \n1     0.0           4.0          40  Bruce Arians             TB   \n2     1.0           1.0          18  Bruce Arians            BUF   \n3     0.0           0.0          13  Bruce Arians             LA   \n4     1.0           2.0          33  Bruce Arians             SF   \n\n   opposing_score  opposing_coach  spread  count   win  \n0              23  Bill Belichick    -2.0      1  loss  \n1               7    Dirk Koetter    33.0      1   win  \n2              33        Rex Ryan   -15.0      1  loss  \n3              17     Jeff Fisher    -4.0      1  loss  \n4              21      Chip Kelly    12.0      1   win  \n\n[5 rows x 27 columns]",
      "text/html": "<div>\n<style scoped>\n    .dataframe tbody tr th:only-of-type {\n        vertical-align: middle;\n    }\n\n    .dataframe tbody tr th {\n        vertical-align: top;\n    }\n\n    .dataframe thead th {\n        text-align: right;\n    }\n</style>\n<table border=\"1\" class=\"dataframe\">\n  <thead>\n    <tr style=\"text-align: right;\">\n      <th></th>\n      <th>team</th>\n      <th>season</th>\n      <th>week</th>\n      <th>rushing_fumbles</th>\n      <th>ps_interceptions</th>\n      <th>rushing_fumbles_lost</th>\n      <th>sack_fumbles</th>\n      <th>sack_yards</th>\n      <th>rushing_first_downs</th>\n      <th>receiving_fumbles</th>\n      <th>...</th>\n      <th>safety</th>\n      <th>interception</th>\n      <th>team_score</th>\n      <th>team_coach</th>\n      <th>opposing_team</th>\n      <th>opposing_score</th>\n      <th>opposing_coach</th>\n      <th>spread</th>\n      <th>count</th>\n      <th>win</th>\n    </tr>\n  </thead>\n  <tbody>\n    <tr>\n      <th>0</th>\n      <td>ARI</td>\n      <td>2016</td>\n      <td>1</td>\n      <td>1.0</td>\n      <td>0.0</td>\n      <td>0.0</td>\n      <td>0.0</td>\n      <td>19.0</td>\n      <td>6.0</td>\n      <td>0.0</td>\n      <td>...</td>\n      <td>0.0</td>\n      <td>0.0</td>\n      <td>21</td>\n      <td>Bruce Arians</td>\n      <td>NE</td>\n      <td>23</td>\n      <td>Bill Belichick</td>\n      <td>-2.0</td>\n      <td>1</td>\n      <td>loss</td>\n    </tr>\n    <tr>\n      <th>1</th>\n      <td>ARI</td>\n      <td>2016</td>\n      <td>2</td>\n      <td>0.0</td>\n      <td>0.0</td>\n      <td>0.0</td>\n      <td>0.0</td>\n      <td>4.0</td>\n      <td>4.0</td>\n      <td>0.0</td>\n      <td>...</td>\n      <td>0.0</td>\n      <td>4.0</td>\n      <td>40</td>\n      <td>Bruce Arians</td>\n      <td>TB</td>\n      <td>7</td>\n      <td>Dirk Koetter</td>\n      <td>33.0</td>\n      <td>1</td>\n      <td>win</td>\n    </tr>\n    <tr>\n      <th>2</th>\n      <td>ARI</td>\n      <td>2016</td>\n      <td>3</td>\n      <td>1.0</td>\n      <td>4.0</td>\n      <td>1.0</td>\n      <td>2.0</td>\n      <td>27.0</td>\n      <td>5.0</td>\n      <td>0.0</td>\n      <td>...</td>\n      <td>1.0</td>\n      <td>1.0</td>\n      <td>18</td>\n      <td>Bruce Arians</td>\n      <td>BUF</td>\n      <td>33</td>\n      <td>Rex Ryan</td>\n      <td>-15.0</td>\n      <td>1</td>\n      <td>loss</td>\n    </tr>\n    <tr>\n      <th>3</th>\n      <td>ARI</td>\n      <td>2016</td>\n      <td>4</td>\n      <td>1.0</td>\n      <td>3.0</td>\n      <td>1.0</td>\n      <td>1.0</td>\n      <td>23.0</td>\n      <td>6.0</td>\n      <td>0.0</td>\n      <td>...</td>\n      <td>0.0</td>\n      <td>0.0</td>\n      <td>13</td>\n      <td>Bruce Arians</td>\n      <td>LA</td>\n      <td>17</td>\n      <td>Jeff Fisher</td>\n      <td>-4.0</td>\n      <td>1</td>\n      <td>loss</td>\n    </tr>\n    <tr>\n      <th>4</th>\n      <td>ARI</td>\n      <td>2016</td>\n      <td>5</td>\n      <td>1.0</td>\n      <td>0.0</td>\n      <td>0.0</td>\n      <td>0.0</td>\n      <td>8.0</td>\n      <td>10.0</td>\n      <td>0.0</td>\n      <td>...</td>\n      <td>1.0</td>\n      <td>2.0</td>\n      <td>33</td>\n      <td>Bruce Arians</td>\n      <td>SF</td>\n      <td>21</td>\n      <td>Chip Kelly</td>\n      <td>12.0</td>\n      <td>1</td>\n      <td>win</td>\n    </tr>\n  </tbody>\n</table>\n<p>5 rows × 27 columns</p>\n</div>"
     },
     "execution_count": 20,
     "metadata": {},
     "output_type": "execute_result"
    }
   ],
   "source": [
    "\n",
    "\n",
    "# merge defensive_stats _ layer_events\n",
    "print(\"merge all defense stats\")\n",
    "starting_shape = defense_stats.shape\n",
    "defense_stats = pd.merge(defense_stats, pbp_events, on=['season', 'week', 'team'])\n",
    "print(f\"possession_stats before: {starting_shape}, after: {defense_stats.shape}\")\n",
    "\n",
    "assert_and_alert(starting_shape[0] == defense_stats.shape[0], msg=f\"possession_stats before: {starting_shape}, after: {defense_stats.shape}\")\n",
    "\n",
    "defense_stats = pd.merge(defense_stats, game_df, on=['season', 'week', 'team'])\n",
    "\n",
    "print(f\"defense_stats before: {starting_shape}, after game_info: {defense_stats.shape} -ok - these look like garbage rows, not needed for this application \")\n",
    "\n",
    "defense_stats.head()\n"
   ],
   "metadata": {
    "collapsed": false,
    "ExecuteTime": {
     "end_time": "2023-07-18T17:55:21.971410Z",
     "start_time": "2023-07-18T17:55:21.948073Z"
    }
   }
  },
  {
   "cell_type": "markdown",
   "metadata": {},
   "source": [
    "### <font color=\"#9370DB\">verify that there are no team weeks with more than one record</font>"
   ]
  },
  {
   "cell_type": "code",
   "execution_count": 21,
   "metadata": {
    "ExecuteTime": {
     "end_time": "2023-07-18T17:55:21.971621Z",
     "start_time": "2023-07-18T17:55:21.965292Z"
    }
   },
   "outputs": [
    {
     "name": "stdout",
     "output_type": "stream",
     "text": [
      "ok\n",
      "ok\n",
      "CPU times: user 148 µs, sys: 31 µs, total: 179 µs\n",
      "Wall time: 168 µs\n"
     ]
    }
   ],
   "source": [
    "#time\n",
    "\n",
    "def check_for_merge_columns(merged):\n",
    "    overlaps = 0\n",
    "    for col in merged.columns:\n",
    "        if str(col).endswith(\"_y\") or str(col).endswith(\"_x\") or str(col) == \"rn\":\n",
    "            print(col)\n",
    "            overlaps += 1\n",
    "\n",
    "    assert overlaps == 0\n",
    "    print(\"ok\")\n",
    "\n",
    "check_for_merge_columns(defense_stats)\n",
    "check_for_merge_columns(possession_stats)"
   ]
  },
  {
   "cell_type": "markdown",
   "metadata": {},
   "source": [
    "# <font color=teal>review and impute our new dataset</font>"
   ]
  },
  {
   "cell_type": "markdown",
   "metadata": {},
   "source": [
    "### <font color=\"#9370DB\">review our dataset</font>"
   ]
  },
  {
   "cell_type": "markdown",
   "metadata": {},
   "source": [
    "### <font color=\"#9370DB\">impute missing values</font>"
   ]
  },
  {
   "cell_type": "code",
   "execution_count": 22,
   "metadata": {
    "ExecuteTime": {
     "end_time": "2023-07-18T17:55:21.972575Z",
     "start_time": "2023-07-18T17:55:21.969118Z"
    }
   },
   "outputs": [],
   "source": [
    "def calc_percentage_missing(df):\n",
    "    rows_count = df.shape[0]\n",
    "    missing = df.isnull().sum().sort_values(ascending=False)\n",
    "    perc_missing = (missing / rows_count) * 100\n",
    "    perc_missing = perc_missing.reset_index()\n",
    "    perc_missing.columns = ['column', 'percentage_missing']\n",
    "\n",
    "    print(perc_missing)\n"
   ]
  },
  {
   "cell_type": "code",
   "execution_count": 23,
   "outputs": [
    {
     "data": {
      "text/plain": "True"
     },
     "execution_count": 23,
     "metadata": {},
     "output_type": "execute_result"
    }
   ],
   "source": [
    "assert_and_alert(0 == possession_stats.isnull().sum().sum(), msg=f\"found unexpected nulls in possession_stats\")\n",
    "assert_and_alert(0 == defense_stats.isnull().sum().sum(), msg=f\"found unexpected nulls in possession_stats\")"
   ],
   "metadata": {
    "collapsed": false,
    "ExecuteTime": {
     "end_time": "2023-07-18T17:55:22.007623Z",
     "start_time": "2023-07-18T17:55:21.972704Z"
    }
   }
  },
  {
   "cell_type": "markdown",
   "metadata": {},
   "source": [
    "### <font color=\"#9370DB\">interactively review distributions and decide which columns to keep</font>\n",
    "\n",
    "#### helper functions"
   ]
  },
  {
   "cell_type": "code",
   "execution_count": 24,
   "metadata": {
    "ExecuteTime": {
     "end_time": "2023-07-18T17:55:22.007812Z",
     "start_time": "2023-07-18T17:55:21.983258Z"
    }
   },
   "outputs": [],
   "source": [
    "import numpy as np\n",
    "from matplotlib import pyplot as plt\n",
    "import seaborn as sns\n",
    "\n",
    "\n",
    "def hist_charts(numeric_columns):\n",
    "    # Calculate the number of rows and columns for the grid\n",
    "    num_cols = 4\n",
    "    num_rows = (len(numeric_columns.columns) + num_cols - 1) // num_cols\n",
    "\n",
    "    # Generate separate histograms using seaborn for each numeric column\n",
    "    fig, axes = plt.subplots(num_rows, num_cols, figsize=(15, 3*num_rows))\n",
    "    for i, column in enumerate(numeric_columns.columns):\n",
    "        row = i // num_cols\n",
    "        col = i % num_cols\n",
    "        sns.set(style=\"ticks\")\n",
    "        sns.histplot(data=numeric_columns[column], bins=30, kde=True, ax=axes[row, col])\n",
    "        axes[row, col].set_title(f\"Histogram of {column}\")\n",
    "\n",
    "    # Adjust spacing between subplots\n",
    "    plt.tight_layout()\n",
    "\n",
    "    # Show the plots\n",
    "    plt.show()"
   ]
  },
  {
   "cell_type": "markdown",
   "metadata": {},
   "source": [
    "#### charts"
   ]
  },
  {
   "cell_type": "markdown",
   "source": [
    "### <font color=\"#9370DB\">convert object columns to int</font>"
   ],
   "metadata": {
    "collapsed": false
   }
  },
  {
   "cell_type": "markdown",
   "metadata": {},
   "source": [
    "### <font color=\"#9370DB\">store data</font>"
   ]
  },
  {
   "cell_type": "code",
   "execution_count": 25,
   "outputs": [
    {
     "name": "stderr",
     "output_type": "stream",
     "text": [
      "2023-07-18 10:55:21,984 - INFO - Validating game 2016_01_BUF_BAL values at location: double checking play actions before save...\n"
     ]
    }
   ],
   "source": [
    "perform_inline_play_action_tests(play_actions_df, msg='double checking play actions before save')"
   ],
   "metadata": {
    "collapsed": false,
    "ExecuteTime": {
     "end_time": "2023-07-18T17:55:22.119917Z",
     "start_time": "2023-07-18T17:55:21.985583Z"
    }
   }
  },
  {
   "cell_type": "code",
   "execution_count": 26,
   "outputs": [
    {
     "name": "stderr",
     "output_type": "stream",
     "text": [
      "2023-07-18 10:55:22,026 - INFO - writing file nfl_weekly_offense  to /Users/christopherlomeli/Source/courses/datascience/Springboard/capstone/NFL/NFLVersReader/data/nfl/nfl_weekly_offense.parquet\n",
      "2023-07-18 10:55:22,090 - INFO - writing table nfl_weekly_offense in schema controls\n",
      "2023-07-18 10:55:22,848 - INFO - writing file nfl_weekly_defense  to /Users/christopherlomeli/Source/courses/datascience/Springboard/capstone/NFL/NFLVersReader/data/nfl/nfl_weekly_defense.parquet\n",
      "2023-07-18 10:55:22,859 - INFO - writing table nfl_weekly_defense in schema controls\n",
      "2023-07-18 10:55:23,142 - INFO - writing file nfl_play_actions  to /Users/christopherlomeli/Source/courses/datascience/Springboard/capstone/NFL/NFLVersReader/data/nfl/nfl_play_actions.parquet\n",
      "2023-07-18 10:55:23,621 - INFO - writing table nfl_play_actions in schema controls\n"
     ]
    },
    {
     "name": "stdout",
     "output_type": "stream",
     "text": [
      "CPU times: user 15.9 s, sys: 675 ms, total: 16.5 s\n",
      "Wall time: 24.3 s\n"
     ]
    }
   ],
   "source": [
    "#time\n",
    "from src.db_utils import store_df\n",
    "\n",
    "store_df(possession_stats, \"nfl_weekly_offense\", db=db if COMMIT_TO_DATABASE else None, schema=SCHEMA)\n",
    "store_df(defense_stats,    \"nfl_weekly_defense\", db=db if COMMIT_TO_DATABASE else None, schema=SCHEMA)\n",
    "store_df(play_actions_df,  \"nfl_play_actions\", db=db if COMMIT_TO_DATABASE else None, schema=SCHEMA)"
   ],
   "metadata": {
    "collapsed": false,
    "ExecuteTime": {
     "end_time": "2023-07-18T17:55:46.320867Z",
     "start_time": "2023-07-18T17:55:22.024363Z"
    }
   }
  }
 ],
 "metadata": {
  "kernelspec": {
   "display_name": "Python 3 (ipykernel)",
   "language": "python",
   "name": "python3"
  },
  "language_info": {
   "codemirror_mode": {
    "name": "ipython",
    "version": 3
   },
   "file_extension": ".py",
   "mimetype": "text/x-python",
   "name": "python",
   "nbconvert_exporter": "python",
   "pygments_lexer": "ipython3",
   "version": "3.10.11"
  }
 },
 "nbformat": 4,
 "nbformat_minor": 1
}
