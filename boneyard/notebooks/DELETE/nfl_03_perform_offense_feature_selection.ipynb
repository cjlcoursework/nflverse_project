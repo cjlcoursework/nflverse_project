{
 "cells": [
  {
   "cell_type": "markdown",
   "source": [
    "### Goal\n",
    "- prepare stats data for machine learning\n",
    "\n",
    "### Steps\n",
    "- : review dtypes,and prepare continuous numeric, discrete numeric, categorical, character and identity columns\n",
    "Input: nfl_weekly_stats.parquet\n",
    "Work:\n",
    "    - separate continuous numeric, discrete numeric, categorical, character and identity columns\n",
    "    - label encode\n",
    "    - merge all back together\n",
    "Output:\n",
    "    - nfl_ml_weekly_stats.parquet - cleaned, labeled data"
   ],
   "metadata": {
    "collapsed": false
   }
  },
  {
   "cell_type": "code",
   "execution_count": 1,
   "outputs": [],
   "source": [
    "import os\n",
    "import sys\n",
    "sys.path.append(os.path.abspath(\"../src\"))\n"
   ],
   "metadata": {
    "collapsed": false,
    "ExecuteTime": {
     "end_time": "2023-07-18T13:39:34.426885Z",
     "start_time": "2023-07-18T13:39:34.424159Z"
    }
   }
  },
  {
   "cell_type": "code",
   "execution_count": 2,
   "outputs": [
    {
     "name": "stderr",
     "output_type": "stream",
     "text": [
      "Using `tqdm.autonotebook.tqdm` in notebook mode. Use `tqdm.tqdm` instead to force console mode (e.g. in jupyter console)\n"
     ]
    }
   ],
   "source": [
    "from src import *\n"
   ],
   "metadata": {
    "collapsed": false,
    "ExecuteTime": {
     "end_time": "2023-07-18T13:39:38.866498Z",
     "start_time": "2023-07-18T13:39:34.428105Z"
    }
   }
  },
  {
   "cell_type": "code",
   "execution_count": 3,
   "outputs": [],
   "source": [
    "logger = configs.configure_logging(\"pbp_logger\")\n",
    "logger.setLevel(logging.INFO)"
   ],
   "metadata": {
    "collapsed": false,
    "ExecuteTime": {
     "end_time": "2023-07-18T13:39:38.868619Z",
     "start_time": "2023-07-18T13:39:38.867609Z"
    }
   }
  },
  {
   "cell_type": "markdown",
   "source": [
    "#### load stats data"
   ],
   "metadata": {
    "collapsed": false
   }
  },
  {
   "cell_type": "code",
   "execution_count": 4,
   "outputs": [
    {
     "data": {
      "text/plain": "      team  season  week  receiving_yards_after_catch  ps_completions  \\\nindex                                                                   \n0      ARI    2016     1                        105.0            24.0   \n1      ARI    2016     2                        157.0            18.0   \n2      ARI    2016     3                         90.0            26.0   \n3      ARI    2016     4                        116.0            27.0   \n4      ARI    2016     5                         49.0            11.0   \n\n       receiving_yards  targets  rushing_yards  rushing_tds  \\\nindex                                                         \n0                271.0     37.0           92.0          1.0   \n1                315.0     34.0          105.0          1.0   \n2                287.0     50.0           88.0          2.0   \n3                325.0     45.0          118.0          0.0   \n4                124.0     27.0          172.0          2.0   \n\n       special_teams_tds  ...  player_jersey_number  \\\nindex                     ...                         \n0                    0.0  ...                  31.0   \n1                    0.0  ...                  23.0   \n2                    0.0  ...                  31.0   \n3                    0.0  ...                  31.0   \n4                    0.0  ...                  31.0   \n\n       percent_attempts_gte_eight_defenders  team_score    team_coach  \\\nindex                                                                   \n0                                 43.750000          21  Bruce Arians   \n1                                 50.000000          40  Bruce Arians   \n2                                 26.315789          18  Bruce Arians   \n3                                 29.411765          13  Bruce Arians   \n4                                 22.222222          33  Bruce Arians   \n\n       opposing_team  opposing_score  opposing_coach  spread  count   win  \nindex                                                                      \n0                 NE              23  Bill Belichick    -2.0      1  loss  \n1                 TB               7    Dirk Koetter    33.0      1   win  \n2                BUF              33        Rex Ryan   -15.0      1  loss  \n3                 LA              17     Jeff Fisher    -4.0      1  loss  \n4                 SF              21      Chip Kelly    12.0      1   win  \n\n[5 rows x 62 columns]",
      "text/html": "<div>\n<style scoped>\n    .dataframe tbody tr th:only-of-type {\n        vertical-align: middle;\n    }\n\n    .dataframe tbody tr th {\n        vertical-align: top;\n    }\n\n    .dataframe thead th {\n        text-align: right;\n    }\n</style>\n<table border=\"1\" class=\"dataframe\">\n  <thead>\n    <tr style=\"text-align: right;\">\n      <th></th>\n      <th>team</th>\n      <th>season</th>\n      <th>week</th>\n      <th>receiving_yards_after_catch</th>\n      <th>ps_completions</th>\n      <th>receiving_yards</th>\n      <th>targets</th>\n      <th>rushing_yards</th>\n      <th>rushing_tds</th>\n      <th>special_teams_tds</th>\n      <th>...</th>\n      <th>player_jersey_number</th>\n      <th>percent_attempts_gte_eight_defenders</th>\n      <th>team_score</th>\n      <th>team_coach</th>\n      <th>opposing_team</th>\n      <th>opposing_score</th>\n      <th>opposing_coach</th>\n      <th>spread</th>\n      <th>count</th>\n      <th>win</th>\n    </tr>\n    <tr>\n      <th>index</th>\n      <th></th>\n      <th></th>\n      <th></th>\n      <th></th>\n      <th></th>\n      <th></th>\n      <th></th>\n      <th></th>\n      <th></th>\n      <th></th>\n      <th></th>\n      <th></th>\n      <th></th>\n      <th></th>\n      <th></th>\n      <th></th>\n      <th></th>\n      <th></th>\n      <th></th>\n      <th></th>\n      <th></th>\n    </tr>\n  </thead>\n  <tbody>\n    <tr>\n      <th>0</th>\n      <td>ARI</td>\n      <td>2016</td>\n      <td>1</td>\n      <td>105.0</td>\n      <td>24.0</td>\n      <td>271.0</td>\n      <td>37.0</td>\n      <td>92.0</td>\n      <td>1.0</td>\n      <td>0.0</td>\n      <td>...</td>\n      <td>31.0</td>\n      <td>43.750000</td>\n      <td>21</td>\n      <td>Bruce Arians</td>\n      <td>NE</td>\n      <td>23</td>\n      <td>Bill Belichick</td>\n      <td>-2.0</td>\n      <td>1</td>\n      <td>loss</td>\n    </tr>\n    <tr>\n      <th>1</th>\n      <td>ARI</td>\n      <td>2016</td>\n      <td>2</td>\n      <td>157.0</td>\n      <td>18.0</td>\n      <td>315.0</td>\n      <td>34.0</td>\n      <td>105.0</td>\n      <td>1.0</td>\n      <td>0.0</td>\n      <td>...</td>\n      <td>23.0</td>\n      <td>50.000000</td>\n      <td>40</td>\n      <td>Bruce Arians</td>\n      <td>TB</td>\n      <td>7</td>\n      <td>Dirk Koetter</td>\n      <td>33.0</td>\n      <td>1</td>\n      <td>win</td>\n    </tr>\n    <tr>\n      <th>2</th>\n      <td>ARI</td>\n      <td>2016</td>\n      <td>3</td>\n      <td>90.0</td>\n      <td>26.0</td>\n      <td>287.0</td>\n      <td>50.0</td>\n      <td>88.0</td>\n      <td>2.0</td>\n      <td>0.0</td>\n      <td>...</td>\n      <td>31.0</td>\n      <td>26.315789</td>\n      <td>18</td>\n      <td>Bruce Arians</td>\n      <td>BUF</td>\n      <td>33</td>\n      <td>Rex Ryan</td>\n      <td>-15.0</td>\n      <td>1</td>\n      <td>loss</td>\n    </tr>\n    <tr>\n      <th>3</th>\n      <td>ARI</td>\n      <td>2016</td>\n      <td>4</td>\n      <td>116.0</td>\n      <td>27.0</td>\n      <td>325.0</td>\n      <td>45.0</td>\n      <td>118.0</td>\n      <td>0.0</td>\n      <td>0.0</td>\n      <td>...</td>\n      <td>31.0</td>\n      <td>29.411765</td>\n      <td>13</td>\n      <td>Bruce Arians</td>\n      <td>LA</td>\n      <td>17</td>\n      <td>Jeff Fisher</td>\n      <td>-4.0</td>\n      <td>1</td>\n      <td>loss</td>\n    </tr>\n    <tr>\n      <th>4</th>\n      <td>ARI</td>\n      <td>2016</td>\n      <td>5</td>\n      <td>49.0</td>\n      <td>11.0</td>\n      <td>124.0</td>\n      <td>27.0</td>\n      <td>172.0</td>\n      <td>2.0</td>\n      <td>0.0</td>\n      <td>...</td>\n      <td>31.0</td>\n      <td>22.222222</td>\n      <td>33</td>\n      <td>Bruce Arians</td>\n      <td>SF</td>\n      <td>21</td>\n      <td>Chip Kelly</td>\n      <td>12.0</td>\n      <td>1</td>\n      <td>win</td>\n    </tr>\n  </tbody>\n</table>\n<p>5 rows × 62 columns</p>\n</div>"
     },
     "execution_count": 4,
     "metadata": {},
     "output_type": "execute_result"
    }
   ],
   "source": [
    "\n",
    "input_file_name = \"nfl_weekly_offense\"\n",
    "power_column = \"offense_power\"\n",
    "\n",
    "data_directory = get_config('data_directory')\n",
    "input_path = os.path.join(data_directory,  f\"{input_file_name}.parquet\")\n",
    "assert  os.path.exists(input_path)\n",
    "\n",
    "original_stats_df = pd.read_parquet(input_path)\n",
    "original_stats_df.head()"
   ],
   "metadata": {
    "collapsed": false,
    "ExecuteTime": {
     "end_time": "2023-07-18T13:39:38.902700Z",
     "start_time": "2023-07-18T13:39:38.870314Z"
    }
   }
  },
  {
   "cell_type": "markdown",
   "source": [
    "#### drop columns we don't need"
   ],
   "metadata": {
    "collapsed": false
   }
  },
  {
   "cell_type": "code",
   "execution_count": 5,
   "outputs": [
    {
     "name": "stderr",
     "output_type": "stream",
     "text": [
      "2023-07-18 06:39:38,901 - INFO - encode the target win/loss column\n",
      "2023-07-18 06:39:38,902 - INFO - create a features dataframe for feature selection ...\n",
      "2023-07-18 06:39:38,903 - INFO - scale all features  ...\n"
     ]
    }
   ],
   "source": [
    "from src.build_power_scores import prepare_power_data\n",
    "\n",
    "features_df = prepare_power_data(original_stats_df)\n"
   ],
   "metadata": {
    "collapsed": false,
    "ExecuteTime": {
     "end_time": "2023-07-18T13:39:38.921157Z",
     "start_time": "2023-07-18T13:39:38.901824Z"
    }
   }
  },
  {
   "cell_type": "markdown",
   "source": [
    "#### scale numeric data for ml feature selection"
   ],
   "metadata": {
    "collapsed": false
   }
  },
  {
   "cell_type": "markdown",
   "source": [
    "#### review correlations"
   ],
   "metadata": {
    "collapsed": false
   }
  },
  {
   "cell_type": "code",
   "execution_count": null,
   "outputs": [],
   "source": [
    "from src.utils_eda import plot_heatmap\n",
    "\n",
    "# Create heatmap using plt.imshow()\n",
    "numeric_df = original_stats_df.select_dtypes(include='number').drop(columns=['season', 'week',  'count'])\n",
    "plot_heatmap(original_stats_df, drop_columns=['season', 'week',  'count'])"
   ],
   "metadata": {
    "collapsed": false,
    "is_executing": true,
    "ExecuteTime": {
     "start_time": "2023-07-18T13:39:38.908972Z"
    }
   }
  },
  {
   "cell_type": "markdown",
   "source": [
    "### best correlations to target"
   ],
   "metadata": {
    "collapsed": false
   }
  },
  {
   "cell_type": "code",
   "execution_count": null,
   "outputs": [],
   "source": [
    "from src.utils_eda import correlate_to_target, plot_correlations\n",
    "\n",
    "top_correlations, set_correlations = correlate_to_target(features_df, 'target', 30)\n",
    "plot_correlations(top_correlations['corr'], top_correlations['y'], 'Feature Correlations')\n"
   ],
   "metadata": {
    "collapsed": false,
    "is_executing": true
   }
  },
  {
   "cell_type": "markdown",
   "source": [
    "### train xgboost feature model"
   ],
   "metadata": {
    "collapsed": false
   }
  },
  {
   "cell_type": "code",
   "execution_count": null,
   "outputs": [],
   "source": [
    "from src.utils_eda import calc_feature_importance\n",
    "\n",
    "y = features_df.pop('target')\n",
    "\n",
    "top_features, set_features = calc_feature_importance(features_df, y, top_n=30)\n",
    "plot_correlations(top_features['corr'], top_features['y'], \"Feature Importance\")"
   ],
   "metadata": {
    "collapsed": false,
    "is_executing": true
   }
  },
  {
   "cell_type": "markdown",
   "source": [
    "### concat a weighted average \"power\" score to the stats dataset"
   ],
   "metadata": {
    "collapsed": false
   }
  },
  {
   "cell_type": "code",
   "execution_count": null,
   "outputs": [],
   "source": [
    "from src.build_power_scores import concat_power_score\n",
    "\n",
    "concat_power_score(df=original_stats_df, summary_data=top_features, threshold=.01, power_column=power_column)\n",
    "original_stats_df.head()"
   ],
   "metadata": {
    "collapsed": false,
    "is_executing": true
   }
  },
  {
   "cell_type": "markdown",
   "source": [
    "#### sanity check the power score"
   ],
   "metadata": {
    "collapsed": false
   }
  },
  {
   "cell_type": "code",
   "execution_count": null,
   "outputs": [],
   "source": [
    "X = original_stats_df[[ power_column ]]\n",
    "y = original_stats_df[[ 'target']]\n"
   ],
   "metadata": {
    "collapsed": false,
    "is_executing": true
   }
  },
  {
   "cell_type": "code",
   "execution_count": null,
   "outputs": [],
   "source": [
    "from src.build_power_scores import create_shallow_model\n",
    "\n",
    "model, callbacks = create_shallow_model(X)\n",
    "\n",
    "r = model.fit(X, y, epochs=200, batch_size=64, verbose=0, validation_split=0.2, callbacks=callbacks)"
   ],
   "metadata": {
    "collapsed": false,
    "is_executing": true
   }
  },
  {
   "cell_type": "code",
   "execution_count": null,
   "outputs": [],
   "source": [
    "from src.utils_eda import plot_loss\n",
    "\n",
    "plot_loss(r)"
   ],
   "metadata": {
    "collapsed": false,
    "is_executing": true
   }
  },
  {
   "cell_type": "markdown",
   "source": [
    "### save the dataset"
   ],
   "metadata": {
    "collapsed": false
   }
  },
  {
   "cell_type": "code",
   "execution_count": null,
   "outputs": [],
   "source": [
    "#time\n",
    "\n",
    "data_directory = get_config('data_directory')\n",
    "if not os.path.exists(data_directory):\n",
    "    os.makedirs(data_directory)\n",
    "\n",
    "output_path = os.path.join(data_directory, f\"{input_file_name}_ml.parquet\")\n",
    "original_stats_df.to_parquet(output_path, engine='fastparquet', compression='snappy')"
   ],
   "metadata": {
    "collapsed": false,
    "is_executing": true
   }
  },
  {
   "cell_type": "code",
   "execution_count": null,
   "outputs": [],
   "source": [],
   "metadata": {
    "collapsed": false,
    "is_executing": true
   }
  }
 ],
 "metadata": {
  "kernelspec": {
   "display_name": "Python 3",
   "language": "python",
   "name": "python3"
  },
  "language_info": {
   "codemirror_mode": {
    "name": "ipython",
    "version": 2
   },
   "file_extension": ".py",
   "mimetype": "text/x-python",
   "name": "python",
   "nbconvert_exporter": "python",
   "pygments_lexer": "ipython2",
   "version": "2.7.6"
  }
 },
 "nbformat": 4,
 "nbformat_minor": 0
}
