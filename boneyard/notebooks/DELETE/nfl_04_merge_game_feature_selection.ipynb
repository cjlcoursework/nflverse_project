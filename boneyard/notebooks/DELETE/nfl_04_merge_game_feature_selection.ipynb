{
 "cells": [
  {
   "cell_type": "markdown",
   "source": [
    "<font color=teal>\n",
    "_______________________________________\n",
    "</font>\n",
    "\n",
    "\n",
    "### <font color=teal>Goal:</font>\n",
    "\n",
    "- Merge play actions and offense/defense power scores into a play by play dataset focused on play-calling\n",
    "\n",
    "### <font color=teal>Input:</font>\n",
    "\n",
    "- pbp_actions.parquet\n",
    "- defense_power.parquet\n",
    "- offense_power.parquet\n",
    "\n",
    "\n",
    "### <font color=teal>Steps:</font>\n",
    "- merge offense and defense scores into each play based on which team offense and defense\n",
    "- save the final play-calling dataset\n",
    "\n",
    "\n",
    "### <font color=teal>Output:</font>\n",
    "\n",
    "- store_df(df, \"nfl_pbp_play_calls\", db=db if COMMIT_TO_DATABASE else None, schema=SCHEMA)\n",
    "-\n",
    "- store_df(games_df, \"nfl_pbp_game_stats\", db=db if COMMIT_TO_DATABASE else None, schema=SCHEMA)\n",
    "\n",
    "\n",
    "\n",
    "<font color=teal>\n",
    "_______________________________________\n",
    "</font>\n"
   ],
   "metadata": {
    "collapsed": false
   }
  },
  {
   "cell_type": "markdown",
   "source": [
    "\n",
    "### <font color=teal>imports<font/>"
   ],
   "metadata": {
    "collapsed": false
   }
  },
  {
   "cell_type": "code",
   "execution_count": 16,
   "outputs": [],
   "source": [
    "import os\n",
    "import sys\n",
    "\n",
    "sys.path.append(os.path.abspath(\"../src\"))"
   ],
   "metadata": {
    "collapsed": false,
    "ExecuteTime": {
     "end_time": "2023-07-18T19:52:11.450531Z",
     "start_time": "2023-07-18T19:52:11.392829Z"
    }
   }
  },
  {
   "cell_type": "code",
   "execution_count": null,
   "outputs": [],
   "source": [
    "\n",
    "from matplotlib import pyplot as plt\n",
    "import warnings\n",
    "from src import *\n",
    "\n",
    "warnings.filterwarnings('ignore')\n"
   ],
   "metadata": {
    "collapsed": false,
    "is_executing": true
   }
  },
  {
   "cell_type": "markdown",
   "source": [
    "### <font color=teal>housekeeping<font/>"
   ],
   "metadata": {
    "collapsed": false
   }
  },
  {
   "cell_type": "code",
   "execution_count": null,
   "outputs": [],
   "source": [
    "warnings.filterwarnings('ignore')\n",
    "\n",
    "logger = configs.configure_logging(\"pbp_logger\")\n",
    "logger.setLevel(logging.INFO)"
   ],
   "metadata": {
    "collapsed": false,
    "is_executing": true
   }
  },
  {
   "cell_type": "markdown",
   "source": [
    "### <font color=teal>settings<font/>"
   ],
   "metadata": {
    "collapsed": false
   }
  },
  {
   "cell_type": "code",
   "execution_count": 20,
   "outputs": [],
   "source": [
    "db = database_loader.DatabaseLoader(get_config('connection_string'))\n",
    "DEBUG=False\n",
    "COMMIT_TO_DATABASE=True\n",
    "SCHEMA='controls'\n",
    "\n",
    "data_directory = get_config('data_directory')\n",
    "\n",
    "plt.style.use('seaborn-darkgrid')\n"
   ],
   "metadata": {
    "collapsed": false,
    "ExecuteTime": {
     "end_time": "2023-07-18T19:52:11.910233Z",
     "start_time": "2023-07-18T19:52:11.908663Z"
    }
   }
  },
  {
   "cell_type": "markdown",
   "source": [
    "#### <font color=teal>load play_actions<font/>"
   ],
   "metadata": {
    "collapsed": false
   }
  },
  {
   "cell_type": "code",
   "execution_count": 21,
   "outputs": [
    {
     "name": "stdout",
     "output_type": "stream",
     "text": [
      "CPU times: user 150 ms, sys: 55.2 ms, total: 205 ms\n",
      "Wall time: 130 ms\n"
     ]
    },
    {
     "data": {
      "text/plain": "   season          game_id  week  drive  down           drive_id home_team  \\\n0    2016  2016_01_MIN_TEN     1    0.0   0.0  2016_01_MIN_TEN_0       TEN   \n1    2016  2016_01_MIN_TEN     1    0.0   0.0  2016_01_MIN_TEN_0       TEN   \n2    2016  2016_01_CLE_PHI     1    1.0   0.0  2016_01_CLE_PHI_1       PHI   \n3    2016  2016_01_NYG_DAL     1    1.0   1.0  2016_01_NYG_DAL_1       DAL   \n4    2016  2016_01_CAR_DEN     1    1.0   1.0  2016_01_CAR_DEN_1       DEN   \n\n  away_team posteam defteam  ... rush_attempt  kickoff_attempt  punt_attempt  \\\n0       MIN     MIN     TEN  ...          0.0              0.0           0.0   \n1       MIN     MIN     TEN  ...          0.0              0.0           0.0   \n2       CLE     PHI     CLE  ...          0.0              0.0           0.0   \n3       NYG     DAL     NYG  ...          0.0              0.0           0.0   \n4       CAR     DEN     CAR  ...          0.0              0.0           0.0   \n\n   field_goal_attempt  two_point_attempt  extra_point_attempt  timeout  \\\n0                 0.0                0.0                  1.0      0.0   \n1                 0.0                0.0                  1.0      0.0   \n2                 0.0                0.0                  1.0      0.0   \n3                 0.0                0.0                  0.0      0.0   \n4                 0.0                0.0                  0.0      0.0   \n\n   penalty  qb_spike                                               desc  \n0      0.0       0.0  3-B.Walsh extra point is GOOD, Center-47-K.McD...  \n1      0.0       0.0  3-B.Walsh extra point is No Good, Wide Right, ...  \n2      0.0       0.0  6-C.Sturgis extra point is GOOD, Center-46-J.D...  \n3      0.0       0.0  (9:21) (Shotgun) 4-D.Prescott pass short right...  \n4      0.0       0.0  (13:42) 13-T.Siemian pass short right to 10-E....  \n\n[5 rows x 38 columns]",
      "text/html": "<div>\n<style scoped>\n    .dataframe tbody tr th:only-of-type {\n        vertical-align: middle;\n    }\n\n    .dataframe tbody tr th {\n        vertical-align: top;\n    }\n\n    .dataframe thead th {\n        text-align: right;\n    }\n</style>\n<table border=\"1\" class=\"dataframe\">\n  <thead>\n    <tr style=\"text-align: right;\">\n      <th></th>\n      <th>season</th>\n      <th>game_id</th>\n      <th>week</th>\n      <th>drive</th>\n      <th>down</th>\n      <th>drive_id</th>\n      <th>home_team</th>\n      <th>away_team</th>\n      <th>posteam</th>\n      <th>defteam</th>\n      <th>...</th>\n      <th>rush_attempt</th>\n      <th>kickoff_attempt</th>\n      <th>punt_attempt</th>\n      <th>field_goal_attempt</th>\n      <th>two_point_attempt</th>\n      <th>extra_point_attempt</th>\n      <th>timeout</th>\n      <th>penalty</th>\n      <th>qb_spike</th>\n      <th>desc</th>\n    </tr>\n  </thead>\n  <tbody>\n    <tr>\n      <th>0</th>\n      <td>2016</td>\n      <td>2016_01_MIN_TEN</td>\n      <td>1</td>\n      <td>0.0</td>\n      <td>0.0</td>\n      <td>2016_01_MIN_TEN_0</td>\n      <td>TEN</td>\n      <td>MIN</td>\n      <td>MIN</td>\n      <td>TEN</td>\n      <td>...</td>\n      <td>0.0</td>\n      <td>0.0</td>\n      <td>0.0</td>\n      <td>0.0</td>\n      <td>0.0</td>\n      <td>1.0</td>\n      <td>0.0</td>\n      <td>0.0</td>\n      <td>0.0</td>\n      <td>3-B.Walsh extra point is GOOD, Center-47-K.McD...</td>\n    </tr>\n    <tr>\n      <th>1</th>\n      <td>2016</td>\n      <td>2016_01_MIN_TEN</td>\n      <td>1</td>\n      <td>0.0</td>\n      <td>0.0</td>\n      <td>2016_01_MIN_TEN_0</td>\n      <td>TEN</td>\n      <td>MIN</td>\n      <td>MIN</td>\n      <td>TEN</td>\n      <td>...</td>\n      <td>0.0</td>\n      <td>0.0</td>\n      <td>0.0</td>\n      <td>0.0</td>\n      <td>0.0</td>\n      <td>1.0</td>\n      <td>0.0</td>\n      <td>0.0</td>\n      <td>0.0</td>\n      <td>3-B.Walsh extra point is No Good, Wide Right, ...</td>\n    </tr>\n    <tr>\n      <th>2</th>\n      <td>2016</td>\n      <td>2016_01_CLE_PHI</td>\n      <td>1</td>\n      <td>1.0</td>\n      <td>0.0</td>\n      <td>2016_01_CLE_PHI_1</td>\n      <td>PHI</td>\n      <td>CLE</td>\n      <td>PHI</td>\n      <td>CLE</td>\n      <td>...</td>\n      <td>0.0</td>\n      <td>0.0</td>\n      <td>0.0</td>\n      <td>0.0</td>\n      <td>0.0</td>\n      <td>1.0</td>\n      <td>0.0</td>\n      <td>0.0</td>\n      <td>0.0</td>\n      <td>6-C.Sturgis extra point is GOOD, Center-46-J.D...</td>\n    </tr>\n    <tr>\n      <th>3</th>\n      <td>2016</td>\n      <td>2016_01_NYG_DAL</td>\n      <td>1</td>\n      <td>1.0</td>\n      <td>1.0</td>\n      <td>2016_01_NYG_DAL_1</td>\n      <td>DAL</td>\n      <td>NYG</td>\n      <td>DAL</td>\n      <td>NYG</td>\n      <td>...</td>\n      <td>0.0</td>\n      <td>0.0</td>\n      <td>0.0</td>\n      <td>0.0</td>\n      <td>0.0</td>\n      <td>0.0</td>\n      <td>0.0</td>\n      <td>0.0</td>\n      <td>0.0</td>\n      <td>(9:21) (Shotgun) 4-D.Prescott pass short right...</td>\n    </tr>\n    <tr>\n      <th>4</th>\n      <td>2016</td>\n      <td>2016_01_CAR_DEN</td>\n      <td>1</td>\n      <td>1.0</td>\n      <td>1.0</td>\n      <td>2016_01_CAR_DEN_1</td>\n      <td>DEN</td>\n      <td>CAR</td>\n      <td>DEN</td>\n      <td>CAR</td>\n      <td>...</td>\n      <td>0.0</td>\n      <td>0.0</td>\n      <td>0.0</td>\n      <td>0.0</td>\n      <td>0.0</td>\n      <td>0.0</td>\n      <td>0.0</td>\n      <td>0.0</td>\n      <td>0.0</td>\n      <td>(13:42) 13-T.Siemian pass short right to 10-E....</td>\n    </tr>\n  </tbody>\n</table>\n<p>5 rows × 38 columns</p>\n</div>"
     },
     "execution_count": 21,
     "metadata": {},
     "output_type": "execute_result"
    }
   ],
   "source": [
    "#time\n",
    "\n",
    "full_path = os.path.join(data_directory, \"nfl_play_actions.parquet\")\n",
    "pbp_actions_df = pd.read_parquet(full_path)\n",
    "pbp_actions_df.head()\n"
   ],
   "metadata": {
    "collapsed": false,
    "ExecuteTime": {
     "end_time": "2023-07-18T19:52:12.051112Z",
     "start_time": "2023-07-18T19:52:11.912816Z"
    }
   }
  },
  {
   "cell_type": "markdown",
   "source": [
    "#### load offense stats"
   ],
   "metadata": {
    "collapsed": false
   }
  },
  {
   "cell_type": "code",
   "execution_count": 22,
   "outputs": [
    {
     "name": "stdout",
     "output_type": "stream",
     "text": [
      "CPU times: user 7.16 ms, sys: 3.12 ms, total: 10.3 ms\n",
      "Wall time: 5.3 ms\n"
     ]
    },
    {
     "data": {
      "text/plain": "       season  week team  offense_power\nindex                                  \n0        2016     1  ARI      27.007937\n1        2016     2  ARI      30.113262\n2        2016     3  ARI      29.112380\n3        2016     4  ARI      29.840328\n4        2016     5  ARI      26.235002",
      "text/html": "<div>\n<style scoped>\n    .dataframe tbody tr th:only-of-type {\n        vertical-align: middle;\n    }\n\n    .dataframe tbody tr th {\n        vertical-align: top;\n    }\n\n    .dataframe thead th {\n        text-align: right;\n    }\n</style>\n<table border=\"1\" class=\"dataframe\">\n  <thead>\n    <tr style=\"text-align: right;\">\n      <th></th>\n      <th>season</th>\n      <th>week</th>\n      <th>team</th>\n      <th>offense_power</th>\n    </tr>\n    <tr>\n      <th>index</th>\n      <th></th>\n      <th></th>\n      <th></th>\n      <th></th>\n    </tr>\n  </thead>\n  <tbody>\n    <tr>\n      <th>0</th>\n      <td>2016</td>\n      <td>1</td>\n      <td>ARI</td>\n      <td>27.007937</td>\n    </tr>\n    <tr>\n      <th>1</th>\n      <td>2016</td>\n      <td>2</td>\n      <td>ARI</td>\n      <td>30.113262</td>\n    </tr>\n    <tr>\n      <th>2</th>\n      <td>2016</td>\n      <td>3</td>\n      <td>ARI</td>\n      <td>29.112380</td>\n    </tr>\n    <tr>\n      <th>3</th>\n      <td>2016</td>\n      <td>4</td>\n      <td>ARI</td>\n      <td>29.840328</td>\n    </tr>\n    <tr>\n      <th>4</th>\n      <td>2016</td>\n      <td>5</td>\n      <td>ARI</td>\n      <td>26.235002</td>\n    </tr>\n  </tbody>\n</table>\n</div>"
     },
     "execution_count": 22,
     "metadata": {},
     "output_type": "execute_result"
    }
   ],
   "source": [
    "#time\n",
    "full_path = os.path.join(data_directory, \"nfl_weekly_offense_ml.parquet\")\n",
    "offense_powers_df = pd.read_parquet(full_path)\n",
    "offense_powers_df = offense_powers_df[['season', 'week', 'team', 'offense_power']]\n",
    "offense_powers_df.head()"
   ],
   "metadata": {
    "collapsed": false,
    "ExecuteTime": {
     "end_time": "2023-07-18T19:52:12.061693Z",
     "start_time": "2023-07-18T19:52:12.052716Z"
    }
   }
  },
  {
   "cell_type": "markdown",
   "source": [
    "#### load defense stats"
   ],
   "metadata": {
    "collapsed": false
   }
  },
  {
   "cell_type": "code",
   "execution_count": 23,
   "outputs": [
    {
     "name": "stdout",
     "output_type": "stream",
     "text": [
      "CPU times: user 4.58 ms, sys: 2.73 ms, total: 7.31 ms\n",
      "Wall time: 4.6 ms\n"
     ]
    },
    {
     "data": {
      "text/plain": "       season  week team  defense_power\nindex                                  \n0        2016     1  ARI       6.173816\n1        2016     2  ARI       5.540982\n2        2016     3  ARI       8.111671\n3        2016     4  ARI       5.962334\n4        2016     5  ARI       7.655234",
      "text/html": "<div>\n<style scoped>\n    .dataframe tbody tr th:only-of-type {\n        vertical-align: middle;\n    }\n\n    .dataframe tbody tr th {\n        vertical-align: top;\n    }\n\n    .dataframe thead th {\n        text-align: right;\n    }\n</style>\n<table border=\"1\" class=\"dataframe\">\n  <thead>\n    <tr style=\"text-align: right;\">\n      <th></th>\n      <th>season</th>\n      <th>week</th>\n      <th>team</th>\n      <th>defense_power</th>\n    </tr>\n    <tr>\n      <th>index</th>\n      <th></th>\n      <th></th>\n      <th></th>\n      <th></th>\n    </tr>\n  </thead>\n  <tbody>\n    <tr>\n      <th>0</th>\n      <td>2016</td>\n      <td>1</td>\n      <td>ARI</td>\n      <td>6.173816</td>\n    </tr>\n    <tr>\n      <th>1</th>\n      <td>2016</td>\n      <td>2</td>\n      <td>ARI</td>\n      <td>5.540982</td>\n    </tr>\n    <tr>\n      <th>2</th>\n      <td>2016</td>\n      <td>3</td>\n      <td>ARI</td>\n      <td>8.111671</td>\n    </tr>\n    <tr>\n      <th>3</th>\n      <td>2016</td>\n      <td>4</td>\n      <td>ARI</td>\n      <td>5.962334</td>\n    </tr>\n    <tr>\n      <th>4</th>\n      <td>2016</td>\n      <td>5</td>\n      <td>ARI</td>\n      <td>7.655234</td>\n    </tr>\n  </tbody>\n</table>\n</div>"
     },
     "execution_count": 23,
     "metadata": {},
     "output_type": "execute_result"
    }
   ],
   "source": [
    "#time\n",
    "full_path = os.path.join(data_directory, \"nfl_weekly_defense_ml.parquet\")\n",
    "defense_powers_df = pd.read_parquet(full_path)\n",
    "defense_powers_df = defense_powers_df[['season', 'week', 'team', 'defense_power']]\n",
    "defense_powers_df.head()"
   ],
   "metadata": {
    "collapsed": false,
    "ExecuteTime": {
     "end_time": "2023-07-18T19:52:12.078604Z",
     "start_time": "2023-07-18T19:52:12.063586Z"
    }
   }
  },
  {
   "cell_type": "markdown",
   "source": [
    "##### merge into play actions: team in position's offense power and defense power (offense_op, offense_dp)"
   ],
   "metadata": {
    "collapsed": false
   }
  },
  {
   "cell_type": "code",
   "execution_count": 24,
   "outputs": [],
   "source": [
    "from src.utils import assert_and_alert\n",
    "from src.inline_validation import perform_inline_play_action_tests\n",
    "\n",
    "\n",
    "def drop_extras(df: pd.DataFrame):\n",
    "    drops = ['team']\n",
    "    for col in df.columns.values:\n",
    "        if str(col).endswith(\"_y\") or str(col).endswith(\"_x\"):\n",
    "            drops.append(col)\n",
    "    if len(drops) > 0:\n",
    "        df.drop(columns=drops, inplace=True)\n",
    "\n",
    "\n",
    "def merge_powers(action_df, powers_df, left_on, renames=None, msg='play_counter'):\n",
    "    expected_shape = action_df.shape\n",
    "    _df = pd.merge(action_df, powers_df, left_on=left_on, right_on=['season', 'week', 'team']).drop_duplicates()\n",
    "    drop_extras(_df)\n",
    "    _df.rename(columns=renames, inplace=True)\n",
    "    perform_inline_play_action_tests(_df, msg=msg)\n",
    "    assert_and_alert(expected_shape[0] == _df.shape[0],\n",
    "                     msg=f\"merge of actions to offense power changed the row count {pbp_actions_df.shape} + {offense_powers_df.shape} ==> {_df.shape}\")\n",
    "    return _df\n",
    "\n"
   ],
   "metadata": {
    "collapsed": false,
    "ExecuteTime": {
     "end_time": "2023-07-18T19:52:12.120522Z",
     "start_time": "2023-07-18T19:52:12.073892Z"
    }
   }
  },
  {
   "cell_type": "code",
   "execution_count": 25,
   "outputs": [
    {
     "name": "stderr",
     "output_type": "stream",
     "text": [
      "2023-07-18 12:52:12,521 - INFO - Validating game 2016_01_BUF_BAL values at location: merging offense_OP...\n",
      "2023-07-18 12:52:12,967 - INFO - Validating game 2016_01_BUF_BAL values at location: merging offense_DP...\n",
      "2023-07-18 12:52:13,403 - INFO - Validating game 2016_01_BUF_BAL values at location: merging defense_OP...\n",
      "2023-07-18 12:52:13,830 - INFO - Validating game 2016_01_BUF_BAL values at location: merging defense_DP...\n"
     ]
    }
   ],
   "source": [
    "\n",
    "df = merge_powers(pbp_actions_df, offense_powers_df, left_on=['season', 'week', 'posteam'],\n",
    "                  renames={'offense_power': 'offense_op'}, msg=\"merging offense_OP\")\n",
    "\n",
    "df = merge_powers(df, defense_powers_df, left_on=['season', 'week', 'posteam'], renames={'defense_power': 'offense_dp'},\n",
    "                  msg=\"merging offense_DP\")\n",
    "\n",
    "df = merge_powers(df, offense_powers_df, left_on=['season', 'week', 'defteam'], renames={'offense_power': 'defense_op'},\n",
    "                  msg=\"merging defense_OP\")\n",
    "\n",
    "df = merge_powers(df, defense_powers_df, left_on=['season', 'week', 'defteam'], renames={'defense_power': 'defense_dp'},\n",
    "                  msg=\"merging defense_DP\")\n",
    "\n"
   ],
   "metadata": {
    "collapsed": false,
    "ExecuteTime": {
     "end_time": "2023-07-18T19:52:13.849246Z",
     "start_time": "2023-07-18T19:52:12.077554Z"
    }
   }
  },
  {
   "cell_type": "code",
   "execution_count": 39,
   "outputs": [
    {
     "data": {
      "text/plain": "   team_offense_power  team_defense_power  opposing_team_offense_power  \\\n0           23.428697            5.476946                    17.649834   \n1           17.649834            6.353670                    23.428697   \n2           22.940911            5.430129                    17.864515   \n3           17.864515            6.617459                    22.940911   \n4           22.804072            8.374514                    29.423198   \n\n   opposing_team_defense_power  team_power_sum  opposing_team_power_sum  \\\n0                     6.353670       28.905643                24.003503   \n1                     5.476946       24.003503                28.905643   \n2                     6.617459       28.371039                24.481975   \n3                     5.430129       24.481975                28.371039   \n4                     6.710474       31.178586                36.133672   \n\n   power_difference  \n0          4.902140  \n1         -4.902140  \n2          3.889065  \n3         -3.889065  \n4         -4.955087  ",
      "text/html": "<div>\n<style scoped>\n    .dataframe tbody tr th:only-of-type {\n        vertical-align: middle;\n    }\n\n    .dataframe tbody tr th {\n        vertical-align: top;\n    }\n\n    .dataframe thead th {\n        text-align: right;\n    }\n</style>\n<table border=\"1\" class=\"dataframe\">\n  <thead>\n    <tr style=\"text-align: right;\">\n      <th></th>\n      <th>team_offense_power</th>\n      <th>team_defense_power</th>\n      <th>opposing_team_offense_power</th>\n      <th>opposing_team_defense_power</th>\n      <th>team_power_sum</th>\n      <th>opposing_team_power_sum</th>\n      <th>power_difference</th>\n    </tr>\n  </thead>\n  <tbody>\n    <tr>\n      <th>0</th>\n      <td>23.428697</td>\n      <td>5.476946</td>\n      <td>17.649834</td>\n      <td>6.353670</td>\n      <td>28.905643</td>\n      <td>24.003503</td>\n      <td>4.902140</td>\n    </tr>\n    <tr>\n      <th>1</th>\n      <td>17.649834</td>\n      <td>6.353670</td>\n      <td>23.428697</td>\n      <td>5.476946</td>\n      <td>24.003503</td>\n      <td>28.905643</td>\n      <td>-4.902140</td>\n    </tr>\n    <tr>\n      <th>2</th>\n      <td>22.940911</td>\n      <td>5.430129</td>\n      <td>17.864515</td>\n      <td>6.617459</td>\n      <td>28.371039</td>\n      <td>24.481975</td>\n      <td>3.889065</td>\n    </tr>\n    <tr>\n      <th>3</th>\n      <td>17.864515</td>\n      <td>6.617459</td>\n      <td>22.940911</td>\n      <td>5.430129</td>\n      <td>24.481975</td>\n      <td>28.371039</td>\n      <td>-3.889065</td>\n    </tr>\n    <tr>\n      <th>4</th>\n      <td>22.804072</td>\n      <td>8.374514</td>\n      <td>29.423198</td>\n      <td>6.710474</td>\n      <td>31.178586</td>\n      <td>36.133672</td>\n      <td>-4.955087</td>\n    </tr>\n  </tbody>\n</table>\n</div>"
     },
     "execution_count": 39,
     "metadata": {},
     "output_type": "execute_result"
    }
   ],
   "source": [
    "import numpy as np\n",
    "import pandas as pd\n",
    "\n",
    "# Assuming you have a DataFrame named 'nfl_pbp_play_calls' from 'controls' namespace\n",
    "df['point_spread'] = df['posteam_final_score'] - df['defteam_final_score']\n",
    "# Group by the desired columns and calculate aggregations\n",
    "grouped_df = df.groupby(['season', 'week', 'game_id', 'posteam', 'defteam']).agg(\n",
    "    drive_count=('drive', 'count'),\n",
    "    first_downs=('down', lambda x: (x == 1).sum()),\n",
    "    point_spread=('point_spread', 'max'),  # Calculate the point spread explicitly\n",
    "    team_final_score=('posteam_final_score', 'max'),\n",
    "    opposing_team_final_score=('defteam_final_score', 'max'),\n",
    "    yards_gained=('yards_gained', 'sum'),\n",
    "    pass_attempts=('pass_attempt', 'sum'),\n",
    "    rush_attempts=('rush_attempt', 'sum'),\n",
    "    kickoff_attempt=('kickoff_attempt', 'sum'),\n",
    "    punt_attempt=('punt_attempt', 'sum'),\n",
    "    field_goal_attempt=('field_goal_attempt', 'sum'),\n",
    "    two_point_attempt=('two_point_attempt', 'sum'),\n",
    "    extra_point_attempt=('extra_point_attempt', 'sum'),\n",
    "    timeout=('timeout', 'sum'),\n",
    "    penalty=('penalty', 'sum'),\n",
    "    qb_spike=('qb_spike', 'sum'),\n",
    "    team_offense_power=('offense_op', 'mean'),\n",
    "    team_defense_power=('offense_dp', 'mean'),\n",
    "    opposing_team_offense_power=('defense_op', 'mean'),\n",
    "    opposing_team_defense_power=('defense_dp', 'mean')\n",
    ")\n",
    "\n",
    "# Reset the index to transform the grouped DataFrame back to a regular DataFrame\n",
    "grouped_df.reset_index(inplace=True)\n",
    "\n",
    "# Select the desired columns for the final result\n",
    "games_df = grouped_df[['season', 'week', 'game_id', 'posteam', 'defteam',\n",
    "                        'team_offense_power', 'team_defense_power', 'opposing_team_offense_power', 'opposing_team_defense_power',\n",
    "                        'point_spread',  'drive_count', 'first_downs', 'team_final_score',\n",
    "                        'opposing_team_final_score', 'yards_gained', 'pass_attempts', 'rush_attempts',\n",
    "                        'kickoff_attempt', 'punt_attempt', 'field_goal_attempt', 'two_point_attempt',\n",
    "                        'extra_point_attempt', 'timeout', 'penalty', 'qb_spike']]\n",
    "\n",
    "games_df.rename(columns={'posteam': 'team', 'defteam': 'opposing_team'}, inplace=True)\n",
    "\n",
    "# Create a new column 'loss_tie_win' based on conditions\n",
    "games_df['loss_tie_win'] = np.where(\n",
    "    games_df['point_spread'] > 0, 2,\n",
    "    np.where(\n",
    "        games_df['point_spread'] < 0, 0, 1 )\n",
    ")\n",
    "\n",
    "games_df['team_power_sum'] = games_df['team_offense_power'] + games_df['team_defense_power']\n",
    "games_df['opposing_team_power_sum'] = games_df['opposing_team_offense_power'] + games_df['opposing_team_defense_power']\n",
    "games_df['power_difference'] = games_df['team_power_sum'] - games_df['opposing_team_power_sum']\n",
    "games_df['point_spread'] = games_df['point_spread'].astype('float')\n",
    "games_df[['team_offense_power', 'team_defense_power', 'opposing_team_offense_power', 'opposing_team_defense_power',  'team_power_sum' ,'opposing_team_power_sum', 'power_difference' ]].head()"
   ],
   "metadata": {
    "collapsed": false,
    "ExecuteTime": {
     "end_time": "2023-07-18T20:47:34.682204Z",
     "start_time": "2023-07-18T20:47:34.418551Z"
    }
   }
  },
  {
   "cell_type": "markdown",
   "source": [
    "##### merge into play actions: team on defense offense power and defense power (defense_op, defense_dp)"
   ],
   "metadata": {
    "collapsed": false
   }
  },
  {
   "cell_type": "markdown",
   "source": [
    "#### save features dataset"
   ],
   "metadata": {
    "collapsed": false
   }
  },
  {
   "cell_type": "code",
   "execution_count": 40,
   "outputs": [
    {
     "name": "stderr",
     "output_type": "stream",
     "text": [
      "2023-07-18 13:47:37,982 - INFO - writing file nfl_pbp_play_calls  to /Users/christopherlomeli/Source/courses/datascience/Springboard/capstone/NFL/NFLVersReader/data/nfl/nfl_pbp_play_calls.parquet\n",
      "2023-07-18 13:47:38,328 - INFO - writing table nfl_pbp_play_calls in schema controls\n",
      "2023-07-18 13:48:05,167 - INFO - writing file nfl_pbp_game_stats  to /Users/christopherlomeli/Source/courses/datascience/Springboard/capstone/NFL/NFLVersReader/data/nfl/nfl_pbp_game_stats.parquet\n",
      "2023-07-18 13:48:05,182 - INFO - writing table nfl_pbp_game_stats in schema controls\n"
     ]
    },
    {
     "name": "stdout",
     "output_type": "stream",
     "text": [
      "CPU times: user 17.6 s, sys: 1.27 s, total: 18.8 s\n",
      "Wall time: 27.7 s\n"
     ]
    }
   ],
   "source": [
    "#time\n",
    "from src.db_utils import store_df\n",
    "\n",
    "# store_df(df, \"nfl_pbp_play_calls\", db=db if COMMIT_TO_DATABASE else None, schema=SCHEMA)\n",
    "store_df(games_df, \"nfl_pbp_game_stats\", db=db if COMMIT_TO_DATABASE else None, schema=SCHEMA)"
   ],
   "metadata": {
    "collapsed": false,
    "ExecuteTime": {
     "end_time": "2023-07-18T20:48:05.693172Z",
     "start_time": "2023-07-18T20:47:37.982561Z"
    }
   }
  },
  {
   "cell_type": "markdown",
   "source": [
    "---"
   ],
   "metadata": {
    "collapsed": false
   }
  }
 ],
 "metadata": {
  "kernelspec": {
   "display_name": "Python 3",
   "language": "python",
   "name": "python3"
  },
  "language_info": {
   "codemirror_mode": {
    "name": "ipython",
    "version": 2
   },
   "file_extension": ".py",
   "mimetype": "text/x-python",
   "name": "python",
   "nbconvert_exporter": "python",
   "pygments_lexer": "ipython2",
   "version": "2.7.6"
  }
 },
 "nbformat": 4,
 "nbformat_minor": 0
}
