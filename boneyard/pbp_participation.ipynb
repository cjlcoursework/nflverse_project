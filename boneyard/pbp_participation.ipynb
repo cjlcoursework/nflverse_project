{
 "cells": [
  {
   "cell_type": "code",
   "execution_count": 3,
   "outputs": [],
   "source": [
    "import pandas as pd\n",
    "\n",
    "\n",
    "from NFLVersReader.src.nflverse_clean.utils import assert_not_null, assert_and_alert\n",
    "from configs import get_config\n",
    "\n",
    "import warnings\n",
    "\n",
    "warnings.filterwarnings('ignore')"
   ],
   "metadata": {
    "collapsed": false,
    "ExecuteTime": {
     "end_time": "2023-06-29T21:51:55.317667Z",
     "start_time": "2023-06-29T21:51:55.314490Z"
    }
   }
  },
  {
   "cell_type": "markdown",
   "source": [
    "## Player Stats\n",
    "These stats are critical to determining the state of a team"
   ],
   "metadata": {
    "collapsed": false
   }
  },
  {
   "cell_type": "code",
   "execution_count": 6,
   "outputs": [
    {
     "data": {
      "text/plain": "(50368, 14)"
     },
     "execution_count": 6,
     "metadata": {},
     "output_type": "execute_result"
    }
   ],
   "source": [
    "from NFLVersReader.src.nflverse_clean.nflverse_reader import load_pbp_participation\n",
    "from NFLVersReader.src.nflverse_clean.database_loader import DatabaseLoader\n",
    "\n",
    "participation_df = pd.read_csv(\"../../output/playbyplay2021_participation.csv\", header=0)\n",
    "participation_df.shape\n"
   ],
   "metadata": {
    "collapsed": false,
    "ExecuteTime": {
     "end_time": "2023-06-29T21:52:13.997642Z",
     "start_time": "2023-06-29T21:52:13.815080Z"
    }
   }
  },
  {
   "cell_type": "code",
   "execution_count": 7,
   "outputs": [
    {
     "data": {
      "text/plain": "  nflverse_game_id  old_game_id  play_id possession_team offense_formation  \\\n0   2021_01_DAL_TB   2021090900        1             NaN               NaN   \n1   2021_01_DAL_TB   2021090900       40             DAL               NaN   \n2   2021_01_DAL_TB   2021090900       55              TB           SHOTGUN   \n3   2021_01_DAL_TB   2021090900       76              TB        SINGLEBACK   \n4   2021_01_DAL_TB   2021090900       97              TB           SHOTGUN   \n\n  offense_personnel  defenders_in_box defense_personnel  \\\n0               NaN               NaN               NaN   \n1               NaN               NaN               NaN   \n2  1 RB, 1 TE, 3 WR               7.0  4 DL, 2 LB, 5 DB   \n3  1 RB, 2 TE, 2 WR               7.0  4 DL, 2 LB, 5 DB   \n4  1 RB, 1 TE, 3 WR               6.0  4 DL, 2 LB, 5 DB   \n\n   number_of_pass_rushers                                    players_on_play  \\\n0                     NaN                                                NaN   \n1                     NaN  43360;44962;53605;45063;46088;53544;46185;4669...   \n2                     NaN  44896;53504;53441;44962;42403;42404;52421;2551...   \n3                     NaN  44896;53504;44962;42403;42404;52421;25511;4608...   \n4                     5.0  44896;53504;53441;44962;42403;42404;52421;2551...   \n\n                                     offense_players  \\\n0                                                NaN   \n1  00-0033083;00-0033512;00-0034674;00-0036882;00...   \n2  00-0033921;00-0032243;00-0036406;00-0019596;00...   \n3  00-0033921;00-0032243;00-0036406;00-0019596;00...   \n4  00-0033921;00-0032243;00-0036406;00-0019596;00...   \n\n                                     defense_players  n_offense  n_defense  \n0                                                NaN          0          0  \n1  00-0036643;00-0033595;00-0034515;00-0032637;00...         11         11  \n2  00-0036942;00-0036932;00-0033512;00-0032197;00...         11         11  \n3  00-0036942;00-0033512;00-0032197;00-0034674;00...         11         11  \n4  00-0036942;00-0036932;00-0033512;00-0032197;00...         11         11  ",
      "text/html": "<div>\n<style scoped>\n    .dataframe tbody tr th:only-of-type {\n        vertical-align: middle;\n    }\n\n    .dataframe tbody tr th {\n        vertical-align: top;\n    }\n\n    .dataframe thead th {\n        text-align: right;\n    }\n</style>\n<table border=\"1\" class=\"dataframe\">\n  <thead>\n    <tr style=\"text-align: right;\">\n      <th></th>\n      <th>nflverse_game_id</th>\n      <th>old_game_id</th>\n      <th>play_id</th>\n      <th>possession_team</th>\n      <th>offense_formation</th>\n      <th>offense_personnel</th>\n      <th>defenders_in_box</th>\n      <th>defense_personnel</th>\n      <th>number_of_pass_rushers</th>\n      <th>players_on_play</th>\n      <th>offense_players</th>\n      <th>defense_players</th>\n      <th>n_offense</th>\n      <th>n_defense</th>\n    </tr>\n  </thead>\n  <tbody>\n    <tr>\n      <th>0</th>\n      <td>2021_01_DAL_TB</td>\n      <td>2021090900</td>\n      <td>1</td>\n      <td>NaN</td>\n      <td>NaN</td>\n      <td>NaN</td>\n      <td>NaN</td>\n      <td>NaN</td>\n      <td>NaN</td>\n      <td>NaN</td>\n      <td>NaN</td>\n      <td>NaN</td>\n      <td>0</td>\n      <td>0</td>\n    </tr>\n    <tr>\n      <th>1</th>\n      <td>2021_01_DAL_TB</td>\n      <td>2021090900</td>\n      <td>40</td>\n      <td>DAL</td>\n      <td>NaN</td>\n      <td>NaN</td>\n      <td>NaN</td>\n      <td>NaN</td>\n      <td>NaN</td>\n      <td>43360;44962;53605;45063;46088;53544;46185;4669...</td>\n      <td>00-0033083;00-0033512;00-0034674;00-0036882;00...</td>\n      <td>00-0036643;00-0033595;00-0034515;00-0032637;00...</td>\n      <td>11</td>\n      <td>11</td>\n    </tr>\n    <tr>\n      <th>2</th>\n      <td>2021_01_DAL_TB</td>\n      <td>2021090900</td>\n      <td>55</td>\n      <td>TB</td>\n      <td>SHOTGUN</td>\n      <td>1 RB, 1 TE, 3 WR</td>\n      <td>7.0</td>\n      <td>4 DL, 2 LB, 5 DB</td>\n      <td>NaN</td>\n      <td>44896;53504;53441;44962;42403;42404;52421;2551...</td>\n      <td>00-0033921;00-0032243;00-0036406;00-0019596;00...</td>\n      <td>00-0036942;00-0036932;00-0033512;00-0032197;00...</td>\n      <td>11</td>\n      <td>11</td>\n    </tr>\n    <tr>\n      <th>3</th>\n      <td>2021_01_DAL_TB</td>\n      <td>2021090900</td>\n      <td>76</td>\n      <td>TB</td>\n      <td>SINGLEBACK</td>\n      <td>1 RB, 2 TE, 2 WR</td>\n      <td>7.0</td>\n      <td>4 DL, 2 LB, 5 DB</td>\n      <td>NaN</td>\n      <td>44896;53504;44962;42403;42404;52421;25511;4608...</td>\n      <td>00-0033921;00-0032243;00-0036406;00-0019596;00...</td>\n      <td>00-0036942;00-0033512;00-0032197;00-0034674;00...</td>\n      <td>11</td>\n      <td>11</td>\n    </tr>\n    <tr>\n      <th>4</th>\n      <td>2021_01_DAL_TB</td>\n      <td>2021090900</td>\n      <td>97</td>\n      <td>TB</td>\n      <td>SHOTGUN</td>\n      <td>1 RB, 1 TE, 3 WR</td>\n      <td>6.0</td>\n      <td>4 DL, 2 LB, 5 DB</td>\n      <td>5.0</td>\n      <td>44896;53504;53441;44962;42403;42404;52421;2551...</td>\n      <td>00-0033921;00-0032243;00-0036406;00-0019596;00...</td>\n      <td>00-0036942;00-0036932;00-0033512;00-0032197;00...</td>\n      <td>11</td>\n      <td>11</td>\n    </tr>\n  </tbody>\n</table>\n</div>"
     },
     "execution_count": 7,
     "metadata": {},
     "output_type": "execute_result"
    }
   ],
   "source": [
    "participation_df.head()"
   ],
   "metadata": {
    "collapsed": false,
    "ExecuteTime": {
     "end_time": "2023-06-29T21:52:15.068926Z",
     "start_time": "2023-06-29T21:52:15.059510Z"
    }
   }
  },
  {
   "cell_type": "code",
   "execution_count": 4,
   "outputs": [
    {
     "data": {
      "text/plain": "   play_id          game_id  old_game_id home_team away_team season_type  \\\n0        1  2021_01_ARI_TEN   2021091207       TEN       ARI         REG   \n1       40  2021_01_ARI_TEN   2021091207       TEN       ARI         REG   \n2       55  2021_01_ARI_TEN   2021091207       TEN       ARI         REG   \n3       76  2021_01_ARI_TEN   2021091207       TEN       ARI         REG   \n4      100  2021_01_ARI_TEN   2021091207       TEN       ARI         REG   \n\n   week posteam posteam_type defteam  ... out_of_bounds  home_opening_kickoff  \\\n0     1     NaN          NaN     NaN  ...             0                     1   \n1     1     TEN         home     ARI  ...             0                     1   \n2     1     TEN         home     ARI  ...             0                     1   \n3     1     TEN         home     ARI  ...             0                     1   \n4     1     TEN         home     ARI  ...             0                     1   \n\n     qb_epa  xyac_epa  xyac_mean_yardage  xyac_median_yardage xyac_success  \\\n0  0.000000       NaN                NaN                  NaN          NaN   \n1  0.000000       NaN                NaN                  NaN          NaN   \n2 -1.399805       NaN                NaN                  NaN          NaN   \n3  0.032412  1.165133           5.803177                  4.0     0.896654   \n4 -1.532898  0.256036           4.147637                  2.0     0.965009   \n\n    xyac_fd     xpass    pass_oe  \n0       NaN       NaN        NaN  \n1       NaN       NaN        NaN  \n2       NaN  0.491433 -49.143299  \n3  0.125098  0.697346  30.265415  \n4  0.965009  0.978253   2.174652  \n\n[5 rows x 372 columns]",
      "text/html": "<div>\n<style scoped>\n    .dataframe tbody tr th:only-of-type {\n        vertical-align: middle;\n    }\n\n    .dataframe tbody tr th {\n        vertical-align: top;\n    }\n\n    .dataframe thead th {\n        text-align: right;\n    }\n</style>\n<table border=\"1\" class=\"dataframe\">\n  <thead>\n    <tr style=\"text-align: right;\">\n      <th></th>\n      <th>play_id</th>\n      <th>game_id</th>\n      <th>old_game_id</th>\n      <th>home_team</th>\n      <th>away_team</th>\n      <th>season_type</th>\n      <th>week</th>\n      <th>posteam</th>\n      <th>posteam_type</th>\n      <th>defteam</th>\n      <th>...</th>\n      <th>out_of_bounds</th>\n      <th>home_opening_kickoff</th>\n      <th>qb_epa</th>\n      <th>xyac_epa</th>\n      <th>xyac_mean_yardage</th>\n      <th>xyac_median_yardage</th>\n      <th>xyac_success</th>\n      <th>xyac_fd</th>\n      <th>xpass</th>\n      <th>pass_oe</th>\n    </tr>\n  </thead>\n  <tbody>\n    <tr>\n      <th>0</th>\n      <td>1</td>\n      <td>2021_01_ARI_TEN</td>\n      <td>2021091207</td>\n      <td>TEN</td>\n      <td>ARI</td>\n      <td>REG</td>\n      <td>1</td>\n      <td>NaN</td>\n      <td>NaN</td>\n      <td>NaN</td>\n      <td>...</td>\n      <td>0</td>\n      <td>1</td>\n      <td>0.000000</td>\n      <td>NaN</td>\n      <td>NaN</td>\n      <td>NaN</td>\n      <td>NaN</td>\n      <td>NaN</td>\n      <td>NaN</td>\n      <td>NaN</td>\n    </tr>\n    <tr>\n      <th>1</th>\n      <td>40</td>\n      <td>2021_01_ARI_TEN</td>\n      <td>2021091207</td>\n      <td>TEN</td>\n      <td>ARI</td>\n      <td>REG</td>\n      <td>1</td>\n      <td>TEN</td>\n      <td>home</td>\n      <td>ARI</td>\n      <td>...</td>\n      <td>0</td>\n      <td>1</td>\n      <td>0.000000</td>\n      <td>NaN</td>\n      <td>NaN</td>\n      <td>NaN</td>\n      <td>NaN</td>\n      <td>NaN</td>\n      <td>NaN</td>\n      <td>NaN</td>\n    </tr>\n    <tr>\n      <th>2</th>\n      <td>55</td>\n      <td>2021_01_ARI_TEN</td>\n      <td>2021091207</td>\n      <td>TEN</td>\n      <td>ARI</td>\n      <td>REG</td>\n      <td>1</td>\n      <td>TEN</td>\n      <td>home</td>\n      <td>ARI</td>\n      <td>...</td>\n      <td>0</td>\n      <td>1</td>\n      <td>-1.399805</td>\n      <td>NaN</td>\n      <td>NaN</td>\n      <td>NaN</td>\n      <td>NaN</td>\n      <td>NaN</td>\n      <td>0.491433</td>\n      <td>-49.143299</td>\n    </tr>\n    <tr>\n      <th>3</th>\n      <td>76</td>\n      <td>2021_01_ARI_TEN</td>\n      <td>2021091207</td>\n      <td>TEN</td>\n      <td>ARI</td>\n      <td>REG</td>\n      <td>1</td>\n      <td>TEN</td>\n      <td>home</td>\n      <td>ARI</td>\n      <td>...</td>\n      <td>0</td>\n      <td>1</td>\n      <td>0.032412</td>\n      <td>1.165133</td>\n      <td>5.803177</td>\n      <td>4.0</td>\n      <td>0.896654</td>\n      <td>0.125098</td>\n      <td>0.697346</td>\n      <td>30.265415</td>\n    </tr>\n    <tr>\n      <th>4</th>\n      <td>100</td>\n      <td>2021_01_ARI_TEN</td>\n      <td>2021091207</td>\n      <td>TEN</td>\n      <td>ARI</td>\n      <td>REG</td>\n      <td>1</td>\n      <td>TEN</td>\n      <td>home</td>\n      <td>ARI</td>\n      <td>...</td>\n      <td>0</td>\n      <td>1</td>\n      <td>-1.532898</td>\n      <td>0.256036</td>\n      <td>4.147637</td>\n      <td>2.0</td>\n      <td>0.965009</td>\n      <td>0.965009</td>\n      <td>0.978253</td>\n      <td>2.174652</td>\n    </tr>\n  </tbody>\n</table>\n<p>5 rows × 372 columns</p>\n</div>"
     },
     "execution_count": 4,
     "metadata": {},
     "output_type": "execute_result"
    }
   ],
   "source": [
    "pbp_df = pd.read_csv(\"../../output/playbyplay_2021.csv\", low_memory=False)\n",
    "pbp_df.head()"
   ],
   "metadata": {
    "collapsed": false,
    "ExecuteTime": {
     "end_time": "2023-06-27T03:25:08.919922Z",
     "start_time": "2023-06-27T03:25:07.326631Z"
    }
   }
  },
  {
   "cell_type": "code",
   "execution_count": null,
   "outputs": [],
   "source": [],
   "metadata": {
    "collapsed": false
   }
  },
  {
   "cell_type": "markdown",
   "source": [
    "## playByPlay + particicpation"
   ],
   "metadata": {
    "collapsed": false
   }
  },
  {
   "cell_type": "code",
   "execution_count": 5,
   "outputs": [
    {
     "name": "stdout",
     "output_type": "stream",
     "text": [
      "(50368, 15)\n",
      "(50712, 372)\n"
     ]
    }
   ],
   "source": [
    "print(participation_df.shape)\n",
    "print(pbp_df.shape)"
   ],
   "metadata": {
    "collapsed": false,
    "ExecuteTime": {
     "end_time": "2023-06-27T03:25:08.922093Z",
     "start_time": "2023-06-27T03:25:08.920116Z"
    }
   }
  },
  {
   "cell_type": "code",
   "execution_count": 6,
   "outputs": [],
   "source": [
    "from NFLVersReader.src.nflverse_clean.clean_player_stats import rename_pbp_columns, rename_pbp_participant_columns\n",
    "\n",
    "rename_pbp_columns(pbp_df)\n",
    "rename_pbp_participant_columns(participation_df)"
   ],
   "metadata": {
    "collapsed": false,
    "ExecuteTime": {
     "end_time": "2023-06-27T03:25:09.010993Z",
     "start_time": "2023-06-27T03:25:08.921923Z"
    }
   }
  },
  {
   "cell_type": "code",
   "execution_count": 7,
   "outputs": [
    {
     "name": "stdout",
     "output_type": "stream",
     "text": [
      "Missing participants:   fixed 176,  not fixed: 344\n",
      "both          50368\n",
      "left_only       344\n",
      "right_only        0\n",
      "Name: _merge, dtype: int64\n"
     ]
    }
   ],
   "source": [
    "from NFLVersReader.src.nflverse_clean.clean_player_stats import reconcile_join_keys\n",
    "\n"
   ],
   "metadata": {
    "collapsed": false,
    "ExecuteTime": {
     "end_time": "2023-06-27T03:25:11.147422Z",
     "start_time": "2023-06-27T03:25:08.987407Z"
    }
   }
  },
  {
   "cell_type": "code",
   "execution_count": 8,
   "outputs": [
    {
     "data": {
      "text/plain": "both          50368\nleft_only       344\nright_only        0\nName: _merge, dtype: int64"
     },
     "execution_count": 8,
     "metadata": {},
     "output_type": "execute_result"
    }
   ],
   "source": [
    "# pbp to participation is a 1 to 1 join\n",
    "#  the number of rows in the merged db\n",
    "merged_df = pd.merge(pbp_df, participation_df, left_on='play_id', right_on='play_id', how='outer', indicator=True, suffixes=('_new', '_prev'))\n",
    "merged_df = merged_df.copy()  # to cleanup the frame\n",
    "merged_df['_merge'].value_counts()"
   ],
   "metadata": {
    "collapsed": false,
    "ExecuteTime": {
     "end_time": "2023-06-27T03:25:11.676293Z",
     "start_time": "2023-06-27T03:25:11.147677Z"
    }
   }
  },
  {
   "cell_type": "code",
   "execution_count": 10,
   "outputs": [
    {
     "name": "stdout",
     "output_type": "stream",
     "text": [
      "WARNING (1: game_id_new    \n",
      "2021_17_NYG_CHI    173\n",
      "2021_06_GB_CHI     171\n",
      "dtype: int64\n"
     ]
    }
   ],
   "source": [
    "from NFLVersReader.src.nflverse_clean.utils import publish_warning\n",
    "\n",
    "msg = str(merged_df.loc[(merged_df['_merge'] == 'left_only'), ['game_id_new']].value_counts())\n",
    "publish_warning(msg, 1)"
   ],
   "metadata": {
    "collapsed": false,
    "ExecuteTime": {
     "end_time": "2023-06-27T03:25:27.990207Z",
     "start_time": "2023-06-27T03:25:27.983379Z"
    }
   }
  },
  {
   "cell_type": "markdown",
   "source": [
    "## EXPLODE player arrays a new play_id from game_id"
   ],
   "metadata": {
    "collapsed": false
   }
  },
  {
   "cell_type": "code",
   "execution_count": 4,
   "outputs": [
    {
     "data": {
      "text/plain": "   play_id offense_players\n0        1            None\n1       40      00-0033083\n1       40      00-0033512\n1       40      00-0034674\n1       40      00-0036882",
      "text/html": "<div>\n<style scoped>\n    .dataframe tbody tr th:only-of-type {\n        vertical-align: middle;\n    }\n\n    .dataframe tbody tr th {\n        vertical-align: top;\n    }\n\n    .dataframe thead th {\n        text-align: right;\n    }\n</style>\n<table border=\"1\" class=\"dataframe\">\n  <thead>\n    <tr style=\"text-align: right;\">\n      <th></th>\n      <th>play_id</th>\n      <th>offense_players</th>\n    </tr>\n  </thead>\n  <tbody>\n    <tr>\n      <th>0</th>\n      <td>1</td>\n      <td>None</td>\n    </tr>\n    <tr>\n      <th>1</th>\n      <td>40</td>\n      <td>00-0033083</td>\n    </tr>\n    <tr>\n      <th>1</th>\n      <td>40</td>\n      <td>00-0033512</td>\n    </tr>\n    <tr>\n      <th>1</th>\n      <td>40</td>\n      <td>00-0034674</td>\n    </tr>\n    <tr>\n      <th>1</th>\n      <td>40</td>\n      <td>00-0036882</td>\n    </tr>\n  </tbody>\n</table>\n</div>"
     },
     "execution_count": 4,
     "metadata": {},
     "output_type": "execute_result"
    }
   ],
   "source": [
    "offense_players = explode_column(participation_df, 'play_id', 'offense_players')\n",
    "offense_players.head()"
   ],
   "metadata": {
    "collapsed": false
   }
  },
  {
   "cell_type": "code",
   "execution_count": 5,
   "outputs": [
    {
     "data": {
      "text/plain": "   play_id defense_players\n0        1            None\n1       40      00-0036643\n1       40      00-0033595\n1       40      00-0034515\n1       40      00-0032637",
      "text/html": "<div>\n<style scoped>\n    .dataframe tbody tr th:only-of-type {\n        vertical-align: middle;\n    }\n\n    .dataframe tbody tr th {\n        vertical-align: top;\n    }\n\n    .dataframe thead th {\n        text-align: right;\n    }\n</style>\n<table border=\"1\" class=\"dataframe\">\n  <thead>\n    <tr style=\"text-align: right;\">\n      <th></th>\n      <th>play_id</th>\n      <th>defense_players</th>\n    </tr>\n  </thead>\n  <tbody>\n    <tr>\n      <th>0</th>\n      <td>1</td>\n      <td>None</td>\n    </tr>\n    <tr>\n      <th>1</th>\n      <td>40</td>\n      <td>00-0036643</td>\n    </tr>\n    <tr>\n      <th>1</th>\n      <td>40</td>\n      <td>00-0033595</td>\n    </tr>\n    <tr>\n      <th>1</th>\n      <td>40</td>\n      <td>00-0034515</td>\n    </tr>\n    <tr>\n      <th>1</th>\n      <td>40</td>\n      <td>00-0032637</td>\n    </tr>\n  </tbody>\n</table>\n</div>"
     },
     "execution_count": 5,
     "metadata": {},
     "output_type": "execute_result"
    }
   ],
   "source": [
    "defense_players = explode_column(participation_df, 'play_id', 'defense_players')\n",
    "defense_players.head()"
   ],
   "metadata": {
    "collapsed": false
   }
  },
  {
   "cell_type": "code",
   "execution_count": 6,
   "outputs": [
    {
     "data": {
      "text/plain": "   play_id players_on_play\n0        1            None\n1       40           43360\n1       40           44962\n1       40           53605\n1       40           45063",
      "text/html": "<div>\n<style scoped>\n    .dataframe tbody tr th:only-of-type {\n        vertical-align: middle;\n    }\n\n    .dataframe tbody tr th {\n        vertical-align: top;\n    }\n\n    .dataframe thead th {\n        text-align: right;\n    }\n</style>\n<table border=\"1\" class=\"dataframe\">\n  <thead>\n    <tr style=\"text-align: right;\">\n      <th></th>\n      <th>play_id</th>\n      <th>players_on_play</th>\n    </tr>\n  </thead>\n  <tbody>\n    <tr>\n      <th>0</th>\n      <td>1</td>\n      <td>None</td>\n    </tr>\n    <tr>\n      <th>1</th>\n      <td>40</td>\n      <td>43360</td>\n    </tr>\n    <tr>\n      <th>1</th>\n      <td>40</td>\n      <td>44962</td>\n    </tr>\n    <tr>\n      <th>1</th>\n      <td>40</td>\n      <td>53605</td>\n    </tr>\n    <tr>\n      <th>1</th>\n      <td>40</td>\n      <td>45063</td>\n    </tr>\n  </tbody>\n</table>\n</div>"
     },
     "execution_count": 6,
     "metadata": {},
     "output_type": "execute_result"
    }
   ],
   "source": [
    "pbp_players = explode_column(participation_df, 'play_id', 'players_on_play')\n",
    "pbp_players.head()"
   ],
   "metadata": {
    "collapsed": false
   }
  },
  {
   "cell_type": "code",
   "execution_count": null,
   "outputs": [],
   "source": [],
   "metadata": {
    "collapsed": false
   }
  }
 ],
 "metadata": {
  "kernelspec": {
   "display_name": "Python 3",
   "language": "python",
   "name": "python3"
  },
  "language_info": {
   "codemirror_mode": {
    "name": "ipython",
    "version": 2
   },
   "file_extension": ".py",
   "mimetype": "text/x-python",
   "name": "python",
   "nbconvert_exporter": "python",
   "pygments_lexer": "ipython2",
   "version": "2.7.6"
  }
 },
 "nbformat": 4,
 "nbformat_minor": 0
}
