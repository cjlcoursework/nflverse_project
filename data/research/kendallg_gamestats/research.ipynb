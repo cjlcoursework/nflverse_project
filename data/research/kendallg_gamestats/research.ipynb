{
 "cells": [
  {
   "cell_type": "code",
   "execution_count": 1,
   "metadata": {
    "collapsed": true,
    "ExecuteTime": {
     "end_time": "2023-07-02T01:38:41.456119Z",
     "start_time": "2023-07-02T01:38:41.076124Z"
    }
   },
   "outputs": [],
   "source": [
    "import pandas as pd"
   ]
  },
  {
   "cell_type": "code",
   "execution_count": 4,
   "outputs": [
    {
     "data": {
      "text/plain": "                   Player Id            Name Position  Year          Season  \\\n0         l.t.walton/2552444    Walton, L.T.       DE  2016       Preseason   \n1         l.t.walton/2552444    Walton, L.T.       DE  2016       Preseason   \n2         l.t.walton/2552444    Walton, L.T.       DE  2016       Preseason   \n3         l.t.walton/2552444    Walton, L.T.       DE  2016       Preseason   \n4         l.t.walton/2552444    Walton, L.T.       DE  2016  Regular Season   \n...                      ...             ...      ...   ...             ...   \n317594     j.d.folsom/238485    Folsom, J.D.      NaN  2009  Regular Season   \n317595     j.d.folsom/238485    Folsom, J.D.      NaN  2009  Regular Season   \n317596  byronjohnson/2517578  Johnson, Byron      NaN  1987  Regular Season   \n317597  byronjohnson/2517578  Johnson, Byron      NaN  1987  Regular Season   \n317598  byronjohnson/2517578  Johnson, Byron      NaN  1987  Regular Season   \n\n        Week Game Date Home or Away Opponent Outcome  ... Assisted Tackles  \\\n0          1     08/12         Home      DET       L  ...                0   \n1          2     08/18         Home      PHI       L  ...               --   \n2          3     08/26         Away       NO       W  ...               --   \n3          4     09/01         Away      CAR       L  ...                3   \n4          1     09/12         Away      WAS       W  ...               --   \n...      ...       ...          ...      ...     ...  ...              ...   \n317594     9     11/08         Away       NE       L  ...                0   \n317595    17     01/03         Home      PIT       L  ...               --   \n317596     3     10/04         Away      DEN       W  ...               --   \n317597     4     10/11         Away      CLE       W  ...               --   \n317598     5     10/18         Home       NE       L  ...               --   \n\n        Sacks Safties Passes Defended Ints Int Yards Yards Per Int  \\\n0         0.0      --               0   --        --           0.0   \n1          --      --              --   --        --           0.0   \n2          --      --              --   --        --           0.0   \n3         0.0      --               0   --        --           0.0   \n4          --      --              --   --        --           0.0   \n...       ...     ...             ...  ...       ...           ...   \n317594    0.0      --               0   --        --           0.0   \n317595     --      --              --   --        --           0.0   \n317596    2.0      --               0   --        --           0.0   \n317597     --      --              --   --        --           0.0   \n317598     --      --              --   --        --           0.0   \n\n       Longest Int Return Ints for TDs Forced Fumbles  \n0                      --           --              0  \n1                      --           --             --  \n2                      --           --             --  \n3                      --           --              0  \n4                      --           --             --  \n...                   ...          ...            ...  \n317594                 --           --              0  \n317595                 --           --             --  \n317596                 --           --              0  \n317597                 --           --             --  \n317598                 --           --             --  \n\n[317599 rows x 25 columns]",
      "text/html": "<div>\n<style scoped>\n    .dataframe tbody tr th:only-of-type {\n        vertical-align: middle;\n    }\n\n    .dataframe tbody tr th {\n        vertical-align: top;\n    }\n\n    .dataframe thead th {\n        text-align: right;\n    }\n</style>\n<table border=\"1\" class=\"dataframe\">\n  <thead>\n    <tr style=\"text-align: right;\">\n      <th></th>\n      <th>Player Id</th>\n      <th>Name</th>\n      <th>Position</th>\n      <th>Year</th>\n      <th>Season</th>\n      <th>Week</th>\n      <th>Game Date</th>\n      <th>Home or Away</th>\n      <th>Opponent</th>\n      <th>Outcome</th>\n      <th>...</th>\n      <th>Assisted Tackles</th>\n      <th>Sacks</th>\n      <th>Safties</th>\n      <th>Passes Defended</th>\n      <th>Ints</th>\n      <th>Int Yards</th>\n      <th>Yards Per Int</th>\n      <th>Longest Int Return</th>\n      <th>Ints for TDs</th>\n      <th>Forced Fumbles</th>\n    </tr>\n  </thead>\n  <tbody>\n    <tr>\n      <th>0</th>\n      <td>l.t.walton/2552444</td>\n      <td>Walton, L.T.</td>\n      <td>DE</td>\n      <td>2016</td>\n      <td>Preseason</td>\n      <td>1</td>\n      <td>08/12</td>\n      <td>Home</td>\n      <td>DET</td>\n      <td>L</td>\n      <td>...</td>\n      <td>0</td>\n      <td>0.0</td>\n      <td>--</td>\n      <td>0</td>\n      <td>--</td>\n      <td>--</td>\n      <td>0.0</td>\n      <td>--</td>\n      <td>--</td>\n      <td>0</td>\n    </tr>\n    <tr>\n      <th>1</th>\n      <td>l.t.walton/2552444</td>\n      <td>Walton, L.T.</td>\n      <td>DE</td>\n      <td>2016</td>\n      <td>Preseason</td>\n      <td>2</td>\n      <td>08/18</td>\n      <td>Home</td>\n      <td>PHI</td>\n      <td>L</td>\n      <td>...</td>\n      <td>--</td>\n      <td>--</td>\n      <td>--</td>\n      <td>--</td>\n      <td>--</td>\n      <td>--</td>\n      <td>0.0</td>\n      <td>--</td>\n      <td>--</td>\n      <td>--</td>\n    </tr>\n    <tr>\n      <th>2</th>\n      <td>l.t.walton/2552444</td>\n      <td>Walton, L.T.</td>\n      <td>DE</td>\n      <td>2016</td>\n      <td>Preseason</td>\n      <td>3</td>\n      <td>08/26</td>\n      <td>Away</td>\n      <td>NO</td>\n      <td>W</td>\n      <td>...</td>\n      <td>--</td>\n      <td>--</td>\n      <td>--</td>\n      <td>--</td>\n      <td>--</td>\n      <td>--</td>\n      <td>0.0</td>\n      <td>--</td>\n      <td>--</td>\n      <td>--</td>\n    </tr>\n    <tr>\n      <th>3</th>\n      <td>l.t.walton/2552444</td>\n      <td>Walton, L.T.</td>\n      <td>DE</td>\n      <td>2016</td>\n      <td>Preseason</td>\n      <td>4</td>\n      <td>09/01</td>\n      <td>Away</td>\n      <td>CAR</td>\n      <td>L</td>\n      <td>...</td>\n      <td>3</td>\n      <td>0.0</td>\n      <td>--</td>\n      <td>0</td>\n      <td>--</td>\n      <td>--</td>\n      <td>0.0</td>\n      <td>--</td>\n      <td>--</td>\n      <td>0</td>\n    </tr>\n    <tr>\n      <th>4</th>\n      <td>l.t.walton/2552444</td>\n      <td>Walton, L.T.</td>\n      <td>DE</td>\n      <td>2016</td>\n      <td>Regular Season</td>\n      <td>1</td>\n      <td>09/12</td>\n      <td>Away</td>\n      <td>WAS</td>\n      <td>W</td>\n      <td>...</td>\n      <td>--</td>\n      <td>--</td>\n      <td>--</td>\n      <td>--</td>\n      <td>--</td>\n      <td>--</td>\n      <td>0.0</td>\n      <td>--</td>\n      <td>--</td>\n      <td>--</td>\n    </tr>\n    <tr>\n      <th>...</th>\n      <td>...</td>\n      <td>...</td>\n      <td>...</td>\n      <td>...</td>\n      <td>...</td>\n      <td>...</td>\n      <td>...</td>\n      <td>...</td>\n      <td>...</td>\n      <td>...</td>\n      <td>...</td>\n      <td>...</td>\n      <td>...</td>\n      <td>...</td>\n      <td>...</td>\n      <td>...</td>\n      <td>...</td>\n      <td>...</td>\n      <td>...</td>\n      <td>...</td>\n      <td>...</td>\n    </tr>\n    <tr>\n      <th>317594</th>\n      <td>j.d.folsom/238485</td>\n      <td>Folsom, J.D.</td>\n      <td>NaN</td>\n      <td>2009</td>\n      <td>Regular Season</td>\n      <td>9</td>\n      <td>11/08</td>\n      <td>Away</td>\n      <td>NE</td>\n      <td>L</td>\n      <td>...</td>\n      <td>0</td>\n      <td>0.0</td>\n      <td>--</td>\n      <td>0</td>\n      <td>--</td>\n      <td>--</td>\n      <td>0.0</td>\n      <td>--</td>\n      <td>--</td>\n      <td>0</td>\n    </tr>\n    <tr>\n      <th>317595</th>\n      <td>j.d.folsom/238485</td>\n      <td>Folsom, J.D.</td>\n      <td>NaN</td>\n      <td>2009</td>\n      <td>Regular Season</td>\n      <td>17</td>\n      <td>01/03</td>\n      <td>Home</td>\n      <td>PIT</td>\n      <td>L</td>\n      <td>...</td>\n      <td>--</td>\n      <td>--</td>\n      <td>--</td>\n      <td>--</td>\n      <td>--</td>\n      <td>--</td>\n      <td>0.0</td>\n      <td>--</td>\n      <td>--</td>\n      <td>--</td>\n    </tr>\n    <tr>\n      <th>317596</th>\n      <td>byronjohnson/2517578</td>\n      <td>Johnson, Byron</td>\n      <td>NaN</td>\n      <td>1987</td>\n      <td>Regular Season</td>\n      <td>3</td>\n      <td>10/04</td>\n      <td>Away</td>\n      <td>DEN</td>\n      <td>W</td>\n      <td>...</td>\n      <td>--</td>\n      <td>2.0</td>\n      <td>--</td>\n      <td>0</td>\n      <td>--</td>\n      <td>--</td>\n      <td>0.0</td>\n      <td>--</td>\n      <td>--</td>\n      <td>0</td>\n    </tr>\n    <tr>\n      <th>317597</th>\n      <td>byronjohnson/2517578</td>\n      <td>Johnson, Byron</td>\n      <td>NaN</td>\n      <td>1987</td>\n      <td>Regular Season</td>\n      <td>4</td>\n      <td>10/11</td>\n      <td>Away</td>\n      <td>CLE</td>\n      <td>W</td>\n      <td>...</td>\n      <td>--</td>\n      <td>--</td>\n      <td>--</td>\n      <td>--</td>\n      <td>--</td>\n      <td>--</td>\n      <td>0.0</td>\n      <td>--</td>\n      <td>--</td>\n      <td>--</td>\n    </tr>\n    <tr>\n      <th>317598</th>\n      <td>byronjohnson/2517578</td>\n      <td>Johnson, Byron</td>\n      <td>NaN</td>\n      <td>1987</td>\n      <td>Regular Season</td>\n      <td>5</td>\n      <td>10/18</td>\n      <td>Home</td>\n      <td>NE</td>\n      <td>L</td>\n      <td>...</td>\n      <td>--</td>\n      <td>--</td>\n      <td>--</td>\n      <td>--</td>\n      <td>--</td>\n      <td>--</td>\n      <td>0.0</td>\n      <td>--</td>\n      <td>--</td>\n      <td>--</td>\n    </tr>\n  </tbody>\n</table>\n<p>317599 rows × 25 columns</p>\n</div>"
     },
     "execution_count": 4,
     "metadata": {},
     "output_type": "execute_result"
    }
   ],
   "source": [
    "df= pd.read_csv(\"Game_Logs_Defensive_Lineman.csv\")\n",
    "df"
   ],
   "metadata": {
    "collapsed": false,
    "ExecuteTime": {
     "end_time": "2023-07-02T01:39:46.775302Z",
     "start_time": "2023-07-02T01:39:46.133653Z"
    }
   }
  },
  {
   "cell_type": "code",
   "execution_count": 2,
   "outputs": [],
   "source": [],
   "metadata": {
    "collapsed": false,
    "ExecuteTime": {
     "end_time": "2023-07-02T01:38:41.510514Z",
     "start_time": "2023-07-02T01:38:41.509110Z"
    }
   }
  }
 ],
 "metadata": {
  "kernelspec": {
   "display_name": "Python 3",
   "language": "python",
   "name": "python3"
  },
  "language_info": {
   "codemirror_mode": {
    "name": "ipython",
    "version": 2
   },
   "file_extension": ".py",
   "mimetype": "text/x-python",
   "name": "python",
   "nbconvert_exporter": "python",
   "pygments_lexer": "ipython2",
   "version": "2.7.6"
  }
 },
 "nbformat": 4,
 "nbformat_minor": 0
}
